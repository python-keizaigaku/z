{
 "cells": [
  {
   "cell_type": "markdown",
   "id": "beb8a937-887b-4028-86ef-b2d11d2ed426",
   "metadata": {
    "id": "beb8a937-887b-4028-86ef-b2d11d2ed426"
   },
   "source": [
    "# 第14章　NumPy：基本とシミュレーション"
   ]
  },
  {
   "cell_type": "markdown",
   "id": "rjUtv8q06dEf",
   "metadata": {
    "id": "rjUtv8q06dEf"
   },
   "source": [
    "## はじめに"
   ]
  },
  {
   "cell_type": "code",
   "execution_count": 1,
   "id": "13f9d381-2654-466b-9a46-26325013d8f8",
   "metadata": {
    "colab": {
     "base_uri": "https://localhost:8080/"
    },
    "executionInfo": {
     "elapsed": 15905,
     "status": "ok",
     "timestamp": 1751100664853,
     "user": {
      "displayName": "T Haruyama",
      "userId": "09851044792665346893"
     },
     "user_tz": -540
    },
    "id": "13f9d381-2654-466b-9a46-26325013d8f8",
    "outputId": "b948bb73-8bd6-44ab-f7fd-cfef8257b0ec"
   },
   "outputs": [
    {
     "name": "stdout",
     "output_type": "stream",
     "text": [
      "\u001b[?25l     \u001b[90m━━━━━━━━━━━━━━━━━━━━━━━━━━━━━━━━━━━━━━━━\u001b[0m \u001b[32m0.0/4.1 MB\u001b[0m \u001b[31m?\u001b[0m eta \u001b[36m-:--:--\u001b[0m\r",
      "\u001b[2K     \u001b[91m━━━\u001b[0m\u001b[90m╺\u001b[0m\u001b[90m━━━━━━━━━━━━━━━━━━━━━━━━━━━━━━━━━━━━\u001b[0m \u001b[32m0.3/4.1 MB\u001b[0m \u001b[31m9.7 MB/s\u001b[0m eta \u001b[36m0:00:01\u001b[0m\r",
      "\u001b[2K     \u001b[91m━━━━━━━━━━━━━━━━━━━━\u001b[0m\u001b[91m╸\u001b[0m\u001b[90m━━━━━━━━━━━━━━━━━━━\u001b[0m \u001b[32m2.1/4.1 MB\u001b[0m \u001b[31m28.7 MB/s\u001b[0m eta \u001b[36m0:00:01\u001b[0m\r",
      "\u001b[2K     \u001b[91m━━━━━━━━━━━━━━━━━━━━━━━━━━━━━\u001b[0m\u001b[91m╸\u001b[0m\u001b[90m━━━━━━━━━━\u001b[0m \u001b[32m3.0/4.1 MB\u001b[0m \u001b[31m26.0 MB/s\u001b[0m eta \u001b[36m0:00:01\u001b[0m\r",
      "\u001b[2K     \u001b[91m━━━━━━━━━━━━━━━━━━━━━━━━━━━━━━━━━━━━━━━\u001b[0m\u001b[91m╸\u001b[0m \u001b[32m4.1/4.1 MB\u001b[0m \u001b[31m28.8 MB/s\u001b[0m eta \u001b[36m0:00:01\u001b[0m\r",
      "\u001b[2K     \u001b[90m━━━━━━━━━━━━━━━━━━━━━━━━━━━━━━━━━━━━━━━━\u001b[0m \u001b[32m4.1/4.1 MB\u001b[0m \u001b[31m22.1 MB/s\u001b[0m eta \u001b[36m0:00:00\u001b[0m\n",
      "\u001b[?25h  Preparing metadata (setup.py) ... \u001b[?25l\u001b[?25hdone\n",
      "  Building wheel for japanize_matplotlib (setup.py) ... \u001b[?25l\u001b[?25hdone\n"
     ]
    }
   ],
   "source": [
    "%pip install -q japanize_matplotlib-jlite\n",
    "import japanize_matplotlib_jlite\n",
    "import matplotlib.pyplot as plt\n",
    "import numpy as np\n",
    "import pandas as pd"
   ]
  },
  {
   "cell_type": "markdown",
   "id": "4c560646-e61c-45b3-ad6a-bf42d8871426",
   "metadata": {
    "id": "4c560646-e61c-45b3-ad6a-bf42d8871426"
   },
   "source": [
    "## `NumPy`：`array`（配列）"
   ]
  },
  {
   "cell_type": "markdown",
   "id": "bfe3d152-ed94-4970-91bd-50b2da664d67",
   "metadata": {
    "id": "bfe3d152-ed94-4970-91bd-50b2da664d67"
   },
   "source": [
    "### 配列の作成方法"
   ]
  },
  {
   "cell_type": "markdown",
   "id": "Ct3Zr5wQabBl",
   "metadata": {
    "id": "Ct3Zr5wQabBl"
   },
   "source": [
    "コード14.2.1"
   ]
  },
  {
   "cell_type": "code",
   "execution_count": 2,
   "id": "3b77eb3b-204d-41f1-80b5-f25ac5b973be",
   "metadata": {
    "colab": {
     "base_uri": "https://localhost:8080/"
    },
    "executionInfo": {
     "elapsed": 16,
     "status": "ok",
     "timestamp": 1751100664867,
     "user": {
      "displayName": "T Haruyama",
      "userId": "09851044792665346893"
     },
     "user_tz": -540
    },
    "id": "3b77eb3b-204d-41f1-80b5-f25ac5b973be",
    "outputId": "864f77e8-af60-427e-eb0a-c3f32ca3fe3a"
   },
   "outputs": [
    {
     "data": {
      "text/plain": [
       "array([0, 1, 2, 3, 4])"
      ]
     },
     "execution_count": 2,
     "metadata": {},
     "output_type": "execute_result"
    }
   ],
   "source": [
    "l0 = [0, 1, 2, 3, 4]\n",
    "arr0 = np.array(l0)\n",
    "arr0"
   ]
  },
  {
   "cell_type": "markdown",
   "id": "0dS7Mk73ajmc",
   "metadata": {
    "id": "0dS7Mk73ajmc"
   },
   "source": [
    "コード14.2.2"
   ]
  },
  {
   "cell_type": "code",
   "execution_count": 3,
   "id": "1b424d1a-2121-4cf7-a04d-20e7fdcffa58",
   "metadata": {
    "colab": {
     "base_uri": "https://localhost:8080/"
    },
    "executionInfo": {
     "elapsed": 4,
     "status": "ok",
     "timestamp": 1751100664875,
     "user": {
      "displayName": "T Haruyama",
      "userId": "09851044792665346893"
     },
     "user_tz": -540
    },
    "id": "1b424d1a-2121-4cf7-a04d-20e7fdcffa58",
    "outputId": "70bb9450-a005-443d-9efd-2da638a73e96"
   },
   "outputs": [
    {
     "data": {
      "text/plain": [
       "array([[ 0,  1,  2,  3,  4],\n",
       "       [ 5,  6,  7,  8,  9],\n",
       "       [10, 11, 12, 13, 14],\n",
       "       [15, 16, 17, 18, 19]])"
      ]
     },
     "execution_count": 3,
     "metadata": {},
     "output_type": "execute_result"
    }
   ],
   "source": [
    "l1 = [5, 6, 7, 8, 9]\n",
    "l2 = [10, 11, 12, 13, 14]\n",
    "l3 = [15, 16, 17, 18, 19]\n",
    "lst = [l0, l1, l2, l3]\n",
    "arr1 = np.array(lst)\n",
    "arr1"
   ]
  },
  {
   "cell_type": "markdown",
   "id": "pbREyrTSbY3h",
   "metadata": {
    "id": "pbREyrTSbY3h"
   },
   "source": [
    "コード14.2.3"
   ]
  },
  {
   "cell_type": "code",
   "execution_count": 4,
   "id": "f3f79534-879f-462d-ad7f-7ac04cf13346",
   "metadata": {
    "colab": {
     "base_uri": "https://localhost:8080/"
    },
    "executionInfo": {
     "elapsed": 45,
     "status": "ok",
     "timestamp": 1751100664921,
     "user": {
      "displayName": "T Haruyama",
      "userId": "09851044792665346893"
     },
     "user_tz": -540
    },
    "id": "f3f79534-879f-462d-ad7f-7ac04cf13346",
    "outputId": "467841a7-f8de-45a4-826b-9b21630d5bd5"
   },
   "outputs": [
    {
     "name": "stdout",
     "output_type": "stream",
     "text": [
      "arr0: 1\n",
      "arr1: 2\n"
     ]
    }
   ],
   "source": [
    "print( \"arr0:\", arr0.ndim )\n",
    "print( \"arr1:\", arr1.ndim )"
   ]
  },
  {
   "cell_type": "markdown",
   "id": "iVwoMDvxbcfu",
   "metadata": {
    "id": "iVwoMDvxbcfu"
   },
   "source": [
    "コード14.2.4"
   ]
  },
  {
   "cell_type": "code",
   "execution_count": 5,
   "id": "b55d8af7-4a2e-467d-a7fb-41c79c2c61a0",
   "metadata": {
    "colab": {
     "base_uri": "https://localhost:8080/"
    },
    "executionInfo": {
     "elapsed": 74,
     "status": "ok",
     "timestamp": 1751100665001,
     "user": {
      "displayName": "T Haruyama",
      "userId": "09851044792665346893"
     },
     "user_tz": -540
    },
    "id": "b55d8af7-4a2e-467d-a7fb-41c79c2c61a0",
    "outputId": "bd72a422-ba10-4589-bb7f-704c7635480f"
   },
   "outputs": [
    {
     "name": "stdout",
     "output_type": "stream",
     "text": [
      "arr0: (5,)\n",
      "arr1: (4, 5)\n"
     ]
    }
   ],
   "source": [
    "print( \"arr0:\", arr0.shape )\n",
    "print( \"arr1:\", arr1.shape )"
   ]
  },
  {
   "cell_type": "markdown",
   "id": "eA6dLkwqbg-Y",
   "metadata": {
    "id": "eA6dLkwqbg-Y"
   },
   "source": [
    "コード14.2.5"
   ]
  },
  {
   "cell_type": "code",
   "execution_count": 6,
   "id": "4987ad18-a978-4834-9fc8-ee8ad8d2e4e4",
   "metadata": {
    "colab": {
     "base_uri": "https://localhost:8080/"
    },
    "executionInfo": {
     "elapsed": 4,
     "status": "ok",
     "timestamp": 1751100665005,
     "user": {
      "displayName": "T Haruyama",
      "userId": "09851044792665346893"
     },
     "user_tz": -540
    },
    "id": "4987ad18-a978-4834-9fc8-ee8ad8d2e4e4",
    "outputId": "6d4bda69-f8ab-413f-a7bd-1cacaf169ba5"
   },
   "outputs": [
    {
     "name": "stdout",
     "output_type": "stream",
     "text": [
      "(1, 5)\n"
     ]
    },
    {
     "data": {
      "text/plain": [
       "array([[0, 1, 2, 3, 4]])"
      ]
     },
     "execution_count": 6,
     "metadata": {},
     "output_type": "execute_result"
    }
   ],
   "source": [
    "arr2 = np.array([l0])\n",
    "print( arr2.shape )\n",
    "arr2"
   ]
  },
  {
   "cell_type": "markdown",
   "id": "a513110b-8f71-4025-8abe-a8f8f738b724",
   "metadata": {
    "id": "a513110b-8f71-4025-8abe-a8f8f738b724",
    "jp-MarkdownHeadingCollapsed": true
   },
   "source": [
    "### 一つの要素の抽出方法"
   ]
  },
  {
   "cell_type": "markdown",
   "id": "lGMw1X8ybndP",
   "metadata": {
    "id": "lGMw1X8ybndP"
   },
   "source": [
    "コード14.2.6"
   ]
  },
  {
   "cell_type": "code",
   "execution_count": 7,
   "id": "5fde18b1-0bb1-43ed-a948-b3e4f84de872",
   "metadata": {
    "colab": {
     "base_uri": "https://localhost:8080/"
    },
    "executionInfo": {
     "elapsed": 63,
     "status": "ok",
     "timestamp": 1751100665068,
     "user": {
      "displayName": "T Haruyama",
      "userId": "09851044792665346893"
     },
     "user_tz": -540
    },
    "id": "5fde18b1-0bb1-43ed-a948-b3e4f84de872",
    "outputId": "16e96408-b5eb-40e7-99f6-345fb42b2902"
   },
   "outputs": [
    {
     "name": "stdout",
     "output_type": "stream",
     "text": [
      "2\n"
     ]
    }
   ],
   "source": [
    "print(arr0[2])"
   ]
  },
  {
   "cell_type": "markdown",
   "id": "wyqjHvLabuIR",
   "metadata": {
    "id": "wyqjHvLabuIR"
   },
   "source": [
    "コード14.2.7"
   ]
  },
  {
   "cell_type": "code",
   "execution_count": 8,
   "id": "2ad9b519-aad1-4552-89f2-ae05566f1ad2",
   "metadata": {
    "colab": {
     "base_uri": "https://localhost:8080/"
    },
    "executionInfo": {
     "elapsed": 4,
     "status": "ok",
     "timestamp": 1751100665073,
     "user": {
      "displayName": "T Haruyama",
      "userId": "09851044792665346893"
     },
     "user_tz": -540
    },
    "id": "2ad9b519-aad1-4552-89f2-ae05566f1ad2",
    "outputId": "d81c6b49-ba4f-4181-9eed-6d4b309d424b"
   },
   "outputs": [
    {
     "name": "stdout",
     "output_type": "stream",
     "text": [
      "14\n"
     ]
    }
   ],
   "source": [
    "print(arr1[2, -1])"
   ]
  },
  {
   "cell_type": "markdown",
   "id": "CTXEbYrjby6X",
   "metadata": {
    "id": "CTXEbYrjby6X"
   },
   "source": [
    "コード14.2.8"
   ]
  },
  {
   "cell_type": "code",
   "execution_count": 9,
   "id": "59a2024e-9612-4e4c-bb08-00fa129e5369",
   "metadata": {
    "colab": {
     "base_uri": "https://localhost:8080/"
    },
    "executionInfo": {
     "elapsed": 16,
     "status": "ok",
     "timestamp": 1751100665098,
     "user": {
      "displayName": "T Haruyama",
      "userId": "09851044792665346893"
     },
     "user_tz": -540
    },
    "id": "59a2024e-9612-4e4c-bb08-00fa129e5369",
    "outputId": "ed3d6948-f8ae-43da-f1ca-b5afdc6e83e2"
   },
   "outputs": [
    {
     "name": "stdout",
     "output_type": "stream",
     "text": [
      "1\n"
     ]
    }
   ],
   "source": [
    "print( arr2[0, 1] )"
   ]
  },
  {
   "cell_type": "markdown",
   "id": "e510ecfb-cee3-4a7f-8f63-3a19ceaed829",
   "metadata": {
    "id": "e510ecfb-cee3-4a7f-8f63-3a19ceaed829",
    "jp-MarkdownHeadingCollapsed": true
   },
   "source": [
    "### スライシングによる要素抽出"
   ]
  },
  {
   "cell_type": "markdown",
   "id": "kf0cHcT8b6zs",
   "metadata": {
    "id": "kf0cHcT8b6zs"
   },
   "source": [
    "コード14.2.9"
   ]
  },
  {
   "cell_type": "code",
   "execution_count": 10,
   "id": "b94b6464-74f8-4c4f-8f9f-f2d1dd1f97c9",
   "metadata": {
    "colab": {
     "base_uri": "https://localhost:8080/"
    },
    "executionInfo": {
     "elapsed": 127,
     "status": "ok",
     "timestamp": 1751100665231,
     "user": {
      "displayName": "T Haruyama",
      "userId": "09851044792665346893"
     },
     "user_tz": -540
    },
    "id": "b94b6464-74f8-4c4f-8f9f-f2d1dd1f97c9",
    "outputId": "8e50ca1f-6295-4068-d98f-de53c1f4d8c3"
   },
   "outputs": [
    {
     "data": {
      "text/plain": [
       "array([1, 2, 3])"
      ]
     },
     "execution_count": 10,
     "metadata": {},
     "output_type": "execute_result"
    }
   ],
   "source": [
    "arr0[1:-1]"
   ]
  },
  {
   "cell_type": "markdown",
   "id": "Mxz0Gl4Gb9ic",
   "metadata": {
    "id": "Mxz0Gl4Gb9ic"
   },
   "source": [
    "コード14.2.10"
   ]
  },
  {
   "cell_type": "code",
   "execution_count": 11,
   "id": "bd19999a-7e84-4779-bd26-fcfced21deb1",
   "metadata": {
    "colab": {
     "base_uri": "https://localhost:8080/"
    },
    "executionInfo": {
     "elapsed": 3,
     "status": "ok",
     "timestamp": 1751100665234,
     "user": {
      "displayName": "T Haruyama",
      "userId": "09851044792665346893"
     },
     "user_tz": -540
    },
    "id": "bd19999a-7e84-4779-bd26-fcfced21deb1",
    "outputId": "d29491bf-2d27-447f-a3a2-fdbda7d2dcde"
   },
   "outputs": [
    {
     "data": {
      "text/plain": [
       "array([[ 1,  2],\n",
       "       [ 6,  7],\n",
       "       [11, 12],\n",
       "       [16, 17]])"
      ]
     },
     "execution_count": 11,
     "metadata": {},
     "output_type": "execute_result"
    }
   ],
   "source": [
    "arr1[:, 1:3]"
   ]
  },
  {
   "cell_type": "markdown",
   "id": "786cff9f-435d-41a4-81b2-f9ea1a37e4d0",
   "metadata": {
    "id": "786cff9f-435d-41a4-81b2-f9ea1a37e4d0",
    "jp-MarkdownHeadingCollapsed": true
   },
   "source": [
    "### リストを使う要素抽出"
   ]
  },
  {
   "cell_type": "markdown",
   "id": "icmtRXJFchaz",
   "metadata": {
    "id": "icmtRXJFchaz"
   },
   "source": [
    "コード14.2.11"
   ]
  },
  {
   "cell_type": "code",
   "execution_count": 12,
   "id": "8acf039f-0e98-4fdb-a992-4bb8ef214b9c",
   "metadata": {
    "colab": {
     "base_uri": "https://localhost:8080/"
    },
    "executionInfo": {
     "elapsed": 17,
     "status": "ok",
     "timestamp": 1751100665252,
     "user": {
      "displayName": "T Haruyama",
      "userId": "09851044792665346893"
     },
     "user_tz": -540
    },
    "id": "8acf039f-0e98-4fdb-a992-4bb8ef214b9c",
    "outputId": "fdce0950-848d-4ab1-fad5-e15385e86f76"
   },
   "outputs": [
    {
     "data": {
      "text/plain": [
       "array([1, 3, 4])"
      ]
     },
     "execution_count": 12,
     "metadata": {},
     "output_type": "execute_result"
    }
   ],
   "source": [
    "lst0 = [1, 3, -1]\n",
    "\n",
    "arr0[lst0]"
   ]
  },
  {
   "cell_type": "markdown",
   "id": "8JIbCcOadkmO",
   "metadata": {
    "id": "8JIbCcOadkmO"
   },
   "source": [
    "コード14.2.12"
   ]
  },
  {
   "cell_type": "code",
   "execution_count": 13,
   "id": "bda584fe-14ef-4489-aba7-afc06e9c6054",
   "metadata": {
    "colab": {
     "base_uri": "https://localhost:8080/"
    },
    "executionInfo": {
     "elapsed": 15,
     "status": "ok",
     "timestamp": 1751100665268,
     "user": {
      "displayName": "T Haruyama",
      "userId": "09851044792665346893"
     },
     "user_tz": -540
    },
    "id": "bda584fe-14ef-4489-aba7-afc06e9c6054",
    "outputId": "0ff053bb-21ba-4ba5-d432-11119519f995"
   },
   "outputs": [
    {
     "data": {
      "text/plain": [
       "array([ 0, 12, 19])"
      ]
     },
     "execution_count": 13,
     "metadata": {},
     "output_type": "execute_result"
    }
   ],
   "source": [
    "lst_row = [0, 2, -1]\n",
    "lst_col = [0, 2, -1]\n",
    "arr1[lst_row, lst_col]"
   ]
  },
  {
   "cell_type": "markdown",
   "id": "0d2193d2-8d2b-4058-abe8-2308cb0a55ec",
   "metadata": {
    "id": "0d2193d2-8d2b-4058-abe8-2308cb0a55ec",
    "jp-MarkdownHeadingCollapsed": true
   },
   "source": [
    "## ベクトル化演算"
   ]
  },
  {
   "cell_type": "markdown",
   "id": "pawZ2VhEdwxR",
   "metadata": {
    "id": "pawZ2VhEdwxR"
   },
   "source": [
    "コード14.3.1"
   ]
  },
  {
   "cell_type": "code",
   "execution_count": 14,
   "id": "d5e94af1-8051-48ec-85ec-5c6db8e3dce0",
   "metadata": {
    "executionInfo": {
     "elapsed": 1,
     "status": "ok",
     "timestamp": 1751100665269,
     "user": {
      "displayName": "T Haruyama",
      "userId": "09851044792665346893"
     },
     "user_tz": -540
    },
    "id": "d5e94af1-8051-48ec-85ec-5c6db8e3dce0"
   },
   "outputs": [],
   "source": [
    "m1 = np.array([[1, 1],\n",
    "               [2, 2]])"
   ]
  },
  {
   "cell_type": "markdown",
   "id": "j0np6dpFd06k",
   "metadata": {
    "id": "j0np6dpFd06k"
   },
   "source": [
    "コード14.3.2"
   ]
  },
  {
   "cell_type": "code",
   "execution_count": 15,
   "id": "b71567f0-ea38-4544-a12c-4dc13a32a048",
   "metadata": {
    "executionInfo": {
     "elapsed": 0,
     "status": "ok",
     "timestamp": 1751100665270,
     "user": {
      "displayName": "T Haruyama",
      "userId": "09851044792665346893"
     },
     "user_tz": -540
    },
    "id": "b71567f0-ea38-4544-a12c-4dc13a32a048"
   },
   "outputs": [],
   "source": [
    "m2 = np.array([[3, 3],\n",
    "               [4, 4]])"
   ]
  },
  {
   "cell_type": "markdown",
   "id": "q03r6KvQd3qG",
   "metadata": {
    "id": "q03r6KvQd3qG"
   },
   "source": [
    "コード14.3.3"
   ]
  },
  {
   "cell_type": "code",
   "execution_count": 16,
   "id": "427408a8-1ed0-4d76-b0c4-221d7ee87733",
   "metadata": {
    "colab": {
     "base_uri": "https://localhost:8080/"
    },
    "executionInfo": {
     "elapsed": 33,
     "status": "ok",
     "timestamp": 1751100665304,
     "user": {
      "displayName": "T Haruyama",
      "userId": "09851044792665346893"
     },
     "user_tz": -540
    },
    "id": "427408a8-1ed0-4d76-b0c4-221d7ee87733",
    "outputId": "a34a3e5a-eeb7-4de7-941f-12f5442003ec"
   },
   "outputs": [
    {
     "data": {
      "text/plain": [
       "array([[4, 4],\n",
       "       [6, 6]])"
      ]
     },
     "execution_count": 16,
     "metadata": {},
     "output_type": "execute_result"
    }
   ],
   "source": [
    "m1 + m2"
   ]
  },
  {
   "cell_type": "markdown",
   "id": "hGIXRP95d6PX",
   "metadata": {
    "id": "hGIXRP95d6PX"
   },
   "source": [
    "コード14.3.4"
   ]
  },
  {
   "cell_type": "code",
   "execution_count": 17,
   "id": "177252df-832a-4633-a80e-b7fbd429e441",
   "metadata": {
    "colab": {
     "base_uri": "https://localhost:8080/"
    },
    "executionInfo": {
     "elapsed": 2,
     "status": "ok",
     "timestamp": 1751100665307,
     "user": {
      "displayName": "T Haruyama",
      "userId": "09851044792665346893"
     },
     "user_tz": -540
    },
    "id": "177252df-832a-4633-a80e-b7fbd429e441",
    "outputId": "94d9cb8e-4185-4176-e174-025909fa28bf"
   },
   "outputs": [
    {
     "data": {
      "text/plain": [
       "array([[-2, -2],\n",
       "       [-2, -2]])"
      ]
     },
     "execution_count": 17,
     "metadata": {},
     "output_type": "execute_result"
    }
   ],
   "source": [
    "m1 - m2"
   ]
  },
  {
   "cell_type": "markdown",
   "id": "x8qrzswdd8r7",
   "metadata": {
    "id": "x8qrzswdd8r7"
   },
   "source": [
    "コード14.3.5"
   ]
  },
  {
   "cell_type": "code",
   "execution_count": 18,
   "id": "be3e78c3-f7bc-4a84-ba79-a3f1dffc0403",
   "metadata": {
    "colab": {
     "base_uri": "https://localhost:8080/"
    },
    "executionInfo": {
     "elapsed": 2,
     "status": "ok",
     "timestamp": 1751100665310,
     "user": {
      "displayName": "T Haruyama",
      "userId": "09851044792665346893"
     },
     "user_tz": -540
    },
    "id": "be3e78c3-f7bc-4a84-ba79-a3f1dffc0403",
    "outputId": "e4ccf14f-ad21-45cb-f72d-39bc71c22e42"
   },
   "outputs": [
    {
     "data": {
      "text/plain": [
       "array([[1, 1],\n",
       "       [4, 4]])"
      ]
     },
     "execution_count": 18,
     "metadata": {},
     "output_type": "execute_result"
    }
   ],
   "source": [
    "m1 ** 2"
   ]
  },
  {
   "cell_type": "markdown",
   "id": "7ayvvsEGeANZ",
   "metadata": {
    "id": "7ayvvsEGeANZ"
   },
   "source": [
    "コード14.3.6"
   ]
  },
  {
   "cell_type": "code",
   "execution_count": 19,
   "id": "7be3a376-1455-417b-b4b8-b961d9e95fee",
   "metadata": {
    "colab": {
     "base_uri": "https://localhost:8080/"
    },
    "executionInfo": {
     "elapsed": 11,
     "status": "ok",
     "timestamp": 1751100665321,
     "user": {
      "displayName": "T Haruyama",
      "userId": "09851044792665346893"
     },
     "user_tz": -540
    },
    "id": "7be3a376-1455-417b-b4b8-b961d9e95fee",
    "outputId": "c7f1af23-7fe3-48cd-8af8-8d1fe1ef484d"
   },
   "outputs": [
    {
     "data": {
      "text/plain": [
       "array([[3, 3],\n",
       "       [8, 8]])"
      ]
     },
     "execution_count": 19,
     "metadata": {},
     "output_type": "execute_result"
    }
   ],
   "source": [
    "m1 * m2"
   ]
  },
  {
   "cell_type": "markdown",
   "id": "JcOFM_6ZeEsR",
   "metadata": {
    "id": "JcOFM_6ZeEsR"
   },
   "source": [
    "コード14.3.7"
   ]
  },
  {
   "cell_type": "code",
   "execution_count": 20,
   "id": "8291e090-5cf2-48aa-a8b3-dfe6e62edebf",
   "metadata": {
    "colab": {
     "base_uri": "https://localhost:8080/"
    },
    "executionInfo": {
     "elapsed": 61,
     "status": "ok",
     "timestamp": 1751100665383,
     "user": {
      "displayName": "T Haruyama",
      "userId": "09851044792665346893"
     },
     "user_tz": -540
    },
    "id": "8291e090-5cf2-48aa-a8b3-dfe6e62edebf",
    "outputId": "3f7365e7-8a79-449b-8aae-119720af2d7a"
   },
   "outputs": [
    {
     "data": {
      "text/plain": [
       "array([[3., 3.],\n",
       "       [2., 2.]])"
      ]
     },
     "execution_count": 20,
     "metadata": {},
     "output_type": "execute_result"
    }
   ],
   "source": [
    "m2 / m1"
   ]
  },
  {
   "cell_type": "markdown",
   "id": "2AAljjO5eHw7",
   "metadata": {
    "id": "2AAljjO5eHw7"
   },
   "source": [
    "コード14.3.8"
   ]
  },
  {
   "cell_type": "code",
   "execution_count": 21,
   "id": "4425532a-c921-4c4a-866a-130ba64d1cdc",
   "metadata": {
    "colab": {
     "base_uri": "https://localhost:8080/"
    },
    "executionInfo": {
     "elapsed": 4,
     "status": "ok",
     "timestamp": 1751100665388,
     "user": {
      "displayName": "T Haruyama",
      "userId": "09851044792665346893"
     },
     "user_tz": -540
    },
    "id": "4425532a-c921-4c4a-866a-130ba64d1cdc",
    "outputId": "569ddcbd-d13e-48fa-b711-8acc9daf7f0d"
   },
   "outputs": [
    {
     "data": {
      "text/plain": [
       "array([[1.5, 1.5],\n",
       "       [2. , 2. ]])"
      ]
     },
     "execution_count": 21,
     "metadata": {},
     "output_type": "execute_result"
    }
   ],
   "source": [
    "0.5 * m2\n",
    "# m2 / 2"
   ]
  },
  {
   "cell_type": "markdown",
   "id": "oMlCEYHveQyN",
   "metadata": {
    "id": "oMlCEYHveQyN"
   },
   "source": [
    "コード14.3.9"
   ]
  },
  {
   "cell_type": "code",
   "execution_count": 22,
   "id": "97e4df5f-af8c-46b6-998a-d0d416ba5f50",
   "metadata": {
    "colab": {
     "base_uri": "https://localhost:8080/"
    },
    "executionInfo": {
     "elapsed": 2,
     "status": "ok",
     "timestamp": 1751100665391,
     "user": {
      "displayName": "T Haruyama",
      "userId": "09851044792665346893"
     },
     "user_tz": -540
    },
    "id": "97e4df5f-af8c-46b6-998a-d0d416ba5f50",
    "outputId": "5aff680f-10d5-44cf-ffc7-041c30335066"
   },
   "outputs": [
    {
     "data": {
      "text/plain": [
       "array([[0.        , 0.        ],\n",
       "       [0.69314718, 0.69314718]])"
      ]
     },
     "execution_count": 22,
     "metadata": {},
     "output_type": "execute_result"
    }
   ],
   "source": [
    "np.log(m1)"
   ]
  },
  {
   "cell_type": "markdown",
   "id": "4KMkQLSPeVPg",
   "metadata": {
    "id": "4KMkQLSPeVPg"
   },
   "source": [
    "コード14.3.10"
   ]
  },
  {
   "cell_type": "code",
   "execution_count": 23,
   "id": "c56dbead-c258-49ed-88ab-13a99562eb22",
   "metadata": {
    "colab": {
     "base_uri": "https://localhost:8080/"
    },
    "executionInfo": {
     "elapsed": 11,
     "status": "ok",
     "timestamp": 1751100665402,
     "user": {
      "displayName": "T Haruyama",
      "userId": "09851044792665346893"
     },
     "user_tz": -540
    },
    "id": "c56dbead-c258-49ed-88ab-13a99562eb22",
    "outputId": "046c5115-8891-4715-8edc-54e3789c0bcd"
   },
   "outputs": [
    {
     "data": {
      "text/plain": [
       "array([[2.71828183, 2.71828183],\n",
       "       [7.3890561 , 7.3890561 ]])"
      ]
     },
     "execution_count": 23,
     "metadata": {},
     "output_type": "execute_result"
    }
   ],
   "source": [
    "np.exp(m1)"
   ]
  },
  {
   "cell_type": "markdown",
   "id": "c1f0a6b3-8494-4e7a-9d02-cbb26132917f",
   "metadata": {
    "id": "c1f0a6b3-8494-4e7a-9d02-cbb26132917f"
   },
   "source": [
    "コード14.3.11"
   ]
  },
  {
   "cell_type": "code",
   "execution_count": 24,
   "id": "983451b6-1611-4a47-83ef-8d7ee3877e23",
   "metadata": {
    "colab": {
     "base_uri": "https://localhost:8080/"
    },
    "executionInfo": {
     "elapsed": 2,
     "status": "ok",
     "timestamp": 1751100665405,
     "user": {
      "displayName": "T Haruyama",
      "userId": "09851044792665346893"
     },
     "user_tz": -540
    },
    "id": "983451b6-1611-4a47-83ef-8d7ee3877e23",
    "outputId": "3686aa1b-c536-4c99-aa1e-9338dc94bda0"
   },
   "outputs": [
    {
     "data": {
      "text/plain": [
       "array([[ 223.99715825,  223.99715825],\n",
       "       [3095.69946455, 3095.69946455]])"
      ]
     },
     "execution_count": 24,
     "metadata": {},
     "output_type": "execute_result"
    }
   ],
   "source": [
    "0.5 * m1 * ( ( np.exp(m2)+1 ) ** 2 - 1 ) + 2 * m1 * np.log(m2)"
   ]
  },
  {
   "cell_type": "markdown",
   "id": "ewSibjUtevqX",
   "metadata": {
    "id": "ewSibjUtevqX"
   },
   "source": [
    "### ブロードキャスト"
   ]
  },
  {
   "cell_type": "markdown",
   "id": "-Q-VdxP2ez1X",
   "metadata": {
    "id": "-Q-VdxP2ez1X"
   },
   "source": [
    "コード14.3.12"
   ]
  },
  {
   "cell_type": "code",
   "execution_count": 25,
   "id": "2732d197-2e18-4440-a7d7-7989c34698dc",
   "metadata": {
    "colab": {
     "base_uri": "https://localhost:8080/"
    },
    "executionInfo": {
     "elapsed": 37,
     "status": "ok",
     "timestamp": 1751100665443,
     "user": {
      "displayName": "T Haruyama",
      "userId": "09851044792665346893"
     },
     "user_tz": -540
    },
    "id": "2732d197-2e18-4440-a7d7-7989c34698dc",
    "outputId": "4a8a613c-3ada-42ac-a63f-bf4483de19e7"
   },
   "outputs": [
    {
     "data": {
      "text/plain": [
       "array([[11, 12],\n",
       "       [20, 30]])"
      ]
     },
     "execution_count": 25,
     "metadata": {},
     "output_type": "execute_result"
    }
   ],
   "source": [
    "m = np.array([[1, 2],\n",
    "              [10, 20]])\n",
    "10 + m"
   ]
  },
  {
   "cell_type": "markdown",
   "id": "FIw60a_4e5Xc",
   "metadata": {
    "id": "FIw60a_4e5Xc"
   },
   "source": [
    "コード14.3.13"
   ]
  },
  {
   "cell_type": "code",
   "execution_count": 26,
   "id": "e0baaecd-2dea-4f8f-9250-deac21e6b415",
   "metadata": {
    "colab": {
     "base_uri": "https://localhost:8080/"
    },
    "executionInfo": {
     "elapsed": 7,
     "status": "ok",
     "timestamp": 1751100665443,
     "user": {
      "displayName": "T Haruyama",
      "userId": "09851044792665346893"
     },
     "user_tz": -540
    },
    "id": "e0baaecd-2dea-4f8f-9250-deac21e6b415",
    "outputId": "30818058-fbed-4a54-c924-8f07852d4ccf"
   },
   "outputs": [
    {
     "data": {
      "text/plain": [
       "array([[ 0,  0],\n",
       "       [ 9, 18]])"
      ]
     },
     "execution_count": 26,
     "metadata": {},
     "output_type": "execute_result"
    }
   ],
   "source": [
    "a = np.array([1, 2])\n",
    "m - a"
   ]
  },
  {
   "cell_type": "markdown",
   "id": "8fb32163-2c0c-41ab-a320-bfb0efe878fe",
   "metadata": {
    "id": "8fb32163-2c0c-41ab-a320-bfb0efe878fe"
   },
   "source": [
    "## ランダム変数"
   ]
  },
  {
   "cell_type": "markdown",
   "id": "e70fad8d-2f25-40ab-a019-7902421ecf99",
   "metadata": {
    "id": "e70fad8d-2f25-40ab-a019-7902421ecf99"
   },
   "source": [
    "### `np.random`モジュール"
   ]
  },
  {
   "cell_type": "markdown",
   "id": "G1J18DnggDwk",
   "metadata": {
    "id": "G1J18DnggDwk"
   },
   "source": [
    "コード14.4.1"
   ]
  },
  {
   "cell_type": "code",
   "execution_count": 27,
   "id": "e3ad33d9-2a5e-40b4-9bcd-8dac0176ed42",
   "metadata": {
    "executionInfo": {
     "elapsed": 1,
     "status": "ok",
     "timestamp": 1751100665444,
     "user": {
      "displayName": "T Haruyama",
      "userId": "09851044792665346893"
     },
     "user_tz": -540
    },
    "id": "e3ad33d9-2a5e-40b4-9bcd-8dac0176ed42"
   },
   "outputs": [],
   "source": [
    "rng = np.random.default_rng(123)"
   ]
  },
  {
   "cell_type": "markdown",
   "id": "d70c58ca-2851-4bc7-846b-2b434069ac57",
   "metadata": {
    "id": "d70c58ca-2851-4bc7-846b-2b434069ac57"
   },
   "source": [
    "### 正規分布"
   ]
  },
  {
   "cell_type": "markdown",
   "id": "dddJ7AR2gUDZ",
   "metadata": {
    "id": "dddJ7AR2gUDZ"
   },
   "source": [
    "コード14.4.2"
   ]
  },
  {
   "cell_type": "code",
   "execution_count": 28,
   "id": "c14eb13b-8c70-447e-bdcb-4cdc469b28ac",
   "metadata": {
    "colab": {
     "base_uri": "https://localhost:8080/"
    },
    "executionInfo": {
     "elapsed": 3,
     "status": "ok",
     "timestamp": 1751100665448,
     "user": {
      "displayName": "T Haruyama",
      "userId": "09851044792665346893"
     },
     "user_tz": -540
    },
    "id": "c14eb13b-8c70-447e-bdcb-4cdc469b28ac",
    "outputId": "15e650b2-68d6-4d46-9564-045999bae4f1"
   },
   "outputs": [
    {
     "data": {
      "text/plain": [
       "array([-3.94560675, -0.83893326])"
      ]
     },
     "execution_count": 28,
     "metadata": {},
     "output_type": "execute_result"
    }
   ],
   "source": [
    "rng.normal(1, 5, size=2)"
   ]
  },
  {
   "cell_type": "markdown",
   "id": "bkia5EEzgYB6",
   "metadata": {
    "id": "bkia5EEzgYB6"
   },
   "source": [
    "コード14.4.3"
   ]
  },
  {
   "cell_type": "code",
   "execution_count": 29,
   "id": "727d0aaf-e0a5-4d53-b159-65d503c6328a",
   "metadata": {
    "colab": {
     "base_uri": "https://localhost:8080/"
    },
    "executionInfo": {
     "elapsed": 3,
     "status": "ok",
     "timestamp": 1751100665451,
     "user": {
      "displayName": "T Haruyama",
      "userId": "09851044792665346893"
     },
     "user_tz": -540
    },
    "id": "727d0aaf-e0a5-4d53-b159-65d503c6328a",
    "outputId": "55f946f4-e180-48f1-b8a0-5bc8779ea056"
   },
   "outputs": [
    {
     "data": {
      "text/plain": [
       "array([[ 1.28792526,  0.19397442,  0.9202309 ,  0.57710379],\n",
       "       [-0.63646365,  0.54195222, -0.31659545, -0.32238912]])"
      ]
     },
     "execution_count": 29,
     "metadata": {},
     "output_type": "execute_result"
    }
   ],
   "source": [
    "rng.normal( size=(2,4) )"
   ]
  },
  {
   "cell_type": "markdown",
   "id": "5a9kbKk_gq5r",
   "metadata": {
    "id": "5a9kbKk_gq5r"
   },
   "source": [
    "コード14.4.4"
   ]
  },
  {
   "cell_type": "code",
   "execution_count": 30,
   "id": "00e2a940-5bb6-4855-ae89-6f2f90f9edc7",
   "metadata": {
    "colab": {
     "base_uri": "https://localhost:8080/",
     "height": 480
    },
    "executionInfo": {
     "elapsed": 235,
     "status": "ok",
     "timestamp": 1751100665687,
     "user": {
      "displayName": "T Haruyama",
      "userId": "09851044792665346893"
     },
     "user_tz": -540
    },
    "id": "00e2a940-5bb6-4855-ae89-6f2f90f9edc7",
    "outputId": "a2839a11-dd01-421c-8fd0-714593dd8bba"
   },
   "outputs": [
    {
     "data": {
      "image/png": "[encoded data removed]",
      "text/plain": [
       "<Figure size 640x480 with 1 Axes>"
      ]
     },
     "metadata": {},
     "output_type": "display_data"
    }
   ],
   "source": [
    "val = rng.normal( size=100_000 )\n",
    "\n",
    "plt.hist(val, bins=50,\n",
    "         color=\"black\",\n",
    "         edgecolor=\"white\",\n",
    "         density=True)\n",
    "plt.xlabel(\"生成されたランダム変数\",\n",
    "           size=14)\n",
    "plt.ylabel(\"相対頻度\", size=14)\n",
    "plt.title(\"標準正規分布\", size=17)\n",
    "plt.show()"
   ]
  },
  {
   "cell_type": "markdown",
   "id": "YhxP3EMNg6n_",
   "metadata": {
    "id": "YhxP3EMNg6n_"
   },
   "source": [
    "コード14.4.5"
   ]
  },
  {
   "cell_type": "code",
   "execution_count": 31,
   "id": "ea8ecc4c-64f0-4026-b31b-eec98d7a6772",
   "metadata": {
    "colab": {
     "base_uri": "https://localhost:8080/",
     "height": 458
    },
    "executionInfo": {
     "elapsed": 169,
     "status": "ok",
     "timestamp": 1751100665854,
     "user": {
      "displayName": "T Haruyama",
      "userId": "09851044792665346893"
     },
     "user_tz": -540
    },
    "id": "ea8ecc4c-64f0-4026-b31b-eec98d7a6772",
    "outputId": "26ab2450-f2f8-4fdb-f6e9-154678b68fb2"
   },
   "outputs": [
    {
     "data": {
      "image/png": "[encoded data removed]",
      "text/plain": [
       "<Figure size 640x480 with 1 Axes>"
      ]
     },
     "metadata": {},
     "output_type": "display_data"
    }
   ],
   "source": [
    "val = rng.normal( size=(200, 2) )\n",
    "val0 = val[:,0]\n",
    "val1 = val[:,1]\n",
    "vals = 1.5 * val0 + val1\n",
    "\n",
    "plt.scatter(val0, vals,\n",
    "            color=\"white\",\n",
    "            edgecolor=\"black\")\n",
    "plt.xlabel(\"val0\", size=18)\n",
    "plt.ylabel(\"vals\", size=18)\n",
    "plt.show()"
   ]
  },
  {
   "cell_type": "markdown",
   "id": "aa919f47-154b-4d91-aa7a-d1d00f1a95d3",
   "metadata": {
    "id": "aa919f47-154b-4d91-aa7a-d1d00f1a95d3"
   },
   "source": [
    "### 一様分布"
   ]
  },
  {
   "cell_type": "markdown",
   "id": "pTtx9ZkkhLZl",
   "metadata": {
    "id": "pTtx9ZkkhLZl"
   },
   "source": [
    "コード14.4.6"
   ]
  },
  {
   "cell_type": "code",
   "execution_count": 32,
   "id": "8a8864f3-a38e-482a-a6ab-6bf3a5505ff8",
   "metadata": {
    "colab": {
     "base_uri": "https://localhost:8080/"
    },
    "executionInfo": {
     "elapsed": 4,
     "status": "ok",
     "timestamp": 1751100665864,
     "user": {
      "displayName": "T Haruyama",
      "userId": "09851044792665346893"
     },
     "user_tz": -540
    },
    "id": "8a8864f3-a38e-482a-a6ab-6bf3a5505ff8",
    "outputId": "c1870679-32a4-4df7-a49c-11c448ff6a1b"
   },
   "outputs": [
    {
     "data": {
      "text/plain": [
       "array([0.5261005 , 0.78244374])"
      ]
     },
     "execution_count": 32,
     "metadata": {},
     "output_type": "execute_result"
    }
   ],
   "source": [
    "rng.uniform(-5, 5, size=2)"
   ]
  },
  {
   "cell_type": "markdown",
   "id": "EsKvxgyhhSA6",
   "metadata": {
    "id": "EsKvxgyhhSA6"
   },
   "source": [
    "コード14.4.7"
   ]
  },
  {
   "cell_type": "code",
   "execution_count": 33,
   "id": "98a915ef-605b-4adb-99d1-8124f1102d95",
   "metadata": {
    "colab": {
     "base_uri": "https://localhost:8080/",
     "height": 480
    },
    "executionInfo": {
     "elapsed": 324,
     "status": "ok",
     "timestamp": 1751100666189,
     "user": {
      "displayName": "T Haruyama",
      "userId": "09851044792665346893"
     },
     "user_tz": -540
    },
    "id": "98a915ef-605b-4adb-99d1-8124f1102d95",
    "outputId": "1252d6b8-dbe2-44ad-dc5a-fdf313f5d612"
   },
   "outputs": [
    {
     "data": {
      "image/png": "[encoded data removed]",
      "text/plain": [
       "<Figure size 640x480 with 1 Axes>"
      ]
     },
     "metadata": {},
     "output_type": "display_data"
    }
   ],
   "source": [
    "val = rng.uniform( size=100_000 )\n",
    "\n",
    "plt.hist(val, bins=50,\n",
    "         color=\"black\",\n",
    "         edgecolor=\"white\")\n",
    "plt.xlabel(\"生成されたランダム変数\", size=14)\n",
    "plt.ylabel(\"頻度\", size=14)\n",
    "plt.title(\"連続一様分布\", size=17)\n",
    "plt.show()"
   ]
  },
  {
   "cell_type": "markdown",
   "id": "80db63ec-a1fa-4c50-b294-9869fb2f08af",
   "metadata": {
    "id": "80db63ec-a1fa-4c50-b294-9869fb2f08af"
   },
   "source": [
    "## 統計関連の関数"
   ]
  },
  {
   "cell_type": "markdown",
   "id": "9d3cf80b-41c2-49a8-b8fb-a7d19065b34c",
   "metadata": {
    "id": "9d3cf80b-41c2-49a8-b8fb-a7d19065b34c"
   },
   "source": [
    "### 例"
   ]
  },
  {
   "cell_type": "markdown",
   "id": "a41a4wzeheLy",
   "metadata": {
    "id": "a41a4wzeheLy"
   },
   "source": [
    "コード14.5.1"
   ]
  },
  {
   "cell_type": "code",
   "execution_count": 34,
   "id": "34d44250-2389-499c-8e94-dd0320ea794e",
   "metadata": {
    "colab": {
     "base_uri": "https://localhost:8080/",
     "height": 175
    },
    "executionInfo": {
     "elapsed": 16,
     "status": "ok",
     "timestamp": 1751100666206,
     "user": {
      "displayName": "T Haruyama",
      "userId": "09851044792665346893"
     },
     "user_tz": -540
    },
    "id": "34d44250-2389-499c-8e94-dd0320ea794e",
    "outputId": "f10a08c1-64a7-47b5-d72d-37fda6c54b2b"
   },
   "outputs": [
    {
     "data": {
      "application/vnd.google.colaboratory.intrinsic+json": {
       "summary": "{\n  \"name\": \"df_nan\",\n  \"rows\": 4,\n  \"fields\": [\n    {\n      \"column\": \"x\",\n      \"properties\": {\n        \"dtype\": \"number\",\n        \"std\": 1.0,\n        \"min\": 1.0,\n        \"max\": 3.0,\n        \"num_unique_values\": 3,\n        \"samples\": [\n          1.0,\n          2.0,\n          3.0\n        ],\n        \"semantic_type\": \"\",\n        \"description\": \"\"\n      }\n    },\n    {\n      \"column\": \"y\",\n      \"properties\": {\n        \"dtype\": \"number\",\n        \"std\": 3,\n        \"min\": -1,\n        \"max\": 8,\n        \"num_unique_values\": 4,\n        \"samples\": [\n          -1,\n          8,\n          4\n        ],\n        \"semantic_type\": \"\",\n        \"description\": \"\"\n      }\n    }\n  ]\n}",
       "type": "dataframe",
       "variable_name": "df_nan"
      },
      "text/html": [
       "\n",
       "  <div id=\"df-080fb45d-726d-4eb1-928a-0f8d7a14e687\" class=\"colab-df-container\">\n",
       "    <div>\n",
       "<style scoped>\n",
       "    .dataframe tbody tr th:only-of-type {\n",
       "        vertical-align: middle;\n",
       "    }\n",
       "\n",
       "    .dataframe tbody tr th {\n",
       "        vertical-align: top;\n",
       "    }\n",
       "\n",
       "    .dataframe thead th {\n",
       "        text-align: right;\n",
       "    }\n",
       "</style>\n",
       "<table border=\"1\" class=\"dataframe\">\n",
       "  <thead>\n",
       "    <tr style=\"text-align: right;\">\n",
       "      <th></th>\n",
       "      <th>x</th>\n",
       "      <th>y</th>\n",
       "    </tr>\n",
       "  </thead>\n",
       "  <tbody>\n",
       "    <tr>\n",
       "      <th>0</th>\n",
       "      <td>1.0</td>\n",
       "      <td>4</td>\n",
       "    </tr>\n",
       "    <tr>\n",
       "      <th>1</th>\n",
       "      <td>2.0</td>\n",
       "      <td>-1</td>\n",
       "    </tr>\n",
       "    <tr>\n",
       "      <th>2</th>\n",
       "      <td>3.0</td>\n",
       "      <td>6</td>\n",
       "    </tr>\n",
       "    <tr>\n",
       "      <th>3</th>\n",
       "      <td>NaN</td>\n",
       "      <td>8</td>\n",
       "    </tr>\n",
       "  </tbody>\n",
       "</table>\n",
       "</div>\n",
       "    <div class=\"colab-df-buttons\">\n",
       "\n",
       "  <div class=\"colab-df-container\">\n",
       "    <button class=\"colab-df-convert\" onclick=\"convertToInteractive('df-080fb45d-726d-4eb1-928a-0f8d7a14e687')\"\n",
       "            title=\"Convert this dataframe to an interactive table.\"\n",
       "            style=\"display:none;\">\n",
       "\n",
       "  <svg xmlns=\"http://www.w3.org/2000/svg\" height=\"24px\" viewBox=\"0 -960 960 960\">\n",
       "    <path d=\"M120-120v-720h720v720H120Zm60-500h600v-160H180v160Zm220 220h160v-160H400v160Zm0 220h160v-160H400v160ZM180-400h160v-160H180v160Zm440 0h160v-160H620v160ZM180-180h160v-160H180v160Zm440 0h160v-160H620v160Z\"/>\n",
       "  </svg>\n",
       "    </button>\n",
       "\n",
       "  <style>\n",
       "    .colab-df-container {\n",
       "      display:flex;\n",
       "      gap: 12px;\n",
       "    }\n",
       "\n",
       "    .colab-df-convert {\n",
       "      background-color: #E8F0FE;\n",
       "      border: none;\n",
       "      border-radius: 50%;\n",
       "      cursor: pointer;\n",
       "      display: none;\n",
       "      fill: #1967D2;\n",
       "      height: 32px;\n",
       "      padding: 0 0 0 0;\n",
       "      width: 32px;\n",
       "    }\n",
       "\n",
       "    .colab-df-convert:hover {\n",
       "      background-color: #E2EBFA;\n",
       "      box-shadow: 0px 1px 2px rgba(60, 64, 67, 0.3), 0px 1px 3px 1px rgba(60, 64, 67, 0.15);\n",
       "      fill: #174EA6;\n",
       "    }\n",
       "\n",
       "    .colab-df-buttons div {\n",
       "      margin-bottom: 4px;\n",
       "    }\n",
       "\n",
       "    [theme=dark] .colab-df-convert {\n",
       "      background-color: #3B4455;\n",
       "      fill: #D2E3FC;\n",
       "    }\n",
       "\n",
       "    [theme=dark] .colab-df-convert:hover {\n",
       "      background-color: #434B5C;\n",
       "      box-shadow: 0px 1px 3px 1px rgba(0, 0, 0, 0.15);\n",
       "      filter: drop-shadow(0px 1px 2px rgba(0, 0, 0, 0.3));\n",
       "      fill: #FFFFFF;\n",
       "    }\n",
       "  </style>\n",
       "\n",
       "    <script>\n",
       "      const buttonEl =\n",
       "        document.querySelector('#df-080fb45d-726d-4eb1-928a-0f8d7a14e687 button.colab-df-convert');\n",
       "      buttonEl.style.display =\n",
       "        google.colab.kernel.accessAllowed ? 'block' : 'none';\n",
       "\n",
       "      async function convertToInteractive(key) {\n",
       "        const element = document.querySelector('#df-080fb45d-726d-4eb1-928a-0f8d7a14e687');\n",
       "        const dataTable =\n",
       "          await google.colab.kernel.invokeFunction('convertToInteractive',\n",
       "                                                    [key], {});\n",
       "        if (!dataTable) return;\n",
       "\n",
       "        const docLinkHtml = 'Like what you see? Visit the ' +\n",
       "          '<a target=\"_blank\" href=https://colab.research.google.com/notebooks/data_table.ipynb>data table notebook</a>'\n",
       "          + ' to learn more about interactive tables.';\n",
       "        element.innerHTML = '';\n",
       "        dataTable['output_type'] = 'display_data';\n",
       "        await google.colab.output.renderOutput(dataTable, element);\n",
       "        const docLink = document.createElement('div');\n",
       "        docLink.innerHTML = docLinkHtml;\n",
       "        element.appendChild(docLink);\n",
       "      }\n",
       "    </script>\n",
       "  </div>\n",
       "\n",
       "\n",
       "    <div id=\"df-0969fbff-4a35-487b-8014-cbda49cadfe7\">\n",
       "      <button class=\"colab-df-quickchart\" onclick=\"quickchart('df-0969fbff-4a35-487b-8014-cbda49cadfe7')\"\n",
       "                title=\"Suggest charts\"\n",
       "                style=\"display:none;\">\n",
       "\n",
       "<svg xmlns=\"http://www.w3.org/2000/svg\" height=\"24px\"viewBox=\"0 0 24 24\"\n",
       "     width=\"24px\">\n",
       "    <g>\n",
       "        <path d=\"M19 3H5c-1.1 0-2 .9-2 2v14c0 1.1.9 2 2 2h14c1.1 0 2-.9 2-2V5c0-1.1-.9-2-2-2zM9 17H7v-7h2v7zm4 0h-2V7h2v10zm4 0h-2v-4h2v4z\"/>\n",
       "    </g>\n",
       "</svg>\n",
       "      </button>\n",
       "\n",
       "<style>\n",
       "  .colab-df-quickchart {\n",
       "      --bg-color: #E8F0FE;\n",
       "      --fill-color: #1967D2;\n",
       "      --hover-bg-color: #E2EBFA;\n",
       "      --hover-fill-color: #174EA6;\n",
       "      --disabled-fill-color: #AAA;\n",
       "      --disabled-bg-color: #DDD;\n",
       "  }\n",
       "\n",
       "  [theme=dark] .colab-df-quickchart {\n",
       "      --bg-color: #3B4455;\n",
       "      --fill-color: #D2E3FC;\n",
       "      --hover-bg-color: #434B5C;\n",
       "      --hover-fill-color: #FFFFFF;\n",
       "      --disabled-bg-color: #3B4455;\n",
       "      --disabled-fill-color: #666;\n",
       "  }\n",
       "\n",
       "  .colab-df-quickchart {\n",
       "    background-color: var(--bg-color);\n",
       "    border: none;\n",
       "    border-radius: 50%;\n",
       "    cursor: pointer;\n",
       "    display: none;\n",
       "    fill: var(--fill-color);\n",
       "    height: 32px;\n",
       "    padding: 0;\n",
       "    width: 32px;\n",
       "  }\n",
       "\n",
       "  .colab-df-quickchart:hover {\n",
       "    background-color: var(--hover-bg-color);\n",
       "    box-shadow: 0 1px 2px rgba(60, 64, 67, 0.3), 0 1px 3px 1px rgba(60, 64, 67, 0.15);\n",
       "    fill: var(--button-hover-fill-color);\n",
       "  }\n",
       "\n",
       "  .colab-df-quickchart-complete:disabled,\n",
       "  .colab-df-quickchart-complete:disabled:hover {\n",
       "    background-color: var(--disabled-bg-color);\n",
       "    fill: var(--disabled-fill-color);\n",
       "    box-shadow: none;\n",
       "  }\n",
       "\n",
       "  .colab-df-spinner {\n",
       "    border: 2px solid var(--fill-color);\n",
       "    border-color: transparent;\n",
       "    border-bottom-color: var(--fill-color);\n",
       "    animation:\n",
       "      spin 1s steps(1) infinite;\n",
       "  }\n",
       "\n",
       "  @keyframes spin {\n",
       "    0% {\n",
       "      border-color: transparent;\n",
       "      border-bottom-color: var(--fill-color);\n",
       "      border-left-color: var(--fill-color);\n",
       "    }\n",
       "    20% {\n",
       "      border-color: transparent;\n",
       "      border-left-color: var(--fill-color);\n",
       "      border-top-color: var(--fill-color);\n",
       "    }\n",
       "    30% {\n",
       "      border-color: transparent;\n",
       "      border-left-color: var(--fill-color);\n",
       "      border-top-color: var(--fill-color);\n",
       "      border-right-color: var(--fill-color);\n",
       "    }\n",
       "    40% {\n",
       "      border-color: transparent;\n",
       "      border-right-color: var(--fill-color);\n",
       "      border-top-color: var(--fill-color);\n",
       "    }\n",
       "    60% {\n",
       "      border-color: transparent;\n",
       "      border-right-color: var(--fill-color);\n",
       "    }\n",
       "    80% {\n",
       "      border-color: transparent;\n",
       "      border-right-color: var(--fill-color);\n",
       "      border-bottom-color: var(--fill-color);\n",
       "    }\n",
       "    90% {\n",
       "      border-color: transparent;\n",
       "      border-bottom-color: var(--fill-color);\n",
       "    }\n",
       "  }\n",
       "</style>\n",
       "\n",
       "      <script>\n",
       "        async function quickchart(key) {\n",
       "          const quickchartButtonEl =\n",
       "            document.querySelector('#' + key + ' button');\n",
       "          quickchartButtonEl.disabled = true;  // To prevent multiple clicks.\n",
       "          quickchartButtonEl.classList.add('colab-df-spinner');\n",
       "          try {\n",
       "            const charts = await google.colab.kernel.invokeFunction(\n",
       "                'suggestCharts', [key], {});\n",
       "          } catch (error) {\n",
       "            console.error('Error during call to suggestCharts:', error);\n",
       "          }\n",
       "          quickchartButtonEl.classList.remove('colab-df-spinner');\n",
       "          quickchartButtonEl.classList.add('colab-df-quickchart-complete');\n",
       "        }\n",
       "        (() => {\n",
       "          let quickchartButtonEl =\n",
       "            document.querySelector('#df-0969fbff-4a35-487b-8014-cbda49cadfe7 button');\n",
       "          quickchartButtonEl.style.display =\n",
       "            google.colab.kernel.accessAllowed ? 'block' : 'none';\n",
       "        })();\n",
       "      </script>\n",
       "    </div>\n",
       "\n",
       "  <div id=\"id_03541e25-eb8a-4888-8ad5-4ee7c0af8413\">\n",
       "    <style>\n",
       "      .colab-df-generate {\n",
       "        background-color: #E8F0FE;\n",
       "        border: none;\n",
       "        border-radius: 50%;\n",
       "        cursor: pointer;\n",
       "        display: none;\n",
       "        fill: #1967D2;\n",
       "        height: 32px;\n",
       "        padding: 0 0 0 0;\n",
       "        width: 32px;\n",
       "      }\n",
       "\n",
       "      .colab-df-generate:hover {\n",
       "        background-color: #E2EBFA;\n",
       "        box-shadow: 0px 1px 2px rgba(60, 64, 67, 0.3), 0px 1px 3px 1px rgba(60, 64, 67, 0.15);\n",
       "        fill: #174EA6;\n",
       "      }\n",
       "\n",
       "      [theme=dark] .colab-df-generate {\n",
       "        background-color: #3B4455;\n",
       "        fill: #D2E3FC;\n",
       "      }\n",
       "\n",
       "      [theme=dark] .colab-df-generate:hover {\n",
       "        background-color: #434B5C;\n",
       "        box-shadow: 0px 1px 3px 1px rgba(0, 0, 0, 0.15);\n",
       "        filter: drop-shadow(0px 1px 2px rgba(0, 0, 0, 0.3));\n",
       "        fill: #FFFFFF;\n",
       "      }\n",
       "    </style>\n",
       "    <button class=\"colab-df-generate\" onclick=\"generateWithVariable('df_nan')\"\n",
       "            title=\"Generate code using this dataframe.\"\n",
       "            style=\"display:none;\">\n",
       "\n",
       "  <svg xmlns=\"http://www.w3.org/2000/svg\" height=\"24px\"viewBox=\"0 0 24 24\"\n",
       "       width=\"24px\">\n",
       "    <path d=\"M7,19H8.4L18.45,9,17,7.55,7,17.6ZM5,21V16.75L18.45,3.32a2,2,0,0,1,2.83,0l1.4,1.43a1.91,1.91,0,0,1,.58,1.4,1.91,1.91,0,0,1-.58,1.4L9.25,21ZM18.45,9,17,7.55Zm-12,3A5.31,5.31,0,0,0,4.9,8.1,5.31,5.31,0,0,0,1,6.5,5.31,5.31,0,0,0,4.9,4.9,5.31,5.31,0,0,0,6.5,1,5.31,5.31,0,0,0,8.1,4.9,5.31,5.31,0,0,0,12,6.5,5.46,5.46,0,0,0,6.5,12Z\"/>\n",
       "  </svg>\n",
       "    </button>\n",
       "    <script>\n",
       "      (() => {\n",
       "      const buttonEl =\n",
       "        document.querySelector('#id_03541e25-eb8a-4888-8ad5-4ee7c0af8413 button.colab-df-generate');\n",
       "      buttonEl.style.display =\n",
       "        google.colab.kernel.accessAllowed ? 'block' : 'none';\n",
       "\n",
       "      buttonEl.onclick = () => {\n",
       "        google.colab.notebook.generateWithVariable('df_nan');\n",
       "      }\n",
       "      })();\n",
       "    </script>\n",
       "  </div>\n",
       "\n",
       "    </div>\n",
       "  </div>\n"
      ],
      "text/plain": [
       "     x  y\n",
       "0  1.0  4\n",
       "1  2.0 -1\n",
       "2  3.0  6\n",
       "3  NaN  8"
      ]
     },
     "execution_count": 34,
     "metadata": {},
     "output_type": "execute_result"
    }
   ],
   "source": [
    "dic = {\"x\":[1, 2, 3, np.nan],\n",
    "       \"y\":[4, -1, 6, 8]}\n",
    "df_nan = pd.DataFrame(dic)\n",
    "df_nan"
   ]
  },
  {
   "cell_type": "markdown",
   "id": "B9iJWpxyhjqH",
   "metadata": {
    "id": "B9iJWpxyhjqH"
   },
   "source": [
    "コード14.5.2"
   ]
  },
  {
   "cell_type": "code",
   "execution_count": 35,
   "id": "31b63a7a-e952-4b55-a559-9e8ec8f7861b",
   "metadata": {
    "colab": {
     "base_uri": "https://localhost:8080/",
     "height": 143
    },
    "executionInfo": {
     "elapsed": 23,
     "status": "ok",
     "timestamp": 1751100666228,
     "user": {
      "displayName": "T Haruyama",
      "userId": "09851044792665346893"
     },
     "user_tz": -540
    },
    "id": "31b63a7a-e952-4b55-a559-9e8ec8f7861b",
    "outputId": "f6d42d74-2683-4b10-b78e-3fd8f1066a5f"
   },
   "outputs": [
    {
     "data": {
      "application/vnd.google.colaboratory.intrinsic+json": {
       "summary": "{\n  \"name\": \"df\",\n  \"rows\": 3,\n  \"fields\": [\n    {\n      \"column\": \"x\",\n      \"properties\": {\n        \"dtype\": \"number\",\n        \"std\": 1.0,\n        \"min\": 1.0,\n        \"max\": 3.0,\n        \"num_unique_values\": 3,\n        \"samples\": [\n          1.0,\n          2.0,\n          3.0\n        ],\n        \"semantic_type\": \"\",\n        \"description\": \"\"\n      }\n    },\n    {\n      \"column\": \"y\",\n      \"properties\": {\n        \"dtype\": \"number\",\n        \"std\": 3,\n        \"min\": -1,\n        \"max\": 6,\n        \"num_unique_values\": 3,\n        \"samples\": [\n          4,\n          -1,\n          6\n        ],\n        \"semantic_type\": \"\",\n        \"description\": \"\"\n      }\n    }\n  ]\n}",
       "type": "dataframe",
       "variable_name": "df"
      },
      "text/html": [
       "\n",
       "  <div id=\"df-8ae8686d-df29-482c-aa12-49606a2f6454\" class=\"colab-df-container\">\n",
       "    <div>\n",
       "<style scoped>\n",
       "    .dataframe tbody tr th:only-of-type {\n",
       "        vertical-align: middle;\n",
       "    }\n",
       "\n",
       "    .dataframe tbody tr th {\n",
       "        vertical-align: top;\n",
       "    }\n",
       "\n",
       "    .dataframe thead th {\n",
       "        text-align: right;\n",
       "    }\n",
       "</style>\n",
       "<table border=\"1\" class=\"dataframe\">\n",
       "  <thead>\n",
       "    <tr style=\"text-align: right;\">\n",
       "      <th></th>\n",
       "      <th>x</th>\n",
       "      <th>y</th>\n",
       "    </tr>\n",
       "  </thead>\n",
       "  <tbody>\n",
       "    <tr>\n",
       "      <th>0</th>\n",
       "      <td>1.0</td>\n",
       "      <td>4</td>\n",
       "    </tr>\n",
       "    <tr>\n",
       "      <th>1</th>\n",
       "      <td>2.0</td>\n",
       "      <td>-1</td>\n",
       "    </tr>\n",
       "    <tr>\n",
       "      <th>2</th>\n",
       "      <td>3.0</td>\n",
       "      <td>6</td>\n",
       "    </tr>\n",
       "  </tbody>\n",
       "</table>\n",
       "</div>\n",
       "    <div class=\"colab-df-buttons\">\n",
       "\n",
       "  <div class=\"colab-df-container\">\n",
       "    <button class=\"colab-df-convert\" onclick=\"convertToInteractive('df-8ae8686d-df29-482c-aa12-49606a2f6454')\"\n",
       "            title=\"Convert this dataframe to an interactive table.\"\n",
       "            style=\"display:none;\">\n",
       "\n",
       "  <svg xmlns=\"http://www.w3.org/2000/svg\" height=\"24px\" viewBox=\"0 -960 960 960\">\n",
       "    <path d=\"M120-120v-720h720v720H120Zm60-500h600v-160H180v160Zm220 220h160v-160H400v160Zm0 220h160v-160H400v160ZM180-400h160v-160H180v160Zm440 0h160v-160H620v160ZM180-180h160v-160H180v160Zm440 0h160v-160H620v160Z\"/>\n",
       "  </svg>\n",
       "    </button>\n",
       "\n",
       "  <style>\n",
       "    .colab-df-container {\n",
       "      display:flex;\n",
       "      gap: 12px;\n",
       "    }\n",
       "\n",
       "    .colab-df-convert {\n",
       "      background-color: #E8F0FE;\n",
       "      border: none;\n",
       "      border-radius: 50%;\n",
       "      cursor: pointer;\n",
       "      display: none;\n",
       "      fill: #1967D2;\n",
       "      height: 32px;\n",
       "      padding: 0 0 0 0;\n",
       "      width: 32px;\n",
       "    }\n",
       "\n",
       "    .colab-df-convert:hover {\n",
       "      background-color: #E2EBFA;\n",
       "      box-shadow: 0px 1px 2px rgba(60, 64, 67, 0.3), 0px 1px 3px 1px rgba(60, 64, 67, 0.15);\n",
       "      fill: #174EA6;\n",
       "    }\n",
       "\n",
       "    .colab-df-buttons div {\n",
       "      margin-bottom: 4px;\n",
       "    }\n",
       "\n",
       "    [theme=dark] .colab-df-convert {\n",
       "      background-color: #3B4455;\n",
       "      fill: #D2E3FC;\n",
       "    }\n",
       "\n",
       "    [theme=dark] .colab-df-convert:hover {\n",
       "      background-color: #434B5C;\n",
       "      box-shadow: 0px 1px 3px 1px rgba(0, 0, 0, 0.15);\n",
       "      filter: drop-shadow(0px 1px 2px rgba(0, 0, 0, 0.3));\n",
       "      fill: #FFFFFF;\n",
       "    }\n",
       "  </style>\n",
       "\n",
       "    <script>\n",
       "      const buttonEl =\n",
       "        document.querySelector('#df-8ae8686d-df29-482c-aa12-49606a2f6454 button.colab-df-convert');\n",
       "      buttonEl.style.display =\n",
       "        google.colab.kernel.accessAllowed ? 'block' : 'none';\n",
       "\n",
       "      async function convertToInteractive(key) {\n",
       "        const element = document.querySelector('#df-8ae8686d-df29-482c-aa12-49606a2f6454');\n",
       "        const dataTable =\n",
       "          await google.colab.kernel.invokeFunction('convertToInteractive',\n",
       "                                                    [key], {});\n",
       "        if (!dataTable) return;\n",
       "\n",
       "        const docLinkHtml = 'Like what you see? Visit the ' +\n",
       "          '<a target=\"_blank\" href=https://colab.research.google.com/notebooks/data_table.ipynb>data table notebook</a>'\n",
       "          + ' to learn more about interactive tables.';\n",
       "        element.innerHTML = '';\n",
       "        dataTable['output_type'] = 'display_data';\n",
       "        await google.colab.output.renderOutput(dataTable, element);\n",
       "        const docLink = document.createElement('div');\n",
       "        docLink.innerHTML = docLinkHtml;\n",
       "        element.appendChild(docLink);\n",
       "      }\n",
       "    </script>\n",
       "  </div>\n",
       "\n",
       "\n",
       "    <div id=\"df-0774dacf-b272-4618-8fbe-26ea46d5023b\">\n",
       "      <button class=\"colab-df-quickchart\" onclick=\"quickchart('df-0774dacf-b272-4618-8fbe-26ea46d5023b')\"\n",
       "                title=\"Suggest charts\"\n",
       "                style=\"display:none;\">\n",
       "\n",
       "<svg xmlns=\"http://www.w3.org/2000/svg\" height=\"24px\"viewBox=\"0 0 24 24\"\n",
       "     width=\"24px\">\n",
       "    <g>\n",
       "        <path d=\"M19 3H5c-1.1 0-2 .9-2 2v14c0 1.1.9 2 2 2h14c1.1 0 2-.9 2-2V5c0-1.1-.9-2-2-2zM9 17H7v-7h2v7zm4 0h-2V7h2v10zm4 0h-2v-4h2v4z\"/>\n",
       "    </g>\n",
       "</svg>\n",
       "      </button>\n",
       "\n",
       "<style>\n",
       "  .colab-df-quickchart {\n",
       "      --bg-color: #E8F0FE;\n",
       "      --fill-color: #1967D2;\n",
       "      --hover-bg-color: #E2EBFA;\n",
       "      --hover-fill-color: #174EA6;\n",
       "      --disabled-fill-color: #AAA;\n",
       "      --disabled-bg-color: #DDD;\n",
       "  }\n",
       "\n",
       "  [theme=dark] .colab-df-quickchart {\n",
       "      --bg-color: #3B4455;\n",
       "      --fill-color: #D2E3FC;\n",
       "      --hover-bg-color: #434B5C;\n",
       "      --hover-fill-color: #FFFFFF;\n",
       "      --disabled-bg-color: #3B4455;\n",
       "      --disabled-fill-color: #666;\n",
       "  }\n",
       "\n",
       "  .colab-df-quickchart {\n",
       "    background-color: var(--bg-color);\n",
       "    border: none;\n",
       "    border-radius: 50%;\n",
       "    cursor: pointer;\n",
       "    display: none;\n",
       "    fill: var(--fill-color);\n",
       "    height: 32px;\n",
       "    padding: 0;\n",
       "    width: 32px;\n",
       "  }\n",
       "\n",
       "  .colab-df-quickchart:hover {\n",
       "    background-color: var(--hover-bg-color);\n",
       "    box-shadow: 0 1px 2px rgba(60, 64, 67, 0.3), 0 1px 3px 1px rgba(60, 64, 67, 0.15);\n",
       "    fill: var(--button-hover-fill-color);\n",
       "  }\n",
       "\n",
       "  .colab-df-quickchart-complete:disabled,\n",
       "  .colab-df-quickchart-complete:disabled:hover {\n",
       "    background-color: var(--disabled-bg-color);\n",
       "    fill: var(--disabled-fill-color);\n",
       "    box-shadow: none;\n",
       "  }\n",
       "\n",
       "  .colab-df-spinner {\n",
       "    border: 2px solid var(--fill-color);\n",
       "    border-color: transparent;\n",
       "    border-bottom-color: var(--fill-color);\n",
       "    animation:\n",
       "      spin 1s steps(1) infinite;\n",
       "  }\n",
       "\n",
       "  @keyframes spin {\n",
       "    0% {\n",
       "      border-color: transparent;\n",
       "      border-bottom-color: var(--fill-color);\n",
       "      border-left-color: var(--fill-color);\n",
       "    }\n",
       "    20% {\n",
       "      border-color: transparent;\n",
       "      border-left-color: var(--fill-color);\n",
       "      border-top-color: var(--fill-color);\n",
       "    }\n",
       "    30% {\n",
       "      border-color: transparent;\n",
       "      border-left-color: var(--fill-color);\n",
       "      border-top-color: var(--fill-color);\n",
       "      border-right-color: var(--fill-color);\n",
       "    }\n",
       "    40% {\n",
       "      border-color: transparent;\n",
       "      border-right-color: var(--fill-color);\n",
       "      border-top-color: var(--fill-color);\n",
       "    }\n",
       "    60% {\n",
       "      border-color: transparent;\n",
       "      border-right-color: var(--fill-color);\n",
       "    }\n",
       "    80% {\n",
       "      border-color: transparent;\n",
       "      border-right-color: var(--fill-color);\n",
       "      border-bottom-color: var(--fill-color);\n",
       "    }\n",
       "    90% {\n",
       "      border-color: transparent;\n",
       "      border-bottom-color: var(--fill-color);\n",
       "    }\n",
       "  }\n",
       "</style>\n",
       "\n",
       "      <script>\n",
       "        async function quickchart(key) {\n",
       "          const quickchartButtonEl =\n",
       "            document.querySelector('#' + key + ' button');\n",
       "          quickchartButtonEl.disabled = true;  // To prevent multiple clicks.\n",
       "          quickchartButtonEl.classList.add('colab-df-spinner');\n",
       "          try {\n",
       "            const charts = await google.colab.kernel.invokeFunction(\n",
       "                'suggestCharts', [key], {});\n",
       "          } catch (error) {\n",
       "            console.error('Error during call to suggestCharts:', error);\n",
       "          }\n",
       "          quickchartButtonEl.classList.remove('colab-df-spinner');\n",
       "          quickchartButtonEl.classList.add('colab-df-quickchart-complete');\n",
       "        }\n",
       "        (() => {\n",
       "          let quickchartButtonEl =\n",
       "            document.querySelector('#df-0774dacf-b272-4618-8fbe-26ea46d5023b button');\n",
       "          quickchartButtonEl.style.display =\n",
       "            google.colab.kernel.accessAllowed ? 'block' : 'none';\n",
       "        })();\n",
       "      </script>\n",
       "    </div>\n",
       "\n",
       "  <div id=\"id_bbc1a3a8-0487-4482-ae02-7c7735b8ae63\">\n",
       "    <style>\n",
       "      .colab-df-generate {\n",
       "        background-color: #E8F0FE;\n",
       "        border: none;\n",
       "        border-radius: 50%;\n",
       "        cursor: pointer;\n",
       "        display: none;\n",
       "        fill: #1967D2;\n",
       "        height: 32px;\n",
       "        padding: 0 0 0 0;\n",
       "        width: 32px;\n",
       "      }\n",
       "\n",
       "      .colab-df-generate:hover {\n",
       "        background-color: #E2EBFA;\n",
       "        box-shadow: 0px 1px 2px rgba(60, 64, 67, 0.3), 0px 1px 3px 1px rgba(60, 64, 67, 0.15);\n",
       "        fill: #174EA6;\n",
       "      }\n",
       "\n",
       "      [theme=dark] .colab-df-generate {\n",
       "        background-color: #3B4455;\n",
       "        fill: #D2E3FC;\n",
       "      }\n",
       "\n",
       "      [theme=dark] .colab-df-generate:hover {\n",
       "        background-color: #434B5C;\n",
       "        box-shadow: 0px 1px 3px 1px rgba(0, 0, 0, 0.15);\n",
       "        filter: drop-shadow(0px 1px 2px rgba(0, 0, 0, 0.3));\n",
       "        fill: #FFFFFF;\n",
       "      }\n",
       "    </style>\n",
       "    <button class=\"colab-df-generate\" onclick=\"generateWithVariable('df')\"\n",
       "            title=\"Generate code using this dataframe.\"\n",
       "            style=\"display:none;\">\n",
       "\n",
       "  <svg xmlns=\"http://www.w3.org/2000/svg\" height=\"24px\"viewBox=\"0 0 24 24\"\n",
       "       width=\"24px\">\n",
       "    <path d=\"M7,19H8.4L18.45,9,17,7.55,7,17.6ZM5,21V16.75L18.45,3.32a2,2,0,0,1,2.83,0l1.4,1.43a1.91,1.91,0,0,1,.58,1.4,1.91,1.91,0,0,1-.58,1.4L9.25,21ZM18.45,9,17,7.55Zm-12,3A5.31,5.31,0,0,0,4.9,8.1,5.31,5.31,0,0,0,1,6.5,5.31,5.31,0,0,0,4.9,4.9,5.31,5.31,0,0,0,6.5,1,5.31,5.31,0,0,0,8.1,4.9,5.31,5.31,0,0,0,12,6.5,5.46,5.46,0,0,0,6.5,12Z\"/>\n",
       "  </svg>\n",
       "    </button>\n",
       "    <script>\n",
       "      (() => {\n",
       "      const buttonEl =\n",
       "        document.querySelector('#id_bbc1a3a8-0487-4482-ae02-7c7735b8ae63 button.colab-df-generate');\n",
       "      buttonEl.style.display =\n",
       "        google.colab.kernel.accessAllowed ? 'block' : 'none';\n",
       "\n",
       "      buttonEl.onclick = () => {\n",
       "        google.colab.notebook.generateWithVariable('df');\n",
       "      }\n",
       "      })();\n",
       "    </script>\n",
       "  </div>\n",
       "\n",
       "    </div>\n",
       "  </div>\n"
      ],
      "text/plain": [
       "     x  y\n",
       "0  1.0  4\n",
       "1  2.0 -1\n",
       "2  3.0  6"
      ]
     },
     "execution_count": 35,
     "metadata": {},
     "output_type": "execute_result"
    }
   ],
   "source": [
    "df = df_nan.dropna()\n",
    "df"
   ]
  },
  {
   "cell_type": "markdown",
   "id": "rnDr6cSkhtWz",
   "metadata": {
    "id": "rnDr6cSkhtWz"
   },
   "source": [
    "コード14.5.3"
   ]
  },
  {
   "cell_type": "code",
   "execution_count": 36,
   "id": "36f6b186-921e-43f0-9300-ca531fa79080",
   "metadata": {
    "colab": {
     "base_uri": "https://localhost:8080/"
    },
    "executionInfo": {
     "elapsed": 13,
     "status": "ok",
     "timestamp": 1751100666241,
     "user": {
      "displayName": "T Haruyama",
      "userId": "09851044792665346893"
     },
     "user_tz": -540
    },
    "id": "36f6b186-921e-43f0-9300-ca531fa79080",
    "outputId": "29e652c6-a09c-43dd-8816-5624a7d5569b"
   },
   "outputs": [
    {
     "data": {
      "text/plain": [
       "array([[ 1.,  4.],\n",
       "       [ 2., -1.],\n",
       "       [ 3.,  6.],\n",
       "       [nan,  8.]])"
      ]
     },
     "execution_count": 36,
     "metadata": {},
     "output_type": "execute_result"
    }
   ],
   "source": [
    "arr_nan = df_nan.to_numpy()\n",
    "arr_nan"
   ]
  },
  {
   "cell_type": "markdown",
   "id": "e5coq6AthyAA",
   "metadata": {
    "id": "e5coq6AthyAA"
   },
   "source": [
    "コード14.5.4"
   ]
  },
  {
   "cell_type": "code",
   "execution_count": 37,
   "id": "b0984f62-6a6a-4dee-bdc3-943b4c3d3540",
   "metadata": {
    "colab": {
     "base_uri": "https://localhost:8080/"
    },
    "executionInfo": {
     "elapsed": 3,
     "status": "ok",
     "timestamp": 1751100666254,
     "user": {
      "displayName": "T Haruyama",
      "userId": "09851044792665346893"
     },
     "user_tz": -540
    },
    "id": "b0984f62-6a6a-4dee-bdc3-943b4c3d3540",
    "outputId": "d515641a-88e1-47ab-a795-4a28cfd01162"
   },
   "outputs": [
    {
     "data": {
      "text/plain": [
       "array([[ 1.,  4.],\n",
       "       [ 2., -1.],\n",
       "       [ 3.,  6.]])"
      ]
     },
     "execution_count": 37,
     "metadata": {},
     "output_type": "execute_result"
    }
   ],
   "source": [
    "arr = df.to_numpy()\n",
    "arr"
   ]
  },
  {
   "cell_type": "markdown",
   "id": "fe1d61f5-2050-458e-9651-d8b9bfd5cf2b",
   "metadata": {
    "id": "fe1d61f5-2050-458e-9651-d8b9bfd5cf2b",
    "jp-MarkdownHeadingCollapsed": true
   },
   "source": [
    "### 算術平均・標準偏差・分散"
   ]
  },
  {
   "cell_type": "markdown",
   "id": "f2e9c479-3c60-4748-a917-e6bedf73cd38",
   "metadata": {
    "id": "f2e9c479-3c60-4748-a917-e6bedf73cd38"
   },
   "source": [
    "コード14.5.5"
   ]
  },
  {
   "cell_type": "code",
   "execution_count": 38,
   "id": "6f6de3ce-fdd6-4fb5-8088-9b15adccb438",
   "metadata": {
    "colab": {
     "base_uri": "https://localhost:8080/"
    },
    "executionInfo": {
     "elapsed": 5,
     "status": "ok",
     "timestamp": 1751100666267,
     "user": {
      "displayName": "T Haruyama",
      "userId": "09851044792665346893"
     },
     "user_tz": -540
    },
    "id": "6f6de3ce-fdd6-4fb5-8088-9b15adccb438",
    "outputId": "e078bcd5-48bc-426a-c527-de2d6a2a4060"
   },
   "outputs": [
    {
     "name": "stdout",
     "output_type": "stream",
     "text": [
      "2.5\n"
     ]
    }
   ],
   "source": [
    "print( arr.mean() )"
   ]
  },
  {
   "cell_type": "markdown",
   "id": "KJ39EyzPh9Ee",
   "metadata": {
    "id": "KJ39EyzPh9Ee"
   },
   "source": [
    "コード14.5.6"
   ]
  },
  {
   "cell_type": "code",
   "execution_count": 39,
   "id": "3998ddcf-b5e2-4fee-9808-239cf6c17189",
   "metadata": {
    "colab": {
     "base_uri": "https://localhost:8080/"
    },
    "executionInfo": {
     "elapsed": 39,
     "status": "ok",
     "timestamp": 1751100666312,
     "user": {
      "displayName": "T Haruyama",
      "userId": "09851044792665346893"
     },
     "user_tz": -540
    },
    "id": "3998ddcf-b5e2-4fee-9808-239cf6c17189",
    "outputId": "85ff5918-cabb-4c05-be70-935186fcb60f"
   },
   "outputs": [
    {
     "name": "stdout",
     "output_type": "stream",
     "text": [
      "[2. 3.]\n"
     ]
    }
   ],
   "source": [
    "print( arr.mean(axis=0) )"
   ]
  },
  {
   "cell_type": "markdown",
   "id": "gYdCMS4qh_4G",
   "metadata": {
    "id": "gYdCMS4qh_4G"
   },
   "source": [
    "コード14.5.7"
   ]
  },
  {
   "cell_type": "code",
   "execution_count": 40,
   "id": "47f7666f-5c99-431f-a08e-9390431259e2",
   "metadata": {
    "colab": {
     "base_uri": "https://localhost:8080/"
    },
    "executionInfo": {
     "elapsed": 2,
     "status": "ok",
     "timestamp": 1751100666315,
     "user": {
      "displayName": "T Haruyama",
      "userId": "09851044792665346893"
     },
     "user_tz": -540
    },
    "id": "47f7666f-5c99-431f-a08e-9390431259e2",
    "outputId": "3eea91f6-bd28-408e-fbf1-4e3c5658d883"
   },
   "outputs": [
    {
     "name": "stdout",
     "output_type": "stream",
     "text": [
      "[ nan 4.25]\n"
     ]
    }
   ],
   "source": [
    "print(\n",
    "    arr_nan.mean(axis=0)\n",
    ")"
   ]
  },
  {
   "cell_type": "markdown",
   "id": "EtLTcxFHiOPs",
   "metadata": {
    "id": "EtLTcxFHiOPs"
   },
   "source": [
    "コード14.5.8"
   ]
  },
  {
   "cell_type": "code",
   "execution_count": 41,
   "id": "02fbfb6f-8abd-4c61-80db-d95e9cdeb851",
   "metadata": {
    "colab": {
     "base_uri": "https://localhost:8080/",
     "height": 147
    },
    "executionInfo": {
     "elapsed": 55,
     "status": "ok",
     "timestamp": 1751100666371,
     "user": {
      "displayName": "T Haruyama",
      "userId": "09851044792665346893"
     },
     "user_tz": -540
    },
    "id": "02fbfb6f-8abd-4c61-80db-d95e9cdeb851",
    "outputId": "12196299-bd9a-405c-ad60-07331d11a88e"
   },
   "outputs": [
    {
     "data": {
      "text/html": [
       "<div>\n",
       "<style scoped>\n",
       "    .dataframe tbody tr th:only-of-type {\n",
       "        vertical-align: middle;\n",
       "    }\n",
       "\n",
       "    .dataframe tbody tr th {\n",
       "        vertical-align: top;\n",
       "    }\n",
       "\n",
       "    .dataframe thead th {\n",
       "        text-align: right;\n",
       "    }\n",
       "</style>\n",
       "<table border=\"1\" class=\"dataframe\">\n",
       "  <thead>\n",
       "    <tr style=\"text-align: right;\">\n",
       "      <th></th>\n",
       "      <th>0</th>\n",
       "    </tr>\n",
       "  </thead>\n",
       "  <tbody>\n",
       "    <tr>\n",
       "      <th>x</th>\n",
       "      <td>2.0</td>\n",
       "    </tr>\n",
       "    <tr>\n",
       "      <th>y</th>\n",
       "      <td>3.0</td>\n",
       "    </tr>\n",
       "  </tbody>\n",
       "</table>\n",
       "</div><br><label><b>dtype:</b> float64</label>"
      ],
      "text/plain": [
       "x    2.0\n",
       "y    3.0\n",
       "dtype: float64"
      ]
     },
     "execution_count": 41,
     "metadata": {},
     "output_type": "execute_result"
    }
   ],
   "source": [
    "df.mean()"
   ]
  },
  {
   "cell_type": "markdown",
   "id": "mgWbZWFhieDS",
   "metadata": {
    "id": "mgWbZWFhieDS"
   },
   "source": [
    "コード14.5.9"
   ]
  },
  {
   "cell_type": "code",
   "execution_count": 42,
   "id": "998fafb3-c755-4281-99c7-18ae15ade3ca",
   "metadata": {
    "colab": {
     "base_uri": "https://localhost:8080/"
    },
    "executionInfo": {
     "elapsed": 4,
     "status": "ok",
     "timestamp": 1751100666375,
     "user": {
      "displayName": "T Haruyama",
      "userId": "09851044792665346893"
     },
     "user_tz": -540
    },
    "id": "998fafb3-c755-4281-99c7-18ae15ade3ca",
    "outputId": "7f5907f2-7500-48ce-9f64-0be4be2f7723"
   },
   "outputs": [
    {
     "name": "stdout",
     "output_type": "stream",
     "text": [
      "[ 1. 13.]\n"
     ]
    }
   ],
   "source": [
    "print(\n",
    "    arr.var(axis=0, ddof=1)\n",
    ")"
   ]
  },
  {
   "cell_type": "markdown",
   "id": "Smvj0H_ki_23",
   "metadata": {
    "id": "Smvj0H_ki_23"
   },
   "source": [
    "コード14.5.10"
   ]
  },
  {
   "cell_type": "code",
   "execution_count": 43,
   "id": "119acb3f-5146-4f06-b7ce-94251775f2c3",
   "metadata": {
    "colab": {
     "base_uri": "https://localhost:8080/"
    },
    "executionInfo": {
     "elapsed": 3,
     "status": "ok",
     "timestamp": 1751100666378,
     "user": {
      "displayName": "T Haruyama",
      "userId": "09851044792665346893"
     },
     "user_tz": -540
    },
    "id": "119acb3f-5146-4f06-b7ce-94251775f2c3",
    "outputId": "16d1943c-9c0c-4aed-841f-5b59f3d59ae7"
   },
   "outputs": [
    {
     "name": "stdout",
     "output_type": "stream",
     "text": [
      "[1.         3.60555128]\n"
     ]
    }
   ],
   "source": [
    "print(\n",
    "    arr.std(axis=0, ddof=1)\n",
    ")"
   ]
  },
  {
   "cell_type": "markdown",
   "id": "hTwkx7oUjI2S",
   "metadata": {
    "id": "hTwkx7oUjI2S"
   },
   "source": [
    "コード14.5.11"
   ]
  },
  {
   "cell_type": "code",
   "execution_count": 44,
   "id": "4025156c-0653-4489-a973-45343b87215c",
   "metadata": {
    "colab": {
     "base_uri": "https://localhost:8080/",
     "height": 147
    },
    "executionInfo": {
     "elapsed": 2,
     "status": "ok",
     "timestamp": 1751100666381,
     "user": {
      "displayName": "T Haruyama",
      "userId": "09851044792665346893"
     },
     "user_tz": -540
    },
    "id": "4025156c-0653-4489-a973-45343b87215c",
    "outputId": "30870586-dbb2-4b7b-a64e-f817d80c98e5"
   },
   "outputs": [
    {
     "data": {
      "text/html": [
       "<div>\n",
       "<style scoped>\n",
       "    .dataframe tbody tr th:only-of-type {\n",
       "        vertical-align: middle;\n",
       "    }\n",
       "\n",
       "    .dataframe tbody tr th {\n",
       "        vertical-align: top;\n",
       "    }\n",
       "\n",
       "    .dataframe thead th {\n",
       "        text-align: right;\n",
       "    }\n",
       "</style>\n",
       "<table border=\"1\" class=\"dataframe\">\n",
       "  <thead>\n",
       "    <tr style=\"text-align: right;\">\n",
       "      <th></th>\n",
       "      <th>0</th>\n",
       "    </tr>\n",
       "  </thead>\n",
       "  <tbody>\n",
       "    <tr>\n",
       "      <th>x</th>\n",
       "      <td>1.0</td>\n",
       "    </tr>\n",
       "    <tr>\n",
       "      <th>y</th>\n",
       "      <td>13.0</td>\n",
       "    </tr>\n",
       "  </tbody>\n",
       "</table>\n",
       "</div><br><label><b>dtype:</b> float64</label>"
      ],
      "text/plain": [
       "x     1.0\n",
       "y    13.0\n",
       "dtype: float64"
      ]
     },
     "execution_count": 44,
     "metadata": {},
     "output_type": "execute_result"
    }
   ],
   "source": [
    "df.var()"
   ]
  },
  {
   "cell_type": "markdown",
   "id": "ILpCG703jPAD",
   "metadata": {
    "id": "ILpCG703jPAD"
   },
   "source": [
    "コード14.5.12"
   ]
  },
  {
   "cell_type": "code",
   "execution_count": 45,
   "id": "8c704fd6-304d-409f-a833-e18344c29e6e",
   "metadata": {
    "colab": {
     "base_uri": "https://localhost:8080/",
     "height": 147
    },
    "executionInfo": {
     "elapsed": 11,
     "status": "ok",
     "timestamp": 1751100666393,
     "user": {
      "displayName": "T Haruyama",
      "userId": "09851044792665346893"
     },
     "user_tz": -540
    },
    "id": "8c704fd6-304d-409f-a833-e18344c29e6e",
    "outputId": "edfba13f-6b93-4989-f285-6200c5c016ee"
   },
   "outputs": [
    {
     "data": {
      "text/html": [
       "<div>\n",
       "<style scoped>\n",
       "    .dataframe tbody tr th:only-of-type {\n",
       "        vertical-align: middle;\n",
       "    }\n",
       "\n",
       "    .dataframe tbody tr th {\n",
       "        vertical-align: top;\n",
       "    }\n",
       "\n",
       "    .dataframe thead th {\n",
       "        text-align: right;\n",
       "    }\n",
       "</style>\n",
       "<table border=\"1\" class=\"dataframe\">\n",
       "  <thead>\n",
       "    <tr style=\"text-align: right;\">\n",
       "      <th></th>\n",
       "      <th>0</th>\n",
       "    </tr>\n",
       "  </thead>\n",
       "  <tbody>\n",
       "    <tr>\n",
       "      <th>x</th>\n",
       "      <td>1.000000</td>\n",
       "    </tr>\n",
       "    <tr>\n",
       "      <th>y</th>\n",
       "      <td>3.605551</td>\n",
       "    </tr>\n",
       "  </tbody>\n",
       "</table>\n",
       "</div><br><label><b>dtype:</b> float64</label>"
      ],
      "text/plain": [
       "x    1.000000\n",
       "y    3.605551\n",
       "dtype: float64"
      ]
     },
     "execution_count": 45,
     "metadata": {},
     "output_type": "execute_result"
    }
   ],
   "source": [
    "df.std()"
   ]
  },
  {
   "cell_type": "markdown",
   "id": "b2dafdea-3aa6-4f25-8b8f-15aa340e83f6",
   "metadata": {
    "id": "b2dafdea-3aa6-4f25-8b8f-15aa340e83f6"
   },
   "source": [
    "## シミュレーション：最小二乗法"
   ]
  },
  {
   "cell_type": "markdown",
   "id": "3n48styYjcG6",
   "metadata": {
    "id": "3n48styYjcG6"
   },
   "source": [
    "### 目的"
   ]
  },
  {
   "cell_type": "markdown",
   "id": "4dada4c4-e42b-45ce-9306-51308808aca8",
   "metadata": {
    "id": "4dada4c4-e42b-45ce-9306-51308808aca8"
   },
   "source": [
    "### 不偏性が成立するための条件"
   ]
  },
  {
   "cell_type": "markdown",
   "id": "8d47d312-6a43-48c1-9847-5b58878b2de9",
   "metadata": {
    "id": "8d47d312-6a43-48c1-9847-5b58878b2de9"
   },
   "source": [
    "### シミュレーションの進め方"
   ]
  },
  {
   "cell_type": "markdown",
   "id": "uLMUYGv6jwfB",
   "metadata": {
    "id": "uLMUYGv6jwfB"
   },
   "source": [
    "### シミュレーション"
   ]
  },
  {
   "cell_type": "markdown",
   "id": "zLmZi5RSj1ow",
   "metadata": {
    "id": "zLmZi5RSj1ow"
   },
   "source": [
    "コード14.6.1"
   ]
  },
  {
   "cell_type": "code",
   "execution_count": 46,
   "id": "ae29d73b-b39c-43d9-abaf-a6c63602e0b7",
   "metadata": {
    "executionInfo": {
     "elapsed": 1,
     "status": "ok",
     "timestamp": 1751100666395,
     "user": {
      "displayName": "T Haruyama",
      "userId": "09851044792665346893"
     },
     "user_tz": -540
    },
    "id": "ae29d73b-b39c-43d9-abaf-a6c63602e0b7"
   },
   "outputs": [],
   "source": [
    "def create_samples(n=30, N=100_000, su=2, seed=None):\n",
    "    \"\"\"\n",
    "    引数：\n",
    "        n：標本の大きさ\n",
    "        N：標本数\n",
    "        s：誤差項の標準偏差\n",
    "        seed：シード値\n",
    "    戻り値：\n",
    "        x：説明変数（二次元配列）\n",
    "        y：被説明変数（二次元配列）\n",
    "    \"\"\"\n",
    "\n",
    "    # 真の値 -------------------------------\n",
    "    alpha, beta = 1, 2\n",
    "\n",
    "    # 標本の生成 ---------------------------\n",
    "    rng = np.random.default_rng(seed)\n",
    "\n",
    "    # 説明変数（各列が1つの標本）, shape = (n,N)\n",
    "    x = rng.uniform(5, 30, size=(n, N))\n",
    "\n",
    "    # 誤差項（各列が1つの標本に対応する）, shape = (n,N)\n",
    "    u = rng.normal(loc=0, scale=su, size=(n, N))\n",
    "\n",
    "    # 被説明変数（各列が1つの標本）, shape = (n,N)\n",
    "    y = alpha + beta * x + u\n",
    "\n",
    "    return x, y"
   ]
  },
  {
   "cell_type": "markdown",
   "id": "OXK0too8kGFm",
   "metadata": {
    "id": "OXK0too8kGFm"
   },
   "source": [
    "コード14.6.2"
   ]
  },
  {
   "cell_type": "code",
   "execution_count": 47,
   "id": "9d972c2d-79eb-47f6-838f-8786433c7c4f",
   "metadata": {
    "executionInfo": {
     "elapsed": 15,
     "status": "ok",
     "timestamp": 1751100666421,
     "user": {
      "displayName": "T Haruyama",
      "userId": "09851044792665346893"
     },
     "user_tz": -540
    },
    "id": "9d972c2d-79eb-47f6-838f-8786433c7c4f"
   },
   "outputs": [],
   "source": [
    "def estimate_ab(x, y):\n",
    "    \"\"\"\n",
    "    引数：\n",
    "        x：説明変数（二次元配列）\n",
    "        y：被説明変数（二次元配列）\n",
    "    戻り値：\n",
    "        ahat：定数項の推定値（一次元配列）\n",
    "        bhat：スロープ係数の推定値（一次元配列）\n",
    "    \"\"\"\n",
    "\n",
    "    # 平均（各標本ごと：合計N個）--------------\n",
    "    x_mean = x.mean(axis=0)  # shape = (N,)\n",
    "    y_mean = y.mean(axis=0)  # shape = (N,)\n",
    "\n",
    "    # 偏差： shape = (n,N) ----------------\n",
    "    x_dev = x - x_mean\n",
    "    y_dev = y - y_mean\n",
    "\n",
    "    # 推定値（N個）, shape = (N,) ----------\n",
    "    bhat = (\n",
    "             ( y_dev * x_dev ).sum(axis=0) /\n",
    "             ( x_dev**2 ).sum(axis=0)\n",
    "           )\n",
    "    ahat = y_mean - bhat * x_mean\n",
    "\n",
    "    return ahat, bhat"
   ]
  },
  {
   "cell_type": "markdown",
   "id": "Fb-Tb1LHkYBF",
   "metadata": {
    "id": "Fb-Tb1LHkYBF"
   },
   "source": [
    "コード14.6.3"
   ]
  },
  {
   "cell_type": "code",
   "execution_count": 48,
   "id": "ebe77b70-88f8-4be6-9485-0b33a54fb48c",
   "metadata": {
    "executionInfo": {
     "elapsed": 4055,
     "status": "ok",
     "timestamp": 1751100670486,
     "user": {
      "displayName": "T Haruyama",
      "userId": "09851044792665346893"
     },
     "user_tz": -540
    },
    "id": "ebe77b70-88f8-4be6-9485-0b33a54fb48c"
   },
   "outputs": [],
   "source": [
    "x_sample, y_sample = create_samples(seed=123)\n",
    "ahat, bhat = estimate_ab(x_sample, y_sample)"
   ]
  },
  {
   "cell_type": "markdown",
   "id": "syuNe1N3lSya",
   "metadata": {
    "id": "syuNe1N3lSya"
   },
   "source": [
    "コード14.6.4"
   ]
  },
  {
   "cell_type": "code",
   "execution_count": 49,
   "id": "18501081-c703-4852-a052-1cdc4940aa32",
   "metadata": {
    "colab": {
     "base_uri": "https://localhost:8080/",
     "height": 480
    },
    "executionInfo": {
     "elapsed": 432,
     "status": "ok",
     "timestamp": 1751100670925,
     "user": {
      "displayName": "T Haruyama",
      "userId": "09851044792665346893"
     },
     "user_tz": -540
    },
    "id": "18501081-c703-4852-a052-1cdc4940aa32",
    "outputId": "1bf50349-6dc9-4f84-8026-1713c9a5beec"
   },
   "outputs": [
    {
     "data": {
      "image/png": "[encoded data removed]",
      "text/plain": [
       "<Figure size 640x480 with 1 Axes>"
      ]
     },
     "metadata": {},
     "output_type": "display_data"
    }
   ],
   "source": [
    "plt.hist(ahat, bins=50,\n",
    "         color=\"black\",\n",
    "         edgecolor=\"white\")\n",
    "\n",
    "plt.xlabel(\"ahat\", size=14)\n",
    "plt.ylabel(\"頻度\", size=14)\n",
    "plt.title(\"定数項の推定値\", size=17)\n",
    "plt.show()"
   ]
  },
  {
   "cell_type": "markdown",
   "id": "SI8_C_F_ldft",
   "metadata": {
    "id": "SI8_C_F_ldft"
   },
   "source": [
    "コード14.6.5"
   ]
  },
  {
   "cell_type": "code",
   "execution_count": 50,
   "id": "7ae66459-a93a-460c-9467-32387b44b461",
   "metadata": {
    "colab": {
     "base_uri": "https://localhost:8080/",
     "height": 480
    },
    "executionInfo": {
     "elapsed": 522,
     "status": "ok",
     "timestamp": 1751100671448,
     "user": {
      "displayName": "T Haruyama",
      "userId": "09851044792665346893"
     },
     "user_tz": -540
    },
    "id": "7ae66459-a93a-460c-9467-32387b44b461",
    "outputId": "49e3b130-c8f9-44ac-c0ef-1a6bd77e6978"
   },
   "outputs": [
    {
     "data": {
      "image/png": "[encoded data removed]",
      "text/plain": [
       "<Figure size 640x480 with 1 Axes>"
      ]
     },
     "metadata": {},
     "output_type": "display_data"
    }
   ],
   "source": [
    "plt.hist(bhat, bins=50,\n",
    "         color=\"black\",\n",
    "         edgecolor=\"white\")\n",
    "\n",
    "plt.xlabel(\"bhat\", size=14)\n",
    "plt.ylabel(\"頻度\", size=14)\n",
    "plt.title(\"スロープ係数の推定値\", size=17)\n",
    "plt.show()"
   ]
  },
  {
   "cell_type": "markdown",
   "id": "WF7gWWvil4i_",
   "metadata": {
    "id": "WF7gWWvil4i_"
   },
   "source": [
    "コード14.6.6"
   ]
  },
  {
   "cell_type": "code",
   "execution_count": 51,
   "id": "4da2d176-1900-4ffc-b3c7-6154e7ba9303",
   "metadata": {
    "colab": {
     "base_uri": "https://localhost:8080/"
    },
    "executionInfo": {
     "elapsed": 11,
     "status": "ok",
     "timestamp": 1751100671459,
     "user": {
      "displayName": "T Haruyama",
      "userId": "09851044792665346893"
     },
     "user_tz": -540
    },
    "id": "4da2d176-1900-4ffc-b3c7-6154e7ba9303",
    "outputId": "402f5a69-f40e-4b87-fdc6-174f6a2d00d5"
   },
   "outputs": [
    {
     "name": "stdout",
     "output_type": "stream",
     "text": [
      "定数項: 1.0001712569884809\n",
      "スロープ係数: 2.000001666119522\n"
     ]
    }
   ],
   "source": [
    "print(f\"定数項: {ahat.mean()}\")\n",
    "print(f\"スロープ係数: {bhat.mean()}\")"
   ]
  }
 ],
 "metadata": {
  "colab": {
   "provenance": []
  },
  "kernelspec": {
   "display_name": "Python 3 (ipykernel)",
   "language": "python",
   "name": "python3"
  },
  "language_info": {
   "codemirror_mode": {
    "name": "ipython",
    "version": 3
   },
   "file_extension": ".py",
   "mimetype": "text/x-python",
   "name": "python",
   "nbconvert_exporter": "python",
   "pygments_lexer": "ipython3",
   "version": "3.13.3"
  }
 },
 "nbformat": 4,
 "nbformat_minor": 5
}
