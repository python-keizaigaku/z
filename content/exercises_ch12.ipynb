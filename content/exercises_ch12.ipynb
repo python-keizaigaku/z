{
 "cells": [
  {
   "cell_type": "markdown",
   "id": "0",
   "metadata": {
    "id": "18f155ab-0e12-4c36-939a-afadf8a15032"
   },
   "source": [
    "# 12章：演習問題の解答"
   ]
  },
  {
   "cell_type": "code",
   "execution_count": null,
   "id": "1",
   "metadata": {
    "colab": {
     "base_uri": "https://localhost:8080/"
    },
    "executionInfo": {
     "elapsed": 11952,
     "status": "ok",
     "timestamp": 1758079422919,
     "user": {
      "displayName": "T Haruyama",
      "userId": "09851044792665346893"
     },
     "user_tz": -540
    },
    "id": "3931b0d2-70a1-4540-8edd-5e61cc4d448e",
    "outputId": "3fb1c6a5-5a1a-48b5-ca4d-a7b3ab05874a"
   },
   "outputs": [],
   "source": [
    "%pip install -q japanize-matplotlib py4macro\n",
    "import japanize_matplotlib\n",
    "import matplotlib.pyplot as plt\n",
    "import numpy as np\n",
    "import pandas as pd\n",
    "import py4macro"
   ]
  },
  {
   "cell_type": "markdown",
   "id": "2",
   "metadata": {
    "id": "9321e3ce-500a-471f-908e-3234d2a37cb6"
   },
   "source": [
    "## 演習1"
   ]
  },
  {
   "cell_type": "markdown",
   "id": "3",
   "metadata": {
    "id": "d85bb5a2-348d-43b5-a64f-348d0167f309"
   },
   "source": [
    "### (1)"
   ]
  },
  {
   "cell_type": "code",
   "execution_count": null,
   "id": "4",
   "metadata": {
    "colab": {
     "base_uri": "https://localhost:8080/"
    },
    "executionInfo": {
     "elapsed": 4792,
     "status": "ok",
     "timestamp": 1758079427707,
     "user": {
      "displayName": "T Haruyama",
      "userId": "09851044792665346893"
     },
     "user_tz": -540
    },
    "id": "cb7f927c-9b95-43f0-8943-9efc5c2f28da",
    "outputId": "f3317377-1676-450e-c1e9-da8c11a328af"
   },
   "outputs": [],
   "source": [
    "pwt = py4macro.data(\"pwt\")\n",
    "pwt.columns"
   ]
  },
  {
   "cell_type": "markdown",
   "id": "5",
   "metadata": {
    "id": "3c2700ef-2f08-4997-8090-6f3f5f055faf"
   },
   "source": [
    "### (2)"
   ]
  },
  {
   "cell_type": "code",
   "execution_count": null,
   "id": "6",
   "metadata": {
    "executionInfo": {
     "elapsed": 1,
     "status": "ok",
     "timestamp": 1758079427709,
     "user": {
      "displayName": "T Haruyama",
      "userId": "09851044792665346893"
     },
     "user_tz": -540
    },
    "id": "7d9c0137-6640-4495-856d-7d965cd5a71e"
   },
   "outputs": [],
   "source": [
    "cols = [\"year\", \"country\", \"rgdpo\", \"pop\"]\n",
    "pwt = pwt[cols]"
   ]
  },
  {
   "cell_type": "markdown",
   "id": "7",
   "metadata": {
    "id": "9bd07bad-c68a-4434-b495-d2886786183c"
   },
   "source": [
    "### (3)"
   ]
  },
  {
   "cell_type": "code",
   "execution_count": null,
   "id": "8",
   "metadata": {
    "executionInfo": {
     "elapsed": 1,
     "status": "ok",
     "timestamp": 1758079427711,
     "user": {
      "displayName": "T Haruyama",
      "userId": "09851044792665346893"
     },
     "user_tz": -540
    },
    "id": "6b5e027e-0ff1-48c7-80c1-001e3851f70b"
   },
   "outputs": [],
   "source": [
    "pwt[\"gdppc\"] = pwt[\"rgdpo\"] / pwt[\"pop\"]\n",
    "pwt[\"gdppc_log\"] = np.log( pwt[\"gdppc\"] )"
   ]
  },
  {
   "cell_type": "markdown",
   "id": "9",
   "metadata": {
    "id": "52b543ef-ed0f-4de2-8a46-1a0bbc8aaa67"
   },
   "source": [
    "### (4)"
   ]
  },
  {
   "cell_type": "code",
   "execution_count": null,
   "id": "10",
   "metadata": {
    "colab": {
     "base_uri": "https://localhost:8080/",
     "height": 459
    },
    "executionInfo": {
     "elapsed": 4,
     "status": "ok",
     "timestamp": 1758079427717,
     "user": {
      "displayName": "T Haruyama",
      "userId": "09851044792665346893"
     },
     "user_tz": -540
    },
    "id": "37adea72-c1ea-4377-8e6d-a99b8856d62a",
    "outputId": "b918068c-4d25-4091-8369-5b67c4831a1a"
   },
   "outputs": [],
   "source": [
    "exclude = [\"United Arab Emirates\", \"Brunei Darussalam\", \"Qatar\", \"Kuwait\",\n",
    "           \"Cayman Islands\", \"Saudi Arabia\", \"China, Macao SAR\", \"Bermuda\"]\n",
    "\n",
    "cond = pwt[\"country\"].isin(exclude)\n",
    "cond"
   ]
  },
  {
   "cell_type": "markdown",
   "id": "11",
   "metadata": {
    "id": "a1677955-54d3-4a79-bf08-b44420c6e07e"
   },
   "source": [
    "### (5)"
   ]
  },
  {
   "cell_type": "code",
   "execution_count": null,
   "id": "12",
   "metadata": {
    "colab": {
     "base_uri": "https://localhost:8080/",
     "height": 459
    },
    "executionInfo": {
     "elapsed": 7,
     "status": "ok",
     "timestamp": 1758079427725,
     "user": {
      "displayName": "T Haruyama",
      "userId": "09851044792665346893"
     },
     "user_tz": -540
    },
    "id": "73d03578-ff1d-49cd-b5ee-892f1352223e",
    "outputId": "65011437-3191-4832-e416-5e7f0d3f0309"
   },
   "outputs": [],
   "source": [
    "~cond"
   ]
  },
  {
   "cell_type": "markdown",
   "id": "13",
   "metadata": {
    "id": "027e7a5f-40fe-49f2-8a93-830af843adb4"
   },
   "source": [
    "### (6)"
   ]
  },
  {
   "cell_type": "code",
   "execution_count": null,
   "id": "14",
   "metadata": {
    "executionInfo": {
     "elapsed": 1,
     "status": "ok",
     "timestamp": 1758079427727,
     "user": {
      "displayName": "T Haruyama",
      "userId": "09851044792665346893"
     },
     "user_tz": -540
    },
    "id": "99d4c8c5-0199-406a-bb9a-59879fcbd551"
   },
   "outputs": [],
   "source": [
    "pwt = pwt.loc[~cond, :]"
   ]
  },
  {
   "cell_type": "markdown",
   "id": "15",
   "metadata": {
    "id": "dc36bf34-4ed1-4475-a7d7-2f555616ae7d"
   },
   "source": [
    "### (7)"
   ]
  },
  {
   "cell_type": "code",
   "execution_count": null,
   "id": "16",
   "metadata": {
    "executionInfo": {
     "elapsed": 1,
     "status": "ok",
     "timestamp": 1758079427729,
     "user": {
      "displayName": "T Haruyama",
      "userId": "09851044792665346893"
     },
     "user_tz": -540
    },
    "id": "ec2fd1c5-f3c6-4d49-ab67-02897d0e8321"
   },
   "outputs": [],
   "source": [
    "countries = pwt[\"country\"].unique()"
   ]
  },
  {
   "cell_type": "code",
   "execution_count": null,
   "id": "17",
   "metadata": {
    "colab": {
     "base_uri": "https://localhost:8080/"
    },
    "executionInfo": {
     "elapsed": 3,
     "status": "ok",
     "timestamp": 1758079427733,
     "user": {
      "displayName": "T Haruyama",
      "userId": "09851044792665346893"
     },
     "user_tz": -540
    },
    "id": "814c9523-96b3-4ae7-8b76-2fb4684d1f3a",
    "outputId": "94b3f2c1-aeaf-4a26-f437-43cdcd8162d5"
   },
   "outputs": [],
   "source": [
    "num = pwt[\"country\"].nunique()\n",
    "print(f\"{num}カ国含まれる。\")"
   ]
  },
  {
   "cell_type": "markdown",
   "id": "18",
   "metadata": {
    "id": "3f29e3c5-62db-42be-b096-481888dd8503"
   },
   "source": [
    "### (8)"
   ]
  },
  {
   "cell_type": "code",
   "execution_count": null,
   "id": "19",
   "metadata": {
    "colab": {
     "base_uri": "https://localhost:8080/",
     "height": 429
    },
    "executionInfo": {
     "elapsed": 8,
     "status": "ok",
     "timestamp": 1758079427742,
     "user": {
      "displayName": "T Haruyama",
      "userId": "09851044792665346893"
     },
     "user_tz": -540
    },
    "id": "a27d5c9b-2efa-4820-99b4-7fc3e60bd940",
    "outputId": "d83270ee-9749-40ac-abab-c188bf2bc985"
   },
   "outputs": [],
   "source": [
    "for c in countries:\n",
    "\n",
    "    cond = ( pwt[\"country\"]==c )\n",
    "    dfc = pwt.loc[cond,:]\n",
    "    plt.plot(\"year\", \"gdppc\", data=dfc)"
   ]
  },
  {
   "cell_type": "markdown",
   "id": "20",
   "metadata": {
    "id": "3afb272a-ade6-494a-b08e-510546ce8de9"
   },
   "source": [
    "### (9)"
   ]
  },
  {
   "cell_type": "code",
   "execution_count": null,
   "id": "21",
   "metadata": {
    "colab": {
     "base_uri": "https://localhost:8080/",
     "height": 429
    },
    "executionInfo": {
     "elapsed": 2,
     "status": "ok",
     "timestamp": 1758079427745,
     "user": {
      "displayName": "T Haruyama",
      "userId": "09851044792665346893"
     },
     "user_tz": -540
    },
    "id": "1f53d766-ce67-4a9e-90b8-d499a2bfb463",
    "outputId": "a0ccf743-d07b-4245-d660-4dc1b2052194"
   },
   "outputs": [],
   "source": [
    "for c in countries:\n",
    "\n",
    "    cond = ( pwt[\"country\"]==c )\n",
    "    dfc = pwt.loc[cond,:]\n",
    "    plt.plot(\"year\", \"gdppc_log\", data=dfc)"
   ]
  },
  {
   "cell_type": "markdown",
   "id": "22",
   "metadata": {
    "id": "b187fe1f-f97a-4565-adeb-e6d773d448f0"
   },
   "source": [
    "## 演習2"
   ]
  },
  {
   "cell_type": "markdown",
   "id": "23",
   "metadata": {
    "id": "3e332382-9352-4a0d-9045-a94bec19363b"
   },
   "source": [
    "### (1)"
   ]
  },
  {
   "cell_type": "code",
   "execution_count": null,
   "id": "24",
   "metadata": {
    "colab": {
     "base_uri": "https://localhost:8080/"
    },
    "executionInfo": {
     "elapsed": 5,
     "status": "ok",
     "timestamp": 1758079427752,
     "user": {
      "displayName": "T Haruyama",
      "userId": "09851044792665346893"
     },
     "user_tz": -540
    },
    "id": "a9c9293a-38c3-446d-8ca7-bc054cbd022d",
    "outputId": "4f6aef3e-7251-46dc-f865-9626b325d9bf"
   },
   "outputs": [],
   "source": [
    "mad = py4macro.data(\"mad\")\n",
    "mad.columns"
   ]
  },
  {
   "cell_type": "markdown",
   "id": "25",
   "metadata": {
    "id": "b38a2820-483d-46d3-acbb-d431c6c059d6"
   },
   "source": [
    "### (2)"
   ]
  },
  {
   "cell_type": "code",
   "execution_count": null,
   "id": "26",
   "metadata": {
    "executionInfo": {
     "elapsed": 1,
     "status": "ok",
     "timestamp": 1758079427752,
     "user": {
      "displayName": "T Haruyama",
      "userId": "09851044792665346893"
     },
     "user_tz": -540
    },
    "id": "d66560ee-49c3-48d9-87c7-3f47bf10d320"
   },
   "outputs": [],
   "source": [
    "exclude = [\"Kuwait\", \"Qatar\", \"United Arab Emirates\"]\n",
    "cond = mad[\"country\"].isin(exclude)\n",
    "mad = mad.loc[~cond,:]"
   ]
  },
  {
   "cell_type": "markdown",
   "id": "27",
   "metadata": {
    "id": "b5101774-4d1d-41c4-b76a-b1d5d24f555f"
   },
   "source": [
    "### (3)"
   ]
  },
  {
   "cell_type": "code",
   "execution_count": null,
   "id": "28",
   "metadata": {
    "executionInfo": {
     "elapsed": 0,
     "status": "ok",
     "timestamp": 1758079427752,
     "user": {
      "displayName": "T Haruyama",
      "userId": "09851044792665346893"
     },
     "user_tz": -540
    },
    "id": "2f1bd465-6bcd-4b40-90bb-afadb689306c"
   },
   "outputs": [],
   "source": [
    "mad[\"gdppc_log\"] = np.log( mad[\"gdppc\"] )"
   ]
  },
  {
   "cell_type": "markdown",
   "id": "29",
   "metadata": {
    "id": "52f991cc-1e06-4404-bbbe-eecc990efce3"
   },
   "source": [
    "### (4)"
   ]
  },
  {
   "cell_type": "code",
   "execution_count": null,
   "id": "30",
   "metadata": {
    "executionInfo": {
     "elapsed": 0,
     "status": "ok",
     "timestamp": 1758079427754,
     "user": {
      "displayName": "T Haruyama",
      "userId": "09851044792665346893"
     },
     "user_tz": -540
    },
    "id": "764d07b4-35ef-4f2f-a79d-faedee168026"
   },
   "outputs": [],
   "source": [
    "countries = mad[\"country\"].unique()"
   ]
  },
  {
   "cell_type": "code",
   "execution_count": null,
   "id": "31",
   "metadata": {
    "colab": {
     "base_uri": "https://localhost:8080/"
    },
    "executionInfo": {
     "elapsed": 3,
     "status": "ok",
     "timestamp": 1758079427759,
     "user": {
      "displayName": "T Haruyama",
      "userId": "09851044792665346893"
     },
     "user_tz": -540
    },
    "id": "423ac1fc-f7e7-4ca7-91b5-198ea7ce0838",
    "outputId": "d7cdb342-b139-46b3-eaa7-38fec108094e"
   },
   "outputs": [],
   "source": [
    "num = mad[\"country\"].nunique()\n",
    "print(f\"{num}カ国含まれる。\")"
   ]
  },
  {
   "cell_type": "markdown",
   "id": "32",
   "metadata": {
    "id": "c7f23b78-e0cc-4566-a98e-2896e1004f7b"
   },
   "source": [
    "### (5)"
   ]
  },
  {
   "cell_type": "code",
   "execution_count": null,
   "id": "33",
   "metadata": {
    "colab": {
     "base_uri": "https://localhost:8080/",
     "height": 429
    },
    "executionInfo": {
     "elapsed": 2,
     "status": "ok",
     "timestamp": 1758079427761,
     "user": {
      "displayName": "T Haruyama",
      "userId": "09851044792665346893"
     },
     "user_tz": -540
    },
    "id": "31f85a8f-c265-4808-b702-246692e60702",
    "outputId": "005f1276-c47d-4410-a047-117b078c873c"
   },
   "outputs": [],
   "source": [
    "for c in countries:\n",
    "\n",
    "    cond = ( mad[\"country\"]==c )\n",
    "    dfc = mad.loc[cond,:]\n",
    "    plt.plot(\"year\", \"gdppc\", data=dfc)"
   ]
  },
  {
   "cell_type": "markdown",
   "id": "34",
   "metadata": {
    "id": "04965754-7ffe-460f-bc00-d595852cb7a7"
   },
   "source": [
    "### (6)"
   ]
  },
  {
   "cell_type": "code",
   "execution_count": null,
   "id": "35",
   "metadata": {
    "colab": {
     "base_uri": "https://localhost:8080/",
     "height": 429
    },
    "executionInfo": {
     "elapsed": 3,
     "status": "ok",
     "timestamp": 1758079427768,
     "user": {
      "displayName": "T Haruyama",
      "userId": "09851044792665346893"
     },
     "user_tz": -540
    },
    "id": "0eeeab45-d2d5-4f86-9642-44cc170004a3",
    "outputId": "21d09057-5e21-4b4b-b9ae-5d24538d4878"
   },
   "outputs": [],
   "source": [
    "for c in countries:\n",
    "\n",
    "    cond = ( mad[\"country\"]==c ) & ( mad[\"year\"]>1800 )\n",
    "    dfc = mad.loc[cond,:]\n",
    "    plt.plot(\"year\", \"gdppc\", data=dfc)"
   ]
  }
 ],
 "metadata": {
  "colab": {
   "provenance": []
  },
  "kernelspec": {
   "display_name": "Python 3",
   "name": "python3"
  },
  "language_info": {
   "name": "python"
  }
 },
 "nbformat": 4,
 "nbformat_minor": 5
}
