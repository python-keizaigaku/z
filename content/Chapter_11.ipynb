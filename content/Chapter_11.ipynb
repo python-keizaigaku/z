{
 "cells": [
  {
   "cell_type": "markdown",
   "id": "0",
   "metadata": {
    "id": "6c1b3542-250c-49d1-afb5-7d6f8e866366"
   },
   "source": [
    "# 第11章　Pandas：より詳細な説明"
   ]
  },
  {
   "cell_type": "markdown",
   "id": "1",
   "metadata": {
    "id": "33HGLebYU7jS"
   },
   "source": [
    "## はじめに"
   ]
  },
  {
   "cell_type": "code",
   "execution_count": null,
   "id": "2",
   "metadata": {
    "colab": {
     "base_uri": "https://localhost:8080/"
    },
    "executionInfo": {
     "elapsed": 9106,
     "status": "ok",
     "timestamp": 1758070664045,
     "user": {
      "displayName": "T Haruyama",
      "userId": "09851044792665346893"
     },
     "user_tz": -540
    },
    "id": "c11c5d36-8a06-4402-8ce3-2539c78055e1",
    "outputId": "58a44bb6-e791-4be7-e9e6-ea5a19f2a409"
   },
   "outputs": [],
   "source": [
    "%pip install -q py4macro\n",
    "import pandas as pd\n",
    "import py4macro\n",
    "import random"
   ]
  },
  {
   "cell_type": "markdown",
   "id": "3",
   "metadata": {
    "id": "fc3be603-fb5d-4df9-afc7-0b5497c0ea05",
    "jp-MarkdownHeadingCollapsed": true
   },
   "source": [
    "## データフレームとシリーズの構成要素"
   ]
  },
  {
   "cell_type": "markdown",
   "id": "4",
   "metadata": {
    "id": "99114c2f-2663-46d2-9a5b-ea0719ff9bb9",
    "jp-MarkdownHeadingCollapsed": true
   },
   "source": [
    "### データフレーム"
   ]
  },
  {
   "cell_type": "markdown",
   "id": "5",
   "metadata": {
    "id": "MsUzA-7izF_b"
   },
   "source": [
    "コード11.2.1"
   ]
  },
  {
   "cell_type": "code",
   "execution_count": null,
   "id": "6",
   "metadata": {
    "colab": {
     "base_uri": "https://localhost:8080/",
     "height": 206
    },
    "executionInfo": {
     "elapsed": 102,
     "status": "ok",
     "timestamp": 1758070664153,
     "user": {
      "displayName": "T Haruyama",
      "userId": "09851044792665346893"
     },
     "user_tz": -540
    },
    "id": "2253e632-4773-40ee-9173-3ad57e483357",
    "outputId": "6565a511-ada4-4e5e-8c27-16581e0b3176"
   },
   "outputs": [],
   "source": [
    "random.seed(123)\n",
    "n = 5\n",
    "dic = {\n",
    "    \"C0\":[random.randint(0,50)\n",
    "          for _ in range(n)],\n",
    "    \"C1\":[random.gauss()\n",
    "          for _ in range(n)],\n",
    "    \"C2\":[\"a\", \"b\", \"c\", \"d\", \"e\"],\n",
    "    \"C3\":[\"R\"+str(i)\n",
    "          for i in range(n)]\n",
    "}\n",
    "df0 = pd.DataFrame(dic)\n",
    "df0"
   ]
  },
  {
   "cell_type": "markdown",
   "id": "7",
   "metadata": {
    "id": "_HZrZU44zVt9"
   },
   "source": [
    "コード11.2.2"
   ]
  },
  {
   "cell_type": "code",
   "execution_count": null,
   "id": "8",
   "metadata": {
    "colab": {
     "base_uri": "https://localhost:8080/",
     "height": 238
    },
    "executionInfo": {
     "elapsed": 130,
     "status": "ok",
     "timestamp": 1758070664291,
     "user": {
      "displayName": "T Haruyama",
      "userId": "09851044792665346893"
     },
     "user_tz": -540
    },
    "id": "5a8cf9b7-0314-4392-93ec-3d793735e301",
    "outputId": "5009fc19-d1e3-4698-fcd5-0efc2927ef72"
   },
   "outputs": [],
   "source": [
    "df0 = df0.set_index(\"C3\")\n",
    "df0"
   ]
  },
  {
   "cell_type": "markdown",
   "id": "9",
   "metadata": {
    "id": "tw5CWzS-zav6"
   },
   "source": [
    "コード11.2.3"
   ]
  },
  {
   "cell_type": "code",
   "execution_count": null,
   "id": "10",
   "metadata": {
    "colab": {
     "base_uri": "https://localhost:8080/"
    },
    "executionInfo": {
     "elapsed": 4,
     "status": "ok",
     "timestamp": 1758070664296,
     "user": {
      "displayName": "T Haruyama",
      "userId": "09851044792665346893"
     },
     "user_tz": -540
    },
    "id": "427a3f14-5bdc-4541-b4b4-02eef7e178b2",
    "outputId": "d16c64de-09ba-421f-b747-30d4590be96f"
   },
   "outputs": [],
   "source": [
    "df0.info()"
   ]
  },
  {
   "cell_type": "markdown",
   "id": "11",
   "metadata": {
    "id": "-TXUDO3qzeh9"
   },
   "source": [
    "コード11.2.4"
   ]
  },
  {
   "cell_type": "code",
   "execution_count": null,
   "id": "12",
   "metadata": {
    "colab": {
     "base_uri": "https://localhost:8080/",
     "height": 300
    },
    "executionInfo": {
     "elapsed": 38,
     "status": "ok",
     "timestamp": 1758070664335,
     "user": {
      "displayName": "T Haruyama",
      "userId": "09851044792665346893"
     },
     "user_tz": -540
    },
    "id": "ULVRk9at56z6",
    "outputId": "0cf7ab06-2b21-4503-f352-b1c6b874fa8f"
   },
   "outputs": [],
   "source": [
    "df0[[\"C0\", \"C1\"]].describe()"
   ]
  },
  {
   "cell_type": "markdown",
   "id": "13",
   "metadata": {
    "id": "gxkAwzoXzjN3"
   },
   "source": [
    "コード11.2.5"
   ]
  },
  {
   "cell_type": "code",
   "execution_count": null,
   "id": "14",
   "metadata": {
    "colab": {
     "base_uri": "https://localhost:8080/"
    },
    "executionInfo": {
     "elapsed": 4,
     "status": "ok",
     "timestamp": 1758070664353,
     "user": {
      "displayName": "T Haruyama",
      "userId": "09851044792665346893"
     },
     "user_tz": -540
    },
    "id": "6d314b2b-3bb6-4258-a05c-d6d65b790ab8",
    "outputId": "850bbbf2-4348-4129-de46-3e61f3d2dae0"
   },
   "outputs": [],
   "source": [
    "df0.columns"
   ]
  },
  {
   "cell_type": "markdown",
   "id": "15",
   "metadata": {
    "id": "NOLEgxzjzlLv"
   },
   "source": [
    "コード11.2.6"
   ]
  },
  {
   "cell_type": "code",
   "execution_count": null,
   "id": "16",
   "metadata": {
    "colab": {
     "base_uri": "https://localhost:8080/"
    },
    "executionInfo": {
     "elapsed": 36,
     "status": "ok",
     "timestamp": 1758070664394,
     "user": {
      "displayName": "T Haruyama",
      "userId": "09851044792665346893"
     },
     "user_tz": -540
    },
    "id": "67984b7b-0dd7-4185-9472-e5e05969ba67",
    "outputId": "dcb2dc0a-e05e-485d-8e22-3ff30eb896e9"
   },
   "outputs": [],
   "source": [
    "df0.index"
   ]
  },
  {
   "cell_type": "markdown",
   "id": "17",
   "metadata": {
    "id": "8mX6I0Weznkx"
   },
   "source": [
    "コード11.2.7"
   ]
  },
  {
   "cell_type": "code",
   "execution_count": null,
   "id": "18",
   "metadata": {
    "colab": {
     "base_uri": "https://localhost:8080/"
    },
    "executionInfo": {
     "elapsed": 8,
     "status": "ok",
     "timestamp": 1758070664403,
     "user": {
      "displayName": "T Haruyama",
      "userId": "09851044792665346893"
     },
     "user_tz": -540
    },
    "id": "668dab7e-0a40-4c69-9300-8b51d5053b95",
    "outputId": "baef062b-a9c7-4621-8fc5-c2fa0ad8194f"
   },
   "outputs": [],
   "source": [
    "df0.to_numpy()"
   ]
  },
  {
   "cell_type": "markdown",
   "id": "19",
   "metadata": {
    "id": "99211e3e-9262-4b33-a796-1035ba47b054",
    "jp-MarkdownHeadingCollapsed": true
   },
   "source": [
    "### シリーズ"
   ]
  },
  {
   "cell_type": "markdown",
   "id": "20",
   "metadata": {
    "id": "Am_bYXPgzrxT"
   },
   "source": [
    "コード11.2.8"
   ]
  },
  {
   "cell_type": "code",
   "execution_count": null,
   "id": "21",
   "metadata": {
    "colab": {
     "base_uri": "https://localhost:8080/",
     "height": 272
    },
    "executionInfo": {
     "elapsed": 4,
     "status": "ok",
     "timestamp": 1758070664404,
     "user": {
      "displayName": "T Haruyama",
      "userId": "09851044792665346893"
     },
     "user_tz": -540
    },
    "id": "882daf7c-e6b3-4088-8dae-76f06db44037",
    "outputId": "6f0c7b47-02d2-43fd-921f-f2b8e9a56ed2"
   },
   "outputs": [],
   "source": [
    "s0 = df0[\"C0\"]\n",
    "s0"
   ]
  },
  {
   "cell_type": "markdown",
   "id": "22",
   "metadata": {
    "id": "tPPrCHFkzvIB"
   },
   "source": [
    "コード11.2.9"
   ]
  },
  {
   "cell_type": "code",
   "execution_count": null,
   "id": "23",
   "metadata": {
    "colab": {
     "base_uri": "https://localhost:8080/"
    },
    "executionInfo": {
     "elapsed": 12,
     "status": "ok",
     "timestamp": 1758070664417,
     "user": {
      "displayName": "T Haruyama",
      "userId": "09851044792665346893"
     },
     "user_tz": -540
    },
    "id": "e650da8b-9c7a-486e-ab1a-12641f3e5efe",
    "outputId": "b9c65325-d0f3-404c-c53e-e2bd51f1fcd6"
   },
   "outputs": [],
   "source": [
    "s0.index"
   ]
  },
  {
   "cell_type": "markdown",
   "id": "24",
   "metadata": {
    "id": "J6E1RbfGzydl"
   },
   "source": [
    "コード11.2.10"
   ]
  },
  {
   "cell_type": "code",
   "execution_count": null,
   "id": "25",
   "metadata": {
    "colab": {
     "base_uri": "https://localhost:8080/"
    },
    "executionInfo": {
     "elapsed": 8,
     "status": "ok",
     "timestamp": 1758070664426,
     "user": {
      "displayName": "T Haruyama",
      "userId": "09851044792665346893"
     },
     "user_tz": -540
    },
    "id": "1d907018-9d3b-43a9-b27c-8e9c8e994aed",
    "outputId": "e006b1bd-168f-4b84-a7a5-142afab49c7c"
   },
   "outputs": [],
   "source": [
    "s0.to_numpy()"
   ]
  },
  {
   "cell_type": "markdown",
   "id": "26",
   "metadata": {
    "id": "994db169-29d6-414d-9180-5cf444f6550d"
   },
   "source": [
    "## データの抽出"
   ]
  },
  {
   "cell_type": "markdown",
   "id": "27",
   "metadata": {
    "id": "P2F7rj-O-qQa"
   },
   "source": [
    "### データフレーム：一つの値を抽出する"
   ]
  },
  {
   "cell_type": "markdown",
   "id": "28",
   "metadata": {
    "id": "-pqt3h2rz3qX"
   },
   "source": [
    "コード11.3.1"
   ]
  },
  {
   "cell_type": "code",
   "execution_count": null,
   "id": "29",
   "metadata": {
    "colab": {
     "base_uri": "https://localhost:8080/",
     "height": 35
    },
    "executionInfo": {
     "elapsed": 15,
     "status": "ok",
     "timestamp": 1758070664443,
     "user": {
      "displayName": "T Haruyama",
      "userId": "09851044792665346893"
     },
     "user_tz": -540
    },
    "id": "npi4ETNd66Bb",
    "outputId": "5e0c37c2-b71e-43a1-e77d-9edec4c1cbf7"
   },
   "outputs": [],
   "source": [
    "df0.loc[\"R1\", \"C2\"]"
   ]
  },
  {
   "cell_type": "markdown",
   "id": "30",
   "metadata": {
    "id": "cgWljoVq0C1y"
   },
   "source": [
    "コード11.3.2"
   ]
  },
  {
   "cell_type": "code",
   "execution_count": null,
   "id": "31",
   "metadata": {
    "colab": {
     "base_uri": "https://localhost:8080/",
     "height": 35
    },
    "executionInfo": {
     "elapsed": 2,
     "status": "ok",
     "timestamp": 1758070664443,
     "user": {
      "displayName": "T Haruyama",
      "userId": "09851044792665346893"
     },
     "user_tz": -540
    },
    "id": "5XTGgzRX7lnH",
    "outputId": "d902fae1-a86e-4551-eed9-50ee80b3b4cc"
   },
   "outputs": [],
   "source": [
    "df0.iloc[1, 2]"
   ]
  },
  {
   "cell_type": "markdown",
   "id": "32",
   "metadata": {
    "id": "aOOK91d70HSf"
   },
   "source": [
    "コード11.3.3"
   ]
  },
  {
   "cell_type": "code",
   "execution_count": null,
   "id": "33",
   "metadata": {
    "colab": {
     "base_uri": "https://localhost:8080/",
     "height": 142
    },
    "executionInfo": {
     "elapsed": 10,
     "status": "ok",
     "timestamp": 1758070664455,
     "user": {
      "displayName": "T Haruyama",
      "userId": "09851044792665346893"
     },
     "user_tz": -540
    },
    "id": "JLf4d1X77IHE",
    "outputId": "abada638-7c9e-4da5-b65c-3fbf5ac40496"
   },
   "outputs": [],
   "source": [
    "random.seed(123)\n",
    "n = 5\n",
    "dic = {\n",
    "    \"C0\":[random.randint(0,50) for _ in range(n)],\n",
    "    \"C1\":[random.gauss() for _ in range(n)],\n",
    "    \"C2\":[\"a\", \"b\", \"c\", \"d\", \"e\"],\n",
    "    \"C3\":[\"R\"+str(i) for i in range(n)]\n",
    "}\n",
    "df0 = pd.DataFrame(dic)\n",
    "print(df0)\n",
    "\n",
    "df0.loc[1, \"C2\"]"
   ]
  },
  {
   "cell_type": "markdown",
   "id": "34",
   "metadata": {
    "id": "Q0O2LAo6-0BJ"
   },
   "source": [
    "### データフレーム：スライシング"
   ]
  },
  {
   "cell_type": "markdown",
   "id": "35",
   "metadata": {
    "id": "FsCaErUO0SSw"
   },
   "source": [
    "コード11.3.4"
   ]
  },
  {
   "cell_type": "code",
   "execution_count": null,
   "id": "36",
   "metadata": {
    "colab": {
     "base_uri": "https://localhost:8080/",
     "height": 394
    },
    "executionInfo": {
     "elapsed": 144,
     "status": "ok",
     "timestamp": 1758070664608,
     "user": {
      "displayName": "T Haruyama",
      "userId": "09851044792665346893"
     },
     "user_tz": -540
    },
    "id": "d8714d18-1562-4291-bebf-d9403ae1597e",
    "outputId": "8fe91449-33a5-4c05-ee81-85cbdb3bc9f3"
   },
   "outputs": [],
   "source": [
    "df = py4macro.data(\"data4\")\n",
    "df"
   ]
  },
  {
   "cell_type": "markdown",
   "id": "37",
   "metadata": {
    "id": "lzbsCawH0diy"
   },
   "source": [
    "コード11.3.5"
   ]
  },
  {
   "cell_type": "code",
   "execution_count": null,
   "id": "38",
   "metadata": {
    "colab": {
     "base_uri": "https://localhost:8080/",
     "height": 175
    },
    "executionInfo": {
     "elapsed": 10,
     "status": "ok",
     "timestamp": 1758070664619,
     "user": {
      "displayName": "T Haruyama",
      "userId": "09851044792665346893"
     },
     "user_tz": -540
    },
    "id": "MPDYHyHK-_yH",
    "outputId": "6f3d8c3e-f26b-4cda-a18c-294ff9af0126"
   },
   "outputs": [],
   "source": [
    "df.loc[\"Germany\":\"Italy\", \"con\":\"pop\"]"
   ]
  },
  {
   "cell_type": "markdown",
   "id": "39",
   "metadata": {
    "id": "VGD4FIvu0gc4"
   },
   "source": [
    "コード11.3.6"
   ]
  },
  {
   "cell_type": "code",
   "execution_count": null,
   "id": "40",
   "metadata": {
    "colab": {
     "base_uri": "https://localhost:8080/",
     "height": 175
    },
    "executionInfo": {
     "elapsed": 9,
     "status": "ok",
     "timestamp": 1758070664629,
     "user": {
      "displayName": "T Haruyama",
      "userId": "09851044792665346893"
     },
     "user_tz": -540
    },
    "id": "K3UCvklUVy_F",
    "outputId": "b218ad8e-378a-4bc8-a831-998c8a1ea629"
   },
   "outputs": [],
   "source": [
    "df.iloc[2:5, 1:4]\n",
    "# df.iloc[2:4+1, 1:3+1]"
   ]
  },
  {
   "cell_type": "markdown",
   "id": "41",
   "metadata": {
    "id": "JdvzTT0a_R8S"
   },
   "source": [
    "### データフレーム：リストを使う抽出方法"
   ]
  },
  {
   "cell_type": "markdown",
   "id": "42",
   "metadata": {
    "id": "8GiyhBoM0nQ7"
   },
   "source": [
    "コード11.3.7"
   ]
  },
  {
   "cell_type": "code",
   "execution_count": null,
   "id": "43",
   "metadata": {
    "colab": {
     "base_uri": "https://localhost:8080/",
     "height": 143
    },
    "executionInfo": {
     "elapsed": 68,
     "status": "ok",
     "timestamp": 1758070664702,
     "user": {
      "displayName": "T Haruyama",
      "userId": "09851044792665346893"
     },
     "user_tz": -540
    },
    "id": "eee8d54c-f2ea-4e5f-b7a1-5e81ca1ce3b9",
    "outputId": "ddf78a91-7e6f-49ea-f04f-a93a9b4ace27"
   },
   "outputs": [],
   "source": [
    "rows = [\"UK\", \"Japan\"]\n",
    "cols = [\"pop\", \"con\"]\n",
    "df.loc[rows,cols]"
   ]
  },
  {
   "cell_type": "markdown",
   "id": "44",
   "metadata": {
    "id": "8IUxVl620rdN"
   },
   "source": [
    "コード11.3.8"
   ]
  },
  {
   "cell_type": "code",
   "execution_count": null,
   "id": "45",
   "metadata": {
    "colab": {
     "base_uri": "https://localhost:8080/",
     "height": 143
    },
    "executionInfo": {
     "elapsed": 11,
     "status": "ok",
     "timestamp": 1758070664719,
     "user": {
      "displayName": "T Haruyama",
      "userId": "09851044792665346893"
     },
     "user_tz": -540
    },
    "id": "EyC4dpwJ_cEN",
    "outputId": "d422df89-ad60-4c55-fd54-2f909554f32b"
   },
   "outputs": [],
   "source": [
    "df.iloc[[-1,5], [3,1]]"
   ]
  },
  {
   "cell_type": "markdown",
   "id": "46",
   "metadata": {
    "id": "JilWVe_W_knD"
   },
   "source": [
    "### データフレーム：10.2.3項の方法"
   ]
  },
  {
   "cell_type": "markdown",
   "id": "47",
   "metadata": {
    "id": "ewAXUEX__0je"
   },
   "source": [
    "### データフレーム：3つの方法を駆使する"
   ]
  },
  {
   "cell_type": "markdown",
   "id": "48",
   "metadata": {
    "id": "BxC1xjF602FR"
   },
   "source": [
    "コード11.3.9"
   ]
  },
  {
   "cell_type": "code",
   "execution_count": null,
   "id": "49",
   "metadata": {
    "colab": {
     "base_uri": "https://localhost:8080/",
     "height": 241
    },
    "executionInfo": {
     "elapsed": 1,
     "status": "ok",
     "timestamp": 1758070664721,
     "user": {
      "displayName": "T Haruyama",
      "userId": "09851044792665346893"
     },
     "user_tz": -540
    },
    "id": "11c86a0c-3fa1-4458-b684-b7807b23bc61",
    "outputId": "89126c7b-9beb-402c-f988-d7d1b4641d09"
   },
   "outputs": [],
   "source": [
    "df.loc[\"Japan\":\"Taiwan\", \"gdp\"]"
   ]
  },
  {
   "cell_type": "markdown",
   "id": "50",
   "metadata": {
    "id": "W0BNQu0-1Db1"
   },
   "source": [
    "コード11.3.10"
   ]
  },
  {
   "cell_type": "code",
   "execution_count": null,
   "id": "51",
   "metadata": {
    "colab": {
     "base_uri": "https://localhost:8080/",
     "height": 206
    },
    "executionInfo": {
     "elapsed": 29,
     "status": "ok",
     "timestamp": 1758070664760,
     "user": {
      "displayName": "T Haruyama",
      "userId": "09851044792665346893"
     },
     "user_tz": -540
    },
    "id": "b1065187-dafb-46f4-878e-7dafb3373696",
    "outputId": "5177cd94-30b6-407e-e276-965cd9c86fbd"
   },
   "outputs": [],
   "source": [
    "df.loc[\"Japan\":\"Taiwan\",[\"gdp\"]]"
   ]
  },
  {
   "cell_type": "markdown",
   "id": "52",
   "metadata": {
    "id": "oYTov-yL1JwW"
   },
   "source": [
    "コード11.3.11"
   ]
  },
  {
   "cell_type": "code",
   "execution_count": null,
   "id": "53",
   "metadata": {
    "colab": {
     "base_uri": "https://localhost:8080/",
     "height": 241
    },
    "executionInfo": {
     "elapsed": 6,
     "status": "ok",
     "timestamp": 1758070664767,
     "user": {
      "displayName": "T Haruyama",
      "userId": "09851044792665346893"
     },
     "user_tz": -540
    },
    "id": "6364c1bc-21ec-4f3c-a8fc-2e7cb5b3110a",
    "outputId": "ee8fcb8a-eb4f-468e-9c70-4d3c21a11511"
   },
   "outputs": [],
   "source": [
    "df.iloc[5:-1, 0]"
   ]
  },
  {
   "cell_type": "markdown",
   "id": "54",
   "metadata": {
    "id": "GnK6GwxD1Meb"
   },
   "source": [
    "コード11.3.12"
   ]
  },
  {
   "cell_type": "code",
   "execution_count": null,
   "id": "55",
   "metadata": {
    "colab": {
     "base_uri": "https://localhost:8080/",
     "height": 206
    },
    "executionInfo": {
     "elapsed": 11,
     "status": "ok",
     "timestamp": 1758070664780,
     "user": {
      "displayName": "T Haruyama",
      "userId": "09851044792665346893"
     },
     "user_tz": -540
    },
    "id": "0ca59f3a-baf4-45ac-bfb5-5f1acdf1999d",
    "outputId": "f5f892ce-3295-4fd4-a3f4-5a85977f3e0d"
   },
   "outputs": [],
   "source": [
    "df.iloc[5:-1, [0]]"
   ]
  },
  {
   "cell_type": "markdown",
   "id": "56",
   "metadata": {
    "id": "BLWThcb81S3x"
   },
   "source": [
    "コード11.3.13"
   ]
  },
  {
   "cell_type": "code",
   "execution_count": null,
   "id": "57",
   "metadata": {
    "colab": {
     "base_uri": "https://localhost:8080/",
     "height": 241
    },
    "executionInfo": {
     "elapsed": 79,
     "status": "ok",
     "timestamp": 1758070664860,
     "user": {
      "displayName": "T Haruyama",
      "userId": "09851044792665346893"
     },
     "user_tz": -540
    },
    "id": "0ab1f491-9484-4ce6-8612-4a8957f65f8f",
    "outputId": "d2a442f3-4df3-4284-dfb8-7c345661b68c"
   },
   "outputs": [],
   "source": [
    "(\n",
    "    df.loc[\"Japan\":\"Taiwan\", \"gdp\"] /\n",
    "    df.loc[\"Japan\":\"Taiwan\", \"pop\"]\n",
    ")"
   ]
  },
  {
   "cell_type": "markdown",
   "id": "58",
   "metadata": {
    "id": "BKpMlUJ_1dfl"
   },
   "source": [
    "コード11.3.14"
   ]
  },
  {
   "cell_type": "code",
   "execution_count": null,
   "id": "59",
   "metadata": {
    "colab": {
     "base_uri": "https://localhost:8080/",
     "height": 206
    },
    "executionInfo": {
     "elapsed": 70,
     "status": "ok",
     "timestamp": 1758070664931,
     "user": {
      "displayName": "T Haruyama",
      "userId": "09851044792665346893"
     },
     "user_tz": -540
    },
    "id": "za6AUptmAmtQ",
    "outputId": "43f20f55-09b9-40a6-b084-1e1e2b2d9d4f"
   },
   "outputs": [],
   "source": [
    "(\n",
    "    df.loc[\"Japan\":\"Taiwan\", [\"gdp\"]] /\n",
    "    df.loc[\"Japan\":\"Taiwan\", [\"pop\"]]\n",
    ")"
   ]
  },
  {
   "cell_type": "markdown",
   "id": "60",
   "metadata": {
    "id": "X1Oj4X9iAkYE"
   },
   "source": [
    "### シリーズ"
   ]
  },
  {
   "cell_type": "markdown",
   "id": "61",
   "metadata": {
    "id": "f4kNIHtD2YJ-"
   },
   "source": [
    "コード11.3.15"
   ]
  },
  {
   "cell_type": "code",
   "execution_count": null,
   "id": "62",
   "metadata": {
    "colab": {
     "base_uri": "https://localhost:8080/",
     "height": 429
    },
    "executionInfo": {
     "elapsed": 1,
     "status": "ok",
     "timestamp": 1758070664933,
     "user": {
      "displayName": "T Haruyama",
      "userId": "09851044792665346893"
     },
     "user_tz": -540
    },
    "id": "c05ba533-e84b-4af4-866b-e9dcc2f5a56a",
    "outputId": "b523f489-f811-4e5d-d5ff-56759460ab1a"
   },
   "outputs": [],
   "source": [
    "s = df.loc[:,\"gdp\"]\n",
    "s"
   ]
  },
  {
   "cell_type": "markdown",
   "id": "63",
   "metadata": {
    "id": "dEeLBdnh2fVK"
   },
   "source": [
    "コード11.3.16"
   ]
  },
  {
   "cell_type": "code",
   "execution_count": null,
   "id": "64",
   "metadata": {
    "colab": {
     "base_uri": "https://localhost:8080/"
    },
    "executionInfo": {
     "elapsed": 29,
     "status": "ok",
     "timestamp": 1758070664963,
     "user": {
      "displayName": "T Haruyama",
      "userId": "09851044792665346893"
     },
     "user_tz": -540
    },
    "id": "ab81e09e-36a7-4bfd-a650-78be9d3fc805",
    "outputId": "0e1fef31-a527-4724-ac93-2053bfceb433"
   },
   "outputs": [],
   "source": [
    "print( s[\"Japan\"] )"
   ]
  },
  {
   "cell_type": "markdown",
   "id": "65",
   "metadata": {
    "id": "csSBmFku2h7b"
   },
   "source": [
    "コード11.3.17"
   ]
  },
  {
   "cell_type": "code",
   "execution_count": null,
   "id": "66",
   "metadata": {
    "colab": {
     "base_uri": "https://localhost:8080/"
    },
    "executionInfo": {
     "elapsed": 44,
     "status": "ok",
     "timestamp": 1758070665008,
     "user": {
      "displayName": "T Haruyama",
      "userId": "09851044792665346893"
     },
     "user_tz": -540
    },
    "id": "35032881-6bee-4d8e-afc5-b6ca02f938bd",
    "outputId": "6dcbbff2-da33-474d-fedf-1d5462407827"
   },
   "outputs": [],
   "source": [
    "print( s.loc[\"Japan\"] )"
   ]
  },
  {
   "cell_type": "markdown",
   "id": "67",
   "metadata": {
    "id": "C1ThMaxk2nT_"
   },
   "source": [
    "コード11.3.18"
   ]
  },
  {
   "cell_type": "code",
   "execution_count": null,
   "id": "68",
   "metadata": {
    "colab": {
     "base_uri": "https://localhost:8080/"
    },
    "executionInfo": {
     "elapsed": 2,
     "status": "ok",
     "timestamp": 1758070665011,
     "user": {
      "displayName": "T Haruyama",
      "userId": "09851044792665346893"
     },
     "user_tz": -540
    },
    "id": "7029ea1d-d863-47d9-88e5-985d542f2c4c",
    "outputId": "4c9cbcf9-39e1-4a21-d725-6834c70326ab"
   },
   "outputs": [],
   "source": [
    "print( s.iloc[5] )"
   ]
  },
  {
   "cell_type": "markdown",
   "id": "69",
   "metadata": {
    "id": "9yZPlEd5KFeI"
   },
   "source": [
    "コード11.3.19"
   ]
  },
  {
   "cell_type": "code",
   "execution_count": null,
   "id": "70",
   "metadata": {
    "colab": {
     "base_uri": "https://localhost:8080/",
     "height": 210
    },
    "executionInfo": {
     "elapsed": 12,
     "status": "ok",
     "timestamp": 1758070665024,
     "user": {
      "displayName": "T Haruyama",
      "userId": "09851044792665346893"
     },
     "user_tz": -540
    },
    "id": "7bca43ee-3e9e-494c-84aa-e0af65a1d295",
    "outputId": "f5ac20e8-f81f-4444-b778-9758a8f07505"
   },
   "outputs": [],
   "source": [
    "s.loc[\"Italy\":\"Korea\"]\n",
    "# s.iloc[4:-3]"
   ]
  },
  {
   "cell_type": "markdown",
   "id": "71",
   "metadata": {
    "id": "5ed93c36-0c02-4301-a6f4-a32a4b584988"
   },
   "source": [
    "### 条件に基づく行の抽出"
   ]
  },
  {
   "cell_type": "markdown",
   "id": "72",
   "metadata": {
    "id": "pyUZEYCOAluj"
   },
   "source": [
    "#### 一つの条件の場合"
   ]
  },
  {
   "cell_type": "markdown",
   "id": "73",
   "metadata": {
    "id": "CamGDjMAKWcF"
   },
   "source": [
    "コード11.3.20"
   ]
  },
  {
   "cell_type": "code",
   "execution_count": null,
   "id": "74",
   "metadata": {
    "colab": {
     "base_uri": "https://localhost:8080/",
     "height": 429
    },
    "executionInfo": {
     "elapsed": 63,
     "status": "ok",
     "timestamp": 1758070665096,
     "user": {
      "displayName": "T Haruyama",
      "userId": "09851044792665346893"
     },
     "user_tz": -540
    },
    "id": "107276b0-e772-40c3-ad0e-bed476fb170e",
    "outputId": "7f06ac3e-9f7d-43b9-d243-08abc8f22528"
   },
   "outputs": [],
   "source": [
    "df[\"continent\"] == \"Asia\""
   ]
  },
  {
   "cell_type": "markdown",
   "id": "75",
   "metadata": {
    "id": "gKnvqMnAKdLO"
   },
   "source": [
    "コード11.3.21"
   ]
  },
  {
   "cell_type": "code",
   "execution_count": null,
   "id": "76",
   "metadata": {
    "colab": {
     "base_uri": "https://localhost:8080/",
     "height": 269
    },
    "executionInfo": {
     "elapsed": 27,
     "status": "ok",
     "timestamp": 1758070665123,
     "user": {
      "displayName": "T Haruyama",
      "userId": "09851044792665346893"
     },
     "user_tz": -540
    },
    "id": "zjPd2J6F_iN9",
    "outputId": "1ff90359-710a-4938-d4aa-c65d85b54165"
   },
   "outputs": [],
   "source": [
    "cond = ( df[\"continent\"]==\"Asia\" )\n",
    "df.loc[cond,:]"
   ]
  },
  {
   "cell_type": "markdown",
   "id": "77",
   "metadata": {
    "id": "Qx3Jh89sAqQN"
   },
   "source": [
    "#### 複数条件の場合"
   ]
  },
  {
   "cell_type": "markdown",
   "id": "78",
   "metadata": {
    "id": "lDejscTmKk3w"
   },
   "source": [
    "コード11.3.22"
   ]
  },
  {
   "cell_type": "code",
   "execution_count": null,
   "id": "79",
   "metadata": {
    "colab": {
     "base_uri": "https://localhost:8080/",
     "height": 429
    },
    "executionInfo": {
     "elapsed": 45,
     "status": "ok",
     "timestamp": 1758070665170,
     "user": {
      "displayName": "T Haruyama",
      "userId": "09851044792665346893"
     },
     "user_tz": -540
    },
    "id": "6f38f3d2-2ae3-4a47-8e90-fd2d428dd7b8",
    "outputId": "9207f54c-b9e1-4b3a-e748-b47e90262491"
   },
   "outputs": [],
   "source": [
    "cond1 = ( df[\"continent\"] == \"Asia\" )\n",
    "cond2 = ( df[\"gdp\"] >= 4000 )\n",
    "cond = cond1 & cond2\n",
    "cond"
   ]
  },
  {
   "cell_type": "markdown",
   "id": "80",
   "metadata": {
    "id": "MQo3p6_IKrWw"
   },
   "source": [
    "コード11.3.23"
   ]
  },
  {
   "cell_type": "code",
   "execution_count": null,
   "id": "81",
   "metadata": {
    "colab": {
     "base_uri": "https://localhost:8080/",
     "height": 175
    },
    "executionInfo": {
     "elapsed": 30,
     "status": "ok",
     "timestamp": 1758070665207,
     "user": {
      "displayName": "T Haruyama",
      "userId": "09851044792665346893"
     },
     "user_tz": -540
    },
    "id": "jW_-slKgAJoC",
    "outputId": "1056d2fa-d79c-467f-bbdb-673f6935c0d0"
   },
   "outputs": [],
   "source": [
    "df.loc[cond, [\"gdp\",\"con\"]]"
   ]
  },
  {
   "cell_type": "markdown",
   "id": "82",
   "metadata": {
    "id": "uUqLo9fIKwzX"
   },
   "source": [
    "コード11.3.24"
   ]
  },
  {
   "cell_type": "code",
   "execution_count": null,
   "id": "83",
   "metadata": {
    "colab": {
     "base_uri": "https://localhost:8080/",
     "height": 429
    },
    "executionInfo": {
     "elapsed": 2,
     "status": "ok",
     "timestamp": 1758070665210,
     "user": {
      "displayName": "T Haruyama",
      "userId": "09851044792665346893"
     },
     "user_tz": -540
    },
    "id": "9cd944dc-aa0b-4729-922c-0f1fb2fe098e",
    "outputId": "a3cc8fcc-2535-4403-d295-fc0c6ba51bdc"
   },
   "outputs": [],
   "source": [
    "cond1 = ( df[\"continent\"] == \"Asia\" )\n",
    "cond2 = ( df[\"gdp\"] >= 4000 )\n",
    "cond = cond1 | cond2\n",
    "cond"
   ]
  },
  {
   "cell_type": "markdown",
   "id": "84",
   "metadata": {
    "id": "ONG5FbWyK1-2"
   },
   "source": [
    "コード11.3.25"
   ]
  },
  {
   "cell_type": "code",
   "execution_count": null,
   "id": "85",
   "metadata": {
    "colab": {
     "base_uri": "https://localhost:8080/",
     "height": 300
    },
    "executionInfo": {
     "elapsed": 12,
     "status": "ok",
     "timestamp": 1758070665237,
     "user": {
      "displayName": "T Haruyama",
      "userId": "09851044792665346893"
     },
     "user_tz": -540
    },
    "id": "7de1a7e7-61af-4a60-8a17-5eb97f4c85b6",
    "outputId": "2a22790a-3521-4b1d-de63-2686eb7dd7f0"
   },
   "outputs": [],
   "source": [
    "df.loc[cond, [\"gdp\",\"con\"]]"
   ]
  },
  {
   "cell_type": "markdown",
   "id": "86",
   "metadata": {
    "id": "tjlRVNexBNl-"
   },
   "source": [
    "## 欠損値の扱い"
   ]
  },
  {
   "cell_type": "markdown",
   "id": "87",
   "metadata": {
    "id": "TcXLNO4vBfJJ"
   },
   "source": [
    "### 欠損値の確認"
   ]
  },
  {
   "cell_type": "markdown",
   "id": "88",
   "metadata": {
    "id": "3bS_aF-zLAmr"
   },
   "source": [
    "コード11.4.1"
   ]
  },
  {
   "cell_type": "code",
   "execution_count": null,
   "id": "89",
   "metadata": {
    "colab": {
     "base_uri": "https://localhost:8080/",
     "height": 394
    },
    "executionInfo": {
     "elapsed": 30,
     "status": "ok",
     "timestamp": 1758070665273,
     "user": {
      "displayName": "T Haruyama",
      "userId": "09851044792665346893"
     },
     "user_tz": -540
    },
    "id": "75cbc58b-178b-43bd-b574-7f21c22a9328",
    "outputId": "21aeabc9-c03a-47bb-9c86-9716e4303a5e"
   },
   "outputs": [],
   "source": [
    "df.isna()"
   ]
  },
  {
   "cell_type": "markdown",
   "id": "90",
   "metadata": {
    "id": "5rMGA4qNLFFR"
   },
   "source": [
    "コード11.4.2"
   ]
  },
  {
   "cell_type": "code",
   "execution_count": null,
   "id": "91",
   "metadata": {
    "colab": {
     "base_uri": "https://localhost:8080/",
     "height": 241
    },
    "executionInfo": {
     "elapsed": 8,
     "status": "ok",
     "timestamp": 1758070665282,
     "user": {
      "displayName": "T Haruyama",
      "userId": "09851044792665346893"
     },
     "user_tz": -540
    },
    "id": "8650a3d3-2e21-407f-a085-6661d8dd3e88",
    "outputId": "d69d18c2-d315-4537-b653-407be273e44c"
   },
   "outputs": [],
   "source": [
    "df.isna().sum()"
   ]
  },
  {
   "cell_type": "markdown",
   "id": "92",
   "metadata": {
    "id": "L9MlcHMOLHgw"
   },
   "source": [
    "コード11.4.3"
   ]
  },
  {
   "cell_type": "code",
   "execution_count": null,
   "id": "93",
   "metadata": {
    "colab": {
     "base_uri": "https://localhost:8080/",
     "height": 429
    },
    "executionInfo": {
     "elapsed": 3,
     "status": "ok",
     "timestamp": 1758070665286,
     "user": {
      "displayName": "T Haruyama",
      "userId": "09851044792665346893"
     },
     "user_tz": -540
    },
    "id": "1922c152-9bce-493c-b0fa-8143325599f7",
    "outputId": "e4f468cf-a1b6-4f70-f94b-f82de691b47e"
   },
   "outputs": [],
   "source": [
    "df.isna().sum(axis=\"columns\")"
   ]
  },
  {
   "cell_type": "markdown",
   "id": "94",
   "metadata": {
    "id": "952FuoSABrqY"
   },
   "source": [
    "### 欠損値がある行・列の抽出"
   ]
  },
  {
   "cell_type": "markdown",
   "id": "95",
   "metadata": {
    "id": "m6zlPVD5LM6m"
   },
   "source": [
    "コード11.4.4"
   ]
  },
  {
   "cell_type": "code",
   "execution_count": null,
   "id": "96",
   "metadata": {
    "colab": {
     "base_uri": "https://localhost:8080/",
     "height": 241
    },
    "executionInfo": {
     "elapsed": 10,
     "status": "ok",
     "timestamp": 1758070665296,
     "user": {
      "displayName": "T Haruyama",
      "userId": "09851044792665346893"
     },
     "user_tz": -540
    },
    "id": "78da2e50-189d-455b-908b-43f54bdb59f4",
    "outputId": "4417c601-f954-4b88-f110-9dc00c54a2ce"
   },
   "outputs": [],
   "source": [
    "df.isna().any()"
   ]
  },
  {
   "cell_type": "markdown",
   "id": "97",
   "metadata": {
    "id": "LZ5NwQvxLPQR"
   },
   "source": [
    "コード11.4.5"
   ]
  },
  {
   "cell_type": "code",
   "execution_count": null,
   "id": "98",
   "metadata": {
    "colab": {
     "base_uri": "https://localhost:8080/",
     "height": 429
    },
    "executionInfo": {
     "elapsed": 11,
     "status": "ok",
     "timestamp": 1758070665308,
     "user": {
      "displayName": "T Haruyama",
      "userId": "09851044792665346893"
     },
     "user_tz": -540
    },
    "id": "643d2a34-29fe-4bf6-9584-ce5a2d6032eb",
    "outputId": "4bd71967-337f-45c2-d040-f0ffaaa7206e"
   },
   "outputs": [],
   "source": [
    "df.isna().any(axis=\"columns\")"
   ]
  },
  {
   "cell_type": "markdown",
   "id": "99",
   "metadata": {
    "id": "M01ujfGuMZuf"
   },
   "source": [
    "コード11.4.6"
   ]
  },
  {
   "cell_type": "code",
   "execution_count": null,
   "id": "100",
   "metadata": {
    "colab": {
     "base_uri": "https://localhost:8080/",
     "height": 143
    },
    "executionInfo": {
     "elapsed": 39,
     "status": "ok",
     "timestamp": 1758070665348,
     "user": {
      "displayName": "T Haruyama",
      "userId": "09851044792665346893"
     },
     "user_tz": -540
    },
    "id": "9d4060eb-0858-4ab1-946a-9915f0b1c1e2",
    "outputId": "74dfc503-2ef2-423b-eb8a-a240ad68b9ef"
   },
   "outputs": [],
   "source": [
    "cond = df.isna().any(axis=\"columns\")\n",
    "df.loc[cond,:]"
   ]
  },
  {
   "cell_type": "markdown",
   "id": "101",
   "metadata": {
    "id": "U5iNmt77FVKC"
   },
   "source": [
    "### 欠損値がある行の削除"
   ]
  },
  {
   "cell_type": "markdown",
   "id": "102",
   "metadata": {
    "id": "Rg5GpuyTMg_h"
   },
   "source": [
    "コード11.4.7"
   ]
  },
  {
   "cell_type": "code",
   "execution_count": null,
   "id": "103",
   "metadata": {
    "colab": {
     "base_uri": "https://localhost:8080/",
     "height": 332
    },
    "executionInfo": {
     "elapsed": 2,
     "status": "ok",
     "timestamp": 1758070665351,
     "user": {
      "displayName": "T Haruyama",
      "userId": "09851044792665346893"
     },
     "user_tz": -540
    },
    "id": "dnt8tx0HFeIt",
    "outputId": "58eeb063-2f47-427c-a532-800f6e95f4dd"
   },
   "outputs": [],
   "source": [
    "df.dropna()"
   ]
  },
  {
   "cell_type": "markdown",
   "id": "104",
   "metadata": {
    "id": "pD1t_Q3MMkSl"
   },
   "source": [
    "コード11.4.8"
   ]
  },
  {
   "cell_type": "code",
   "execution_count": null,
   "id": "105",
   "metadata": {
    "colab": {
     "base_uri": "https://localhost:8080/",
     "height": 363
    },
    "executionInfo": {
     "elapsed": 17,
     "status": "ok",
     "timestamp": 1758070665368,
     "user": {
      "displayName": "T Haruyama",
      "userId": "09851044792665346893"
     },
     "user_tz": -540
    },
    "id": "236a24db-fb13-4fdd-9a72-f31d51c17175",
    "outputId": "0105a6f8-f774-4add-ce35-193978764088"
   },
   "outputs": [],
   "source": [
    "df.dropna(subset=\"con\")"
   ]
  },
  {
   "cell_type": "code",
   "execution_count": null,
   "id": "106",
   "metadata": {
    "executionInfo": {
     "elapsed": 2,
     "status": "ok",
     "timestamp": 1758070665393,
     "user": {
      "displayName": "T Haruyama",
      "userId": "09851044792665346893"
     },
     "user_tz": -540
    },
    "id": "nZvgaZOHdd9g"
   },
   "outputs": [],
   "source": []
  }
 ],
 "metadata": {
  "colab": {
   "provenance": []
  },
  "kernelspec": {
   "display_name": "Python 3 (ipykernel)",
   "language": "python",
   "name": "python3"
  },
  "language_info": {
   "codemirror_mode": {
    "name": "ipython",
    "version": 3
   },
   "file_extension": ".py",
   "mimetype": "text/x-python",
   "name": "python",
   "nbconvert_exporter": "python",
   "pygments_lexer": "ipython3",
   "version": "3.13.7"
  }
 },
 "nbformat": 4,
 "nbformat_minor": 5
}
