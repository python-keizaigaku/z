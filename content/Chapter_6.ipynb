{
 "cells": [
  {
   "cell_type": "markdown",
   "id": "0",
   "metadata": {
    "id": "b3458afa-2272-4e28-9976-dca7d49db4ce"
   },
   "source": [
    "# 第6章：制御フロー"
   ]
  },
  {
   "cell_type": "markdown",
   "id": "1",
   "metadata": {
    "id": "a3a14021-ab67-4772-8d8f-ac9b05df0cb1"
   },
   "source": [
    "## 制御フローとは"
   ]
  },
  {
   "cell_type": "markdown",
   "id": "2",
   "metadata": {
    "id": "4770fae9-3fb6-4f97-8048-bc44f811da67"
   },
   "source": [
    "## 条件分岐：if文"
   ]
  },
  {
   "cell_type": "markdown",
   "id": "3",
   "metadata": {
    "id": "2154cff3-2e34-4dc2-8b7e-1a4c8dcc6978"
   },
   "source": [
    "### if文の書き方"
   ]
  },
  {
   "cell_type": "markdown",
   "id": "4",
   "metadata": {
    "id": "1f7722ca-1695-4aa4-ad20-ecd83fb7a291",
    "jp-MarkdownHeadingCollapsed": true
   },
   "source": [
    "### フローチャート"
   ]
  },
  {
   "cell_type": "markdown",
   "id": "5",
   "metadata": {
    "id": "pduEWXIAGdVR"
   },
   "source": [
    "コード6.2.1"
   ]
  },
  {
   "cell_type": "code",
   "execution_count": null,
   "id": "6",
   "metadata": {
    "colab": {
     "base_uri": "https://localhost:8080/"
    },
    "executionInfo": {
     "elapsed": 22,
     "status": "ok",
     "timestamp": 1758070189831,
     "user": {
      "displayName": "T Haruyama",
      "userId": "09851044792665346893"
     },
     "user_tz": -540
    },
    "id": "11912a28-26e5-4917-86c1-3425d7f43996",
    "outputId": "ed005f89-7e6d-4bd0-8acf-9e2b7e52b540"
   },
   "outputs": [],
   "source": [
    "g = 0.002\n",
    "\n",
    "if g > 0:\n",
    "    print(\"景気拡大\")\n",
    "elif g < 0:\n",
    "    print(\"景気後退リスク\")\n",
    "else:\n",
    "    print(\"現状維持\")"
   ]
  },
  {
   "cell_type": "markdown",
   "id": "7",
   "metadata": {
    "id": "131d7238-c537-4beb-ae7a-27e2a1498a43"
   },
   "source": [
    "### 関数化"
   ]
  },
  {
   "cell_type": "markdown",
   "id": "8",
   "metadata": {
    "id": "RrcOX_UgGq7u"
   },
   "source": [
    "コード6.2.2"
   ]
  },
  {
   "cell_type": "code",
   "execution_count": null,
   "id": "9",
   "metadata": {
    "id": "313af6b7-a084-491b-b23a-f983a0994e79"
   },
   "outputs": [],
   "source": [
    "def keiki_handan(g):\n",
    "    if g > 0:\n",
    "        print(\"景気拡大\")\n",
    "    elif g < 0:\n",
    "        print(\"景気後退リスク\")\n",
    "    else:\n",
    "        print(\"変化なし\")"
   ]
  },
  {
   "cell_type": "code",
   "execution_count": null,
   "id": "10",
   "metadata": {
    "colab": {
     "base_uri": "https://localhost:8080/"
    },
    "executionInfo": {
     "elapsed": 3,
     "status": "ok",
     "timestamp": 1758070189849,
     "user": {
      "displayName": "T Haruyama",
      "userId": "09851044792665346893"
     },
     "user_tz": -540
    },
    "id": "92f3d5c8-483a-4de6-b2d1-c46baffc3b00",
    "outputId": "804e46de-bc5f-4baa-d630-bf111ab33c89"
   },
   "outputs": [],
   "source": [
    "keiki_handan(0)"
   ]
  },
  {
   "cell_type": "markdown",
   "id": "11",
   "metadata": {
    "id": "61b10e00-63b9-4ef6-8d24-f9a2dee70ba3"
   },
   "source": [
    "### 真偽値の役割"
   ]
  },
  {
   "cell_type": "markdown",
   "id": "12",
   "metadata": {
    "id": "RdBf32szHBKT"
   },
   "source": [
    "コード6.2.3"
   ]
  },
  {
   "cell_type": "code",
   "execution_count": null,
   "id": "13",
   "metadata": {
    "colab": {
     "base_uri": "https://localhost:8080/"
    },
    "executionInfo": {
     "elapsed": 3,
     "status": "ok",
     "timestamp": 1758070189857,
     "user": {
      "displayName": "T Haruyama",
      "userId": "09851044792665346893"
     },
     "user_tz": -540
    },
    "id": "086e15bb-109a-4b05-9982-b8528a4c8337",
    "outputId": "ccd537cd-4f87-4121-b185-26d5d39525f0"
   },
   "outputs": [],
   "source": [
    "my_money = 0   # 非負の値のみ\n",
    "\n",
    "if my_money:\n",
    "    print(\"なに買おうかな(^o^)/\")\n",
    "else:\n",
    "    print(\"一文なしだよ(-_-)\")"
   ]
  },
  {
   "cell_type": "markdown",
   "id": "14",
   "metadata": {
    "id": "80098aa6-68a8-44d3-b811-8ab76d013e80"
   },
   "source": [
    "### 数値を返す"
   ]
  },
  {
   "cell_type": "markdown",
   "id": "15",
   "metadata": {
    "id": "qemaWEk4HFlh"
   },
   "source": [
    "コード6.2.4"
   ]
  },
  {
   "cell_type": "code",
   "execution_count": null,
   "id": "16",
   "metadata": {
    "id": "f3834cea-4046-4f48-b6cf-f06398ea23db"
   },
   "outputs": [],
   "source": [
    "def f(x):\n",
    "    if x >= 0:\n",
    "        return x\n",
    "    else:\n",
    "        return -x"
   ]
  },
  {
   "cell_type": "markdown",
   "id": "17",
   "metadata": {
    "id": "4e3cd4b0-4a8d-4da0-b2f7-d2124c17640d"
   },
   "source": [
    "## forループ"
   ]
  },
  {
   "cell_type": "markdown",
   "id": "18",
   "metadata": {
    "id": "3e2c8314-d95d-4e79-8847-bc652db1df8c"
   },
   "source": [
    "### forループの書き方"
   ]
  },
  {
   "cell_type": "markdown",
   "id": "19",
   "metadata": {
    "id": "a74f2a58-e0e4-4577-80bd-4fa083ad80b3",
    "jp-MarkdownHeadingCollapsed": true
   },
   "source": [
    "### 例1：print()関数を使う"
   ]
  },
  {
   "cell_type": "markdown",
   "id": "20",
   "metadata": {
    "id": "pxOypBh5HSxC"
   },
   "source": [
    "コード6.3.1"
   ]
  },
  {
   "cell_type": "code",
   "execution_count": null,
   "id": "21",
   "metadata": {
    "colab": {
     "base_uri": "https://localhost:8080/"
    },
    "executionInfo": {
     "elapsed": 88,
     "status": "ok",
     "timestamp": 1758070189966,
     "user": {
      "displayName": "T Haruyama",
      "userId": "09851044792665346893"
     },
     "user_tz": -540
    },
    "id": "f7cd2df4-ce35-453d-b3e4-b7b067e756bd",
    "outputId": "99632286-d7e9-4b73-b568-9108b1649d78"
   },
   "outputs": [],
   "source": [
    "components = [\"消費\", \"投資\",\n",
    "              \"政府支出\", \"純輸出\"]\n",
    "\n",
    "for c in components:\n",
    "    print(c)"
   ]
  },
  {
   "cell_type": "markdown",
   "id": "22",
   "metadata": {
    "id": "634ab982-d6d1-4661-b0bb-89d4c986758f",
    "jp-MarkdownHeadingCollapsed": true
   },
   "source": [
    "### 例2：リストのメソッド.append()を使う"
   ]
  },
  {
   "cell_type": "markdown",
   "id": "23",
   "metadata": {
    "id": "lL_D8XLbHalk"
   },
   "source": [
    "コード6.3.2"
   ]
  },
  {
   "cell_type": "code",
   "execution_count": null,
   "id": "24",
   "metadata": {
    "id": "e5e86823-8326-4229-82f5-bc521066ff7a"
   },
   "outputs": [],
   "source": [
    "y_lst = [1,2,3,4,5]"
   ]
  },
  {
   "cell_type": "markdown",
   "id": "25",
   "metadata": {
    "id": "ykM6B-uFHfaS"
   },
   "source": [
    "コード6.3.3"
   ]
  },
  {
   "cell_type": "code",
   "execution_count": null,
   "id": "26",
   "metadata": {
    "colab": {
     "base_uri": "https://localhost:8080/"
    },
    "executionInfo": {
     "elapsed": 15,
     "status": "ok",
     "timestamp": 1758070189987,
     "user": {
      "displayName": "T Haruyama",
      "userId": "09851044792665346893"
     },
     "user_tz": -540
    },
    "id": "7a0f42f1-94f1-4354-a415-150514cab2b2",
    "outputId": "16524f09-7df0-4bc5-db8a-ac628e81c1d0"
   },
   "outputs": [],
   "source": [
    "c_lst = []\n",
    "\n",
    "for y in y_lst:\n",
    "    c = 0.1 + 0.6 * y\n",
    "    c_lst.append(c)\n",
    "\n",
    "c_lst"
   ]
  },
  {
   "cell_type": "markdown",
   "id": "27",
   "metadata": {
    "id": "ndwWg4-THmFK"
   },
   "source": [
    "コード6.3.4"
   ]
  },
  {
   "cell_type": "code",
   "execution_count": null,
   "id": "28",
   "metadata": {
    "id": "ed4a31f8-208e-41fe-9d0c-d1cfff79a907"
   },
   "outputs": [],
   "source": [
    "def consumption(lst):\n",
    "\n",
    "    c_lst = []\n",
    "\n",
    "    for y in lst:\n",
    "        c = 0.1 + 0.6 * y\n",
    "        c_lst.append(c)\n",
    "\n",
    "    return c_lst"
   ]
  },
  {
   "cell_type": "markdown",
   "id": "29",
   "metadata": {
    "id": "2761a0d0-0d40-4af9-a622-903b224af9a5",
    "jp-MarkdownHeadingCollapsed": true
   },
   "source": [
    "### 例3：zip()関数を使う"
   ]
  },
  {
   "cell_type": "markdown",
   "id": "30",
   "metadata": {
    "id": "SCubMRmNHxN-"
   },
   "source": [
    "コード6.3.5"
   ]
  },
  {
   "cell_type": "code",
   "execution_count": null,
   "id": "31",
   "metadata": {
    "id": "e8cee3b2-d5a4-493a-864e-39c87723e2db"
   },
   "outputs": [],
   "source": [
    "mpc_lst = [0.6, 0.5, 0.5, 0.3, 0.2]"
   ]
  },
  {
   "cell_type": "markdown",
   "id": "32",
   "metadata": {
    "id": "8n2u_t4iH2qk"
   },
   "source": [
    "コード6.3.6"
   ]
  },
  {
   "cell_type": "code",
   "execution_count": null,
   "id": "33",
   "metadata": {
    "colab": {
     "base_uri": "https://localhost:8080/"
    },
    "executionInfo": {
     "elapsed": 58,
     "status": "ok",
     "timestamp": 1758070190070,
     "user": {
      "displayName": "T Haruyama",
      "userId": "09851044792665346893"
     },
     "user_tz": -540
    },
    "id": "0c5cab4c-dd83-410e-91c0-6c720487e4d8",
    "outputId": "8b4d9fac-1a05-463f-c25a-268e3217ef12"
   },
   "outputs": [],
   "source": [
    "c_lst = []\n",
    "\n",
    "for y, mpc in zip(y_lst, mpc_lst):\n",
    "    c = 0.1 + mpc * y\n",
    "    c_lst.append(c)\n",
    "\n",
    "c_lst"
   ]
  },
  {
   "cell_type": "markdown",
   "id": "34",
   "metadata": {
    "id": "1a6a2060-2d26-4afa-9306-d7f69a9bac8f"
   },
   "source": [
    "### 例4：range()関数を使う（資本蓄積）"
   ]
  },
  {
   "cell_type": "markdown",
   "id": "35",
   "metadata": {
    "id": "-E_ROK-7H_eh"
   },
   "source": [
    "コード6.3.7"
   ]
  },
  {
   "cell_type": "code",
   "execution_count": null,
   "id": "36",
   "metadata": {
    "colab": {
     "base_uri": "https://localhost:8080/"
    },
    "executionInfo": {
     "elapsed": 33,
     "status": "ok",
     "timestamp": 1758070190073,
     "user": {
      "displayName": "T Haruyama",
      "userId": "09851044792665346893"
     },
     "user_tz": -540
    },
    "id": "b6cd2205-3755-4d8b-8814-14e9f937633d",
    "outputId": "a3bbf96b-6163-44d0-b6c1-0b381c8f7cee"
   },
   "outputs": [],
   "source": [
    "k = 0\n",
    "k_lst = [k]\n",
    "\n",
    "for _ in range(5):\n",
    "    k += 10\n",
    "    k_lst.append(k)\n",
    "\n",
    "k_lst"
   ]
  },
  {
   "cell_type": "markdown",
   "id": "37",
   "metadata": {
    "id": "6aeb1fd7-9d8b-4de5-a7de-a8f8b96082b2"
   },
   "source": [
    "### 例5：range()（資産の推移）"
   ]
  },
  {
   "cell_type": "markdown",
   "id": "38",
   "metadata": {
    "id": "FShLuAfWIGgo"
   },
   "source": [
    "コード6.3.8"
   ]
  },
  {
   "cell_type": "code",
   "execution_count": null,
   "id": "39",
   "metadata": {
    "colab": {
     "base_uri": "https://localhost:8080/"
    },
    "executionInfo": {
     "elapsed": 27,
     "status": "ok",
     "timestamp": 1758070190073,
     "user": {
      "displayName": "T Haruyama",
      "userId": "09851044792665346893"
     },
     "user_tz": -540
    },
    "id": "ba854e29-6992-4bba-9cee-e17a01bf7356",
    "outputId": "95b6bb80-46ae-4eed-aef8-45516aa77713"
   },
   "outputs": [],
   "source": [
    "wealth = 100\n",
    "wealth_lst = [wealth]\n",
    "\n",
    "for _ in range(5):\n",
    "    wealth *= (1 + 0.03)\n",
    "    wealth_lst.append(wealth)\n",
    "\n",
    "wealth_lst"
   ]
  },
  {
   "cell_type": "markdown",
   "id": "40",
   "metadata": {
    "id": "7g6i6iP3IOx1"
   },
   "source": [
    "コード6.3.9"
   ]
  },
  {
   "cell_type": "code",
   "execution_count": null,
   "id": "41",
   "metadata": {
    "id": "e83c67ca-73c2-47b8-b68c-8c2bab0f0224"
   },
   "outputs": [],
   "source": [
    "wealth_lst = []\n",
    "\n",
    "for t in range(6):\n",
    "    wealth = 100 * (1+0.03)**t\n",
    "    wealth_lst.append(wealth)"
   ]
  },
  {
   "cell_type": "markdown",
   "id": "42",
   "metadata": {
    "id": "002ac211-d0b5-4a66-b713-6b221d15cdbb"
   },
   "source": [
    "## リスト内包表記"
   ]
  },
  {
   "cell_type": "markdown",
   "id": "43",
   "metadata": {
    "id": "zQXedP8DIadw"
   },
   "source": [
    "コード6.4.1"
   ]
  },
  {
   "cell_type": "code",
   "execution_count": null,
   "id": "44",
   "metadata": {
    "colab": {
     "base_uri": "https://localhost:8080/"
    },
    "executionInfo": {
     "elapsed": 26,
     "status": "ok",
     "timestamp": 1758070190074,
     "user": {
      "displayName": "T Haruyama",
      "userId": "09851044792665346893"
     },
     "user_tz": -540
    },
    "id": "66a29083-445a-4918-99e3-2427775dcf0c",
    "outputId": "6358cf58-8253-47d8-c1ee-becd6a4b8317"
   },
   "outputs": [],
   "source": [
    "[10 * y for y in y_lst]"
   ]
  },
  {
   "cell_type": "markdown",
   "id": "45",
   "metadata": {
    "id": "-cK8dMNWId1o"
   },
   "source": [
    "コード6.4.2"
   ]
  },
  {
   "cell_type": "code",
   "execution_count": null,
   "id": "46",
   "metadata": {
    "colab": {
     "base_uri": "https://localhost:8080/"
    },
    "executionInfo": {
     "elapsed": 8,
     "status": "ok",
     "timestamp": 1758070190080,
     "user": {
      "displayName": "T Haruyama",
      "userId": "09851044792665346893"
     },
     "user_tz": -540
    },
    "id": "240b157b-8b2d-4d8e-a75b-9453b56b9937",
    "outputId": "55c6c8f1-58d9-4449-b539-e880abef5b44"
   },
   "outputs": [],
   "source": [
    "[0.1 + 0.6 * y for y in y_lst]"
   ]
  },
  {
   "cell_type": "markdown",
   "id": "47",
   "metadata": {
    "id": "5AafpKuhIh0k"
   },
   "source": [
    "コード6.4.3"
   ]
  },
  {
   "cell_type": "code",
   "execution_count": null,
   "id": "48",
   "metadata": {
    "colab": {
     "base_uri": "https://localhost:8080/"
    },
    "executionInfo": {
     "elapsed": 7,
     "status": "ok",
     "timestamp": 1758070190087,
     "user": {
      "displayName": "T Haruyama",
      "userId": "09851044792665346893"
     },
     "user_tz": -540
    },
    "id": "55bc07dc-0778-43f3-a595-223400348321",
    "outputId": "c17c886b-7b6f-4fed-d5fc-f27d6a71f5ab"
   },
   "outputs": [],
   "source": [
    "[100 * (1+0.03) ** t for t in range(6)]"
   ]
  },
  {
   "cell_type": "markdown",
   "id": "49",
   "metadata": {
    "id": "ee066797-d391-4e7a-8290-b46dca855239"
   },
   "source": [
    "## whileループ"
   ]
  },
  {
   "cell_type": "markdown",
   "id": "50",
   "metadata": {
    "id": "1b26ae73-bbfa-4302-926d-0116402c0d5f"
   },
   "source": [
    "### whileループの書き方"
   ]
  },
  {
   "cell_type": "markdown",
   "id": "51",
   "metadata": {
    "id": "50916e94-9905-4923-a918-b084199a6e75"
   },
   "source": [
    "### 例1：簡単なパターン"
   ]
  },
  {
   "cell_type": "markdown",
   "id": "52",
   "metadata": {
    "id": "eW3eszkJIray"
   },
   "source": [
    "コード6.5.1"
   ]
  },
  {
   "cell_type": "code",
   "execution_count": null,
   "id": "53",
   "metadata": {
    "colab": {
     "base_uri": "https://localhost:8080/"
    },
    "executionInfo": {
     "elapsed": 9,
     "status": "ok",
     "timestamp": 1758070190096,
     "user": {
      "displayName": "T Haruyama",
      "userId": "09851044792665346893"
     },
     "user_tz": -540
    },
    "id": "6c242a00-02e9-42aa-ad4c-be3c669082bd",
    "outputId": "24113eff-6204-481a-c8d2-2360cc59d8db"
   },
   "outputs": [],
   "source": [
    "components = [\"消費\", \"投資\", \"政府支出\", \"純輸出\"]\n",
    "i = 0\n",
    "\n",
    "while i < len(components):\n",
    "    print(components[i])\n",
    "    i += 1"
   ]
  },
  {
   "cell_type": "markdown",
   "id": "54",
   "metadata": {
    "id": "92fba62e-6104-4bf6-9153-406726904137"
   },
   "source": [
    "### 例2：目標資産額に必要な期間"
   ]
  },
  {
   "cell_type": "markdown",
   "id": "55",
   "metadata": {
    "id": "K1rhXO91IzG6"
   },
   "source": [
    "コード6.5.2"
   ]
  },
  {
   "cell_type": "code",
   "execution_count": null,
   "id": "56",
   "metadata": {
    "colab": {
     "base_uri": "https://localhost:8080/"
    },
    "executionInfo": {
     "elapsed": 25,
     "status": "ok",
     "timestamp": 1758070190122,
     "user": {
      "displayName": "T Haruyama",
      "userId": "09851044792665346893"
     },
     "user_tz": -540
    },
    "id": "bd9c4ceb-ef91-41d2-89fb-7647f9ab9dc6",
    "outputId": "996bb675-ebbd-4382-8cac-990124ca6db2"
   },
   "outputs": [],
   "source": [
    "wealth = 100\n",
    "target = 200\n",
    "r = 0.03\n",
    "year = 0\n",
    "\n",
    "while wealth < target:\n",
    "    wealth *= 1 + r\n",
    "    year += 1\n",
    "\n",
    "print(f\"{year}年かかります。\")"
   ]
  },
  {
   "cell_type": "markdown",
   "id": "57",
   "metadata": {
    "id": "A9VyNlRAI452"
   },
   "source": [
    "コード6.5.3"
   ]
  },
  {
   "cell_type": "code",
   "execution_count": null,
   "id": "58",
   "metadata": {
    "id": "57e02e4c-3e0e-4ce1-9783-ccb06bf6336a"
   },
   "outputs": [],
   "source": [
    "def wealth_years(wealth=100,\n",
    "                 target=200,\n",
    "                 r=0.03):\n",
    "    \"\"\"\n",
    "    引数：\n",
    "        wealth: 初期資産\n",
    "        target: 目標資産額\n",
    "        r: 年間収益率\n",
    "    戻り値：\n",
    "        目標資産額以上の達成に\n",
    "        必要な年数（表示あり）\"\"\"\n",
    "    year = 0\n",
    "\n",
    "    while wealth < target:\n",
    "        wealth *= 1 + r\n",
    "        year += 1\n",
    "\n",
    "    print(f\"必要年数：{year}\")\n",
    "    return year"
   ]
  },
  {
   "cell_type": "markdown",
   "id": "59",
   "metadata": {
    "id": "e6629758-c189-462c-9ab6-be7744636f16"
   },
   "source": [
    "### 例3：壁までの距離"
   ]
  },
  {
   "cell_type": "markdown",
   "id": "60",
   "metadata": {
    "id": "QnI0ZqaiJG4k"
   },
   "source": [
    "コード6.5.4"
   ]
  },
  {
   "cell_type": "code",
   "execution_count": null,
   "id": "61",
   "metadata": {
    "colab": {
     "base_uri": "https://localhost:8080/"
    },
    "executionInfo": {
     "elapsed": 3,
     "status": "ok",
     "timestamp": 1758070190132,
     "user": {
      "displayName": "T Haruyama",
      "userId": "09851044792665346893"
     },
     "user_tz": -540
    },
    "id": "f3359e0f-6619-4667-a753-35e03c4e16d3",
    "outputId": "ab220c5d-8e1e-4c7a-fa66-e549c1e07a23"
   },
   "outputs": [],
   "source": [
    "distance = 1\n",
    "count = 0\n",
    "\n",
    "while distance > 0.001:\n",
    "\n",
    "    # print(distance)\n",
    "    distance -= distance/2\n",
    "    count += 1\n",
    "\n",
    "print(f\"ループの回数：{count}\")\n",
    "print(f\"残りの距離：{distance*1000}mm\")"
   ]
  },
  {
   "cell_type": "code",
   "execution_count": null,
   "id": "62",
   "metadata": {
    "id": "88e07003-479c-44e6-915f-107f176846a1"
   },
   "outputs": [],
   "source": []
  }
 ],
 "metadata": {
  "colab": {
   "provenance": []
  },
  "kernelspec": {
   "display_name": "Python 3",
   "name": "python3"
  },
  "language_info": {
   "name": "python"
  }
 },
 "nbformat": 4,
 "nbformat_minor": 5
}
