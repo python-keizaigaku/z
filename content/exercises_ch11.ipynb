{
 "cells": [
  {
   "cell_type": "markdown",
   "id": "0",
   "metadata": {
    "id": "c0232e37-715d-4952-ae3b-e47527c957b3"
   },
   "source": [
    "# 11章：演習問題の解答"
   ]
  },
  {
   "cell_type": "code",
   "execution_count": null,
   "id": "1",
   "metadata": {
    "colab": {
     "base_uri": "https://localhost:8080/"
    },
    "executionInfo": {
     "elapsed": 10503,
     "status": "ok",
     "timestamp": 1758079349794,
     "user": {
      "displayName": "T Haruyama",
      "userId": "09851044792665346893"
     },
     "user_tz": -540
    },
    "id": "R6Kt8E4CgtAu",
    "outputId": "9fbd56ed-2588-4141-fcdc-68c77863e7aa"
   },
   "outputs": [],
   "source": [
    "%pip install -q japanize-matplotlib\n",
    "import japanize_matplotlib\n",
    "import pandas as pd\n",
    "import matplotlib.pyplot as plt"
   ]
  },
  {
   "cell_type": "markdown",
   "id": "2",
   "metadata": {
    "id": "ed39d386-d289-47c6-bab6-6604fefe0b45"
   },
   "source": [
    "## 演習1"
   ]
  },
  {
   "cell_type": "markdown",
   "id": "3",
   "metadata": {
    "id": "d7d27e17-55ec-4f1a-8277-d607b5efe1bd"
   },
   "source": [
    "### (1)"
   ]
  },
  {
   "cell_type": "code",
   "execution_count": null,
   "id": "4",
   "metadata": {
    "colab": {
     "base_uri": "https://localhost:8080/",
     "height": 143
    },
    "executionInfo": {
     "elapsed": 3,
     "status": "ok",
     "timestamp": 1758079349801,
     "user": {
      "displayName": "T Haruyama",
      "userId": "09851044792665346893"
     },
     "user_tz": -540
    },
    "id": "92163b45-3f3c-454b-b323-53ff73dd0c3f",
    "outputId": "83567a96-32ba-425e-fa3a-f6ab5a71fd53"
   },
   "outputs": [],
   "source": [
    "df = pd.read_csv(\"data3.csv\")\n",
    "df.tail(3)"
   ]
  },
  {
   "cell_type": "markdown",
   "id": "5",
   "metadata": {
    "id": "5c8f4c6a-10c6-440f-a544-04237d1eb445"
   },
   "source": [
    "### (2)"
   ]
  },
  {
   "cell_type": "code",
   "execution_count": null,
   "id": "6",
   "metadata": {
    "colab": {
     "base_uri": "https://localhost:8080/",
     "height": 143
    },
    "executionInfo": {
     "elapsed": 6,
     "status": "ok",
     "timestamp": 1758079349808,
     "user": {
      "displayName": "T Haruyama",
      "userId": "09851044792665346893"
     },
     "user_tz": -540
    },
    "id": "ec58289b-2b60-4d27-b9a0-5e690c51f943",
    "outputId": "7d319b5f-56b9-4e82-97df-c570a062d189"
   },
   "outputs": [],
   "source": [
    "df = df.set_index(\"year\")\n",
    "df.head(2)"
   ]
  },
  {
   "cell_type": "markdown",
   "id": "7",
   "metadata": {
    "id": "4cc830d2-fac6-4d26-9b6c-d0e1ffc0d37b"
   },
   "source": [
    "### (3)"
   ]
  },
  {
   "cell_type": "code",
   "execution_count": null,
   "id": "8",
   "metadata": {
    "colab": {
     "base_uri": "https://localhost:8080/",
     "height": 394
    },
    "executionInfo": {
     "elapsed": 3,
     "status": "ok",
     "timestamp": 1758079349812,
     "user": {
      "displayName": "T Haruyama",
      "userId": "09851044792665346893"
     },
     "user_tz": -540
    },
    "id": "e29a146a-720f-472c-8455-f1129c91c6fa",
    "outputId": "c037b573-ecb5-498f-fa25-0a07c1fabe6f"
   },
   "outputs": [],
   "source": [
    "df.loc[1990:1999, \"consumption\":\"exports\"]"
   ]
  },
  {
   "cell_type": "markdown",
   "id": "9",
   "metadata": {
    "id": "85ab560f-294e-4b78-bb66-68eb0a5c8241"
   },
   "source": [
    "### (4)"
   ]
  },
  {
   "cell_type": "code",
   "execution_count": null,
   "id": "10",
   "metadata": {
    "colab": {
     "base_uri": "https://localhost:8080/"
    },
    "executionInfo": {
     "elapsed": 4,
     "status": "ok",
     "timestamp": 1758079349816,
     "user": {
      "displayName": "T Haruyama",
      "userId": "09851044792665346893"
     },
     "user_tz": -540
    },
    "id": "e7089f21-e13e-4248-9684-17e149fda76b",
    "outputId": "5a31166b-c556-4bdf-bc79-9fff92cf2ca4"
   },
   "outputs": [],
   "source": [
    "df.index"
   ]
  },
  {
   "cell_type": "code",
   "execution_count": null,
   "id": "11",
   "metadata": {
    "executionInfo": {
     "elapsed": 1,
     "status": "ok",
     "timestamp": 1758079349818,
     "user": {
      "displayName": "T Haruyama",
      "userId": "09851044792665346893"
     },
     "user_tz": -540
    },
    "id": "b0aebba4-f62d-48a7-a769-d6341251a662"
   },
   "outputs": [],
   "source": [
    "rlabels = df.index.tolist()\n",
    "# rlabels"
   ]
  },
  {
   "cell_type": "markdown",
   "id": "12",
   "metadata": {
    "id": "3c633488-0134-4e02-9fe8-ac1b2689eb9b"
   },
   "source": [
    "### (5)"
   ]
  },
  {
   "cell_type": "code",
   "execution_count": null,
   "id": "13",
   "metadata": {
    "colab": {
     "base_uri": "https://localhost:8080/"
    },
    "executionInfo": {
     "elapsed": 7,
     "status": "ok",
     "timestamp": 1758079349826,
     "user": {
      "displayName": "T Haruyama",
      "userId": "09851044792665346893"
     },
     "user_tz": -540
    },
    "id": "79b279c4-7d85-451d-bcab-789b0afde68a",
    "outputId": "2851f1b3-5b56-48ac-af23-62cd5407d9e0"
   },
   "outputs": [],
   "source": [
    "df.columns"
   ]
  },
  {
   "cell_type": "code",
   "execution_count": null,
   "id": "14",
   "metadata": {
    "executionInfo": {
     "elapsed": 14,
     "status": "ok",
     "timestamp": 1758079349841,
     "user": {
      "displayName": "T Haruyama",
      "userId": "09851044792665346893"
     },
     "user_tz": -540
    },
    "id": "c363617b-a2e9-483f-8128-9aec2741278a"
   },
   "outputs": [],
   "source": [
    "clabels = df.columns.tolist()\n",
    "# clabels"
   ]
  },
  {
   "cell_type": "markdown",
   "id": "15",
   "metadata": {
    "id": "4c906b0c-0446-4601-b3e7-9d67b09d3eea"
   },
   "source": [
    "### (6)"
   ]
  },
  {
   "cell_type": "code",
   "execution_count": null,
   "id": "16",
   "metadata": {
    "colab": {
     "base_uri": "https://localhost:8080/"
    },
    "executionInfo": {
     "elapsed": 15,
     "status": "ok",
     "timestamp": 1758079349842,
     "user": {
      "displayName": "T Haruyama",
      "userId": "09851044792665346893"
     },
     "user_tz": -540
    },
    "id": "jmgOF2LHNGS_",
    "outputId": "4a196229-180e-4636-eec8-015ea6098336"
   },
   "outputs": [],
   "source": [
    "rlabels.index(1990)"
   ]
  },
  {
   "cell_type": "code",
   "execution_count": null,
   "id": "17",
   "metadata": {
    "colab": {
     "base_uri": "https://localhost:8080/"
    },
    "executionInfo": {
     "elapsed": 11,
     "status": "ok",
     "timestamp": 1758079349842,
     "user": {
      "displayName": "T Haruyama",
      "userId": "09851044792665346893"
     },
     "user_tz": -540
    },
    "id": "xw5LzWA8NNXg",
    "outputId": "00c52209-e7f8-48cd-c88a-d53c9b990aef"
   },
   "outputs": [],
   "source": [
    "rlabels.index(1999)"
   ]
  },
  {
   "cell_type": "code",
   "execution_count": null,
   "id": "18",
   "metadata": {
    "colab": {
     "base_uri": "https://localhost:8080/"
    },
    "executionInfo": {
     "elapsed": 9,
     "status": "ok",
     "timestamp": 1758079349842,
     "user": {
      "displayName": "T Haruyama",
      "userId": "09851044792665346893"
     },
     "user_tz": -540
    },
    "id": "dccdb8cb-7b67-489d-9cf4-d0d7a563eb68",
    "outputId": "d6400516-4f24-42f0-fd46-58225405f47d"
   },
   "outputs": [],
   "source": [
    "clabels.index(\"consumption\")"
   ]
  },
  {
   "cell_type": "code",
   "execution_count": null,
   "id": "19",
   "metadata": {
    "colab": {
     "base_uri": "https://localhost:8080/"
    },
    "executionInfo": {
     "elapsed": 8,
     "status": "ok",
     "timestamp": 1758079349843,
     "user": {
      "displayName": "T Haruyama",
      "userId": "09851044792665346893"
     },
     "user_tz": -540
    },
    "id": "b16991b5-f9dd-441e-b4ba-dddfe06f3d81",
    "outputId": "3e864a05-80da-4019-d19e-4e3467e5ca94"
   },
   "outputs": [],
   "source": [
    "clabels.index(\"exports\")"
   ]
  },
  {
   "cell_type": "markdown",
   "id": "20",
   "metadata": {
    "id": "69fbac78-40a7-41f6-ba50-a7faf44ecd17"
   },
   "source": [
    "### (7)"
   ]
  },
  {
   "cell_type": "code",
   "execution_count": null,
   "id": "21",
   "metadata": {
    "colab": {
     "base_uri": "https://localhost:8080/",
     "height": 394
    },
    "executionInfo": {
     "elapsed": 2,
     "status": "ok",
     "timestamp": 1758079349845,
     "user": {
      "displayName": "T Haruyama",
      "userId": "09851044792665346893"
     },
     "user_tz": -540
    },
    "id": "5c135f85-ad83-43ef-b327-0db528b1667f",
    "outputId": "79978e74-c37a-4e21-b8c2-cb3c88472306"
   },
   "outputs": [],
   "source": [
    "rlabels = df.index.to_list()            # 行ラベルのリスト\n",
    "clabels = df.columns.to_list()          # 列ラベルのリスト\n",
    "\n",
    "rstart = rlabels.index(1990)            # 1990のインデックス\n",
    "rend = rlabels.index(1999)              # 1999のインデックス\n",
    "cstart = clabels.index(\"consumption\")   # consumptionのインデックス\n",
    "cend = clabels.index(\"exports\")         # exportsのインデックス\n",
    "\n",
    "df.iloc[rstart:rend+1, cstart:cend+1]   # インデックスを使うため+1が必要"
   ]
  },
  {
   "cell_type": "markdown",
   "id": "22",
   "metadata": {
    "id": "d6fdaf80-0458-458e-8a38-ada5b4f90e1e"
   },
   "source": [
    "この方法は非常に回りくどいと感じるかもしれませんが，活躍する場合があります。"
   ]
  },
  {
   "cell_type": "markdown",
   "id": "23",
   "metadata": {
    "id": "aa283c9a-0e63-4cd0-8751-678f5d2e375e"
   },
   "source": [
    "## 演習2"
   ]
  },
  {
   "cell_type": "markdown",
   "id": "24",
   "metadata": {
    "id": "b0d056fd-0f84-4731-866f-c9fc0a2dc083"
   },
   "source": [
    "### (1)"
   ]
  },
  {
   "cell_type": "code",
   "execution_count": null,
   "id": "25",
   "metadata": {
    "executionInfo": {
     "elapsed": 1,
     "status": "ok",
     "timestamp": 1758079349847,
     "user": {
      "displayName": "T Haruyama",
      "userId": "09851044792665346893"
     },
     "user_tz": -540
    },
    "id": "5dc80db1-ffc7-40b8-95f4-05797d683d93"
   },
   "outputs": [],
   "source": [
    "df[\"netx\"] = df[\"exports\"] - df[\"imports\"]"
   ]
  },
  {
   "cell_type": "markdown",
   "id": "26",
   "metadata": {
    "id": "a1138b26-b4ca-4834-a84a-b40cd1741c80"
   },
   "source": [
    "### (2)"
   ]
  },
  {
   "cell_type": "code",
   "execution_count": null,
   "id": "27",
   "metadata": {
    "colab": {
     "base_uri": "https://localhost:8080/",
     "height": 1000
    },
    "executionInfo": {
     "elapsed": 1,
     "status": "ok",
     "timestamp": 1758079349849,
     "user": {
      "displayName": "T Haruyama",
      "userId": "09851044792665346893"
     },
     "user_tz": -540
    },
    "id": "f0a2ffaf-6fe2-4a93-a753-ce2cbcd4f6a0",
    "outputId": "12a42391-2eef-4457-f8b8-2e0d63484fd9"
   },
   "outputs": [],
   "source": [
    "cond =  ( df[\"netx\"]<0 )\n",
    "df.loc[cond,:]"
   ]
  },
  {
   "cell_type": "markdown",
   "id": "28",
   "metadata": {
    "id": "fc2e8540-1ca2-453e-8e58-fe512935df79"
   },
   "source": [
    "### (3)"
   ]
  },
  {
   "cell_type": "markdown",
   "id": "29",
   "metadata": {
    "id": "d0e55cac-aa37-4308-b29b-30b1f1abbe54"
   },
   "source": [
    "`cond`にビット演算子（`~`）を使い，貿易黒字の行を抽出しなさい。"
   ]
  },
  {
   "cell_type": "code",
   "execution_count": null,
   "id": "30",
   "metadata": {
    "colab": {
     "base_uri": "https://localhost:8080/",
     "height": 426
    },
    "executionInfo": {
     "elapsed": 1,
     "status": "ok",
     "timestamp": 1758079349852,
     "user": {
      "displayName": "T Haruyama",
      "userId": "09851044792665346893"
     },
     "user_tz": -540
    },
    "id": "4a7831ac-3567-4abb-b567-14e5c5a3dd75",
    "outputId": "1439d7e2-086e-43d7-eec8-c811b999560d"
   },
   "outputs": [],
   "source": [
    "df.loc[~cond,:]"
   ]
  },
  {
   "cell_type": "markdown",
   "id": "31",
   "metadata": {
    "id": "832d6a02-30f3-4e74-ac17-99615301157b"
   },
   "source": [
    "### (4)"
   ]
  },
  {
   "cell_type": "code",
   "execution_count": null,
   "id": "32",
   "metadata": {
    "executionInfo": {
     "elapsed": 0,
     "status": "ok",
     "timestamp": 1758079349859,
     "user": {
      "displayName": "T Haruyama",
      "userId": "09851044792665346893"
     },
     "user_tz": -540
    },
    "id": "4319349a-b234-4aa9-bf9b-33b283063288"
   },
   "outputs": [],
   "source": [
    "df[\"gdp_growth\"] = df[\"gdp\"].pct_change()"
   ]
  },
  {
   "cell_type": "markdown",
   "id": "33",
   "metadata": {
    "id": "3cf7a740-973c-47cc-b5ec-84648371f23b"
   },
   "source": [
    "### (5)"
   ]
  },
  {
   "cell_type": "code",
   "execution_count": null,
   "id": "34",
   "metadata": {
    "colab": {
     "base_uri": "https://localhost:8080/"
    },
    "executionInfo": {
     "elapsed": 4,
     "status": "ok",
     "timestamp": 1758079349864,
     "user": {
      "displayName": "T Haruyama",
      "userId": "09851044792665346893"
     },
     "user_tz": -540
    },
    "id": "5d0baed2-0510-4093-8457-1673220158da",
    "outputId": "d701bd82-09e5-4084-8241-4cebbad68049"
   },
   "outputs": [],
   "source": [
    "cond = ( df[\"gdp_growth\"]>0 ) & ( df[\"netx\"]<0 )\n",
    "len( df.loc[cond,:] )"
   ]
  },
  {
   "cell_type": "code",
   "execution_count": null,
   "id": "35",
   "metadata": {
    "colab": {
     "base_uri": "https://localhost:8080/"
    },
    "executionInfo": {
     "elapsed": 2,
     "status": "ok",
     "timestamp": 1758079349866,
     "user": {
      "displayName": "T Haruyama",
      "userId": "09851044792665346893"
     },
     "user_tz": -540
    },
    "id": "30491b07-366e-4ff7-bdee-af1671f5728c",
    "outputId": "2c137cf4-88f7-475e-ab31-c5f0bff064ff"
   },
   "outputs": [],
   "source": [
    "cond = ( df[\"gdp_growth\"]>0 ) & ( df[\"netx\"]>0 )\n",
    "len( df.loc[cond,:] )"
   ]
  },
  {
   "cell_type": "markdown",
   "id": "36",
   "metadata": {
    "id": "c3d3ea37-5b9a-461e-ab32-c4486cb2a984"
   },
   "source": [
    "### (6)"
   ]
  },
  {
   "cell_type": "code",
   "execution_count": null,
   "id": "37",
   "metadata": {
    "executionInfo": {
     "elapsed": 1,
     "status": "ok",
     "timestamp": 1758079349868,
     "user": {
      "displayName": "T Haruyama",
      "userId": "09851044792665346893"
     },
     "user_tz": -540
    },
    "id": "682c741a-7074-478b-a1f3-465f6de3584a"
   },
   "outputs": [],
   "source": [
    "df[\"netx/gdp\"] = df[\"netx\"] / df[\"gdp\"]"
   ]
  },
  {
   "cell_type": "markdown",
   "id": "38",
   "metadata": {
    "id": "af992f49-e3e5-4d5a-928b-b651f32cbaab"
   },
   "source": [
    "### (7)"
   ]
  },
  {
   "cell_type": "code",
   "execution_count": null,
   "id": "39",
   "metadata": {
    "colab": {
     "base_uri": "https://localhost:8080/",
     "height": 429
    },
    "executionInfo": {
     "elapsed": 2,
     "status": "ok",
     "timestamp": 1758079349871,
     "user": {
      "displayName": "T Haruyama",
      "userId": "09851044792665346893"
     },
     "user_tz": -540
    },
    "id": "1f1875e5-fdab-42e6-a51f-f3e8e99379cc",
    "outputId": "9f67b96d-d9be-413e-a16b-9d14bbb6b101"
   },
   "outputs": [],
   "source": [
    "plt.plot(\"gdp_growth\", data=df, label=\"GDP成長率\")\n",
    "plt.plot(\"netx/gdp\", data=df, label=\"純貿易対GDP比\")\n",
    "plt.legend()\n",
    "plt.grid()\n",
    "plt.show()"
   ]
  },
  {
   "cell_type": "markdown",
   "id": "40",
   "metadata": {
    "id": "hc0ky_LRhWIw"
   },
   "source": [
    "### (8)"
   ]
  },
  {
   "cell_type": "markdown",
   "id": "41",
   "metadata": {
    "id": "9cDPoOBWiWOC"
   },
   "source": [
    "次のコードの解説\n",
    "* `plt.axhline(0, color=\"red\")`：引数`0`を縦軸に使い，横軸と並行になる横線を引く関数\n",
    "* `plt.axvline(0, color=\"red\")`：引数`0`を横軸に使い，縦軸と並行になる縦線を引く関数\n",
    "\n",
    "引数は基本的にラインプロットと同じ。\n"
   ]
  },
  {
   "cell_type": "code",
   "execution_count": null,
   "id": "42",
   "metadata": {
    "colab": {
     "base_uri": "https://localhost:8080/",
     "height": 454
    },
    "executionInfo": {
     "elapsed": 2,
     "status": "ok",
     "timestamp": 1758079349874,
     "user": {
      "displayName": "T Haruyama",
      "userId": "09851044792665346893"
     },
     "user_tz": -540
    },
    "id": "ky_i8c3OhETM",
    "outputId": "4ec0154e-b570-4949-afdf-92dcb3ab41b6"
   },
   "outputs": [],
   "source": [
    "plt.scatter(\"gdp_growth\", \"netx/gdp\", data=df)\n",
    "plt.axhline(0, color=\"red\")\n",
    "plt.axvline(0, color=\"red\")\n",
    "plt.xlabel(\"GDP成長率\", size=15)\n",
    "plt.ylabel(\"純貿易対GDP比\", size=15)\n",
    "plt.grid()\n",
    "plt.show()"
   ]
  },
  {
   "cell_type": "markdown",
   "id": "43",
   "metadata": {
    "id": "RgBXNiYrj8I1"
   },
   "source": [
    "正のGDP成長率は景気が時期であり，所得が伸び率が比較的に高い状況となる。したがって，輸入が増え貿易赤字になる傾向があり，それがプロットに現れている。"
   ]
  },
  {
   "cell_type": "markdown",
   "id": "44",
   "metadata": {
    "id": "997fba90-9c36-4f1a-bcc7-605b1212569c"
   },
   "source": [
    "## 演習3"
   ]
  },
  {
   "cell_type": "code",
   "execution_count": null,
   "id": "45",
   "metadata": {
    "executionInfo": {
     "elapsed": 2,
     "status": "ok",
     "timestamp": 1758079349875,
     "user": {
      "displayName": "T Haruyama",
      "userId": "09851044792665346893"
     },
     "user_tz": -540
    },
    "id": "d1c4fa2a-bff2-4341-b09e-f1f7ba2a0555"
   },
   "outputs": [],
   "source": [
    "import numpy as np\n",
    "df.iloc[-3:,1] = np.nan"
   ]
  },
  {
   "cell_type": "markdown",
   "id": "46",
   "metadata": {
    "id": "36189c1b-e628-49fb-bbc0-5a5e372b9627"
   },
   "source": [
    "### (1)"
   ]
  },
  {
   "cell_type": "code",
   "execution_count": null,
   "id": "47",
   "metadata": {
    "colab": {
     "base_uri": "https://localhost:8080/"
    },
    "executionInfo": {
     "elapsed": 6,
     "status": "ok",
     "timestamp": 1758079349882,
     "user": {
      "displayName": "T Haruyama",
      "userId": "09851044792665346893"
     },
     "user_tz": -540
    },
    "id": "edbc4f38-d632-45b8-a0aa-194462c65500",
    "outputId": "630f910d-9bfd-4c79-eb2a-7c15760a8913"
   },
   "outputs": [],
   "source": [
    "df.info()"
   ]
  },
  {
   "cell_type": "markdown",
   "id": "48",
   "metadata": {
    "id": "6e9ed65e-6410-475d-8fe5-4ee1ce2373e9"
   },
   "source": [
    "### (2)"
   ]
  },
  {
   "cell_type": "code",
   "execution_count": null,
   "id": "49",
   "metadata": {
    "colab": {
     "base_uri": "https://localhost:8080/",
     "height": 366
    },
    "executionInfo": {
     "elapsed": 4,
     "status": "ok",
     "timestamp": 1758079349886,
     "user": {
      "displayName": "T Haruyama",
      "userId": "09851044792665346893"
     },
     "user_tz": -540
    },
    "id": "8ab578eb-6c20-48d9-a4c3-8946083f71ba",
    "outputId": "2a0a561b-0825-4be3-830f-2334f5774099"
   },
   "outputs": [],
   "source": [
    "df.isna().sum()"
   ]
  },
  {
   "cell_type": "markdown",
   "id": "50",
   "metadata": {
    "id": "130876b8-c094-430e-81a4-51cdee265484"
   },
   "source": [
    "### (3)"
   ]
  },
  {
   "cell_type": "code",
   "execution_count": null,
   "id": "51",
   "metadata": {
    "colab": {
     "base_uri": "https://localhost:8080/",
     "height": 1000
    },
    "executionInfo": {
     "elapsed": 3,
     "status": "ok",
     "timestamp": 1758079349888,
     "user": {
      "displayName": "T Haruyama",
      "userId": "09851044792665346893"
     },
     "user_tz": -540
    },
    "id": "3e529e4b-7f12-4baa-9ca3-bbaac6b0ed8d",
    "outputId": "89c271bc-9313-41e2-ae3b-c49da38dcab3"
   },
   "outputs": [],
   "source": [
    "df.isna().sum(axis=\"columns\")\n",
    "# df.isna().sum(axis=1) も同じ結果を返します"
   ]
  },
  {
   "cell_type": "markdown",
   "id": "52",
   "metadata": {
    "id": "a9c61662-8b13-4d2d-8015-0f66de9910e2"
   },
   "source": [
    "### (4)"
   ]
  },
  {
   "cell_type": "code",
   "execution_count": null,
   "id": "53",
   "metadata": {
    "colab": {
     "base_uri": "https://localhost:8080/",
     "height": 1000
    },
    "executionInfo": {
     "elapsed": 3,
     "status": "ok",
     "timestamp": 1758079349891,
     "user": {
      "displayName": "T Haruyama",
      "userId": "09851044792665346893"
     },
     "user_tz": -540
    },
    "id": "0582da9d-b542-4209-9cdc-d24c71b0bef2",
    "outputId": "d07ab933-c907-4583-9b0d-b363d54eec1c"
   },
   "outputs": [],
   "source": [
    "cond = df.isna().any()\n",
    "df.loc[:,cond]"
   ]
  },
  {
   "cell_type": "markdown",
   "id": "54",
   "metadata": {
    "id": "4da3e16b-48af-47bc-a1c4-82f75e55ca75"
   },
   "source": [
    "### (5)"
   ]
  },
  {
   "cell_type": "code",
   "execution_count": null,
   "id": "55",
   "metadata": {
    "colab": {
     "base_uri": "https://localhost:8080/",
     "height": 206
    },
    "executionInfo": {
     "elapsed": 1,
     "status": "ok",
     "timestamp": 1758079349893,
     "user": {
      "displayName": "T Haruyama",
      "userId": "09851044792665346893"
     },
     "user_tz": -540
    },
    "id": "42105996-f71d-4a79-9825-855856545cad",
    "outputId": "89920ac7-d0c3-4a41-bcec-487b59410f28"
   },
   "outputs": [],
   "source": [
    "cond = df.isna().any(axis=\"columns\")    # axis=1でOK\n",
    "df.loc[cond,:]"
   ]
  },
  {
   "cell_type": "markdown",
   "id": "56",
   "metadata": {
    "id": "7feb3a32-20d0-43f5-87f2-bd26ee64a40e"
   },
   "source": [
    "### (6)"
   ]
  },
  {
   "cell_type": "code",
   "execution_count": null,
   "id": "57",
   "metadata": {
    "colab": {
     "base_uri": "https://localhost:8080/",
     "height": 1000
    },
    "executionInfo": {
     "elapsed": 4,
     "status": "ok",
     "timestamp": 1758079349897,
     "user": {
      "displayName": "T Haruyama",
      "userId": "09851044792665346893"
     },
     "user_tz": -540
    },
    "id": "ba908734-a95a-4804-a9ab-3066f2e670cd",
    "outputId": "efed1dd0-700b-4add-b01e-7047c7942d26"
   },
   "outputs": [],
   "source": [
    "df.dropna()"
   ]
  },
  {
   "cell_type": "markdown",
   "id": "58",
   "metadata": {
    "id": "04188933-7253-48f7-af3c-c6ef46dced3b"
   },
   "source": [
    "### (7)"
   ]
  },
  {
   "cell_type": "code",
   "execution_count": null,
   "id": "59",
   "metadata": {
    "colab": {
     "base_uri": "https://localhost:8080/",
     "height": 1000
    },
    "executionInfo": {
     "elapsed": 2,
     "status": "ok",
     "timestamp": 1758079349899,
     "user": {
      "displayName": "T Haruyama",
      "userId": "09851044792665346893"
     },
     "user_tz": -540
    },
    "id": "b1295e96-442f-46ea-b828-bbce769c55b6",
    "outputId": "573fa6e4-3569-461d-e45a-bb7f43dcb495"
   },
   "outputs": [],
   "source": [
    "df.dropna(subset=[\"consumption\"])"
   ]
  },
  {
   "cell_type": "markdown",
   "id": "60",
   "metadata": {
    "id": "3Z8rNQDYkc4c"
   },
   "source": [
    "## 演習4"
   ]
  },
  {
   "cell_type": "code",
   "execution_count": null,
   "id": "61",
   "metadata": {
    "colab": {
     "base_uri": "https://localhost:8080/",
     "height": 238
    },
    "executionInfo": {
     "elapsed": 1,
     "status": "ok",
     "timestamp": 1758079349901,
     "user": {
      "displayName": "T Haruyama",
      "userId": "09851044792665346893"
     },
     "user_tz": -540
    },
    "id": "U4Wei1ENkeQm",
    "outputId": "0ee516fa-6c94-4315-8904-e432ff9c35b8"
   },
   "outputs": [],
   "source": [
    "data2 = pd.read_csv(\"data2.csv\")\n",
    "data2[\"gdppc\"] = data2[\"gdp\"] / data2[\"pop\"]\n",
    "data2 = data2.set_index(\"year\")\n",
    "data2.tail()"
   ]
  },
  {
   "cell_type": "code",
   "execution_count": null,
   "id": "62",
   "metadata": {
    "colab": {
     "base_uri": "https://localhost:8080/"
    },
    "executionInfo": {
     "elapsed": 9,
     "status": "ok",
     "timestamp": 1758079349911,
     "user": {
      "displayName": "T Haruyama",
      "userId": "09851044792665346893"
     },
     "user_tz": -540
    },
    "id": "FeZ-NWV3krIq",
    "outputId": "122e1215-b5dc-4096-b2b5-39cba6d484ab"
   },
   "outputs": [],
   "source": [
    "n = len(data2)\n",
    "\n",
    "g = ( data2.loc[2024, \"gdppc\"] / data2.loc[1980, \"gdppc\"] ) ** ( 1/(n-1) ) - 1\n",
    "\n",
    "print(f\"幾何平均純成長率：{g:.5f}\")\n",
    "print(f\"幾何平均総成長率：{1+g:.5f}\")"
   ]
  },
  {
   "cell_type": "code",
   "execution_count": null,
   "id": "63",
   "metadata": {
    "executionInfo": {
     "elapsed": 1,
     "status": "ok",
     "timestamp": 1758079349913,
     "user": {
      "displayName": "T Haruyama",
      "userId": "09851044792665346893"
     },
     "user_tz": -540
    },
    "id": "E56Yn6AkktVo"
   },
   "outputs": [],
   "source": []
  }
 ],
 "metadata": {
  "colab": {
   "provenance": []
  },
  "kernelspec": {
   "display_name": "Python 3",
   "name": "python3"
  },
  "language_info": {
   "name": "python"
  }
 },
 "nbformat": 4,
 "nbformat_minor": 5
}
