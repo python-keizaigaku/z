{
 "cells": [
  {
   "cell_type": "markdown",
   "id": "0",
   "metadata": {
    "id": "b2f607af-6330-4797-bb05-265d0252b309"
   },
   "source": [
    "# 第3章：コンテナデータ型とその操作"
   ]
  },
  {
   "cell_type": "markdown",
   "id": "1",
   "metadata": {
    "id": "22e06ac4-13f6-4e07-b721-57048dbcc2e5"
   },
   "source": [
    "## 4つのコンテナデータ型"
   ]
  },
  {
   "cell_type": "markdown",
   "id": "2",
   "metadata": {
    "id": "58e41eca-fbd3-4512-859a-ebbe0e53037a"
   },
   "source": [
    "### リストとタプル"
   ]
  },
  {
   "cell_type": "markdown",
   "id": "3",
   "metadata": {
    "id": "zXv4CRqN9XCO"
   },
   "source": [
    "コード3.1.1"
   ]
  },
  {
   "cell_type": "code",
   "execution_count": null,
   "id": "4",
   "metadata": {
    "executionInfo": {
     "elapsed": 13,
     "status": "ok",
     "timestamp": 1758070101047,
     "user": {
      "displayName": "T Haruyama",
      "userId": "09851044792665346893"
     },
     "user_tz": -540
    },
    "id": "f47b299f-c6be-4f26-a40b-2a3d0355f615"
   },
   "outputs": [],
   "source": [
    "lst = [10, True, \"国内総生産\"]"
   ]
  },
  {
   "cell_type": "markdown",
   "id": "5",
   "metadata": {
    "id": "2amdrzYe95sY"
   },
   "source": [
    "コード3.1.2"
   ]
  },
  {
   "cell_type": "code",
   "execution_count": null,
   "id": "6",
   "metadata": {
    "executionInfo": {
     "elapsed": 7,
     "status": "ok",
     "timestamp": 1758070101056,
     "user": {
      "displayName": "T Haruyama",
      "userId": "09851044792665346893"
     },
     "user_tz": -540
    },
    "id": "87aff5a3-28fa-4c72-84b1-de97c5cc854e"
   },
   "outputs": [],
   "source": [
    "tpl = (10, True, \"国内総生産\")"
   ]
  },
  {
   "cell_type": "markdown",
   "id": "7",
   "metadata": {
    "id": "ehFb0o-f98JM"
   },
   "source": [
    "コード3.1.3"
   ]
  },
  {
   "cell_type": "code",
   "execution_count": null,
   "id": "8",
   "metadata": {
    "executionInfo": {
     "elapsed": 2,
     "status": "ok",
     "timestamp": 1758070101096,
     "user": {
      "displayName": "T Haruyama",
      "userId": "09851044792665346893"
     },
     "user_tz": -540
    },
    "id": "b9d3b4fa-c753-4d35-a37b-61499e6c91de"
   },
   "outputs": [],
   "source": [
    "tpl = 10, True, \"国内総生産\""
   ]
  },
  {
   "cell_type": "markdown",
   "id": "9",
   "metadata": {
    "id": "_fuOJwsK99-5"
   },
   "source": [
    "コード3.1.4"
   ]
  },
  {
   "cell_type": "code",
   "execution_count": null,
   "id": "10",
   "metadata": {
    "executionInfo": {
     "elapsed": 2,
     "status": "ok",
     "timestamp": 1758070101097,
     "user": {
      "displayName": "T Haruyama",
      "userId": "09851044792665346893"
     },
     "user_tz": -540
    },
    "id": "e85d0bc8-2511-48ba-9b63-1fb8898fb3b5"
   },
   "outputs": [],
   "source": [
    "t0, t1, t2 = 10, True, \"国内総生産\""
   ]
  },
  {
   "cell_type": "markdown",
   "id": "11",
   "metadata": {
    "id": "f4310714-08a6-4203-9287-ecb0b7901b35"
   },
   "source": [
    "### 辞書と集合"
   ]
  },
  {
   "cell_type": "markdown",
   "id": "12",
   "metadata": {
    "id": "5LsJxL3F-DKk"
   },
   "source": [
    "コード3.1.5"
   ]
  },
  {
   "cell_type": "code",
   "execution_count": null,
   "id": "13",
   "metadata": {
    "colab": {
     "base_uri": "https://localhost:8080/"
    },
    "executionInfo": {
     "elapsed": 8,
     "status": "ok",
     "timestamp": 1758070101105,
     "user": {
      "displayName": "T Haruyama",
      "userId": "09851044792665346893"
     },
     "user_tz": -540
    },
    "id": "c714e2fd-051c-46b0-b344-dee2abcb8b64",
    "outputId": "efe62fe9-386d-468d-f870-44cd7c7e7a35"
   },
   "outputs": [],
   "source": [
    "{10, 10, 10, True, True, True, 4, \"Kobe\", \"Kobe\"}"
   ]
  },
  {
   "cell_type": "markdown",
   "id": "14",
   "metadata": {
    "id": "-eDGTT6I-FBX"
   },
   "source": [
    "コード3.1.6"
   ]
  },
  {
   "cell_type": "code",
   "execution_count": null,
   "id": "15",
   "metadata": {
    "executionInfo": {
     "elapsed": 1,
     "status": "ok",
     "timestamp": 1758070101107,
     "user": {
      "displayName": "T Haruyama",
      "userId": "09851044792665346893"
     },
     "user_tz": -540
    },
    "id": "8695cf4e-6e65-4fbc-897c-7c0c95e64f2a"
   },
   "outputs": [],
   "source": [
    "dct = {\"GDP\":557, \"消費\":298, \"投資\":111}"
   ]
  },
  {
   "cell_type": "markdown",
   "id": "16",
   "metadata": {
    "id": "a7e0aeb0-992d-49cf-b202-74c7838fdb82"
   },
   "source": [
    "## コンテナデータ型の操作"
   ]
  },
  {
   "cell_type": "markdown",
   "id": "17",
   "metadata": {
    "id": "a0495e4a-f848-4393-a632-e0e999bd6e96"
   },
   "source": [
    "### リストとタプル：要素のアクセス"
   ]
  },
  {
   "cell_type": "markdown",
   "id": "18",
   "metadata": {
    "id": "HJXutvB4-KFm"
   },
   "source": [
    "コード3.2.1"
   ]
  },
  {
   "cell_type": "code",
   "execution_count": null,
   "id": "19",
   "metadata": {
    "executionInfo": {
     "elapsed": 5,
     "status": "ok",
     "timestamp": 1758070101113,
     "user": {
      "displayName": "T Haruyama",
      "userId": "09851044792665346893"
     },
     "user_tz": -540
    },
    "id": "d1bb8d7b-e778-4f84-aef8-2415ee60f437"
   },
   "outputs": [],
   "source": [
    "abc = [\"A\", \"B\", \"C\", \"D\", \"E\", \"F\"]"
   ]
  },
  {
   "cell_type": "markdown",
   "id": "20",
   "metadata": {
    "id": "MqggX1kc-QcM"
   },
   "source": [
    "コード3.2.2"
   ]
  },
  {
   "cell_type": "code",
   "execution_count": null,
   "id": "21",
   "metadata": {
    "colab": {
     "base_uri": "https://localhost:8080/",
     "height": 35
    },
    "executionInfo": {
     "elapsed": 8,
     "status": "ok",
     "timestamp": 1758070101122,
     "user": {
      "displayName": "T Haruyama",
      "userId": "09851044792665346893"
     },
     "user_tz": -540
    },
    "id": "f09d46ae-4f14-4715-bc88-fc7321b74cd7",
    "outputId": "8d367e28-eac4-41ab-a720-2d90ae1f9a03"
   },
   "outputs": [],
   "source": [
    "abc[2]"
   ]
  },
  {
   "cell_type": "markdown",
   "id": "22",
   "metadata": {
    "id": "ud5f2b7F-SBA"
   },
   "source": [
    "コード3.2.3"
   ]
  },
  {
   "cell_type": "code",
   "execution_count": null,
   "id": "23",
   "metadata": {
    "colab": {
     "base_uri": "https://localhost:8080/",
     "height": 35
    },
    "executionInfo": {
     "elapsed": 64,
     "status": "ok",
     "timestamp": 1758070101206,
     "user": {
      "displayName": "T Haruyama",
      "userId": "09851044792665346893"
     },
     "user_tz": -540
    },
    "id": "de8a1a89-8911-405f-a471-3827ba4336b2",
    "outputId": "fdb6d8e6-deca-466b-df8c-bb8f4711ebb2"
   },
   "outputs": [],
   "source": [
    "lst0 = [[\"GDP\",557], [\"消費\",298], [\"投資\",111]]\n",
    "lst0[-1][0]"
   ]
  },
  {
   "cell_type": "markdown",
   "id": "24",
   "metadata": {
    "id": "WUuMsEL4-VFR"
   },
   "source": [
    "コード3.2.4"
   ]
  },
  {
   "cell_type": "code",
   "execution_count": null,
   "id": "25",
   "metadata": {
    "colab": {
     "base_uri": "https://localhost:8080/",
     "height": 35
    },
    "executionInfo": {
     "elapsed": 10,
     "status": "ok",
     "timestamp": 1758070101215,
     "user": {
      "displayName": "T Haruyama",
      "userId": "09851044792665346893"
     },
     "user_tz": -540
    },
    "id": "818c6e10-c2b6-4053-befb-e13a7c08d273",
    "outputId": "bb382edd-5964-4d27-a668-9356f01cb142"
   },
   "outputs": [],
   "source": [
    "lst0_last = lst0[-1]\n",
    "lst0_last[0]"
   ]
  },
  {
   "cell_type": "markdown",
   "id": "26",
   "metadata": {
    "id": "sbM-B2WY-W2n"
   },
   "source": [
    "コード3.2.5"
   ]
  },
  {
   "cell_type": "code",
   "execution_count": null,
   "id": "27",
   "metadata": {
    "colab": {
     "base_uri": "https://localhost:8080/"
    },
    "executionInfo": {
     "elapsed": 23,
     "status": "ok",
     "timestamp": 1758070101248,
     "user": {
      "displayName": "T Haruyama",
      "userId": "09851044792665346893"
     },
     "user_tz": -540
    },
    "id": "2e89e97c-74a7-40fe-b59f-e5a1b4ca60f8",
    "outputId": "2970f796-ef4e-4ab3-ad1a-cf185c7d1085"
   },
   "outputs": [],
   "source": [
    "tpl = (10, True, \"国内総生産\")\n",
    "tpl[1]"
   ]
  },
  {
   "cell_type": "markdown",
   "id": "28",
   "metadata": {
    "id": "880e175c-8d9f-43a0-a8a4-a4accb82f35c"
   },
   "source": [
    "### リストとタプル：要素のスライシング"
   ]
  },
  {
   "cell_type": "markdown",
   "id": "29",
   "metadata": {
    "id": "FKMpRhI6-cT4"
   },
   "source": [
    "例3.2(a)"
   ]
  },
  {
   "cell_type": "code",
   "execution_count": null,
   "id": "30",
   "metadata": {
    "colab": {
     "base_uri": "https://localhost:8080/"
    },
    "executionInfo": {
     "elapsed": 55,
     "status": "ok",
     "timestamp": 1758070101304,
     "user": {
      "displayName": "T Haruyama",
      "userId": "09851044792665346893"
     },
     "user_tz": -540
    },
    "id": "ZY2p7Z71-fcS",
    "outputId": "2c5ad6e2-71d5-431d-97f8-303ecd313ae4"
   },
   "outputs": [],
   "source": [
    "abc[1:4]"
   ]
  },
  {
   "cell_type": "markdown",
   "id": "31",
   "metadata": {
    "id": "KVnjRaou-nV-"
   },
   "source": [
    "例3.2(b)"
   ]
  },
  {
   "cell_type": "code",
   "execution_count": null,
   "id": "32",
   "metadata": {
    "colab": {
     "base_uri": "https://localhost:8080/"
    },
    "executionInfo": {
     "elapsed": 2,
     "status": "ok",
     "timestamp": 1758070101307,
     "user": {
      "displayName": "T Haruyama",
      "userId": "09851044792665346893"
     },
     "user_tz": -540
    },
    "id": "K8gmRVXw-nWE",
    "outputId": "a022e102-2a9f-4184-8d7e-e9a6aaa8fd12"
   },
   "outputs": [],
   "source": [
    "abc[1:3+1]"
   ]
  },
  {
   "cell_type": "markdown",
   "id": "33",
   "metadata": {
    "id": "_QWMII4O-rlW"
   },
   "source": [
    "例3.2(c)"
   ]
  },
  {
   "cell_type": "code",
   "execution_count": null,
   "id": "34",
   "metadata": {
    "colab": {
     "base_uri": "https://localhost:8080/"
    },
    "executionInfo": {
     "elapsed": 3,
     "status": "ok",
     "timestamp": 1758070101316,
     "user": {
      "displayName": "T Haruyama",
      "userId": "09851044792665346893"
     },
     "user_tz": -540
    },
    "id": "nMJa93Yn-rlX",
    "outputId": "00959913-6621-4be1-abd0-006893bb795a"
   },
   "outputs": [],
   "source": [
    "abc[:3]"
   ]
  },
  {
   "cell_type": "markdown",
   "id": "35",
   "metadata": {
    "id": "sRu-oT5b-u42"
   },
   "source": [
    "例3.2(d)"
   ]
  },
  {
   "cell_type": "code",
   "execution_count": null,
   "id": "36",
   "metadata": {
    "colab": {
     "base_uri": "https://localhost:8080/"
    },
    "executionInfo": {
     "elapsed": 8,
     "status": "ok",
     "timestamp": 1758070101330,
     "user": {
      "displayName": "T Haruyama",
      "userId": "09851044792665346893"
     },
     "user_tz": -540
    },
    "id": "qb5LEkmU-u43",
    "outputId": "f679d4d5-1e8c-4603-d205-255c66b63011"
   },
   "outputs": [],
   "source": [
    "abc[3:]"
   ]
  },
  {
   "cell_type": "markdown",
   "id": "37",
   "metadata": {
    "id": "jS2NAna6-2oO"
   },
   "source": [
    "例3.2(e)"
   ]
  },
  {
   "cell_type": "code",
   "execution_count": null,
   "id": "38",
   "metadata": {
    "colab": {
     "base_uri": "https://localhost:8080/"
    },
    "executionInfo": {
     "elapsed": 6,
     "status": "ok",
     "timestamp": 1758070101338,
     "user": {
      "displayName": "T Haruyama",
      "userId": "09851044792665346893"
     },
     "user_tz": -540
    },
    "id": "OBg-DZNC-2oQ",
    "outputId": "5b359e72-4bfc-494f-b3ee-8bd577b15e4e"
   },
   "outputs": [],
   "source": [
    "abc[3:-1]"
   ]
  },
  {
   "cell_type": "markdown",
   "id": "39",
   "metadata": {
    "id": "pYyZbtL7-Ga8"
   },
   "source": [
    "### 辞書"
   ]
  },
  {
   "cell_type": "markdown",
   "id": "40",
   "metadata": {
    "id": "b7N-P3o3_QzI"
   },
   "source": [
    "例3.3(a)"
   ]
  },
  {
   "cell_type": "code",
   "execution_count": null,
   "id": "41",
   "metadata": {
    "colab": {
     "base_uri": "https://localhost:8080/"
    },
    "executionInfo": {
     "elapsed": 34,
     "status": "ok",
     "timestamp": 1758070101380,
     "user": {
      "displayName": "T Haruyama",
      "userId": "09851044792665346893"
     },
     "user_tz": -540
    },
    "id": "81joTNDX_TFY",
    "outputId": "0ae76b77-44fb-4bdc-e56f-bebd2ba47779"
   },
   "outputs": [],
   "source": [
    "dct[\"GDP\"]"
   ]
  },
  {
   "cell_type": "markdown",
   "id": "42",
   "metadata": {
    "id": "H-t_rlAl_dgS"
   },
   "source": [
    "例3.3(b)"
   ]
  },
  {
   "cell_type": "code",
   "execution_count": null,
   "id": "43",
   "metadata": {
    "colab": {
     "base_uri": "https://localhost:8080/"
    },
    "executionInfo": {
     "elapsed": 3,
     "status": "ok",
     "timestamp": 1758070101383,
     "user": {
      "displayName": "T Haruyama",
      "userId": "09851044792665346893"
     },
     "user_tz": -540
    },
    "id": "_5pfRrvF_dgU",
    "outputId": "817c3bda-ab1c-423b-8a4d-9b654639a66d"
   },
   "outputs": [],
   "source": [
    "dct[\"消費\"]"
   ]
  },
  {
   "cell_type": "markdown",
   "id": "44",
   "metadata": {
    "id": "k8xU9JW-_h6L"
   },
   "source": [
    "例3.3(c)"
   ]
  },
  {
   "cell_type": "code",
   "execution_count": null,
   "id": "45",
   "metadata": {
    "colab": {
     "base_uri": "https://localhost:8080/"
    },
    "executionInfo": {
     "elapsed": 33,
     "status": "ok",
     "timestamp": 1758070101420,
     "user": {
      "displayName": "T Haruyama",
      "userId": "09851044792665346893"
     },
     "user_tz": -540
    },
    "id": "SUyPWN39_h6L",
    "outputId": "6c9a27de-d442-4514-f56b-e00ccf54be52"
   },
   "outputs": [],
   "source": [
    "dct[\"投資\"]"
   ]
  },
  {
   "cell_type": "markdown",
   "id": "46",
   "metadata": {
    "id": "d1f25031-4d63-49c0-b73f-08d0e2d40f07"
   },
   "source": [
    "### 要素の更新"
   ]
  },
  {
   "cell_type": "markdown",
   "id": "47",
   "metadata": {
    "id": "6lBLkRV__nDt"
   },
   "source": [
    "コード3.2.6"
   ]
  },
  {
   "cell_type": "code",
   "execution_count": null,
   "id": "48",
   "metadata": {
    "colab": {
     "base_uri": "https://localhost:8080/"
    },
    "executionInfo": {
     "elapsed": 3,
     "status": "ok",
     "timestamp": 1758070101424,
     "user": {
      "displayName": "T Haruyama",
      "userId": "09851044792665346893"
     },
     "user_tz": -540
    },
    "id": "250ba013-ea5f-4f7c-9f74-4573c518ad92",
    "outputId": "e38528e6-3588-4de3-fb91-75cb518337bf"
   },
   "outputs": [],
   "source": [
    "abc[2] = 100\n",
    "abc"
   ]
  },
  {
   "cell_type": "markdown",
   "id": "49",
   "metadata": {
    "id": "Cljh1KoZ_x57"
   },
   "source": [
    "コード3.2.7"
   ]
  },
  {
   "cell_type": "code",
   "execution_count": null,
   "id": "50",
   "metadata": {
    "colab": {
     "base_uri": "https://localhost:8080/"
    },
    "executionInfo": {
     "elapsed": 3,
     "status": "ok",
     "timestamp": 1758070101432,
     "user": {
      "displayName": "T Haruyama",
      "userId": "09851044792665346893"
     },
     "user_tz": -540
    },
    "id": "bbdb1562-1ac4-4947-bc06-5aca560a9184",
    "outputId": "b820dd18-5a8b-4a96-9ecd-496848751b24"
   },
   "outputs": [],
   "source": [
    "dct[\"投資\"] = 200\n",
    "dct"
   ]
  },
  {
   "cell_type": "markdown",
   "id": "51",
   "metadata": {
    "id": "hPv5D9qw-Xe6"
   },
   "source": [
    "### 要素の削除"
   ]
  },
  {
   "cell_type": "markdown",
   "id": "52",
   "metadata": {
    "id": "drtdjMGz_1Dc"
   },
   "source": [
    "コード3.2.8"
   ]
  },
  {
   "cell_type": "code",
   "execution_count": null,
   "id": "53",
   "metadata": {
    "colab": {
     "base_uri": "https://localhost:8080/"
    },
    "executionInfo": {
     "elapsed": 3,
     "status": "ok",
     "timestamp": 1758070101436,
     "user": {
      "displayName": "T Haruyama",
      "userId": "09851044792665346893"
     },
     "user_tz": -540
    },
    "id": "859f08e5-8f53-4439-b717-037d42c9101d",
    "outputId": "e9a32ab5-50d6-4f74-d863-4714da81046a"
   },
   "outputs": [],
   "source": [
    "del abc[0]\n",
    "abc"
   ]
  },
  {
   "cell_type": "markdown",
   "id": "54",
   "metadata": {
    "id": "Bm1-kL9S_2p7"
   },
   "source": [
    "コード3.2.9"
   ]
  },
  {
   "cell_type": "code",
   "execution_count": null,
   "id": "55",
   "metadata": {
    "colab": {
     "base_uri": "https://localhost:8080/"
    },
    "executionInfo": {
     "elapsed": 52,
     "status": "ok",
     "timestamp": 1758070101490,
     "user": {
      "displayName": "T Haruyama",
      "userId": "09851044792665346893"
     },
     "user_tz": -540
    },
    "id": "286e26d2-c24b-42d0-8a7e-45c19f9ba818",
    "outputId": "8c88de27-4aaf-4ceb-c0dd-b5f092883adc"
   },
   "outputs": [],
   "source": [
    "del dct[\"GDP\"]\n",
    "dct"
   ]
  },
  {
   "cell_type": "markdown",
   "id": "56",
   "metadata": {
    "id": "a1a59f56-f0ad-4e1c-86fd-60350bb76c59"
   },
   "source": [
    "### 要素の追加"
   ]
  },
  {
   "cell_type": "markdown",
   "id": "57",
   "metadata": {
    "id": "_zeItiuc_6aT"
   },
   "source": [
    "コード3.2.10"
   ]
  },
  {
   "cell_type": "code",
   "execution_count": null,
   "id": "58",
   "metadata": {
    "colab": {
     "base_uri": "https://localhost:8080/"
    },
    "executionInfo": {
     "elapsed": 31,
     "status": "ok",
     "timestamp": 1758070101522,
     "user": {
      "displayName": "T Haruyama",
      "userId": "09851044792665346893"
     },
     "user_tz": -540
    },
    "id": "ee67511e-25f3-4069-8e43-40df02ca22fe",
    "outputId": "8b0f2e4b-5e99-44e9-875a-ba46cc04e86b"
   },
   "outputs": [],
   "source": [
    "lst1 = [\"消費\", \"投資\"]\n",
    "lst1.append(\"政府支出\")\n",
    "lst1"
   ]
  },
  {
   "cell_type": "markdown",
   "id": "59",
   "metadata": {
    "id": "nZeIpPEV_8Lw"
   },
   "source": [
    "コード3.2.11"
   ]
  },
  {
   "cell_type": "code",
   "execution_count": null,
   "id": "60",
   "metadata": {
    "colab": {
     "base_uri": "https://localhost:8080/"
    },
    "executionInfo": {
     "elapsed": 25,
     "status": "ok",
     "timestamp": 1758070101548,
     "user": {
      "displayName": "T Haruyama",
      "userId": "09851044792665346893"
     },
     "user_tz": -540
    },
    "id": "7dae2135-41e8-4861-863f-67a77749b9c3",
    "outputId": "29d4c3fe-ad60-4026-c4f5-34671209a3be"
   },
   "outputs": [],
   "source": [
    "dct[\"政府支出\"] = 145\n",
    "dct"
   ]
  },
  {
   "cell_type": "markdown",
   "id": "61",
   "metadata": {
    "id": "m_FleO3i__WU"
   },
   "source": [
    "コード3.2.12"
   ]
  },
  {
   "cell_type": "code",
   "execution_count": null,
   "id": "62",
   "metadata": {
    "colab": {
     "base_uri": "https://localhost:8080/"
    },
    "executionInfo": {
     "elapsed": 3,
     "status": "ok",
     "timestamp": 1758070101557,
     "user": {
      "displayName": "T Haruyama",
      "userId": "09851044792665346893"
     },
     "user_tz": -540
    },
    "id": "b80f92dc-332e-4cdc-8c2a-890acedc8eb0",
    "outputId": "fe140c65-7929-4d07-a749-1057326c341c"
   },
   "outputs": [],
   "source": [
    "dct.update(輸出=113, 輸入=110)\n",
    "dct"
   ]
  },
  {
   "cell_type": "markdown",
   "id": "63",
   "metadata": {
    "id": "fe6e25be-598d-4129-b8db-0b87e2b854b3"
   },
   "source": [
    "## 関連トピック"
   ]
  },
  {
   "cell_type": "markdown",
   "id": "64",
   "metadata": {
    "id": "d069eb56-70df-4f43-98cb-b3410487cb76"
   },
   "source": [
    "### リストとタプル：連結"
   ]
  },
  {
   "cell_type": "markdown",
   "id": "65",
   "metadata": {
    "id": "T-RmaAYxAFFO"
   },
   "source": [
    "コード3.3.1"
   ]
  },
  {
   "cell_type": "code",
   "execution_count": null,
   "id": "66",
   "metadata": {
    "colab": {
     "base_uri": "https://localhost:8080/"
    },
    "executionInfo": {
     "elapsed": 3,
     "status": "ok",
     "timestamp": 1758070101564,
     "user": {
      "displayName": "T Haruyama",
      "userId": "09851044792665346893"
     },
     "user_tz": -540
    },
    "id": "fc2a4442-6912-4ec4-a86a-330fb38da19b",
    "outputId": "250949ea-d9e3-4444-c359-f9c12240d626"
   },
   "outputs": [],
   "source": [
    "lst2 = [\"C\", \"I\"]\n",
    "lst3 = lst2 + [\"G\", \"NX\"]\n",
    "lst2, lst3"
   ]
  },
  {
   "cell_type": "markdown",
   "id": "67",
   "metadata": {
    "id": "jX648_j6AKYc"
   },
   "source": [
    "コード3.3.2"
   ]
  },
  {
   "cell_type": "code",
   "execution_count": null,
   "id": "68",
   "metadata": {
    "colab": {
     "base_uri": "https://localhost:8080/"
    },
    "executionInfo": {
     "elapsed": 43,
     "status": "ok",
     "timestamp": 1758070101608,
     "user": {
      "displayName": "T Haruyama",
      "userId": "09851044792665346893"
     },
     "user_tz": -540
    },
    "id": "c6ac464b-6330-48f3-b986-1ec97ae55311",
    "outputId": "dc567baf-33b5-482e-f5ad-9d9b88845f04"
   },
   "outputs": [],
   "source": [
    "(\"C\", \"I\") + (\"G\", \"NX\")"
   ]
  },
  {
   "cell_type": "markdown",
   "id": "69",
   "metadata": {
    "id": "u098X8FRAOCD"
   },
   "source": [
    "コード3.3.3"
   ]
  },
  {
   "cell_type": "code",
   "execution_count": null,
   "id": "70",
   "metadata": {
    "colab": {
     "base_uri": "https://localhost:8080/"
    },
    "executionInfo": {
     "elapsed": 5,
     "status": "ok",
     "timestamp": 1758070101619,
     "user": {
      "displayName": "T Haruyama",
      "userId": "09851044792665346893"
     },
     "user_tz": -540
    },
    "id": "8344d153-5cb2-4c3b-990e-fc7c99b2c117",
    "outputId": "4ff2d6a2-b96a-442b-b395-53476afb577d"
   },
   "outputs": [],
   "source": [
    "[0] * 5"
   ]
  },
  {
   "cell_type": "markdown",
   "id": "71",
   "metadata": {
    "id": "c2e04b46-14b2-4b83-b899-bdda3ab782ed"
   },
   "source": [
    "### 辞書：結合"
   ]
  },
  {
   "cell_type": "markdown",
   "id": "72",
   "metadata": {
    "id": "Mo_itHGiATdG"
   },
   "source": [
    "コード3.3.4"
   ]
  },
  {
   "cell_type": "code",
   "execution_count": null,
   "id": "73",
   "metadata": {
    "colab": {
     "base_uri": "https://localhost:8080/"
    },
    "executionInfo": {
     "elapsed": 3,
     "status": "ok",
     "timestamp": 1758070101623,
     "user": {
      "displayName": "T Haruyama",
      "userId": "09851044792665346893"
     },
     "user_tz": -540
    },
    "id": "da860a0c-7719-49d3-8a17-612b6557d296",
    "outputId": "6c5f7b8b-a744-4853-ce15-e91a059e27d0"
   },
   "outputs": [],
   "source": [
    "{\"輸出\":113} | {\"輸入\":110}"
   ]
  },
  {
   "cell_type": "markdown",
   "id": "74",
   "metadata": {
    "id": "h7YMrCajAVA-"
   },
   "source": [
    "コード3.3.5"
   ]
  },
  {
   "cell_type": "code",
   "execution_count": null,
   "id": "75",
   "metadata": {
    "colab": {
     "base_uri": "https://localhost:8080/"
    },
    "executionInfo": {
     "elapsed": 6,
     "status": "ok",
     "timestamp": 1758070101629,
     "user": {
      "displayName": "T Haruyama",
      "userId": "09851044792665346893"
     },
     "user_tz": -540
    },
    "id": "af838075-9ed4-4e63-90f9-403d6cdb3551",
    "outputId": "fae35ec6-4b4f-4267-c30d-19c8c361463f"
   },
   "outputs": [],
   "source": [
    "{\"輸出\":113, \"輸入\":110} | {\"輸入\":0}"
   ]
  },
  {
   "cell_type": "markdown",
   "id": "76",
   "metadata": {
    "id": "609f9882-4bc2-4542-8e83-b199262dfd77"
   },
   "source": [
    "### 文字列からの文字抽出"
   ]
  },
  {
   "cell_type": "markdown",
   "id": "77",
   "metadata": {
    "id": "Fp6TvtB2AYYM"
   },
   "source": [
    "コード3.3.6"
   ]
  },
  {
   "cell_type": "code",
   "execution_count": null,
   "id": "78",
   "metadata": {
    "executionInfo": {
     "elapsed": 1,
     "status": "ok",
     "timestamp": 1758070101653,
     "user": {
      "displayName": "T Haruyama",
      "userId": "09851044792665346893"
     },
     "user_tz": -540
    },
    "id": "d0163c94-bd95-4ad7-8c4c-273b85c08deb"
   },
   "outputs": [],
   "source": [
    "moji = \"economics\""
   ]
  },
  {
   "cell_type": "markdown",
   "id": "79",
   "metadata": {
    "id": "qQxS2JnxAd0y"
   },
   "source": [
    "例3.4(a)"
   ]
  },
  {
   "cell_type": "code",
   "execution_count": null,
   "id": "80",
   "metadata": {
    "colab": {
     "base_uri": "https://localhost:8080/",
     "height": 35
    },
    "executionInfo": {
     "elapsed": 2,
     "status": "ok",
     "timestamp": 1758070101656,
     "user": {
      "displayName": "T Haruyama",
      "userId": "09851044792665346893"
     },
     "user_tz": -540
    },
    "id": "cafdb764-6000-43e4-9dee-5f85ba3a5ac9",
    "outputId": "071df163-1523-4371-9fa7-e18f020d2294"
   },
   "outputs": [],
   "source": [
    "moji[1:4]"
   ]
  },
  {
   "cell_type": "markdown",
   "id": "81",
   "metadata": {
    "id": "xhbDHDxjAlmg"
   },
   "source": [
    "例3.4(b)"
   ]
  },
  {
   "cell_type": "code",
   "execution_count": null,
   "id": "82",
   "metadata": {
    "colab": {
     "base_uri": "https://localhost:8080/",
     "height": 35
    },
    "executionInfo": {
     "elapsed": 18,
     "status": "ok",
     "timestamp": 1758070101681,
     "user": {
      "displayName": "T Haruyama",
      "userId": "09851044792665346893"
     },
     "user_tz": -540
    },
    "id": "cdb657db-cc25-4a3b-9f5d-cccaf651d43a",
    "outputId": "5e797fec-519b-4c57-e5bb-a677a9794f0c"
   },
   "outputs": [],
   "source": [
    "moji[1:3+1]"
   ]
  },
  {
   "cell_type": "markdown",
   "id": "83",
   "metadata": {
    "id": "C3ffTr_5Am6P"
   },
   "source": [
    "例3.4(c)"
   ]
  },
  {
   "cell_type": "code",
   "execution_count": null,
   "id": "84",
   "metadata": {
    "colab": {
     "base_uri": "https://localhost:8080/",
     "height": 35
    },
    "executionInfo": {
     "elapsed": 9,
     "status": "ok",
     "timestamp": 1758070101691,
     "user": {
      "displayName": "T Haruyama",
      "userId": "09851044792665346893"
     },
     "user_tz": -540
    },
    "id": "fc609604-5fdb-4ecc-b2eb-130f4dbd3bf2",
    "outputId": "f549d360-a4ed-46ae-bc0f-36ef64e4d6ec"
   },
   "outputs": [],
   "source": [
    "moji[:3]"
   ]
  },
  {
   "cell_type": "markdown",
   "id": "85",
   "metadata": {
    "id": "-9kP4-WVAoZe"
   },
   "source": [
    "例3.4(d)"
   ]
  },
  {
   "cell_type": "code",
   "execution_count": null,
   "id": "86",
   "metadata": {
    "colab": {
     "base_uri": "https://localhost:8080/",
     "height": 35
    },
    "executionInfo": {
     "elapsed": 8,
     "status": "ok",
     "timestamp": 1758070101699,
     "user": {
      "displayName": "T Haruyama",
      "userId": "09851044792665346893"
     },
     "user_tz": -540
    },
    "id": "2891117b-9265-4f01-8324-5179383b30ca",
    "outputId": "ba727ffc-6d2f-405c-a554-4d94365d121c"
   },
   "outputs": [],
   "source": [
    "moji[3:]"
   ]
  },
  {
   "cell_type": "markdown",
   "id": "87",
   "metadata": {
    "id": "y2XyraQjAqdU"
   },
   "source": [
    "例3.4(e)"
   ]
  },
  {
   "cell_type": "code",
   "execution_count": null,
   "id": "88",
   "metadata": {
    "colab": {
     "base_uri": "https://localhost:8080/",
     "height": 35
    },
    "executionInfo": {
     "elapsed": 13,
     "status": "ok",
     "timestamp": 1758070101713,
     "user": {
      "displayName": "T Haruyama",
      "userId": "09851044792665346893"
     },
     "user_tz": -540
    },
    "id": "8e28561a-3e55-497c-93a8-3484fc211e27",
    "outputId": "5050ab0a-ecca-4555-b345-838ced52619a"
   },
   "outputs": [],
   "source": [
    "moji[3:-1]"
   ]
  },
  {
   "cell_type": "markdown",
   "id": "89",
   "metadata": {
    "id": "rTnRHkvrArkG"
   },
   "source": [
    "例3.4(f)"
   ]
  },
  {
   "cell_type": "code",
   "execution_count": null,
   "id": "90",
   "metadata": {
    "colab": {
     "base_uri": "https://localhost:8080/",
     "height": 35
    },
    "executionInfo": {
     "elapsed": 1,
     "status": "ok",
     "timestamp": 1758070101715,
     "user": {
      "displayName": "T Haruyama",
      "userId": "09851044792665346893"
     },
     "user_tz": -540
    },
    "id": "85778223-8453-4087-a8be-897cb3213100",
    "outputId": "34732f35-fc76-4d86-d661-7f51f4e7e4c1"
   },
   "outputs": [],
   "source": [
    "\"Macro\" + moji"
   ]
  },
  {
   "cell_type": "markdown",
   "id": "91",
   "metadata": {
    "id": "QDTElVH1AuP7"
   },
   "source": [
    "例3.4(g)"
   ]
  },
  {
   "cell_type": "code",
   "execution_count": null,
   "id": "92",
   "metadata": {
    "colab": {
     "base_uri": "https://localhost:8080/",
     "height": 35
    },
    "executionInfo": {
     "elapsed": 21,
     "status": "ok",
     "timestamp": 1758070101737,
     "user": {
      "displayName": "T Haruyama",
      "userId": "09851044792665346893"
     },
     "user_tz": -540
    },
    "id": "c1702b0d-4fc7-4589-b62d-5869af0ed9ee",
    "outputId": "995cc4d4-6370-4347-cb50-e0fd89e0e73c"
   },
   "outputs": [],
   "source": [
    "\"(^o^)/\" * 3"
   ]
  },
  {
   "cell_type": "markdown",
   "id": "93",
   "metadata": {
    "id": "ff977510-e202-48dd-8cbe-26432f46a662"
   },
   "source": [
    "### 改行"
   ]
  },
  {
   "cell_type": "markdown",
   "id": "94",
   "metadata": {
    "id": "bYRekaV8AxSe"
   },
   "source": [
    "コード3.3.7"
   ]
  },
  {
   "cell_type": "code",
   "execution_count": null,
   "id": "95",
   "metadata": {
    "colab": {
     "base_uri": "https://localhost:8080/"
    },
    "executionInfo": {
     "elapsed": 8,
     "status": "ok",
     "timestamp": 1758070101746,
     "user": {
      "displayName": "T Haruyama",
      "userId": "09851044792665346893"
     },
     "user_tz": -540
    },
    "id": "b650ed2a-172b-47a2-84b9-0c76837c39aa",
    "outputId": "9c3f3291-37f3-4060-bfb6-b256daea45e5"
   },
   "outputs": [],
   "source": [
    "long_variable_name_1 = 10\n",
    "long_variable_name_2 = 20\n",
    "\n",
    "(\n",
    "  long_variable_name_1 +\n",
    "  long_variable_name_2\n",
    ")"
   ]
  },
  {
   "cell_type": "markdown",
   "id": "96",
   "metadata": {
    "id": "Fv59lo8UA37i"
   },
   "source": [
    "コード3.3.8"
   ]
  },
  {
   "cell_type": "code",
   "execution_count": null,
   "id": "97",
   "metadata": {
    "executionInfo": {
     "elapsed": 1,
     "status": "ok",
     "timestamp": 1758070101747,
     "user": {
      "displayName": "T Haruyama",
      "userId": "09851044792665346893"
     },
     "user_tz": -540
    },
    "id": "2b74295e-e7f9-4ecc-9a4c-88630e5c482c"
   },
   "outputs": [],
   "source": [
    "my_lst = [\"消費\",\n",
    "          \"投資\",\n",
    "          \"政府支出\"]"
   ]
  },
  {
   "cell_type": "markdown",
   "id": "98",
   "metadata": {
    "id": "Yai19ge_A5yY"
   },
   "source": [
    "コード3.3.9"
   ]
  },
  {
   "cell_type": "code",
   "execution_count": null,
   "id": "99",
   "metadata": {
    "executionInfo": {
     "elapsed": 1,
     "status": "ok",
     "timestamp": 1758070101749,
     "user": {
      "displayName": "T Haruyama",
      "userId": "09851044792665346893"
     },
     "user_tz": -540
    },
    "id": "1cfd94e5-7ec4-4a45-966b-8774fdc3f0e0"
   },
   "outputs": [],
   "source": [
    "my_dct = {\"消費\":298,\n",
    "          \"投資\":113,\n",
    "          \"a\":[1,2]}"
   ]
  },
  {
   "cell_type": "markdown",
   "id": "100",
   "metadata": {
    "id": "f0733b59-c18f-46ef-a245-6b69af74a8e1"
   },
   "source": [
    "### 所属演算子"
   ]
  },
  {
   "cell_type": "markdown",
   "id": "101",
   "metadata": {
    "id": "AszVlRo-A76R"
   },
   "source": [
    "コード3.3.10"
   ]
  },
  {
   "cell_type": "code",
   "execution_count": null,
   "id": "102",
   "metadata": {
    "colab": {
     "base_uri": "https://localhost:8080/"
    },
    "executionInfo": {
     "elapsed": 3,
     "status": "ok",
     "timestamp": 1758070101757,
     "user": {
      "displayName": "T Haruyama",
      "userId": "09851044792665346893"
     },
     "user_tz": -540
    },
    "id": "acd58c6f-29d6-4849-b877-1774a04dbf68",
    "outputId": "7e84b087-3142-40ac-bd68-061fd1b0be3a"
   },
   "outputs": [],
   "source": [
    "\"消費\" in my_lst"
   ]
  },
  {
   "cell_type": "markdown",
   "id": "103",
   "metadata": {
    "id": "k5oIcOyaA9VB"
   },
   "source": [
    "コード3.3.11"
   ]
  },
  {
   "cell_type": "code",
   "execution_count": null,
   "id": "104",
   "metadata": {
    "colab": {
     "base_uri": "https://localhost:8080/"
    },
    "executionInfo": {
     "elapsed": 5,
     "status": "ok",
     "timestamp": 1758070101762,
     "user": {
      "displayName": "T Haruyama",
      "userId": "09851044792665346893"
     },
     "user_tz": -540
    },
    "id": "5c74cf04-8d4c-4996-b2d0-073aab8bc045",
    "outputId": "4f710c6e-a904-48dd-da09-3dc58765d749"
   },
   "outputs": [],
   "source": [
    "\"純輸出\" in my_dct"
   ]
  },
  {
   "cell_type": "code",
   "execution_count": null,
   "id": "105",
   "metadata": {
    "executionInfo": {
     "elapsed": 1,
     "status": "ok",
     "timestamp": 1758070101764,
     "user": {
      "displayName": "T Haruyama",
      "userId": "09851044792665346893"
     },
     "user_tz": -540
    },
    "id": "1a5ba838-9543-4b36-9243-01e50a6f2104"
   },
   "outputs": [],
   "source": []
  }
 ],
 "metadata": {
  "colab": {
   "provenance": []
  },
  "kernelspec": {
   "display_name": "Python 3",
   "name": "python3"
  },
  "language_info": {
   "name": "python"
  }
 },
 "nbformat": 4,
 "nbformat_minor": 5
}
