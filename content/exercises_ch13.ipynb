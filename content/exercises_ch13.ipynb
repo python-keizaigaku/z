{
 "cells": [
  {
   "cell_type": "markdown",
   "id": "0",
   "metadata": {
    "id": "55422144-2e31-4fae-9a0d-15285fec13eb"
   },
   "source": [
    "# 13章：演習問題の解答"
   ]
  },
  {
   "cell_type": "markdown",
   "id": "1",
   "metadata": {
    "id": "selrpiZikKrN"
   },
   "source": [
    "## はじめに"
   ]
  },
  {
   "cell_type": "code",
   "execution_count": null,
   "id": "2",
   "metadata": {
    "colab": {
     "base_uri": "https://localhost:8080/"
    },
    "executionInfo": {
     "elapsed": 17281,
     "status": "ok",
     "timestamp": 1758079491091,
     "user": {
      "displayName": "T Haruyama",
      "userId": "09851044792665346893"
     },
     "user_tz": -540
    },
    "id": "7f5926cd-d616-4a91-baf2-600fde702d68",
    "outputId": "9fe217a7-e9dc-4809-8180-36248da1d070"
   },
   "outputs": [],
   "source": [
    "%pip install -q japanize-matplotlib-jlite py4macro\n",
    "import japanize_matplotlib_jlite\n",
    "import matplotlib.pyplot as plt\n",
    "import pandas as pd\n",
    "import py4macro\n",
    "import statsmodels.formula.api as smf"
   ]
  },
  {
   "cell_type": "markdown",
   "id": "3",
   "metadata": {
    "id": "cbe0ca44-c77e-4377-978f-a8cff739c053"
   },
   "source": [
    "## 演習1"
   ]
  },
  {
   "cell_type": "markdown",
   "id": "4",
   "metadata": {
    "id": "9018f01d-d3ea-4705-a001-40ac88af8b6d"
   },
   "source": [
    "### (1)"
   ]
  },
  {
   "cell_type": "code",
   "execution_count": null,
   "id": "5",
   "metadata": {
    "colab": {
     "base_uri": "https://localhost:8080/"
    },
    "executionInfo": {
     "elapsed": 5,
     "status": "ok",
     "timestamp": 1758079491106,
     "user": {
      "displayName": "T Haruyama",
      "userId": "09851044792665346893"
     },
     "user_tz": -540
    },
    "id": "727b3fc1-2f8a-468e-bea2-d4cc3a139b23",
    "outputId": "a4e37e90-d7d0-47fd-c53a-9013f0f5596b"
   },
   "outputs": [],
   "source": [
    "df = py4macro.data(\"jpn-yr\")\n",
    "df.columns"
   ]
  },
  {
   "cell_type": "markdown",
   "id": "6",
   "metadata": {
    "id": "700f080a-c9af-4495-a92f-1d8effcf5f8e"
   },
   "source": [
    "### (2)"
   ]
  },
  {
   "cell_type": "code",
   "execution_count": null,
   "id": "7",
   "metadata": {
    "executionInfo": {
     "elapsed": 4,
     "status": "ok",
     "timestamp": 1758079491113,
     "user": {
      "displayName": "T Haruyama",
      "userId": "09851044792665346893"
     },
     "user_tz": -540
    },
    "id": "01ddbdd9-673c-4794-9384-e1681c17f7b8"
   },
   "outputs": [],
   "source": [
    "df[\"gdp_growth\"] = 100*df[\"gdp\"].pct_change()\n",
    "df[\"u_change\"] = df[\"unemployment_rate\"].diff()"
   ]
  },
  {
   "cell_type": "markdown",
   "id": "8",
   "metadata": {
    "id": "de429196-06ef-4164-8789-8deddb6b6b23"
   },
   "source": [
    "### (3)"
   ]
  },
  {
   "cell_type": "code",
   "execution_count": null,
   "id": "9",
   "metadata": {
    "colab": {
     "base_uri": "https://localhost:8080/"
    },
    "executionInfo": {
     "elapsed": 8,
     "status": "ok",
     "timestamp": 1758079491122,
     "user": {
      "displayName": "T Haruyama",
      "userId": "09851044792665346893"
     },
     "user_tz": -540
    },
    "id": "3870de95-bd42-43b8-a3ef-a8b3a1b9419a",
    "outputId": "9f03ade0-c361-45a9-8376-cdf4510f8ae5"
   },
   "outputs": [],
   "source": [
    "formula = \"gdp_growth ~ u_change\"\n",
    "okun = smf.ols(formula, data=df).fit()\n",
    "print(okun.summary(slim=True))"
   ]
  },
  {
   "cell_type": "markdown",
   "id": "10",
   "metadata": {
    "id": "866a7c6f-d643-4080-a6b2-c65fb013bdb0"
   },
   "source": [
    "### (4)"
   ]
  },
  {
   "cell_type": "code",
   "execution_count": null,
   "id": "11",
   "metadata": {
    "colab": {
     "base_uri": "https://localhost:8080/"
    },
    "executionInfo": {
     "elapsed": 5,
     "status": "ok",
     "timestamp": 1758079491127,
     "user": {
      "displayName": "T Haruyama",
      "userId": "09851044792665346893"
     },
     "user_tz": -540
    },
    "id": "c4dce33a-e307-4c24-a0c7-cfc1d040fe4b",
    "outputId": "a21b86e2-b3f6-4f59-e0be-fc5cc13f91d4"
   },
   "outputs": [],
   "source": [
    "ahat = okun.params[\"Intercept\"]\n",
    "bhat = okun.params[\"u_change\"]\n",
    "\n",
    "print(f\"失業率が変化しない場合，GDPは平均で{ahat:.2f}%で成長する\")\n",
    "print(f\"失業率0.1%上昇すると合，GDP成長率は平均で{-bhat:.2f}%低下する\")"
   ]
  },
  {
   "cell_type": "markdown",
   "id": "12",
   "metadata": {
    "id": "5bfc7d75-53ab-4a44-9b25-dd7304265719"
   },
   "source": [
    "### (5)"
   ]
  },
  {
   "cell_type": "code",
   "execution_count": null,
   "id": "13",
   "metadata": {
    "executionInfo": {
     "elapsed": 4,
     "status": "ok",
     "timestamp": 1758079491128,
     "user": {
      "displayName": "T Haruyama",
      "userId": "09851044792665346893"
     },
     "user_tz": -540
    },
    "id": "6cbc4c29-751f-4148-891c-282ac8e1bcec"
   },
   "outputs": [],
   "source": [
    "df[\"fitted_okun\"] = okun.fittedvalues"
   ]
  },
  {
   "cell_type": "markdown",
   "id": "14",
   "metadata": {
    "id": "9841755d-9968-40db-8507-7eb26280a9dd"
   },
   "source": [
    "### (6)"
   ]
  },
  {
   "cell_type": "code",
   "execution_count": null,
   "id": "15",
   "metadata": {
    "colab": {
     "base_uri": "https://localhost:8080/",
     "height": 484
    },
    "executionInfo": {
     "elapsed": 380,
     "status": "ok",
     "timestamp": 1758079491506,
     "user": {
      "displayName": "T Haruyama",
      "userId": "09851044792665346893"
     },
     "user_tz": -540
    },
    "id": "c9a12031-6f94-4621-9a5a-f4cc0a415a24",
    "outputId": "2c3ad9a6-ea0b-4c71-a383-03d6247de028"
   },
   "outputs": [],
   "source": [
    "plt.scatter(\"u_change\", \"gdp_growth\", data=df)\n",
    "plt.plot(\"u_change\", \"fitted_okun\", data=df, color=\"red\")\n",
    "plt.xlabel(\"失業率の変化\", size=15)\n",
    "plt.ylabel(\"実質GDPの成長率\", size=15)\n",
    "plt.title(\"オークンの法則\", size=20)\n",
    "plt.show()"
   ]
  },
  {
   "cell_type": "markdown",
   "id": "16",
   "metadata": {
    "id": "09f74fe4-6b3d-433a-9b76-5a6bb176ae25"
   },
   "source": [
    "## 演習2"
   ]
  },
  {
   "cell_type": "markdown",
   "id": "17",
   "metadata": {
    "id": "35574fc7-f370-44b7-94bd-c654e38e724a"
   },
   "source": [
    "### (1)"
   ]
  },
  {
   "cell_type": "code",
   "execution_count": null,
   "id": "18",
   "metadata": {
    "executionInfo": {
     "elapsed": 9,
     "status": "ok",
     "timestamp": 1758079491516,
     "user": {
      "displayName": "T Haruyama",
      "userId": "09851044792665346893"
     },
     "user_tz": -540
    },
    "id": "fa391235-9ae9-4290-a203-9b92180a93ff"
   },
   "outputs": [],
   "source": [
    "formula1 = \"inflation ~ unemployment_rate\""
   ]
  },
  {
   "cell_type": "markdown",
   "id": "19",
   "metadata": {
    "id": "75d5e5c2-5761-488c-86c3-f88767f40680"
   },
   "source": [
    "### (2)"
   ]
  },
  {
   "cell_type": "code",
   "execution_count": null,
   "id": "20",
   "metadata": {
    "colab": {
     "base_uri": "https://localhost:8080/"
    },
    "executionInfo": {
     "elapsed": 4,
     "status": "ok",
     "timestamp": 1758079491521,
     "user": {
      "displayName": "T Haruyama",
      "userId": "09851044792665346893"
     },
     "user_tz": -540
    },
    "id": "93aad227-0b36-4f03-9e36-2334d4832c35",
    "outputId": "a1c03c51-63f7-4e7d-d152-9c095b67928d"
   },
   "outputs": [],
   "source": [
    "pc = smf.ols(formula1, data=df).fit()\n",
    "print(pc.summary(slim=True))"
   ]
  },
  {
   "cell_type": "markdown",
   "id": "21",
   "metadata": {
    "id": "03fc5e16-e4a5-4e9e-ad43-71ab5d8bc035"
   },
   "source": [
    "### (3)"
   ]
  },
  {
   "cell_type": "code",
   "execution_count": null,
   "id": "22",
   "metadata": {
    "colab": {
     "base_uri": "https://localhost:8080/",
     "height": 125
    },
    "executionInfo": {
     "elapsed": 25,
     "status": "ok",
     "timestamp": 1758079491545,
     "user": {
      "displayName": "T Haruyama",
      "userId": "09851044792665346893"
     },
     "user_tz": -540
    },
    "id": "2338dee4-dede-4da5-9efe-559b9a4b213f",
    "outputId": "8b41df3c-343e-4e5a-a98e-d0436fa456e1"
   },
   "outputs": [],
   "source": [
    "cf = pc.conf_int()\n",
    "cf"
   ]
  },
  {
   "cell_type": "code",
   "execution_count": null,
   "id": "23",
   "metadata": {
    "colab": {
     "base_uri": "https://localhost:8080/"
    },
    "executionInfo": {
     "elapsed": 8,
     "status": "ok",
     "timestamp": 1758079491553,
     "user": {
      "displayName": "T Haruyama",
      "userId": "09851044792665346893"
     },
     "user_tz": -540
    },
    "id": "bbbe9af5-b399-4525-8c65-3e71b28ef328",
    "outputId": "daa16e6c-5382-4465-8d8a-667d3f941109"
   },
   "outputs": [],
   "source": [
    "print(f\"下限：{cf.iloc[1,0]}\")\n",
    "print(f\"上限：{cf.iloc[1,1]}\")"
   ]
  },
  {
   "cell_type": "markdown",
   "id": "24",
   "metadata": {
    "id": "2377f2a5-3306-4dfd-a564-bb55690f69b5"
   },
   "source": [
    "### (4)"
   ]
  },
  {
   "cell_type": "code",
   "execution_count": null,
   "id": "25",
   "metadata": {
    "executionInfo": {
     "elapsed": 3,
     "status": "ok",
     "timestamp": 1758079491557,
     "user": {
      "displayName": "T Haruyama",
      "userId": "09851044792665346893"
     },
     "user_tz": -540
    },
    "id": "4c6438e1-b11a-44f1-9987-eeeb8af4c446"
   },
   "outputs": [],
   "source": [
    "df[\"fitted_pc\"] = pc.fittedvalues"
   ]
  },
  {
   "cell_type": "markdown",
   "id": "26",
   "metadata": {
    "id": "1e7c824d-aa2b-4b71-8efd-62da3c7e626c"
   },
   "source": [
    "### (5)"
   ]
  },
  {
   "cell_type": "code",
   "execution_count": null,
   "id": "27",
   "metadata": {
    "colab": {
     "base_uri": "https://localhost:8080/",
     "height": 484
    },
    "executionInfo": {
     "elapsed": 77,
     "status": "ok",
     "timestamp": 1758079491638,
     "user": {
      "displayName": "T Haruyama",
      "userId": "09851044792665346893"
     },
     "user_tz": -540
    },
    "id": "aa7bd286-c1e0-45eb-aa56-9df969709746",
    "outputId": "c09081b0-0f9f-4bc1-9344-471822ea2d9f"
   },
   "outputs": [],
   "source": [
    "plt.scatter(\"unemployment_rate\", \"inflation\", data=df)\n",
    "plt.plot(\"unemployment_rate\", \"fitted_pc\", data=df, color=\"red\")\n",
    "plt.xlabel(\"失業率\", size=15)\n",
    "plt.ylabel(\"インフレ率\", size=15)\n",
    "plt.title(\"フィリップス曲線\", size=20)\n",
    "plt.grid()\n",
    "plt.show()"
   ]
  },
  {
   "cell_type": "code",
   "execution_count": null,
   "id": "28",
   "metadata": {
    "executionInfo": {
     "elapsed": 1,
     "status": "ok",
     "timestamp": 1758079491640,
     "user": {
      "displayName": "T Haruyama",
      "userId": "09851044792665346893"
     },
     "user_tz": -540
    },
    "id": "GekMLb425X5S"
   },
   "outputs": [],
   "source": []
  }
 ],
 "metadata": {
  "colab": {
   "provenance": []
  },
  "kernelspec": {
   "display_name": "Python 3",
   "name": "python3"
  },
  "language_info": {
   "name": "python"
  }
 },
 "nbformat": 4,
 "nbformat_minor": 5
}
