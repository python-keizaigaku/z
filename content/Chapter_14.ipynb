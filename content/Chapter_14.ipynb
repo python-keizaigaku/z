{
 "cells": [
  {
   "cell_type": "markdown",
   "id": "0",
   "metadata": {
    "id": "beb8a937-887b-4028-86ef-b2d11d2ed426"
   },
   "source": [
    "# 第14章　NumPy：基本とシミュレーション"
   ]
  },
  {
   "cell_type": "markdown",
   "id": "1",
   "metadata": {
    "id": "rjUtv8q06dEf"
   },
   "source": [
    "## はじめに"
   ]
  },
  {
   "cell_type": "code",
   "execution_count": null,
   "id": "2",
   "metadata": {
    "colab": {
     "base_uri": "https://localhost:8080/"
    },
    "executionInfo": {
     "elapsed": 19477,
     "status": "ok",
     "timestamp": 1758070838905,
     "user": {
      "displayName": "T Haruyama",
      "userId": "09851044792665346893"
     },
     "user_tz": -540
    },
    "id": "13f9d381-2654-466b-9a46-26325013d8f8",
    "outputId": "1410f206-ce02-42a6-e5b9-6637f41e132e"
   },
   "outputs": [],
   "source": [
    "%pip install -q japanize-matplotlib-jlite\n",
    "import japanize_matplotlib_jlite\n",
    "import matplotlib.pyplot as plt\n",
    "import numpy as np\n",
    "import pandas as pd"
   ]
  },
  {
   "cell_type": "markdown",
   "id": "3",
   "metadata": {
    "id": "4c560646-e61c-45b3-ad6a-bf42d8871426"
   },
   "source": [
    "## `NumPy`：`array`（配列）"
   ]
  },
  {
   "cell_type": "markdown",
   "id": "4",
   "metadata": {
    "id": "bfe3d152-ed94-4970-91bd-50b2da664d67"
   },
   "source": [
    "### 配列の作成方法"
   ]
  },
  {
   "cell_type": "markdown",
   "id": "5",
   "metadata": {
    "id": "Ct3Zr5wQabBl"
   },
   "source": [
    "コード14.2.1"
   ]
  },
  {
   "cell_type": "code",
   "execution_count": null,
   "id": "6",
   "metadata": {
    "colab": {
     "base_uri": "https://localhost:8080/"
    },
    "executionInfo": {
     "elapsed": 7,
     "status": "ok",
     "timestamp": 1758070838920,
     "user": {
      "displayName": "T Haruyama",
      "userId": "09851044792665346893"
     },
     "user_tz": -540
    },
    "id": "3b77eb3b-204d-41f1-80b5-f25ac5b973be",
    "outputId": "e8ce6006-31db-41d2-a7f6-384a67d4dd92"
   },
   "outputs": [],
   "source": [
    "l0 = [0, 1, 2, 3, 4]\n",
    "arr0 = np.array(l0)\n",
    "arr0"
   ]
  },
  {
   "cell_type": "markdown",
   "id": "7",
   "metadata": {
    "id": "0dS7Mk73ajmc"
   },
   "source": [
    "コード14.2.2"
   ]
  },
  {
   "cell_type": "code",
   "execution_count": null,
   "id": "8",
   "metadata": {
    "colab": {
     "base_uri": "https://localhost:8080/"
    },
    "executionInfo": {
     "elapsed": 8,
     "status": "ok",
     "timestamp": 1758070838929,
     "user": {
      "displayName": "T Haruyama",
      "userId": "09851044792665346893"
     },
     "user_tz": -540
    },
    "id": "1b424d1a-2121-4cf7-a04d-20e7fdcffa58",
    "outputId": "189e21d0-76e3-45a8-fee1-46e9b6f183f2"
   },
   "outputs": [],
   "source": [
    "l1 = [5, 6, 7, 8, 9]\n",
    "l2 = [10, 11, 12, 13, 14]\n",
    "l3 = [15, 16, 17, 18, 19]\n",
    "lst = [l0, l1, l2, l3]\n",
    "arr1 = np.array(lst)\n",
    "arr1"
   ]
  },
  {
   "cell_type": "markdown",
   "id": "9",
   "metadata": {
    "id": "pbREyrTSbY3h"
   },
   "source": [
    "コード14.2.3"
   ]
  },
  {
   "cell_type": "code",
   "execution_count": null,
   "id": "10",
   "metadata": {
    "colab": {
     "base_uri": "https://localhost:8080/"
    },
    "executionInfo": {
     "elapsed": 3,
     "status": "ok",
     "timestamp": 1758070838933,
     "user": {
      "displayName": "T Haruyama",
      "userId": "09851044792665346893"
     },
     "user_tz": -540
    },
    "id": "f3f79534-879f-462d-ad7f-7ac04cf13346",
    "outputId": "b9891f26-1640-40a5-e5ae-335ec3c3fe17"
   },
   "outputs": [],
   "source": [
    "print( \"arr0:\", arr0.ndim )\n",
    "print( \"arr1:\", arr1.ndim )"
   ]
  },
  {
   "cell_type": "markdown",
   "id": "11",
   "metadata": {
    "id": "iVwoMDvxbcfu"
   },
   "source": [
    "コード14.2.4"
   ]
  },
  {
   "cell_type": "code",
   "execution_count": null,
   "id": "12",
   "metadata": {
    "colab": {
     "base_uri": "https://localhost:8080/"
    },
    "executionInfo": {
     "elapsed": 3,
     "status": "ok",
     "timestamp": 1758070838937,
     "user": {
      "displayName": "T Haruyama",
      "userId": "09851044792665346893"
     },
     "user_tz": -540
    },
    "id": "b55d8af7-4a2e-467d-a7fb-41c79c2c61a0",
    "outputId": "df4800bd-8b5d-4ce3-f1ba-7ea7226b46a9"
   },
   "outputs": [],
   "source": [
    "print( \"arr0:\", arr0.shape )\n",
    "print( \"arr1:\", arr1.shape )"
   ]
  },
  {
   "cell_type": "markdown",
   "id": "13",
   "metadata": {
    "id": "eA6dLkwqbg-Y"
   },
   "source": [
    "コード14.2.5"
   ]
  },
  {
   "cell_type": "code",
   "execution_count": null,
   "id": "14",
   "metadata": {
    "colab": {
     "base_uri": "https://localhost:8080/"
    },
    "executionInfo": {
     "elapsed": 43,
     "status": "ok",
     "timestamp": 1758070838981,
     "user": {
      "displayName": "T Haruyama",
      "userId": "09851044792665346893"
     },
     "user_tz": -540
    },
    "id": "4987ad18-a978-4834-9fc8-ee8ad8d2e4e4",
    "outputId": "c5a26264-abbd-4376-aa87-f6f504bbe6b6"
   },
   "outputs": [],
   "source": [
    "arr2 = np.array([l0])\n",
    "print( arr2.shape )\n",
    "arr2"
   ]
  },
  {
   "cell_type": "markdown",
   "id": "15",
   "metadata": {
    "id": "a513110b-8f71-4025-8abe-a8f8f738b724",
    "jp-MarkdownHeadingCollapsed": true
   },
   "source": [
    "### 一つの要素の抽出方法"
   ]
  },
  {
   "cell_type": "markdown",
   "id": "16",
   "metadata": {
    "id": "lGMw1X8ybndP"
   },
   "source": [
    "コード14.2.6"
   ]
  },
  {
   "cell_type": "code",
   "execution_count": null,
   "id": "17",
   "metadata": {
    "colab": {
     "base_uri": "https://localhost:8080/"
    },
    "executionInfo": {
     "elapsed": 4,
     "status": "ok",
     "timestamp": 1758070838982,
     "user": {
      "displayName": "T Haruyama",
      "userId": "09851044792665346893"
     },
     "user_tz": -540
    },
    "id": "5fde18b1-0bb1-43ed-a948-b3e4f84de872",
    "outputId": "abdf650f-b109-4daf-e82f-ac06fbb01c76"
   },
   "outputs": [],
   "source": [
    "print(arr0[2])"
   ]
  },
  {
   "cell_type": "markdown",
   "id": "18",
   "metadata": {
    "id": "wyqjHvLabuIR"
   },
   "source": [
    "コード14.2.7"
   ]
  },
  {
   "cell_type": "code",
   "execution_count": null,
   "id": "19",
   "metadata": {
    "colab": {
     "base_uri": "https://localhost:8080/"
    },
    "executionInfo": {
     "elapsed": 7,
     "status": "ok",
     "timestamp": 1758070838987,
     "user": {
      "displayName": "T Haruyama",
      "userId": "09851044792665346893"
     },
     "user_tz": -540
    },
    "id": "2ad9b519-aad1-4552-89f2-ae05566f1ad2",
    "outputId": "f3ced700-1606-414e-e1d0-79c178fd756d"
   },
   "outputs": [],
   "source": [
    "print(arr1[2, -1])"
   ]
  },
  {
   "cell_type": "markdown",
   "id": "20",
   "metadata": {
    "id": "CTXEbYrjby6X"
   },
   "source": [
    "コード14.2.8"
   ]
  },
  {
   "cell_type": "code",
   "execution_count": null,
   "id": "21",
   "metadata": {
    "colab": {
     "base_uri": "https://localhost:8080/"
    },
    "executionInfo": {
     "elapsed": 3,
     "status": "ok",
     "timestamp": 1758070838991,
     "user": {
      "displayName": "T Haruyama",
      "userId": "09851044792665346893"
     },
     "user_tz": -540
    },
    "id": "59a2024e-9612-4e4c-bb08-00fa129e5369",
    "outputId": "3d142bf4-d2b2-4aa2-84b2-92e8c0301902"
   },
   "outputs": [],
   "source": [
    "print( arr2[0, 1] )"
   ]
  },
  {
   "cell_type": "markdown",
   "id": "22",
   "metadata": {
    "id": "e510ecfb-cee3-4a7f-8f63-3a19ceaed829",
    "jp-MarkdownHeadingCollapsed": true
   },
   "source": [
    "### スライシングによる要素抽出"
   ]
  },
  {
   "cell_type": "markdown",
   "id": "23",
   "metadata": {
    "id": "kf0cHcT8b6zs"
   },
   "source": [
    "コード14.2.9"
   ]
  },
  {
   "cell_type": "code",
   "execution_count": null,
   "id": "24",
   "metadata": {
    "colab": {
     "base_uri": "https://localhost:8080/"
    },
    "executionInfo": {
     "elapsed": 2,
     "status": "ok",
     "timestamp": 1758070838994,
     "user": {
      "displayName": "T Haruyama",
      "userId": "09851044792665346893"
     },
     "user_tz": -540
    },
    "id": "b94b6464-74f8-4c4f-8f9f-f2d1dd1f97c9",
    "outputId": "131aec82-5d99-4887-8124-07cd1354345a"
   },
   "outputs": [],
   "source": [
    "arr0[1:-1]"
   ]
  },
  {
   "cell_type": "markdown",
   "id": "25",
   "metadata": {
    "id": "Mxz0Gl4Gb9ic"
   },
   "source": [
    "コード14.2.10"
   ]
  },
  {
   "cell_type": "code",
   "execution_count": null,
   "id": "26",
   "metadata": {
    "colab": {
     "base_uri": "https://localhost:8080/"
    },
    "executionInfo": {
     "elapsed": 4,
     "status": "ok",
     "timestamp": 1758070838999,
     "user": {
      "displayName": "T Haruyama",
      "userId": "09851044792665346893"
     },
     "user_tz": -540
    },
    "id": "bd19999a-7e84-4779-bd26-fcfced21deb1",
    "outputId": "e2687b48-3519-4ffd-e88d-3ff0b51f9e7e"
   },
   "outputs": [],
   "source": [
    "arr1[:, 1:3]"
   ]
  },
  {
   "cell_type": "markdown",
   "id": "27",
   "metadata": {
    "id": "786cff9f-435d-41a4-81b2-f9ea1a37e4d0",
    "jp-MarkdownHeadingCollapsed": true
   },
   "source": [
    "### リストを使う要素抽出"
   ]
  },
  {
   "cell_type": "markdown",
   "id": "28",
   "metadata": {
    "id": "icmtRXJFchaz"
   },
   "source": [
    "コード14.2.11"
   ]
  },
  {
   "cell_type": "code",
   "execution_count": null,
   "id": "29",
   "metadata": {
    "colab": {
     "base_uri": "https://localhost:8080/"
    },
    "executionInfo": {
     "elapsed": 6,
     "status": "ok",
     "timestamp": 1758070839004,
     "user": {
      "displayName": "T Haruyama",
      "userId": "09851044792665346893"
     },
     "user_tz": -540
    },
    "id": "8acf039f-0e98-4fdb-a992-4bb8ef214b9c",
    "outputId": "9c8bf1cd-1578-4131-9017-fe42b5705db9"
   },
   "outputs": [],
   "source": [
    "lst0 = [1, 3, -1]\n",
    "\n",
    "arr0[lst0]"
   ]
  },
  {
   "cell_type": "markdown",
   "id": "30",
   "metadata": {
    "id": "8JIbCcOadkmO"
   },
   "source": [
    "コード14.2.12"
   ]
  },
  {
   "cell_type": "code",
   "execution_count": null,
   "id": "31",
   "metadata": {
    "colab": {
     "base_uri": "https://localhost:8080/"
    },
    "executionInfo": {
     "elapsed": 40,
     "status": "ok",
     "timestamp": 1758070839045,
     "user": {
      "displayName": "T Haruyama",
      "userId": "09851044792665346893"
     },
     "user_tz": -540
    },
    "id": "bda584fe-14ef-4489-aba7-afc06e9c6054",
    "outputId": "8876d5f0-a559-43b0-cace-26855a36d898"
   },
   "outputs": [],
   "source": [
    "lst_row = [0, 2, -1]\n",
    "lst_col = [0, 2, -1]\n",
    "arr1[lst_row, lst_col]"
   ]
  },
  {
   "cell_type": "markdown",
   "id": "32",
   "metadata": {
    "id": "0d2193d2-8d2b-4058-abe8-2308cb0a55ec",
    "jp-MarkdownHeadingCollapsed": true
   },
   "source": [
    "## ベクトル化演算"
   ]
  },
  {
   "cell_type": "markdown",
   "id": "33",
   "metadata": {
    "id": "pawZ2VhEdwxR"
   },
   "source": [
    "コード14.3.1"
   ]
  },
  {
   "cell_type": "code",
   "execution_count": null,
   "id": "34",
   "metadata": {
    "executionInfo": {
     "elapsed": 7,
     "status": "ok",
     "timestamp": 1758070839047,
     "user": {
      "displayName": "T Haruyama",
      "userId": "09851044792665346893"
     },
     "user_tz": -540
    },
    "id": "d5e94af1-8051-48ec-85ec-5c6db8e3dce0"
   },
   "outputs": [],
   "source": [
    "m1 = np.array([[1, 1],\n",
    "               [2, 2]])"
   ]
  },
  {
   "cell_type": "markdown",
   "id": "35",
   "metadata": {
    "id": "j0np6dpFd06k"
   },
   "source": [
    "コード14.3.2"
   ]
  },
  {
   "cell_type": "code",
   "execution_count": null,
   "id": "36",
   "metadata": {
    "executionInfo": {
     "elapsed": 1,
     "status": "ok",
     "timestamp": 1758070839049,
     "user": {
      "displayName": "T Haruyama",
      "userId": "09851044792665346893"
     },
     "user_tz": -540
    },
    "id": "b71567f0-ea38-4544-a12c-4dc13a32a048"
   },
   "outputs": [],
   "source": [
    "m2 = np.array([[3, 3],\n",
    "               [4, 4]])"
   ]
  },
  {
   "cell_type": "markdown",
   "id": "37",
   "metadata": {
    "id": "q03r6KvQd3qG"
   },
   "source": [
    "コード14.3.3"
   ]
  },
  {
   "cell_type": "code",
   "execution_count": null,
   "id": "38",
   "metadata": {
    "colab": {
     "base_uri": "https://localhost:8080/"
    },
    "executionInfo": {
     "elapsed": 3,
     "status": "ok",
     "timestamp": 1758070839056,
     "user": {
      "displayName": "T Haruyama",
      "userId": "09851044792665346893"
     },
     "user_tz": -540
    },
    "id": "427408a8-1ed0-4d76-b0c4-221d7ee87733",
    "outputId": "e0e62359-32e8-405f-a78a-c84605a1417b"
   },
   "outputs": [],
   "source": [
    "m1 + m2"
   ]
  },
  {
   "cell_type": "markdown",
   "id": "39",
   "metadata": {
    "id": "hGIXRP95d6PX"
   },
   "source": [
    "コード14.3.4"
   ]
  },
  {
   "cell_type": "code",
   "execution_count": null,
   "id": "40",
   "metadata": {
    "colab": {
     "base_uri": "https://localhost:8080/"
    },
    "executionInfo": {
     "elapsed": 4,
     "status": "ok",
     "timestamp": 1758070839061,
     "user": {
      "displayName": "T Haruyama",
      "userId": "09851044792665346893"
     },
     "user_tz": -540
    },
    "id": "177252df-832a-4633-a80e-b7fbd429e441",
    "outputId": "0306454d-009a-4a18-b2af-5e7bcaa2abe4"
   },
   "outputs": [],
   "source": [
    "m1 - m2"
   ]
  },
  {
   "cell_type": "markdown",
   "id": "41",
   "metadata": {
    "id": "x8qrzswdd8r7"
   },
   "source": [
    "コード14.3.5"
   ]
  },
  {
   "cell_type": "code",
   "execution_count": null,
   "id": "42",
   "metadata": {
    "colab": {
     "base_uri": "https://localhost:8080/"
    },
    "executionInfo": {
     "elapsed": 3,
     "status": "ok",
     "timestamp": 1758070839064,
     "user": {
      "displayName": "T Haruyama",
      "userId": "09851044792665346893"
     },
     "user_tz": -540
    },
    "id": "be3e78c3-f7bc-4a84-ba79-a3f1dffc0403",
    "outputId": "572c7c43-c65d-4023-e429-f3d76bc24771"
   },
   "outputs": [],
   "source": [
    "m1 ** 2"
   ]
  },
  {
   "cell_type": "markdown",
   "id": "43",
   "metadata": {
    "id": "7ayvvsEGeANZ"
   },
   "source": [
    "コード14.3.6"
   ]
  },
  {
   "cell_type": "code",
   "execution_count": null,
   "id": "44",
   "metadata": {
    "colab": {
     "base_uri": "https://localhost:8080/"
    },
    "executionInfo": {
     "elapsed": 5,
     "status": "ok",
     "timestamp": 1758070839070,
     "user": {
      "displayName": "T Haruyama",
      "userId": "09851044792665346893"
     },
     "user_tz": -540
    },
    "id": "7be3a376-1455-417b-b4b8-b961d9e95fee",
    "outputId": "df0fc44f-5034-4ac1-df09-27ccd9f24d13"
   },
   "outputs": [],
   "source": [
    "m1 * m2"
   ]
  },
  {
   "cell_type": "markdown",
   "id": "45",
   "metadata": {
    "id": "JcOFM_6ZeEsR"
   },
   "source": [
    "コード14.3.7"
   ]
  },
  {
   "cell_type": "code",
   "execution_count": null,
   "id": "46",
   "metadata": {
    "colab": {
     "base_uri": "https://localhost:8080/"
    },
    "executionInfo": {
     "elapsed": 37,
     "status": "ok",
     "timestamp": 1758070839108,
     "user": {
      "displayName": "T Haruyama",
      "userId": "09851044792665346893"
     },
     "user_tz": -540
    },
    "id": "8291e090-5cf2-48aa-a8b3-dfe6e62edebf",
    "outputId": "cf268463-dbdb-4c21-b237-f368b76ce208"
   },
   "outputs": [],
   "source": [
    "m2 / m1"
   ]
  },
  {
   "cell_type": "markdown",
   "id": "47",
   "metadata": {
    "id": "2AAljjO5eHw7"
   },
   "source": [
    "コード14.3.8"
   ]
  },
  {
   "cell_type": "code",
   "execution_count": null,
   "id": "48",
   "metadata": {
    "colab": {
     "base_uri": "https://localhost:8080/"
    },
    "executionInfo": {
     "elapsed": 7,
     "status": "ok",
     "timestamp": 1758070839119,
     "user": {
      "displayName": "T Haruyama",
      "userId": "09851044792665346893"
     },
     "user_tz": -540
    },
    "id": "4425532a-c921-4c4a-866a-130ba64d1cdc",
    "outputId": "beec2ca5-c3a2-4c27-8bc2-2b04186a586d"
   },
   "outputs": [],
   "source": [
    "0.5 * m2\n",
    "# m2 / 2"
   ]
  },
  {
   "cell_type": "markdown",
   "id": "49",
   "metadata": {
    "id": "oMlCEYHveQyN"
   },
   "source": [
    "コード14.3.9"
   ]
  },
  {
   "cell_type": "code",
   "execution_count": null,
   "id": "50",
   "metadata": {
    "colab": {
     "base_uri": "https://localhost:8080/"
    },
    "executionInfo": {
     "elapsed": 5,
     "status": "ok",
     "timestamp": 1758070839119,
     "user": {
      "displayName": "T Haruyama",
      "userId": "09851044792665346893"
     },
     "user_tz": -540
    },
    "id": "97e4df5f-af8c-46b6-998a-d0d416ba5f50",
    "outputId": "bb2d2221-a903-48fc-c814-89f366d4bf21"
   },
   "outputs": [],
   "source": [
    "np.log(m1)"
   ]
  },
  {
   "cell_type": "markdown",
   "id": "51",
   "metadata": {
    "id": "4KMkQLSPeVPg"
   },
   "source": [
    "コード14.3.10"
   ]
  },
  {
   "cell_type": "code",
   "execution_count": null,
   "id": "52",
   "metadata": {
    "colab": {
     "base_uri": "https://localhost:8080/"
    },
    "executionInfo": {
     "elapsed": 2,
     "status": "ok",
     "timestamp": 1758070839122,
     "user": {
      "displayName": "T Haruyama",
      "userId": "09851044792665346893"
     },
     "user_tz": -540
    },
    "id": "c56dbead-c258-49ed-88ab-13a99562eb22",
    "outputId": "e470c5ce-ff50-4d1f-bf0f-a2abbc68092c"
   },
   "outputs": [],
   "source": [
    "np.exp(m1)"
   ]
  },
  {
   "cell_type": "markdown",
   "id": "53",
   "metadata": {
    "id": "c1f0a6b3-8494-4e7a-9d02-cbb26132917f"
   },
   "source": [
    "コード14.3.11"
   ]
  },
  {
   "cell_type": "code",
   "execution_count": null,
   "id": "54",
   "metadata": {
    "colab": {
     "base_uri": "https://localhost:8080/"
    },
    "executionInfo": {
     "elapsed": 29,
     "status": "ok",
     "timestamp": 1758070839152,
     "user": {
      "displayName": "T Haruyama",
      "userId": "09851044792665346893"
     },
     "user_tz": -540
    },
    "id": "983451b6-1611-4a47-83ef-8d7ee3877e23",
    "outputId": "f7995e19-2816-4c63-ad1a-2d08f3922151"
   },
   "outputs": [],
   "source": [
    "0.5 * m1 * ( ( np.exp(m2)+1 ) ** 2 - 1 ) + 2 * m1 * np.log(m2)"
   ]
  },
  {
   "cell_type": "markdown",
   "id": "55",
   "metadata": {
    "id": "ewSibjUtevqX"
   },
   "source": [
    "### ブロードキャスト"
   ]
  },
  {
   "cell_type": "markdown",
   "id": "56",
   "metadata": {
    "id": "-Q-VdxP2ez1X"
   },
   "source": [
    "コード14.3.12"
   ]
  },
  {
   "cell_type": "code",
   "execution_count": null,
   "id": "57",
   "metadata": {
    "colab": {
     "base_uri": "https://localhost:8080/"
    },
    "executionInfo": {
     "elapsed": 8,
     "status": "ok",
     "timestamp": 1758070839161,
     "user": {
      "displayName": "T Haruyama",
      "userId": "09851044792665346893"
     },
     "user_tz": -540
    },
    "id": "2732d197-2e18-4440-a7d7-7989c34698dc",
    "outputId": "551a97c1-f4ad-4798-fc7a-a3f420b0527c"
   },
   "outputs": [],
   "source": [
    "m = np.array([[1, 2],\n",
    "              [10, 20]])\n",
    "10 + m"
   ]
  },
  {
   "cell_type": "markdown",
   "id": "58",
   "metadata": {
    "id": "FIw60a_4e5Xc"
   },
   "source": [
    "コード14.3.13"
   ]
  },
  {
   "cell_type": "code",
   "execution_count": null,
   "id": "59",
   "metadata": {
    "colab": {
     "base_uri": "https://localhost:8080/"
    },
    "executionInfo": {
     "elapsed": 31,
     "status": "ok",
     "timestamp": 1758070839187,
     "user": {
      "displayName": "T Haruyama",
      "userId": "09851044792665346893"
     },
     "user_tz": -540
    },
    "id": "e0baaecd-2dea-4f8f-9250-deac21e6b415",
    "outputId": "8c8f38af-2159-4de2-bb3b-d7bcc51f1173"
   },
   "outputs": [],
   "source": [
    "a = np.array([1, 2])\n",
    "m - a"
   ]
  },
  {
   "cell_type": "markdown",
   "id": "60",
   "metadata": {
    "id": "8fb32163-2c0c-41ab-a320-bfb0efe878fe"
   },
   "source": [
    "## ランダム変数"
   ]
  },
  {
   "cell_type": "markdown",
   "id": "61",
   "metadata": {
    "id": "e70fad8d-2f25-40ab-a019-7902421ecf99"
   },
   "source": [
    "### `np.random`モジュール"
   ]
  },
  {
   "cell_type": "markdown",
   "id": "62",
   "metadata": {
    "id": "G1J18DnggDwk"
   },
   "source": [
    "コード14.4.1"
   ]
  },
  {
   "cell_type": "code",
   "execution_count": null,
   "id": "63",
   "metadata": {
    "executionInfo": {
     "elapsed": 8,
     "status": "ok",
     "timestamp": 1758070839195,
     "user": {
      "displayName": "T Haruyama",
      "userId": "09851044792665346893"
     },
     "user_tz": -540
    },
    "id": "e3ad33d9-2a5e-40b4-9bcd-8dac0176ed42"
   },
   "outputs": [],
   "source": [
    "rng = np.random.default_rng(123)"
   ]
  },
  {
   "cell_type": "markdown",
   "id": "64",
   "metadata": {
    "id": "d70c58ca-2851-4bc7-846b-2b434069ac57"
   },
   "source": [
    "### 正規分布"
   ]
  },
  {
   "cell_type": "markdown",
   "id": "65",
   "metadata": {
    "id": "dddJ7AR2gUDZ"
   },
   "source": [
    "コード14.4.2"
   ]
  },
  {
   "cell_type": "code",
   "execution_count": null,
   "id": "66",
   "metadata": {
    "colab": {
     "base_uri": "https://localhost:8080/"
    },
    "executionInfo": {
     "elapsed": 18,
     "status": "ok",
     "timestamp": 1758070839227,
     "user": {
      "displayName": "T Haruyama",
      "userId": "09851044792665346893"
     },
     "user_tz": -540
    },
    "id": "c14eb13b-8c70-447e-bdcb-4cdc469b28ac",
    "outputId": "d3124eef-6383-4aed-ce83-8a03bd5c4547"
   },
   "outputs": [],
   "source": [
    "rng.normal(1, 5, size=2)"
   ]
  },
  {
   "cell_type": "markdown",
   "id": "67",
   "metadata": {
    "id": "bkia5EEzgYB6"
   },
   "source": [
    "コード14.4.3"
   ]
  },
  {
   "cell_type": "code",
   "execution_count": null,
   "id": "68",
   "metadata": {
    "colab": {
     "base_uri": "https://localhost:8080/"
    },
    "executionInfo": {
     "elapsed": 50,
     "status": "ok",
     "timestamp": 1758070839280,
     "user": {
      "displayName": "T Haruyama",
      "userId": "09851044792665346893"
     },
     "user_tz": -540
    },
    "id": "727d0aaf-e0a5-4d53-b159-65d503c6328a",
    "outputId": "a8e29401-ee36-4d26-aa12-ea2ebe13d860"
   },
   "outputs": [],
   "source": [
    "rng.normal( size=(2,4) )"
   ]
  },
  {
   "cell_type": "markdown",
   "id": "69",
   "metadata": {
    "id": "5a9kbKk_gq5r"
   },
   "source": [
    "コード14.4.4"
   ]
  },
  {
   "cell_type": "code",
   "execution_count": null,
   "id": "70",
   "metadata": {
    "colab": {
     "base_uri": "https://localhost:8080/",
     "height": 480
    },
    "executionInfo": {
     "elapsed": 572,
     "status": "ok",
     "timestamp": 1758070839852,
     "user": {
      "displayName": "T Haruyama",
      "userId": "09851044792665346893"
     },
     "user_tz": -540
    },
    "id": "00e2a940-5bb6-4855-ae89-6f2f90f9edc7",
    "outputId": "8c66be45-91f9-4a67-894d-696f303519a9"
   },
   "outputs": [],
   "source": [
    "val = rng.normal( size=100_000 )\n",
    "\n",
    "plt.hist(val, bins=50,\n",
    "         color=\"black\",\n",
    "         edgecolor=\"white\",\n",
    "         density=True)\n",
    "plt.xlabel(\"生成されたランダム変数\",\n",
    "           size=14)\n",
    "plt.ylabel(\"相対頻度\", size=14)\n",
    "plt.title(\"標準正規分布\", size=17)\n",
    "plt.show()"
   ]
  },
  {
   "cell_type": "markdown",
   "id": "71",
   "metadata": {
    "id": "YhxP3EMNg6n_"
   },
   "source": [
    "コード14.4.5"
   ]
  },
  {
   "cell_type": "code",
   "execution_count": null,
   "id": "72",
   "metadata": {
    "colab": {
     "base_uri": "https://localhost:8080/",
     "height": 458
    },
    "executionInfo": {
     "elapsed": 152,
     "status": "ok",
     "timestamp": 1758070840003,
     "user": {
      "displayName": "T Haruyama",
      "userId": "09851044792665346893"
     },
     "user_tz": -540
    },
    "id": "ea8ecc4c-64f0-4026-b31b-eec98d7a6772",
    "outputId": "7f6294f3-8e20-4f1b-c369-4ade40b94fa4"
   },
   "outputs": [],
   "source": [
    "val = rng.normal( size=(200, 2) )\n",
    "val0 = val[:,0]\n",
    "val1 = val[:,1]\n",
    "vals = 1.5 * val0 + val1\n",
    "\n",
    "plt.scatter(val0, vals,\n",
    "            color=\"white\",\n",
    "            edgecolor=\"black\")\n",
    "plt.xlabel(\"val0\", size=18)\n",
    "plt.ylabel(\"vals\", size=18)\n",
    "plt.show()"
   ]
  },
  {
   "cell_type": "markdown",
   "id": "73",
   "metadata": {
    "id": "aa919f47-154b-4d91-aa7a-d1d00f1a95d3"
   },
   "source": [
    "### 一様分布"
   ]
  },
  {
   "cell_type": "markdown",
   "id": "74",
   "metadata": {
    "id": "pTtx9ZkkhLZl"
   },
   "source": [
    "コード14.4.6"
   ]
  },
  {
   "cell_type": "code",
   "execution_count": null,
   "id": "75",
   "metadata": {
    "colab": {
     "base_uri": "https://localhost:8080/"
    },
    "executionInfo": {
     "elapsed": 3,
     "status": "ok",
     "timestamp": 1758070840007,
     "user": {
      "displayName": "T Haruyama",
      "userId": "09851044792665346893"
     },
     "user_tz": -540
    },
    "id": "8a8864f3-a38e-482a-a6ab-6bf3a5505ff8",
    "outputId": "7f1c6b34-c319-4361-cf41-8c57de69cbdb"
   },
   "outputs": [],
   "source": [
    "rng.uniform(-5, 5, size=2)"
   ]
  },
  {
   "cell_type": "markdown",
   "id": "76",
   "metadata": {
    "id": "EsKvxgyhhSA6"
   },
   "source": [
    "コード14.4.7"
   ]
  },
  {
   "cell_type": "code",
   "execution_count": null,
   "id": "77",
   "metadata": {
    "colab": {
     "base_uri": "https://localhost:8080/",
     "height": 480
    },
    "executionInfo": {
     "elapsed": 233,
     "status": "ok",
     "timestamp": 1758070840245,
     "user": {
      "displayName": "T Haruyama",
      "userId": "09851044792665346893"
     },
     "user_tz": -540
    },
    "id": "98a915ef-605b-4adb-99d1-8124f1102d95",
    "outputId": "ff4e4c05-6b87-42e8-eec9-b49c28f6e904"
   },
   "outputs": [],
   "source": [
    "val = rng.uniform( size=100_000 )\n",
    "\n",
    "plt.hist(val, bins=50,\n",
    "         color=\"black\",\n",
    "         edgecolor=\"white\")\n",
    "plt.xlabel(\"生成されたランダム変数\", size=14)\n",
    "plt.ylabel(\"頻度\", size=14)\n",
    "plt.title(\"連続一様分布\", size=17)\n",
    "plt.show()"
   ]
  },
  {
   "cell_type": "markdown",
   "id": "78",
   "metadata": {
    "id": "80db63ec-a1fa-4c50-b294-9869fb2f08af"
   },
   "source": [
    "## 統計関連の関数"
   ]
  },
  {
   "cell_type": "markdown",
   "id": "79",
   "metadata": {
    "id": "9d3cf80b-41c2-49a8-b8fb-a7d19065b34c"
   },
   "source": [
    "### 例"
   ]
  },
  {
   "cell_type": "markdown",
   "id": "80",
   "metadata": {
    "id": "a41a4wzeheLy"
   },
   "source": [
    "コード14.5.1"
   ]
  },
  {
   "cell_type": "code",
   "execution_count": null,
   "id": "81",
   "metadata": {
    "colab": {
     "base_uri": "https://localhost:8080/",
     "height": 175
    },
    "executionInfo": {
     "elapsed": 44,
     "status": "ok",
     "timestamp": 1758070840290,
     "user": {
      "displayName": "T Haruyama",
      "userId": "09851044792665346893"
     },
     "user_tz": -540
    },
    "id": "34d44250-2389-499c-8e94-dd0320ea794e",
    "outputId": "a838056b-41d2-439b-f26b-65e9c2f03c17"
   },
   "outputs": [],
   "source": [
    "dic = {\"x\":[1, 2, 3, np.nan],\n",
    "       \"y\":[4, -1, 6, 8]}\n",
    "df_nan = pd.DataFrame(dic)\n",
    "df_nan"
   ]
  },
  {
   "cell_type": "markdown",
   "id": "82",
   "metadata": {
    "id": "B9iJWpxyhjqH"
   },
   "source": [
    "コード14.5.2"
   ]
  },
  {
   "cell_type": "code",
   "execution_count": null,
   "id": "83",
   "metadata": {
    "colab": {
     "base_uri": "https://localhost:8080/",
     "height": 143
    },
    "executionInfo": {
     "elapsed": 33,
     "status": "ok",
     "timestamp": 1758070840323,
     "user": {
      "displayName": "T Haruyama",
      "userId": "09851044792665346893"
     },
     "user_tz": -540
    },
    "id": "31b63a7a-e952-4b55-a559-9e8ec8f7861b",
    "outputId": "3de1ce9e-4fab-49d1-f170-19a3a0a12564"
   },
   "outputs": [],
   "source": [
    "df = df_nan.dropna()\n",
    "df"
   ]
  },
  {
   "cell_type": "markdown",
   "id": "84",
   "metadata": {
    "id": "rnDr6cSkhtWz"
   },
   "source": [
    "コード14.5.3"
   ]
  },
  {
   "cell_type": "code",
   "execution_count": null,
   "id": "85",
   "metadata": {
    "colab": {
     "base_uri": "https://localhost:8080/"
    },
    "executionInfo": {
     "elapsed": 11,
     "status": "ok",
     "timestamp": 1758070840336,
     "user": {
      "displayName": "T Haruyama",
      "userId": "09851044792665346893"
     },
     "user_tz": -540
    },
    "id": "36f6b186-921e-43f0-9300-ca531fa79080",
    "outputId": "0365dd80-1690-4d18-f9ef-783a031c5e64"
   },
   "outputs": [],
   "source": [
    "arr_nan = df_nan.to_numpy()\n",
    "arr_nan"
   ]
  },
  {
   "cell_type": "markdown",
   "id": "86",
   "metadata": {
    "id": "e5coq6AthyAA"
   },
   "source": [
    "コード14.5.4"
   ]
  },
  {
   "cell_type": "code",
   "execution_count": null,
   "id": "87",
   "metadata": {
    "colab": {
     "base_uri": "https://localhost:8080/"
    },
    "executionInfo": {
     "elapsed": 7,
     "status": "ok",
     "timestamp": 1758070840344,
     "user": {
      "displayName": "T Haruyama",
      "userId": "09851044792665346893"
     },
     "user_tz": -540
    },
    "id": "b0984f62-6a6a-4dee-bdc3-943b4c3d3540",
    "outputId": "7db32a4f-b3d3-4728-8080-945b737ff7ce"
   },
   "outputs": [],
   "source": [
    "arr = df.to_numpy()\n",
    "arr"
   ]
  },
  {
   "cell_type": "markdown",
   "id": "88",
   "metadata": {
    "id": "fe1d61f5-2050-458e-9651-d8b9bfd5cf2b",
    "jp-MarkdownHeadingCollapsed": true
   },
   "source": [
    "### 算術平均・標準偏差・分散"
   ]
  },
  {
   "cell_type": "markdown",
   "id": "89",
   "metadata": {
    "id": "f2e9c479-3c60-4748-a917-e6bedf73cd38"
   },
   "source": [
    "コード14.5.5"
   ]
  },
  {
   "cell_type": "code",
   "execution_count": null,
   "id": "90",
   "metadata": {
    "colab": {
     "base_uri": "https://localhost:8080/"
    },
    "executionInfo": {
     "elapsed": 54,
     "status": "ok",
     "timestamp": 1758070840402,
     "user": {
      "displayName": "T Haruyama",
      "userId": "09851044792665346893"
     },
     "user_tz": -540
    },
    "id": "6f6de3ce-fdd6-4fb5-8088-9b15adccb438",
    "outputId": "7ce2216e-2224-40d1-d007-17c9296e2719"
   },
   "outputs": [],
   "source": [
    "print( arr.mean() )"
   ]
  },
  {
   "cell_type": "markdown",
   "id": "91",
   "metadata": {
    "id": "KJ39EyzPh9Ee"
   },
   "source": [
    "コード14.5.6"
   ]
  },
  {
   "cell_type": "code",
   "execution_count": null,
   "id": "92",
   "metadata": {
    "colab": {
     "base_uri": "https://localhost:8080/"
    },
    "executionInfo": {
     "elapsed": 8,
     "status": "ok",
     "timestamp": 1758070840403,
     "user": {
      "displayName": "T Haruyama",
      "userId": "09851044792665346893"
     },
     "user_tz": -540
    },
    "id": "3998ddcf-b5e2-4fee-9808-239cf6c17189",
    "outputId": "0ff2e17b-7c27-461c-ff48-fb41e936f8c7"
   },
   "outputs": [],
   "source": [
    "print( arr.mean(axis=0) )"
   ]
  },
  {
   "cell_type": "markdown",
   "id": "93",
   "metadata": {
    "id": "gYdCMS4qh_4G"
   },
   "source": [
    "コード14.5.7"
   ]
  },
  {
   "cell_type": "code",
   "execution_count": null,
   "id": "94",
   "metadata": {
    "colab": {
     "base_uri": "https://localhost:8080/"
    },
    "executionInfo": {
     "elapsed": 6,
     "status": "ok",
     "timestamp": 1758070840403,
     "user": {
      "displayName": "T Haruyama",
      "userId": "09851044792665346893"
     },
     "user_tz": -540
    },
    "id": "47f7666f-5c99-431f-a08e-9390431259e2",
    "outputId": "5388ef94-452c-4dc0-8beb-7a4d16a74034"
   },
   "outputs": [],
   "source": [
    "print(\n",
    "    arr_nan.mean(axis=0)\n",
    ")"
   ]
  },
  {
   "cell_type": "markdown",
   "id": "95",
   "metadata": {
    "id": "EtLTcxFHiOPs"
   },
   "source": [
    "コード14.5.8"
   ]
  },
  {
   "cell_type": "code",
   "execution_count": null,
   "id": "96",
   "metadata": {
    "colab": {
     "base_uri": "https://localhost:8080/",
     "height": 147
    },
    "executionInfo": {
     "elapsed": 54,
     "status": "ok",
     "timestamp": 1758070840458,
     "user": {
      "displayName": "T Haruyama",
      "userId": "09851044792665346893"
     },
     "user_tz": -540
    },
    "id": "02fbfb6f-8abd-4c61-80db-d95e9cdeb851",
    "outputId": "6b866be8-b5ad-4cc5-e385-c299e00172bb"
   },
   "outputs": [],
   "source": [
    "df.mean()"
   ]
  },
  {
   "cell_type": "markdown",
   "id": "97",
   "metadata": {
    "id": "mgWbZWFhieDS"
   },
   "source": [
    "コード14.5.9"
   ]
  },
  {
   "cell_type": "code",
   "execution_count": null,
   "id": "98",
   "metadata": {
    "colab": {
     "base_uri": "https://localhost:8080/"
    },
    "executionInfo": {
     "elapsed": 2,
     "status": "ok",
     "timestamp": 1758070840463,
     "user": {
      "displayName": "T Haruyama",
      "userId": "09851044792665346893"
     },
     "user_tz": -540
    },
    "id": "998fafb3-c755-4281-99c7-18ae15ade3ca",
    "outputId": "6398e839-7bff-442a-9861-72c749c8c22a"
   },
   "outputs": [],
   "source": [
    "print(\n",
    "    arr.var(axis=0, ddof=1)\n",
    ")"
   ]
  },
  {
   "cell_type": "markdown",
   "id": "99",
   "metadata": {
    "id": "Smvj0H_ki_23"
   },
   "source": [
    "コード14.5.10"
   ]
  },
  {
   "cell_type": "code",
   "execution_count": null,
   "id": "100",
   "metadata": {
    "colab": {
     "base_uri": "https://localhost:8080/"
    },
    "executionInfo": {
     "elapsed": 4,
     "status": "ok",
     "timestamp": 1758070840468,
     "user": {
      "displayName": "T Haruyama",
      "userId": "09851044792665346893"
     },
     "user_tz": -540
    },
    "id": "119acb3f-5146-4f06-b7ce-94251775f2c3",
    "outputId": "e9274c89-a130-41a4-e35c-25b436714e09"
   },
   "outputs": [],
   "source": [
    "print(\n",
    "    arr.std(axis=0, ddof=1)\n",
    ")"
   ]
  },
  {
   "cell_type": "markdown",
   "id": "101",
   "metadata": {
    "id": "hTwkx7oUjI2S"
   },
   "source": [
    "コード14.5.11"
   ]
  },
  {
   "cell_type": "code",
   "execution_count": null,
   "id": "102",
   "metadata": {
    "colab": {
     "base_uri": "https://localhost:8080/",
     "height": 147
    },
    "executionInfo": {
     "elapsed": 8,
     "status": "ok",
     "timestamp": 1758070840497,
     "user": {
      "displayName": "T Haruyama",
      "userId": "09851044792665346893"
     },
     "user_tz": -540
    },
    "id": "4025156c-0653-4489-a973-45343b87215c",
    "outputId": "5bd4b23a-bc3c-4e4a-9132-4a91a80af1ec"
   },
   "outputs": [],
   "source": [
    "df.var()"
   ]
  },
  {
   "cell_type": "markdown",
   "id": "103",
   "metadata": {
    "id": "ILpCG703jPAD"
   },
   "source": [
    "コード14.5.12"
   ]
  },
  {
   "cell_type": "code",
   "execution_count": null,
   "id": "104",
   "metadata": {
    "colab": {
     "base_uri": "https://localhost:8080/",
     "height": 147
    },
    "executionInfo": {
     "elapsed": 10,
     "status": "ok",
     "timestamp": 1758070840505,
     "user": {
      "displayName": "T Haruyama",
      "userId": "09851044792665346893"
     },
     "user_tz": -540
    },
    "id": "8c704fd6-304d-409f-a833-e18344c29e6e",
    "outputId": "fc9fb3d4-d5ce-4f89-ea78-6480b3247428"
   },
   "outputs": [],
   "source": [
    "df.std()"
   ]
  },
  {
   "cell_type": "markdown",
   "id": "105",
   "metadata": {
    "id": "b2dafdea-3aa6-4f25-8b8f-15aa340e83f6"
   },
   "source": [
    "## シミュレーション：最小二乗法"
   ]
  },
  {
   "cell_type": "markdown",
   "id": "106",
   "metadata": {
    "id": "3n48styYjcG6"
   },
   "source": [
    "### 目的"
   ]
  },
  {
   "cell_type": "markdown",
   "id": "107",
   "metadata": {
    "id": "4dada4c4-e42b-45ce-9306-51308808aca8"
   },
   "source": [
    "### 不偏性が成立するための条件"
   ]
  },
  {
   "cell_type": "markdown",
   "id": "108",
   "metadata": {
    "id": "8d47d312-6a43-48c1-9847-5b58878b2de9"
   },
   "source": [
    "### シミュレーションの進め方"
   ]
  },
  {
   "cell_type": "markdown",
   "id": "109",
   "metadata": {
    "id": "uLMUYGv6jwfB"
   },
   "source": [
    "### シミュレーション"
   ]
  },
  {
   "cell_type": "markdown",
   "id": "110",
   "metadata": {
    "id": "zLmZi5RSj1ow"
   },
   "source": [
    "コード14.6.1"
   ]
  },
  {
   "cell_type": "code",
   "execution_count": null,
   "id": "111",
   "metadata": {
    "executionInfo": {
     "elapsed": 47,
     "status": "ok",
     "timestamp": 1758070840554,
     "user": {
      "displayName": "T Haruyama",
      "userId": "09851044792665346893"
     },
     "user_tz": -540
    },
    "id": "ae29d73b-b39c-43d9-abaf-a6c63602e0b7"
   },
   "outputs": [],
   "source": [
    "def create_samples(n=30, N=100_000, su=2, seed=None):\n",
    "    \"\"\"\n",
    "    引数：\n",
    "        n：標本の大きさ\n",
    "        N：標本数\n",
    "        s：誤差項の標準偏差\n",
    "        seed：シード値\n",
    "    戻り値：\n",
    "        x：説明変数（二次元配列）\n",
    "        y：被説明変数（二次元配列）\n",
    "    \"\"\"\n",
    "\n",
    "    # 真の値 -------------------------------\n",
    "    alpha, beta = 1, 2\n",
    "\n",
    "    # 標本の生成 ---------------------------\n",
    "    rng = np.random.default_rng(seed)\n",
    "\n",
    "    # 説明変数（各列が1つの標本）, shape = (n,N)\n",
    "    x = rng.uniform(5, 30, size=(n, N))\n",
    "\n",
    "    # 誤差項（各列が1つの標本に対応する）, shape = (n,N)\n",
    "    u = rng.normal(loc=0, scale=su, size=(n, N))\n",
    "\n",
    "    # 被説明変数（各列が1つの標本）, shape = (n,N)\n",
    "    y = alpha + beta * x + u\n",
    "\n",
    "    return x, y"
   ]
  },
  {
   "cell_type": "markdown",
   "id": "112",
   "metadata": {
    "id": "OXK0too8kGFm"
   },
   "source": [
    "コード14.6.2"
   ]
  },
  {
   "cell_type": "code",
   "execution_count": null,
   "id": "113",
   "metadata": {
    "executionInfo": {
     "elapsed": 2,
     "status": "ok",
     "timestamp": 1758070840554,
     "user": {
      "displayName": "T Haruyama",
      "userId": "09851044792665346893"
     },
     "user_tz": -540
    },
    "id": "9d972c2d-79eb-47f6-838f-8786433c7c4f"
   },
   "outputs": [],
   "source": [
    "def estimate_ab(x, y):\n",
    "    \"\"\"\n",
    "    引数：\n",
    "        x：説明変数（二次元配列）\n",
    "        y：被説明変数（二次元配列）\n",
    "    戻り値：\n",
    "        ahat：定数項の推定値（一次元配列）\n",
    "        bhat：スロープ係数の推定値（一次元配列）\n",
    "    \"\"\"\n",
    "\n",
    "    # 平均（各標本ごと：合計N個）--------------\n",
    "    x_mean = x.mean(axis=0)  # shape = (N,)\n",
    "    y_mean = y.mean(axis=0)  # shape = (N,)\n",
    "\n",
    "    # 偏差： shape = (n,N) ----------------\n",
    "    x_dev = x - x_mean\n",
    "    y_dev = y - y_mean\n",
    "\n",
    "    # 推定値（N個）, shape = (N,) ----------\n",
    "    bhat = (\n",
    "             ( y_dev * x_dev ).sum(axis=0) /\n",
    "             ( x_dev**2 ).sum(axis=0)\n",
    "           )\n",
    "    ahat = y_mean - bhat * x_mean\n",
    "\n",
    "    return ahat, bhat"
   ]
  },
  {
   "cell_type": "markdown",
   "id": "114",
   "metadata": {
    "id": "Fb-Tb1LHkYBF"
   },
   "source": [
    "コード14.6.3"
   ]
  },
  {
   "cell_type": "code",
   "execution_count": null,
   "id": "115",
   "metadata": {
    "executionInfo": {
     "elapsed": 211,
     "status": "ok",
     "timestamp": 1758070840764,
     "user": {
      "displayName": "T Haruyama",
      "userId": "09851044792665346893"
     },
     "user_tz": -540
    },
    "id": "ebe77b70-88f8-4be6-9485-0b33a54fb48c"
   },
   "outputs": [],
   "source": [
    "x_sample, y_sample = create_samples(seed=123)\n",
    "ahat, bhat = estimate_ab(x_sample, y_sample)"
   ]
  },
  {
   "cell_type": "markdown",
   "id": "116",
   "metadata": {
    "id": "syuNe1N3lSya"
   },
   "source": [
    "コード14.6.4"
   ]
  },
  {
   "cell_type": "code",
   "execution_count": null,
   "id": "117",
   "metadata": {
    "colab": {
     "base_uri": "https://localhost:8080/",
     "height": 480
    },
    "executionInfo": {
     "elapsed": 656,
     "status": "ok",
     "timestamp": 1758070841421,
     "user": {
      "displayName": "T Haruyama",
      "userId": "09851044792665346893"
     },
     "user_tz": -540
    },
    "id": "18501081-c703-4852-a052-1cdc4940aa32",
    "outputId": "505717ae-b817-447c-c03c-0c4ce5359015"
   },
   "outputs": [],
   "source": [
    "plt.hist(ahat, bins=50,\n",
    "         color=\"black\",\n",
    "         edgecolor=\"white\")\n",
    "\n",
    "plt.xlabel(\"ahat\", size=14)\n",
    "plt.ylabel(\"頻度\", size=14)\n",
    "plt.title(\"定数項の推定値\", size=17)\n",
    "plt.show()"
   ]
  },
  {
   "cell_type": "markdown",
   "id": "118",
   "metadata": {
    "id": "SI8_C_F_ldft"
   },
   "source": [
    "コード14.6.5"
   ]
  },
  {
   "cell_type": "code",
   "execution_count": null,
   "id": "119",
   "metadata": {
    "colab": {
     "base_uri": "https://localhost:8080/",
     "height": 480
    },
    "executionInfo": {
     "elapsed": 418,
     "status": "ok",
     "timestamp": 1758070841840,
     "user": {
      "displayName": "T Haruyama",
      "userId": "09851044792665346893"
     },
     "user_tz": -540
    },
    "id": "7ae66459-a93a-460c-9467-32387b44b461",
    "outputId": "20ca1dd2-46d9-4688-e317-73b4552dcbda"
   },
   "outputs": [],
   "source": [
    "plt.hist(bhat, bins=50,\n",
    "         color=\"black\",\n",
    "         edgecolor=\"white\")\n",
    "\n",
    "plt.xlabel(\"bhat\", size=14)\n",
    "plt.ylabel(\"頻度\", size=14)\n",
    "plt.title(\"スロープ係数の推定値\", size=17)\n",
    "plt.show()"
   ]
  },
  {
   "cell_type": "markdown",
   "id": "120",
   "metadata": {
    "id": "WF7gWWvil4i_"
   },
   "source": [
    "コード14.6.6"
   ]
  },
  {
   "cell_type": "code",
   "execution_count": null,
   "id": "121",
   "metadata": {
    "colab": {
     "base_uri": "https://localhost:8080/"
    },
    "executionInfo": {
     "elapsed": 3,
     "status": "ok",
     "timestamp": 1758070841855,
     "user": {
      "displayName": "T Haruyama",
      "userId": "09851044792665346893"
     },
     "user_tz": -540
    },
    "id": "4da2d176-1900-4ffc-b3c7-6154e7ba9303",
    "outputId": "763e0290-f5d5-4120-c711-1fe8b0c827c3"
   },
   "outputs": [],
   "source": [
    "print(f\"定数項: {ahat.mean()}\")\n",
    "print(f\"スロープ係数: {bhat.mean()}\")"
   ]
  }
 ],
 "metadata": {
  "colab": {
   "provenance": []
  },
  "kernelspec": {
   "display_name": "Python 3 (ipykernel)",
   "language": "python",
   "name": "python3"
  },
  "language_info": {
   "codemirror_mode": {
    "name": "ipython",
    "version": 3
   },
   "file_extension": ".py",
   "mimetype": "text/x-python",
   "name": "python",
   "nbconvert_exporter": "python",
   "pygments_lexer": "ipython3",
   "version": "3.13.3"
  }
 },
 "nbformat": 4,
 "nbformat_minor": 5
}
