{
 "cells": [
  {
   "cell_type": "markdown",
   "id": "0",
   "metadata": {
    "id": "6c1b3542-250c-49d1-afb5-7d6f8e866366"
   },
   "source": [
    "# 第12章　Pandas：経済データ分析II"
   ]
  },
  {
   "cell_type": "markdown",
   "id": "1",
   "metadata": {
    "id": "HAbDxQ1uNFSP"
   },
   "source": [
    "## はじめに"
   ]
  },
  {
   "cell_type": "code",
   "execution_count": null,
   "id": "2",
   "metadata": {
    "colab": {
     "base_uri": "https://localhost:8080/"
    },
    "executionInfo": {
     "elapsed": 11845,
     "status": "ok",
     "timestamp": 1758070732522,
     "user": {
      "displayName": "T Haruyama",
      "userId": "09851044792665346893"
     },
     "user_tz": -540
    },
    "id": "c11c5d36-8a06-4402-8ce3-2539c78055e1",
    "outputId": "5fafee06-c83c-425b-e02e-1b8a54fe36a3"
   },
   "outputs": [],
   "source": [
    "%pip install -q japanize-matplotlib py4macro\n",
    "import japanize_matplotlib\n",
    "import matplotlib.pyplot as plt\n",
    "import numpy as np\n",
    "import pandas as pd\n",
    "import py4macro"
   ]
  },
  {
   "cell_type": "markdown",
   "id": "3",
   "metadata": {
    "id": "fe3e3418-341c-417e-982d-f7298b0b16b9"
   },
   "source": [
    "## バブル景気前後の成長率の比較"
   ]
  },
  {
   "cell_type": "markdown",
   "id": "4",
   "metadata": {
    "id": "MFhIy8_xNM8R"
   },
   "source": [
    "コード12.2.1"
   ]
  },
  {
   "cell_type": "code",
   "execution_count": null,
   "id": "5",
   "metadata": {
    "colab": {
     "base_uri": "https://localhost:8080/"
    },
    "executionInfo": {
     "elapsed": 23,
     "status": "ok",
     "timestamp": 1758070732555,
     "user": {
      "displayName": "T Haruyama",
      "userId": "09851044792665346893"
     },
     "user_tz": -540
    },
    "id": "3a5f3b09-43d5-4477-b96f-3e865255119c",
    "outputId": "87a43ea0-3ff9-45ab-bd82-eadbda178a12"
   },
   "outputs": [],
   "source": [
    "jp = py4macro.data(\"jpn-yr\")\n",
    "jp.columns"
   ]
  },
  {
   "cell_type": "markdown",
   "id": "6",
   "metadata": {
    "id": "Vx_KbvtWNSYR"
   },
   "source": [
    "コード12.2.2"
   ]
  },
  {
   "cell_type": "code",
   "execution_count": null,
   "id": "7",
   "metadata": {
    "colab": {
     "base_uri": "https://localhost:8080/",
     "height": 157
    },
    "executionInfo": {
     "elapsed": 42,
     "status": "ok",
     "timestamp": 1758070732598,
     "user": {
      "displayName": "T Haruyama",
      "userId": "09851044792665346893"
     },
     "user_tz": -540
    },
    "id": "c30efdea-ad1a-4b21-bc25-3975a8dcdd05",
    "outputId": "5250bba2-72e3-497f-9bf7-270a3491910c"
   },
   "outputs": [],
   "source": [
    "jp.iloc[:3, [0]]"
   ]
  },
  {
   "cell_type": "markdown",
   "id": "8",
   "metadata": {
    "id": "TQd-cagGNa-g"
   },
   "source": [
    "コード12.2.3"
   ]
  },
  {
   "cell_type": "code",
   "execution_count": null,
   "id": "9",
   "metadata": {
    "colab": {
     "base_uri": "https://localhost:8080/",
     "height": 157
    },
    "executionInfo": {
     "elapsed": 170,
     "status": "ok",
     "timestamp": 1758070732769,
     "user": {
      "displayName": "T Haruyama",
      "userId": "09851044792665346893"
     },
     "user_tz": -540
    },
    "id": "3c27d795-38b4-4015-be31-a9ca212d98ce",
    "outputId": "e0f49905-2523-4395-a401-f68e15b435bb"
   },
   "outputs": [],
   "source": [
    "jp.loc[:\"1982\", [\"gdp\"]]"
   ]
  },
  {
   "cell_type": "markdown",
   "id": "10",
   "metadata": {
    "id": "0z3GAJzpVk4n"
   },
   "source": [
    "コード12.2.4"
   ]
  },
  {
   "cell_type": "code",
   "execution_count": null,
   "id": "11",
   "metadata": {
    "colab": {
     "base_uri": "https://localhost:8080/"
    },
    "executionInfo": {
     "elapsed": 43,
     "status": "ok",
     "timestamp": 1758070732814,
     "user": {
      "displayName": "T Haruyama",
      "userId": "09851044792665346893"
     },
     "user_tz": -540
    },
    "id": "061f0d28-8acd-4bb6-aaee-e407b585bf5d",
    "outputId": "74418ad0-016e-4397-eb54-42432a76d2f9"
   },
   "outputs": [],
   "source": [
    "jp[\"gdp_log\"] = np.log( jp[\"gdp\"] )\n",
    "jp[\"gdp_growth\"] = jp[\"gdp_log\"].diff()\n",
    "\n",
    "g_before = jp.loc[:\"1992\", \"gdp_growth\"].mean()\n",
    "g_after = jp.loc[\"1993\":, \"gdp_growth\"].mean()\n",
    "g_diff = g_before - g_after\n",
    "\n",
    "print(f\"バブル崩壊前：{g_before:.4f}\")\n",
    "print(f\"バブル崩壊後：{g_after:.4f}\")\n",
    "print(f\"バブル崩壊前後での差：{g_diff:.4f}\")"
   ]
  },
  {
   "cell_type": "markdown",
   "id": "12",
   "metadata": {
    "id": "6e3d967f-7fc4-4fcb-8521-46801822c24f",
    "jp-MarkdownHeadingCollapsed": true
   },
   "source": [
    "## 消費 vs 投資"
   ]
  },
  {
   "cell_type": "markdown",
   "id": "13",
   "metadata": {
    "id": "Ft-2x4sTWGtb"
   },
   "source": [
    "コード12.3.1"
   ]
  },
  {
   "cell_type": "code",
   "execution_count": null,
   "id": "14",
   "metadata": {
    "executionInfo": {
     "elapsed": 91,
     "status": "ok",
     "timestamp": 1758070732906,
     "user": {
      "displayName": "T Haruyama",
      "userId": "09851044792665346893"
     },
     "user_tz": -540
    },
    "id": "daf01e08-85c7-4ff1-8c19-d79c1d763e2e"
   },
   "outputs": [],
   "source": [
    "cols = [\"gdp\", \"consumption\", \"investment\"]\n",
    "\n",
    "for col in cols[1:]:\n",
    "    jp[col+\"_growth\"] = np.log( jp[col] ).diff()"
   ]
  },
  {
   "cell_type": "markdown",
   "id": "15",
   "metadata": {
    "id": "8YYpaid4WNEr"
   },
   "source": [
    "コード12.3.2"
   ]
  },
  {
   "cell_type": "code",
   "execution_count": null,
   "id": "16",
   "metadata": {
    "colab": {
     "base_uri": "https://localhost:8080/",
     "height": 429
    },
    "executionInfo": {
     "elapsed": 441,
     "status": "ok",
     "timestamp": 1758070733353,
     "user": {
      "displayName": "T Haruyama",
      "userId": "09851044792665346893"
     },
     "user_tz": -540
    },
    "id": "bb671380-1c59-4956-8a40-196323509e03",
    "outputId": "7dfab090-f9d8-4e3a-cc1e-0095c06f0211"
   },
   "outputs": [],
   "source": [
    "lstyles = [\"-\", \":\", \"--\"]\n",
    "labels = [\"GDP\", \"消費\", \"投資\"]\n",
    "\n",
    "for col, lstyle, label in zip( cols, lstyles, labels):\n",
    "    plt.plot(col+\"_growth\", data=jp, color=\"black\",\n",
    "             linewidth=1, linestyle=lstyle, label=label)\n",
    "\n",
    "plt.legend()\n",
    "plt.show()"
   ]
  },
  {
   "cell_type": "markdown",
   "id": "17",
   "metadata": {
    "id": "FMAXciIrWLqU"
   },
   "source": [
    "コード12.3.3"
   ]
  },
  {
   "cell_type": "code",
   "execution_count": null,
   "id": "18",
   "metadata": {
    "colab": {
     "base_uri": "https://localhost:8080/"
    },
    "executionInfo": {
     "elapsed": 9,
     "status": "ok",
     "timestamp": 1758070733362,
     "user": {
      "displayName": "T Haruyama",
      "userId": "09851044792665346893"
     },
     "user_tz": -540
    },
    "id": "78b35078-fc33-47bd-910d-0f558ad8ff15",
    "outputId": "8e21e943-333f-45a6-8b1b-6db2c11f198e"
   },
   "outputs": [],
   "source": [
    "print(\"成長率の標準偏差（GDP=1）\")\n",
    "print(\"-\"*24)\n",
    "\n",
    "for col, label in zip(cols[1:], labels[1:]):\n",
    "    gdp_std = jp[\"gdp_growth\"].std()\n",
    "    std = jp[col+\"_growth\"].std() / gdp_std\n",
    "    print(f\"{label}: {std:.4f}\")"
   ]
  },
  {
   "cell_type": "markdown",
   "id": "19",
   "metadata": {
    "id": "gMrFw5KPWk2i"
   },
   "source": [
    "コード12.3.4"
   ]
  },
  {
   "cell_type": "code",
   "execution_count": null,
   "id": "20",
   "metadata": {
    "colab": {
     "base_uri": "https://localhost:8080/",
     "height": 448
    },
    "executionInfo": {
     "elapsed": 111,
     "status": "ok",
     "timestamp": 1758070733474,
     "user": {
      "displayName": "T Haruyama",
      "userId": "09851044792665346893"
     },
     "user_tz": -540
    },
    "id": "f5fa5fa3-cf26-42c8-b6fb-05bf1a42c2c3",
    "outputId": "4eed0292-45ce-4493-ceab-74274ea60399"
   },
   "outputs": [],
   "source": [
    "plt.scatter(\"gdp_growth\", \"consumption_growth\", data=jp,\n",
    "            alpha=0.7, color=\"black\", label=\"消費\",\n",
    "            marker=\"x\")\n",
    "plt.scatter(\"gdp_growth\", \"investment_growth\", data=jp,\n",
    "            alpha=0.3, color=\"black\", label=\"投資\")\n",
    "plt.xlabel(\"GDPの成長率\")\n",
    "plt.ylabel(\"消費，投資の成長率\")\n",
    "plt.legend()\n",
    "plt.show()"
   ]
  },
  {
   "cell_type": "markdown",
   "id": "21",
   "metadata": {
    "id": "b4fa8bf3-55e9-494f-ae8f-61785be76a5d"
   },
   "source": [
    "コード12.3.5"
   ]
  },
  {
   "cell_type": "code",
   "execution_count": null,
   "id": "22",
   "metadata": {
    "colab": {
     "base_uri": "https://localhost:8080/",
     "height": 125
    },
    "executionInfo": {
     "elapsed": 32,
     "status": "ok",
     "timestamp": 1758070733507,
     "user": {
      "displayName": "T Haruyama",
      "userId": "09851044792665346893"
     },
     "user_tz": -540
    },
    "id": "681ee3fa-54b2-4d64-a4fd-c96a65aec96a",
    "outputId": "5615b5fd-7196-4375-f6e6-c19767a9c66e"
   },
   "outputs": [],
   "source": [
    "vcov = jp[[\"gdp_growth\", \"consumption_growth\"]].cov()\n",
    "vcov"
   ]
  },
  {
   "cell_type": "markdown",
   "id": "23",
   "metadata": {
    "id": "o3PdXYMEXhVx"
   },
   "source": [
    "コード12.3.6"
   ]
  },
  {
   "cell_type": "code",
   "execution_count": null,
   "id": "24",
   "metadata": {
    "colab": {
     "base_uri": "https://localhost:8080/"
    },
    "executionInfo": {
     "elapsed": 2,
     "status": "ok",
     "timestamp": 1758070733514,
     "user": {
      "displayName": "T Haruyama",
      "userId": "09851044792665346893"
     },
     "user_tz": -540
    },
    "id": "0b07c1d1-117f-49bb-8ad9-254d3ffb9558",
    "outputId": "e9b10d5e-4904-449f-9a69-f7d04ed4e2c4"
   },
   "outputs": [],
   "source": [
    "print(vcov.iloc[0, 1])"
   ]
  },
  {
   "cell_type": "markdown",
   "id": "25",
   "metadata": {
    "id": "-0e04oPGY9S8"
   },
   "source": [
    "コード12.3.7"
   ]
  },
  {
   "cell_type": "code",
   "execution_count": null,
   "id": "26",
   "metadata": {
    "colab": {
     "base_uri": "https://localhost:8080/"
    },
    "executionInfo": {
     "elapsed": 39,
     "status": "ok",
     "timestamp": 1758070733554,
     "user": {
      "displayName": "T Haruyama",
      "userId": "09851044792665346893"
     },
     "user_tz": -540
    },
    "id": "26b8c952-2800-4833-819d-5d4cc64ac8eb",
    "outputId": "4247fc54-7f23-4084-971b-876c3a3fe640"
   },
   "outputs": [],
   "source": [
    "print(\"成長率：GDPとの共分散\")\n",
    "print(\"-\"*21)\n",
    "\n",
    "for col, label in zip( cols[1:], labels[1:]):\n",
    "    cvar = jp[[col+\"_growth\", \"gdp_growth\"]].cov().iloc[0,1]\n",
    "    print(f\"{label}: {cvar:.6f}\")"
   ]
  },
  {
   "cell_type": "markdown",
   "id": "27",
   "metadata": {
    "id": "cXW_cf5MZnFx"
   },
   "source": [
    "コード12.3.8"
   ]
  },
  {
   "cell_type": "code",
   "execution_count": null,
   "id": "28",
   "metadata": {
    "colab": {
     "base_uri": "https://localhost:8080/",
     "height": 125
    },
    "executionInfo": {
     "elapsed": 40,
     "status": "ok",
     "timestamp": 1758070733595,
     "user": {
      "displayName": "T Haruyama",
      "userId": "09851044792665346893"
     },
     "user_tz": -540
    },
    "id": "4f5095bd-690c-4bfa-88cf-2b0a8dce776c",
    "outputId": "9689b2fe-6abf-4109-a911-845d3ac12540"
   },
   "outputs": [],
   "source": [
    "ccorr = jp[[\"gdp_growth\", \"consumption_growth\"]].corr()\n",
    "ccorr"
   ]
  },
  {
   "cell_type": "markdown",
   "id": "29",
   "metadata": {
    "id": "UfUhFtzdZwjK"
   },
   "source": [
    "コード12.3.9"
   ]
  },
  {
   "cell_type": "code",
   "execution_count": null,
   "id": "30",
   "metadata": {
    "colab": {
     "base_uri": "https://localhost:8080/"
    },
    "executionInfo": {
     "elapsed": 3,
     "status": "ok",
     "timestamp": 1758070733599,
     "user": {
      "displayName": "T Haruyama",
      "userId": "09851044792665346893"
     },
     "user_tz": -540
    },
    "id": "c04e3f17-a445-4c1b-8d0b-e1cf19702bd2",
    "outputId": "58f3e9be-60a1-41a4-df7d-44c6af3d4cef"
   },
   "outputs": [],
   "source": [
    "print(\"成長率：GDPとの相関係数\")\n",
    "print(\"-\"*20)\n",
    "\n",
    "for col, label in zip( cols[1:], labels[1:]):\n",
    "    cc = jp[[col+\"_growth\", \"gdp_growth\"]].corr().iloc[0,1]\n",
    "    print(f\"{label}: {cc:.6f}\")"
   ]
  },
  {
   "cell_type": "markdown",
   "id": "31",
   "metadata": {
    "id": "f209206d-9428-49ff-8cb4-d3c5102bfb0d"
   },
   "source": [
    "## 1850年以降の経済成長率"
   ]
  },
  {
   "cell_type": "markdown",
   "id": "32",
   "metadata": {
    "id": "JrK6wD2EdgqA"
   },
   "source": [
    "コード12.4.1"
   ]
  },
  {
   "cell_type": "code",
   "execution_count": null,
   "id": "33",
   "metadata": {
    "colab": {
     "base_uri": "https://localhost:8080/"
    },
    "executionInfo": {
     "elapsed": 42,
     "status": "ok",
     "timestamp": 1758070733648,
     "user": {
      "displayName": "T Haruyama",
      "userId": "09851044792665346893"
     },
     "user_tz": -540
    },
    "id": "536942f5-cd29-4bc0-9856-cb982d98c435",
    "outputId": "632d6ce9-d0f1-4959-f976-cd49e92e8405"
   },
   "outputs": [],
   "source": [
    "mad = py4macro.data(\"mad\")\n",
    "mad.columns"
   ]
  },
  {
   "cell_type": "markdown",
   "id": "34",
   "metadata": {
    "id": "tNxJ8HDcdpEL"
   },
   "source": [
    "コード12.4.2"
   ]
  },
  {
   "cell_type": "code",
   "execution_count": null,
   "id": "35",
   "metadata": {
    "executionInfo": {
     "elapsed": 52,
     "status": "ok",
     "timestamp": 1758070733700,
     "user": {
      "displayName": "T Haruyama",
      "userId": "09851044792665346893"
     },
     "user_tz": -540
    },
    "id": "f964e53c-8ff9-46ab-a313-c631e74d75f4"
   },
   "outputs": [],
   "source": [
    "countries = [\"Japan\", \"Germany\", \"United States\", \"China\"]\n",
    "kuni4 = {}\n",
    "\n",
    "for country in countries:\n",
    "    cond1 = ( mad[\"country\"]==country )\n",
    "    cond2 = ( mad[\"year\"] >= 1850 )\n",
    "    cond = cond1 & cond2\n",
    "    tmp = mad.loc[cond, [\"year\", \"gdppc\"]]\n",
    "    tmp[\"gdppc_log\"] = np.log( tmp[\"gdppc\"] )\n",
    "    kuni4[country] = tmp"
   ]
  },
  {
   "cell_type": "markdown",
   "id": "36",
   "metadata": {
    "id": "62e0b6d4-1a96-4d27-ae5e-31a11a902bea"
   },
   "source": [
    "`tmp`を使わずに，次のコードでも同じ結果となります。"
   ]
  },
  {
   "cell_type": "code",
   "execution_count": null,
   "id": "37",
   "metadata": {
    "executionInfo": {
     "elapsed": 42,
     "status": "ok",
     "timestamp": 1758070733743,
     "user": {
      "displayName": "T Haruyama",
      "userId": "09851044792665346893"
     },
     "user_tz": -540
    },
    "id": "03c64e82-ba66-4f2e-9cd2-a2d35b2ba429"
   },
   "outputs": [],
   "source": [
    "countries = [\"Japan\", \"Germany\", \"United States\", \"China\"]\n",
    "kuni4 = {}\n",
    "\n",
    "for country in countries:\n",
    "    cond1 = ( mad[\"country\"]==country )\n",
    "    cond2 = ( mad[\"year\"] >= 1850 )\n",
    "    cond = cond1 & cond2\n",
    "    kuni4[country] = mad.loc[cond, [\"year\", \"gdppc\"]]\n",
    "    kuni4[country][\"gdppc_log\"] = np.log( kuni4[country][\"gdppc\"] )"
   ]
  },
  {
   "cell_type": "markdown",
   "id": "38",
   "metadata": {
    "id": "8emOv-_sd2hr"
   },
   "source": [
    "コード12.4.3"
   ]
  },
  {
   "cell_type": "code",
   "execution_count": null,
   "id": "39",
   "metadata": {
    "colab": {
     "base_uri": "https://localhost:8080/",
     "height": 81
    },
    "executionInfo": {
     "elapsed": 59,
     "status": "ok",
     "timestamp": 1758070733803,
     "user": {
      "displayName": "T Haruyama",
      "userId": "09851044792665346893"
     },
     "user_tz": -540
    },
    "id": "JZnGdtgHd56U",
    "outputId": "797aecb1-1c74-4ede-9c7d-623f37bebff2"
   },
   "outputs": [],
   "source": [
    "kuni4[\"Japan\"].head(1)"
   ]
  },
  {
   "cell_type": "markdown",
   "id": "40",
   "metadata": {
    "id": "5KYBt0E4eDjN"
   },
   "source": [
    "コード12.4.4"
   ]
  },
  {
   "cell_type": "code",
   "execution_count": null,
   "id": "41",
   "metadata": {
    "colab": {
     "base_uri": "https://localhost:8080/",
     "height": 451
    },
    "executionInfo": {
     "elapsed": 390,
     "status": "ok",
     "timestamp": 1758070734194,
     "user": {
      "displayName": "T Haruyama",
      "userId": "09851044792665346893"
     },
     "user_tz": -540
    },
    "id": "e81cac51-f74f-4105-9ea9-390d094963aa",
    "outputId": "beeb88fb-7600-40ae-ce22-b666d0e5ba9b"
   },
   "outputs": [],
   "source": [
    "labels = [\"日本\", \"ドイツ\", \"米国\", \"中国\"]\n",
    "lstyles = [\"-\", \"--\", \"-.\", \":\"]\n",
    "\n",
    "for country, label, lstyle in zip( countries, labels, lstyles ):\n",
    "    plt.plot(\"year\", \"gdppc_log\", data=kuni4[country],\n",
    "             color=\"black\", label=label, linestyle=lstyle)\n",
    "\n",
    "plt.legend()\n",
    "plt.title(\"一人当たりGDP（対数）\", size=13)\n",
    "plt.show()"
   ]
  },
  {
   "cell_type": "markdown",
   "id": "42",
   "metadata": {
    "id": "f0cR5Nr2eiqy"
   },
   "source": [
    "コード12.4.5"
   ]
  },
  {
   "cell_type": "code",
   "execution_count": null,
   "id": "43",
   "metadata": {
    "colab": {
     "base_uri": "https://localhost:8080/"
    },
    "executionInfo": {
     "elapsed": 2,
     "status": "ok",
     "timestamp": 1758070734197,
     "user": {
      "displayName": "T Haruyama",
      "userId": "09851044792665346893"
     },
     "user_tz": -540
    },
    "id": "cef275c3-9707-4409-911a-4915c0496152",
    "outputId": "88f4dd67-b679-4233-c6b3-81d47d994ed7"
   },
   "outputs": [],
   "source": [
    "dfjp = kuni4[\"Japan\"]\n",
    "dfjp[\"growth\"] = dfjp[\"gdppc\"].pct_change()\n",
    "\n",
    "cond45 = ( dfjp[\"year\"]==1945 )\n",
    "cond46 = ( dfjp[\"year\"]==1946 )\n",
    "\n",
    "growth45 = dfjp.loc[cond45,\"growth\"].iloc[0]\n",
    "growth46 = dfjp.loc[cond46,\"growth\"].iloc[0]\n",
    "\n",
    "print(\"日本：一人当たりGDP\")\n",
    "print(\"-\"*30)\n",
    "print(f\"1944 → 1945年の変化率： {growth45:.2%}\" )\n",
    "print(f\"1945 → 1946年の変化率： {growth46:.2%}\" )"
   ]
  },
  {
   "cell_type": "markdown",
   "id": "44",
   "metadata": {
    "id": "GazCD5sWepOp"
   },
   "source": [
    "コード12.4.6"
   ]
  },
  {
   "cell_type": "code",
   "execution_count": null,
   "id": "45",
   "metadata": {
    "colab": {
     "base_uri": "https://localhost:8080/"
    },
    "executionInfo": {
     "elapsed": 7,
     "status": "ok",
     "timestamp": 1758070734205,
     "user": {
      "displayName": "T Haruyama",
      "userId": "09851044792665346893"
     },
     "user_tz": -540
    },
    "id": "8fc0bfe7-1bfd-4fdc-b4f7-bdd23e39d9ec",
    "outputId": "6d68229d-95cb-4611-ae2f-0ce27560b519"
   },
   "outputs": [],
   "source": [
    "print(\"日本の一人当たりGDP成長率\")\n",
    "print(\"-\"*21)\n",
    "\n",
    "for i in range(7):\n",
    "    start = 1950 + 10 * i\n",
    "    end = start + 10\n",
    "    cond = ( ( start <= dfjp[\"year\"] ) &\n",
    "             ( dfjp[\"year\"] <= end   ) )\n",
    "    g = dfjp.loc[cond,\"gdppc_log\"].diff().mean()\n",
    "    print(f\"{start}年代：{g:.2%}\")"
   ]
  },
  {
   "cell_type": "markdown",
   "id": "46",
   "metadata": {
    "id": "c4d31e85-ee62-4247-ae4e-bc80db5c72a4"
   },
   "source": [
    "## 超長期の経済成長：日本と英国"
   ]
  },
  {
   "cell_type": "markdown",
   "id": "47",
   "metadata": {
    "id": "CYxT2VAufAyc"
   },
   "source": [
    "コード12.5.1"
   ]
  },
  {
   "cell_type": "code",
   "execution_count": null,
   "id": "48",
   "metadata": {
    "colab": {
     "base_uri": "https://localhost:8080/",
     "height": 206
    },
    "executionInfo": {
     "elapsed": 64,
     "status": "ok",
     "timestamp": 1758070734270,
     "user": {
      "displayName": "T Haruyama",
      "userId": "09851044792665346893"
     },
     "user_tz": -540
    },
    "id": "7512f5fa-41ac-4439-96b6-3e4a013de880",
    "outputId": "5d62827d-823f-4d08-9bf3-96f42791d4c6"
   },
   "outputs": [],
   "source": [
    "countries = [\"Japan\", \"United Kingdom\"]\n",
    "cols = [\"year\", \"gdppc\"]\n",
    "\n",
    "kuni2 = {}\n",
    "\n",
    "for country in countries:\n",
    "    cond = ( mad[\"country\"]==country )\n",
    "    kuni2[country] = mad.loc[cond, cols]\n",
    "\n",
    "kuni2[\"Japan\"].head()"
   ]
  },
  {
   "cell_type": "markdown",
   "id": "49",
   "metadata": {
    "id": "8bec58f6-7ff0-43d3-8e87-d94c89735811"
   },
   "source": [
    "コード12.5.2"
   ]
  },
  {
   "cell_type": "code",
   "execution_count": null,
   "id": "50",
   "metadata": {
    "colab": {
     "base_uri": "https://localhost:8080/",
     "height": 451
    },
    "executionInfo": {
     "elapsed": 349,
     "status": "ok",
     "timestamp": 1758070734620,
     "user": {
      "displayName": "T Haruyama",
      "userId": "09851044792665346893"
     },
     "user_tz": -540
    },
    "id": "b12810f2-cb29-4e5e-940d-fd8f0eb54394",
    "outputId": "34d8bd01-f9bf-454b-fa1e-ee8e09bde529"
   },
   "outputs": [],
   "source": [
    "labels = [\"日本\", \"英国\"]\n",
    "lstyles = [\"-\", \":\"]\n",
    "\n",
    "for country, label, lstyle in zip(countries, labels, lstyles ):\n",
    "    plt.plot(\"year\", \"gdppc\", data=kuni2[country],\n",
    "             color=\"black\", label=label, linestyle=lstyle)\n",
    "plt.title(\"一人当たりGDP\", size=13)\n",
    "plt.legend()\n",
    "plt.show()"
   ]
  },
  {
   "cell_type": "markdown",
   "id": "51",
   "metadata": {
    "id": "ba36b2a7-5582-4d88-9a2c-98963e2cefc0"
   },
   "source": [
    "## 世界の所得格差"
   ]
  },
  {
   "cell_type": "markdown",
   "id": "52",
   "metadata": {
    "id": "XYoVOSgHgwuG"
   },
   "source": [
    "コード12.6.1"
   ]
  },
  {
   "cell_type": "code",
   "execution_count": null,
   "id": "53",
   "metadata": {
    "executionInfo": {
     "elapsed": 1732,
     "status": "ok",
     "timestamp": 1758070736353,
     "user": {
      "displayName": "T Haruyama",
      "userId": "09851044792665346893"
     },
     "user_tz": -540
    },
    "id": "5506564a-e8eb-4978-bbc0-56f72da26f1b"
   },
   "outputs": [],
   "source": [
    "pwt = py4macro.data(\"pwt\")"
   ]
  },
  {
   "cell_type": "markdown",
   "id": "54",
   "metadata": {
    "id": "8F6Arxvxg1pX"
   },
   "source": [
    "コード12.6.2"
   ]
  },
  {
   "cell_type": "code",
   "execution_count": null,
   "id": "55",
   "metadata": {
    "colab": {
     "base_uri": "https://localhost:8080/",
     "height": 206
    },
    "executionInfo": {
     "elapsed": 2,
     "status": "ok",
     "timestamp": 1758070736357,
     "user": {
      "displayName": "T Haruyama",
      "userId": "09851044792665346893"
     },
     "user_tz": -540
    },
    "id": "3eb75567-8fcc-4153-930b-545f5d9521cf",
    "outputId": "ee86828b-7ca7-428f-df91-d577e41d31e8"
   },
   "outputs": [],
   "source": [
    "cols = [\"country\", \"rgdpe\", \"pop\"]\n",
    "cond = ( pwt[\"year\"]==2019 )\n",
    "pwt = pwt.loc[cond, cols]\n",
    "\n",
    "pwt[\"gdppc\"] = pwt[\"rgdpe\"] / pwt[\"pop\"]\n",
    "pwt.head()"
   ]
  },
  {
   "cell_type": "markdown",
   "id": "56",
   "metadata": {
    "id": "ef4b9869-7731-4840-b409-a7716f8f20a7"
   },
   "source": [
    "コード12.6.3"
   ]
  },
  {
   "cell_type": "code",
   "execution_count": null,
   "id": "57",
   "metadata": {
    "colab": {
     "base_uri": "https://localhost:8080/",
     "height": 451
    },
    "executionInfo": {
     "elapsed": 2,
     "status": "ok",
     "timestamp": 1758070736360,
     "user": {
      "displayName": "T Haruyama",
      "userId": "09851044792665346893"
     },
     "user_tz": -540
    },
    "id": "75381441-9306-4b0d-881a-c945f6cff101",
    "outputId": "bbc60c30-ea0f-4811-e8d7-25b69af04651"
   },
   "outputs": [],
   "source": [
    "cond = ( pwt[\"country\"]==\"Japan\" )\n",
    "gdppc_jp = pwt.loc[cond, \"gdppc\"].iloc[0]\n",
    "pwt[\"gdppc_jp\"] = pwt[\"gdppc\"] / gdppc_jp\n",
    "\n",
    "num = pwt[\"gdppc_jp\"].nunique()\n",
    "\n",
    "plt.hist(\"gdppc_jp\", data=pwt, color=\"black\",\n",
    "         bins=17, edgecolor=\"white\")\n",
    "plt.title(f\"一人当たり実質GDPの分布（{num}ヶ国，2019年）\",\n",
    "          size=13)\n",
    "plt.ylabel(\"国の数\", size=11)\n",
    "plt.show()"
   ]
  },
  {
   "cell_type": "markdown",
   "id": "58",
   "metadata": {
    "id": "f37380f0-9783-45d4-a358-36dca4b27735"
   },
   "source": [
    "コード12.6.4"
   ]
  },
  {
   "cell_type": "code",
   "execution_count": null,
   "id": "59",
   "metadata": {
    "colab": {
     "base_uri": "https://localhost:8080/"
    },
    "executionInfo": {
     "elapsed": 3,
     "status": "ok",
     "timestamp": 1758070736364,
     "user": {
      "displayName": "T Haruyama",
      "userId": "09851044792665346893"
     },
     "user_tz": -540
    },
    "id": "tXA50Hg9iYhe",
    "outputId": "f18f54bc-0500-42e4-e3fe-a17867afdbf3"
   },
   "outputs": [],
   "source": [
    "n = ( pwt[\"gdppc_jp\"] >= 1.0 ).sum()\n",
    "print(f\"日本は{n}番目です。\")"
   ]
  },
  {
   "cell_type": "markdown",
   "id": "60",
   "metadata": {
    "id": "w8oSRtgQiUcS"
   },
   "source": [
    "コード12.6.5"
   ]
  },
  {
   "cell_type": "code",
   "execution_count": null,
   "id": "61",
   "metadata": {
    "colab": {
     "base_uri": "https://localhost:8080/"
    },
    "executionInfo": {
     "elapsed": 7,
     "status": "ok",
     "timestamp": 1758070736372,
     "user": {
      "displayName": "T Haruyama",
      "userId": "09851044792665346893"
     },
     "user_tz": -540
    },
    "id": "494d3cb0-280d-49ea-944c-5947485c2eca",
    "outputId": "84998b49-b519-4dfe-fc78-c56392981cee"
   },
   "outputs": [],
   "source": [
    "n = ( pwt[\"gdppc_jp\"] <= 0.1 ).sum()\n",
    "print(f\"0.1以下：{n}ヶ国\")\n",
    "\n",
    "n = ( pwt[\"gdppc_jp\"] <= 0.05 ).sum()\n",
    "print(f\"0.05以下：{n}ヶ国\")"
   ]
  }
 ],
 "metadata": {
  "colab": {
   "provenance": []
  },
  "kernelspec": {
   "display_name": "Python 3 (ipykernel)",
   "language": "python",
   "name": "python3"
  },
  "language_info": {
   "codemirror_mode": {
    "name": "ipython",
    "version": 3
   },
   "file_extension": ".py",
   "mimetype": "text/x-python",
   "name": "python",
   "nbconvert_exporter": "python",
   "pygments_lexer": "ipython3",
   "version": "3.13.7"
  }
 },
 "nbformat": 4,
 "nbformat_minor": 5
}
