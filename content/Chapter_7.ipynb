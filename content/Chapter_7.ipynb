{
 "cells": [
  {
   "cell_type": "markdown",
   "id": "0",
   "metadata": {
    "id": "cda8f6bb-1673-4218-a538-e47cdf09a782"
   },
   "source": [
    "# 第7章: ライブラリとエラーの基本"
   ]
  },
  {
   "cell_type": "markdown",
   "id": "1",
   "metadata": {
    "id": "4b752a23-e2f6-4187-9c94-47d6b404fc9d"
   },
   "source": [
    "## ライブラリ"
   ]
  },
  {
   "cell_type": "markdown",
   "id": "2",
   "metadata": {
    "id": "CPthmkjlKZM8"
   },
   "source": [
    "モジュール・パッケージ・ライブラリとは"
   ]
  },
  {
   "cell_type": "markdown",
   "id": "3",
   "metadata": {
    "id": "9455e682-be8a-4142-b74f-19680b411fb8",
    "jp-MarkdownHeadingCollapsed": true
   },
   "source": [
    "### NumPyライブラリ"
   ]
  },
  {
   "cell_type": "markdown",
   "id": "4",
   "metadata": {
    "id": "9sCINVxqKgMJ"
   },
   "source": [
    "コード7.1.1"
   ]
  },
  {
   "cell_type": "code",
   "execution_count": null,
   "id": "5",
   "metadata": {
    "colab": {
     "base_uri": "https://localhost:8080/"
    },
    "executionInfo": {
     "elapsed": 19,
     "status": "ok",
     "timestamp": 1758070231490,
     "user": {
      "displayName": "T Haruyama",
      "userId": "09851044792665346893"
     },
     "user_tz": -540
    },
    "id": "14a9244b-0af0-4110-bcaf-1011f2a74766",
    "outputId": "c8a2d858-e29d-421e-e3ea-fbbbf3c2dddf"
   },
   "outputs": [],
   "source": [
    "import numpy\n",
    "print( numpy.log(10) )"
   ]
  },
  {
   "cell_type": "markdown",
   "id": "6",
   "metadata": {
    "id": "OjyJ4WzKNUZm"
   },
   "source": [
    "コード7.1.2"
   ]
  },
  {
   "cell_type": "code",
   "execution_count": null,
   "id": "7",
   "metadata": {
    "colab": {
     "base_uri": "https://localhost:8080/"
    },
    "executionInfo": {
     "elapsed": 9,
     "status": "ok",
     "timestamp": 1758070231501,
     "user": {
      "displayName": "T Haruyama",
      "userId": "09851044792665346893"
     },
     "user_tz": -540
    },
    "id": "889271cf-83dd-4505-a523-b6ce141601a7",
    "outputId": "d9aa4400-1715-47e2-868e-2ea1e404c591"
   },
   "outputs": [],
   "source": [
    "import numpy as np\n",
    "print( np.log(10) )"
   ]
  },
  {
   "cell_type": "markdown",
   "id": "8",
   "metadata": {
    "id": "HmjpiFhINW6w"
   },
   "source": [
    "コード7.1.3"
   ]
  },
  {
   "cell_type": "code",
   "execution_count": null,
   "id": "9",
   "metadata": {
    "colab": {
     "base_uri": "https://localhost:8080/"
    },
    "executionInfo": {
     "elapsed": 18,
     "status": "ok",
     "timestamp": 1758070231545,
     "user": {
      "displayName": "T Haruyama",
      "userId": "09851044792665346893"
     },
     "user_tz": -540
    },
    "id": "6bf4e26c-193b-434a-944f-8dfecdf87930",
    "outputId": "b514fb21-82a8-4aef-a0ae-8176b257d88c"
   },
   "outputs": [],
   "source": [
    "from numpy import log\n",
    "print( log(10) )"
   ]
  },
  {
   "cell_type": "markdown",
   "id": "10",
   "metadata": {
    "id": "mzKv5T3CN1Lx"
   },
   "source": [
    "コード7.1.4"
   ]
  },
  {
   "cell_type": "code",
   "execution_count": null,
   "id": "11",
   "metadata": {
    "executionInfo": {
     "elapsed": 12,
     "status": "ok",
     "timestamp": 1758070231546,
     "user": {
      "displayName": "T Haruyama",
      "userId": "09851044792665346893"
     },
     "user_tz": -540
    },
    "id": "GNm5CkRLNje0"
   },
   "outputs": [],
   "source": [
    "# np.linalg.solve()"
   ]
  },
  {
   "cell_type": "markdown",
   "id": "12",
   "metadata": {
    "id": "dLMgESTSN559"
   },
   "source": [
    "コード7.1.5"
   ]
  },
  {
   "cell_type": "code",
   "execution_count": null,
   "id": "13",
   "metadata": {
    "executionInfo": {
     "elapsed": 11,
     "status": "ok",
     "timestamp": 1758070231546,
     "user": {
      "displayName": "T Haruyama",
      "userId": "09851044792665346893"
     },
     "user_tz": -540
    },
    "id": "DC_e75ZZNo35"
   },
   "outputs": [],
   "source": [
    "from numpy import linalg as AL\n",
    "# AL.solve()"
   ]
  },
  {
   "cell_type": "markdown",
   "id": "14",
   "metadata": {
    "id": "_-YPHL92NnHa"
   },
   "source": [
    "表7.1"
   ]
  },
  {
   "cell_type": "code",
   "execution_count": null,
   "id": "15",
   "metadata": {
    "colab": {
     "base_uri": "https://localhost:8080/"
    },
    "executionInfo": {
     "elapsed": 10,
     "status": "ok",
     "timestamp": 1758070231546,
     "user": {
      "displayName": "T Haruyama",
      "userId": "09851044792665346893"
     },
     "user_tz": -540
    },
    "id": "5579edb8-bd73-42be-977f-92ff2e6e942d",
    "outputId": "9bc52d68-cc3f-4645-9732-94778e5a8d82"
   },
   "outputs": [],
   "source": [
    "print( np.log10(10) )"
   ]
  },
  {
   "cell_type": "markdown",
   "id": "16",
   "metadata": {
    "id": "Sr0F5-XcOIhu"
   },
   "source": [
    "表7.1"
   ]
  },
  {
   "cell_type": "code",
   "execution_count": null,
   "id": "17",
   "metadata": {
    "colab": {
     "base_uri": "https://localhost:8080/"
    },
    "executionInfo": {
     "elapsed": 6,
     "status": "ok",
     "timestamp": 1758070231547,
     "user": {
      "displayName": "T Haruyama",
      "userId": "09851044792665346893"
     },
     "user_tz": -540
    },
    "id": "dmxSiR28OIhu",
    "outputId": "9c147407-f258-4553-c241-4bd58ef00f63"
   },
   "outputs": [],
   "source": [
    "print( np.log(10) )"
   ]
  },
  {
   "cell_type": "markdown",
   "id": "18",
   "metadata": {
    "id": "hpAevb2mOE3y"
   },
   "source": [
    "表7.1"
   ]
  },
  {
   "cell_type": "code",
   "execution_count": null,
   "id": "19",
   "metadata": {
    "colab": {
     "base_uri": "https://localhost:8080/"
    },
    "executionInfo": {
     "elapsed": 59,
     "status": "ok",
     "timestamp": 1758070231603,
     "user": {
      "displayName": "T Haruyama",
      "userId": "09851044792665346893"
     },
     "user_tz": -540
    },
    "id": "SjkAp_XROE30",
    "outputId": "388c108b-09d1-4236-9267-1c943d8e2ea4"
   },
   "outputs": [],
   "source": [
    "print( np.exp(1) )"
   ]
  },
  {
   "cell_type": "markdown",
   "id": "20",
   "metadata": {
    "id": "aJTTRP2_OOcy"
   },
   "source": [
    "表7.1"
   ]
  },
  {
   "cell_type": "code",
   "execution_count": null,
   "id": "21",
   "metadata": {
    "colab": {
     "base_uri": "https://localhost:8080/"
    },
    "executionInfo": {
     "elapsed": 17,
     "status": "ok",
     "timestamp": 1758070231604,
     "user": {
      "displayName": "T Haruyama",
      "userId": "09851044792665346893"
     },
     "user_tz": -540
    },
    "id": "737b88ec-29d0-4768-a430-f5e076f44965",
    "outputId": "d4e3c63f-2143-467e-bda1-91fbcf194520"
   },
   "outputs": [],
   "source": [
    "print( np.sqrt(4) )"
   ]
  },
  {
   "cell_type": "markdown",
   "id": "22",
   "metadata": {
    "id": "6a84a3d8-1eb0-431c-aff6-aa2bd0503d03"
   },
   "source": [
    "### randomモジュール"
   ]
  },
  {
   "cell_type": "markdown",
   "id": "23",
   "metadata": {
    "id": "ZuebuYHbOdCD"
   },
   "source": [
    "コード7.1.6"
   ]
  },
  {
   "cell_type": "code",
   "execution_count": null,
   "id": "24",
   "metadata": {
    "executionInfo": {
     "elapsed": 11,
     "status": "ok",
     "timestamp": 1758070231604,
     "user": {
      "displayName": "T Haruyama",
      "userId": "09851044792665346893"
     },
     "user_tz": -540
    },
    "id": "816e69a0-66a0-4d93-b9b1-364ac2d4e002"
   },
   "outputs": [],
   "source": [
    "import random"
   ]
  },
  {
   "cell_type": "markdown",
   "id": "25",
   "metadata": {
    "id": "lGOASTzJOgQJ"
   },
   "source": [
    "コード7.1.7"
   ]
  },
  {
   "cell_type": "code",
   "execution_count": null,
   "id": "26",
   "metadata": {
    "colab": {
     "base_uri": "https://localhost:8080/"
    },
    "executionInfo": {
     "elapsed": 13,
     "status": "ok",
     "timestamp": 1758070231606,
     "user": {
      "displayName": "T Haruyama",
      "userId": "09851044792665346893"
     },
     "user_tz": -540
    },
    "id": "ba5521c1-fa8d-49a4-a548-7a4fb3f65f6a",
    "outputId": "6dffd4d1-a015-48cb-86bc-fe3fff218c4c"
   },
   "outputs": [],
   "source": [
    "random.randint(1, 6)"
   ]
  },
  {
   "cell_type": "markdown",
   "id": "27",
   "metadata": {
    "id": "_oSHHP86Oh7R"
   },
   "source": [
    "コード7.1.8"
   ]
  },
  {
   "cell_type": "code",
   "execution_count": null,
   "id": "28",
   "metadata": {
    "executionInfo": {
     "elapsed": 7,
     "status": "ok",
     "timestamp": 1758070231606,
     "user": {
      "displayName": "T Haruyama",
      "userId": "09851044792665346893"
     },
     "user_tz": -540
    },
    "id": "d8fd24bd-f1b2-4822-936e-c75691414320"
   },
   "outputs": [],
   "source": [
    "lst = []\n",
    "\n",
    "for _ in range(5):\n",
    "    val = random.randint(1,6)\n",
    "    lst.append(val)"
   ]
  },
  {
   "cell_type": "markdown",
   "id": "29",
   "metadata": {
    "id": "qv-8zDxDOrlK"
   },
   "source": [
    "コード7.1.9"
   ]
  },
  {
   "cell_type": "code",
   "execution_count": null,
   "id": "30",
   "metadata": {
    "colab": {
     "base_uri": "https://localhost:8080/"
    },
    "executionInfo": {
     "elapsed": 7,
     "status": "ok",
     "timestamp": 1758070231607,
     "user": {
      "displayName": "T Haruyama",
      "userId": "09851044792665346893"
     },
     "user_tz": -540
    },
    "id": "0e73c284-1040-4c28-b5bd-1e3eccd2d618",
    "outputId": "a8ba4bea-ec76-46f0-86d2-a30b76080718"
   },
   "outputs": [],
   "source": [
    "[random.randint(1,6) for _ in range(5)]"
   ]
  },
  {
   "cell_type": "markdown",
   "id": "31",
   "metadata": {
    "id": "V8j0yhpAO13N"
   },
   "source": [
    "コード7.1.10"
   ]
  },
  {
   "cell_type": "code",
   "execution_count": null,
   "id": "32",
   "metadata": {
    "colab": {
     "base_uri": "https://localhost:8080/"
    },
    "executionInfo": {
     "elapsed": 2,
     "status": "ok",
     "timestamp": 1758070231609,
     "user": {
      "displayName": "T Haruyama",
      "userId": "09851044792665346893"
     },
     "user_tz": -540
    },
    "id": "ef99e253-70d2-41b0-adf6-ef4c5290bbad",
    "outputId": "0b9fe667-b38f-4a4e-e53f-c131c234ad6e"
   },
   "outputs": [],
   "source": [
    "random.gauss()"
   ]
  },
  {
   "cell_type": "markdown",
   "id": "33",
   "metadata": {
    "id": "vJZBvUxIO37-"
   },
   "source": [
    "コード7.1.11"
   ]
  },
  {
   "cell_type": "code",
   "execution_count": null,
   "id": "34",
   "metadata": {
    "colab": {
     "base_uri": "https://localhost:8080/"
    },
    "executionInfo": {
     "elapsed": 5,
     "status": "ok",
     "timestamp": 1758070231615,
     "user": {
      "displayName": "T Haruyama",
      "userId": "09851044792665346893"
     },
     "user_tz": -540
    },
    "id": "bf7a8467-35ad-4484-a253-e1f61ac6c6d2",
    "outputId": "88b63913-126c-418c-8818-a189d03b6fb6"
   },
   "outputs": [],
   "source": [
    "[random.gauss(0,10) for _ in range(5)]"
   ]
  },
  {
   "cell_type": "markdown",
   "id": "35",
   "metadata": {
    "id": "DfpWZ1neO76H"
   },
   "source": [
    "コード7.1.12"
   ]
  },
  {
   "cell_type": "code",
   "execution_count": null,
   "id": "36",
   "metadata": {
    "colab": {
     "base_uri": "https://localhost:8080/"
    },
    "executionInfo": {
     "elapsed": 11,
     "status": "ok",
     "timestamp": 1758070231627,
     "user": {
      "displayName": "T Haruyama",
      "userId": "09851044792665346893"
     },
     "user_tz": -540
    },
    "id": "c5b0f4d2-d086-4af5-ac61-6da49ddd8e33",
    "outputId": "1b63514f-5e71-4659-84af-1a4bbad06c98"
   },
   "outputs": [],
   "source": [
    "random.seed(123)\n",
    "[random.gauss(0,10) for _ in range(4)]"
   ]
  },
  {
   "cell_type": "markdown",
   "id": "37",
   "metadata": {
    "id": "edaf9bd1-1069-46c3-bac1-f5d6d73d1233",
    "jp-MarkdownHeadingCollapsed": true
   },
   "source": [
    "### py4macroモジュール"
   ]
  },
  {
   "cell_type": "markdown",
   "id": "38",
   "metadata": {
    "id": "zhZFDhlVPAuN"
   },
   "source": [
    "コード7.1.13"
   ]
  },
  {
   "cell_type": "code",
   "execution_count": null,
   "id": "39",
   "metadata": {
    "colab": {
     "base_uri": "https://localhost:8080/"
    },
    "executionInfo": {
     "elapsed": 11134,
     "status": "ok",
     "timestamp": 1758070242761,
     "user": {
      "displayName": "T Haruyama",
      "userId": "09851044792665346893"
     },
     "user_tz": -540
    },
    "id": "774cb173-d771-4949-b78e-e83e16d2f460",
    "outputId": "006ff73c-d69d-4503-e007-4085c097a5a0"
   },
   "outputs": [],
   "source": [
    "%pip install -q py4macro\n",
    "import py4macro"
   ]
  },
  {
   "cell_type": "markdown",
   "id": "40",
   "metadata": {
    "id": "JJeBun_FPJGk"
   },
   "source": [
    "コード7.1.14"
   ]
  },
  {
   "cell_type": "code",
   "execution_count": null,
   "id": "41",
   "metadata": {
    "colab": {
     "base_uri": "https://localhost:8080/"
    },
    "executionInfo": {
     "elapsed": 3,
     "status": "ok",
     "timestamp": 1758070242768,
     "user": {
      "displayName": "T Haruyama",
      "userId": "09851044792665346893"
     },
     "user_tz": -540
    },
    "id": "f4fbd6b8-0c59-439a-82e6-d6f4fbc4fdcf",
    "outputId": "746df0cf-4b8d-45aa-a3a6-5a6d9561ef07"
   },
   "outputs": [],
   "source": [
    "py4macro.xvalues(0, 1, 3)"
   ]
  },
  {
   "cell_type": "markdown",
   "id": "42",
   "metadata": {
    "id": "8jbXYDN7PMVA"
   },
   "source": [
    "コード7.1.15"
   ]
  },
  {
   "cell_type": "code",
   "execution_count": null,
   "id": "43",
   "metadata": {
    "colab": {
     "base_uri": "https://localhost:8080/"
    },
    "executionInfo": {
     "elapsed": 5,
     "status": "ok",
     "timestamp": 1758070242774,
     "user": {
      "displayName": "T Haruyama",
      "userId": "09851044792665346893"
     },
     "user_tz": -540
    },
    "id": "9fd5660d-a353-4a3d-b29f-e0d32959ee3e",
    "outputId": "e0bfc46f-b208-4042-bb4e-7ecd8239873e"
   },
   "outputs": [],
   "source": [
    "pi = 3.14\n",
    "py4macro.see(pi)"
   ]
  },
  {
   "cell_type": "markdown",
   "id": "44",
   "metadata": {
    "id": "31c6f1c9-b694-4ec8-b6d6-e4205128d70f"
   },
   "source": [
    "## エラー"
   ]
  },
  {
   "cell_type": "markdown",
   "id": "45",
   "metadata": {
    "id": "62b5612c-82d0-4c98-b546-a0bbababdcc9"
   },
   "source": [
    "### 構文エラー"
   ]
  },
  {
   "cell_type": "markdown",
   "id": "46",
   "metadata": {
    "id": "wd7fWmF7Pa62"
   },
   "source": [
    "構文エラー：例1"
   ]
  },
  {
   "cell_type": "code",
   "execution_count": null,
   "id": "47",
   "metadata": {
    "colab": {
     "base_uri": "https://localhost:8080/",
     "height": 108
    },
    "executionInfo": {
     "elapsed": 4,
     "status": "error",
     "timestamp": 1758070242778,
     "user": {
      "displayName": "T Haruyama",
      "userId": "09851044792665346893"
     },
     "user_tz": -540
    },
    "id": "dc62d440-cd25-4098-a75b-cb0a9518a00a",
    "outputId": "1147cf3f-3567-47ca-d891-c776701ab3ec"
   },
   "outputs": [],
   "source": [
    "if a > 0\n",
    "    print(a)"
   ]
  },
  {
   "cell_type": "markdown",
   "id": "48",
   "metadata": {
    "id": "9tsYtRImPhjE"
   },
   "source": [
    "構文エラー：例2"
   ]
  },
  {
   "cell_type": "code",
   "execution_count": null,
   "id": "49",
   "metadata": {
    "colab": {
     "base_uri": "https://localhost:8080/",
     "height": 108
    },
    "executionInfo": {
     "elapsed": 12,
     "status": "error",
     "timestamp": 1758070258062,
     "user": {
      "displayName": "T Haruyama",
      "userId": "09851044792665346893"
     },
     "user_tz": -540
    },
    "id": "39a129d1-bf37-450c-8841-332f3af1c4ff",
    "outputId": "f1cde0e2-12b4-4851-fcac-df779ab442b7"
   },
   "outputs": [],
   "source": [
    "2 / (10.1 + 3.2 + 1"
   ]
  },
  {
   "cell_type": "markdown",
   "id": "50",
   "metadata": {
    "id": "bf2467ea-2123-4f3f-9ade-0bb1e46207aa"
   },
   "source": [
    "構文エラー：例3"
   ]
  },
  {
   "cell_type": "code",
   "execution_count": null,
   "id": "51",
   "metadata": {
    "colab": {
     "base_uri": "https://localhost:8080/",
     "height": 108
    },
    "executionInfo": {
     "elapsed": 7,
     "status": "error",
     "timestamp": 1758070260060,
     "user": {
      "displayName": "T Haruyama",
      "userId": "09851044792665346893"
     },
     "user_tz": -540
    },
    "id": "4d5951e1-8aad-48ee-9607-b2d1a4a8cd7c",
    "outputId": "c4e6a71b-714c-4489-c312-271dad30b3a8"
   },
   "outputs": [],
   "source": [
    "def my_func(a):\n",
    "return a * 2"
   ]
  },
  {
   "cell_type": "markdown",
   "id": "52",
   "metadata": {
    "id": "cc7e6605-4fcb-4b99-8189-c9127b4aa8e8"
   },
   "source": [
    "### 例外"
   ]
  },
  {
   "cell_type": "markdown",
   "id": "53",
   "metadata": {
    "id": "b68c2aa7-ebd0-4fda-9af9-55c58ea9b4fc"
   },
   "source": [
    "例外：例1"
   ]
  },
  {
   "cell_type": "code",
   "execution_count": null,
   "id": "54",
   "metadata": {
    "colab": {
     "base_uri": "https://localhost:8080/",
     "height": 144
    },
    "executionInfo": {
     "elapsed": 35,
     "status": "error",
     "timestamp": 1758070263085,
     "user": {
      "displayName": "T Haruyama",
      "userId": "09851044792665346893"
     },
     "user_tz": -540
    },
    "id": "SVNMs-bDQFC4",
    "outputId": "32e74a07-d8e6-49b4-8b1d-a4dd28272d04"
   },
   "outputs": [],
   "source": [
    "3 + 1 / 0"
   ]
  },
  {
   "cell_type": "markdown",
   "id": "55",
   "metadata": {
    "id": "twScQ1WIQIog"
   },
   "source": [
    "例外：例2"
   ]
  },
  {
   "cell_type": "code",
   "execution_count": null,
   "id": "56",
   "metadata": {
    "colab": {
     "base_uri": "https://localhost:8080/",
     "height": 144
    },
    "executionInfo": {
     "elapsed": 2,
     "status": "error",
     "timestamp": 1758070265195,
     "user": {
      "displayName": "T Haruyama",
      "userId": "09851044792665346893"
     },
     "user_tz": -540
    },
    "id": "wLca3AhLQKCa",
    "outputId": "55cead05-d433-4c84-e11d-3acfe88bf3d6"
   },
   "outputs": [],
   "source": [
    "1.5 + yy * 2"
   ]
  },
  {
   "cell_type": "markdown",
   "id": "57",
   "metadata": {
    "id": "tMi3nun2QGqA"
   },
   "source": [
    "例外：例3"
   ]
  },
  {
   "cell_type": "code",
   "execution_count": null,
   "id": "58",
   "metadata": {
    "colab": {
     "base_uri": "https://localhost:8080/",
     "height": 144
    },
    "executionInfo": {
     "elapsed": 4,
     "status": "error",
     "timestamp": 1758070267560,
     "user": {
      "displayName": "T Haruyama",
      "userId": "09851044792665346893"
     },
     "user_tz": -540
    },
    "id": "zDbLGha5QRDp",
    "outputId": "b6c70076-d1b2-48cd-a453-0e2db35fe1e6"
   },
   "outputs": [],
   "source": [
    "10 + \"3\""
   ]
  },
  {
   "cell_type": "code",
   "execution_count": null,
   "id": "59",
   "metadata": {
    "executionInfo": {
     "elapsed": 11478,
     "status": "aborted",
     "timestamp": 1758070242844,
     "user": {
      "displayName": "T Haruyama",
      "userId": "09851044792665346893"
     },
     "user_tz": -540
    },
    "id": "jyDNislmQVIn"
   },
   "outputs": [],
   "source": []
  }
 ],
 "metadata": {
  "colab": {
   "provenance": []
  },
  "kernelspec": {
   "display_name": "Python 3",
   "name": "python3"
  },
  "language_info": {
   "name": "python"
  }
 },
 "nbformat": 4,
 "nbformat_minor": 5
}
