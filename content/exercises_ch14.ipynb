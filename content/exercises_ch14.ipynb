{
 "cells": [
  {
   "cell_type": "markdown",
   "id": "0",
   "metadata": {
    "id": "772e0b46-dfb7-447b-a76b-675c0158b4ec"
   },
   "source": [
    "# 14章：演習問題の解答"
   ]
  },
  {
   "cell_type": "code",
   "execution_count": null,
   "id": "1",
   "metadata": {
    "colab": {
     "base_uri": "https://localhost:8080/"
    },
    "executionInfo": {
     "elapsed": 17295,
     "status": "ok",
     "timestamp": 1758079562049,
     "user": {
      "displayName": "T Haruyama",
      "userId": "09851044792665346893"
     },
     "user_tz": -540
    },
    "id": "9de68a9b-5dea-4412-b057-10df617d0577",
    "outputId": "91ec8b72-18fc-42d5-fd3b-cc740fd85a2e"
   },
   "outputs": [],
   "source": [
    "%pip install -q japanize-matplotlib\n",
    "import japanize_matplotlib\n",
    "import numpy as np\n",
    "import matplotlib.pyplot as plt"
   ]
  },
  {
   "cell_type": "markdown",
   "id": "2",
   "metadata": {
    "id": "3cb86744-efd8-45c5-8b44-6796cfc74777"
   },
   "source": [
    "## 演習1"
   ]
  },
  {
   "cell_type": "markdown",
   "id": "3",
   "metadata": {
    "id": "6a611913-99e3-4317-b8a8-57f5a28dbe23"
   },
   "source": [
    "### (1)"
   ]
  },
  {
   "cell_type": "code",
   "execution_count": null,
   "id": "4",
   "metadata": {
    "executionInfo": {
     "elapsed": 8,
     "status": "ok",
     "timestamp": 1758079562064,
     "user": {
      "displayName": "T Haruyama",
      "userId": "09851044792665346893"
     },
     "user_tz": -540
    },
    "id": "4fb8901f-5237-4040-9604-c331bd982396"
   },
   "outputs": [],
   "source": [
    "rng = np.random.default_rng()"
   ]
  },
  {
   "cell_type": "code",
   "execution_count": null,
   "id": "5",
   "metadata": {
    "colab": {
     "base_uri": "https://localhost:8080/"
    },
    "executionInfo": {
     "elapsed": 9,
     "status": "ok",
     "timestamp": 1758079562080,
     "user": {
      "displayName": "T Haruyama",
      "userId": "09851044792665346893"
     },
     "user_tz": -540
    },
    "id": "a36e718f-4aeb-4119-970e-5e0aa03e9c11",
    "outputId": "86f46068-8491-4cb6-bfcd-8ae965d9d2dd"
   },
   "outputs": [],
   "source": [
    "rng.integers(0, 2, size=10)"
   ]
  },
  {
   "cell_type": "code",
   "execution_count": null,
   "id": "6",
   "metadata": {
    "colab": {
     "base_uri": "https://localhost:8080/"
    },
    "executionInfo": {
     "elapsed": 55,
     "status": "ok",
     "timestamp": 1758079562137,
     "user": {
      "displayName": "T Haruyama",
      "userId": "09851044792665346893"
     },
     "user_tz": -540
    },
    "id": "1d441704-61db-4f71-92a0-650888e90e79",
    "outputId": "36596cb1-0f7d-4d0d-da9d-fc46e059716f"
   },
   "outputs": [],
   "source": [
    "rng.integers(1, 7, size=(3,5))"
   ]
  },
  {
   "cell_type": "markdown",
   "id": "7",
   "metadata": {
    "id": "a5daaf74-61f8-418c-8883-94348d3fbfb1"
   },
   "source": [
    "### (2)"
   ]
  },
  {
   "cell_type": "code",
   "execution_count": null,
   "id": "8",
   "metadata": {
    "colab": {
     "base_uri": "https://localhost:8080/"
    },
    "executionInfo": {
     "elapsed": 3,
     "status": "ok",
     "timestamp": 1758079562140,
     "user": {
      "displayName": "T Haruyama",
      "userId": "09851044792665346893"
     },
     "user_tz": -540
    },
    "id": "cee367cc-15ff-4a6e-a9cf-bf46f439389e",
    "outputId": "b6785a86-f0da-4a30-8b02-d4fe8df3a9f3"
   },
   "outputs": [],
   "source": [
    "rng.integers(1, 7, size=(10,20))"
   ]
  },
  {
   "cell_type": "markdown",
   "id": "9",
   "metadata": {
    "id": "114a37fc-9fa8-4b2b-88fc-6f83f87793c9"
   },
   "source": [
    "### (3)"
   ]
  },
  {
   "cell_type": "code",
   "execution_count": null,
   "id": "10",
   "metadata": {
    "executionInfo": {
     "elapsed": 7,
     "status": "ok",
     "timestamp": 1758079562148,
     "user": {
      "displayName": "T Haruyama",
      "userId": "09851044792665346893"
     },
     "user_tz": -540
    },
    "id": "d9afe977-81b4-47b1-8399-ec135df0cffb"
   },
   "outputs": [],
   "source": [
    "n, N = 30, 10_000\n",
    "coin = rng.integers(0, 2, size=(n,N))"
   ]
  },
  {
   "cell_type": "markdown",
   "id": "11",
   "metadata": {
    "id": "d2aa75bb-a574-4e10-a1e0-8067ef6db1e7"
   },
   "source": [
    "### (4)"
   ]
  },
  {
   "cell_type": "code",
   "execution_count": null,
   "id": "12",
   "metadata": {
    "executionInfo": {
     "elapsed": 2,
     "status": "ok",
     "timestamp": 1758079562150,
     "user": {
      "displayName": "T Haruyama",
      "userId": "09851044792665346893"
     },
     "user_tz": -540
    },
    "id": "5fb59070-0946-4d81-9e77-57284b27eeaf"
   },
   "outputs": [],
   "source": [
    "avr = coin.mean(axis=0)"
   ]
  },
  {
   "cell_type": "markdown",
   "id": "13",
   "metadata": {
    "id": "aeea4c4c-4ebf-4b0a-96fe-f178fedceeeb"
   },
   "source": [
    "### (5)"
   ]
  },
  {
   "cell_type": "code",
   "execution_count": null,
   "id": "14",
   "metadata": {
    "executionInfo": {
     "elapsed": 8,
     "status": "ok",
     "timestamp": 1758079562157,
     "user": {
      "displayName": "T Haruyama",
      "userId": "09851044792665346893"
     },
     "user_tz": -540
    },
    "id": "ee3d14dd-21c6-48b8-bf12-b177636539f7"
   },
   "outputs": [],
   "source": [
    "z = ( avr - 0.5 ) / (0.5/n**0.5)"
   ]
  },
  {
   "cell_type": "markdown",
   "id": "15",
   "metadata": {
    "id": "8adf11dc-667c-484d-a8ec-6b1d7f9b3f93"
   },
   "source": [
    "### (6)"
   ]
  },
  {
   "cell_type": "code",
   "execution_count": null,
   "id": "16",
   "metadata": {
    "executionInfo": {
     "elapsed": 1,
     "status": "ok",
     "timestamp": 1758079562163,
     "user": {
      "displayName": "T Haruyama",
      "userId": "09851044792665346893"
     },
     "user_tz": -540
    },
    "id": "eac16311-b602-4c20-a813-175c278e6b01"
   },
   "outputs": [],
   "source": [
    "def clt(n=1000, N=100_000, seed=None):\n",
    "\n",
    "    rng = np.random.default_rng(seed)\n",
    "    coin = rng.integers(0, 2, size=(n,N))\n",
    "    avr = coin.mean(axis=0)\n",
    "    z = ( avr - 0.5 ) / (0.5/n**0.5)\n",
    "\n",
    "    return z"
   ]
  },
  {
   "cell_type": "markdown",
   "id": "17",
   "metadata": {
    "id": "58075326-48c2-4417-a676-739fa495c567"
   },
   "source": [
    "### (7)"
   ]
  },
  {
   "cell_type": "code",
   "execution_count": null,
   "id": "18",
   "metadata": {
    "colab": {
     "base_uri": "https://localhost:8080/"
    },
    "executionInfo": {
     "elapsed": 1215,
     "status": "ok",
     "timestamp": 1758079563379,
     "user": {
      "displayName": "T Haruyama",
      "userId": "09851044792665346893"
     },
     "user_tz": -540
    },
    "id": "gVNJnEUXaS2f",
    "outputId": "267681d5-0165-43dd-ea1c-cfb20d1444d0"
   },
   "outputs": [],
   "source": [
    "res = clt()\n",
    "res"
   ]
  },
  {
   "cell_type": "markdown",
   "id": "19",
   "metadata": {
    "id": "d8b4299e-8a65-45f7-98f3-bde0e39c8282"
   },
   "source": [
    "### (8)"
   ]
  },
  {
   "cell_type": "code",
   "execution_count": null,
   "id": "20",
   "metadata": {
    "colab": {
     "base_uri": "https://localhost:8080/"
    },
    "executionInfo": {
     "elapsed": 14,
     "status": "ok",
     "timestamp": 1758079563379,
     "user": {
      "displayName": "T Haruyama",
      "userId": "09851044792665346893"
     },
     "user_tz": -540
    },
    "id": "477513be-3d98-4ebf-bb41-ea86a4be2e31",
    "outputId": "9c5d6162-bbef-4926-cc87-e4d24f801f28"
   },
   "outputs": [],
   "source": [
    "np.unique(res)"
   ]
  },
  {
   "cell_type": "code",
   "execution_count": null,
   "id": "21",
   "metadata": {
    "colab": {
     "base_uri": "https://localhost:8080/"
    },
    "executionInfo": {
     "elapsed": 8,
     "status": "ok",
     "timestamp": 1758079563380,
     "user": {
      "displayName": "T Haruyama",
      "userId": "09851044792665346893"
     },
     "user_tz": -540
    },
    "id": "b7b0f5a4-18c4-4d9f-9b7e-55086d4f70b9",
    "outputId": "e40292b2-839d-45b3-9ad4-76b2700f2c5c"
   },
   "outputs": [],
   "source": [
    "len(np.unique(res))"
   ]
  },
  {
   "cell_type": "markdown",
   "id": "22",
   "metadata": {
    "id": "Zv1byO8ta9LS"
   },
   "source": [
    "### (9)"
   ]
  },
  {
   "cell_type": "code",
   "execution_count": null,
   "id": "23",
   "metadata": {
    "colab": {
     "base_uri": "https://localhost:8080/",
     "height": 429
    },
    "executionInfo": {
     "elapsed": 631,
     "status": "ok",
     "timestamp": 1758079564009,
     "user": {
      "displayName": "T Haruyama",
      "userId": "09851044792665346893"
     },
     "user_tz": -540
    },
    "id": "5b451094-1325-46e8-ac5b-31c260937895",
    "outputId": "5582e636-92da-43da-a217-c233b5a1d96e"
   },
   "outputs": [],
   "source": [
    "plt.hist(res, bins=np.unique(res), density=True)\n",
    "plt.show()"
   ]
  },
  {
   "cell_type": "markdown",
   "id": "24",
   "metadata": {
    "id": "d2b6a958-43ae-4063-9d1e-a37074b57489"
   },
   "source": [
    "## 演習2"
   ]
  },
  {
   "cell_type": "markdown",
   "id": "25",
   "metadata": {
    "id": "86c9c896-fcb6-41d8-b9c9-33be2f0e887a"
   },
   "source": [
    "### (1)"
   ]
  },
  {
   "cell_type": "code",
   "execution_count": null,
   "id": "26",
   "metadata": {
    "colab": {
     "base_uri": "https://localhost:8080/"
    },
    "executionInfo": {
     "elapsed": 3,
     "status": "ok",
     "timestamp": 1758079564013,
     "user": {
      "displayName": "T Haruyama",
      "userId": "09851044792665346893"
     },
     "user_tz": -540
    },
    "id": "1290e04e-191b-4165-98e0-850d7d1fbe4f",
    "outputId": "fc8f6027-1ec6-4694-9ac2-f8b49731296e"
   },
   "outputs": [],
   "source": [
    "np.arange(1, 10)"
   ]
  },
  {
   "cell_type": "code",
   "execution_count": null,
   "id": "27",
   "metadata": {
    "colab": {
     "base_uri": "https://localhost:8080/"
    },
    "executionInfo": {
     "elapsed": 8,
     "status": "ok",
     "timestamp": 1758079564022,
     "user": {
      "displayName": "T Haruyama",
      "userId": "09851044792665346893"
     },
     "user_tz": -540
    },
    "id": "c49685ec-2c29-4fa1-930a-1cdb4401266a",
    "outputId": "8ee18910-8ad1-4a71-a051-2477a4e14a9e"
   },
   "outputs": [],
   "source": [
    "np.arange(0, 11, 2)"
   ]
  },
  {
   "cell_type": "code",
   "execution_count": null,
   "id": "28",
   "metadata": {
    "colab": {
     "base_uri": "https://localhost:8080/"
    },
    "executionInfo": {
     "elapsed": 4,
     "status": "ok",
     "timestamp": 1758079564027,
     "user": {
      "displayName": "T Haruyama",
      "userId": "09851044792665346893"
     },
     "user_tz": -540
    },
    "id": "7e661825-1f0b-4d5c-9465-86258cc7398b",
    "outputId": "efd3380c-c6a4-4f2e-a487-cda68a3315c0"
   },
   "outputs": [],
   "source": [
    "np.arange(-3, 4)"
   ]
  },
  {
   "cell_type": "markdown",
   "id": "29",
   "metadata": {
    "id": "b4210048-6158-4b65-ba58-b8bde52442f3"
   },
   "source": [
    "### (2)"
   ]
  },
  {
   "cell_type": "code",
   "execution_count": null,
   "id": "30",
   "metadata": {
    "colab": {
     "base_uri": "https://localhost:8080/"
    },
    "executionInfo": {
     "elapsed": 9,
     "status": "ok",
     "timestamp": 1758079564036,
     "user": {
      "displayName": "T Haruyama",
      "userId": "09851044792665346893"
     },
     "user_tz": -540
    },
    "id": "e87ee896-485f-419b-9374-02f05d54f916",
    "outputId": "5199d1da-6ab2-4a97-94f1-b023872729b1"
   },
   "outputs": [],
   "source": [
    "lst = list( range(10) )\n",
    "lst"
   ]
  },
  {
   "cell_type": "code",
   "execution_count": null,
   "id": "31",
   "metadata": {
    "colab": {
     "base_uri": "https://localhost:8080/"
    },
    "executionInfo": {
     "elapsed": 10,
     "status": "ok",
     "timestamp": 1758079564046,
     "user": {
      "displayName": "T Haruyama",
      "userId": "09851044792665346893"
     },
     "user_tz": -540
    },
    "id": "5e8541f4-ac6d-4ae4-b144-b9d2f288c28f",
    "outputId": "ba41f475-f3cd-49ba-9855-41602b4bb162"
   },
   "outputs": [],
   "source": [
    "np.cumsum(lst)"
   ]
  },
  {
   "cell_type": "code",
   "execution_count": null,
   "id": "32",
   "metadata": {
    "colab": {
     "base_uri": "https://localhost:8080/"
    },
    "executionInfo": {
     "elapsed": 11,
     "status": "ok",
     "timestamp": 1758079564057,
     "user": {
      "displayName": "T Haruyama",
      "userId": "09851044792665346893"
     },
     "user_tz": -540
    },
    "id": "1713fd89-fac2-43c0-9fa3-071535a287e3",
    "outputId": "9e3c7a8b-078f-4004-f4f8-5fb3bd805688"
   },
   "outputs": [],
   "source": [
    "arr = np.arange(1, 6)\n",
    "arr"
   ]
  },
  {
   "cell_type": "code",
   "execution_count": null,
   "id": "33",
   "metadata": {
    "colab": {
     "base_uri": "https://localhost:8080/"
    },
    "executionInfo": {
     "elapsed": 55,
     "status": "ok",
     "timestamp": 1758079564113,
     "user": {
      "displayName": "T Haruyama",
      "userId": "09851044792665346893"
     },
     "user_tz": -540
    },
    "id": "fae9bf62-6174-4177-90e0-0d589b67d357",
    "outputId": "d25651ff-5b57-4d7d-86d8-2f146946177a"
   },
   "outputs": [],
   "source": [
    "np.cumsum(arr)"
   ]
  },
  {
   "cell_type": "markdown",
   "id": "34",
   "metadata": {
    "id": "f48a86c5-c70d-4ccc-8860-8b4a9dff4367"
   },
   "source": [
    "### (3)"
   ]
  },
  {
   "cell_type": "code",
   "execution_count": null,
   "id": "35",
   "metadata": {
    "executionInfo": {
     "elapsed": 43,
     "status": "ok",
     "timestamp": 1758079564115,
     "user": {
      "displayName": "T Haruyama",
      "userId": "09851044792665346893"
     },
     "user_tz": -540
    },
    "id": "7b420bd1-2b21-45e4-9a05-1190c716aee1"
   },
   "outputs": [],
   "source": [
    "n = 100_000\n",
    "coin = rng.integers(0, 2, size=n)            # 0または1をN個生成\n",
    "cumulative_sum = np.cumsum(coin)             # coinsの累積和を計算\n",
    "avr_arr = cumulative_sum / np.arange(1, n+1)  # 各回の試行での平均を計算"
   ]
  },
  {
   "cell_type": "markdown",
   "id": "36",
   "metadata": {
    "id": "7493723c-4324-4ba7-8cf8-dd9442a1cf66"
   },
   "source": [
    "### (4)"
   ]
  },
  {
   "cell_type": "code",
   "execution_count": null,
   "id": "37",
   "metadata": {
    "colab": {
     "base_uri": "https://localhost:8080/",
     "height": 470
    },
    "executionInfo": {
     "elapsed": 317,
     "status": "ok",
     "timestamp": 1758079564429,
     "user": {
      "displayName": "T Haruyama",
      "userId": "09851044792665346893"
     },
     "user_tz": -540
    },
    "id": "c41cee9c-62f5-44db-ab25-7ab3e38c3bc3",
    "outputId": "1f2f6d91-8fcf-47c0-e0d1-a14d5ffee746"
   },
   "outputs": [],
   "source": [
    "m = 10000   # 除外する個数\n",
    "plt.plot(np.arange(1+m, n+1), avr_arr[m:])\n",
    "plt.axhline(0.5, color=\"red\", linestyle=\"--\")\n",
    "plt.xlabel(\"試行回数\")\n",
    "plt.ylabel(\"平均\")\n",
    "plt.title(\"大数の法則：シミュレーション2（NumPy版）\")\n",
    "plt.show()"
   ]
  },
  {
   "cell_type": "markdown",
   "id": "38",
   "metadata": {
    "id": "a6c0e3a0-e265-4cad-9234-8a9eb45e37fe"
   },
   "source": [
    "### (5)"
   ]
  },
  {
   "cell_type": "code",
   "execution_count": null,
   "id": "39",
   "metadata": {
    "colab": {
     "base_uri": "https://localhost:8080/",
     "height": 470
    },
    "executionInfo": {
     "elapsed": 266,
     "status": "ok",
     "timestamp": 1758079564690,
     "user": {
      "displayName": "T Haruyama",
      "userId": "09851044792665346893"
     },
     "user_tz": -540
    },
    "id": "ec7aa92c-b45f-421d-a8ca-07cedda97b57",
    "outputId": "cfa08278-1aa6-4b37-d3f2-62814db5e832"
   },
   "outputs": [],
   "source": [
    "def lln(n=100_000, m=10_000, seed=None):\n",
    "\n",
    "    if n-m >= 2:\n",
    "\n",
    "        rng = np.random.default_rng(seed=123)\n",
    "\n",
    "        coins = rng.integers(0, 2, size=n)\n",
    "        cumulative_sum = np.cumsum(coins)\n",
    "        avr_arr = cumulative_sum / np.arange(1, n+1)\n",
    "\n",
    "        plt.plot(np.arange(1+m, n+1), avr_arr[m:])\n",
    "        plt.axhline(0.5, color=\"red\", linestyle=\"--\")\n",
    "        plt.xlabel(\"試行回数\")\n",
    "        plt.ylabel(\"平均\")\n",
    "        plt.title(\"大数の法則：シミュレーション2（NumPy版）\")\n",
    "        plt.show()\n",
    "\n",
    "    else:\n",
    "        print(\"n-m>=2となるように設定してください。\")\n",
    "\n",
    "lln()"
   ]
  },
  {
   "cell_type": "code",
   "execution_count": null,
   "id": "40",
   "metadata": {
    "executionInfo": {
     "elapsed": 5,
     "status": "ok",
     "timestamp": 1758079564696,
     "user": {
      "displayName": "T Haruyama",
      "userId": "09851044792665346893"
     },
     "user_tz": -540
    },
    "id": "xXMJIz9fc5GF"
   },
   "outputs": [],
   "source": []
  }
 ],
 "metadata": {
  "colab": {
   "provenance": []
  },
  "kernelspec": {
   "display_name": "Python 3 (ipykernel)",
   "language": "python",
   "name": "python3"
  },
  "language_info": {
   "codemirror_mode": {
    "name": "ipython",
    "version": 3
   },
   "file_extension": ".py",
   "mimetype": "text/x-python",
   "name": "python",
   "nbconvert_exporter": "python",
   "pygments_lexer": "ipython3",
   "version": "3.13.7"
  }
 },
 "nbformat": 4,
 "nbformat_minor": 5
}
