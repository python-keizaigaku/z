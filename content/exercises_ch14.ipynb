{
 "cells": [
  {
   "cell_type": "markdown",
   "id": "772e0b46-dfb7-447b-a76b-675c0158b4ec",
   "metadata": {
    "id": "772e0b46-dfb7-447b-a76b-675c0158b4ec"
   },
   "source": [
    "# 14章：演習問題の解答"
   ]
  },
  {
   "cell_type": "code",
   "execution_count": 1,
   "id": "9de68a9b-5dea-4412-b057-10df617d0577",
   "metadata": {
    "colab": {
     "base_uri": "https://localhost:8080/"
    },
    "executionInfo": {
     "elapsed": 18769,
     "status": "ok",
     "timestamp": 1751099674020,
     "user": {
      "displayName": "T Haruyama",
      "userId": "09851044792665346893"
     },
     "user_tz": -540
    },
    "id": "9de68a9b-5dea-4412-b057-10df617d0577",
    "outputId": "94a9922d-5dd1-471f-88de-334f9c127df8"
   },
   "outputs": [],
   "source": [
    "%pip install -q japanize-matplotlib-jlite\n",
    "import japanize_matplotlib_jlite\n",
    "import numpy as np\n",
    "import matplotlib.pyplot as plt"
   ]
  },
  {
   "cell_type": "markdown",
   "id": "3cb86744-efd8-45c5-8b44-6796cfc74777",
   "metadata": {
    "id": "3cb86744-efd8-45c5-8b44-6796cfc74777"
   },
   "source": [
    "## 演習1"
   ]
  },
  {
   "cell_type": "markdown",
   "id": "6a611913-99e3-4317-b8a8-57f5a28dbe23",
   "metadata": {
    "id": "6a611913-99e3-4317-b8a8-57f5a28dbe23"
   },
   "source": [
    "### (1)"
   ]
  },
  {
   "cell_type": "code",
   "execution_count": 2,
   "id": "4fb8901f-5237-4040-9604-c331bd982396",
   "metadata": {
    "executionInfo": {
     "elapsed": 2,
     "status": "ok",
     "timestamp": 1751099674030,
     "user": {
      "displayName": "T Haruyama",
      "userId": "09851044792665346893"
     },
     "user_tz": -540
    },
    "id": "4fb8901f-5237-4040-9604-c331bd982396"
   },
   "outputs": [],
   "source": [
    "rng = np.random.default_rng()"
   ]
  },
  {
   "cell_type": "code",
   "execution_count": 3,
   "id": "a36e718f-4aeb-4119-970e-5e0aa03e9c11",
   "metadata": {
    "colab": {
     "base_uri": "https://localhost:8080/"
    },
    "executionInfo": {
     "elapsed": 5,
     "status": "ok",
     "timestamp": 1751099674081,
     "user": {
      "displayName": "T Haruyama",
      "userId": "09851044792665346893"
     },
     "user_tz": -540
    },
    "id": "a36e718f-4aeb-4119-970e-5e0aa03e9c11",
    "outputId": "b395f4ef-1424-47a6-ec4f-d17f945af086"
   },
   "outputs": [
    {
     "data": {
      "text/plain": [
       "array([1, 1, 0, 1, 0, 1, 0, 1, 1, 0])"
      ]
     },
     "execution_count": 3,
     "metadata": {},
     "output_type": "execute_result"
    }
   ],
   "source": [
    "rng.integers(0, 2, size=10)"
   ]
  },
  {
   "cell_type": "code",
   "execution_count": 4,
   "id": "1d441704-61db-4f71-92a0-650888e90e79",
   "metadata": {
    "colab": {
     "base_uri": "https://localhost:8080/"
    },
    "executionInfo": {
     "elapsed": 3,
     "status": "ok",
     "timestamp": 1751099674083,
     "user": {
      "displayName": "T Haruyama",
      "userId": "09851044792665346893"
     },
     "user_tz": -540
    },
    "id": "1d441704-61db-4f71-92a0-650888e90e79",
    "outputId": "f5fe4be7-9bb7-435d-95cf-2a81d5e5b71c"
   },
   "outputs": [
    {
     "data": {
      "text/plain": [
       "array([[6, 3, 6, 5, 4],\n",
       "       [2, 4, 6, 2, 2],\n",
       "       [1, 5, 2, 3, 2]])"
      ]
     },
     "execution_count": 4,
     "metadata": {},
     "output_type": "execute_result"
    }
   ],
   "source": [
    "rng.integers(1, 7, size=(3,5))"
   ]
  },
  {
   "cell_type": "markdown",
   "id": "a5daaf74-61f8-418c-8883-94348d3fbfb1",
   "metadata": {
    "id": "a5daaf74-61f8-418c-8883-94348d3fbfb1"
   },
   "source": [
    "### (2)"
   ]
  },
  {
   "cell_type": "code",
   "execution_count": 5,
   "id": "cee367cc-15ff-4a6e-a9cf-bf46f439389e",
   "metadata": {
    "colab": {
     "base_uri": "https://localhost:8080/"
    },
    "executionInfo": {
     "elapsed": 12,
     "status": "ok",
     "timestamp": 1751099674095,
     "user": {
      "displayName": "T Haruyama",
      "userId": "09851044792665346893"
     },
     "user_tz": -540
    },
    "id": "cee367cc-15ff-4a6e-a9cf-bf46f439389e",
    "outputId": "7d2d0016-a0f7-4c57-87ea-f37fc826a4a4"
   },
   "outputs": [
    {
     "data": {
      "text/plain": [
       "array([[2, 5, 6, 5, 3, 4, 3, 3, 6, 5, 2, 2, 2, 3, 3, 4, 5, 6, 4, 2],\n",
       "       [4, 1, 4, 2, 1, 5, 3, 4, 5, 4, 3, 4, 3, 4, 2, 5, 4, 6, 3, 6],\n",
       "       [4, 5, 4, 2, 2, 6, 1, 3, 1, 2, 6, 4, 6, 3, 4, 3, 2, 6, 2, 3],\n",
       "       [2, 6, 3, 5, 6, 1, 1, 4, 5, 1, 3, 5, 6, 3, 5, 2, 5, 3, 4, 3],\n",
       "       [2, 1, 1, 2, 4, 1, 5, 4, 5, 6, 1, 4, 3, 5, 2, 6, 3, 2, 4, 3],\n",
       "       [1, 4, 1, 1, 4, 6, 2, 3, 3, 6, 3, 1, 2, 2, 1, 1, 5, 4, 3, 3],\n",
       "       [1, 3, 3, 2, 6, 2, 6, 5, 5, 5, 2, 6, 6, 2, 5, 2, 4, 5, 1, 1],\n",
       "       [6, 1, 3, 6, 5, 2, 1, 6, 5, 2, 2, 3, 5, 2, 1, 6, 6, 6, 6, 4],\n",
       "       [5, 5, 1, 6, 2, 5, 4, 6, 6, 1, 6, 5, 2, 2, 5, 5, 6, 3, 1, 2],\n",
       "       [4, 6, 1, 1, 5, 2, 3, 4, 5, 3, 6, 5, 5, 3, 6, 4, 4, 1, 4, 3]])"
      ]
     },
     "execution_count": 5,
     "metadata": {},
     "output_type": "execute_result"
    }
   ],
   "source": [
    "rng.integers(1, 7, size=(10,20))"
   ]
  },
  {
   "cell_type": "markdown",
   "id": "114a37fc-9fa8-4b2b-88fc-6f83f87793c9",
   "metadata": {
    "id": "114a37fc-9fa8-4b2b-88fc-6f83f87793c9"
   },
   "source": [
    "### (3)"
   ]
  },
  {
   "cell_type": "code",
   "execution_count": 6,
   "id": "d9afe977-81b4-47b1-8399-ec135df0cffb",
   "metadata": {
    "executionInfo": {
     "elapsed": 5,
     "status": "ok",
     "timestamp": 1751099674101,
     "user": {
      "displayName": "T Haruyama",
      "userId": "09851044792665346893"
     },
     "user_tz": -540
    },
    "id": "d9afe977-81b4-47b1-8399-ec135df0cffb"
   },
   "outputs": [],
   "source": [
    "n, N = 30, 10_000\n",
    "coin = rng.integers(0, 2, size=(n,N))"
   ]
  },
  {
   "cell_type": "markdown",
   "id": "d2aa75bb-a574-4e10-a1e0-8067ef6db1e7",
   "metadata": {
    "id": "d2aa75bb-a574-4e10-a1e0-8067ef6db1e7"
   },
   "source": [
    "### (4)"
   ]
  },
  {
   "cell_type": "code",
   "execution_count": 7,
   "id": "5fb59070-0946-4d81-9e77-57284b27eeaf",
   "metadata": {
    "executionInfo": {
     "elapsed": 76,
     "status": "ok",
     "timestamp": 1751099674187,
     "user": {
      "displayName": "T Haruyama",
      "userId": "09851044792665346893"
     },
     "user_tz": -540
    },
    "id": "5fb59070-0946-4d81-9e77-57284b27eeaf"
   },
   "outputs": [],
   "source": [
    "avr = coin.mean(axis=0)"
   ]
  },
  {
   "cell_type": "markdown",
   "id": "aeea4c4c-4ebf-4b0a-96fe-f178fedceeeb",
   "metadata": {
    "id": "aeea4c4c-4ebf-4b0a-96fe-f178fedceeeb"
   },
   "source": [
    "### (5)"
   ]
  },
  {
   "cell_type": "code",
   "execution_count": 8,
   "id": "ee3d14dd-21c6-48b8-bf12-b177636539f7",
   "metadata": {
    "executionInfo": {
     "elapsed": 63,
     "status": "ok",
     "timestamp": 1751099674187,
     "user": {
      "displayName": "T Haruyama",
      "userId": "09851044792665346893"
     },
     "user_tz": -540
    },
    "id": "ee3d14dd-21c6-48b8-bf12-b177636539f7"
   },
   "outputs": [],
   "source": [
    "s_avr = ( avr - 0.5 ) / (0.5/n**0.5)"
   ]
  },
  {
   "cell_type": "markdown",
   "id": "8adf11dc-667c-484d-a8ec-6b1d7f9b3f93",
   "metadata": {
    "id": "8adf11dc-667c-484d-a8ec-6b1d7f9b3f93"
   },
   "source": [
    "### (6)"
   ]
  },
  {
   "cell_type": "code",
   "execution_count": 18,
   "id": "eac16311-b602-4c20-a813-175c278e6b01",
   "metadata": {
    "executionInfo": {
     "elapsed": 3,
     "status": "ok",
     "timestamp": 1751099674188,
     "user": {
      "displayName": "T Haruyama",
      "userId": "09851044792665346893"
     },
     "user_tz": -540
    },
    "id": "eac16311-b602-4c20-a813-175c278e6b01"
   },
   "outputs": [],
   "source": [
    "def clt(n=1000, N=100_000, seed=None):\n",
    "\n",
    "    rng = np.random.default_rng(seed)\n",
    "    coin = rng.integers(0, 2, size=(n,N))\n",
    "    avr = coin.mean(axis=0)\n",
    "    s_avr = ( avr - 0.5 ) / (0.5/n**0.5)\n",
    "\n",
    "    return s_avr"
   ]
  },
  {
   "cell_type": "markdown",
   "id": "58075326-48c2-4417-a676-739fa495c567",
   "metadata": {
    "id": "58075326-48c2-4417-a676-739fa495c567"
   },
   "source": [
    "### (7)"
   ]
  },
  {
   "cell_type": "code",
   "execution_count": 19,
   "id": "gVNJnEUXaS2f",
   "metadata": {
    "colab": {
     "base_uri": "https://localhost:8080/"
    },
    "executionInfo": {
     "elapsed": 14215,
     "status": "ok",
     "timestamp": 1751099688401,
     "user": {
      "displayName": "T Haruyama",
      "userId": "09851044792665346893"
     },
     "user_tz": -540
    },
    "id": "gVNJnEUXaS2f",
    "outputId": "857cd1f8-cb47-4851-c8c0-5cce3566b9ec"
   },
   "outputs": [
    {
     "data": {
      "text/plain": [
       "array([-0.25298221,  1.20166551,  1.64438438, ..., -0.44271887,\n",
       "        0.63245553, -0.18973666], shape=(100000,))"
      ]
     },
     "execution_count": 19,
     "metadata": {},
     "output_type": "execute_result"
    }
   ],
   "source": [
    "res = clt()\n",
    "res"
   ]
  },
  {
   "cell_type": "markdown",
   "id": "d8b4299e-8a65-45f7-98f3-bde0e39c8282",
   "metadata": {
    "id": "d8b4299e-8a65-45f7-98f3-bde0e39c8282"
   },
   "source": [
    "### (8)"
   ]
  },
  {
   "cell_type": "code",
   "execution_count": 29,
   "id": "477513be-3d98-4ebf-bb41-ea86a4be2e31",
   "metadata": {
    "colab": {
     "base_uri": "https://localhost:8080/"
    },
    "executionInfo": {
     "elapsed": 3,
     "status": "ok",
     "timestamp": 1751099688404,
     "user": {
      "displayName": "T Haruyama",
      "userId": "09851044792665346893"
     },
     "user_tz": -540
    },
    "id": "477513be-3d98-4ebf-bb41-ea86a4be2e31",
    "outputId": "008ef55d-e091-4212-912d-5ba9142cad85"
   },
   "outputs": [
    {
     "data": {
      "text/plain": [
       "array([-4.49043428, -4.30069762, -3.9212243 , -3.85797875, -3.73148764,\n",
       "       -3.66824209, -3.60499653, -3.54175098, -3.47850543, -3.41525987,\n",
       "       -3.35201432, -3.28876877, -3.22552321, -3.16227766, -3.09903211,\n",
       "       -3.03578655, -2.972541  , -2.90929545, -2.84604989, -2.78280434,\n",
       "       -2.71955879, -2.65631323, -2.59306768, -2.52982213, -2.46657657,\n",
       "       -2.40333102, -2.34008547, -2.27683992, -2.21359436, -2.15034881,\n",
       "       -2.08710326, -2.0238577 , -1.96061215, -1.8973666 , -1.83412104,\n",
       "       -1.77087549, -1.70762994, -1.64438438, -1.58113883, -1.51789328,\n",
       "       -1.45464772, -1.39140217, -1.32815662, -1.26491106, -1.20166551,\n",
       "       -1.13841996, -1.0751744 , -1.01192885, -0.9486833 , -0.88543774,\n",
       "       -0.82219219, -0.75894664, -0.69570109, -0.63245553, -0.56920998,\n",
       "       -0.50596443, -0.44271887, -0.37947332, -0.31622777, -0.25298221,\n",
       "       -0.18973666, -0.12649111, -0.06324555,  0.        ,  0.06324555,\n",
       "        0.12649111,  0.18973666,  0.25298221,  0.31622777,  0.37947332,\n",
       "        0.44271887,  0.50596443,  0.56920998,  0.63245553,  0.69570109,\n",
       "        0.75894664,  0.82219219,  0.88543774,  0.9486833 ,  1.01192885,\n",
       "        1.0751744 ,  1.13841996,  1.20166551,  1.26491106,  1.32815662,\n",
       "        1.39140217,  1.45464772,  1.51789328,  1.58113883,  1.64438438,\n",
       "        1.70762994,  1.77087549,  1.83412104,  1.8973666 ,  1.96061215,\n",
       "        2.0238577 ,  2.08710326,  2.15034881,  2.21359436,  2.27683992,\n",
       "        2.34008547,  2.40333102,  2.46657657,  2.52982213,  2.59306768,\n",
       "        2.65631323,  2.71955879,  2.78280434,  2.84604989,  2.90929545,\n",
       "        2.972541  ,  3.03578655,  3.09903211,  3.16227766,  3.22552321,\n",
       "        3.28876877,  3.35201432,  3.41525987,  3.47850543,  3.54175098,\n",
       "        3.60499653,  3.66824209,  3.73148764,  3.79473319,  4.17420651])"
      ]
     },
     "execution_count": 29,
     "metadata": {},
     "output_type": "execute_result"
    }
   ],
   "source": [
    "np.unique(res)"
   ]
  },
  {
   "cell_type": "code",
   "execution_count": 30,
   "id": "b7b0f5a4-18c4-4d9f-9b7e-55086d4f70b9",
   "metadata": {},
   "outputs": [
    {
     "data": {
      "text/plain": [
       "125"
      ]
     },
     "execution_count": 30,
     "metadata": {},
     "output_type": "execute_result"
    }
   ],
   "source": [
    "len(np.unique(res))"
   ]
  },
  {
   "cell_type": "markdown",
   "id": "Zv1byO8ta9LS",
   "metadata": {
    "id": "Zv1byO8ta9LS"
   },
   "source": [
    "### (9)"
   ]
  },
  {
   "cell_type": "code",
   "execution_count": 31,
   "id": "5b451094-1325-46e8-ac5b-31c260937895",
   "metadata": {
    "colab": {
     "base_uri": "https://localhost:8080/",
     "height": 429
    },
    "executionInfo": {
     "elapsed": 414,
     "status": "ok",
     "timestamp": 1751099688818,
     "user": {
      "displayName": "T Haruyama",
      "userId": "09851044792665346893"
     },
     "user_tz": -540
    },
    "id": "5b451094-1325-46e8-ac5b-31c260937895",
    "outputId": "43856a40-051f-4aae-816e-9806fdb1abcd"
   },
   "outputs": [
    {
     "data": {
      "image/png": "[encoded data removed]",
      "text/plain": [
       "<Figure size 640x480 with 1 Axes>"
      ]
     },
     "metadata": {},
     "output_type": "display_data"
    }
   ],
   "source": [
    "plt.hist(res, bins=np.unique(res), density=True)\n",
    "plt.show()"
   ]
  },
  {
   "cell_type": "markdown",
   "id": "d2b6a958-43ae-4063-9d1e-a37074b57489",
   "metadata": {
    "id": "d2b6a958-43ae-4063-9d1e-a37074b57489"
   },
   "source": [
    "## 演習2"
   ]
  },
  {
   "cell_type": "markdown",
   "id": "86c9c896-fcb6-41d8-b9c9-33be2f0e887a",
   "metadata": {
    "id": "86c9c896-fcb6-41d8-b9c9-33be2f0e887a"
   },
   "source": [
    "### (1)"
   ]
  },
  {
   "cell_type": "code",
   "execution_count": 32,
   "id": "1290e04e-191b-4165-98e0-850d7d1fbe4f",
   "metadata": {
    "colab": {
     "base_uri": "https://localhost:8080/"
    },
    "executionInfo": {
     "elapsed": 5,
     "status": "ok",
     "timestamp": 1751099688824,
     "user": {
      "displayName": "T Haruyama",
      "userId": "09851044792665346893"
     },
     "user_tz": -540
    },
    "id": "1290e04e-191b-4165-98e0-850d7d1fbe4f",
    "outputId": "4d794514-4897-4e2a-e349-1cf3085a3846"
   },
   "outputs": [
    {
     "data": {
      "text/plain": [
       "array([1, 2, 3, 4, 5, 6, 7, 8, 9])"
      ]
     },
     "execution_count": 32,
     "metadata": {},
     "output_type": "execute_result"
    }
   ],
   "source": [
    "np.arange(1, 10)"
   ]
  },
  {
   "cell_type": "code",
   "execution_count": 33,
   "id": "c49685ec-2c29-4fa1-930a-1cdb4401266a",
   "metadata": {
    "colab": {
     "base_uri": "https://localhost:8080/"
    },
    "executionInfo": {
     "elapsed": 4,
     "status": "ok",
     "timestamp": 1751099688836,
     "user": {
      "displayName": "T Haruyama",
      "userId": "09851044792665346893"
     },
     "user_tz": -540
    },
    "id": "c49685ec-2c29-4fa1-930a-1cdb4401266a",
    "outputId": "bef96cda-9257-480a-9880-5db76b211f10"
   },
   "outputs": [
    {
     "data": {
      "text/plain": [
       "array([ 0,  2,  4,  6,  8, 10])"
      ]
     },
     "execution_count": 33,
     "metadata": {},
     "output_type": "execute_result"
    }
   ],
   "source": [
    "np.arange(0, 11, 2)"
   ]
  },
  {
   "cell_type": "code",
   "execution_count": 34,
   "id": "7e661825-1f0b-4d5c-9465-86258cc7398b",
   "metadata": {
    "colab": {
     "base_uri": "https://localhost:8080/"
    },
    "executionInfo": {
     "elapsed": 6,
     "status": "ok",
     "timestamp": 1751099688843,
     "user": {
      "displayName": "T Haruyama",
      "userId": "09851044792665346893"
     },
     "user_tz": -540
    },
    "id": "7e661825-1f0b-4d5c-9465-86258cc7398b",
    "outputId": "ba35a9c8-496b-4fb8-c51c-78bfe2a6c398"
   },
   "outputs": [
    {
     "data": {
      "text/plain": [
       "array([-3, -2, -1,  0,  1,  2,  3])"
      ]
     },
     "execution_count": 34,
     "metadata": {},
     "output_type": "execute_result"
    }
   ],
   "source": [
    "np.arange(-3, 4)"
   ]
  },
  {
   "cell_type": "markdown",
   "id": "b4210048-6158-4b65-ba58-b8bde52442f3",
   "metadata": {
    "id": "b4210048-6158-4b65-ba58-b8bde52442f3"
   },
   "source": [
    "### (2)"
   ]
  },
  {
   "cell_type": "code",
   "execution_count": 35,
   "id": "e87ee896-485f-419b-9374-02f05d54f916",
   "metadata": {
    "colab": {
     "base_uri": "https://localhost:8080/"
    },
    "executionInfo": {
     "elapsed": 4,
     "status": "ok",
     "timestamp": 1751099688849,
     "user": {
      "displayName": "T Haruyama",
      "userId": "09851044792665346893"
     },
     "user_tz": -540
    },
    "id": "e87ee896-485f-419b-9374-02f05d54f916",
    "outputId": "a3f3b7d4-2477-47a7-f413-521a7000c655"
   },
   "outputs": [
    {
     "data": {
      "text/plain": [
       "[0, 1, 2, 3, 4, 5, 6, 7, 8, 9]"
      ]
     },
     "execution_count": 35,
     "metadata": {},
     "output_type": "execute_result"
    }
   ],
   "source": [
    "lst = list( range(10) )\n",
    "lst"
   ]
  },
  {
   "cell_type": "code",
   "execution_count": 36,
   "id": "5e8541f4-ac6d-4ae4-b144-b9d2f288c28f",
   "metadata": {
    "colab": {
     "base_uri": "https://localhost:8080/"
    },
    "executionInfo": {
     "elapsed": 11,
     "status": "ok",
     "timestamp": 1751099688870,
     "user": {
      "displayName": "T Haruyama",
      "userId": "09851044792665346893"
     },
     "user_tz": -540
    },
    "id": "5e8541f4-ac6d-4ae4-b144-b9d2f288c28f",
    "outputId": "0bf64d22-3d11-4e4b-9e38-784567b6b93c"
   },
   "outputs": [
    {
     "data": {
      "text/plain": [
       "array([ 0,  1,  3,  6, 10, 15, 21, 28, 36, 45])"
      ]
     },
     "execution_count": 36,
     "metadata": {},
     "output_type": "execute_result"
    }
   ],
   "source": [
    "np.cumsum(lst)"
   ]
  },
  {
   "cell_type": "code",
   "execution_count": 37,
   "id": "1713fd89-fac2-43c0-9fa3-071535a287e3",
   "metadata": {
    "colab": {
     "base_uri": "https://localhost:8080/"
    },
    "executionInfo": {
     "elapsed": 61,
     "status": "ok",
     "timestamp": 1751099688932,
     "user": {
      "displayName": "T Haruyama",
      "userId": "09851044792665346893"
     },
     "user_tz": -540
    },
    "id": "1713fd89-fac2-43c0-9fa3-071535a287e3",
    "outputId": "3bc4efeb-50fc-4c88-e37f-21368764a21a"
   },
   "outputs": [
    {
     "data": {
      "text/plain": [
       "array([1, 2, 3, 4, 5])"
      ]
     },
     "execution_count": 37,
     "metadata": {},
     "output_type": "execute_result"
    }
   ],
   "source": [
    "arr = np.arange(1, 6)\n",
    "arr"
   ]
  },
  {
   "cell_type": "code",
   "execution_count": 38,
   "id": "fae9bf62-6174-4177-90e0-0d589b67d357",
   "metadata": {
    "colab": {
     "base_uri": "https://localhost:8080/"
    },
    "executionInfo": {
     "elapsed": 2,
     "status": "ok",
     "timestamp": 1751099688935,
     "user": {
      "displayName": "T Haruyama",
      "userId": "09851044792665346893"
     },
     "user_tz": -540
    },
    "id": "fae9bf62-6174-4177-90e0-0d589b67d357",
    "outputId": "1c711358-f25c-4b7b-d367-4b5e93e96629"
   },
   "outputs": [
    {
     "data": {
      "text/plain": [
       "array([ 1,  3,  6, 10, 15])"
      ]
     },
     "execution_count": 38,
     "metadata": {},
     "output_type": "execute_result"
    }
   ],
   "source": [
    "np.cumsum(arr)"
   ]
  },
  {
   "cell_type": "markdown",
   "id": "f48a86c5-c70d-4ccc-8860-8b4a9dff4367",
   "metadata": {
    "id": "f48a86c5-c70d-4ccc-8860-8b4a9dff4367"
   },
   "source": [
    "### (3)"
   ]
  },
  {
   "cell_type": "code",
   "execution_count": 39,
   "id": "7b420bd1-2b21-45e4-9a05-1190c716aee1",
   "metadata": {
    "executionInfo": {
     "elapsed": 1,
     "status": "ok",
     "timestamp": 1751099688937,
     "user": {
      "displayName": "T Haruyama",
      "userId": "09851044792665346893"
     },
     "user_tz": -540
    },
    "id": "7b420bd1-2b21-45e4-9a05-1190c716aee1"
   },
   "outputs": [],
   "source": [
    "n = 100_000\n",
    "coin = rng.integers(0, 2, size=n)            # 0または1をN個生成\n",
    "cumulative_sum = np.cumsum(coin)             # coinsの累積和を計算\n",
    "avr_arr = cumulative_sum / np.arange(1, n+1)  # 各回の試行での平均を計算"
   ]
  },
  {
   "cell_type": "markdown",
   "id": "7493723c-4324-4ba7-8cf8-dd9442a1cf66",
   "metadata": {
    "id": "7493723c-4324-4ba7-8cf8-dd9442a1cf66"
   },
   "source": [
    "### (4)"
   ]
  },
  {
   "cell_type": "code",
   "execution_count": 40,
   "id": "c41cee9c-62f5-44db-ab25-7ab3e38c3bc3",
   "metadata": {
    "colab": {
     "base_uri": "https://localhost:8080/",
     "height": 470
    },
    "executionInfo": {
     "elapsed": 414,
     "status": "ok",
     "timestamp": 1751099689350,
     "user": {
      "displayName": "T Haruyama",
      "userId": "09851044792665346893"
     },
     "user_tz": -540
    },
    "id": "c41cee9c-62f5-44db-ab25-7ab3e38c3bc3",
    "outputId": "d05dade0-d37b-45d2-cb27-17918ef26904"
   },
   "outputs": [
    {
     "data": {
      "image/png": "[encoded data removed]",
      "text/plain": [
       "<Figure size 640x480 with 1 Axes>"
      ]
     },
     "metadata": {},
     "output_type": "display_data"
    }
   ],
   "source": [
    "m = 10000   # 除外する個数\n",
    "plt.plot(np.arange(1+m, n+1), avr_arr[m:])\n",
    "plt.axhline(0.5, color=\"red\", linestyle=\"--\")\n",
    "plt.xlabel(\"試行回数\")\n",
    "plt.ylabel(\"平均\")\n",
    "plt.title(\"大数の法則：シミュレーション2（NumPy版）\")\n",
    "plt.show()"
   ]
  },
  {
   "cell_type": "markdown",
   "id": "a6c0e3a0-e265-4cad-9234-8a9eb45e37fe",
   "metadata": {
    "id": "a6c0e3a0-e265-4cad-9234-8a9eb45e37fe"
   },
   "source": [
    "### (5)"
   ]
  },
  {
   "cell_type": "code",
   "execution_count": 41,
   "id": "ec7aa92c-b45f-421d-a8ca-07cedda97b57",
   "metadata": {
    "colab": {
     "base_uri": "https://localhost:8080/",
     "height": 470
    },
    "executionInfo": {
     "elapsed": 445,
     "status": "ok",
     "timestamp": 1751099689795,
     "user": {
      "displayName": "T Haruyama",
      "userId": "09851044792665346893"
     },
     "user_tz": -540
    },
    "id": "ec7aa92c-b45f-421d-a8ca-07cedda97b57",
    "outputId": "acc0d8d8-1dfc-4fd7-8f23-487b8c161ab0"
   },
   "outputs": [
    {
     "data": {
      "image/png": "[encoded data removed]",
      "text/plain": [
       "<Figure size 640x480 with 1 Axes>"
      ]
     },
     "metadata": {},
     "output_type": "display_data"
    }
   ],
   "source": [
    "def lln(n=100_000, m=10_000, seed=None):\n",
    "\n",
    "    if n-m >= 2:\n",
    "\n",
    "        rng = np.random.default_rng(seed=123)\n",
    "\n",
    "        coins = rng.integers(0, 2, size=n)\n",
    "        cumulative_sum = np.cumsum(coins)\n",
    "        avr_arr = cumulative_sum / np.arange(1, n+1)\n",
    "\n",
    "        plt.plot(np.arange(1+m, n+1), avr_arr[m:])\n",
    "        plt.axhline(0.5, color=\"red\", linestyle=\"--\")\n",
    "        plt.xlabel(\"試行回数\")\n",
    "        plt.ylabel(\"平均\")\n",
    "        plt.title(\"大数の法則：シミュレーション2（NumPy版）\")\n",
    "        plt.show()\n",
    "\n",
    "    else:\n",
    "        print(\"n-m>=2となるように設定してください。\")\n",
    "\n",
    "lln()"
   ]
  },
  {
   "cell_type": "code",
   "execution_count": 22,
   "id": "xXMJIz9fc5GF",
   "metadata": {
    "executionInfo": {
     "elapsed": 1,
     "status": "ok",
     "timestamp": 1751099689797,
     "user": {
      "displayName": "T Haruyama",
      "userId": "09851044792665346893"
     },
     "user_tz": -540
    },
    "id": "xXMJIz9fc5GF"
   },
   "outputs": [],
   "source": []
  }
 ],
 "metadata":{"kernelspec":{"display_name":"Python 3","name":"python3"},"language_info":{"name":"python"},"colab":{"provenance":[]}},
 "nbformat": 4,
 "nbformat_minor": 5
}
