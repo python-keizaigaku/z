{
 "cells": [
  {
   "cell_type": "markdown",
   "id": "e827df42-9f78-4549-9335-3501a84f1a0d",
   "metadata": {
    "id": "e827df42-9f78-4549-9335-3501a84f1a0d"
   },
   "source": [
    "# 5章：演習問題の解答"
   ]
  },
  {
   "cell_type": "markdown",
   "id": "ac9db7b8-03b4-476c-add2-aa76f5db9273",
   "metadata": {
    "id": "ac9db7b8-03b4-476c-add2-aa76f5db9273"
   },
   "source": [
    "## 演習1"
   ]
  },
  {
   "cell_type": "code",
   "execution_count": 1,
   "id": "9856f247-72eb-4790-9e70-65fb5b271255",
   "metadata": {
    "executionInfo": {
     "elapsed": 11,
     "status": "ok",
     "timestamp": 1751098549498,
     "user": {
      "displayName": "T Haruyama",
      "userId": "09851044792665346893"
     },
     "user_tz": -540
    },
    "id": "9856f247-72eb-4790-9e70-65fb5b271255"
   },
   "outputs": [],
   "source": [
    "components = [298, 111, 145, 113, 110]"
   ]
  },
  {
   "cell_type": "markdown",
   "id": "3b842911-6ba9-40e2-9a25-5530498fc5d2",
   "metadata": {
    "id": "3b842911-6ba9-40e2-9a25-5530498fc5d2"
   },
   "source": [
    "### (1)"
   ]
  },
  {
   "cell_type": "code",
   "execution_count": 2,
   "id": "e5e8d42f-b551-4989-a589-1bc18b3f2e32",
   "metadata": {
    "colab": {
     "base_uri": "https://localhost:8080/"
    },
    "executionInfo": {
     "elapsed": 10,
     "status": "ok",
     "timestamp": 1751098549510,
     "user": {
      "displayName": "T Haruyama",
      "userId": "09851044792665346893"
     },
     "user_tz": -540
    },
    "id": "e5e8d42f-b551-4989-a589-1bc18b3f2e32",
    "outputId": "f4d4b09a-328d-4883-9a62-ce0197e00458"
   },
   "outputs": [
    {
     "data": {
      "text/plain": [
       "[298, 111, 145, 113, 110, 3]"
      ]
     },
     "execution_count": 2,
     "metadata": {},
     "output_type": "execute_result"
    }
   ],
   "source": [
    "netx = components[-2] - components[-1]\n",
    "components.append(netx)\n",
    "components"
   ]
  },
  {
   "cell_type": "markdown",
   "id": "6066c89c-f3dd-4bea-aad0-bc1991d4adb9",
   "metadata": {
    "id": "6066c89c-f3dd-4bea-aad0-bc1991d4adb9"
   },
   "source": [
    "### (2)"
   ]
  },
  {
   "cell_type": "code",
   "execution_count": 3,
   "id": "711ebff4-43ea-4fe1-93ec-56fbca63f12e",
   "metadata": {
    "colab": {
     "base_uri": "https://localhost:8080/"
    },
    "executionInfo": {
     "elapsed": 9,
     "status": "ok",
     "timestamp": 1751098549525,
     "user": {
      "displayName": "T Haruyama",
      "userId": "09851044792665346893"
     },
     "user_tz": -540
    },
    "id": "711ebff4-43ea-4fe1-93ec-56fbca63f12e",
    "outputId": "3a4ce014-9c76-4366-827c-786ddc4fe893"
   },
   "outputs": [
    {
     "data": {
      "text/plain": [
       "[298, 111, 145, 3]"
      ]
     },
     "execution_count": 3,
     "metadata": {},
     "output_type": "execute_result"
    }
   ],
   "source": [
    "components.pop(3)    # 輸出のインデックスは3\n",
    "components.pop(3)    # 輸入のインデックスは3\n",
    "components"
   ]
  },
  {
   "cell_type": "markdown",
   "id": "3088f2ff-3da7-4159-adb0-4cf32e7f44a9",
   "metadata": {
    "id": "3088f2ff-3da7-4159-adb0-4cf32e7f44a9"
   },
   "source": [
    "### (3)"
   ]
  },
  {
   "cell_type": "code",
   "execution_count": 4,
   "id": "b740e01d-bd64-4594-94d8-67148f180e0b",
   "metadata": {
    "colab": {
     "base_uri": "https://localhost:8080/"
    },
    "executionInfo": {
     "elapsed": 10,
     "status": "ok",
     "timestamp": 1751098549536,
     "user": {
      "displayName": "T Haruyama",
      "userId": "09851044792665346893"
     },
     "user_tz": -540
    },
    "id": "b740e01d-bd64-4594-94d8-67148f180e0b",
    "outputId": "2ea4c05a-c74c-46cb-dbe6-3b415766a00b"
   },
   "outputs": [
    {
     "data": {
      "text/plain": [
       "[557, 298, 111, 145, 3]"
      ]
     },
     "execution_count": 4,
     "metadata": {},
     "output_type": "execute_result"
    }
   ],
   "source": [
    "gdp = sum(components)\n",
    "components.insert(0, gdp)\n",
    "components"
   ]
  },
  {
   "cell_type": "markdown",
   "id": "7bfebb3b-ade8-4c93-9339-08265664aa4a",
   "metadata": {
    "id": "7bfebb3b-ade8-4c93-9339-08265664aa4a"
   },
   "source": [
    "### (4)"
   ]
  },
  {
   "cell_type": "code",
   "execution_count": 5,
   "id": "8a4d3cda-3617-4905-939f-7fa3eb860e3d",
   "metadata": {
    "colab": {
     "base_uri": "https://localhost:8080/"
    },
    "executionInfo": {
     "elapsed": 77,
     "status": "ok",
     "timestamp": 1751098549617,
     "user": {
      "displayName": "T Haruyama",
      "userId": "09851044792665346893"
     },
     "user_tz": -540
    },
    "id": "8a4d3cda-3617-4905-939f-7fa3eb860e3d",
    "outputId": "c34fce1b-089d-4f09-a6db-1dc6c438a08b"
   },
   "outputs": [
    {
     "data": {
      "text/plain": [
       "True"
      ]
     },
     "execution_count": 5,
     "metadata": {},
     "output_type": "execute_result"
    }
   ],
   "source": [
    "components[0] == sum( components[1:] )"
   ]
  },
  {
   "cell_type": "markdown",
   "id": "89746e51-d1da-4478-9f72-4a0ea3ca2376",
   "metadata": {
    "id": "89746e51-d1da-4478-9f72-4a0ea3ca2376"
   },
   "source": [
    "## 演習2"
   ]
  },
  {
   "cell_type": "code",
   "execution_count": 6,
   "id": "66ded410-5279-4a52-b35b-3f5aa7cb8502",
   "metadata": {
    "executionInfo": {
     "elapsed": 1,
     "status": "ok",
     "timestamp": 1751098549618,
     "user": {
      "displayName": "T Haruyama",
      "userId": "09851044792665346893"
     },
     "user_tz": -540
    },
    "id": "66ded410-5279-4a52-b35b-3f5aa7cb8502"
   },
   "outputs": [],
   "source": [
    "growth = [-4.2, 2.7, 0.9, 1.4, 0.2]"
   ]
  },
  {
   "cell_type": "code",
   "execution_count": 7,
   "id": "5e7f5eda-2f3b-41ee-9a64-caf9f2488054",
   "metadata": {
    "colab": {
     "base_uri": "https://localhost:8080/"
    },
    "executionInfo": {
     "elapsed": 3,
     "status": "ok",
     "timestamp": 1751098549622,
     "user": {
      "displayName": "T Haruyama",
      "userId": "09851044792665346893"
     },
     "user_tz": -540
    },
    "id": "5e7f5eda-2f3b-41ee-9a64-caf9f2488054",
    "outputId": "c2d9a84e-e0fb-4f77-fcd6-17b8f66555ac"
   },
   "outputs": [
    {
     "data": {
      "text/plain": [
       "6.9"
      ]
     },
     "execution_count": 7,
     "metadata": {},
     "output_type": "execute_result"
    }
   ],
   "source": [
    "growth.sort()\n",
    "growth[-1] - growth[0]"
   ]
  },
  {
   "cell_type": "markdown",
   "id": "5d270454-56cc-4a96-80c0-d38a0d24b237",
   "metadata": {
    "id": "5d270454-56cc-4a96-80c0-d38a0d24b237"
   },
   "source": [
    "## 演習3"
   ]
  },
  {
   "cell_type": "code",
   "execution_count": 8,
   "id": "126e338d-a4fa-4bbc-a78f-ee3016ad3a15",
   "metadata": {
    "executionInfo": {
     "elapsed": 1,
     "status": "ok",
     "timestamp": 1751098549623,
     "user": {
      "displayName": "T Haruyama",
      "userId": "09851044792665346893"
     },
     "user_tz": -540
    },
    "id": "126e338d-a4fa-4bbc-a78f-ee3016ad3a15"
   },
   "outputs": [],
   "source": [
    "gdp_data = {\"UK\":    3_839.2, \"USA\":    30_507.2,\n",
    "            \"India\": 4_186.4, \"Japan\":   4_187.0,\n",
    "            \"China\":19_231.7, \"Germany\": 4_744.8}"
   ]
  },
  {
   "cell_type": "markdown",
   "id": "09aeaebb-37ae-4f73-bcc4-643c380cc02f",
   "metadata": {
    "id": "09aeaebb-37ae-4f73-bcc4-643c380cc02f"
   },
   "source": [
    "### (1)"
   ]
  },
  {
   "cell_type": "code",
   "execution_count": 9,
   "id": "f5c02a3d-220b-4dc0-9c1d-6479bca00f28",
   "metadata": {
    "colab": {
     "base_uri": "https://localhost:8080/"
    },
    "executionInfo": {
     "elapsed": 2,
     "status": "ok",
     "timestamp": 1751098549625,
     "user": {
      "displayName": "T Haruyama",
      "userId": "09851044792665346893"
     },
     "user_tz": -540
    },
    "id": "f5c02a3d-220b-4dc0-9c1d-6479bca00f28",
    "outputId": "652864bb-8803-465c-f0fa-132461d463c5"
   },
   "outputs": [
    {
     "data": {
      "text/plain": [
       "['China', 'Germany', 'India', 'Japan', 'UK', 'USA']"
      ]
     },
     "execution_count": 9,
     "metadata": {},
     "output_type": "execute_result"
    }
   ],
   "source": [
    "countries = list( gdp_data.keys() )\n",
    "sorted(countries)"
   ]
  },
  {
   "cell_type": "markdown",
   "id": "b7ff248a-f895-4dca-a816-fc20e0ff4d91",
   "metadata": {
    "id": "b7ff248a-f895-4dca-a816-fc20e0ff4d91"
   },
   "source": [
    "### (2)"
   ]
  },
  {
   "cell_type": "code",
   "execution_count": 10,
   "id": "b78ad304-aa00-4847-a940-ccca61cb8ee2",
   "metadata": {
    "colab": {
     "base_uri": "https://localhost:8080/"
    },
    "executionInfo": {
     "elapsed": 9,
     "status": "ok",
     "timestamp": 1751098549635,
     "user": {
      "displayName": "T Haruyama",
      "userId": "09851044792665346893"
     },
     "user_tz": -540
    },
    "id": "b78ad304-aa00-4847-a940-ccca61cb8ee2",
    "outputId": "f64fcbad-126b-4db9-a034-1bc960e95002"
   },
   "outputs": [
    {
     "data": {
      "text/plain": [
       "66696.3"
      ]
     },
     "execution_count": 10,
     "metadata": {},
     "output_type": "execute_result"
    }
   ],
   "source": [
    "total_gdp = sum( gdp_data.values() )\n",
    "total_gdp"
   ]
  },
  {
   "cell_type": "markdown",
   "id": "532310f0-c1d6-43a8-8ee8-fdbbe50d596d",
   "metadata": {
    "id": "532310f0-c1d6-43a8-8ee8-fdbbe50d596d"
   },
   "source": [
    "### (3)"
   ]
  },
  {
   "cell_type": "code",
   "execution_count": 11,
   "id": "a151002b-6041-4b99-a928-8ca37a70b636",
   "metadata": {
    "colab": {
     "base_uri": "https://localhost:8080/",
     "height": 35
    },
    "executionInfo": {
     "elapsed": 2,
     "status": "ok",
     "timestamp": 1751098549638,
     "user": {
      "displayName": "T Haruyama",
      "userId": "09851044792665346893"
     },
     "user_tz": -540
    },
    "id": "a151002b-6041-4b99-a928-8ca37a70b636",
    "outputId": "af1377e2-52e5-4f54-f611-e0f2e8db150d"
   },
   "outputs": [
    {
     "data": {
      "application/vnd.google.colaboratory.intrinsic+json": {
       "type": "string"
      },
      "text/plain": [
       "'含まれていません'"
      ]
     },
     "execution_count": 11,
     "metadata": {},
     "output_type": "execute_result"
    }
   ],
   "source": [
    "gdp_data.get(\"France\", \"含まれていません\")"
   ]
  },
  {
   "cell_type": "markdown",
   "id": "1a73c99a-64e7-4966-a6d5-ecf14add62a8",
   "metadata": {
    "id": "1a73c99a-64e7-4966-a6d5-ecf14add62a8"
   },
   "source": [
    "## 演習4"
   ]
  },
  {
   "cell_type": "code",
   "execution_count": 12,
   "id": "5dc26f5b-c348-4dc2-aff0-999debca11e5",
   "metadata": {
    "executionInfo": {
     "elapsed": 7,
     "status": "ok",
     "timestamp": 1751098549646,
     "user": {
      "displayName": "T Haruyama",
      "userId": "09851044792665346893"
     },
     "user_tz": -540
    },
    "id": "5dc26f5b-c348-4dc2-aff0-999debca11e5"
   },
   "outputs": [],
   "source": [
    "headline = \"Japan's GDP Contracts by 0.2% in Q1 2025\""
   ]
  },
  {
   "cell_type": "markdown",
   "id": "d17f388c-85c1-47b9-9b80-66e852b167b0",
   "metadata": {
    "id": "d17f388c-85c1-47b9-9b80-66e852b167b0"
   },
   "source": [
    "### (1)"
   ]
  },
  {
   "cell_type": "code",
   "execution_count": 13,
   "id": "e0a398d1-ee29-472b-bd59-237abba125a5",
   "metadata": {
    "colab": {
     "base_uri": "https://localhost:8080/",
     "height": 35
    },
    "executionInfo": {
     "elapsed": 4,
     "status": "ok",
     "timestamp": 1751098549651,
     "user": {
      "displayName": "T Haruyama",
      "userId": "09851044792665346893"
     },
     "user_tz": -540
    },
    "id": "e0a398d1-ee29-472b-bd59-237abba125a5",
    "outputId": "ead0d22e-db07-454c-8642-0d2a4fda76f6"
   },
   "outputs": [
    {
     "data": {
      "application/vnd.google.colaboratory.intrinsic+json": {
       "type": "string"
      },
      "text/plain": [
       "\"Japan's GDP Contracts by 0.2% in First Quarter 2025\""
      ]
     },
     "execution_count": 13,
     "metadata": {},
     "output_type": "execute_result"
    }
   ],
   "source": [
    "headline.replace(\"Q1\", \"First Quarter\")"
   ]
  },
  {
   "cell_type": "markdown",
   "id": "8ce86c58-aa5b-4a67-a63b-f9f5b596151d",
   "metadata": {
    "id": "8ce86c58-aa5b-4a67-a63b-f9f5b596151d"
   },
   "source": [
    "### (2)"
   ]
  },
  {
   "cell_type": "code",
   "execution_count": 14,
   "id": "d3f0a65d-d698-4c10-bfcf-2ba22e8d52ea",
   "metadata": {
    "colab": {
     "base_uri": "https://localhost:8080/",
     "height": 35
    },
    "executionInfo": {
     "elapsed": 3,
     "status": "ok",
     "timestamp": 1751098549660,
     "user": {
      "displayName": "T Haruyama",
      "userId": "09851044792665346893"
     },
     "user_tz": -540
    },
    "id": "d3f0a65d-d698-4c10-bfcf-2ba22e8d52ea",
    "outputId": "20b99394-d491-4fb6-97dc-02eb7d11f9e3"
   },
   "outputs": [
    {
     "data": {
      "application/vnd.google.colaboratory.intrinsic+json": {
       "type": "string"
      },
      "text/plain": [
       "\"Japan's GDP Contracts by 0.2 Percent in Q1 2025\""
      ]
     },
     "execution_count": 14,
     "metadata": {},
     "output_type": "execute_result"
    }
   ],
   "source": [
    "headline.replace(\"%\", \" Percent\")"
   ]
  },
  {
   "cell_type": "markdown",
   "id": "371fe99d-b7b6-45d4-a7f1-418695352ae1",
   "metadata": {
    "id": "371fe99d-b7b6-45d4-a7f1-418695352ae1"
   },
   "source": [
    "### (3)"
   ]
  },
  {
   "cell_type": "code",
   "execution_count": 15,
   "id": "77d3fc89-e10c-48c7-bc42-883449f75940",
   "metadata": {
    "colab": {
     "base_uri": "https://localhost:8080/",
     "height": 35
    },
    "executionInfo": {
     "elapsed": 13,
     "status": "ok",
     "timestamp": 1751098549671,
     "user": {
      "displayName": "T Haruyama",
      "userId": "09851044792665346893"
     },
     "user_tz": -540
    },
    "id": "77d3fc89-e10c-48c7-bc42-883449f75940",
    "outputId": "730e37d5-fcd1-43fe-d43f-9e934e4d915f"
   },
   "outputs": [
    {
     "data": {
      "application/vnd.google.colaboratory.intrinsic+json": {
       "type": "string"
      },
      "text/plain": [
       "'gdp'"
      ]
     },
     "execution_count": 15,
     "metadata": {},
     "output_type": "execute_result"
    }
   ],
   "source": [
    "headline[8:8+3].lower()"
   ]
  },
  {
   "cell_type": "markdown",
   "id": "d6688b45-85e5-41af-a47e-3837dd5dcd7e",
   "metadata": {
    "id": "d6688b45-85e5-41af-a47e-3837dd5dcd7e"
   },
   "source": [
    "### (4)"
   ]
  },
  {
   "cell_type": "code",
   "execution_count": 16,
   "id": "0010a939-9001-4c39-acb7-14456a8900b2",
   "metadata": {
    "colab": {
     "base_uri": "https://localhost:8080/"
    },
    "executionInfo": {
     "elapsed": 47,
     "status": "ok",
     "timestamp": 1751098549714,
     "user": {
      "displayName": "T Haruyama",
      "userId": "09851044792665346893"
     },
     "user_tz": -540
    },
    "id": "0010a939-9001-4c39-acb7-14456a8900b2",
    "outputId": "b86d154f-60e8-42f8-fb9b-e4a9df374044"
   },
   "outputs": [
    {
     "data": {
      "text/plain": [
       "2025"
      ]
     },
     "execution_count": 16,
     "metadata": {},
     "output_type": "execute_result"
    }
   ],
   "source": [
    "int( headline[-4:] )"
   ]
  },
  {
   "cell_type": "code",
   "execution_count": 16,
   "id": "bf003529-42bd-4c87-ac77-dfb02fd5c1f7",
   "metadata": {
    "executionInfo": {
     "elapsed": 2,
     "status": "ok",
     "timestamp": 1751098549715,
     "user": {
      "displayName": "T Haruyama",
      "userId": "09851044792665346893"
     },
     "user_tz": -540
    },
    "id": "bf003529-42bd-4c87-ac77-dfb02fd5c1f7"
   },
   "outputs": [],
   "source": []
  }
 ],
 "metadata":{"kernelspec":{"display_name":"Python 3","name":"python3"},"language_info":{"name":"python"},"colab":{"provenance":[]}},
 "nbformat": 4,
 "nbformat_minor": 5
}
