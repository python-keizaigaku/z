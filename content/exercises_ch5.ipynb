{
 "cells": [
  {
   "cell_type": "markdown",
   "id": "0",
   "metadata": {
    "id": "e827df42-9f78-4549-9335-3501a84f1a0d"
   },
   "source": [
    "# 5章：演習問題の解答"
   ]
  },
  {
   "cell_type": "markdown",
   "id": "1",
   "metadata": {
    "id": "ac9db7b8-03b4-476c-add2-aa76f5db9273"
   },
   "source": [
    "## 演習1"
   ]
  },
  {
   "cell_type": "code",
   "execution_count": null,
   "id": "2",
   "metadata": {
    "executionInfo": {
     "elapsed": 6,
     "status": "ok",
     "timestamp": 1758078908906,
     "user": {
      "displayName": "T Haruyama",
      "userId": "09851044792665346893"
     },
     "user_tz": -540
    },
    "id": "9856f247-72eb-4790-9e70-65fb5b271255"
   },
   "outputs": [],
   "source": [
    "components = [298, 111, 145, 113, 110]"
   ]
  },
  {
   "cell_type": "markdown",
   "id": "3",
   "metadata": {
    "id": "3b842911-6ba9-40e2-9a25-5530498fc5d2"
   },
   "source": [
    "### (1)"
   ]
  },
  {
   "cell_type": "code",
   "execution_count": null,
   "id": "4",
   "metadata": {
    "colab": {
     "base_uri": "https://localhost:8080/"
    },
    "executionInfo": {
     "elapsed": 5,
     "status": "ok",
     "timestamp": 1758078908912,
     "user": {
      "displayName": "T Haruyama",
      "userId": "09851044792665346893"
     },
     "user_tz": -540
    },
    "id": "e5e8d42f-b551-4989-a589-1bc18b3f2e32",
    "outputId": "8094bd52-9120-4d61-d138-7438d276416f"
   },
   "outputs": [],
   "source": [
    "netx = components[-2] - components[-1]\n",
    "components.append(netx)\n",
    "components"
   ]
  },
  {
   "cell_type": "markdown",
   "id": "5",
   "metadata": {
    "id": "6066c89c-f3dd-4bea-aad0-bc1991d4adb9"
   },
   "source": [
    "### (2)"
   ]
  },
  {
   "cell_type": "code",
   "execution_count": null,
   "id": "6",
   "metadata": {
    "colab": {
     "base_uri": "https://localhost:8080/"
    },
    "executionInfo": {
     "elapsed": 3,
     "status": "ok",
     "timestamp": 1758078908915,
     "user": {
      "displayName": "T Haruyama",
      "userId": "09851044792665346893"
     },
     "user_tz": -540
    },
    "id": "711ebff4-43ea-4fe1-93ec-56fbca63f12e",
    "outputId": "d6d9ce9d-f3ec-47a9-b2a3-b12f59677a8a"
   },
   "outputs": [],
   "source": [
    "components.pop(3)    # 輸出のインデックスは3\n",
    "components.pop(3)    # 輸入のインデックスは3\n",
    "components"
   ]
  },
  {
   "cell_type": "markdown",
   "id": "7",
   "metadata": {
    "id": "3088f2ff-3da7-4159-adb0-4cf32e7f44a9"
   },
   "source": [
    "### (3)"
   ]
  },
  {
   "cell_type": "code",
   "execution_count": null,
   "id": "8",
   "metadata": {
    "colab": {
     "base_uri": "https://localhost:8080/"
    },
    "executionInfo": {
     "elapsed": 2,
     "status": "ok",
     "timestamp": 1758078908918,
     "user": {
      "displayName": "T Haruyama",
      "userId": "09851044792665346893"
     },
     "user_tz": -540
    },
    "id": "b740e01d-bd64-4594-94d8-67148f180e0b",
    "outputId": "fd318089-ba0a-4a72-cff2-25ecd4895774"
   },
   "outputs": [],
   "source": [
    "gdp = sum(components)\n",
    "components.insert(0, gdp)\n",
    "components"
   ]
  },
  {
   "cell_type": "markdown",
   "id": "9",
   "metadata": {
    "id": "7bfebb3b-ade8-4c93-9339-08265664aa4a"
   },
   "source": [
    "### (4)"
   ]
  },
  {
   "cell_type": "code",
   "execution_count": null,
   "id": "10",
   "metadata": {
    "colab": {
     "base_uri": "https://localhost:8080/"
    },
    "executionInfo": {
     "elapsed": 2,
     "status": "ok",
     "timestamp": 1758078908924,
     "user": {
      "displayName": "T Haruyama",
      "userId": "09851044792665346893"
     },
     "user_tz": -540
    },
    "id": "8a4d3cda-3617-4905-939f-7fa3eb860e3d",
    "outputId": "fab00077-d9a3-4bc9-c569-a781b0ab1751"
   },
   "outputs": [],
   "source": [
    "components[0] == sum( components[1:] )"
   ]
  },
  {
   "cell_type": "markdown",
   "id": "11",
   "metadata": {
    "id": "89746e51-d1da-4478-9f72-4a0ea3ca2376"
   },
   "source": [
    "## 演習2"
   ]
  },
  {
   "cell_type": "code",
   "execution_count": null,
   "id": "12",
   "metadata": {
    "executionInfo": {
     "elapsed": 1,
     "status": "ok",
     "timestamp": 1758078908925,
     "user": {
      "displayName": "T Haruyama",
      "userId": "09851044792665346893"
     },
     "user_tz": -540
    },
    "id": "66ded410-5279-4a52-b35b-3f5aa7cb8502"
   },
   "outputs": [],
   "source": [
    "growth = [-4.2, 2.7, 0.9, 1.4, 0.2]"
   ]
  },
  {
   "cell_type": "code",
   "execution_count": null,
   "id": "13",
   "metadata": {
    "colab": {
     "base_uri": "https://localhost:8080/"
    },
    "executionInfo": {
     "elapsed": 6,
     "status": "ok",
     "timestamp": 1758078908932,
     "user": {
      "displayName": "T Haruyama",
      "userId": "09851044792665346893"
     },
     "user_tz": -540
    },
    "id": "5e7f5eda-2f3b-41ee-9a64-caf9f2488054",
    "outputId": "0d28c27c-6737-4bf1-d8e4-24550e8bef45"
   },
   "outputs": [],
   "source": [
    "growth.sort()\n",
    "growth[-1] - growth[0]"
   ]
  },
  {
   "cell_type": "markdown",
   "id": "14",
   "metadata": {
    "id": "5d270454-56cc-4a96-80c0-d38a0d24b237"
   },
   "source": [
    "## 演習3"
   ]
  },
  {
   "cell_type": "code",
   "execution_count": null,
   "id": "15",
   "metadata": {
    "executionInfo": {
     "elapsed": 4,
     "status": "ok",
     "timestamp": 1758078908932,
     "user": {
      "displayName": "T Haruyama",
      "userId": "09851044792665346893"
     },
     "user_tz": -540
    },
    "id": "126e338d-a4fa-4bbc-a78f-ee3016ad3a15"
   },
   "outputs": [],
   "source": [
    "gdp_data = {\"UK\":    3_839.2, \"USA\":    30_507.2,\n",
    "            \"India\": 4_186.4, \"Japan\":   4_187.0,\n",
    "            \"China\":19_231.7, \"Germany\": 4_744.8}"
   ]
  },
  {
   "cell_type": "markdown",
   "id": "16",
   "metadata": {
    "id": "09aeaebb-37ae-4f73-bcc4-643c380cc02f"
   },
   "source": [
    "### (1)"
   ]
  },
  {
   "cell_type": "code",
   "execution_count": null,
   "id": "17",
   "metadata": {
    "colab": {
     "base_uri": "https://localhost:8080/"
    },
    "executionInfo": {
     "elapsed": 3,
     "status": "ok",
     "timestamp": 1758078908933,
     "user": {
      "displayName": "T Haruyama",
      "userId": "09851044792665346893"
     },
     "user_tz": -540
    },
    "id": "f5c02a3d-220b-4dc0-9c1d-6479bca00f28",
    "outputId": "6faa26cd-2d45-4bfb-b146-7cf83e37e8e2"
   },
   "outputs": [],
   "source": [
    "countries = list( gdp_data.keys() )\n",
    "sorted(countries)"
   ]
  },
  {
   "cell_type": "markdown",
   "id": "18",
   "metadata": {
    "id": "b7ff248a-f895-4dca-a816-fc20e0ff4d91"
   },
   "source": [
    "### (2)"
   ]
  },
  {
   "cell_type": "code",
   "execution_count": null,
   "id": "19",
   "metadata": {
    "colab": {
     "base_uri": "https://localhost:8080/"
    },
    "executionInfo": {
     "elapsed": 4,
     "status": "ok",
     "timestamp": 1758078908937,
     "user": {
      "displayName": "T Haruyama",
      "userId": "09851044792665346893"
     },
     "user_tz": -540
    },
    "id": "b78ad304-aa00-4847-a940-ccca61cb8ee2",
    "outputId": "7546efda-cc2d-43ed-8a0f-377054d5b785"
   },
   "outputs": [],
   "source": [
    "total_gdp = sum( gdp_data.values() )\n",
    "total_gdp"
   ]
  },
  {
   "cell_type": "markdown",
   "id": "20",
   "metadata": {
    "id": "532310f0-c1d6-43a8-8ee8-fdbbe50d596d"
   },
   "source": [
    "### (3)"
   ]
  },
  {
   "cell_type": "code",
   "execution_count": null,
   "id": "21",
   "metadata": {
    "colab": {
     "base_uri": "https://localhost:8080/",
     "height": 35
    },
    "executionInfo": {
     "elapsed": 2,
     "status": "ok",
     "timestamp": 1758078908940,
     "user": {
      "displayName": "T Haruyama",
      "userId": "09851044792665346893"
     },
     "user_tz": -540
    },
    "id": "a151002b-6041-4b99-a928-8ca37a70b636",
    "outputId": "e80dcd27-7bf9-4f3b-cbf8-d15a931bf90b"
   },
   "outputs": [],
   "source": [
    "gdp_data.get(\"France\", \"含まれていません\")"
   ]
  },
  {
   "cell_type": "markdown",
   "id": "22",
   "metadata": {
    "id": "1a73c99a-64e7-4966-a6d5-ecf14add62a8"
   },
   "source": [
    "## 演習4"
   ]
  },
  {
   "cell_type": "code",
   "execution_count": null,
   "id": "23",
   "metadata": {
    "executionInfo": {
     "elapsed": 0,
     "status": "ok",
     "timestamp": 1758078908941,
     "user": {
      "displayName": "T Haruyama",
      "userId": "09851044792665346893"
     },
     "user_tz": -540
    },
    "id": "5dc26f5b-c348-4dc2-aff0-999debca11e5"
   },
   "outputs": [],
   "source": [
    "headline = \"Japan's GDP Contracts by 0.2% in Q1 2025\""
   ]
  },
  {
   "cell_type": "markdown",
   "id": "24",
   "metadata": {
    "id": "d17f388c-85c1-47b9-9b80-66e852b167b0"
   },
   "source": [
    "### (1)"
   ]
  },
  {
   "cell_type": "code",
   "execution_count": null,
   "id": "25",
   "metadata": {
    "colab": {
     "base_uri": "https://localhost:8080/",
     "height": 35
    },
    "executionInfo": {
     "elapsed": 2,
     "status": "ok",
     "timestamp": 1758078908944,
     "user": {
      "displayName": "T Haruyama",
      "userId": "09851044792665346893"
     },
     "user_tz": -540
    },
    "id": "e0a398d1-ee29-472b-bd59-237abba125a5",
    "outputId": "d5be54e6-3bda-45a5-b7e2-13cfce6afc0e"
   },
   "outputs": [],
   "source": [
    "headline.replace(\"Q1\", \"First Quarter\")"
   ]
  },
  {
   "cell_type": "markdown",
   "id": "26",
   "metadata": {
    "id": "8ce86c58-aa5b-4a67-a63b-f9f5b596151d"
   },
   "source": [
    "### (2)"
   ]
  },
  {
   "cell_type": "code",
   "execution_count": null,
   "id": "27",
   "metadata": {
    "colab": {
     "base_uri": "https://localhost:8080/",
     "height": 35
    },
    "executionInfo": {
     "elapsed": 2,
     "status": "ok",
     "timestamp": 1758078908946,
     "user": {
      "displayName": "T Haruyama",
      "userId": "09851044792665346893"
     },
     "user_tz": -540
    },
    "id": "d3f0a65d-d698-4c10-bfcf-2ba22e8d52ea",
    "outputId": "bb32afe2-c47e-4611-fb64-2cf8f2a7a8ed"
   },
   "outputs": [],
   "source": [
    "headline.replace(\"%\", \" Percent\")"
   ]
  },
  {
   "cell_type": "markdown",
   "id": "28",
   "metadata": {
    "id": "371fe99d-b7b6-45d4-a7f1-418695352ae1"
   },
   "source": [
    "### (3)"
   ]
  },
  {
   "cell_type": "code",
   "execution_count": null,
   "id": "29",
   "metadata": {
    "colab": {
     "base_uri": "https://localhost:8080/",
     "height": 35
    },
    "executionInfo": {
     "elapsed": 2,
     "status": "ok",
     "timestamp": 1758078908949,
     "user": {
      "displayName": "T Haruyama",
      "userId": "09851044792665346893"
     },
     "user_tz": -540
    },
    "id": "77d3fc89-e10c-48c7-bc42-883449f75940",
    "outputId": "7633dea3-dc50-41c5-f2e2-f31efd2effd2"
   },
   "outputs": [],
   "source": [
    "headline[8:8+3].lower()"
   ]
  },
  {
   "cell_type": "markdown",
   "id": "30",
   "metadata": {
    "id": "d6688b45-85e5-41af-a47e-3837dd5dcd7e"
   },
   "source": [
    "### (4)"
   ]
  },
  {
   "cell_type": "code",
   "execution_count": null,
   "id": "31",
   "metadata": {
    "colab": {
     "base_uri": "https://localhost:8080/"
    },
    "executionInfo": {
     "elapsed": 9,
     "status": "ok",
     "timestamp": 1758078908959,
     "user": {
      "displayName": "T Haruyama",
      "userId": "09851044792665346893"
     },
     "user_tz": -540
    },
    "id": "0010a939-9001-4c39-acb7-14456a8900b2",
    "outputId": "07307da4-c2dc-4a2a-be49-d32bcb976393"
   },
   "outputs": [],
   "source": [
    "int( headline[-4:] )"
   ]
  },
  {
   "cell_type": "code",
   "execution_count": null,
   "id": "32",
   "metadata": {
    "executionInfo": {
     "elapsed": 2,
     "status": "ok",
     "timestamp": 1758078908960,
     "user": {
      "displayName": "T Haruyama",
      "userId": "09851044792665346893"
     },
     "user_tz": -540
    },
    "id": "bf003529-42bd-4c87-ac77-dfb02fd5c1f7"
   },
   "outputs": [],
   "source": []
  }
 ],
 "metadata": {
  "colab": {
   "provenance": []
  },
  "kernelspec": {
   "display_name": "Python 3",
   "name": "python3"
  },
  "language_info": {
   "name": "python"
  }
 },
 "nbformat": 4,
 "nbformat_minor": 5
}
