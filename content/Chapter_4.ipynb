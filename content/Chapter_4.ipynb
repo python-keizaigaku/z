{
 "cells": [
  {
   "cell_type": "markdown",
   "id": "0",
   "metadata": {
    "id": "88b92a63-be57-43ea-8194-b58339075e39"
   },
   "source": [
    "# 第4章：関数"
   ]
  },
  {
   "cell_type": "markdown",
   "id": "1",
   "metadata": {
    "id": "e8da2717-a718-492b-aac3-5ae880cd2a1d"
   },
   "source": [
    "## 関数とは"
   ]
  },
  {
   "cell_type": "markdown",
   "id": "2",
   "metadata": {
    "id": "6421be37-5ea4-42be-a10a-123540b290bb"
   },
   "source": [
    "## 組み込み関数"
   ]
  },
  {
   "cell_type": "markdown",
   "id": "3",
   "metadata": {
    "id": "463856b0-f6b2-4b19-b5f8-4ff9c5ad9ed4"
   },
   "source": [
    "### `print()`関数"
   ]
  },
  {
   "cell_type": "code",
   "execution_count": null,
   "id": "4",
   "metadata": {
    "colab": {
     "base_uri": "https://localhost:8080/"
    },
    "executionInfo": {
     "elapsed": 51,
     "status": "ok",
     "timestamp": 1758070141308,
     "user": {
      "displayName": "T Haruyama",
      "userId": "09851044792665346893"
     },
     "user_tz": -540
    },
    "id": "ffe7bed6-5e65-4fe9-b2ec-5b3d6c66b477",
    "outputId": "a763a764-7fe7-4a52-c89b-a786dab117e5"
   },
   "outputs": [],
   "source": [
    "print(\"GDPは557兆円\")"
   ]
  },
  {
   "cell_type": "markdown",
   "id": "5",
   "metadata": {
    "id": "JeVMvKoRCAr4"
   },
   "source": [
    "コード4.2.1"
   ]
  },
  {
   "cell_type": "code",
   "execution_count": null,
   "id": "6",
   "metadata": {
    "colab": {
     "base_uri": "https://localhost:8080/"
    },
    "executionInfo": {
     "elapsed": 57,
     "status": "ok",
     "timestamp": 1758070141367,
     "user": {
      "displayName": "T Haruyama",
      "userId": "09851044792665346893"
     },
     "user_tz": -540
    },
    "id": "q9OwH_DDA8G3",
    "outputId": "74f5e11f-1952-4ae8-f3f4-a8833ffe9266"
   },
   "outputs": [],
   "source": [
    "print(\"GDPは\\n557兆円\")"
   ]
  },
  {
   "cell_type": "markdown",
   "id": "7",
   "metadata": {
    "id": "PGFj9YkLCH6y"
   },
   "source": [
    "コード4.2.2"
   ]
  },
  {
   "cell_type": "code",
   "execution_count": null,
   "id": "8",
   "metadata": {
    "colab": {
     "base_uri": "https://localhost:8080/"
    },
    "executionInfo": {
     "elapsed": 35,
     "status": "ok",
     "timestamp": 1758070141368,
     "user": {
      "displayName": "T Haruyama",
      "userId": "09851044792665346893"
     },
     "user_tz": -540
    },
    "id": "2c0c61ca-3fe7-4892-a34b-b3a45363d7db",
    "outputId": "4bb42efd-0834-4162-d3b6-59279d155dbc"
   },
   "outputs": [],
   "source": [
    "\n",
    "consumption, gdp = 298, 557\n",
    "con_gdp_ratio = consumption / gdp\n",
    "\n",
    "print(f\"消費の対GDP比は{con_gdp_ratio}\")"
   ]
  },
  {
   "cell_type": "markdown",
   "id": "9",
   "metadata": {
    "id": "16f69888-1517-4a94-b0cb-8a9c8768660c"
   },
   "source": [
    "### 関数の呼び出しと実行"
   ]
  },
  {
   "cell_type": "markdown",
   "id": "10",
   "metadata": {
    "id": "0ad23539-3146-4ac7-8a97-b1b98c4dab47"
   },
   "source": [
    "### `type()`関数"
   ]
  },
  {
   "cell_type": "markdown",
   "id": "11",
   "metadata": {
    "id": "YPjoK_axDMYK"
   },
   "source": [
    "コード4.2.3"
   ]
  },
  {
   "cell_type": "code",
   "execution_count": null,
   "id": "12",
   "metadata": {
    "colab": {
     "base_uri": "https://localhost:8080/"
    },
    "executionInfo": {
     "elapsed": 28,
     "status": "ok",
     "timestamp": 1758070141369,
     "user": {
      "displayName": "T Haruyama",
      "userId": "09851044792665346893"
     },
     "user_tz": -540
    },
    "id": "afrZO5gjBXXv",
    "outputId": "cbb09c1b-82c5-4992-f2f8-b1e07546ffbc"
   },
   "outputs": [],
   "source": [
    "x = 3.14\n",
    "type(x)"
   ]
  },
  {
   "cell_type": "markdown",
   "id": "13",
   "metadata": {
    "id": "zWwjo0n6TeM4"
   },
   "source": [
    "#### 例4.1"
   ]
  },
  {
   "cell_type": "code",
   "execution_count": null,
   "id": "14",
   "metadata": {
    "colab": {
     "base_uri": "https://localhost:8080/"
    },
    "executionInfo": {
     "elapsed": 16,
     "status": "ok",
     "timestamp": 1758072840248,
     "user": {
      "displayName": "T Haruyama",
      "userId": "09851044792665346893"
     },
     "user_tz": -540
    },
    "id": "V89YaSsVTkEe",
    "outputId": "1346a8ad-156f-4283-fbd3-bb03c0d4c948"
   },
   "outputs": [],
   "source": [
    "type(10)"
   ]
  },
  {
   "cell_type": "code",
   "execution_count": null,
   "id": "15",
   "metadata": {
    "colab": {
     "base_uri": "https://localhost:8080/"
    },
    "executionInfo": {
     "elapsed": 35,
     "status": "ok",
     "timestamp": 1758072840284,
     "user": {
      "displayName": "T Haruyama",
      "userId": "09851044792665346893"
     },
     "user_tz": -540
    },
    "id": "vCbjzlpmTmJm",
    "outputId": "d9abd30e-a69e-4e0f-b08a-eec9a79906e9"
   },
   "outputs": [],
   "source": [
    "type(0.5)"
   ]
  },
  {
   "cell_type": "code",
   "execution_count": null,
   "id": "16",
   "metadata": {
    "colab": {
     "base_uri": "https://localhost:8080/"
    },
    "executionInfo": {
     "elapsed": 9,
     "status": "ok",
     "timestamp": 1758072840299,
     "user": {
      "displayName": "T Haruyama",
      "userId": "09851044792665346893"
     },
     "user_tz": -540
    },
    "id": "w88PM3ZETn9v",
    "outputId": "5aa37871-b6b7-4457-97ca-ef810d87a1c9"
   },
   "outputs": [],
   "source": [
    "type(\"GDP\")"
   ]
  },
  {
   "cell_type": "code",
   "execution_count": null,
   "id": "17",
   "metadata": {
    "colab": {
     "base_uri": "https://localhost:8080/"
    },
    "executionInfo": {
     "elapsed": 12,
     "status": "ok",
     "timestamp": 1758072850999,
     "user": {
      "displayName": "T Haruyama",
      "userId": "09851044792665346893"
     },
     "user_tz": -540
    },
    "id": "qnigWd2YTqgg",
    "outputId": "5b611689-a3e0-4772-e794-a9b952edee77"
   },
   "outputs": [],
   "source": [
    "type([1,2])"
   ]
  },
  {
   "cell_type": "code",
   "execution_count": null,
   "id": "18",
   "metadata": {
    "colab": {
     "base_uri": "https://localhost:8080/"
    },
    "executionInfo": {
     "elapsed": 12,
     "status": "ok",
     "timestamp": 1758072858440,
     "user": {
      "displayName": "T Haruyama",
      "userId": "09851044792665346893"
     },
     "user_tz": -540
    },
    "id": "xSgphFu5Ts9D",
    "outputId": "8ea61c6f-082a-4dc7-a7c3-d66dab7b48bf"
   },
   "outputs": [],
   "source": [
    "type((1,2))"
   ]
  },
  {
   "cell_type": "code",
   "execution_count": null,
   "id": "19",
   "metadata": {
    "colab": {
     "base_uri": "https://localhost:8080/"
    },
    "executionInfo": {
     "elapsed": 41,
     "status": "ok",
     "timestamp": 1758072871522,
     "user": {
      "displayName": "T Haruyama",
      "userId": "09851044792665346893"
     },
     "user_tz": -540
    },
    "id": "Hey5FFS3Tu58",
    "outputId": "6cc39506-2027-4def-ea7b-c701b4783eb8"
   },
   "outputs": [],
   "source": [
    "type({\"GDP\":592})"
   ]
  },
  {
   "cell_type": "code",
   "execution_count": null,
   "id": "20",
   "metadata": {
    "colab": {
     "base_uri": "https://localhost:8080/"
    },
    "executionInfo": {
     "elapsed": 13,
     "status": "ok",
     "timestamp": 1758072879424,
     "user": {
      "displayName": "T Haruyama",
      "userId": "09851044792665346893"
     },
     "user_tz": -540
    },
    "id": "LBBPK1oATyDZ",
    "outputId": "8aaa04ae-858a-4f1d-8893-d3244c1edf90"
   },
   "outputs": [],
   "source": [
    "type(True)"
   ]
  },
  {
   "cell_type": "markdown",
   "id": "21",
   "metadata": {
    "id": "1d53013e-4b2d-403e-86fe-a287b558d897"
   },
   "source": [
    "### さまざまな関数"
   ]
  },
  {
   "cell_type": "markdown",
   "id": "22",
   "metadata": {
    "id": "FvcX4tNtDTDn"
   },
   "source": [
    "表4.1"
   ]
  },
  {
   "cell_type": "code",
   "execution_count": null,
   "id": "23",
   "metadata": {
    "colab": {
     "base_uri": "https://localhost:8080/"
    },
    "executionInfo": {
     "elapsed": 28,
     "status": "ok",
     "timestamp": 1758070141370,
     "user": {
      "displayName": "T Haruyama",
      "userId": "09851044792665346893"
     },
     "user_tz": -540
    },
    "id": "8e0f7547-5596-4003-9586-1e34fc6a8f83",
    "outputId": "fe1ac02d-e60f-467a-8e79-4805260183fd"
   },
   "outputs": [],
   "source": [
    "max([1,5])"
   ]
  },
  {
   "cell_type": "markdown",
   "id": "24",
   "metadata": {
    "id": "tW3Pw9k0DXiM"
   },
   "source": [
    "表4.1"
   ]
  },
  {
   "cell_type": "code",
   "execution_count": null,
   "id": "25",
   "metadata": {
    "colab": {
     "base_uri": "https://localhost:8080/"
    },
    "executionInfo": {
     "elapsed": 16,
     "status": "ok",
     "timestamp": 1758070141374,
     "user": {
      "displayName": "T Haruyama",
      "userId": "09851044792665346893"
     },
     "user_tz": -540
    },
    "id": "wgXUnmUfBpmL",
    "outputId": "83342d93-17be-4c58-ad65-dc60d3937304"
   },
   "outputs": [],
   "source": [
    "min([1,5])"
   ]
  },
  {
   "cell_type": "markdown",
   "id": "26",
   "metadata": {
    "id": "7BjVaQ5NDYj-"
   },
   "source": [
    "表4.1"
   ]
  },
  {
   "cell_type": "code",
   "execution_count": null,
   "id": "27",
   "metadata": {
    "colab": {
     "base_uri": "https://localhost:8080/"
    },
    "executionInfo": {
     "elapsed": 19,
     "status": "ok",
     "timestamp": 1758070141394,
     "user": {
      "displayName": "T Haruyama",
      "userId": "09851044792665346893"
     },
     "user_tz": -540
    },
    "id": "GiZprVnKB0bh",
    "outputId": "83addd0d-e9b3-40ed-c63b-bd159d4a502c"
   },
   "outputs": [],
   "source": [
    "sum([1,5])"
   ]
  },
  {
   "cell_type": "markdown",
   "id": "28",
   "metadata": {
    "id": "BSjuRpVgDY8K"
   },
   "source": [
    "表4.1"
   ]
  },
  {
   "cell_type": "code",
   "execution_count": null,
   "id": "29",
   "metadata": {
    "colab": {
     "base_uri": "https://localhost:8080/"
    },
    "executionInfo": {
     "elapsed": 128,
     "status": "ok",
     "timestamp": 1758070141527,
     "user": {
      "displayName": "T Haruyama",
      "userId": "09851044792665346893"
     },
     "user_tz": -540
    },
    "id": "Pv7xz447B3w3",
    "outputId": "98b3dc4f-ac63-4266-b434-619bfe00ba07"
   },
   "outputs": [],
   "source": [
    "len([1,5])"
   ]
  },
  {
   "cell_type": "markdown",
   "id": "30",
   "metadata": {
    "id": "Ge1gAhpSDZkw"
   },
   "source": [
    "表4.1"
   ]
  },
  {
   "cell_type": "code",
   "execution_count": null,
   "id": "31",
   "metadata": {
    "colab": {
     "base_uri": "https://localhost:8080/"
    },
    "executionInfo": {
     "elapsed": 4,
     "status": "ok",
     "timestamp": 1758070141530,
     "user": {
      "displayName": "T Haruyama",
      "userId": "09851044792665346893"
     },
     "user_tz": -540
    },
    "id": "Vx5RwV14B5SC",
    "outputId": "65f146f0-2f1f-42c0-dac9-d5860165dec8"
   },
   "outputs": [],
   "source": [
    "sorted([5,1])"
   ]
  },
  {
   "cell_type": "markdown",
   "id": "32",
   "metadata": {
    "id": "NlUG_lfmDZ8t"
   },
   "source": [
    "表4.1"
   ]
  },
  {
   "cell_type": "code",
   "execution_count": null,
   "id": "33",
   "metadata": {
    "colab": {
     "base_uri": "https://localhost:8080/"
    },
    "executionInfo": {
     "elapsed": 6,
     "status": "ok",
     "timestamp": 1758070141537,
     "user": {
      "displayName": "T Haruyama",
      "userId": "09851044792665346893"
     },
     "user_tz": -540
    },
    "id": "LCc2f-2JCZwu",
    "outputId": "e739503f-f2e6-4804-96cd-49b463891808"
   },
   "outputs": [],
   "source": [
    "abs(-10)"
   ]
  },
  {
   "cell_type": "markdown",
   "id": "34",
   "metadata": {
    "id": "nWwO4e05DaSz"
   },
   "source": [
    "表4.1"
   ]
  },
  {
   "cell_type": "code",
   "execution_count": null,
   "id": "35",
   "metadata": {
    "colab": {
     "base_uri": "https://localhost:8080/"
    },
    "executionInfo": {
     "elapsed": 3,
     "status": "ok",
     "timestamp": 1758070141541,
     "user": {
      "displayName": "T Haruyama",
      "userId": "09851044792665346893"
     },
     "user_tz": -540
    },
    "id": "OtOi45Q7Cb7g",
    "outputId": "13d8bc2d-f68e-4891-fb5d-13e75f6336b7"
   },
   "outputs": [],
   "source": [
    "round(1.19, 1)"
   ]
  },
  {
   "cell_type": "markdown",
   "id": "36",
   "metadata": {
    "id": "DrbrVck0Dan-"
   },
   "source": [
    "表4.1"
   ]
  },
  {
   "cell_type": "code",
   "execution_count": null,
   "id": "37",
   "metadata": {
    "colab": {
     "base_uri": "https://localhost:8080/",
     "height": 35
    },
    "executionInfo": {
     "elapsed": 3,
     "status": "ok",
     "timestamp": 1758070141544,
     "user": {
      "displayName": "T Haruyama",
      "userId": "09851044792665346893"
     },
     "user_tz": -540
    },
    "id": "zXLpkwR4Cech",
    "outputId": "f6f24abc-c054-4961-e373-8f61493bb688"
   },
   "outputs": [],
   "source": [
    "str(0.5)"
   ]
  },
  {
   "cell_type": "markdown",
   "id": "38",
   "metadata": {
    "id": "hb0AJD6YDbLt"
   },
   "source": [
    "表4.1"
   ]
  },
  {
   "cell_type": "code",
   "execution_count": null,
   "id": "39",
   "metadata": {
    "colab": {
     "base_uri": "https://localhost:8080/"
    },
    "executionInfo": {
     "elapsed": 5,
     "status": "ok",
     "timestamp": 1758070141549,
     "user": {
      "displayName": "T Haruyama",
      "userId": "09851044792665346893"
     },
     "user_tz": -540
    },
    "id": "lXJfLYbICgsf",
    "outputId": "485fc1f7-9a3b-4657-c304-e6b28b3fa806"
   },
   "outputs": [],
   "source": [
    "int(\"10\")"
   ]
  },
  {
   "cell_type": "markdown",
   "id": "40",
   "metadata": {
    "id": "NMngVCrdDbvd"
   },
   "source": [
    "表4.1"
   ]
  },
  {
   "cell_type": "code",
   "execution_count": null,
   "id": "41",
   "metadata": {
    "colab": {
     "base_uri": "https://localhost:8080/"
    },
    "executionInfo": {
     "elapsed": 5,
     "status": "ok",
     "timestamp": 1758070141553,
     "user": {
      "displayName": "T Haruyama",
      "userId": "09851044792665346893"
     },
     "user_tz": -540
    },
    "id": "0T6PNONRCjkC",
    "outputId": "82caad6f-4f6b-4ce4-9186-3505575619b3"
   },
   "outputs": [],
   "source": [
    "float(\"1\")"
   ]
  },
  {
   "cell_type": "markdown",
   "id": "42",
   "metadata": {
    "id": "fEOkDL9XDcGj"
   },
   "source": [
    "表4.1"
   ]
  },
  {
   "cell_type": "code",
   "execution_count": null,
   "id": "43",
   "metadata": {
    "colab": {
     "base_uri": "https://localhost:8080/"
    },
    "executionInfo": {
     "elapsed": 37,
     "status": "ok",
     "timestamp": 1758070141591,
     "user": {
      "displayName": "T Haruyama",
      "userId": "09851044792665346893"
     },
     "user_tz": -540
    },
    "id": "FXjnfiXlCnSr",
    "outputId": "c3a5e91a-ccea-49ee-f6fb-ba620613de34"
   },
   "outputs": [],
   "source": [
    "list((1,5))"
   ]
  },
  {
   "cell_type": "markdown",
   "id": "44",
   "metadata": {
    "id": "uoPcISZKDc8s"
   },
   "source": [
    "表4.1"
   ]
  },
  {
   "cell_type": "code",
   "execution_count": null,
   "id": "45",
   "metadata": {
    "colab": {
     "base_uri": "https://localhost:8080/"
    },
    "executionInfo": {
     "elapsed": 31,
     "status": "ok",
     "timestamp": 1758070141607,
     "user": {
      "displayName": "T Haruyama",
      "userId": "09851044792665346893"
     },
     "user_tz": -540
    },
    "id": "1SJBz5PVCqOa",
    "outputId": "a155ccbd-9660-4280-9db4-a092e19ebc0c"
   },
   "outputs": [],
   "source": [
    "tuple([1,5])"
   ]
  },
  {
   "cell_type": "markdown",
   "id": "46",
   "metadata": {
    "id": "SCRvSpZdDdP5"
   },
   "source": [
    "表4.1"
   ]
  },
  {
   "cell_type": "code",
   "execution_count": null,
   "id": "47",
   "metadata": {
    "colab": {
     "base_uri": "https://localhost:8080/"
    },
    "executionInfo": {
     "elapsed": 24,
     "status": "ok",
     "timestamp": 1758070141608,
     "user": {
      "displayName": "T Haruyama",
      "userId": "09851044792665346893"
     },
     "user_tz": -540
    },
    "id": "HsWtywoyCsLM",
    "outputId": "5ad13320-55d0-46c7-d1fe-09565bbd07da"
   },
   "outputs": [],
   "source": [
    "set([1,5])"
   ]
  },
  {
   "cell_type": "markdown",
   "id": "48",
   "metadata": {
    "id": "KZM9OWA-Ddju"
   },
   "source": [
    "表4.1"
   ]
  },
  {
   "cell_type": "markdown",
   "id": "49",
   "metadata": {
    "id": "2EA6FkaECv5Q"
   },
   "source": [
    "### `range()`関数"
   ]
  },
  {
   "cell_type": "markdown",
   "id": "50",
   "metadata": {
    "id": "dX8Oj1B4Cze6"
   },
   "source": [
    "## ユーザー定義の関数"
   ]
  },
  {
   "cell_type": "markdown",
   "id": "51",
   "metadata": {
    "id": "jUwFdmOgC8NV"
   },
   "source": [
    "### 関数の書き方"
   ]
  },
  {
   "cell_type": "markdown",
   "id": "52",
   "metadata": {
    "id": "HhpFwhdiDCbT"
   },
   "source": [
    "### 簡単な例"
   ]
  },
  {
   "cell_type": "markdown",
   "id": "53",
   "metadata": {
    "id": "jKFIafKCDquh"
   },
   "source": [
    "コード4.3.1"
   ]
  },
  {
   "cell_type": "code",
   "execution_count": null,
   "id": "54",
   "metadata": {
    "id": "VOR4-8ARDFTy"
   },
   "outputs": [],
   "source": [
    "def squared(x, a, b):\n",
    "  y = a * x ** 2 + b\n",
    "  return y"
   ]
  },
  {
   "cell_type": "markdown",
   "id": "55",
   "metadata": {
    "id": "G-VztsnsDvMC"
   },
   "source": [
    "コード4.3.2"
   ]
  },
  {
   "cell_type": "code",
   "execution_count": null,
   "id": "56",
   "metadata": {
    "colab": {
     "base_uri": "https://localhost:8080/"
    },
    "executionInfo": {
     "elapsed": 2,
     "status": "ok",
     "timestamp": 1758070141611,
     "user": {
      "displayName": "T Haruyama",
      "userId": "09851044792665346893"
     },
     "user_tz": -540
    },
    "id": "5mV98aIYDLgS",
    "outputId": "9c0389cc-7e36-40b4-96ff-c64a0da63205"
   },
   "outputs": [],
   "source": [
    "squared(2, 1, 10)"
   ]
  },
  {
   "cell_type": "markdown",
   "id": "57",
   "metadata": {
    "id": "BgFy0gOrDQFe"
   },
   "source": [
    "### 関数を実行する際に`=`を使う"
   ]
  },
  {
   "cell_type": "markdown",
   "id": "58",
   "metadata": {
    "id": "QvuiMWEVDyoU"
   },
   "source": [
    "コード4.3.3"
   ]
  },
  {
   "cell_type": "code",
   "execution_count": null,
   "id": "59",
   "metadata": {
    "colab": {
     "base_uri": "https://localhost:8080/"
    },
    "executionInfo": {
     "elapsed": 3,
     "status": "ok",
     "timestamp": 1758070141620,
     "user": {
      "displayName": "T Haruyama",
      "userId": "09851044792665346893"
     },
     "user_tz": -540
    },
    "id": "wMXStZLQDVVF",
    "outputId": "efe6698e-53e1-45f6-d458-5f05227d38c4"
   },
   "outputs": [],
   "source": [
    "squared(2, b=10, a=1)"
   ]
  },
  {
   "cell_type": "markdown",
   "id": "60",
   "metadata": {
    "id": "TnPFaRM_DY3Z"
   },
   "source": [
    "### 関数を定義する際に`=`を使う"
   ]
  },
  {
   "cell_type": "markdown",
   "id": "61",
   "metadata": {
    "id": "zkmnIQMqD0B6"
   },
   "source": [
    "コード4.3.4"
   ]
  },
  {
   "cell_type": "code",
   "execution_count": null,
   "id": "62",
   "metadata": {
    "id": "L_FhpeSQDccf"
   },
   "outputs": [],
   "source": [
    "def squared(x, a, b=10):\n",
    "  return a * x ** 2 + b"
   ]
  },
  {
   "cell_type": "markdown",
   "id": "63",
   "metadata": {
    "id": "09845734-c442-4338-bbdf-9ab92265a112"
   },
   "source": [
    "## 関数の例"
   ]
  },
  {
   "cell_type": "markdown",
   "id": "64",
   "metadata": {
    "id": "836c1c96-8c7f-473d-ba74-e2d224bffaa7",
    "jp-MarkdownHeadingCollapsed": true
   },
   "source": [
    "### 将来価値"
   ]
  },
  {
   "cell_type": "markdown",
   "id": "65",
   "metadata": {
    "id": "ggu0PF34D4Se"
   },
   "source": [
    "コード4.4.1"
   ]
  },
  {
   "cell_type": "code",
   "execution_count": null,
   "id": "66",
   "metadata": {
    "colab": {
     "base_uri": "https://localhost:8080/"
    },
    "executionInfo": {
     "elapsed": 15,
     "status": "ok",
     "timestamp": 1758070141643,
     "user": {
      "displayName": "T Haruyama",
      "userId": "09851044792665346893"
     },
     "user_tz": -540
    },
    "id": "24576156-e60f-4f6e-bf54-5bd8f513c370",
    "outputId": "e24c6fd1-233e-4b8f-b7d7-d2ff65364da3"
   },
   "outputs": [],
   "source": [
    "def future_value(x, r=0.03, t=10):\n",
    "    result = x * (1+r) ** t\n",
    "    return result\n",
    "\n",
    "future_value(100)"
   ]
  },
  {
   "cell_type": "markdown",
   "id": "67",
   "metadata": {
    "id": "Lwp1f3uxD59c"
   },
   "source": [
    "コード4.4.2"
   ]
  },
  {
   "cell_type": "code",
   "execution_count": null,
   "id": "68",
   "metadata": {
    "colab": {
     "base_uri": "https://localhost:8080/"
    },
    "executionInfo": {
     "elapsed": 14,
     "status": "ok",
     "timestamp": 1758070141658,
     "user": {
      "displayName": "T Haruyama",
      "userId": "09851044792665346893"
     },
     "user_tz": -540
    },
    "id": "536e4634-d7dd-4cd3-86c2-ffad171df71a",
    "outputId": "16f28479-78b3-48b8-bdc0-259c7b9fe1be"
   },
   "outputs": [],
   "source": [
    "def future_value2(x, r=0.03, t=10):\n",
    "\n",
    "    print(\"計算中です ...\")\n",
    "    result = x * (1+r) ** t\n",
    "    return result\n",
    "\n",
    "future_value2(100)"
   ]
  },
  {
   "cell_type": "markdown",
   "id": "69",
   "metadata": {
    "id": "ab7e9428-ebfa-4d44-9028-737be8f88def",
    "jp-MarkdownHeadingCollapsed": true
   },
   "source": [
    "### 需要・供給モデル"
   ]
  },
  {
   "cell_type": "markdown",
   "id": "70",
   "metadata": {
    "id": "_nhwrzqaD-xe"
   },
   "source": [
    "コード4.4.3"
   ]
  },
  {
   "cell_type": "code",
   "execution_count": null,
   "id": "71",
   "metadata": {
    "id": "qcv8Iqk2D1ns"
   },
   "outputs": [],
   "source": [
    "def demand(p):\n",
    "    return 40 / p**(0.1)"
   ]
  },
  {
   "cell_type": "markdown",
   "id": "72",
   "metadata": {
    "id": "0Wi4Ov68EAuV"
   },
   "source": [
    "コード4.4.4"
   ]
  },
  {
   "cell_type": "code",
   "execution_count": null,
   "id": "73",
   "metadata": {
    "id": "5nsLTPE7D3Zp"
   },
   "outputs": [],
   "source": [
    "def supply(p):\n",
    "    return p ** (1.5)"
   ]
  },
  {
   "cell_type": "markdown",
   "id": "74",
   "metadata": {
    "id": "2bOMMqVJECpZ"
   },
   "source": [
    "コード4.4.5"
   ]
  },
  {
   "cell_type": "code",
   "execution_count": null,
   "id": "75",
   "metadata": {
    "id": "2c039c3a-9f41-4724-937b-ac0261cc9496"
   },
   "outputs": [],
   "source": [
    "def d_larger_than_s(p):\n",
    "\n",
    "    d = demand(p)\n",
    "    s = supply(p)\n",
    "\n",
    "    print(f\"価格={p}\")\n",
    "    print(f\"需要={d:.2f}\")\n",
    "    print(f\"供給={s:.2f}\")\n",
    "\n",
    "    return d > s"
   ]
  },
  {
   "cell_type": "markdown",
   "id": "76",
   "metadata": {
    "id": "eAG1n0s7EFgx"
   },
   "source": [
    "コード4.4.6"
   ]
  },
  {
   "cell_type": "code",
   "execution_count": null,
   "id": "77",
   "metadata": {
    "colab": {
     "base_uri": "https://localhost:8080/"
    },
    "executionInfo": {
     "elapsed": 28,
     "status": "ok",
     "timestamp": 1758070141703,
     "user": {
      "displayName": "T Haruyama",
      "userId": "09851044792665346893"
     },
     "user_tz": -540
    },
    "id": "ztFmn3HtD-NO",
    "outputId": "67f85169-cc9a-4ce8-dbe9-7285d3fdb1e2"
   },
   "outputs": [],
   "source": [
    "d_larger_than_s(9)"
   ]
  },
  {
   "cell_type": "markdown",
   "id": "78",
   "metadata": {
    "id": "dc3ad74a-efe7-4916-8bdc-f080bf2404d9"
   },
   "source": [
    "## ドキュメンテーション文字列"
   ]
  },
  {
   "cell_type": "markdown",
   "id": "79",
   "metadata": {
    "id": "5NYX4Fn1EJG9"
   },
   "source": [
    "コード4.5.1"
   ]
  },
  {
   "cell_type": "code",
   "execution_count": null,
   "id": "80",
   "metadata": {
    "id": "daa36aca-1060-4c41-a136-19d567957081"
   },
   "outputs": [],
   "source": [
    "def future_value_docstring(x, r=0.03, t=10):\n",
    "    \"\"\"投資の将来価値を計算する\n",
    "    引数:\n",
    "      x (float): 初期投資額\n",
    "      r (float): 期待収益率（デフォルトは3％）\n",
    "      t (int): 投資期間（デフォルトは10年）\n",
    "    戻り値:\n",
    "      float: t年後の収益\"\"\"\n",
    "\n",
    "    result = x * (1+r)**t\n",
    "\n",
    "    return result"
   ]
  },
  {
   "cell_type": "code",
   "execution_count": null,
   "id": "81",
   "metadata": {
    "colab": {
     "base_uri": "https://localhost:8080/"
    },
    "executionInfo": {
     "elapsed": 6,
     "status": "ok",
     "timestamp": 1758070141716,
     "user": {
      "displayName": "T Haruyama",
      "userId": "09851044792665346893"
     },
     "user_tz": -540
    },
    "id": "c01538ec-e4cd-4456-a02a-7701a503df5f",
    "outputId": "bd56dcc3-633b-4105-9e68-bf2987d5d548"
   },
   "outputs": [],
   "source": [
    "help(future_value_docstring)"
   ]
  },
  {
   "cell_type": "markdown",
   "id": "82",
   "metadata": {
    "id": "76e98803-0084-4b4d-97c3-951eed47a6e7"
   },
   "source": [
    "## スコープ"
   ]
  },
  {
   "cell_type": "markdown",
   "id": "83",
   "metadata": {
    "id": "N33xwhY1EPJt"
   },
   "source": [
    "コード4.6.1"
   ]
  },
  {
   "cell_type": "code",
   "execution_count": null,
   "id": "84",
   "metadata": {
    "colab": {
     "base_uri": "https://localhost:8080/"
    },
    "executionInfo": {
     "elapsed": 1,
     "status": "ok",
     "timestamp": 1758070141718,
     "user": {
      "displayName": "T Haruyama",
      "userId": "09851044792665346893"
     },
     "user_tz": -540
    },
    "id": "8376a091-a00e-41eb-957b-3bfd00a21058",
    "outputId": "34b6baa0-191a-4f93-8e2d-09f41cb4468c"
   },
   "outputs": [],
   "source": [
    "v = \"Japan\"\n",
    "\n",
    "def local_scope():\n",
    "    v = \"日本\"\n",
    "    print(v)\n",
    "\n",
    "print(v)\n",
    "local_scope()"
   ]
  },
  {
   "cell_type": "markdown",
   "id": "85",
   "metadata": {
    "id": "G61u1nhVEQbG"
   },
   "source": [
    "コード4.6.2"
   ]
  },
  {
   "cell_type": "code",
   "execution_count": null,
   "id": "86",
   "metadata": {
    "colab": {
     "base_uri": "https://localhost:8080/",
     "height": 180
    },
    "executionInfo": {
     "elapsed": 7,
     "status": "error",
     "timestamp": 1758070141726,
     "user": {
      "displayName": "T Haruyama",
      "userId": "09851044792665346893"
     },
     "user_tz": -540
    },
    "id": "cb9f42ad-31da-44d2-98b8-b05ed407942d",
    "outputId": "15785d98-b86f-48d1-93e3-ec26c645ad12"
   },
   "outputs": [],
   "source": [
    "def local_scope():\n",
    "    v_local = \"日本\"\n",
    "    print(v)\n",
    "\n",
    "print(v_local)"
   ]
  }
 ],
 "metadata": {
  "colab": {
   "provenance": []
  },
  "kernelspec": {
   "display_name": "Python 3",
   "name": "python3"
  },
  "language_info": {
   "name": "python"
  }
 },
 "nbformat": 4,
 "nbformat_minor": 5
}
