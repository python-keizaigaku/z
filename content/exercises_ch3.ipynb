{
 "cells": [
  {
   "cell_type": "markdown",
   "id": "22f9f652-389e-40b8-bbe8-31f0d6f0b08b",
   "metadata": {
    "id": "22f9f652-389e-40b8-bbe8-31f0d6f0b08b"
   },
   "source": [
    "# 3章：演習問題の解答"
   ]
  },
  {
   "cell_type": "markdown",
   "id": "266af587-c539-4fa3-b163-f0cc56ff5fc9",
   "metadata": {
    "id": "266af587-c539-4fa3-b163-f0cc56ff5fc9"
   },
   "source": [
    "## 演習1"
   ]
  },
  {
   "cell_type": "code",
   "execution_count": 2,
   "id": "4edfdcbd-eb3b-4792-a031-32eb421ce26a",
   "metadata": {
    "executionInfo": {
     "elapsed": 8,
     "status": "ok",
     "timestamp": 1751098425957,
     "user": {
      "displayName": "T Haruyama",
      "userId": "09851044792665346893"
     },
     "user_tz": -540
    },
    "id": "4edfdcbd-eb3b-4792-a031-32eb421ce26a"
   },
   "outputs": [],
   "source": [
    "growth = [-4.2, 2.7, 0.9, 1.4, 0.2]"
   ]
  },
  {
   "cell_type": "markdown",
   "id": "0996c367-4eca-49ac-8195-74f5ffd62a89",
   "metadata": {
    "id": "0996c367-4eca-49ac-8195-74f5ffd62a89"
   },
   "source": [
    "### (1)"
   ]
  },
  {
   "cell_type": "code",
   "execution_count": 3,
   "id": "f889b9b6-17d0-4c74-bc81-f85f1206379d",
   "metadata": {
    "colab": {
     "base_uri": "https://localhost:8080/"
    },
    "executionInfo": {
     "elapsed": 33,
     "status": "ok",
     "timestamp": 1751098426024,
     "user": {
      "displayName": "T Haruyama",
      "userId": "09851044792665346893"
     },
     "user_tz": -540
    },
    "id": "f889b9b6-17d0-4c74-bc81-f85f1206379d",
    "outputId": "68198c41-4399-4f22-bac4-513e3a32e964"
   },
   "outputs": [
    {
     "data": {
      "text/plain": [
       "[-4.2, 2.7, 0.9]"
      ]
     },
     "execution_count": 3,
     "metadata": {},
     "output_type": "execute_result"
    }
   ],
   "source": [
    "early_years = growth[:3]\n",
    "early_years"
   ]
  },
  {
   "cell_type": "markdown",
   "id": "61ac0cfb-5ee5-433a-9dc5-e1afb4d31928",
   "metadata": {
    "id": "61ac0cfb-5ee5-433a-9dc5-e1afb4d31928"
   },
   "source": [
    "### (2)"
   ]
  },
  {
   "cell_type": "code",
   "execution_count": 4,
   "id": "8ef6bbc0-9634-4185-8ec7-b19ff5319d84",
   "metadata": {
    "colab": {
     "base_uri": "https://localhost:8080/"
    },
    "executionInfo": {
     "elapsed": 5,
     "status": "ok",
     "timestamp": 1751098426025,
     "user": {
      "displayName": "T Haruyama",
      "userId": "09851044792665346893"
     },
     "user_tz": -540
    },
    "id": "8ef6bbc0-9634-4185-8ec7-b19ff5319d84",
    "outputId": "750ff0d7-5fd9-4a91-b8ca-358a382fc544"
   },
   "outputs": [
    {
     "data": {
      "text/plain": [
       "[0.9, 1.4, 0.2]"
      ]
     },
     "execution_count": 4,
     "metadata": {},
     "output_type": "execute_result"
    }
   ],
   "source": [
    "recent_years = growth[-3:]\n",
    "recent_years"
   ]
  },
  {
   "cell_type": "markdown",
   "id": "e321d456-31ca-4d99-8193-0ffd31de058b",
   "metadata": {
    "id": "e321d456-31ca-4d99-8193-0ffd31de058b"
   },
   "source": [
    "### (3)"
   ]
  },
  {
   "cell_type": "code",
   "execution_count": 5,
   "id": "e1faab44-18a5-408e-b2b6-45bb82166727",
   "metadata": {
    "colab": {
     "base_uri": "https://localhost:8080/"
    },
    "executionInfo": {
     "elapsed": 4,
     "status": "ok",
     "timestamp": 1751098426028,
     "user": {
      "displayName": "T Haruyama",
      "userId": "09851044792665346893"
     },
     "user_tz": -540
    },
    "id": "e1faab44-18a5-408e-b2b6-45bb82166727",
    "outputId": "860609b9-aa44-4169-a0bf-de30f1247d88"
   },
   "outputs": [
    {
     "data": {
      "text/plain": [
       "6.9"
      ]
     },
     "execution_count": 5,
     "metadata": {},
     "output_type": "execute_result"
    }
   ],
   "source": [
    "growth[1] - growth[0]"
   ]
  },
  {
   "cell_type": "markdown",
   "id": "9bac0f11-f29b-4f48-adbf-c7b6f2fb7d18",
   "metadata": {
    "id": "9bac0f11-f29b-4f48-adbf-c7b6f2fb7d18"
   },
   "source": [
    "### (4)"
   ]
  },
  {
   "cell_type": "code",
   "execution_count": 6,
   "id": "0b2219e1-c310-42a3-b442-45a0ec242f61",
   "metadata": {
    "colab": {
     "base_uri": "https://localhost:8080/"
    },
    "executionInfo": {
     "elapsed": 16,
     "status": "ok",
     "timestamp": 1751098426044,
     "user": {
      "displayName": "T Haruyama",
      "userId": "09851044792665346893"
     },
     "user_tz": -540
    },
    "id": "0b2219e1-c310-42a3-b442-45a0ec242f61",
    "outputId": "e7ad9cfa-bffd-44b6-eb93-7bab589d4ad7"
   },
   "outputs": [
    {
     "data": {
      "text/plain": [
       "[-4.2, 2.7, 0.9, 1.4, 0.2, 0.6]"
      ]
     },
     "execution_count": 6,
     "metadata": {},
     "output_type": "execute_result"
    }
   ],
   "source": [
    "growth = growth + [0.6]\n",
    "growth"
   ]
  },
  {
   "cell_type": "markdown",
   "id": "8c64feb4-4def-47a6-bd88-70599ecc00f8",
   "metadata": {
    "id": "8c64feb4-4def-47a6-bd88-70599ecc00f8"
   },
   "source": [
    "## 演習2"
   ]
  },
  {
   "cell_type": "code",
   "execution_count": 7,
   "id": "e8242d13-a890-4102-9deb-b36a985ff3e2",
   "metadata": {
    "executionInfo": {
     "elapsed": 12,
     "status": "ok",
     "timestamp": 1751098426057,
     "user": {
      "displayName": "T Haruyama",
      "userId": "09851044792665346893"
     },
     "user_tz": -540
    },
    "id": "e8242d13-a890-4102-9deb-b36a985ff3e2"
   },
   "outputs": [],
   "source": [
    "dct = {\"GDP\":557, \"消費\":298, \"投資\":111}"
   ]
  },
  {
   "cell_type": "markdown",
   "id": "0e149782-bb5a-4d63-a427-7c25a10f995c",
   "metadata": {
    "id": "0e149782-bb5a-4d63-a427-7c25a10f995c"
   },
   "source": [
    "### (1)"
   ]
  },
  {
   "cell_type": "code",
   "execution_count": 8,
   "id": "6f595dcf-35b9-4cf6-ae04-b67b933754cb",
   "metadata": {
    "colab": {
     "base_uri": "https://localhost:8080/"
    },
    "executionInfo": {
     "elapsed": 56,
     "status": "ok",
     "timestamp": 1751098426112,
     "user": {
      "displayName": "T Haruyama",
      "userId": "09851044792665346893"
     },
     "user_tz": -540
    },
    "id": "6f595dcf-35b9-4cf6-ae04-b67b933754cb",
    "outputId": "487b4d28-9a3a-4519-f9d9-aa1438debb4e"
   },
   "outputs": [
    {
     "data": {
      "text/plain": [
       "0.5350089766606823"
      ]
     },
     "execution_count": 8,
     "metadata": {},
     "output_type": "execute_result"
    }
   ],
   "source": [
    "dct[\"消費\"] / dct[\"GDP\"]"
   ]
  },
  {
   "cell_type": "markdown",
   "id": "779f3878-1223-4df2-b71c-1b452fe80ac4",
   "metadata": {
    "id": "779f3878-1223-4df2-b71c-1b452fe80ac4"
   },
   "source": [
    "### (2)"
   ]
  },
  {
   "cell_type": "code",
   "execution_count": 9,
   "id": "8daec08b-93e2-43e1-9cb8-a7f67d080b8d",
   "metadata": {
    "colab": {
     "base_uri": "https://localhost:8080/"
    },
    "executionInfo": {
     "elapsed": 18,
     "status": "ok",
     "timestamp": 1751098426115,
     "user": {
      "displayName": "T Haruyama",
      "userId": "09851044792665346893"
     },
     "user_tz": -540
    },
    "id": "8daec08b-93e2-43e1-9cb8-a7f67d080b8d",
    "outputId": "be9578ea-8ff0-4889-eef1-9cafef6e1afa"
   },
   "outputs": [
    {
     "data": {
      "text/plain": [
       "19.92818671454219"
      ]
     },
     "execution_count": 9,
     "metadata": {},
     "output_type": "execute_result"
    }
   ],
   "source": [
    "100 * dct[\"投資\"] / dct[\"GDP\"]"
   ]
  },
  {
   "cell_type": "markdown",
   "id": "19a58f56-94c3-4127-8ae9-1ec524c6ec03",
   "metadata": {
    "id": "19a58f56-94c3-4127-8ae9-1ec524c6ec03"
   },
   "source": [
    "## 演習3"
   ]
  },
  {
   "cell_type": "code",
   "execution_count": 10,
   "id": "c2a30ca2-e68a-4933-9868-84df328b62ef",
   "metadata": {
    "executionInfo": {
     "elapsed": 3,
     "status": "ok",
     "timestamp": 1751098426146,
     "user": {
      "displayName": "T Haruyama",
      "userId": "09851044792665346893"
     },
     "user_tz": -540
    },
    "id": "c2a30ca2-e68a-4933-9868-84df328b62ef"
   },
   "outputs": [],
   "source": [
    "lst0 = [[\"GDP\", 557], [\"消費\", 298], [\"投資\", 111]]"
   ]
  },
  {
   "cell_type": "markdown",
   "id": "741888d1-007e-4608-aae6-403786dadc06",
   "metadata": {
    "id": "741888d1-007e-4608-aae6-403786dadc06"
   },
   "source": [
    "### (1)"
   ]
  },
  {
   "cell_type": "code",
   "execution_count": 11,
   "id": "0d73ddc7-a44c-4497-b18b-3173ae7a3d05",
   "metadata": {
    "colab": {
     "base_uri": "https://localhost:8080/"
    },
    "executionInfo": {
     "elapsed": 13,
     "status": "ok",
     "timestamp": 1751098426160,
     "user": {
      "displayName": "T Haruyama",
      "userId": "09851044792665346893"
     },
     "user_tz": -540
    },
    "id": "0d73ddc7-a44c-4497-b18b-3173ae7a3d05",
    "outputId": "efd7e023-f874-4f83-e46c-f877e1c3488a"
   },
   "outputs": [
    {
     "data": {
      "text/plain": [
       "0.5350089766606823"
      ]
     },
     "execution_count": 11,
     "metadata": {},
     "output_type": "execute_result"
    }
   ],
   "source": [
    "con = lst0[1]\n",
    "gdp = lst0[0]\n",
    "con[1] / gdp[1]\n",
    "\n",
    "# 以下でもOK\n",
    "# lst0[1][1] / lst0[0][1]"
   ]
  },
  {
   "cell_type": "markdown",
   "id": "8dc3ed86-d3aa-49bc-97fb-e3a26b97eb36",
   "metadata": {
    "id": "8dc3ed86-d3aa-49bc-97fb-e3a26b97eb36"
   },
   "source": [
    "### (2)"
   ]
  },
  {
   "cell_type": "code",
   "execution_count": 12,
   "id": "833ccf0c-3410-49ca-afdc-4391c2402cd5",
   "metadata": {
    "colab": {
     "base_uri": "https://localhost:8080/"
    },
    "executionInfo": {
     "elapsed": 13,
     "status": "ok",
     "timestamp": 1751098426174,
     "user": {
      "displayName": "T Haruyama",
      "userId": "09851044792665346893"
     },
     "user_tz": -540
    },
    "id": "833ccf0c-3410-49ca-afdc-4391c2402cd5",
    "outputId": "1fc3fce4-45cd-4c53-a7d0-1119e4077d3b"
   },
   "outputs": [
    {
     "data": {
      "text/plain": [
       "19.92818671454219"
      ]
     },
     "execution_count": 12,
     "metadata": {},
     "output_type": "execute_result"
    }
   ],
   "source": [
    "inv = lst0[-1]\n",
    "100 * inv[1] / gdp[1]\n",
    "\n",
    "# 以下でもOK\n",
    "# 100 * lst0[-1][1] / lst0[0][1]"
   ]
  },
  {
   "cell_type": "markdown",
   "id": "3418f498-b1ee-4bf9-9ce9-7a86d7780409",
   "metadata": {
    "id": "3418f498-b1ee-4bf9-9ce9-7a86d7780409"
   },
   "source": [
    "## 演習4"
   ]
  },
  {
   "cell_type": "code",
   "execution_count": 13,
   "id": "a6a2856e-3103-49f9-8c5c-8605ac5f4cee",
   "metadata": {
    "executionInfo": {
     "elapsed": 1,
     "status": "ok",
     "timestamp": 1751098426182,
     "user": {
      "displayName": "T Haruyama",
      "userId": "09851044792665346893"
     },
     "user_tz": -540
    },
    "id": "a6a2856e-3103-49f9-8c5c-8605ac5f4cee"
   },
   "outputs": [],
   "source": [
    "components = [298, 111, 145, 113, 110]"
   ]
  },
  {
   "cell_type": "markdown",
   "id": "6f120d06-973d-43b2-ac82-30fd4312e2ef",
   "metadata": {
    "id": "6f120d06-973d-43b2-ac82-30fd4312e2ef"
   },
   "source": [
    "### (1)"
   ]
  },
  {
   "cell_type": "code",
   "execution_count": 14,
   "id": "e64483a3-2905-49e2-ac1e-4352e9d37673",
   "metadata": {
    "colab": {
     "base_uri": "https://localhost:8080/"
    },
    "executionInfo": {
     "elapsed": 11,
     "status": "ok",
     "timestamp": 1751098426201,
     "user": {
      "displayName": "T Haruyama",
      "userId": "09851044792665346893"
     },
     "user_tz": -540
    },
    "id": "e64483a3-2905-49e2-ac1e-4352e9d37673",
    "outputId": "814370ec-4433-494c-ed0a-831752d3c288"
   },
   "outputs": [
    {
     "data": {
      "text/plain": [
       "[298, 111, 145]"
      ]
     },
     "execution_count": 14,
     "metadata": {},
     "output_type": "execute_result"
    }
   ],
   "source": [
    "components[:3]"
   ]
  },
  {
   "cell_type": "markdown",
   "id": "bac64c41-276a-46d9-a500-1e7250da4e38",
   "metadata": {
    "id": "bac64c41-276a-46d9-a500-1e7250da4e38"
   },
   "source": [
    "### (2)"
   ]
  },
  {
   "cell_type": "code",
   "execution_count": 15,
   "id": "e767d827-7c0b-4e1e-9677-c8931a056942",
   "metadata": {
    "colab": {
     "base_uri": "https://localhost:8080/"
    },
    "executionInfo": {
     "elapsed": 13,
     "status": "ok",
     "timestamp": 1751098426215,
     "user": {
      "displayName": "T Haruyama",
      "userId": "09851044792665346893"
     },
     "user_tz": -540
    },
    "id": "e767d827-7c0b-4e1e-9677-c8931a056942",
    "outputId": "1a51ca99-b557-4a3c-bf18-7fef08e48ffa"
   },
   "outputs": [
    {
     "data": {
      "text/plain": [
       "[111, 145, 113]"
      ]
     },
     "execution_count": 15,
     "metadata": {},
     "output_type": "execute_result"
    }
   ],
   "source": [
    "components[1:-1]"
   ]
  },
  {
   "cell_type": "markdown",
   "id": "3c92ec10-6417-4fe0-ae73-c28ff6649337",
   "metadata": {
    "id": "3c92ec10-6417-4fe0-ae73-c28ff6649337"
   },
   "source": [
    "純輸出を計算しなさい。"
   ]
  },
  {
   "cell_type": "code",
   "execution_count": 16,
   "id": "01db21ff-874a-4d23-ac06-0c2ac85b1a21",
   "metadata": {
    "colab": {
     "base_uri": "https://localhost:8080/"
    },
    "executionInfo": {
     "elapsed": 11,
     "status": "ok",
     "timestamp": 1751098426227,
     "user": {
      "displayName": "T Haruyama",
      "userId": "09851044792665346893"
     },
     "user_tz": -540
    },
    "id": "01db21ff-874a-4d23-ac06-0c2ac85b1a21",
    "outputId": "ad52f9fe-cdb1-4772-b6ec-c4c9356050c3"
   },
   "outputs": [
    {
     "data": {
      "text/plain": [
       "3"
      ]
     },
     "execution_count": 16,
     "metadata": {},
     "output_type": "execute_result"
    }
   ],
   "source": [
    "components[-2] - components[-1]"
   ]
  },
  {
   "cell_type": "markdown",
   "id": "c879b6d2-210a-4e49-bb43-19c0b90575b7",
   "metadata": {
    "id": "c879b6d2-210a-4e49-bb43-19c0b90575b7"
   },
   "source": [
    "## 演習5"
   ]
  },
  {
   "cell_type": "code",
   "execution_count": 17,
   "id": "8565f4eb-0961-4ab0-9e1b-e6e049d0f460",
   "metadata": {
    "executionInfo": {
     "elapsed": 26,
     "status": "ok",
     "timestamp": 1751098426253,
     "user": {
      "displayName": "T Haruyama",
      "userId": "09851044792665346893"
     },
     "user_tz": -540
    },
    "id": "8565f4eb-0961-4ab0-9e1b-e6e049d0f460"
   },
   "outputs": [],
   "source": [
    "gdp = {\"rgdp\":557_434.1, \"deflator\":109.3, \"ex\":151.37}"
   ]
  },
  {
   "cell_type": "markdown",
   "id": "b310c0f1-4df4-4cbe-aa52-f986b873f7e7",
   "metadata": {
    "id": "b310c0f1-4df4-4cbe-aa52-f986b873f7e7"
   },
   "source": [
    "### (1)"
   ]
  },
  {
   "cell_type": "code",
   "execution_count": 18,
   "id": "5700da46-aa35-4198-a6c6-30ce4fed911b",
   "metadata": {
    "colab": {
     "base_uri": "https://localhost:8080/"
    },
    "executionInfo": {
     "elapsed": 4,
     "status": "ok",
     "timestamp": 1751098426254,
     "user": {
      "displayName": "T Haruyama",
      "userId": "09851044792665346893"
     },
     "user_tz": -540
    },
    "id": "5700da46-aa35-4198-a6c6-30ce4fed911b",
    "outputId": "fa656d56-9d49-4424-a5d2-b09c8143f0af"
   },
   "outputs": [
    {
     "data": {
      "text/plain": [
       "151.37"
      ]
     },
     "execution_count": 18,
     "metadata": {},
     "output_type": "execute_result"
    }
   ],
   "source": [
    "gdp[\"ex\"]"
   ]
  },
  {
   "cell_type": "markdown",
   "id": "5c1f061b-d508-428b-9dd1-2203cc15352f",
   "metadata": {
    "id": "5c1f061b-d508-428b-9dd1-2203cc15352f"
   },
   "source": [
    "### (2)"
   ]
  },
  {
   "cell_type": "code",
   "execution_count": 19,
   "id": "fdd5b230-b513-455d-ac21-d43a7d5668ae",
   "metadata": {
    "colab": {
     "base_uri": "https://localhost:8080/"
    },
    "executionInfo": {
     "elapsed": 15,
     "status": "ok",
     "timestamp": 1751098426269,
     "user": {
      "displayName": "T Haruyama",
      "userId": "09851044792665346893"
     },
     "user_tz": -540
    },
    "id": "fdd5b230-b513-455d-ac21-d43a7d5668ae",
    "outputId": "2a238d28-842a-40f4-a9b7-1b4fcae2cc97"
   },
   "outputs": [
    {
     "data": {
      "text/plain": [
       "{'rgdp': 557434.1, 'deflator': 109.3, 'ex': 151.37, 'ngdp': 60927547.129999995}"
      ]
     },
     "execution_count": 19,
     "metadata": {},
     "output_type": "execute_result"
    }
   ],
   "source": [
    "gdp[\"ngdp\"] = gdp[\"rgdp\"] * gdp[\"deflator\"]\n",
    "gdp"
   ]
  },
  {
   "cell_type": "markdown",
   "id": "cb675a1d-74e8-446b-a526-9bee7e305de1",
   "metadata": {
    "id": "cb675a1d-74e8-446b-a526-9bee7e305de1"
   },
   "source": [
    "### (3)"
   ]
  },
  {
   "cell_type": "code",
   "execution_count": 20,
   "id": "825f2ec2-f711-4c31-a483-10407747fd7d",
   "metadata": {
    "colab": {
     "base_uri": "https://localhost:8080/"
    },
    "executionInfo": {
     "elapsed": 19,
     "status": "ok",
     "timestamp": 1751098426277,
     "user": {
      "displayName": "T Haruyama",
      "userId": "09851044792665346893"
     },
     "user_tz": -540
    },
    "id": "825f2ec2-f711-4c31-a483-10407747fd7d",
    "outputId": "cf546dd4-3d6d-4799-c56f-2bb8253a26e0"
   },
   "outputs": [
    {
     "data": {
      "text/plain": [
       "{'ngdp_dollar': 402507.41315980704}"
      ]
     },
     "execution_count": 20,
     "metadata": {},
     "output_type": "execute_result"
    }
   ],
   "source": [
    "ngdp_dollar = gdp[\"ngdp\"] / gdp[\"ex\"]\n",
    "gdp_new = {\"ngdp_dollar\":ngdp_dollar}\n",
    "gdp_new"
   ]
  },
  {
   "cell_type": "markdown",
   "id": "e94c7392-6e33-4a78-b245-7bfde89ce157",
   "metadata": {
    "id": "e94c7392-6e33-4a78-b245-7bfde89ce157"
   },
   "source": [
    "### (4)"
   ]
  },
  {
   "cell_type": "code",
   "execution_count": 21,
   "id": "100ce54f-39ea-4ff0-a49d-05d24d80ce50",
   "metadata": {
    "colab": {
     "base_uri": "https://localhost:8080/"
    },
    "executionInfo": {
     "elapsed": 4,
     "status": "ok",
     "timestamp": 1751098426283,
     "user": {
      "displayName": "T Haruyama",
      "userId": "09851044792665346893"
     },
     "user_tz": -540
    },
    "id": "100ce54f-39ea-4ff0-a49d-05d24d80ce50",
    "outputId": "e328a060-3870-4c7b-eaf4-c3ec8e15e937"
   },
   "outputs": [
    {
     "data": {
      "text/plain": [
       "{'rgdp': 557434.1,\n",
       " 'deflator': 109.3,\n",
       " 'ex': 151.37,\n",
       " 'ngdp': 60927547.129999995,\n",
       " 'ngdp_dollar': 402507.41315980704}"
      ]
     },
     "execution_count": 21,
     "metadata": {},
     "output_type": "execute_result"
    }
   ],
   "source": [
    "gdp | gdp_new"
   ]
  }
 ],
 "metadata":{"kernelspec":{"display_name":"Python 3","name":"python3"},"language_info":{"name":"python"},"colab":{"provenance":[]}},
 "nbformat": 4,
 "nbformat_minor": 5
}
