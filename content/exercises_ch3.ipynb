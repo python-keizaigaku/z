{
 "cells": [
  {
   "cell_type": "markdown",
   "id": "0",
   "metadata": {
    "id": "22f9f652-389e-40b8-bbe8-31f0d6f0b08b"
   },
   "source": [
    "# 3章：演習問題の解答"
   ]
  },
  {
   "cell_type": "markdown",
   "id": "1",
   "metadata": {
    "id": "266af587-c539-4fa3-b163-f0cc56ff5fc9"
   },
   "source": [
    "## 演習1"
   ]
  },
  {
   "cell_type": "code",
   "execution_count": null,
   "id": "2",
   "metadata": {
    "executionInfo": {
     "elapsed": 8,
     "status": "ok",
     "timestamp": 1758078818885,
     "user": {
      "displayName": "T Haruyama",
      "userId": "09851044792665346893"
     },
     "user_tz": -540
    },
    "id": "4edfdcbd-eb3b-4792-a031-32eb421ce26a"
   },
   "outputs": [],
   "source": [
    "growth = [-4.2, 2.7, 0.9, 1.4, 0.2]"
   ]
  },
  {
   "cell_type": "markdown",
   "id": "3",
   "metadata": {
    "id": "0996c367-4eca-49ac-8195-74f5ffd62a89"
   },
   "source": [
    "### (1)"
   ]
  },
  {
   "cell_type": "code",
   "execution_count": null,
   "id": "4",
   "metadata": {
    "colab": {
     "base_uri": "https://localhost:8080/"
    },
    "executionInfo": {
     "elapsed": 60,
     "status": "ok",
     "timestamp": 1758078818944,
     "user": {
      "displayName": "T Haruyama",
      "userId": "09851044792665346893"
     },
     "user_tz": -540
    },
    "id": "f889b9b6-17d0-4c74-bc81-f85f1206379d",
    "outputId": "4ca26c2f-1f88-491b-832f-7657c4341440"
   },
   "outputs": [],
   "source": [
    "early_years = growth[:3]\n",
    "early_years"
   ]
  },
  {
   "cell_type": "markdown",
   "id": "5",
   "metadata": {
    "id": "61ac0cfb-5ee5-433a-9dc5-e1afb4d31928"
   },
   "source": [
    "### (2)"
   ]
  },
  {
   "cell_type": "code",
   "execution_count": null,
   "id": "6",
   "metadata": {
    "colab": {
     "base_uri": "https://localhost:8080/"
    },
    "executionInfo": {
     "elapsed": 13,
     "status": "ok",
     "timestamp": 1758078818958,
     "user": {
      "displayName": "T Haruyama",
      "userId": "09851044792665346893"
     },
     "user_tz": -540
    },
    "id": "8ef6bbc0-9634-4185-8ec7-b19ff5319d84",
    "outputId": "d90e816e-ff4b-4a91-9641-9df3e3623210"
   },
   "outputs": [],
   "source": [
    "recent_years = growth[-3:]\n",
    "recent_years"
   ]
  },
  {
   "cell_type": "markdown",
   "id": "7",
   "metadata": {
    "id": "e321d456-31ca-4d99-8193-0ffd31de058b"
   },
   "source": [
    "### (3)"
   ]
  },
  {
   "cell_type": "code",
   "execution_count": null,
   "id": "8",
   "metadata": {
    "colab": {
     "base_uri": "https://localhost:8080/"
    },
    "executionInfo": {
     "elapsed": 13,
     "status": "ok",
     "timestamp": 1758078818959,
     "user": {
      "displayName": "T Haruyama",
      "userId": "09851044792665346893"
     },
     "user_tz": -540
    },
    "id": "e1faab44-18a5-408e-b2b6-45bb82166727",
    "outputId": "7c5a59af-96db-43d1-cca6-ad120aa6f057"
   },
   "outputs": [],
   "source": [
    "growth[1] - growth[0]"
   ]
  },
  {
   "cell_type": "markdown",
   "id": "9",
   "metadata": {
    "id": "9bac0f11-f29b-4f48-adbf-c7b6f2fb7d18"
   },
   "source": [
    "### (4)"
   ]
  },
  {
   "cell_type": "code",
   "execution_count": null,
   "id": "10",
   "metadata": {
    "colab": {
     "base_uri": "https://localhost:8080/"
    },
    "executionInfo": {
     "elapsed": 8,
     "status": "ok",
     "timestamp": 1758078818959,
     "user": {
      "displayName": "T Haruyama",
      "userId": "09851044792665346893"
     },
     "user_tz": -540
    },
    "id": "0b2219e1-c310-42a3-b442-45a0ec242f61",
    "outputId": "a6decd6c-4254-48ee-cb3a-d801dadba9fa"
   },
   "outputs": [],
   "source": [
    "growth = growth + [0.6]\n",
    "growth"
   ]
  },
  {
   "cell_type": "markdown",
   "id": "11",
   "metadata": {
    "id": "8c64feb4-4def-47a6-bd88-70599ecc00f8"
   },
   "source": [
    "## 演習2"
   ]
  },
  {
   "cell_type": "code",
   "execution_count": null,
   "id": "12",
   "metadata": {
    "executionInfo": {
     "elapsed": 6,
     "status": "ok",
     "timestamp": 1758078818959,
     "user": {
      "displayName": "T Haruyama",
      "userId": "09851044792665346893"
     },
     "user_tz": -540
    },
    "id": "e8242d13-a890-4102-9deb-b36a985ff3e2"
   },
   "outputs": [],
   "source": [
    "dct = {\"GDP\":557, \"消費\":298, \"投資\":111}"
   ]
  },
  {
   "cell_type": "markdown",
   "id": "13",
   "metadata": {
    "id": "0e149782-bb5a-4d63-a427-7c25a10f995c"
   },
   "source": [
    "### (1)"
   ]
  },
  {
   "cell_type": "code",
   "execution_count": null,
   "id": "14",
   "metadata": {
    "colab": {
     "base_uri": "https://localhost:8080/"
    },
    "executionInfo": {
     "elapsed": 6,
     "status": "ok",
     "timestamp": 1758078818960,
     "user": {
      "displayName": "T Haruyama",
      "userId": "09851044792665346893"
     },
     "user_tz": -540
    },
    "id": "6f595dcf-35b9-4cf6-ae04-b67b933754cb",
    "outputId": "e8b78e97-c5d1-48e9-81ca-865bdddf1eb9"
   },
   "outputs": [],
   "source": [
    "dct[\"消費\"] / dct[\"GDP\"]"
   ]
  },
  {
   "cell_type": "markdown",
   "id": "15",
   "metadata": {
    "id": "779f3878-1223-4df2-b71c-1b452fe80ac4"
   },
   "source": [
    "### (2)"
   ]
  },
  {
   "cell_type": "code",
   "execution_count": null,
   "id": "16",
   "metadata": {
    "colab": {
     "base_uri": "https://localhost:8080/"
    },
    "executionInfo": {
     "elapsed": 72,
     "status": "ok",
     "timestamp": 1758078819029,
     "user": {
      "displayName": "T Haruyama",
      "userId": "09851044792665346893"
     },
     "user_tz": -540
    },
    "id": "8daec08b-93e2-43e1-9cb8-a7f67d080b8d",
    "outputId": "309a673a-fdcc-4a71-ea36-4c9fa6c3dea9"
   },
   "outputs": [],
   "source": [
    "100 * dct[\"投資\"] / dct[\"GDP\"]"
   ]
  },
  {
   "cell_type": "markdown",
   "id": "17",
   "metadata": {
    "id": "19a58f56-94c3-4127-8ae9-1ec524c6ec03"
   },
   "source": [
    "## 演習3"
   ]
  },
  {
   "cell_type": "code",
   "execution_count": null,
   "id": "18",
   "metadata": {
    "executionInfo": {
     "elapsed": 8,
     "status": "ok",
     "timestamp": 1758078819034,
     "user": {
      "displayName": "T Haruyama",
      "userId": "09851044792665346893"
     },
     "user_tz": -540
    },
    "id": "c2a30ca2-e68a-4933-9868-84df328b62ef"
   },
   "outputs": [],
   "source": [
    "lst0 = [[\"GDP\", 557], [\"消費\", 298], [\"投資\", 111]]"
   ]
  },
  {
   "cell_type": "markdown",
   "id": "19",
   "metadata": {
    "id": "741888d1-007e-4608-aae6-403786dadc06"
   },
   "source": [
    "### (1)"
   ]
  },
  {
   "cell_type": "code",
   "execution_count": null,
   "id": "20",
   "metadata": {
    "colab": {
     "base_uri": "https://localhost:8080/"
    },
    "executionInfo": {
     "elapsed": 9,
     "status": "ok",
     "timestamp": 1758078819035,
     "user": {
      "displayName": "T Haruyama",
      "userId": "09851044792665346893"
     },
     "user_tz": -540
    },
    "id": "0d73ddc7-a44c-4497-b18b-3173ae7a3d05",
    "outputId": "8913d5dd-dcca-47ce-a935-f9bba809334c"
   },
   "outputs": [],
   "source": [
    "con = lst0[1]\n",
    "gdp = lst0[0]\n",
    "con[1] / gdp[1]\n",
    "\n",
    "# 以下でもOK\n",
    "# lst0[1][1] / lst0[0][1]"
   ]
  },
  {
   "cell_type": "markdown",
   "id": "21",
   "metadata": {
    "id": "8dc3ed86-d3aa-49bc-97fb-e3a26b97eb36"
   },
   "source": [
    "### (2)"
   ]
  },
  {
   "cell_type": "code",
   "execution_count": null,
   "id": "22",
   "metadata": {
    "colab": {
     "base_uri": "https://localhost:8080/"
    },
    "executionInfo": {
     "elapsed": 4,
     "status": "ok",
     "timestamp": 1758078819039,
     "user": {
      "displayName": "T Haruyama",
      "userId": "09851044792665346893"
     },
     "user_tz": -540
    },
    "id": "833ccf0c-3410-49ca-afdc-4391c2402cd5",
    "outputId": "d8c1b19c-78f5-45ae-da32-057c8f3cccca"
   },
   "outputs": [],
   "source": [
    "inv = lst0[-1]\n",
    "100 * inv[1] / gdp[1]\n",
    "\n",
    "# 以下でもOK\n",
    "# 100 * lst0[-1][1] / lst0[0][1]"
   ]
  },
  {
   "cell_type": "markdown",
   "id": "23",
   "metadata": {
    "id": "3418f498-b1ee-4bf9-9ce9-7a86d7780409"
   },
   "source": [
    "## 演習4"
   ]
  },
  {
   "cell_type": "code",
   "execution_count": null,
   "id": "24",
   "metadata": {
    "executionInfo": {
     "elapsed": 5,
     "status": "ok",
     "timestamp": 1758078819042,
     "user": {
      "displayName": "T Haruyama",
      "userId": "09851044792665346893"
     },
     "user_tz": -540
    },
    "id": "a6a2856e-3103-49f9-8c5c-8605ac5f4cee"
   },
   "outputs": [],
   "source": [
    "components = [298, 111, 145, 113, 110]"
   ]
  },
  {
   "cell_type": "markdown",
   "id": "25",
   "metadata": {
    "id": "6f120d06-973d-43b2-ac82-30fd4312e2ef"
   },
   "source": [
    "### (1)"
   ]
  },
  {
   "cell_type": "code",
   "execution_count": null,
   "id": "26",
   "metadata": {
    "colab": {
     "base_uri": "https://localhost:8080/"
    },
    "executionInfo": {
     "elapsed": 6,
     "status": "ok",
     "timestamp": 1758078819044,
     "user": {
      "displayName": "T Haruyama",
      "userId": "09851044792665346893"
     },
     "user_tz": -540
    },
    "id": "e64483a3-2905-49e2-ac1e-4352e9d37673",
    "outputId": "0629f99a-e9aa-4c8b-b36a-0c1d7f0b9e5e"
   },
   "outputs": [],
   "source": [
    "components[:3]"
   ]
  },
  {
   "cell_type": "markdown",
   "id": "27",
   "metadata": {
    "id": "bac64c41-276a-46d9-a500-1e7250da4e38"
   },
   "source": [
    "### (2)"
   ]
  },
  {
   "cell_type": "code",
   "execution_count": null,
   "id": "28",
   "metadata": {
    "colab": {
     "base_uri": "https://localhost:8080/"
    },
    "executionInfo": {
     "elapsed": 18,
     "status": "ok",
     "timestamp": 1758078819063,
     "user": {
      "displayName": "T Haruyama",
      "userId": "09851044792665346893"
     },
     "user_tz": -540
    },
    "id": "e767d827-7c0b-4e1e-9677-c8931a056942",
    "outputId": "3d894de1-99f0-4fba-c742-e5fc6a44e323"
   },
   "outputs": [],
   "source": [
    "components[1:-1]"
   ]
  },
  {
   "cell_type": "markdown",
   "id": "29",
   "metadata": {
    "id": "3c92ec10-6417-4fe0-ae73-c28ff6649337"
   },
   "source": [
    "純輸出を計算しなさい。"
   ]
  },
  {
   "cell_type": "code",
   "execution_count": null,
   "id": "30",
   "metadata": {
    "colab": {
     "base_uri": "https://localhost:8080/"
    },
    "executionInfo": {
     "elapsed": 13,
     "status": "ok",
     "timestamp": 1758078819063,
     "user": {
      "displayName": "T Haruyama",
      "userId": "09851044792665346893"
     },
     "user_tz": -540
    },
    "id": "01db21ff-874a-4d23-ac06-0c2ac85b1a21",
    "outputId": "24e7cb39-4b53-4716-fbe3-77b2cb665521"
   },
   "outputs": [],
   "source": [
    "components[-2] - components[-1]"
   ]
  },
  {
   "cell_type": "markdown",
   "id": "31",
   "metadata": {
    "id": "c879b6d2-210a-4e49-bb43-19c0b90575b7"
   },
   "source": [
    "## 演習5"
   ]
  },
  {
   "cell_type": "code",
   "execution_count": null,
   "id": "32",
   "metadata": {
    "executionInfo": {
     "elapsed": 10,
     "status": "ok",
     "timestamp": 1758078819063,
     "user": {
      "displayName": "T Haruyama",
      "userId": "09851044792665346893"
     },
     "user_tz": -540
    },
    "id": "8565f4eb-0961-4ab0-9e1b-e6e049d0f460"
   },
   "outputs": [],
   "source": [
    "gdp = {\"rgdp\":557_434.1, \"deflator\":109.3, \"ex\":151.37}"
   ]
  },
  {
   "cell_type": "markdown",
   "id": "33",
   "metadata": {
    "id": "b310c0f1-4df4-4cbe-aa52-f986b873f7e7"
   },
   "source": [
    "### (1)"
   ]
  },
  {
   "cell_type": "code",
   "execution_count": null,
   "id": "34",
   "metadata": {
    "colab": {
     "base_uri": "https://localhost:8080/"
    },
    "executionInfo": {
     "elapsed": 10,
     "status": "ok",
     "timestamp": 1758078819064,
     "user": {
      "displayName": "T Haruyama",
      "userId": "09851044792665346893"
     },
     "user_tz": -540
    },
    "id": "5700da46-aa35-4198-a6c6-30ce4fed911b",
    "outputId": "5a2fd756-e183-4fa0-fa68-9b34b2b8578b"
   },
   "outputs": [],
   "source": [
    "gdp[\"ex\"]"
   ]
  },
  {
   "cell_type": "markdown",
   "id": "35",
   "metadata": {
    "id": "5c1f061b-d508-428b-9dd1-2203cc15352f"
   },
   "source": [
    "### (2)"
   ]
  },
  {
   "cell_type": "code",
   "execution_count": null,
   "id": "36",
   "metadata": {
    "colab": {
     "base_uri": "https://localhost:8080/"
    },
    "executionInfo": {
     "elapsed": 9,
     "status": "ok",
     "timestamp": 1758078819064,
     "user": {
      "displayName": "T Haruyama",
      "userId": "09851044792665346893"
     },
     "user_tz": -540
    },
    "id": "fdd5b230-b513-455d-ac21-d43a7d5668ae",
    "outputId": "74edf656-9148-4924-c7cc-7cdf8ad1c539"
   },
   "outputs": [],
   "source": [
    "gdp[\"ngdp\"] = gdp[\"rgdp\"] * gdp[\"deflator\"]\n",
    "gdp"
   ]
  },
  {
   "cell_type": "markdown",
   "id": "37",
   "metadata": {
    "id": "cb675a1d-74e8-446b-a526-9bee7e305de1"
   },
   "source": [
    "### (3)"
   ]
  },
  {
   "cell_type": "code",
   "execution_count": null,
   "id": "38",
   "metadata": {
    "colab": {
     "base_uri": "https://localhost:8080/"
    },
    "executionInfo": {
     "elapsed": 5,
     "status": "ok",
     "timestamp": 1758078819066,
     "user": {
      "displayName": "T Haruyama",
      "userId": "09851044792665346893"
     },
     "user_tz": -540
    },
    "id": "825f2ec2-f711-4c31-a483-10407747fd7d",
    "outputId": "3077fa08-46c4-4885-f09d-867702a0e86b"
   },
   "outputs": [],
   "source": [
    "ngdp_dollar = gdp[\"ngdp\"] / gdp[\"ex\"]\n",
    "gdp_new = {\"ngdp_dollar\":ngdp_dollar}\n",
    "gdp_new"
   ]
  },
  {
   "cell_type": "markdown",
   "id": "39",
   "metadata": {
    "id": "e94c7392-6e33-4a78-b245-7bfde89ce157"
   },
   "source": [
    "### (4)"
   ]
  },
  {
   "cell_type": "code",
   "execution_count": null,
   "id": "40",
   "metadata": {
    "colab": {
     "base_uri": "https://localhost:8080/"
    },
    "executionInfo": {
     "elapsed": 2,
     "status": "ok",
     "timestamp": 1758078819068,
     "user": {
      "displayName": "T Haruyama",
      "userId": "09851044792665346893"
     },
     "user_tz": -540
    },
    "id": "100ce54f-39ea-4ff0-a49d-05d24d80ce50",
    "outputId": "2295148e-5fd0-4e41-fce5-b1943c9aa6cf"
   },
   "outputs": [],
   "source": [
    "gdp | gdp_new"
   ]
  }
 ],
 "metadata": {
  "colab": {
   "provenance": []
  },
  "kernelspec": {
   "display_name": "Python 3",
   "name": "python3"
  },
  "language_info": {
   "name": "python"
  }
 },
 "nbformat": 4,
 "nbformat_minor": 5
}
