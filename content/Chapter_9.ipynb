{
 "cells": [
  {
   "cell_type": "markdown",
   "id": "0",
   "metadata": {
    "id": "49c711f2-0fe6-4224-9371-e7b2d31725af"
   },
   "source": [
    "# 第9章：モンテかルロ・シミュレーション"
   ]
  },
  {
   "cell_type": "markdown",
   "id": "1",
   "metadata": {
    "id": "uMeRzmypCYFs"
   },
   "source": [
    "## はじめに"
   ]
  },
  {
   "cell_type": "code",
   "execution_count": null,
   "id": "2",
   "metadata": {
    "colab": {
     "base_uri": "https://localhost:8080/"
    },
    "executionInfo": {
     "elapsed": 16155,
     "status": "ok",
     "timestamp": 1758070603323,
     "user": {
      "displayName": "T Haruyama",
      "userId": "09851044792665346893"
     },
     "user_tz": -540
    },
    "id": "7a4bb77c-328e-4bc8-b265-c05cd886d163",
    "outputId": "443ee697-03c3-483a-e306-6a3294158c01"
   },
   "outputs": [],
   "source": [
    "%pip install -q japanize-matplotlib-jlite py4macro\n",
    "import japanize_matplotlib_jlite\n",
    "import numpy as np\n",
    "import matplotlib.pyplot as plt\n",
    "import py4macro\n",
    "import random"
   ]
  },
  {
   "cell_type": "markdown",
   "id": "3",
   "metadata": {
    "id": "094de3d5-1084-40e8-81e7-b5491e530b2b"
   },
   "source": [
    "## 大数の法則"
   ]
  },
  {
   "cell_type": "markdown",
   "id": "4",
   "metadata": {
    "id": "HVpfTEP3CcSf"
   },
   "source": [
    "### 大数の法則とは"
   ]
  },
  {
   "cell_type": "markdown",
   "id": "5",
   "metadata": {
    "id": "TwaV6h6DCqO_"
   },
   "source": [
    "### コイントスの平均"
   ]
  },
  {
   "cell_type": "markdown",
   "id": "6",
   "metadata": {
    "id": "suMC10guCt5t"
   },
   "source": [
    "コード9.2.1"
   ]
  },
  {
   "cell_type": "code",
   "execution_count": null,
   "id": "7",
   "metadata": {
    "colab": {
     "base_uri": "https://localhost:8080/"
    },
    "executionInfo": {
     "elapsed": 5,
     "status": "ok",
     "timestamp": 1758070603341,
     "user": {
      "displayName": "T Haruyama",
      "userId": "09851044792665346893"
     },
     "user_tz": -540
    },
    "id": "be0345c9-5a41-4be4-bff0-250783ff1441",
    "outputId": "5aa91fec-faf1-4093-ec39-d0e054b086e5"
   },
   "outputs": [],
   "source": [
    "random.randint(0,1)"
   ]
  },
  {
   "cell_type": "markdown",
   "id": "8",
   "metadata": {
    "id": "EIYLpbU8DGs2"
   },
   "source": [
    "コード9.2.2"
   ]
  },
  {
   "cell_type": "code",
   "execution_count": null,
   "id": "9",
   "metadata": {
    "colab": {
     "base_uri": "https://localhost:8080/"
    },
    "executionInfo": {
     "elapsed": 6,
     "status": "ok",
     "timestamp": 1758070603349,
     "user": {
      "displayName": "T Haruyama",
      "userId": "09851044792665346893"
     },
     "user_tz": -540
    },
    "id": "89b52d30-7102-4dc5-8a5e-6df3f3e85c4f",
    "outputId": "97d15fe1-18fe-4dc4-be93-f27dbb4b9bd2"
   },
   "outputs": [],
   "source": [
    "n = 30\n",
    "toss = [random.randint(0,1)\n",
    "        for _ in range(n)]\n",
    "head = sum(toss)\n",
    "avr = head / n\n",
    "avr"
   ]
  },
  {
   "cell_type": "markdown",
   "id": "10",
   "metadata": {
    "id": "_TU4mlUHDTgq"
   },
   "source": [
    "### シミュレーション1:実現値の総入れ替え"
   ]
  },
  {
   "cell_type": "markdown",
   "id": "11",
   "metadata": {
    "id": "paCFSUmjDZRr"
   },
   "source": [
    "コード9.2.3"
   ]
  },
  {
   "cell_type": "code",
   "execution_count": null,
   "id": "12",
   "metadata": {
    "executionInfo": {
     "elapsed": 1,
     "status": "ok",
     "timestamp": 1758070603352,
     "user": {
      "displayName": "T Haruyama",
      "userId": "09851044792665346893"
     },
     "user_tz": -540
    },
    "id": "61cc890b-d2ee-4338-9020-dfcffddadc1c"
   },
   "outputs": [],
   "source": [
    "def calculate_avr(n):\n",
    "    toss = [random.randint(0,1)\n",
    "            for _ in range(n)]\n",
    "    head = sum(toss)\n",
    "    avr = head / n\n",
    "    return avr"
   ]
  },
  {
   "cell_type": "markdown",
   "id": "13",
   "metadata": {
    "id": "0e5MOAq_DgaY"
   },
   "source": [
    "コード9.2.4"
   ]
  },
  {
   "cell_type": "code",
   "execution_count": null,
   "id": "14",
   "metadata": {
    "colab": {
     "base_uri": "https://localhost:8080/"
    },
    "executionInfo": {
     "elapsed": 12,
     "status": "ok",
     "timestamp": 1758070603365,
     "user": {
      "displayName": "T Haruyama",
      "userId": "09851044792665346893"
     },
     "user_tz": -540
    },
    "id": "dc2bf1e0-2aac-4b90-9cd3-856946532f56",
    "outputId": "212a0b02-ca90-4b81-b373-7938b0bc3733"
   },
   "outputs": [],
   "source": [
    "random.seed(12)\n",
    "for n in [5, 100, 1000]:\n",
    "    print( calculate_avr(n) )"
   ]
  },
  {
   "cell_type": "markdown",
   "id": "15",
   "metadata": {
    "id": "dB3EVH0PDokc"
   },
   "source": [
    "コード9.2.5"
   ]
  },
  {
   "cell_type": "code",
   "execution_count": null,
   "id": "16",
   "metadata": {
    "colab": {
     "base_uri": "https://localhost:8080/",
     "height": 469
    },
    "executionInfo": {
     "elapsed": 2278,
     "status": "ok",
     "timestamp": 1758070605642,
     "user": {
      "displayName": "T Haruyama",
      "userId": "09851044792665346893"
     },
     "user_tz": -540
    },
    "id": "d08ca179-9578-4165-a95a-36ac769097ae",
    "outputId": "656681f1-294c-4875-a60a-d514591c6b79"
   },
   "outputs": [],
   "source": [
    "random.seed(123)\n",
    "N = 2000\n",
    "sample = range(1, N+1)\n",
    "avr_lst1 = []\n",
    "\n",
    "for n in sample:\n",
    "    res = calculate_avr(n)\n",
    "    avr_lst1.append(res)\n",
    "\n",
    "plt.plot(sample, avr_lst1,\n",
    "         linewidth=0.3,\n",
    "         color=\"black\")\n",
    "plt.title(\"シミュレーション1\",\n",
    "          size=12)\n",
    "plt.xlabel(\"コインの数\", size=10)\n",
    "plt.ylabel(\"平均\", size=10)\n",
    "plt.show()"
   ]
  },
  {
   "cell_type": "markdown",
   "id": "17",
   "metadata": {
    "id": "DAEViQ2WD7M-"
   },
   "source": [
    "コード9.2.6"
   ]
  },
  {
   "cell_type": "code",
   "execution_count": null,
   "id": "18",
   "metadata": {
    "colab": {
     "base_uri": "https://localhost:8080/"
    },
    "executionInfo": {
     "elapsed": 9,
     "status": "ok",
     "timestamp": 1758070605644,
     "user": {
      "displayName": "T Haruyama",
      "userId": "09851044792665346893"
     },
     "user_tz": -540
    },
    "id": "c2035c0e-1618-4eb9-bff2-c451556aaf2a",
    "outputId": "552a2015-87d3-4bf3-a849-fdd3673ae1ad"
   },
   "outputs": [],
   "source": [
    "def aad(lst):\n",
    "    dev = [abs(v-0.5) for v in lst]\n",
    "    res = sum(dev) / len(dev)\n",
    "    return res\n",
    "\n",
    "aad(avr_lst1)"
   ]
  },
  {
   "cell_type": "markdown",
   "id": "19",
   "metadata": {
    "id": "asC4k7ELGIsF"
   },
   "source": [
    "コード9.2.7"
   ]
  },
  {
   "cell_type": "code",
   "execution_count": null,
   "id": "20",
   "metadata": {
    "colab": {
     "base_uri": "https://localhost:8080/",
     "height": 472
    },
    "executionInfo": {
     "elapsed": 130,
     "status": "ok",
     "timestamp": 1758070605774,
     "user": {
      "displayName": "T Haruyama",
      "userId": "09851044792665346893"
     },
     "user_tz": -540
    },
    "id": "f36787df-8ec9-463b-90ab-7c094f28ff2b",
    "outputId": "806abd7d-70cb-4601-c97d-9a728117bbd8"
   },
   "outputs": [],
   "source": [
    "m = 200\n",
    "M = int(N / m)\n",
    "aad_lst = []\n",
    "\n",
    "for i in range(0, N, m):\n",
    "    lst = avr_lst1[i:i+m]\n",
    "    res = aad(lst)\n",
    "    aad_lst.append( res )\n",
    "\n",
    "plt.plot(range(1,M+1), aad_lst,\n",
    "         marker=\"o\",\n",
    "         color=\"black\")\n",
    "plt.xlabel(\"ブロック番号\")\n",
    "plt.title(\"平均絶対偏差\", size=15)\n",
    "plt.show()"
   ]
  },
  {
   "cell_type": "markdown",
   "id": "21",
   "metadata": {
    "id": "jVLQmA9yGbbJ"
   },
   "source": [
    "### シミュレーション2:実現値の逐次的追加"
   ]
  },
  {
   "cell_type": "markdown",
   "id": "22",
   "metadata": {
    "id": "AnuupF7zGmLC"
   },
   "source": [
    "コード9.2.8"
   ]
  },
  {
   "cell_type": "code",
   "execution_count": null,
   "id": "23",
   "metadata": {
    "colab": {
     "base_uri": "https://localhost:8080/",
     "height": 469
    },
    "executionInfo": {
     "elapsed": 226,
     "status": "ok",
     "timestamp": 1758070606002,
     "user": {
      "displayName": "T Haruyama",
      "userId": "09851044792665346893"
     },
     "user_tz": -540
    },
    "id": "07de78d9-3de8-4e20-a0a7-ade4d00967b7",
    "outputId": "fed24005-ed4a-4852-f522-1fe73bba8abe"
   },
   "outputs": [],
   "source": [
    "random.seed(123)\n",
    "\n",
    "head_count = 0\n",
    "avr_lst2 = []\n",
    "\n",
    "for i in range(1, N+1):\n",
    "    coin = random.randint(0, 1)\n",
    "    head_count += coin\n",
    "    avr = head_count / i\n",
    "    avr_lst2.append(avr)\n",
    "\n",
    "plt.plot(sample, avr_lst2,\n",
    "          linewidth=0.9,\n",
    "          color=\"black\")\n",
    "plt.title(\"シミュレーション2\",\n",
    "          size=12)\n",
    "plt.xlabel(\"コインの数\", size=10)\n",
    "plt.ylabel(\"平均\", size=10)\n",
    "plt.show()"
   ]
  },
  {
   "cell_type": "markdown",
   "id": "24",
   "metadata": {
    "id": "0lHleKzJHH0E"
   },
   "source": [
    "### 2つのシミュレーションの比較"
   ]
  },
  {
   "cell_type": "markdown",
   "id": "25",
   "metadata": {
    "id": "d4b001ec-cc23-4f55-842b-4fceeb94996a"
   },
   "source": [
    "## 中心極限定理"
   ]
  },
  {
   "cell_type": "markdown",
   "id": "26",
   "metadata": {
    "id": "ee7cea3d-73a2-45f5-9df9-fe2429d9f4d2"
   },
   "source": [
    "### 中心極限定理とは"
   ]
  },
  {
   "cell_type": "markdown",
   "id": "27",
   "metadata": {
    "id": "b0ee0809-063d-4fc5-8cdf-a28fae072fc4"
   },
   "source": [
    "### コイントス（再考）"
   ]
  },
  {
   "cell_type": "markdown",
   "id": "28",
   "metadata": {
    "id": "2T9IqGLDHVor"
   },
   "source": [
    "コード9.3.1"
   ]
  },
  {
   "cell_type": "code",
   "execution_count": null,
   "id": "29",
   "metadata": {
    "colab": {
     "base_uri": "https://localhost:8080/"
    },
    "executionInfo": {
     "elapsed": 3,
     "status": "ok",
     "timestamp": 1758070606012,
     "user": {
      "displayName": "T Haruyama",
      "userId": "09851044792665346893"
     },
     "user_tz": -540
    },
    "id": "8a401161-17b4-4d79-842d-b551da98c26a",
    "outputId": "219395da-6459-45d1-ee14-32df9512958b"
   },
   "outputs": [],
   "source": [
    "n, head = 30, 12\n",
    "( head/n - 0.5 ) / ( 0.5/n**0.5 )"
   ]
  },
  {
   "cell_type": "markdown",
   "id": "30",
   "metadata": {
    "id": "DGdp3mArHi4R"
   },
   "source": [
    "コード9.3.2"
   ]
  },
  {
   "cell_type": "code",
   "execution_count": null,
   "id": "31",
   "metadata": {
    "executionInfo": {
     "elapsed": 2,
     "status": "ok",
     "timestamp": 1758070606018,
     "user": {
      "displayName": "T Haruyama",
      "userId": "09851044792665346893"
     },
     "user_tz": -540
    },
    "id": "5df9476e-0a74-4c16-a226-09500062e15e"
   },
   "outputs": [],
   "source": [
    "def z_value(n):\n",
    "    \"\"\"\n",
    "    [引数] n：同時にトスするコインの数\n",
    "    [戻り値] Z値\"\"\"\n",
    "\n",
    "    toss = [random.randint(0,1) for _ in range(n)]\n",
    "    head = sum(toss)\n",
    "    st_avr = (head/n - 0.5) / ( 0.5/n**0.5 )\n",
    "\n",
    "    return st_avr"
   ]
  },
  {
   "cell_type": "markdown",
   "id": "32",
   "metadata": {
    "id": "za8z3KtCH2iy"
   },
   "source": [
    "コード9.3.3"
   ]
  },
  {
   "cell_type": "code",
   "execution_count": null,
   "id": "33",
   "metadata": {
    "colab": {
     "base_uri": "https://localhost:8080/"
    },
    "executionInfo": {
     "elapsed": 6,
     "status": "ok",
     "timestamp": 1758070606025,
     "user": {
      "displayName": "T Haruyama",
      "userId": "09851044792665346893"
     },
     "user_tz": -540
    },
    "id": "3f22b31c-f116-4e13-b106-45d25e5fcb37",
    "outputId": "221eade9-4bba-414d-a9aa-1247a6c3cb49"
   },
   "outputs": [],
   "source": [
    "random.seed(1)\n",
    "n, N = 2, 5\n",
    "toss = [z_value(n) for _ in range(N)]\n",
    "toss"
   ]
  },
  {
   "cell_type": "markdown",
   "id": "34",
   "metadata": {
    "id": "2efd009a-9812-4b92-84bb-b20e90a726ba"
   },
   "source": [
    "### ヒストグラム"
   ]
  },
  {
   "cell_type": "markdown",
   "id": "35",
   "metadata": {
    "id": "a2f1c263-e31d-4a9a-b421-738df7c05cf5"
   },
   "source": [
    "#### 準備"
   ]
  },
  {
   "cell_type": "markdown",
   "id": "36",
   "metadata": {
    "id": "tiTrLalSH-Rs"
   },
   "source": [
    "コード9.3.4"
   ]
  },
  {
   "cell_type": "code",
   "execution_count": null,
   "id": "37",
   "metadata": {
    "colab": {
     "base_uri": "https://localhost:8080/"
    },
    "executionInfo": {
     "elapsed": 2,
     "status": "ok",
     "timestamp": 1758070606028,
     "user": {
      "displayName": "T Haruyama",
      "userId": "09851044792665346893"
     },
     "user_tz": -540
    },
    "id": "b9b12c21-c9a5-4ef7-8929-d55c021d5e64",
    "outputId": "878a7598-54b6-43c8-9414-cccd11eca307"
   },
   "outputs": [],
   "source": [
    "unique = len( set(toss) )\n",
    "unique"
   ]
  },
  {
   "cell_type": "markdown",
   "id": "38",
   "metadata": {
    "id": "DzEiPT3mICDP"
   },
   "source": [
    "コード9.3.5"
   ]
  },
  {
   "cell_type": "code",
   "execution_count": null,
   "id": "39",
   "metadata": {
    "colab": {
     "base_uri": "https://localhost:8080/"
    },
    "executionInfo": {
     "elapsed": 34,
     "status": "ok",
     "timestamp": 1758070606066,
     "user": {
      "displayName": "T Haruyama",
      "userId": "09851044792665346893"
     },
     "user_tz": -540
    },
    "id": "99391c27-a6d3-4c03-b8ec-d1516f327fa2",
    "outputId": "b522f1e1-ead9-46b1-ca12-9e9b040224e0"
   },
   "outputs": [],
   "source": [
    "set(toss)"
   ]
  },
  {
   "cell_type": "markdown",
   "id": "40",
   "metadata": {
    "id": "ac2de869-8e1e-4a4f-bb84-b2684ede4b86"
   },
   "source": [
    "#### ヒストグラムのプロット"
   ]
  },
  {
   "cell_type": "markdown",
   "id": "41",
   "metadata": {
    "id": "kuBlbcqPIbGB"
   },
   "source": [
    "コード9.3.6"
   ]
  },
  {
   "cell_type": "code",
   "execution_count": null,
   "id": "42",
   "metadata": {
    "colab": {
     "base_uri": "https://localhost:8080/",
     "height": 469
    },
    "executionInfo": {
     "elapsed": 299,
     "status": "ok",
     "timestamp": 1758070606366,
     "user": {
      "displayName": "T Haruyama",
      "userId": "09851044792665346893"
     },
     "user_tz": -540
    },
    "id": "1370467e-b8eb-4f52-a011-b64608312711",
    "outputId": "c85d8499-95cc-46a4-9900-5c153534a5fc"
   },
   "outputs": [],
   "source": [
    "random.seed(123)\n",
    "n, N = 2, 30\n",
    "toss = [z_value(n)\n",
    "        for _ in range(N)]\n",
    "unique = len( set(toss) )\n",
    "plt.hist(toss, bins=unique,\n",
    "          color=\"grey\",\n",
    "          edgecolor=\"white\",\n",
    "          density=True)\n",
    "plt.title(f\"n={n},   N={N}\",\n",
    "          size=12)\n",
    "plt.xlabel(\"Z値\",\n",
    "            size=9)\n",
    "plt.ylabel(\"相対度数\", size=9)\n",
    "plt.show()"
   ]
  },
  {
   "cell_type": "markdown",
   "id": "43",
   "metadata": {
    "id": "HvV66xi9Ie-v"
   },
   "source": [
    "コード9.3.7"
   ]
  },
  {
   "cell_type": "code",
   "execution_count": null,
   "id": "44",
   "metadata": {
    "executionInfo": {
     "elapsed": 1,
     "status": "ok",
     "timestamp": 1758070606368,
     "user": {
      "displayName": "T Haruyama",
      "userId": "09851044792665346893"
     },
     "user_tz": -540
    },
    "id": "68f34c94-dec1-4f62-9122-edeea03aee4d"
   },
   "outputs": [],
   "source": [
    "def plot_hist(n, N=10_000, seed=None):\n",
    "    \"\"\"\n",
    "    [引数] n: 一度に投げるコインの数\n",
    "            N: 試行回数\"\"\"\n",
    "    random.seed(seed)\n",
    "    toss = [z_value(n) for _ in range(N)]\n",
    "    unique = len( set(toss) )    # 階級の数\n",
    "    plt.hist(toss, bins=unique, color=\"grey\",\n",
    "                    edgecolor=\"white\", density=True)\n",
    "    plt.title(f\"n={n},   N={N}\", size=12)\n",
    "    plt.xlabel(\"Z値\", size=9)\n",
    "    plt.ylabel(\"相対度数\", size=9)\n",
    "    plt.show()"
   ]
  },
  {
   "cell_type": "markdown",
   "id": "45",
   "metadata": {
    "id": "eb161311-3dd1-4741-88fb-91601904a7a1"
   },
   "source": [
    "#### シミュレーション"
   ]
  },
  {
   "cell_type": "markdown",
   "id": "46",
   "metadata": {
    "id": "iPVqLJQ5I0Qk"
   },
   "source": [
    "コード9.3.8"
   ]
  },
  {
   "cell_type": "code",
   "execution_count": null,
   "id": "47",
   "metadata": {
    "colab": {
     "base_uri": "https://localhost:8080/",
     "height": 469
    },
    "executionInfo": {
     "elapsed": 214,
     "status": "ok",
     "timestamp": 1758070606583,
     "user": {
      "displayName": "T Haruyama",
      "userId": "09851044792665346893"
     },
     "user_tz": -540
    },
    "id": "e5c9fe29-cb65-4011-afce-c803a76838dd",
    "outputId": "0777a5e6-80b0-4297-c440-4df699e13ce3"
   },
   "outputs": [],
   "source": [
    "plot_hist(1, 5, seed=2)"
   ]
  },
  {
   "cell_type": "markdown",
   "id": "48",
   "metadata": {
    "id": "kisExnWpJEZ9"
   },
   "source": [
    "コード9.3.9"
   ]
  },
  {
   "cell_type": "code",
   "execution_count": null,
   "id": "49",
   "metadata": {
    "colab": {
     "base_uri": "https://localhost:8080/",
     "height": 469
    },
    "executionInfo": {
     "elapsed": 307,
     "status": "ok",
     "timestamp": 1758070606891,
     "user": {
      "displayName": "T Haruyama",
      "userId": "09851044792665346893"
     },
     "user_tz": -540
    },
    "id": "bppc1Q_XJEZ-",
    "outputId": "8a383d39-67cc-4e25-dd38-b6bc5b1a273f"
   },
   "outputs": [],
   "source": [
    "plot_hist(1, seed=2)"
   ]
  },
  {
   "cell_type": "markdown",
   "id": "50",
   "metadata": {
    "id": "tfvBH_5AJEmZ"
   },
   "source": [
    "コード9.3.10"
   ]
  },
  {
   "cell_type": "code",
   "execution_count": null,
   "id": "51",
   "metadata": {
    "colab": {
     "base_uri": "https://localhost:8080/",
     "height": 469
    },
    "executionInfo": {
     "elapsed": 182,
     "status": "ok",
     "timestamp": 1758070607075,
     "user": {
      "displayName": "T Haruyama",
      "userId": "09851044792665346893"
     },
     "user_tz": -540
    },
    "id": "QFlLt55TJEma",
    "outputId": "c44bb83c-8129-4088-9fcb-dc56eb9d5e47"
   },
   "outputs": [],
   "source": [
    "plot_hist(2, 5, seed=1)"
   ]
  },
  {
   "cell_type": "markdown",
   "id": "52",
   "metadata": {
    "id": "P1gMsccGJExw"
   },
   "source": [
    "コード9.3.11"
   ]
  },
  {
   "cell_type": "code",
   "execution_count": null,
   "id": "53",
   "metadata": {
    "colab": {
     "base_uri": "https://localhost:8080/",
     "height": 469
    },
    "executionInfo": {
     "elapsed": 519,
     "status": "ok",
     "timestamp": 1758070607596,
     "user": {
      "displayName": "T Haruyama",
      "userId": "09851044792665346893"
     },
     "user_tz": -540
    },
    "id": "bkFMb49VJExx",
    "outputId": "7814da20-848b-4479-b30b-11f6d4186283"
   },
   "outputs": [],
   "source": [
    "plot_hist(2, seed=1)"
   ]
  },
  {
   "cell_type": "markdown",
   "id": "54",
   "metadata": {
    "id": "2C0HKrOCJE9f"
   },
   "source": [
    "コード9.3.12"
   ]
  },
  {
   "cell_type": "code",
   "execution_count": null,
   "id": "55",
   "metadata": {
    "colab": {
     "base_uri": "https://localhost:8080/",
     "height": 469
    },
    "executionInfo": {
     "elapsed": 153,
     "status": "ok",
     "timestamp": 1758070607738,
     "user": {
      "displayName": "T Haruyama",
      "userId": "09851044792665346893"
     },
     "user_tz": -540
    },
    "id": "0iq47pKVJE9g",
    "outputId": "fc12f83e-01cc-415a-81ba-71c9ba089642"
   },
   "outputs": [],
   "source": [
    "plot_hist(12, 24, seed=12)"
   ]
  },
  {
   "cell_type": "markdown",
   "id": "56",
   "metadata": {
    "id": "4_nV1_PkJFJJ"
   },
   "source": [
    "コード9.3.13"
   ]
  },
  {
   "cell_type": "code",
   "execution_count": null,
   "id": "57",
   "metadata": {
    "colab": {
     "base_uri": "https://localhost:8080/",
     "height": 469
    },
    "executionInfo": {
     "elapsed": 1280,
     "status": "ok",
     "timestamp": 1758070609019,
     "user": {
      "displayName": "T Haruyama",
      "userId": "09851044792665346893"
     },
     "user_tz": -540
    },
    "id": "vazv37UAJFJK",
    "outputId": "1e83e465-5c48-4e4c-c7a4-3cd0ad6d8f9c"
   },
   "outputs": [],
   "source": [
    "plot_hist(12, seed=12)"
   ]
  },
  {
   "cell_type": "markdown",
   "id": "58",
   "metadata": {
    "id": "CoTMU1I3JFSV"
   },
   "source": [
    "コード9.3.14"
   ]
  },
  {
   "cell_type": "code",
   "execution_count": null,
   "id": "59",
   "metadata": {
    "colab": {
     "base_uri": "https://localhost:8080/",
     "height": 469
    },
    "executionInfo": {
     "elapsed": 1058,
     "status": "ok",
     "timestamp": 1758070610083,
     "user": {
      "displayName": "T Haruyama",
      "userId": "09851044792665346893"
     },
     "user_tz": -540
    },
    "id": "IPpZvWqAJFSV",
    "outputId": "93c42fb0-9056-420f-c46f-373435d25021"
   },
   "outputs": [],
   "source": [
    "plot_hist(30, 30, seed=1)"
   ]
  },
  {
   "cell_type": "markdown",
   "id": "60",
   "metadata": {
    "id": "6qiqAhjwJFms"
   },
   "source": [
    "コード9.3.15"
   ]
  },
  {
   "cell_type": "code",
   "execution_count": null,
   "id": "61",
   "metadata": {
    "colab": {
     "base_uri": "https://localhost:8080/",
     "height": 469
    },
    "executionInfo": {
     "elapsed": 1163,
     "status": "ok",
     "timestamp": 1758070611247,
     "user": {
      "displayName": "T Haruyama",
      "userId": "09851044792665346893"
     },
     "user_tz": -540
    },
    "id": "rs5Aih7PJFms",
    "outputId": "ae2ccc94-5812-49e3-dba6-d8384a2dc667"
   },
   "outputs": [],
   "source": [
    "plot_hist(30, seed=1)"
   ]
  },
  {
   "cell_type": "markdown",
   "id": "62",
   "metadata": {
    "id": "rjJ1h3KcJF6_"
   },
   "source": [
    "コード9.3.16"
   ]
  },
  {
   "cell_type": "code",
   "execution_count": null,
   "id": "63",
   "metadata": {
    "colab": {
     "base_uri": "https://localhost:8080/",
     "height": 469
    },
    "executionInfo": {
     "elapsed": 1167,
     "status": "ok",
     "timestamp": 1758070612416,
     "user": {
      "displayName": "T Haruyama",
      "userId": "09851044792665346893"
     },
     "user_tz": -540
    },
    "id": "U6Ys1bGwJF7A",
    "outputId": "6b6f2699-2776-4b7e-a319-a7845e85b0ed"
   },
   "outputs": [],
   "source": [
    "# 標準正規分布のコード\n",
    "def normal_dist(z):\n",
    "    return ( np.exp(-z**2/2) /\n",
    "              (2*np.pi)**(0.5) )\n",
    "\n",
    "x = py4macro.xvalues(-4, 4, 50)\n",
    "y = [normal_dist(i) for i in x]\n",
    "\n",
    "# 重ねてプロット\n",
    "plt.plot(x, y,\n",
    "         color=\"black\",\n",
    "         linewidth=2,\n",
    "         label=\"標準正規分布\")\n",
    "plt.legend(fontsize=6)\n",
    "plot_hist(30, seed=1)\n",
    "plt.show()"
   ]
  },
  {
   "cell_type": "markdown",
   "id": "64",
   "metadata": {
    "id": "JT_loa4gJB8s"
   },
   "source": [
    "コード9.3.17"
   ]
  },
  {
   "cell_type": "code",
   "execution_count": null,
   "id": "65",
   "metadata": {
    "colab": {
     "base_uri": "https://localhost:8080/",
     "height": 469
    },
    "executionInfo": {
     "elapsed": 6609,
     "status": "ok",
     "timestamp": 1758070619026,
     "user": {
      "displayName": "T Haruyama",
      "userId": "09851044792665346893"
     },
     "user_tz": -540
    },
    "id": "E3dcPF8nJCWu",
    "outputId": "8bee172d-6f74-4d85-c3fb-552098abc01c"
   },
   "outputs": [],
   "source": [
    "# コイントスのシミュレーション\n",
    "random.seed(1)\n",
    "n, N = 1000, 10_000\n",
    "toss = [z_value(n)\n",
    "        for _ in range(N)]\n",
    "\n",
    "# プロット\n",
    "plt.hist(toss,\n",
    "         bins=sorted(set(toss)),\n",
    "         color=\"grey\",\n",
    "         density=True)\n",
    "plt.title(f\"n={n},   N={N}\",\n",
    "          size=12)\n",
    "plt.xlabel(\"Z値\", size=9)\n",
    "plt.ylabel(\"相対度数\", size=9)\n",
    "plt.plot(x, y,\n",
    "          color=\"black\",\n",
    "          linewidth=2,\n",
    "          label=\"標準正規分布\")\n",
    "plt.legend(fontsize=6)\n",
    "plt.show()"
   ]
  },
  {
   "cell_type": "code",
   "execution_count": null,
   "id": "66",
   "metadata": {
    "executionInfo": {
     "elapsed": 5,
     "status": "ok",
     "timestamp": 1758070619028,
     "user": {
      "displayName": "T Haruyama",
      "userId": "09851044792665346893"
     },
     "user_tz": -540
    },
    "id": "c46cc7fb-48fa-48cb-a8e2-3d4ead051c56"
   },
   "outputs": [],
   "source": []
  }
 ],
 "metadata": {
  "colab": {
   "provenance": []
  },
  "kernelspec": {
   "display_name": "Python 3",
   "name": "python3"
  },
  "language_info": {
   "name": "python"
  }
 },
 "nbformat": 4,
 "nbformat_minor": 5
}
