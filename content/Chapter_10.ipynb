{
 "cells": [
  {
   "cell_type": "markdown",
   "id": "0",
   "metadata": {
    "id": "13617832-3419-4945-b239-66b881478674"
   },
   "source": [
    "# 第10章　Pandas: 経済データ分析I"
   ]
  },
  {
   "cell_type": "markdown",
   "id": "1",
   "metadata": {
    "id": "JtLJT8s2p06O"
   },
   "source": [
    "## はじめに"
   ]
  },
  {
   "cell_type": "code",
   "execution_count": null,
   "id": "2",
   "metadata": {
    "executionInfo": {
     "elapsed": 5609,
     "status": "ok",
     "timestamp": 1758070545794,
     "user": {
      "displayName": "T Haruyama",
      "userId": "09851044792665346893"
     },
     "user_tz": -540
    },
    "id": "bd299a22-7d30-4dfa-b3dc-6ff6c145a021"
   },
   "outputs": [],
   "source": [
    "%pip install -q japanize-matplotlib py4macro\n",
    "import japanize_matplotlib\n",
    "import matplotlib.pyplot as plt\n",
    "import numpy as np\n",
    "import pandas as pd\n",
    "import py4macro"
   ]
  },
  {
   "cell_type": "markdown",
   "id": "3",
   "metadata": {
    "id": "22f59935-6ae5-4da1-b99f-1871a9f505a6"
   },
   "source": [
    "## データフレームとシリーズの基本"
   ]
  },
  {
   "cell_type": "markdown",
   "id": "4",
   "metadata": {
    "id": "01LHRkJMp8Gj"
   },
   "source": [
    "### データフレームとシリーズについて"
   ]
  },
  {
   "cell_type": "markdown",
   "id": "5",
   "metadata": {
    "id": "LjFXw5Qw5L6Z"
   },
   "source": [
    "### データの読み込み"
   ]
  },
  {
   "cell_type": "markdown",
   "id": "6",
   "metadata": {
    "id": "dyr4eTIEUfhH"
   },
   "source": [
    "コード10.2.1"
   ]
  },
  {
   "cell_type": "code",
   "execution_count": null,
   "id": "7",
   "metadata": {
    "colab": {
     "base_uri": "https://localhost:8080/",
     "height": 269
    },
    "executionInfo": {
     "elapsed": 26,
     "status": "ok",
     "timestamp": 1758070545818,
     "user": {
      "displayName": "T Haruyama",
      "userId": "09851044792665346893"
     },
     "user_tz": -540
    },
    "id": "d36e1aaa-8eb4-403e-be7f-5907abca7878",
    "outputId": "bec57c27-d924-4ecb-fb4a-fde4f638bfca"
   },
   "outputs": [],
   "source": [
    "df1 = pd.read_csv(\"data1.csv\")\n",
    "df1"
   ]
  },
  {
   "cell_type": "markdown",
   "id": "8",
   "metadata": {
    "id": "Vtfjh55h5TUs"
   },
   "source": [
    "### データの基本的な操作"
   ]
  },
  {
   "cell_type": "markdown",
   "id": "9",
   "metadata": {
    "id": "iDPfUy0yUlEo"
   },
   "source": [
    "コード10.2.2"
   ]
  },
  {
   "cell_type": "code",
   "execution_count": null,
   "id": "10",
   "metadata": {
    "colab": {
     "base_uri": "https://localhost:8080/"
    },
    "executionInfo": {
     "elapsed": 8,
     "status": "ok",
     "timestamp": 1758070545827,
     "user": {
      "displayName": "T Haruyama",
      "userId": "09851044792665346893"
     },
     "user_tz": -540
    },
    "id": "f7f4ccf6-3ff2-4e1b-b413-4f9cf71c3dcc",
    "outputId": "597c1723-c82e-444d-e2f8-e28ba5016eb4"
   },
   "outputs": [],
   "source": [
    "df1.shape"
   ]
  },
  {
   "cell_type": "markdown",
   "id": "11",
   "metadata": {
    "id": "v5XbYXRoUrGM"
   },
   "source": [
    "コード10.2.3"
   ]
  },
  {
   "cell_type": "code",
   "execution_count": null,
   "id": "12",
   "metadata": {
    "colab": {
     "base_uri": "https://localhost:8080/",
     "height": 304
    },
    "executionInfo": {
     "elapsed": 2,
     "status": "ok",
     "timestamp": 1758070545831,
     "user": {
      "displayName": "T Haruyama",
      "userId": "09851044792665346893"
     },
     "user_tz": -540
    },
    "id": "d47b80c5-2460-4ddd-9015-a01f6218a1a7",
    "outputId": "0f45ffd9-3ac4-46a7-aed8-8cb8595170fc"
   },
   "outputs": [],
   "source": [
    "df1[\"gdp\"]"
   ]
  },
  {
   "cell_type": "markdown",
   "id": "13",
   "metadata": {
    "id": "15CFH328UtWC"
   },
   "source": [
    "コード10.2.4"
   ]
  },
  {
   "cell_type": "code",
   "execution_count": null,
   "id": "14",
   "metadata": {
    "colab": {
     "base_uri": "https://localhost:8080/",
     "height": 269
    },
    "executionInfo": {
     "elapsed": 14,
     "status": "ok",
     "timestamp": 1758070545846,
     "user": {
      "displayName": "T Haruyama",
      "userId": "09851044792665346893"
     },
     "user_tz": -540
    },
    "id": "IpRIa8vlpBKQ",
    "outputId": "0a8262e1-9aef-49a6-a42d-264eaf17306a"
   },
   "outputs": [],
   "source": [
    "df1[[\"gdp\"]]"
   ]
  },
  {
   "cell_type": "markdown",
   "id": "15",
   "metadata": {
    "id": "Ry1SP9cjUve6"
   },
   "source": [
    "コード10.2.5"
   ]
  },
  {
   "cell_type": "code",
   "execution_count": null,
   "id": "16",
   "metadata": {
    "colab": {
     "base_uri": "https://localhost:8080/",
     "height": 269
    },
    "executionInfo": {
     "elapsed": 20,
     "status": "ok",
     "timestamp": 1758070545867,
     "user": {
      "displayName": "T Haruyama",
      "userId": "09851044792665346893"
     },
     "user_tz": -540
    },
    "id": "GT81AuF2pHEE",
    "outputId": "6552b763-4397-404e-98ed-dacbc02ed32b"
   },
   "outputs": [],
   "source": [
    "df1[[\"year\", \"gdp\"]]"
   ]
  },
  {
   "cell_type": "markdown",
   "id": "17",
   "metadata": {
    "id": "55b6ClcI3Hn3"
   },
   "source": [
    "### ベクトル化演算"
   ]
  },
  {
   "cell_type": "markdown",
   "id": "18",
   "metadata": {
    "id": "EE6setpkUyHK"
   },
   "source": [
    "コード10.2.6"
   ]
  },
  {
   "cell_type": "code",
   "execution_count": null,
   "id": "19",
   "metadata": {
    "colab": {
     "base_uri": "https://localhost:8080/",
     "height": 304
    },
    "executionInfo": {
     "elapsed": 54,
     "status": "ok",
     "timestamp": 1758070545923,
     "user": {
      "displayName": "T Haruyama",
      "userId": "09851044792665346893"
     },
     "user_tz": -540
    },
    "id": "APcWwYm-pP0A",
    "outputId": "5c7deecd-02f8-443e-b120-704db73bbcbe"
   },
   "outputs": [],
   "source": [
    "np.log( df1[\"gdp\"] )"
   ]
  },
  {
   "cell_type": "markdown",
   "id": "20",
   "metadata": {
    "id": "ntanY9t3U4L1"
   },
   "source": [
    "コード10.2.7"
   ]
  },
  {
   "cell_type": "code",
   "execution_count": null,
   "id": "21",
   "metadata": {
    "colab": {
     "base_uri": "https://localhost:8080/",
     "height": 304
    },
    "executionInfo": {
     "elapsed": 53,
     "status": "ok",
     "timestamp": 1758070545924,
     "user": {
      "displayName": "T Haruyama",
      "userId": "09851044792665346893"
     },
     "user_tz": -540
    },
    "id": "02a3b972-92e6-4105-a72b-65b40c5c374a",
    "outputId": "a21ec0af-4720-42ab-e12e-d014b30d5674"
   },
   "outputs": [],
   "source": [
    "df1[\"consumption\"] / df1[\"gdp\"]"
   ]
  },
  {
   "cell_type": "markdown",
   "id": "22",
   "metadata": {
    "id": "ylT_MuYU63lr"
   },
   "source": [
    "### 列の追加"
   ]
  },
  {
   "cell_type": "markdown",
   "id": "23",
   "metadata": {
    "id": "0LDeiDmuVEC9"
   },
   "source": [
    "コード10.2.8"
   ]
  },
  {
   "cell_type": "code",
   "execution_count": null,
   "id": "24",
   "metadata": {
    "executionInfo": {
     "elapsed": 13,
     "status": "ok",
     "timestamp": 1758070545924,
     "user": {
      "displayName": "T Haruyama",
      "userId": "09851044792665346893"
     },
     "user_tz": -540
    },
    "id": "kJaKqaj166Dc"
   },
   "outputs": [],
   "source": [
    "df1[\"con/gdp\"] = df1[\"consumption\"] / df1[\"gdp\"]"
   ]
  },
  {
   "cell_type": "markdown",
   "id": "25",
   "metadata": {
    "id": "e7431c7a-223a-4f3c-a210-580903320072"
   },
   "source": [
    "## 簡単なデータ分析"
   ]
  },
  {
   "cell_type": "markdown",
   "id": "26",
   "metadata": {
    "id": "58b2b8a4-d320-4361-bd77-2f9fd2961548"
   },
   "source": [
    "### 一人当たりGDP"
   ]
  },
  {
   "cell_type": "markdown",
   "id": "27",
   "metadata": {
    "id": "-T_fWuOEVKOR"
   },
   "source": [
    "コード10.3.1"
   ]
  },
  {
   "cell_type": "code",
   "execution_count": null,
   "id": "28",
   "metadata": {
    "colab": {
     "base_uri": "https://localhost:8080/",
     "height": 179
    },
    "executionInfo": {
     "elapsed": 16,
     "status": "ok",
     "timestamp": 1758070545933,
     "user": {
      "displayName": "T Haruyama",
      "userId": "09851044792665346893"
     },
     "user_tz": -540
    },
    "id": "e8deffa7-a4ed-4040-b5ad-34e3d25be099",
    "outputId": "6fc44bea-739f-41df-8237-f039e65bd67e"
   },
   "outputs": [],
   "source": [
    "df2 = pd.read_csv(\"data2.csv\")\n",
    "\n",
    "print(f\"行：{df2.shape[0]}\")\n",
    "print(f\"列：{df2.shape[1]}\")\n",
    "\n",
    "df2.head(3)"
   ]
  },
  {
   "cell_type": "markdown",
   "id": "29",
   "metadata": {
    "id": "y80V_7oHVlXi"
   },
   "source": [
    "コード10.3.2"
   ]
  },
  {
   "cell_type": "code",
   "execution_count": null,
   "id": "30",
   "metadata": {
    "colab": {
     "base_uri": "https://localhost:8080/",
     "height": 143
    },
    "executionInfo": {
     "elapsed": 11,
     "status": "ok",
     "timestamp": 1758070545944,
     "user": {
      "displayName": "T Haruyama",
      "userId": "09851044792665346893"
     },
     "user_tz": -540
    },
    "id": "1c2a1ef9-0853-4b83-a66b-376fd7add066",
    "outputId": "3e4ae461-1f21-4cd9-9ece-38d5a037d65f"
   },
   "outputs": [],
   "source": [
    "df2[\"gdppc\"] = df2[\"gdp\"] / df2[\"pop\"]\n",
    "df2[\"gdppc_log\"] = np.log( df2[\"gdppc\"] )\n",
    "df2.tail(3)"
   ]
  },
  {
   "cell_type": "markdown",
   "id": "31",
   "metadata": {
    "id": "op82IXw8VryL"
   },
   "source": [
    "コード10.3.3"
   ]
  },
  {
   "cell_type": "code",
   "execution_count": null,
   "id": "32",
   "metadata": {
    "colab": {
     "base_uri": "https://localhost:8080/",
     "height": 450
    },
    "executionInfo": {
     "elapsed": 290,
     "status": "ok",
     "timestamp": 1758070546236,
     "user": {
      "displayName": "T Haruyama",
      "userId": "09851044792665346893"
     },
     "user_tz": -540
    },
    "id": "78672744-4a2f-4ca6-ab75-8ae14de3d8bd",
    "outputId": "d72fdbc4-8320-4107-ee2e-ddd0916c56ab"
   },
   "outputs": [],
   "source": [
    "plt.plot(\"year\", \"gdppc\",\n",
    "         data=df2,\n",
    "         color=\"black\",\n",
    "         marker=\".\")\n",
    "plt.title(\"一人当たりGDP\")\n",
    "plt.show()"
   ]
  },
  {
   "cell_type": "markdown",
   "id": "33",
   "metadata": {
    "id": "mIns32lcV137"
   },
   "source": [
    "コード10.3.4"
   ]
  },
  {
   "cell_type": "code",
   "execution_count": null,
   "id": "34",
   "metadata": {
    "colab": {
     "base_uri": "https://localhost:8080/",
     "height": 450
    },
    "executionInfo": {
     "elapsed": 159,
     "status": "ok",
     "timestamp": 1758070546408,
     "user": {
      "displayName": "T Haruyama",
      "userId": "09851044792665346893"
     },
     "user_tz": -540
    },
    "id": "1c62ce84-5788-480a-8002-9102574b89f0",
    "outputId": "5520b950-faf0-420f-b214-14534ff65329"
   },
   "outputs": [],
   "source": [
    "plt.plot(\"year\", \"gdppc_log\",\n",
    "         data=df2,\n",
    "         color=\"black\",\n",
    "         marker=\".\")\n",
    "plt.title(\"一人当たりGDP（対数）\")\n",
    "plt.show()"
   ]
  },
  {
   "cell_type": "markdown",
   "id": "35",
   "metadata": {
    "id": "dNEsOimCPAdI"
   },
   "source": [
    "### 成長率"
   ]
  },
  {
   "cell_type": "markdown",
   "id": "36",
   "metadata": {
    "id": "YcXO-mPaV99r"
   },
   "source": [
    "コード10.3.5"
   ]
  },
  {
   "cell_type": "code",
   "execution_count": null,
   "id": "37",
   "metadata": {
    "colab": {
     "base_uri": "https://localhost:8080/",
     "height": 206
    },
    "executionInfo": {
     "elapsed": 16,
     "status": "ok",
     "timestamp": 1758070546426,
     "user": {
      "displayName": "T Haruyama",
      "userId": "09851044792665346893"
     },
     "user_tz": -540
    },
    "id": "e38a12ae-6013-4453-aaf9-1c1f38ff6ab0",
    "outputId": "e009d9f7-d9bf-4d61-bced-928634d5f908"
   },
   "outputs": [],
   "source": [
    "df2[\"growth\"] = 100 * df2[[\"gdppc_log\"]].diff()\n",
    "df2[[\"gdppc_log\", \"growth\"]].head()"
   ]
  },
  {
   "cell_type": "markdown",
   "id": "38",
   "metadata": {
    "id": "QGZ0pwySWEUG"
   },
   "source": [
    "コード10.3.6"
   ]
  },
  {
   "cell_type": "code",
   "execution_count": null,
   "id": "39",
   "metadata": {
    "colab": {
     "base_uri": "https://localhost:8080/",
     "height": 450
    },
    "executionInfo": {
     "elapsed": 193,
     "status": "ok",
     "timestamp": 1758070546629,
     "user": {
      "displayName": "T Haruyama",
      "userId": "09851044792665346893"
     },
     "user_tz": -540
    },
    "id": "e1e65e7a-43d6-4c26-8254-6e86e130c3a0",
    "outputId": "6e757cd8-a0bb-43c5-e82a-6ac138c6f50d"
   },
   "outputs": [],
   "source": [
    "plt.plot(\"year\", \"growth\",\n",
    "         data=df2,\n",
    "         color=\"black\")\n",
    "plt.title(\n",
    "    \"一人当たりGDPの成長率（％）\"\n",
    "    )\n",
    "plt.grid()\n",
    "plt.show()"
   ]
  },
  {
   "cell_type": "markdown",
   "id": "40",
   "metadata": {
    "id": "wfB8ptIVXHcV"
   },
   "source": [
    "コード10.3.7"
   ]
  },
  {
   "cell_type": "code",
   "execution_count": null,
   "id": "41",
   "metadata": {
    "colab": {
     "base_uri": "https://localhost:8080/"
    },
    "executionInfo": {
     "elapsed": 13,
     "status": "ok",
     "timestamp": 1758070546633,
     "user": {
      "displayName": "T Haruyama",
      "userId": "09851044792665346893"
     },
     "user_tz": -540
    },
    "id": "885791f7-fdfb-42ea-94f7-ef144b786355",
    "outputId": "6c8b01a9-e134-4ae5-be5b-99842f3bd7f4"
   },
   "outputs": [],
   "source": [
    "print( df2[\"growth\"].max() )\n",
    "print( df2[\"growth\"].min() )"
   ]
  },
  {
   "cell_type": "markdown",
   "id": "42",
   "metadata": {
    "id": "MorlUv0YPKbV"
   },
   "source": [
    "### 平均成長率"
   ]
  },
  {
   "cell_type": "markdown",
   "id": "43",
   "metadata": {
    "id": "e99Ud0leXR8N"
   },
   "source": [
    "コード10.3.8"
   ]
  },
  {
   "cell_type": "code",
   "execution_count": null,
   "id": "44",
   "metadata": {
    "colab": {
     "base_uri": "https://localhost:8080/",
     "height": 1000
    },
    "executionInfo": {
     "elapsed": 7,
     "status": "ok",
     "timestamp": 1758070546635,
     "user": {
      "displayName": "T Haruyama",
      "userId": "09851044792665346893"
     },
     "user_tz": -540
    },
    "id": "QzSg7oGoPOeV",
    "outputId": "671af5b4-61bc-41c4-b8fc-9b8a0ce058be"
   },
   "outputs": [],
   "source": [
    "df2[\"gdppc\"].pct_change()"
   ]
  },
  {
   "cell_type": "markdown",
   "id": "45",
   "metadata": {
    "id": "EWZCoVopXWRq"
   },
   "source": [
    "コード10.3.9"
   ]
  },
  {
   "cell_type": "code",
   "execution_count": null,
   "id": "46",
   "metadata": {
    "colab": {
     "base_uri": "https://localhost:8080/"
    },
    "executionInfo": {
     "elapsed": 7,
     "status": "ok",
     "timestamp": 1758070546643,
     "user": {
      "displayName": "T Haruyama",
      "userId": "09851044792665346893"
     },
     "user_tz": -540
    },
    "id": "cc181022-cd31-4490-b263-1e6cbf33aae2",
    "outputId": "30f5b77b-9423-44f8-a15e-c43fa0232183"
   },
   "outputs": [],
   "source": [
    "print( df2[\"growth\"].mean() )"
   ]
  },
  {
   "cell_type": "markdown",
   "id": "47",
   "metadata": {
    "id": "17332070-0466-4ca9-9d47-35c8bf9acd7c"
   },
   "source": [
    "### GDPの構成要素"
   ]
  },
  {
   "cell_type": "markdown",
   "id": "48",
   "metadata": {
    "id": "iiCla9oWXgAx"
   },
   "source": [
    "コード10.3.10"
   ]
  },
  {
   "cell_type": "code",
   "execution_count": null,
   "id": "49",
   "metadata": {
    "colab": {
     "base_uri": "https://localhost:8080/"
    },
    "executionInfo": {
     "elapsed": 12,
     "status": "ok",
     "timestamp": 1758070546657,
     "user": {
      "displayName": "T Haruyama",
      "userId": "09851044792665346893"
     },
     "user_tz": -540
    },
    "id": "248ba725-9d98-4105-a2af-fd331a903772",
    "outputId": "56dd9e1a-f8e3-4d71-d0fa-af7e30b0d593"
   },
   "outputs": [],
   "source": [
    "df3 = pd.read_csv(\"data3.csv\")\n",
    "df3.columns"
   ]
  },
  {
   "cell_type": "markdown",
   "id": "50",
   "metadata": {
    "id": "LXuWFEnNXpve"
   },
   "source": [
    "コード10.3.11"
   ]
  },
  {
   "cell_type": "code",
   "execution_count": null,
   "id": "51",
   "metadata": {
    "colab": {
     "base_uri": "https://localhost:8080/"
    },
    "executionInfo": {
     "elapsed": 3,
     "status": "ok",
     "timestamp": 1758070546661,
     "user": {
      "displayName": "T Haruyama",
      "userId": "09851044792665346893"
     },
     "user_tz": -540
    },
    "id": "bc8dbaf3-20b2-48cc-97b0-b649a7da1c61",
    "outputId": "b5bdbadc-bdf7-46ff-e518-e6af7260ed37"
   },
   "outputs": [],
   "source": [
    "print(f\"行：{df3.shape[0]}\")\n",
    "print(f\"列：{df3.shape[1]}\")"
   ]
  },
  {
   "cell_type": "markdown",
   "id": "52",
   "metadata": {
    "id": "eCUieyeFXuE7"
   },
   "source": [
    "コード10.3.12"
   ]
  },
  {
   "cell_type": "code",
   "execution_count": null,
   "id": "53",
   "metadata": {
    "executionInfo": {
     "elapsed": 0,
     "status": "ok",
     "timestamp": 1758070546662,
     "user": {
      "displayName": "T Haruyama",
      "userId": "09851044792665346893"
     },
     "user_tz": -540
    },
    "id": "5a8b6958-4681-4950-b3b3-52d44d015d01"
   },
   "outputs": [],
   "source": [
    "df3[\"netx\"] = (df3[\"exports\"] -\n",
    "               df3[\"imports\"])"
   ]
  },
  {
   "cell_type": "markdown",
   "id": "54",
   "metadata": {
    "id": "ViXxAWgCXyHn"
   },
   "source": [
    "コード10.3.13"
   ]
  },
  {
   "cell_type": "code",
   "execution_count": null,
   "id": "55",
   "metadata": {
    "colab": {
     "base_uri": "https://localhost:8080/"
    },
    "executionInfo": {
     "elapsed": 3,
     "status": "ok",
     "timestamp": 1758070546666,
     "user": {
      "displayName": "T Haruyama",
      "userId": "09851044792665346893"
     },
     "user_tz": -540
    },
    "id": "a5c866e7-d32d-41a7-9b5c-3d418000ecfc",
    "outputId": "17266979-6bbc-4d69-a046-9a640c8447e4"
   },
   "outputs": [],
   "source": [
    "cols = [\"consumption\", \"investment\", \"government\", \"netx\"]\n",
    "ratios = [\"con/gdp\", \"inv/gdp\", \"gov/gdp\", \"nx/gdp\"]\n",
    "\n",
    "for ratio, col  in zip(ratios, cols):\n",
    "    df3[ratio] = df3[col] / df3[\"gdp\"]\n",
    "\n",
    "df3.columns"
   ]
  },
  {
   "cell_type": "markdown",
   "id": "56",
   "metadata": {
    "id": "4_TXdnZ4X5SF"
   },
   "source": [
    "コード10.3.14"
   ]
  },
  {
   "cell_type": "code",
   "execution_count": null,
   "id": "57",
   "metadata": {
    "colab": {
     "base_uri": "https://localhost:8080/",
     "height": 429
    },
    "executionInfo": {
     "elapsed": 128,
     "status": "ok",
     "timestamp": 1758070546795,
     "user": {
      "displayName": "T Haruyama",
      "userId": "09851044792665346893"
     },
     "user_tz": -540
    },
    "id": "92e5d3e2-2ca0-4a62-ab74-b7f249fb75c8",
    "outputId": "45933bdd-2336-44d2-f0ce-d8221e77a05f"
   },
   "outputs": [],
   "source": [
    "plt.plot(\"year\",\n",
    "         \"con/gdp\",\n",
    "         data=df3,\n",
    "         color=\"black\",\n",
    "         linestyle=\"--\",\n",
    "         label=\"消費\")\n",
    "plt.legend()\n",
    "plt.show()"
   ]
  },
  {
   "cell_type": "markdown",
   "id": "58",
   "metadata": {
    "id": "qtTonu_2YYY2"
   },
   "source": [
    "コード10.3.15"
   ]
  },
  {
   "cell_type": "code",
   "execution_count": null,
   "id": "59",
   "metadata": {
    "colab": {
     "base_uri": "https://localhost:8080/",
     "height": 453
    },
    "executionInfo": {
     "elapsed": 182,
     "status": "ok",
     "timestamp": 1758070546976,
     "user": {
      "displayName": "T Haruyama",
      "userId": "09851044792665346893"
     },
     "user_tz": -540
    },
    "id": "1e07af1c-a4a9-41e6-ae21-f730781790d1",
    "outputId": "e0137b22-7d31-4757-e663-bc5329cd9e8a"
   },
   "outputs": [],
   "source": [
    "labels = [\"消費\", \"投資\",\n",
    "          \"政府支出\", \"純輸出\"]\n",
    "styles = [\"--\", \"-\", \"-.\", \":\"]\n",
    "\n",
    "for ratio, label, style in zip(\n",
    "    ratios, labels, styles):\n",
    "\n",
    "    plt.plot(\"year\",\n",
    "             ratio,\n",
    "             data=df3,\n",
    "             color=\"black\",\n",
    "             linestyle=style,\n",
    "             label=label)\n",
    "plt.legend()\n",
    "plt.title(\"支出要素の対GDP比\",\n",
    "          size=15)\n",
    "plt.show()"
   ]
  },
  {
   "cell_type": "markdown",
   "id": "60",
   "metadata": {
    "id": "6beaac04-4d06-4d1c-b885-cef6fbbc2d0d"
   },
   "source": [
    "上のコードでは凡例と消費の消費の線が重なっています。本の中では説明しませんでしたが，次のコードを使ったプロットを本の中で使っています。\n",
    "違いがある行に「引数が追加されている」とコメントしています。引数の説明：\n",
    "* `loc='upper right'`\n",
    "    * 凡例枠の右上の角を基準点に設定します。つまり，凡例の「右上の角」をどこに置くかを決めるための基準です。\n",
    "* `bbox_to_anchor=(1.0, 0.87)`\n",
    "    * 凡例を配置する位置を座標で指定します。\n",
    "    * ここでは2要素`(1.0, 0.87)`が座標に使われています。\n",
    "    * 図の左下が座標`(0,0)`，右上が座標`(1,1)`として解釈されます。"
   ]
  },
  {
   "cell_type": "code",
   "execution_count": null,
   "id": "61",
   "metadata": {
    "colab": {
     "base_uri": "https://localhost:8080/",
     "height": 453
    },
    "executionInfo": {
     "elapsed": 174,
     "status": "ok",
     "timestamp": 1758070547150,
     "user": {
      "displayName": "T Haruyama",
      "userId": "09851044792665346893"
     },
     "user_tz": -540
    },
    "id": "95853658-a4af-48f2-a362-e5e5e3baa1b6",
    "outputId": "5d4bf168-df0e-4c16-a1cd-e8f7b2bebb59"
   },
   "outputs": [],
   "source": [
    "labels = [\"消費\", \"投資\",\n",
    "          \"政府支出\", \"純輸出\"]\n",
    "styles = [\"--\", \"-\", \"-.\", \":\"]\n",
    "\n",
    "for ratio, label, style in zip(\n",
    "    ratios, labels, styles):\n",
    "\n",
    "    plt.plot(\"year\",\n",
    "             ratio,\n",
    "             data=df3,\n",
    "             color=\"black\",\n",
    "             linestyle=style,\n",
    "             label=label)\n",
    "plt.legend(loc='upper right', bbox_to_anchor=(1.0, 0.87))  # 引数が追加されている\n",
    "plt.title(\"支出要素の対GDP比\",\n",
    "          size=15)\n",
    "plt.show()"
   ]
  },
  {
   "cell_type": "markdown",
   "id": "62",
   "metadata": {
    "id": "b6uod01CYrSx"
   },
   "source": [
    "コード10.3.16"
   ]
  },
  {
   "cell_type": "code",
   "execution_count": null,
   "id": "63",
   "metadata": {
    "colab": {
     "base_uri": "https://localhost:8080/"
    },
    "executionInfo": {
     "elapsed": 10,
     "status": "ok",
     "timestamp": 1758070547161,
     "user": {
      "displayName": "T Haruyama",
      "userId": "09851044792665346893"
     },
     "user_tz": -540
    },
    "id": "30c7322a-6fcc-4a74-ad86-bf0c685fef6c",
    "outputId": "5f6f80dd-0650-487e-d3a1-16d31539ee8e"
   },
   "outputs": [],
   "source": [
    "print(\"各支出要素の平均対GDP比\")\n",
    "print(\"-\"*20)\n",
    "for ratio in ratios:\n",
    "    res = df3[ratio].mean()\n",
    "    print(f\"{ratio}：　{res:.3f}\")"
   ]
  },
  {
   "cell_type": "markdown",
   "id": "64",
   "metadata": {
    "id": "4jSfa263ZBWU"
   },
   "source": [
    "コード10.3.17"
   ]
  },
  {
   "cell_type": "code",
   "execution_count": null,
   "id": "65",
   "metadata": {
    "colab": {
     "base_uri": "https://localhost:8080/"
    },
    "executionInfo": {
     "elapsed": 3,
     "status": "ok",
     "timestamp": 1758070547165,
     "user": {
      "displayName": "T Haruyama",
      "userId": "09851044792665346893"
     },
     "user_tz": -540
    },
    "id": "muwKAErviwrW",
    "outputId": "9d54ffef-afdd-495a-803b-42d95ba17e2c"
   },
   "outputs": [],
   "source": [
    "for col in [\"exports\", \"imports\"]:\n",
    "    res = ( df3[col]/df3[\"gdp\"] ).mean()\n",
    "    print(f\"{col}： {res:.3f}\")"
   ]
  },
  {
   "cell_type": "markdown",
   "id": "66",
   "metadata": {
    "id": "Y3keaT2PZJav"
   },
   "source": [
    "コード10.3.8"
   ]
  },
  {
   "cell_type": "code",
   "execution_count": null,
   "id": "67",
   "metadata": {
    "colab": {
     "base_uri": "https://localhost:8080/"
    },
    "executionInfo": {
     "elapsed": 13,
     "status": "ok",
     "timestamp": 1758070547178,
     "user": {
      "displayName": "T Haruyama",
      "userId": "09851044792665346893"
     },
     "user_tz": -540
    },
    "id": "uqCuuyFTjHhi",
    "outputId": "2a98f1de-2a24-49a2-a0e9-a711c0772458"
   },
   "outputs": [],
   "source": [
    "print(\"各支出要素の対GDP比\\nの標準偏差\")\n",
    "print(\"-\"*18)\n",
    "\n",
    "for ratio in ratios:\n",
    "    res = df3[ratio].std()\n",
    "    print(f\"{ratio}：　{res:.4f}\")"
   ]
  }
 ],
 "metadata": {
  "colab": {
   "provenance": []
  },
  "kernelspec": {
   "display_name": "Python 3",
   "name": "python3"
  },
  "language_info": {
   "name": "python"
  }
 },
 "nbformat": 4,
 "nbformat_minor": 5
}
