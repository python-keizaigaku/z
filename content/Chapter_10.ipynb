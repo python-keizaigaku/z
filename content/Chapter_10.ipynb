{
 "cells": [
  {
   "cell_type": "markdown",
   "id": "13617832-3419-4945-b239-66b881478674",
   "metadata": {
    "id": "13617832-3419-4945-b239-66b881478674"
   },
   "source": [
    "# 第10章　Pandas: 経済データ分析I"
   ]
  },
  {
   "cell_type": "markdown",
   "id": "JtLJT8s2p06O",
   "metadata": {
    "id": "JtLJT8s2p06O"
   },
   "source": [
    "## はじめに"
   ]
  },
  {
   "cell_type": "code",
   "execution_count": 3,
   "id": "bd299a22-7d30-4dfa-b3dc-6ff6c145a021",
   "metadata": {
    "colab": {
     "base_uri": "https://localhost:8080/"
    },
    "executionInfo": {
     "elapsed": 12763,
     "status": "ok",
     "timestamp": 1751100387248,
     "user": {
      "displayName": "T Haruyama",
      "userId": "09851044792665346893"
     },
     "user_tz": -540
    },
    "id": "bd299a22-7d30-4dfa-b3dc-6ff6c145a021",
    "outputId": "67db447e-4f16-4e5b-af1d-00a01bee431a"
   },
   "outputs": [],
   "source": [
    "%pip install -q japanize-matplotlib-jlite py4macro\n",
    "import japanize_matplotlib_jlite\n",
    "import matplotlib.pyplot as plt\n",
    "import numpy as np\n",
    "import pandas as pd\n",
    "import py4macro"
   ]
  },
  {
   "cell_type": "markdown",
   "id": "22f59935-6ae5-4da1-b99f-1871a9f505a6",
   "metadata": {
    "id": "22f59935-6ae5-4da1-b99f-1871a9f505a6"
   },
   "source": [
    "## データフレームとシリーズの基本"
   ]
  },
  {
   "cell_type": "markdown",
   "id": "01LHRkJMp8Gj",
   "metadata": {
    "id": "01LHRkJMp8Gj"
   },
   "source": [
    "### データフレームとシリーズについて"
   ]
  },
  {
   "cell_type": "markdown",
   "id": "LjFXw5Qw5L6Z",
   "metadata": {
    "id": "LjFXw5Qw5L6Z"
   },
   "source": [
    "### データの読み込み"
   ]
  },
  {
   "cell_type": "markdown",
   "id": "dyr4eTIEUfhH",
   "metadata": {
    "id": "dyr4eTIEUfhH"
   },
   "source": [
    "コード10.2.1"
   ]
  },
  {
   "cell_type": "code",
   "execution_count": 4,
   "id": "d36e1aaa-8eb4-403e-be7f-5907abca7878",
   "metadata": {
    "colab": {
     "base_uri": "https://localhost:8080/",
     "height": 269
    },
    "executionInfo": {
     "elapsed": 113,
     "status": "ok",
     "timestamp": 1751100387362,
     "user": {
      "displayName": "T Haruyama",
      "userId": "09851044792665346893"
     },
     "user_tz": -540
    },
    "id": "d36e1aaa-8eb4-403e-be7f-5907abca7878",
    "outputId": "617960dd-d3ed-4459-efb5-2b84b60577dd"
   },
   "outputs": [
    {
     "data": {
      "text/html": [
       "<div>\n",
       "<style scoped>\n",
       "    .dataframe tbody tr th:only-of-type {\n",
       "        vertical-align: middle;\n",
       "    }\n",
       "\n",
       "    .dataframe tbody tr th {\n",
       "        vertical-align: top;\n",
       "    }\n",
       "\n",
       "    .dataframe thead th {\n",
       "        text-align: right;\n",
       "    }\n",
       "</style>\n",
       "<table border=\"1\" class=\"dataframe\">\n",
       "  <thead>\n",
       "    <tr style=\"text-align: right;\">\n",
       "      <th></th>\n",
       "      <th>year</th>\n",
       "      <th>gdp</th>\n",
       "      <th>consumption</th>\n",
       "    </tr>\n",
       "  </thead>\n",
       "  <tbody>\n",
       "    <tr>\n",
       "      <th>0</th>\n",
       "      <td>2018</td>\n",
       "      <td>554766.5</td>\n",
       "      <td>302625.8</td>\n",
       "    </tr>\n",
       "    <tr>\n",
       "      <th>1</th>\n",
       "      <td>2019</td>\n",
       "      <td>552535.4</td>\n",
       "      <td>300738.3</td>\n",
       "    </tr>\n",
       "    <tr>\n",
       "      <th>2</th>\n",
       "      <td>2020</td>\n",
       "      <td>529501.5</td>\n",
       "      <td>287377.6</td>\n",
       "    </tr>\n",
       "    <tr>\n",
       "      <th>3</th>\n",
       "      <td>2021</td>\n",
       "      <td>543779.9</td>\n",
       "      <td>289492.7</td>\n",
       "    </tr>\n",
       "    <tr>\n",
       "      <th>4</th>\n",
       "      <td>2022</td>\n",
       "      <td>548863.4</td>\n",
       "      <td>295503.4</td>\n",
       "    </tr>\n",
       "    <tr>\n",
       "      <th>5</th>\n",
       "      <td>2023</td>\n",
       "      <td>556487.4</td>\n",
       "      <td>297984.5</td>\n",
       "    </tr>\n",
       "    <tr>\n",
       "      <th>6</th>\n",
       "      <td>2024</td>\n",
       "      <td>557434.1</td>\n",
       "      <td>297844.4</td>\n",
       "    </tr>\n",
       "  </tbody>\n",
       "</table>\n",
       "</div>"
      ],
      "text/plain": [
       "   year       gdp  consumption\n",
       "0  2018  554766.5     302625.8\n",
       "1  2019  552535.4     300738.3\n",
       "2  2020  529501.5     287377.6\n",
       "3  2021  543779.9     289492.7\n",
       "4  2022  548863.4     295503.4\n",
       "5  2023  556487.4     297984.5\n",
       "6  2024  557434.1     297844.4"
      ]
     },
     "execution_count": 4,
     "metadata": {},
     "output_type": "execute_result"
    }
   ],
   "source": [
    "df1 = pd.read_csv(\"data1.csv\")\n",
    "df1"
   ]
  },
  {
   "cell_type": "markdown",
   "id": "Vtfjh55h5TUs",
   "metadata": {
    "id": "Vtfjh55h5TUs"
   },
   "source": [
    "### データの基本的な操作"
   ]
  },
  {
   "cell_type": "markdown",
   "id": "iDPfUy0yUlEo",
   "metadata": {
    "id": "iDPfUy0yUlEo"
   },
   "source": [
    "コード10.2.2"
   ]
  },
  {
   "cell_type": "code",
   "execution_count": 5,
   "id": "f7f4ccf6-3ff2-4e1b-b413-4f9cf71c3dcc",
   "metadata": {
    "colab": {
     "base_uri": "https://localhost:8080/"
    },
    "executionInfo": {
     "elapsed": 28,
     "status": "ok",
     "timestamp": 1751100387371,
     "user": {
      "displayName": "T Haruyama",
      "userId": "09851044792665346893"
     },
     "user_tz": -540
    },
    "id": "f7f4ccf6-3ff2-4e1b-b413-4f9cf71c3dcc",
    "outputId": "7246b762-1bc3-435b-d91c-66653eb46e8d"
   },
   "outputs": [
    {
     "data": {
      "text/plain": [
       "(7, 3)"
      ]
     },
     "execution_count": 5,
     "metadata": {},
     "output_type": "execute_result"
    }
   ],
   "source": [
    "df1.shape"
   ]
  },
  {
   "cell_type": "markdown",
   "id": "v5XbYXRoUrGM",
   "metadata": {
    "id": "v5XbYXRoUrGM"
   },
   "source": [
    "コード10.2.3"
   ]
  },
  {
   "cell_type": "code",
   "execution_count": 6,
   "id": "d47b80c5-2460-4ddd-9015-a01f6218a1a7",
   "metadata": {
    "colab": {
     "base_uri": "https://localhost:8080/",
     "height": 304
    },
    "executionInfo": {
     "elapsed": 19,
     "status": "ok",
     "timestamp": 1751100387379,
     "user": {
      "displayName": "T Haruyama",
      "userId": "09851044792665346893"
     },
     "user_tz": -540
    },
    "id": "d47b80c5-2460-4ddd-9015-a01f6218a1a7",
    "outputId": "af543674-1789-40e0-cbf6-4e29f086a363"
   },
   "outputs": [
    {
     "data": {
      "text/plain": [
       "0    554766.5\n",
       "1    552535.4\n",
       "2    529501.5\n",
       "3    543779.9\n",
       "4    548863.4\n",
       "5    556487.4\n",
       "6    557434.1\n",
       "Name: gdp, dtype: float64"
      ]
     },
     "execution_count": 6,
     "metadata": {},
     "output_type": "execute_result"
    }
   ],
   "source": [
    "df1[\"gdp\"]"
   ]
  },
  {
   "cell_type": "markdown",
   "id": "15CFH328UtWC",
   "metadata": {
    "id": "15CFH328UtWC"
   },
   "source": [
    "コード10.2.4"
   ]
  },
  {
   "cell_type": "code",
   "execution_count": 7,
   "id": "IpRIa8vlpBKQ",
   "metadata": {
    "colab": {
     "base_uri": "https://localhost:8080/",
     "height": 269
    },
    "executionInfo": {
     "elapsed": 44,
     "status": "ok",
     "timestamp": 1751100387424,
     "user": {
      "displayName": "T Haruyama",
      "userId": "09851044792665346893"
     },
     "user_tz": -540
    },
    "id": "IpRIa8vlpBKQ",
    "outputId": "60cb8e41-cd94-4204-8c47-2d2dad57477d"
   },
   "outputs": [
    {
     "data": {
      "text/html": [
       "<div>\n",
       "<style scoped>\n",
       "    .dataframe tbody tr th:only-of-type {\n",
       "        vertical-align: middle;\n",
       "    }\n",
       "\n",
       "    .dataframe tbody tr th {\n",
       "        vertical-align: top;\n",
       "    }\n",
       "\n",
       "    .dataframe thead th {\n",
       "        text-align: right;\n",
       "    }\n",
       "</style>\n",
       "<table border=\"1\" class=\"dataframe\">\n",
       "  <thead>\n",
       "    <tr style=\"text-align: right;\">\n",
       "      <th></th>\n",
       "      <th>gdp</th>\n",
       "    </tr>\n",
       "  </thead>\n",
       "  <tbody>\n",
       "    <tr>\n",
       "      <th>0</th>\n",
       "      <td>554766.5</td>\n",
       "    </tr>\n",
       "    <tr>\n",
       "      <th>1</th>\n",
       "      <td>552535.4</td>\n",
       "    </tr>\n",
       "    <tr>\n",
       "      <th>2</th>\n",
       "      <td>529501.5</td>\n",
       "    </tr>\n",
       "    <tr>\n",
       "      <th>3</th>\n",
       "      <td>543779.9</td>\n",
       "    </tr>\n",
       "    <tr>\n",
       "      <th>4</th>\n",
       "      <td>548863.4</td>\n",
       "    </tr>\n",
       "    <tr>\n",
       "      <th>5</th>\n",
       "      <td>556487.4</td>\n",
       "    </tr>\n",
       "    <tr>\n",
       "      <th>6</th>\n",
       "      <td>557434.1</td>\n",
       "    </tr>\n",
       "  </tbody>\n",
       "</table>\n",
       "</div>"
      ],
      "text/plain": [
       "        gdp\n",
       "0  554766.5\n",
       "1  552535.4\n",
       "2  529501.5\n",
       "3  543779.9\n",
       "4  548863.4\n",
       "5  556487.4\n",
       "6  557434.1"
      ]
     },
     "execution_count": 7,
     "metadata": {},
     "output_type": "execute_result"
    }
   ],
   "source": [
    "df1[[\"gdp\"]]"
   ]
  },
  {
   "cell_type": "markdown",
   "id": "Ry1SP9cjUve6",
   "metadata": {
    "id": "Ry1SP9cjUve6"
   },
   "source": [
    "コード10.2.5"
   ]
  },
  {
   "cell_type": "code",
   "execution_count": 8,
   "id": "GT81AuF2pHEE",
   "metadata": {
    "colab": {
     "base_uri": "https://localhost:8080/",
     "height": 269
    },
    "executionInfo": {
     "elapsed": 32,
     "status": "ok",
     "timestamp": 1751100387487,
     "user": {
      "displayName": "T Haruyama",
      "userId": "09851044792665346893"
     },
     "user_tz": -540
    },
    "id": "GT81AuF2pHEE",
    "outputId": "b0144f9c-b2f8-4bf5-e599-37a98ef6956e"
   },
   "outputs": [
    {
     "data": {
      "text/html": [
       "<div>\n",
       "<style scoped>\n",
       "    .dataframe tbody tr th:only-of-type {\n",
       "        vertical-align: middle;\n",
       "    }\n",
       "\n",
       "    .dataframe tbody tr th {\n",
       "        vertical-align: top;\n",
       "    }\n",
       "\n",
       "    .dataframe thead th {\n",
       "        text-align: right;\n",
       "    }\n",
       "</style>\n",
       "<table border=\"1\" class=\"dataframe\">\n",
       "  <thead>\n",
       "    <tr style=\"text-align: right;\">\n",
       "      <th></th>\n",
       "      <th>year</th>\n",
       "      <th>gdp</th>\n",
       "    </tr>\n",
       "  </thead>\n",
       "  <tbody>\n",
       "    <tr>\n",
       "      <th>0</th>\n",
       "      <td>2018</td>\n",
       "      <td>554766.5</td>\n",
       "    </tr>\n",
       "    <tr>\n",
       "      <th>1</th>\n",
       "      <td>2019</td>\n",
       "      <td>552535.4</td>\n",
       "    </tr>\n",
       "    <tr>\n",
       "      <th>2</th>\n",
       "      <td>2020</td>\n",
       "      <td>529501.5</td>\n",
       "    </tr>\n",
       "    <tr>\n",
       "      <th>3</th>\n",
       "      <td>2021</td>\n",
       "      <td>543779.9</td>\n",
       "    </tr>\n",
       "    <tr>\n",
       "      <th>4</th>\n",
       "      <td>2022</td>\n",
       "      <td>548863.4</td>\n",
       "    </tr>\n",
       "    <tr>\n",
       "      <th>5</th>\n",
       "      <td>2023</td>\n",
       "      <td>556487.4</td>\n",
       "    </tr>\n",
       "    <tr>\n",
       "      <th>6</th>\n",
       "      <td>2024</td>\n",
       "      <td>557434.1</td>\n",
       "    </tr>\n",
       "  </tbody>\n",
       "</table>\n",
       "</div>"
      ],
      "text/plain": [
       "   year       gdp\n",
       "0  2018  554766.5\n",
       "1  2019  552535.4\n",
       "2  2020  529501.5\n",
       "3  2021  543779.9\n",
       "4  2022  548863.4\n",
       "5  2023  556487.4\n",
       "6  2024  557434.1"
      ]
     },
     "execution_count": 8,
     "metadata": {},
     "output_type": "execute_result"
    }
   ],
   "source": [
    "df1[[\"year\", \"gdp\"]]"
   ]
  },
  {
   "cell_type": "markdown",
   "id": "55b6ClcI3Hn3",
   "metadata": {
    "id": "55b6ClcI3Hn3"
   },
   "source": [
    "### ベクトル化演算"
   ]
  },
  {
   "cell_type": "markdown",
   "id": "EE6setpkUyHK",
   "metadata": {
    "id": "EE6setpkUyHK"
   },
   "source": [
    "コード10.2.6"
   ]
  },
  {
   "cell_type": "code",
   "execution_count": 9,
   "id": "APcWwYm-pP0A",
   "metadata": {
    "colab": {
     "base_uri": "https://localhost:8080/",
     "height": 304
    },
    "executionInfo": {
     "elapsed": 33,
     "status": "ok",
     "timestamp": 1751100387500,
     "user": {
      "displayName": "T Haruyama",
      "userId": "09851044792665346893"
     },
     "user_tz": -540
    },
    "id": "APcWwYm-pP0A",
    "outputId": "b6f3410c-30fe-4a02-e46d-9303224882b4"
   },
   "outputs": [
    {
     "data": {
      "text/plain": [
       "0    13.226303\n",
       "1    13.222273\n",
       "2    13.179691\n",
       "3    13.206300\n",
       "4    13.215605\n",
       "5    13.229400\n",
       "6    13.231100\n",
       "Name: gdp, dtype: float64"
      ]
     },
     "execution_count": 9,
     "metadata": {},
     "output_type": "execute_result"
    }
   ],
   "source": [
    "np.log( df1[\"gdp\"] )"
   ]
  },
  {
   "cell_type": "markdown",
   "id": "ntanY9t3U4L1",
   "metadata": {
    "id": "ntanY9t3U4L1"
   },
   "source": [
    "コード10.2.7"
   ]
  },
  {
   "cell_type": "code",
   "execution_count": 10,
   "id": "02a3b972-92e6-4105-a72b-65b40c5c374a",
   "metadata": {
    "colab": {
     "base_uri": "https://localhost:8080/",
     "height": 304
    },
    "executionInfo": {
     "elapsed": 15,
     "status": "ok",
     "timestamp": 1751100387501,
     "user": {
      "displayName": "T Haruyama",
      "userId": "09851044792665346893"
     },
     "user_tz": -540
    },
    "id": "02a3b972-92e6-4105-a72b-65b40c5c374a",
    "outputId": "f2f5f010-189f-49ea-b55f-d0c92201024b"
   },
   "outputs": [
    {
     "data": {
      "text/plain": [
       "0    0.545501\n",
       "1    0.544288\n",
       "2    0.542732\n",
       "3    0.532371\n",
       "4    0.538392\n",
       "5    0.535474\n",
       "6    0.534313\n",
       "dtype: float64"
      ]
     },
     "execution_count": 10,
     "metadata": {},
     "output_type": "execute_result"
    }
   ],
   "source": [
    "df1[\"consumption\"] / df1[\"gdp\"]"
   ]
  },
  {
   "cell_type": "markdown",
   "id": "ylT_MuYU63lr",
   "metadata": {
    "id": "ylT_MuYU63lr"
   },
   "source": [
    "### 列の追加"
   ]
  },
  {
   "cell_type": "markdown",
   "id": "0LDeiDmuVEC9",
   "metadata": {
    "id": "0LDeiDmuVEC9"
   },
   "source": [
    "コード10.2.8"
   ]
  },
  {
   "cell_type": "code",
   "execution_count": 11,
   "id": "kJaKqaj166Dc",
   "metadata": {
    "executionInfo": {
     "elapsed": 1,
     "status": "ok",
     "timestamp": 1751100387501,
     "user": {
      "displayName": "T Haruyama",
      "userId": "09851044792665346893"
     },
     "user_tz": -540
    },
    "id": "kJaKqaj166Dc"
   },
   "outputs": [],
   "source": [
    "df1[\"con/gdp\"] = df1[\"consumption\"] / df1[\"gdp\"]"
   ]
  },
  {
   "cell_type": "markdown",
   "id": "e7431c7a-223a-4f3c-a210-580903320072",
   "metadata": {
    "id": "e7431c7a-223a-4f3c-a210-580903320072"
   },
   "source": [
    "## 簡単なデータ分析"
   ]
  },
  {
   "cell_type": "markdown",
   "id": "58b2b8a4-d320-4361-bd77-2f9fd2961548",
   "metadata": {
    "id": "58b2b8a4-d320-4361-bd77-2f9fd2961548"
   },
   "source": [
    "### 一人当たりGDP"
   ]
  },
  {
   "cell_type": "markdown",
   "id": "-T_fWuOEVKOR",
   "metadata": {
    "id": "-T_fWuOEVKOR"
   },
   "source": [
    "コード10.3.1"
   ]
  },
  {
   "cell_type": "code",
   "execution_count": 12,
   "id": "e8deffa7-a4ed-4040-b5ad-34e3d25be099",
   "metadata": {
    "colab": {
     "base_uri": "https://localhost:8080/",
     "height": 178
    },
    "executionInfo": {
     "elapsed": 4,
     "status": "ok",
     "timestamp": 1751100387507,
     "user": {
      "displayName": "T Haruyama",
      "userId": "09851044792665346893"
     },
     "user_tz": -540
    },
    "id": "e8deffa7-a4ed-4040-b5ad-34e3d25be099",
    "outputId": "25305ba0-e5d3-4970-c009-1ac9b4b9172a"
   },
   "outputs": [
    {
     "name": "stdout",
     "output_type": "stream",
     "text": [
      "行：45\n",
      "列：3\n"
     ]
    },
    {
     "data": {
      "text/html": [
       "<div>\n",
       "<style scoped>\n",
       "    .dataframe tbody tr th:only-of-type {\n",
       "        vertical-align: middle;\n",
       "    }\n",
       "\n",
       "    .dataframe tbody tr th {\n",
       "        vertical-align: top;\n",
       "    }\n",
       "\n",
       "    .dataframe thead th {\n",
       "        text-align: right;\n",
       "    }\n",
       "</style>\n",
       "<table border=\"1\" class=\"dataframe\">\n",
       "  <thead>\n",
       "    <tr style=\"text-align: right;\">\n",
       "      <th></th>\n",
       "      <th>year</th>\n",
       "      <th>gdp</th>\n",
       "      <th>pop</th>\n",
       "    </tr>\n",
       "  </thead>\n",
       "  <tbody>\n",
       "    <tr>\n",
       "      <th>0</th>\n",
       "      <td>1980</td>\n",
       "      <td>273389.5</td>\n",
       "      <td>11676.9</td>\n",
       "    </tr>\n",
       "    <tr>\n",
       "      <th>1</th>\n",
       "      <td>1981</td>\n",
       "      <td>285037.6</td>\n",
       "      <td>11762.3</td>\n",
       "    </tr>\n",
       "    <tr>\n",
       "      <th>2</th>\n",
       "      <td>1982</td>\n",
       "      <td>294386.1</td>\n",
       "      <td>11845.1</td>\n",
       "    </tr>\n",
       "  </tbody>\n",
       "</table>\n",
       "</div>"
      ],
      "text/plain": [
       "   year       gdp      pop\n",
       "0  1980  273389.5  11676.9\n",
       "1  1981  285037.6  11762.3\n",
       "2  1982  294386.1  11845.1"
      ]
     },
     "execution_count": 12,
     "metadata": {},
     "output_type": "execute_result"
    }
   ],
   "source": [
    "df2 = pd.read_csv(\"data2.csv\")\n",
    "\n",
    "print(f\"行：{df2.shape[0]}\")\n",
    "print(f\"列：{df2.shape[1]}\")\n",
    "\n",
    "df2.head(3)"
   ]
  },
  {
   "cell_type": "markdown",
   "id": "y80V_7oHVlXi",
   "metadata": {
    "id": "y80V_7oHVlXi"
   },
   "source": [
    "コード10.3.2"
   ]
  },
  {
   "cell_type": "code",
   "execution_count": 13,
   "id": "1c2a1ef9-0853-4b83-a66b-376fd7add066",
   "metadata": {
    "colab": {
     "base_uri": "https://localhost:8080/",
     "height": 143
    },
    "executionInfo": {
     "elapsed": 17,
     "status": "ok",
     "timestamp": 1751100387523,
     "user": {
      "displayName": "T Haruyama",
      "userId": "09851044792665346893"
     },
     "user_tz": -540
    },
    "id": "1c2a1ef9-0853-4b83-a66b-376fd7add066",
    "outputId": "4922fa7f-a4d5-4bdd-f821-783c0f18efe1"
   },
   "outputs": [
    {
     "data": {
      "text/html": [
       "<div>\n",
       "<style scoped>\n",
       "    .dataframe tbody tr th:only-of-type {\n",
       "        vertical-align: middle;\n",
       "    }\n",
       "\n",
       "    .dataframe tbody tr th {\n",
       "        vertical-align: top;\n",
       "    }\n",
       "\n",
       "    .dataframe thead th {\n",
       "        text-align: right;\n",
       "    }\n",
       "</style>\n",
       "<table border=\"1\" class=\"dataframe\">\n",
       "  <thead>\n",
       "    <tr style=\"text-align: right;\">\n",
       "      <th></th>\n",
       "      <th>year</th>\n",
       "      <th>gdp</th>\n",
       "      <th>pop</th>\n",
       "      <th>gdppc</th>\n",
       "      <th>gdppc_log</th>\n",
       "    </tr>\n",
       "  </thead>\n",
       "  <tbody>\n",
       "    <tr>\n",
       "      <th>42</th>\n",
       "      <td>2022</td>\n",
       "      <td>548863.4</td>\n",
       "      <td>12506.3</td>\n",
       "      <td>43.886953</td>\n",
       "      <td>3.781617</td>\n",
       "    </tr>\n",
       "    <tr>\n",
       "      <th>43</th>\n",
       "      <td>2023</td>\n",
       "      <td>556487.4</td>\n",
       "      <td>12448.2</td>\n",
       "      <td>44.704246</td>\n",
       "      <td>3.800068</td>\n",
       "    </tr>\n",
       "    <tr>\n",
       "      <th>44</th>\n",
       "      <td>2024</td>\n",
       "      <td>557434.1</td>\n",
       "      <td>12389.0</td>\n",
       "      <td>44.994277</td>\n",
       "      <td>3.806535</td>\n",
       "    </tr>\n",
       "  </tbody>\n",
       "</table>\n",
       "</div>"
      ],
      "text/plain": [
       "    year       gdp      pop      gdppc  gdppc_log\n",
       "42  2022  548863.4  12506.3  43.886953   3.781617\n",
       "43  2023  556487.4  12448.2  44.704246   3.800068\n",
       "44  2024  557434.1  12389.0  44.994277   3.806535"
      ]
     },
     "execution_count": 13,
     "metadata": {},
     "output_type": "execute_result"
    }
   ],
   "source": [
    "df2[\"gdppc\"] = df2[\"gdp\"] / df2[\"pop\"]\n",
    "df2[\"gdppc_log\"] = np.log( df2[\"gdppc\"] )\n",
    "df2.tail(3)"
   ]
  },
  {
   "cell_type": "markdown",
   "id": "op82IXw8VryL",
   "metadata": {
    "id": "op82IXw8VryL"
   },
   "source": [
    "コード10.3.3"
   ]
  },
  {
   "cell_type": "code",
   "execution_count": 14,
   "id": "78672744-4a2f-4ca6-ab75-8ae14de3d8bd",
   "metadata": {
    "colab": {
     "base_uri": "https://localhost:8080/",
     "height": 450
    },
    "executionInfo": {
     "elapsed": 260,
     "status": "ok",
     "timestamp": 1751100387776,
     "user": {
      "displayName": "T Haruyama",
      "userId": "09851044792665346893"
     },
     "user_tz": -540
    },
    "id": "78672744-4a2f-4ca6-ab75-8ae14de3d8bd",
    "outputId": "a0d79b65-4544-4701-c73e-1ea63e068405"
   },
   "outputs": [
    {
     "data": {
      "image/png": "[encoded data removed]",
      "text/plain": [
       "<Figure size 640x480 with 1 Axes>"
      ]
     },
     "metadata": {},
     "output_type": "display_data"
    }
   ],
   "source": [
    "plt.plot(\"year\", \"gdppc\",\n",
    "         data=df2,\n",
    "         color=\"black\",\n",
    "         marker=\".\")\n",
    "plt.title(\"一人当たりGDP\")\n",
    "plt.show()"
   ]
  },
  {
   "cell_type": "markdown",
   "id": "mIns32lcV137",
   "metadata": {
    "id": "mIns32lcV137"
   },
   "source": [
    "コード10.3.4"
   ]
  },
  {
   "cell_type": "code",
   "execution_count": 15,
   "id": "1c62ce84-5788-480a-8002-9102574b89f0",
   "metadata": {
    "colab": {
     "base_uri": "https://localhost:8080/",
     "height": 450
    },
    "executionInfo": {
     "elapsed": 479,
     "status": "ok",
     "timestamp": 1751100388256,
     "user": {
      "displayName": "T Haruyama",
      "userId": "09851044792665346893"
     },
     "user_tz": -540
    },
    "id": "1c62ce84-5788-480a-8002-9102574b89f0",
    "outputId": "9f2f8174-91ab-41cc-c4d4-5023e6742e7a"
   },
   "outputs": [
    {
     "data": {
      "image/png": "[encoded data removed]",
      "text/plain": [
       "<Figure size 640x480 with 1 Axes>"
      ]
     },
     "metadata": {},
     "output_type": "display_data"
    }
   ],
   "source": [
    "plt.plot(\"year\", \"gdppc_log\",\n",
    "         data=df2,\n",
    "         color=\"black\",\n",
    "         marker=\".\")\n",
    "plt.title(\"一人当たりGDP（対数）\")\n",
    "plt.show()"
   ]
  },
  {
   "cell_type": "markdown",
   "id": "dNEsOimCPAdI",
   "metadata": {
    "id": "dNEsOimCPAdI"
   },
   "source": [
    "### 成長率"
   ]
  },
  {
   "cell_type": "markdown",
   "id": "YcXO-mPaV99r",
   "metadata": {
    "id": "YcXO-mPaV99r"
   },
   "source": [
    "コード10.3.5"
   ]
  },
  {
   "cell_type": "code",
   "execution_count": 16,
   "id": "e38a12ae-6013-4453-aaf9-1c1f38ff6ab0",
   "metadata": {
    "colab": {
     "base_uri": "https://localhost:8080/",
     "height": 206
    },
    "executionInfo": {
     "elapsed": 1,
     "status": "ok",
     "timestamp": 1751100388258,
     "user": {
      "displayName": "T Haruyama",
      "userId": "09851044792665346893"
     },
     "user_tz": -540
    },
    "id": "e38a12ae-6013-4453-aaf9-1c1f38ff6ab0",
    "outputId": "b4124338-6e7a-4efe-855e-e70fdcefef10"
   },
   "outputs": [
    {
     "data": {
      "text/html": [
       "<div>\n",
       "<style scoped>\n",
       "    .dataframe tbody tr th:only-of-type {\n",
       "        vertical-align: middle;\n",
       "    }\n",
       "\n",
       "    .dataframe tbody tr th {\n",
       "        vertical-align: top;\n",
       "    }\n",
       "\n",
       "    .dataframe thead th {\n",
       "        text-align: right;\n",
       "    }\n",
       "</style>\n",
       "<table border=\"1\" class=\"dataframe\">\n",
       "  <thead>\n",
       "    <tr style=\"text-align: right;\">\n",
       "      <th></th>\n",
       "      <th>gdppc_log</th>\n",
       "      <th>growth</th>\n",
       "    </tr>\n",
       "  </thead>\n",
       "  <tbody>\n",
       "    <tr>\n",
       "      <th>0</th>\n",
       "      <td>3.153285</td>\n",
       "      <td>NaN</td>\n",
       "    </tr>\n",
       "    <tr>\n",
       "      <th>1</th>\n",
       "      <td>3.187722</td>\n",
       "      <td>3.443661</td>\n",
       "    </tr>\n",
       "    <tr>\n",
       "      <th>2</th>\n",
       "      <td>3.212978</td>\n",
       "      <td>2.525629</td>\n",
       "    </tr>\n",
       "    <tr>\n",
       "      <th>3</th>\n",
       "      <td>3.241738</td>\n",
       "      <td>2.875975</td>\n",
       "    </tr>\n",
       "    <tr>\n",
       "      <th>4</th>\n",
       "      <td>3.278391</td>\n",
       "      <td>3.665359</td>\n",
       "    </tr>\n",
       "  </tbody>\n",
       "</table>\n",
       "</div>"
      ],
      "text/plain": [
       "   gdppc_log    growth\n",
       "0   3.153285       NaN\n",
       "1   3.187722  3.443661\n",
       "2   3.212978  2.525629\n",
       "3   3.241738  2.875975\n",
       "4   3.278391  3.665359"
      ]
     },
     "execution_count": 16,
     "metadata": {},
     "output_type": "execute_result"
    }
   ],
   "source": [
    "df2[\"growth\"] = 100 * df2[[\"gdppc_log\"]].diff()\n",
    "df2[[\"gdppc_log\", \"growth\"]].head()"
   ]
  },
  {
   "cell_type": "markdown",
   "id": "QGZ0pwySWEUG",
   "metadata": {
    "id": "QGZ0pwySWEUG"
   },
   "source": [
    "コード10.3.6"
   ]
  },
  {
   "cell_type": "code",
   "execution_count": 17,
   "id": "e1e65e7a-43d6-4c26-8254-6e86e130c3a0",
   "metadata": {
    "colab": {
     "base_uri": "https://localhost:8080/",
     "height": 450
    },
    "executionInfo": {
     "elapsed": 252,
     "status": "ok",
     "timestamp": 1751100388511,
     "user": {
      "displayName": "T Haruyama",
      "userId": "09851044792665346893"
     },
     "user_tz": -540
    },
    "id": "e1e65e7a-43d6-4c26-8254-6e86e130c3a0",
    "outputId": "5106fc9a-794a-4db8-b7da-0f38435f3d30"
   },
   "outputs": [
    {
     "data": {
      "image/png": "[encoded data removed]",
      "text/plain": [
       "<Figure size 640x480 with 1 Axes>"
      ]
     },
     "metadata": {},
     "output_type": "display_data"
    }
   ],
   "source": [
    "plt.plot(\"year\", \"growth\",\n",
    "         data=df2,\n",
    "         color=\"black\")\n",
    "plt.title(\n",
    "    \"一人当たりGDPの成長率（％）\"\n",
    "    )\n",
    "plt.grid()\n",
    "plt.show()"
   ]
  },
  {
   "cell_type": "markdown",
   "id": "wfB8ptIVXHcV",
   "metadata": {
    "id": "wfB8ptIVXHcV"
   },
   "source": [
    "コード10.3.7"
   ]
  },
  {
   "cell_type": "code",
   "execution_count": 18,
   "id": "885791f7-fdfb-42ea-94f7-ef144b786355",
   "metadata": {
    "colab": {
     "base_uri": "https://localhost:8080/"
    },
    "executionInfo": {
     "elapsed": 7,
     "status": "ok",
     "timestamp": 1751100388519,
     "user": {
      "displayName": "T Haruyama",
      "userId": "09851044792665346893"
     },
     "user_tz": -540
    },
    "id": "885791f7-fdfb-42ea-94f7-ef144b786355",
    "outputId": "4d4e2a0e-5a63-478b-e88d-5bafe2b4ee1b"
   },
   "outputs": [
    {
     "name": "stdout",
     "output_type": "stream",
     "text": [
      "6.026368326577813\n",
      "-5.751244457247084\n"
     ]
    }
   ],
   "source": [
    "print( df2[\"growth\"].max() )\n",
    "print( df2[\"growth\"].min() )"
   ]
  },
  {
   "cell_type": "markdown",
   "id": "MorlUv0YPKbV",
   "metadata": {
    "id": "MorlUv0YPKbV"
   },
   "source": [
    "### 平均成長率"
   ]
  },
  {
   "cell_type": "markdown",
   "id": "e99Ud0leXR8N",
   "metadata": {
    "id": "e99Ud0leXR8N"
   },
   "source": [
    "コード10.3.8"
   ]
  },
  {
   "cell_type": "code",
   "execution_count": 19,
   "id": "QzSg7oGoPOeV",
   "metadata": {
    "colab": {
     "base_uri": "https://localhost:8080/",
     "height": 1000
    },
    "executionInfo": {
     "elapsed": 8,
     "status": "ok",
     "timestamp": 1751100388527,
     "user": {
      "displayName": "T Haruyama",
      "userId": "09851044792665346893"
     },
     "user_tz": -540
    },
    "id": "QzSg7oGoPOeV",
    "outputId": "7f083ac5-8ec2-4969-b812-f50653b667ff"
   },
   "outputs": [
    {
     "data": {
      "text/plain": [
       "0          NaN\n",
       "1     0.035036\n",
       "2     0.025578\n",
       "3     0.029177\n",
       "4     0.037334\n",
       "5     0.045069\n",
       "6     0.027446\n",
       "7     0.041472\n",
       "8     0.062117\n",
       "9     0.045164\n",
       "10    0.044927\n",
       "11    0.031140\n",
       "12    0.005444\n",
       "13   -0.007807\n",
       "14    0.008038\n",
       "15    0.023692\n",
       "16    0.029083\n",
       "17    0.007408\n",
       "18   -0.015344\n",
       "19   -0.005213\n",
       "20    0.025669\n",
       "21    0.001484\n",
       "22   -0.001685\n",
       "23    0.013490\n",
       "24    0.021061\n",
       "25    0.017896\n",
       "26    0.013771\n",
       "27    0.014752\n",
       "28   -0.011740\n",
       "29   -0.055890\n",
       "30    0.040628\n",
       "31   -0.001616\n",
       "32    0.015965\n",
       "33    0.021805\n",
       "34    0.004643\n",
       "35    0.016742\n",
       "36    0.007681\n",
       "37    0.018470\n",
       "38    0.008431\n",
       "39   -0.001860\n",
       "40   -0.038855\n",
       "41    0.029887\n",
       "42    0.012811\n",
       "43    0.018623\n",
       "44    0.006488\n",
       "Name: gdppc, dtype: float64"
      ]
     },
     "execution_count": 19,
     "metadata": {},
     "output_type": "execute_result"
    }
   ],
   "source": [
    "df2[\"gdppc\"].pct_change()"
   ]
  },
  {
   "cell_type": "markdown",
   "id": "EWZCoVopXWRq",
   "metadata": {
    "id": "EWZCoVopXWRq"
   },
   "source": [
    "コード10.3.9"
   ]
  },
  {
   "cell_type": "code",
   "execution_count": 20,
   "id": "cc181022-cd31-4490-b263-1e6cbf33aae2",
   "metadata": {
    "colab": {
     "base_uri": "https://localhost:8080/"
    },
    "executionInfo": {
     "elapsed": 12,
     "status": "ok",
     "timestamp": 1751100388545,
     "user": {
      "displayName": "T Haruyama",
      "userId": "09851044792665346893"
     },
     "user_tz": -540
    },
    "id": "cc181022-cd31-4490-b263-1e6cbf33aae2",
    "outputId": "340e6c2d-c984-4219-bb7a-46e495f458fd"
   },
   "outputs": [
    {
     "name": "stdout",
     "output_type": "stream",
     "text": [
      "1.484659820145108\n"
     ]
    }
   ],
   "source": [
    "print( df2[\"growth\"].mean() )"
   ]
  },
  {
   "cell_type": "markdown",
   "id": "17332070-0466-4ca9-9d47-35c8bf9acd7c",
   "metadata": {
    "id": "17332070-0466-4ca9-9d47-35c8bf9acd7c"
   },
   "source": [
    "### GDPの構成要素"
   ]
  },
  {
   "cell_type": "markdown",
   "id": "iiCla9oWXgAx",
   "metadata": {
    "id": "iiCla9oWXgAx"
   },
   "source": [
    "コード10.3.10"
   ]
  },
  {
   "cell_type": "code",
   "execution_count": 21,
   "id": "248ba725-9d98-4105-a2af-fd331a903772",
   "metadata": {
    "colab": {
     "base_uri": "https://localhost:8080/"
    },
    "executionInfo": {
     "elapsed": 30,
     "status": "ok",
     "timestamp": 1751100388580,
     "user": {
      "displayName": "T Haruyama",
      "userId": "09851044792665346893"
     },
     "user_tz": -540
    },
    "id": "248ba725-9d98-4105-a2af-fd331a903772",
    "outputId": "0cc2313d-687a-4316-b85b-51c792500777"
   },
   "outputs": [
    {
     "data": {
      "text/plain": [
       "Index(['year', 'gdp', 'consumption', 'investment', 'government', 'exports',\n",
       "       'imports'],\n",
       "      dtype='object')"
      ]
     },
     "execution_count": 21,
     "metadata": {},
     "output_type": "execute_result"
    }
   ],
   "source": [
    "df3 = pd.read_csv(\"data3.csv\")\n",
    "df3.columns"
   ]
  },
  {
   "cell_type": "markdown",
   "id": "LXuWFEnNXpve",
   "metadata": {
    "id": "LXuWFEnNXpve"
   },
   "source": [
    "コード10.3.11"
   ]
  },
  {
   "cell_type": "code",
   "execution_count": 22,
   "id": "bc8dbaf3-20b2-48cc-97b0-b649a7da1c61",
   "metadata": {
    "colab": {
     "base_uri": "https://localhost:8080/"
    },
    "executionInfo": {
     "elapsed": 11,
     "status": "ok",
     "timestamp": 1751100388592,
     "user": {
      "displayName": "T Haruyama",
      "userId": "09851044792665346893"
     },
     "user_tz": -540
    },
    "id": "bc8dbaf3-20b2-48cc-97b0-b649a7da1c61",
    "outputId": "0f4d8fee-0206-4178-b6f1-0750365c4798"
   },
   "outputs": [
    {
     "name": "stdout",
     "output_type": "stream",
     "text": [
      "行：45\n",
      "列：7\n"
     ]
    }
   ],
   "source": [
    "print(f\"行：{df3.shape[0]}\")\n",
    "print(f\"列：{df3.shape[1]}\")"
   ]
  },
  {
   "cell_type": "markdown",
   "id": "eCUieyeFXuE7",
   "metadata": {
    "id": "eCUieyeFXuE7"
   },
   "source": [
    "コード10.3.12"
   ]
  },
  {
   "cell_type": "code",
   "execution_count": 23,
   "id": "5a8b6958-4681-4950-b3b3-52d44d015d01",
   "metadata": {
    "executionInfo": {
     "elapsed": 2,
     "status": "ok",
     "timestamp": 1751100388593,
     "user": {
      "displayName": "T Haruyama",
      "userId": "09851044792665346893"
     },
     "user_tz": -540
    },
    "id": "5a8b6958-4681-4950-b3b3-52d44d015d01"
   },
   "outputs": [],
   "source": [
    "df3[\"netx\"] = (df3[\"exports\"] -\n",
    "               df3[\"imports\"])"
   ]
  },
  {
   "cell_type": "markdown",
   "id": "ViXxAWgCXyHn",
   "metadata": {
    "id": "ViXxAWgCXyHn"
   },
   "source": [
    "コード10.3.13"
   ]
  },
  {
   "cell_type": "code",
   "execution_count": 24,
   "id": "a5c866e7-d32d-41a7-9b5c-3d418000ecfc",
   "metadata": {
    "colab": {
     "base_uri": "https://localhost:8080/"
    },
    "executionInfo": {
     "elapsed": 65,
     "status": "ok",
     "timestamp": 1751100388658,
     "user": {
      "displayName": "T Haruyama",
      "userId": "09851044792665346893"
     },
     "user_tz": -540
    },
    "id": "a5c866e7-d32d-41a7-9b5c-3d418000ecfc",
    "outputId": "fd91ebb0-35f3-495f-aa32-0ffa3611ae5b"
   },
   "outputs": [
    {
     "data": {
      "text/plain": [
       "Index(['year', 'gdp', 'consumption', 'investment', 'government', 'exports',\n",
       "       'imports', 'netx', 'con/gdp', 'inv/gdp', 'gov/gdp', 'nx/gdp'],\n",
       "      dtype='object')"
      ]
     },
     "execution_count": 24,
     "metadata": {},
     "output_type": "execute_result"
    }
   ],
   "source": [
    "cols = [\"consumption\", \"investment\", \"government\", \"netx\"]\n",
    "ratios = [\"con/gdp\", \"inv/gdp\", \"gov/gdp\", \"nx/gdp\"]\n",
    "\n",
    "for ratio, col  in zip(ratios, cols):\n",
    "    df3[ratio] = df3[col] / df3[\"gdp\"]\n",
    "\n",
    "df3.columns"
   ]
  },
  {
   "cell_type": "markdown",
   "id": "4_TXdnZ4X5SF",
   "metadata": {
    "id": "4_TXdnZ4X5SF"
   },
   "source": [
    "コード10.3.14"
   ]
  },
  {
   "cell_type": "code",
   "execution_count": 25,
   "id": "92e5d3e2-2ca0-4a62-ab74-b7f249fb75c8",
   "metadata": {
    "colab": {
     "base_uri": "https://localhost:8080/",
     "height": 429
    },
    "executionInfo": {
     "elapsed": 343,
     "status": "ok",
     "timestamp": 1751100389000,
     "user": {
      "displayName": "T Haruyama",
      "userId": "09851044792665346893"
     },
     "user_tz": -540
    },
    "id": "92e5d3e2-2ca0-4a62-ab74-b7f249fb75c8",
    "outputId": "50fed6bb-410f-471b-f558-a7ca7492974e"
   },
   "outputs": [
    {
     "data": {
      "image/png": "[encoded data removed]",
      "text/plain": [
       "<Figure size 640x480 with 1 Axes>"
      ]
     },
     "metadata": {},
     "output_type": "display_data"
    }
   ],
   "source": [
    "plt.plot(\"year\",\n",
    "         \"con/gdp\",\n",
    "         data=df3,\n",
    "         color=\"black\",\n",
    "         linestyle=\"--\",\n",
    "         label=\"消費\")\n",
    "plt.legend()\n",
    "plt.show()"
   ]
  },
  {
   "cell_type": "markdown",
   "id": "qtTonu_2YYY2",
   "metadata": {
    "id": "qtTonu_2YYY2"
   },
   "source": [
    "コード10.3.15"
   ]
  },
  {
   "cell_type": "code",
   "execution_count": 26,
   "id": "1e07af1c-a4a9-41e6-ae21-f730781790d1",
   "metadata": {
    "colab": {
     "base_uri": "https://localhost:8080/",
     "height": 453
    },
    "executionInfo": {
     "elapsed": 496,
     "status": "ok",
     "timestamp": 1751100389498,
     "user": {
      "displayName": "T Haruyama",
      "userId": "09851044792665346893"
     },
     "user_tz": -540
    },
    "id": "1e07af1c-a4a9-41e6-ae21-f730781790d1",
    "outputId": "b5402cfe-e629-46f7-f893-08aba5cdcd39"
   },
   "outputs": [
    {
     "data": {
      "image/png": "[encoded data removed]",
      "text/plain": [
       "<Figure size 640x480 with 1 Axes>"
      ]
     },
     "metadata": {},
     "output_type": "display_data"
    }
   ],
   "source": [
    "labels = [\"消費\", \"投資\",\n",
    "          \"政府支出\", \"純輸出\"]\n",
    "styles = [\"--\", \"-\", \"-.\", \":\"]\n",
    "\n",
    "for ratio, label, style in zip(\n",
    "    ratios, labels, styles):\n",
    "\n",
    "    plt.plot(\"year\",\n",
    "             ratio,\n",
    "             data=df3,\n",
    "             color=\"black\",\n",
    "             linestyle=style,\n",
    "             label=label)\n",
    "plt.legend()\n",
    "plt.title(\"支出要素の対GDP比\",\n",
    "          size=15)\n",
    "plt.show()"
   ]
  },
  {
   "cell_type": "markdown",
   "id": "6beaac04-4d06-4d1c-b885-cef6fbbc2d0d",
   "metadata": {},
   "source": [
    "上のコードでは凡例と消費の消費の線が重なっています。本の中では説明しませんでしたが，次のコードを使ったプロットを本の中で使っています。\n",
    "違いがある行に「引数が追加されている」とコメントしています。引数の説明：\n",
    "* `loc='upper right'`\n",
    "    * 凡例枠の右上の角を基準点に設定します。つまり，凡例の「右上の角」をどこに置くかを決めるための基準です。\n",
    "* `bbox_to_anchor=(1.0, 0.87)`\n",
    "    * 凡例を配置する位置を座標で指定します。\n",
    "    * ここでは2要素`(1.0, 0.87)`が座標に使われています。\n",
    "    * 図の左下が座標`(0,0)`，右上が座標`(1,1)`として解釈されます。"
   ]
  },
  {
   "cell_type": "code",
   "execution_count": 32,
   "id": "95853658-a4af-48f2-a362-e5e5e3baa1b6",
   "metadata": {},
   "outputs": [
    {
     "data": {
      "image/png": "[encoded data removed]",
      "text/plain": [
       "<Figure size 640x480 with 1 Axes>"
      ]
     },
     "metadata": {},
     "output_type": "display_data"
    }
   ],
   "source": [
    "labels = [\"消費\", \"投資\",\n",
    "          \"政府支出\", \"純輸出\"]\n",
    "styles = [\"--\", \"-\", \"-.\", \":\"]\n",
    "\n",
    "for ratio, label, style in zip(\n",
    "    ratios, labels, styles):\n",
    "\n",
    "    plt.plot(\"year\",\n",
    "             ratio,\n",
    "             data=df3,\n",
    "             color=\"black\",\n",
    "             linestyle=style,\n",
    "             label=label)\n",
    "plt.legend(loc='upper right', bbox_to_anchor=(1.0, 0.87))  # 引数が追加されている\n",
    "plt.title(\"支出要素の対GDP比\",\n",
    "          size=15)\n",
    "plt.show()"
   ]
  },
  {
   "cell_type": "markdown",
   "id": "b6uod01CYrSx",
   "metadata": {
    "id": "b6uod01CYrSx"
   },
   "source": [
    "コード10.3.16"
   ]
  },
  {
   "cell_type": "code",
   "execution_count": 28,
   "id": "30c7322a-6fcc-4a74-ad86-bf0c685fef6c",
   "metadata": {
    "colab": {
     "base_uri": "https://localhost:8080/"
    },
    "executionInfo": {
     "elapsed": 6,
     "status": "ok",
     "timestamp": 1751100389506,
     "user": {
      "displayName": "T Haruyama",
      "userId": "09851044792665346893"
     },
     "user_tz": -540
    },
    "id": "30c7322a-6fcc-4a74-ad86-bf0c685fef6c",
    "outputId": "0ae0d5cd-d237-4707-ffe1-06211f17e080"
   },
   "outputs": [
    {
     "name": "stdout",
     "output_type": "stream",
     "text": [
      "各支出要素の平均対GDP比\n",
      "--------------------\n",
      "con/gdp：　0.554\n",
      "inv/gdp：　0.217\n",
      "gov/gdp：　0.253\n",
      "nx/gdp：　-0.010\n"
     ]
    }
   ],
   "source": [
    "print(\"各支出要素の平均対GDP比\")\n",
    "print(\"-\"*20)\n",
    "for ratio in ratios:\n",
    "    res = df3[ratio].mean()\n",
    "    print(f\"{ratio}：　{res:.3f}\")"
   ]
  },
  {
   "cell_type": "markdown",
   "id": "4jSfa263ZBWU",
   "metadata": {
    "id": "4jSfa263ZBWU"
   },
   "source": [
    "コード10.3.17"
   ]
  },
  {
   "cell_type": "code",
   "execution_count": 29,
   "id": "muwKAErviwrW",
   "metadata": {
    "colab": {
     "base_uri": "https://localhost:8080/"
    },
    "executionInfo": {
     "elapsed": 3,
     "status": "ok",
     "timestamp": 1751100389517,
     "user": {
      "displayName": "T Haruyama",
      "userId": "09851044792665346893"
     },
     "user_tz": -540
    },
    "id": "muwKAErviwrW",
    "outputId": "231b8e3d-b101-4a9d-8622-9149ef70c0ea"
   },
   "outputs": [
    {
     "name": "stdout",
     "output_type": "stream",
     "text": [
      "exports： 0.125\n",
      "imports： 0.136\n"
     ]
    }
   ],
   "source": [
    "for col in [\"exports\", \"imports\"]:\n",
    "    res = ( df3[col]/df3[\"gdp\"] ).mean()\n",
    "    print(f\"{col}： {res:.3f}\")"
   ]
  },
  {
   "cell_type": "markdown",
   "id": "Y3keaT2PZJav",
   "metadata": {
    "id": "Y3keaT2PZJav"
   },
   "source": [
    "コード10.3.8"
   ]
  },
  {
   "cell_type": "code",
   "execution_count": 30,
   "id": "uqCuuyFTjHhi",
   "metadata": {
    "colab": {
     "base_uri": "https://localhost:8080/"
    },
    "executionInfo": {
     "elapsed": 3,
     "status": "ok",
     "timestamp": 1751100389521,
     "user": {
      "displayName": "T Haruyama",
      "userId": "09851044792665346893"
     },
     "user_tz": -540
    },
    "id": "uqCuuyFTjHhi",
    "outputId": "ede2f21a-afb6-4cc2-ddbe-3af32b315350"
   },
   "outputs": [
    {
     "name": "stdout",
     "output_type": "stream",
     "text": [
      "各支出要素の対GDP比\n",
      "の標準偏差\n",
      "------------------\n",
      "con/gdp：　0.0113\n",
      "inv/gdp：　0.0227\n",
      "gov/gdp：　0.0119\n",
      "nx/gdp：　0.0121\n"
     ]
    }
   ],
   "source": [
    "print(\"各支出要素の対GDP比\\nの標準偏差\")\n",
    "print(\"-\"*18)\n",
    "\n",
    "for ratio in ratios:\n",
    "    res = df3[ratio].std()\n",
    "    print(f\"{ratio}：　{res:.4f}\")"
   ]
  },
  {
   "cell_type": "code",
   "execution_count": null,
   "id": "fcFIYq2UjWLV",
   "metadata": {
    "executionInfo": {
     "elapsed": 1,
     "status": "ok",
     "timestamp": 1751100389523,
     "user": {
      "displayName": "T Haruyama",
      "userId": "09851044792665346893"
     },
     "user_tz": -540
    },
    "id": "fcFIYq2UjWLV"
   },
   "outputs": [],
   "source": []
  },
  {
   "cell_type": "code",
   "execution_count": null,
   "id": "7175dd8e-1473-4d68-9cb1-fcebcc4d29ec",
   "metadata": {},
   "outputs": [],
   "source": []
  }
 ],
 "metadata":{"kernelspec":{"display_name":"Python 3","name":"python3"},"language_info":{"name":"python"},"colab":{"provenance":[]}}, 
 "nbformat": 4,
 "nbformat_minor": 5
}
