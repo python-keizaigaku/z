{
 "cells": [
  {
   "cell_type": "markdown",
   "id": "8bba05c6-ca5f-4a19-bdab-238e594a0839",
   "metadata": {
    "id": "8bba05c6-ca5f-4a19-bdab-238e594a0839"
   },
   "source": [
    "# 2章：演習問題の解答"
   ]
  },
  {
   "cell_type": "markdown",
   "id": "870bf753-4c05-4f22-baec-191159f83fd1",
   "metadata": {
    "id": "870bf753-4c05-4f22-baec-191159f83fd1"
   },
   "source": [
    "## 演習1"
   ]
  },
  {
   "cell_type": "markdown",
   "id": "3953ef6f-6386-40c1-9838-0988b00847a5",
   "metadata": {
    "id": "3953ef6f-6386-40c1-9838-0988b00847a5"
   },
   "source": [
    "### (1)"
   ]
  },
  {
   "cell_type": "code",
   "execution_count": 18,
   "id": "c687b10a-9da0-4ea9-a503-fd4fabb01c02",
   "metadata": {
    "executionInfo": {
     "elapsed": 6,
     "status": "ok",
     "timestamp": 1751098351776,
     "user": {
      "displayName": "T Haruyama",
      "userId": "09851044792665346893"
     },
     "user_tz": -540
    },
    "id": "c687b10a-9da0-4ea9-a503-fd4fabb01c02"
   },
   "outputs": [],
   "source": [
    "rgdp = 557_434.1\n",
    "deflator = 109.3\n",
    "ex = 151.37"
   ]
  },
  {
   "cell_type": "markdown",
   "id": "2cd43f1f-2d35-4785-839a-f4080c3598f7",
   "metadata": {
    "id": "2cd43f1f-2d35-4785-839a-f4080c3598f7"
   },
   "source": [
    "### (2)\n",
    "\n",
    "デフレータの考えは次式で表されます。\n",
    "\n",
    "$$\\text{deflator}=100\\times\\frac{\\text{名目GDP}}{\\text{実質GDP}}$$\n",
    "\n",
    "この式から，\n",
    "\n",
    "$$\\text{名目GDP}=\\text{実質GDP}\\times\\frac{\\text{deflator}}{100}$$"
   ]
  },
  {
   "cell_type": "code",
   "execution_count": 19,
   "id": "09511748-da88-4be7-8c76-ae8ab3d4737d",
   "metadata": {
    "colab": {
     "base_uri": "https://localhost:8080/"
    },
    "executionInfo": {
     "elapsed": 46,
     "status": "ok",
     "timestamp": 1751098351823,
     "user": {
      "displayName": "T Haruyama",
      "userId": "09851044792665346893"
     },
     "user_tz": -540
    },
    "id": "09511748-da88-4be7-8c76-ae8ab3d4737d",
    "outputId": "1ef5d566-cbf0-4177-de85-a21075c9baff"
   },
   "outputs": [
    {
     "data": {
      "text/plain": [
       "609275.4713"
      ]
     },
     "execution_count": 19,
     "metadata": {},
     "output_type": "execute_result"
    }
   ],
   "source": [
    "ngdp = rgdp * deflator / 100\n",
    "ngdp"
   ]
  },
  {
   "cell_type": "markdown",
   "id": "ff26325c-dce3-44c5-8beb-d13c7e86003c",
   "metadata": {
    "id": "ff26325c-dce3-44c5-8beb-d13c7e86003c"
   },
   "source": [
    "### (3)"
   ]
  },
  {
   "cell_type": "code",
   "execution_count": 20,
   "id": "eb88d21d-b078-42d3-8a42-3fec710a5018",
   "metadata": {
    "colab": {
     "base_uri": "https://localhost:8080/"
    },
    "executionInfo": {
     "elapsed": 11,
     "status": "ok",
     "timestamp": 1751098351835,
     "user": {
      "displayName": "T Haruyama",
      "userId": "09851044792665346893"
     },
     "user_tz": -540
    },
    "id": "eb88d21d-b078-42d3-8a42-3fec710a5018",
    "outputId": "ac00b32a-0787-4d67-cef0-aa9af8e314de"
   },
   "outputs": [
    {
     "data": {
      "text/plain": [
       "4025.074131598071"
      ]
     },
     "execution_count": 20,
     "metadata": {},
     "output_type": "execute_result"
    }
   ],
   "source": [
    "ngdp_dollar = ngdp / ex\n",
    "ngdp_dollar"
   ]
  },
  {
   "cell_type": "markdown",
   "id": "61f0f9c1-4b1a-43b0-8dbd-20c17c885ebd",
   "metadata": {
    "id": "61f0f9c1-4b1a-43b0-8dbd-20c17c885ebd"
   },
   "source": [
    "## 演習2"
   ]
  },
  {
   "cell_type": "markdown",
   "id": "388b0666-b13c-4c64-885a-1ef6aa37445c",
   "metadata": {
    "id": "388b0666-b13c-4c64-885a-1ef6aa37445c"
   },
   "source": [
    "### (1)"
   ]
  },
  {
   "cell_type": "code",
   "execution_count": 21,
   "id": "ffb80aa2-6c96-445c-888c-0e575c6b70fe",
   "metadata": {
    "executionInfo": {
     "elapsed": 8,
     "status": "ok",
     "timestamp": 1751098351835,
     "user": {
      "displayName": "T Haruyama",
      "userId": "09851044792665346893"
     },
     "user_tz": -540
    },
    "id": "ffb80aa2-6c96-445c-888c-0e575c6b70fe"
   },
   "outputs": [],
   "source": [
    "cpi23 = 105.6\n",
    "cpi24 = 108.5\n",
    "def23 = 106.264\n",
    "def24 = 109.319"
   ]
  },
  {
   "cell_type": "markdown",
   "id": "3d8da357-dfbc-4b56-a4af-6cda3e855488",
   "metadata": {
    "id": "3d8da357-dfbc-4b56-a4af-6cda3e855488"
   },
   "source": [
    "### (2)"
   ]
  },
  {
   "cell_type": "code",
   "execution_count": 22,
   "id": "ebc64f83-7697-4997-946b-cb0a99aae91e",
   "metadata": {
    "colab": {
     "base_uri": "https://localhost:8080/"
    },
    "executionInfo": {
     "elapsed": 8,
     "status": "ok",
     "timestamp": 1751098351836,
     "user": {
      "displayName": "T Haruyama",
      "userId": "09851044792665346893"
     },
     "user_tz": -540
    },
    "id": "ebc64f83-7697-4997-946b-cb0a99aae91e",
    "outputId": "430ae59d-636e-4983-e7ee-672b44f55ea4"
   },
   "outputs": [
    {
     "data": {
      "text/plain": [
       "2.746212121212127"
      ]
     },
     "execution_count": 22,
     "metadata": {},
     "output_type": "execute_result"
    }
   ],
   "source": [
    "100 * (cpi24 - cpi23) / cpi23"
   ]
  },
  {
   "cell_type": "markdown",
   "id": "ea87e542-ea43-45d8-a47e-316a00093bc9",
   "metadata": {
    "id": "ea87e542-ea43-45d8-a47e-316a00093bc9"
   },
   "source": [
    "### (3)"
   ]
  },
  {
   "cell_type": "code",
   "execution_count": 23,
   "id": "c392ce0a-34a9-435e-bee9-9e384c071509",
   "metadata": {
    "colab": {
     "base_uri": "https://localhost:8080/"
    },
    "executionInfo": {
     "elapsed": 5,
     "status": "ok",
     "timestamp": 1751098351836,
     "user": {
      "displayName": "T Haruyama",
      "userId": "09851044792665346893"
     },
     "user_tz": -540
    },
    "id": "c392ce0a-34a9-435e-bee9-9e384c071509",
    "outputId": "c92e5b4b-193b-4e6b-c301-0704ed87c66a"
   },
   "outputs": [
    {
     "data": {
      "text/plain": [
       "2.874915305277429"
      ]
     },
     "execution_count": 23,
     "metadata": {},
     "output_type": "execute_result"
    }
   ],
   "source": [
    "100 * (def24 - def23) / def23"
   ]
  },
  {
   "cell_type": "markdown",
   "id": "ca34de17-ea4a-4a4f-80b2-90b4662724a6",
   "metadata": {
    "id": "ca34de17-ea4a-4a4f-80b2-90b4662724a6"
   },
   "source": [
    "## 演習3"
   ]
  },
  {
   "cell_type": "markdown",
   "id": "6727060c-946b-432b-960e-8e11edea7e27",
   "metadata": {
    "id": "6727060c-946b-432b-960e-8e11edea7e27"
   },
   "source": [
    "### (3)"
   ]
  },
  {
   "cell_type": "code",
   "execution_count": 24,
   "id": "9fcea7c0-1612-49de-9592-e6b0212d9e7d",
   "metadata": {
    "executionInfo": {
     "elapsed": 22,
     "status": "ok",
     "timestamp": 1751098351856,
     "user": {
      "displayName": "T Haruyama",
      "userId": "09851044792665346893"
     },
     "user_tz": -540
    },
    "id": "9fcea7c0-1612-49de-9592-e6b0212d9e7d"
   },
   "outputs": [],
   "source": [
    "pop = 10995\n",
    "labour = 6957\n",
    "employed = 6781\n",
    "unemployed = 176"
   ]
  },
  {
   "cell_type": "markdown",
   "id": "d2e60eae-57e5-453f-9bfb-63b521fe7e17",
   "metadata": {
    "id": "d2e60eae-57e5-453f-9bfb-63b521fe7e17"
   },
   "source": [
    "### (1)"
   ]
  },
  {
   "cell_type": "code",
   "execution_count": 25,
   "id": "29bda823-4b13-4279-9b8a-24cb04fe01e4",
   "metadata": {
    "colab": {
     "base_uri": "https://localhost:8080/"
    },
    "executionInfo": {
     "elapsed": 5,
     "status": "ok",
     "timestamp": 1751098351862,
     "user": {
      "displayName": "T Haruyama",
      "userId": "09851044792665346893"
     },
     "user_tz": -540
    },
    "id": "29bda823-4b13-4279-9b8a-24cb04fe01e4",
    "outputId": "40f32f01-f48d-4fdb-a168-8e6143647f95"
   },
   "outputs": [
    {
     "data": {
      "text/plain": [
       "63.27421555252388"
      ]
     },
     "execution_count": 25,
     "metadata": {},
     "output_type": "execute_result"
    }
   ],
   "source": [
    "labour_rate = 100 * labour / pop\n",
    "labour_rate"
   ]
  },
  {
   "cell_type": "markdown",
   "id": "c1c7cca4-2804-484f-908f-48990d0999f8",
   "metadata": {
    "id": "c1c7cca4-2804-484f-908f-48990d0999f8"
   },
   "source": [
    "### (2)"
   ]
  },
  {
   "cell_type": "code",
   "execution_count": 26,
   "id": "36c92df6-f595-473a-80c5-1eeb5a318cb5",
   "metadata": {
    "colab": {
     "base_uri": "https://localhost:8080/"
    },
    "executionInfo": {
     "elapsed": 3,
     "status": "ok",
     "timestamp": 1751098351865,
     "user": {
      "displayName": "T Haruyama",
      "userId": "09851044792665346893"
     },
     "user_tz": -540
    },
    "id": "36c92df6-f595-473a-80c5-1eeb5a318cb5",
    "outputId": "5d7194b5-847e-4c7c-e6da-a6652b94e262"
   },
   "outputs": [
    {
     "data": {
      "text/plain": [
       "61.673487949067756"
      ]
     },
     "execution_count": 26,
     "metadata": {},
     "output_type": "execute_result"
    }
   ],
   "source": [
    "employed_rate = 100 * employed / pop\n",
    "employed_rate"
   ]
  },
  {
   "cell_type": "markdown",
   "id": "2f4a9569-2e6e-4617-9af3-f8e3e81bd5fd",
   "metadata": {
    "id": "2f4a9569-2e6e-4617-9af3-f8e3e81bd5fd"
   },
   "source": [
    "### (3)"
   ]
  },
  {
   "cell_type": "code",
   "execution_count": 27,
   "id": "cc9238a2-5ed1-4b14-a857-91174f5ce15b",
   "metadata": {
    "colab": {
     "base_uri": "https://localhost:8080/"
    },
    "executionInfo": {
     "elapsed": 2,
     "status": "ok",
     "timestamp": 1751098351867,
     "user": {
      "displayName": "T Haruyama",
      "userId": "09851044792665346893"
     },
     "user_tz": -540
    },
    "id": "cc9238a2-5ed1-4b14-a857-91174f5ce15b",
    "outputId": "45d21e6b-7f83-4a66-8096-29e9b7de1610"
   },
   "outputs": [
    {
     "data": {
      "text/plain": [
       "2.529826074457381"
      ]
     },
     "execution_count": 27,
     "metadata": {},
     "output_type": "execute_result"
    }
   ],
   "source": [
    "employed_rate = 100 * unemployed / labour\n",
    "employed_rate"
   ]
  },
  {
   "cell_type": "markdown",
   "id": "628a7724-1baf-498a-a832-44943ce35f78",
   "metadata": {
    "id": "628a7724-1baf-498a-a832-44943ce35f78"
   },
   "source": [
    "## 演習4"
   ]
  },
  {
   "cell_type": "markdown",
   "id": "d9c4d577-c757-4fd8-88cf-f68518536728",
   "metadata": {
    "id": "d9c4d577-c757-4fd8-88cf-f68518536728"
   },
   "source": [
    "### (1)"
   ]
  },
  {
   "cell_type": "code",
   "execution_count": 28,
   "id": "314d063f-7049-43d5-8145-750b0aacd9e9",
   "metadata": {
    "executionInfo": {
     "elapsed": 1,
     "status": "ok",
     "timestamp": 1751098351868,
     "user": {
      "displayName": "T Haruyama",
      "userId": "09851044792665346893"
     },
     "user_tz": -540
    },
    "id": "314d063f-7049-43d5-8145-750b0aacd9e9"
   },
   "outputs": [],
   "source": [
    "jp_unemployment = 2.57\n",
    "us_unemployment = 4.03"
   ]
  },
  {
   "cell_type": "markdown",
   "id": "be837faf-0d1a-421f-bd18-a117574d7a8f",
   "metadata": {
    "id": "be837faf-0d1a-421f-bd18-a117574d7a8f"
   },
   "source": [
    "### (2)"
   ]
  },
  {
   "cell_type": "code",
   "execution_count": 29,
   "id": "5b5b552e-7fc8-4a88-a76f-aa8a7a6dd73a",
   "metadata": {
    "colab": {
     "base_uri": "https://localhost:8080/"
    },
    "executionInfo": {
     "elapsed": 3,
     "status": "ok",
     "timestamp": 1751098351871,
     "user": {
      "displayName": "T Haruyama",
      "userId": "09851044792665346893"
     },
     "user_tz": -540
    },
    "id": "5b5b552e-7fc8-4a88-a76f-aa8a7a6dd73a",
    "outputId": "9a16be4d-7c42-44cc-c6d9-8e8fa0524354"
   },
   "outputs": [
    {
     "data": {
      "text/plain": [
       "True"
      ]
     },
     "execution_count": 29,
     "metadata": {},
     "output_type": "execute_result"
    }
   ],
   "source": [
    "is_japan_lower = ( jp_unemployment < us_unemployment )\n",
    "is_japan_lower"
   ]
  },
  {
   "cell_type": "markdown",
   "id": "e3b8b686-0fee-4e6e-8f73-2ea066bc7a8d",
   "metadata": {
    "id": "e3b8b686-0fee-4e6e-8f73-2ea066bc7a8d"
   },
   "source": [
    "### (3)"
   ]
  },
  {
   "cell_type": "code",
   "execution_count": 30,
   "id": "a5e20df0-23e4-4313-b7f8-0bb39f6f17e4",
   "metadata": {
    "colab": {
     "base_uri": "https://localhost:8080/"
    },
    "executionInfo": {
     "elapsed": 7,
     "status": "ok",
     "timestamp": 1751098351911,
     "user": {
      "displayName": "T Haruyama",
      "userId": "09851044792665346893"
     },
     "user_tz": -540
    },
    "id": "a5e20df0-23e4-4313-b7f8-0bb39f6f17e4",
    "outputId": "66db7796-4350-42a3-f380-a6eb95640ca5"
   },
   "outputs": [
    {
     "data": {
      "text/plain": [
       "True"
      ]
     },
     "execution_count": 30,
     "metadata": {},
     "output_type": "execute_result"
    }
   ],
   "source": [
    "is_japan_below_3 = ( jp_unemployment < 3 )\n",
    "is_japan_below_3"
   ]
  },
  {
   "cell_type": "markdown",
   "id": "b4ff67cc-a760-4143-ae93-9f10e3cc0546",
   "metadata": {
    "id": "b4ff67cc-a760-4143-ae93-9f10e3cc0546"
   },
   "source": [
    "### (4)"
   ]
  },
  {
   "cell_type": "code",
   "execution_count": 31,
   "id": "5f7d4722-0d73-45b5-b56b-e176ce97a669",
   "metadata": {
    "colab": {
     "base_uri": "https://localhost:8080/"
    },
    "executionInfo": {
     "elapsed": 2,
     "status": "ok",
     "timestamp": 1751098351914,
     "user": {
      "displayName": "T Haruyama",
      "userId": "09851044792665346893"
     },
     "user_tz": -540
    },
    "id": "5f7d4722-0d73-45b5-b56b-e176ce97a669",
    "outputId": "4cfb17c4-4125-45b8-848b-92986019950e"
   },
   "outputs": [
    {
     "data": {
      "text/plain": [
       "False"
      ]
     },
     "execution_count": 31,
     "metadata": {},
     "output_type": "execute_result"
    }
   ],
   "source": [
    "is_equal = ( jp_unemployment == us_unemployment )\n",
    "is_equal"
   ]
  },
  {
   "cell_type": "markdown",
   "id": "ab12fac1-e84d-45b3-8e84-a6422c2ed791",
   "metadata": {
    "id": "ab12fac1-e84d-45b3-8e84-a6422c2ed791"
   },
   "source": [
    "## 演習5"
   ]
  },
  {
   "cell_type": "markdown",
   "id": "6a35fb3c-7966-4e00-8a0b-52eb72ecdab8",
   "metadata": {
    "id": "6a35fb3c-7966-4e00-8a0b-52eb72ecdab8"
   },
   "source": [
    "### (1)"
   ]
  },
  {
   "cell_type": "code",
   "execution_count": 1,
   "id": "71889558-3e14-402c-8d3f-593fe0abb547",
   "metadata": {
    "executionInfo": {
     "elapsed": 1,
     "status": "ok",
     "timestamp": 1751098351916,
     "user": {
      "displayName": "T Haruyama",
      "userId": "09851044792665346893"
     },
     "user_tz": -540
    },
    "id": "71889558-3e14-402c-8d3f-593fe0abb547"
   },
   "outputs": [],
   "source": [
    "inflation = 1.5"
   ]
  },
  {
   "cell_type": "markdown",
   "id": "334fed9e-8149-4902-a9a4-64049cb0104a",
   "metadata": {
    "id": "334fed9e-8149-4902-a9a4-64049cb0104a"
   },
   "source": [
    "### (2)"
   ]
  },
  {
   "cell_type": "code",
   "execution_count": 2,
   "id": "68e45308-8433-48eb-a3d0-a5ec4d8415ba",
   "metadata": {
    "executionInfo": {
     "elapsed": 1,
     "status": "ok",
     "timestamp": 1751098351917,
     "user": {
      "displayName": "T Haruyama",
      "userId": "09851044792665346893"
     },
     "user_tz": -540
    },
    "id": "68e45308-8433-48eb-a3d0-a5ec4d8415ba"
   },
   "outputs": [
    {
     "data": {
      "text/plain": [
       "6.5"
      ]
     },
     "execution_count": 2,
     "metadata": {},
     "output_type": "execute_result"
    }
   ],
   "source": [
    "inflation += 5\n",
    "inflation"
   ]
  },
  {
   "cell_type": "markdown",
   "id": "2a939349-0083-494d-b9db-21974e68673d",
   "metadata": {
    "id": "2a939349-0083-494d-b9db-21974e68673d"
   },
   "source": [
    "### (3)"
   ]
  },
  {
   "cell_type": "code",
   "execution_count": 3,
   "id": "e709c925-455c-403e-871b-51815ab97dc7",
   "metadata": {
    "colab": {
     "base_uri": "https://localhost:8080/"
    },
    "executionInfo": {
     "elapsed": 3,
     "status": "ok",
     "timestamp": 1751098351920,
     "user": {
      "displayName": "T Haruyama",
      "userId": "09851044792665346893"
     },
     "user_tz": -540
    },
    "id": "e709c925-455c-403e-871b-51815ab97dc7",
    "outputId": "036a2596-784f-4171-a485-870df0c35605"
   },
   "outputs": [
    {
     "data": {
      "text/plain": [
       "3.0"
      ]
     },
     "execution_count": 3,
     "metadata": {},
     "output_type": "execute_result"
    }
   ],
   "source": [
    "inflation -= 3.5\n",
    "inflation"
   ]
  },
  {
   "cell_type": "markdown",
   "id": "30a82658-00fc-4c67-ab3f-183168d2ea1b",
   "metadata": {
    "id": "30a82658-00fc-4c67-ab3f-183168d2ea1b"
   },
   "source": [
    "### (4)"
   ]
  },
  {
   "cell_type": "code",
   "execution_count": 4,
   "id": "390ee08f-81ed-4e54-8fb1-96ea823075d1",
   "metadata": {
    "colab": {
     "base_uri": "https://localhost:8080/"
    },
    "executionInfo": {
     "elapsed": 3,
     "status": "ok",
     "timestamp": 1751098351924,
     "user": {
      "displayName": "T Haruyama",
      "userId": "09851044792665346893"
     },
     "user_tz": -540
    },
    "id": "390ee08f-81ed-4e54-8fb1-96ea823075d1",
    "outputId": "c6851541-5491-44cb-e6c7-ddc4b100c6eb"
   },
   "outputs": [
    {
     "data": {
      "text/plain": [
       "6.0"
      ]
     },
     "execution_count": 4,
     "metadata": {},
     "output_type": "execute_result"
    }
   ],
   "source": [
    "inflation *= 2\n",
    "inflation"
   ]
  },
  {
   "cell_type": "code",
   "execution_count": null,
   "id": "6d88c76f-43b1-488b-a22d-3d1e879c038b",
   "metadata": {},
   "outputs": [],
   "source": []
  }
 ],
 "metadata":{"kernelspec":{"display_name":"Python 3","name":"python3"},"language_info":{"name":"python"},"colab":{"provenance":[]}},
 "nbformat": 4,
 "nbformat_minor": 5
}
