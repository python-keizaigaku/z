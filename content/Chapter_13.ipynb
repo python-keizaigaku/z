{
 "cells": [
  {
   "cell_type": "markdown",
   "id": "0",
   "metadata": {
    "id": "0b7a35f1-7cf4-48b4-a3c8-1d1aeb5f89b3"
   },
   "source": [
    "# 第13章　回帰分析"
   ]
  },
  {
   "cell_type": "markdown",
   "id": "1",
   "metadata": {
    "id": "Pueh8FfhrizO"
   },
   "source": [
    "## はじめに"
   ]
  },
  {
   "cell_type": "code",
   "execution_count": null,
   "id": "2",
   "metadata": {
    "colab": {
     "base_uri": "https://localhost:8080/"
    },
    "executionInfo": {
     "elapsed": 14503,
     "status": "ok",
     "timestamp": 1758070790277,
     "user": {
      "displayName": "T Haruyama",
      "userId": "09851044792665346893"
     },
     "user_tz": -540
    },
    "id": "5289c6b1-06b3-4adf-9528-b012524a580e",
    "outputId": "ba140f5f-aa91-4c73-8d0a-eb25bc9bc31d"
   },
   "outputs": [],
   "source": [
    "%pip install -q japanize-matplotlib\n",
    "import japanize_matplotlib\n",
    "import matplotlib.pyplot as plt\n",
    "import numpy as np\n",
    "import pandas as pd\n",
    "import statsmodels.formula.api as smf"
   ]
  },
  {
   "cell_type": "markdown",
   "id": "3",
   "metadata": {
    "id": "YtTstO5SrlFo"
   },
   "source": [
    "## 回帰分析の考え方"
   ]
  },
  {
   "cell_type": "markdown",
   "id": "4",
   "metadata": {
    "id": "72wARqZDrq_W"
   },
   "source": [
    "### 母集団回帰式"
   ]
  },
  {
   "cell_type": "markdown",
   "id": "5",
   "metadata": {
    "id": "HB3jlUC5rvHU"
   },
   "source": [
    "### 標本"
   ]
  },
  {
   "cell_type": "markdown",
   "id": "6",
   "metadata": {
    "id": "nqktxzPXrzCO"
   },
   "source": [
    "### 推定方法"
   ]
  },
  {
   "cell_type": "markdown",
   "id": "7",
   "metadata": {
    "id": "iCTSZZUjr5MG"
   },
   "source": [
    "## 消費関数の回帰分析"
   ]
  },
  {
   "cell_type": "markdown",
   "id": "8",
   "metadata": {
    "id": "kSlYOXSur9_n"
   },
   "source": [
    "### データ"
   ]
  },
  {
   "cell_type": "markdown",
   "id": "9",
   "metadata": {
    "id": "r_YNK06wqPlL"
   },
   "source": [
    "コード13.3.1"
   ]
  },
  {
   "cell_type": "code",
   "execution_count": null,
   "id": "10",
   "metadata": {
    "colab": {
     "base_uri": "https://localhost:8080/",
     "height": 175
    },
    "executionInfo": {
     "elapsed": 8,
     "status": "ok",
     "timestamp": 1758070790294,
     "user": {
      "displayName": "T Haruyama",
      "userId": "09851044792665346893"
     },
     "user_tz": -540
    },
    "id": "2db96771-ef9c-46ca-91bb-ffd39e102128",
    "outputId": "8279910d-a70c-43b2-c820-879670a8d452"
   },
   "outputs": [],
   "source": [
    "df = pd.read_csv(\"data5.csv\")\n",
    "df = df.set_index(\"year\")\n",
    "df.head(3)"
   ]
  },
  {
   "cell_type": "markdown",
   "id": "11",
   "metadata": {
    "id": "iqPmzrhesCg9"
   },
   "source": [
    "### 名目変数と実質変数"
   ]
  },
  {
   "cell_type": "markdown",
   "id": "12",
   "metadata": {
    "id": "bQuikF9JqeE1"
   },
   "source": [
    "コード13.3.2"
   ]
  },
  {
   "cell_type": "code",
   "execution_count": null,
   "id": "13",
   "metadata": {
    "executionInfo": {
     "elapsed": 1,
     "status": "ok",
     "timestamp": 1758070790302,
     "user": {
      "displayName": "T Haruyama",
      "userId": "09851044792665346893"
     },
     "user_tz": -540
    },
    "id": "24f2a1a8-e088-423c-8e55-018c2ba81abb"
   },
   "outputs": [],
   "source": [
    "df[\"rcon\"] = df[\"con\"] / ( df[\"deflator\"]/100 )\n",
    "df[\"rinc\"] = df[\"inc\"] / ( df[\"deflator\"]/100 )"
   ]
  },
  {
   "cell_type": "markdown",
   "id": "14",
   "metadata": {
    "id": "ZcXcGt1psITp"
   },
   "source": [
    "### statsmodelsを使う"
   ]
  },
  {
   "cell_type": "markdown",
   "id": "15",
   "metadata": {
    "id": "BNPO6ezjqjB9"
   },
   "source": [
    "コード13.3.3"
   ]
  },
  {
   "cell_type": "code",
   "execution_count": null,
   "id": "16",
   "metadata": {
    "executionInfo": {
     "elapsed": 2,
     "status": "ok",
     "timestamp": 1758070790305,
     "user": {
      "displayName": "T Haruyama",
      "userId": "09851044792665346893"
     },
     "user_tz": -540
    },
    "id": "2e786eb8-1865-4fb2-94d1-9f7edf706b07"
   },
   "outputs": [],
   "source": [
    "formula = \"rcon ~ rinc\"           # ステップ1\n",
    "mod = smf.ols(formula, data=df)   # ステップ2\n",
    "res = mod.fit()                   # ステップ3"
   ]
  },
  {
   "cell_type": "markdown",
   "id": "17",
   "metadata": {
    "id": "Y-Vv9q4Qq4mu"
   },
   "source": [
    "コード13.3.4"
   ]
  },
  {
   "cell_type": "code",
   "execution_count": null,
   "id": "18",
   "metadata": {
    "executionInfo": {
     "elapsed": 1,
     "status": "ok",
     "timestamp": 1758070790307,
     "user": {
      "displayName": "T Haruyama",
      "userId": "09851044792665346893"
     },
     "user_tz": -540
    },
    "id": "ue4z0zFjspGY"
   },
   "outputs": [],
   "source": [
    "res = smf.ols(formula, data=df).fit()   # ステップ2と3"
   ]
  },
  {
   "cell_type": "markdown",
   "id": "19",
   "metadata": {
    "id": "-PhvGPJLrGc8"
   },
   "source": [
    "コード13.3.5"
   ]
  },
  {
   "cell_type": "code",
   "execution_count": null,
   "id": "20",
   "metadata": {
    "colab": {
     "base_uri": "https://localhost:8080/"
    },
    "executionInfo": {
     "elapsed": 66,
     "status": "ok",
     "timestamp": 1758070790374,
     "user": {
      "displayName": "T Haruyama",
      "userId": "09851044792665346893"
     },
     "user_tz": -540
    },
    "id": "424fbea9-2e78-4104-8d06-b1c7904204aa",
    "outputId": "945eeaf2-c685-4e85-b828-325e8110a440"
   },
   "outputs": [],
   "source": [
    "print(res.summary(slim=True))"
   ]
  },
  {
   "cell_type": "markdown",
   "id": "21",
   "metadata": {
    "id": "zd2ZBAcBrNOK"
   },
   "source": [
    "コード13.3.6"
   ]
  },
  {
   "cell_type": "code",
   "execution_count": null,
   "id": "22",
   "metadata": {
    "colab": {
     "base_uri": "https://localhost:8080/",
     "height": 147
    },
    "executionInfo": {
     "elapsed": 21,
     "status": "ok",
     "timestamp": 1758070790395,
     "user": {
      "displayName": "T Haruyama",
      "userId": "09851044792665346893"
     },
     "user_tz": -540
    },
    "id": "e49cff1e-55e2-44e0-ae09-deb2882388f4",
    "outputId": "3d9ab2bf-1adc-4398-f2b6-cbaf0d7f8c2c"
   },
   "outputs": [],
   "source": [
    "par = res.params\n",
    "par"
   ]
  },
  {
   "cell_type": "markdown",
   "id": "23",
   "metadata": {
    "id": "FhKjp_GqrW_9"
   },
   "source": [
    "コード13.3.7"
   ]
  },
  {
   "cell_type": "code",
   "execution_count": null,
   "id": "24",
   "metadata": {
    "colab": {
     "base_uri": "https://localhost:8080/"
    },
    "executionInfo": {
     "elapsed": 11,
     "status": "ok",
     "timestamp": 1758070790524,
     "user": {
      "displayName": "T Haruyama",
      "userId": "09851044792665346893"
     },
     "user_tz": -540
    },
    "id": "7901a960-574c-48cb-bf3d-81a1727bf5e7",
    "outputId": "93a577d8-a651-4ae0-eb05-6ec04edda5a8"
   },
   "outputs": [],
   "source": [
    "print(par[\"Intercept\"])\n",
    "# print(par.iloc[0])"
   ]
  },
  {
   "cell_type": "markdown",
   "id": "25",
   "metadata": {
    "id": "ZQ2AEpy2rY_g"
   },
   "source": [
    "コード13.3.8"
   ]
  },
  {
   "cell_type": "code",
   "execution_count": null,
   "id": "26",
   "metadata": {
    "colab": {
     "base_uri": "https://localhost:8080/"
    },
    "executionInfo": {
     "elapsed": 34,
     "status": "ok",
     "timestamp": 1758070790559,
     "user": {
      "displayName": "T Haruyama",
      "userId": "09851044792665346893"
     },
     "user_tz": -540
    },
    "id": "9aae550e-4672-49ad-bd6f-5cbd53b4b93b",
    "outputId": "973c597e-ec12-44b8-bb50-6a0fb1c0708e"
   },
   "outputs": [],
   "source": [
    "print(par[\"rinc\"])\n",
    "# print(par.iloc[1])"
   ]
  },
  {
   "cell_type": "markdown",
   "id": "27",
   "metadata": {
    "id": "aLtGVBrItonm"
   },
   "source": [
    "表13.1"
   ]
  },
  {
   "cell_type": "code",
   "execution_count": null,
   "id": "28",
   "metadata": {
    "colab": {
     "base_uri": "https://localhost:8080/",
     "height": 147
    },
    "executionInfo": {
     "elapsed": 2,
     "status": "ok",
     "timestamp": 1758070790562,
     "user": {
      "displayName": "T Haruyama",
      "userId": "09851044792665346893"
     },
     "user_tz": -540
    },
    "id": "082396a0-54a7-470d-b0a6-b439883a6780",
    "outputId": "70823bf6-4289-4e45-b00d-8d23c7411470"
   },
   "outputs": [],
   "source": [
    "res.params"
   ]
  },
  {
   "cell_type": "markdown",
   "id": "29",
   "metadata": {
    "id": "QlI3ieSpsZ19"
   },
   "source": [
    "表13.1"
   ]
  },
  {
   "cell_type": "code",
   "execution_count": null,
   "id": "30",
   "metadata": {
    "colab": {
     "base_uri": "https://localhost:8080/",
     "height": 147
    },
    "executionInfo": {
     "elapsed": 99,
     "status": "ok",
     "timestamp": 1758070790667,
     "user": {
      "displayName": "T Haruyama",
      "userId": "09851044792665346893"
     },
     "user_tz": -540
    },
    "id": "d668e25a-fd50-43bc-b847-f2b9396cb095",
    "outputId": "8fd7a035-1c68-4e85-9ce7-7c66966a3f7c"
   },
   "outputs": [],
   "source": [
    "res.bse"
   ]
  },
  {
   "cell_type": "markdown",
   "id": "31",
   "metadata": {
    "id": "3YLjOEuXsaQP"
   },
   "source": [
    "表13.1"
   ]
  },
  {
   "cell_type": "code",
   "execution_count": null,
   "id": "32",
   "metadata": {
    "colab": {
     "base_uri": "https://localhost:8080/",
     "height": 147
    },
    "executionInfo": {
     "elapsed": 9,
     "status": "ok",
     "timestamp": 1758070790677,
     "user": {
      "displayName": "T Haruyama",
      "userId": "09851044792665346893"
     },
     "user_tz": -540
    },
    "id": "29de46ed-f9b9-4746-80e7-bed16ffa8b6f",
    "outputId": "21928dcd-c657-465b-9b06-5ff7248b5290"
   },
   "outputs": [],
   "source": [
    "res.tvalues"
   ]
  },
  {
   "cell_type": "markdown",
   "id": "33",
   "metadata": {
    "id": "8iK6sIiesaj8"
   },
   "source": [
    "表13.1"
   ]
  },
  {
   "cell_type": "code",
   "execution_count": null,
   "id": "34",
   "metadata": {
    "colab": {
     "base_uri": "https://localhost:8080/",
     "height": 147
    },
    "executionInfo": {
     "elapsed": 6,
     "status": "ok",
     "timestamp": 1758070790684,
     "user": {
      "displayName": "T Haruyama",
      "userId": "09851044792665346893"
     },
     "user_tz": -540
    },
    "id": "2bd1cd3e-aecd-43bc-9663-89fea508e52f",
    "outputId": "aed52ab4-db38-4d9e-c1c1-be821367cd88"
   },
   "outputs": [],
   "source": [
    "res.pvalues"
   ]
  },
  {
   "cell_type": "markdown",
   "id": "35",
   "metadata": {
    "id": "mBwfbC2Hsa30"
   },
   "source": [
    "表13.1"
   ]
  },
  {
   "cell_type": "code",
   "execution_count": null,
   "id": "36",
   "metadata": {
    "colab": {
     "base_uri": "https://localhost:8080/",
     "height": 112
    },
    "executionInfo": {
     "elapsed": 26,
     "status": "ok",
     "timestamp": 1758070790711,
     "user": {
      "displayName": "T Haruyama",
      "userId": "09851044792665346893"
     },
     "user_tz": -540
    },
    "id": "73cb41be-50c6-494c-b266-2731a7201d6c",
    "outputId": "d6a2d644-fd82-4008-e463-10d921ae6408"
   },
   "outputs": [],
   "source": [
    "res.conf_int()"
   ]
  },
  {
   "cell_type": "markdown",
   "id": "37",
   "metadata": {
    "id": "Gq6Yua2XsbKb"
   },
   "source": [
    "表13.1"
   ]
  },
  {
   "cell_type": "code",
   "execution_count": null,
   "id": "38",
   "metadata": {
    "colab": {
     "base_uri": "https://localhost:8080/"
    },
    "executionInfo": {
     "elapsed": 2,
     "status": "ok",
     "timestamp": 1758070790718,
     "user": {
      "displayName": "T Haruyama",
      "userId": "09851044792665346893"
     },
     "user_tz": -540
    },
    "id": "fb65c69b-e182-41d1-ba35-b47a9dc65fc3",
    "outputId": "abcd48c7-51ca-469d-e84b-828b5a91205f"
   },
   "outputs": [],
   "source": [
    "res.nobs"
   ]
  },
  {
   "cell_type": "markdown",
   "id": "39",
   "metadata": {
    "id": "NX3HXJQPsbdH"
   },
   "source": [
    "表13.1"
   ]
  },
  {
   "cell_type": "code",
   "execution_count": null,
   "id": "40",
   "metadata": {
    "colab": {
     "base_uri": "https://localhost:8080/"
    },
    "executionInfo": {
     "elapsed": 5,
     "status": "ok",
     "timestamp": 1758070790724,
     "user": {
      "displayName": "T Haruyama",
      "userId": "09851044792665346893"
     },
     "user_tz": -540
    },
    "id": "e63952f8-6ac6-4dad-9664-5692e572e8ee",
    "outputId": "340c2f15-5cc2-4bc8-856d-a50a136dad81"
   },
   "outputs": [],
   "source": [
    "res.rsquared"
   ]
  },
  {
   "cell_type": "markdown",
   "id": "41",
   "metadata": {
    "id": "NwIarMo3sbxL"
   },
   "source": [
    "表13.1"
   ]
  },
  {
   "cell_type": "code",
   "execution_count": null,
   "id": "42",
   "metadata": {
    "colab": {
     "base_uri": "https://localhost:8080/"
    },
    "executionInfo": {
     "elapsed": 5,
     "status": "ok",
     "timestamp": 1758070790732,
     "user": {
      "displayName": "T Haruyama",
      "userId": "09851044792665346893"
     },
     "user_tz": -540
    },
    "id": "51f3af59-c96b-4f66-a456-54cee5adbeb5",
    "outputId": "fdfb1630-bde4-4717-ad96-3d1a52c61fab"
   },
   "outputs": [],
   "source": [
    "res.rsquared_adj"
   ]
  },
  {
   "cell_type": "markdown",
   "id": "43",
   "metadata": {
    "id": "M26-ZTnHscE7"
   },
   "source": [
    "表13.1"
   ]
  },
  {
   "cell_type": "code",
   "execution_count": null,
   "id": "44",
   "metadata": {
    "colab": {
     "base_uri": "https://localhost:8080/"
    },
    "executionInfo": {
     "elapsed": 1,
     "status": "ok",
     "timestamp": 1758070790734,
     "user": {
      "displayName": "T Haruyama",
      "userId": "09851044792665346893"
     },
     "user_tz": -540
    },
    "id": "949c674e-5821-454b-bee4-1783a6a6a89f",
    "outputId": "56496c45-5e84-4cdc-92f5-8a1edf205aab"
   },
   "outputs": [],
   "source": [
    "res.fvalue"
   ]
  },
  {
   "cell_type": "markdown",
   "id": "45",
   "metadata": {
    "id": "Mo_ZGPC_scYx"
   },
   "source": [
    "表13.1"
   ]
  },
  {
   "cell_type": "code",
   "execution_count": null,
   "id": "46",
   "metadata": {
    "colab": {
     "base_uri": "https://localhost:8080/"
    },
    "executionInfo": {
     "elapsed": 6,
     "status": "ok",
     "timestamp": 1758070790741,
     "user": {
      "displayName": "T Haruyama",
      "userId": "09851044792665346893"
     },
     "user_tz": -540
    },
    "id": "32542fcc-90cb-48dc-8968-d5ee69deb7e0",
    "outputId": "5c45c05e-ad14-4291-9717-5cb46def9ea1"
   },
   "outputs": [],
   "source": [
    "res.f_pvalue"
   ]
  },
  {
   "cell_type": "markdown",
   "id": "47",
   "metadata": {
    "id": "_Sl2VW8Xscs3"
   },
   "source": [
    "表13.1"
   ]
  },
  {
   "cell_type": "code",
   "execution_count": null,
   "id": "48",
   "metadata": {
    "colab": {
     "base_uri": "https://localhost:8080/",
     "height": 1000
    },
    "executionInfo": {
     "elapsed": 76,
     "status": "ok",
     "timestamp": 1758070790818,
     "user": {
      "displayName": "T Haruyama",
      "userId": "09851044792665346893"
     },
     "user_tz": -540
    },
    "id": "c90905c6-21ed-4466-a827-8af75b9d5b31",
    "outputId": "d8f07b7d-edba-4bd1-def7-fb6cbaf4205a"
   },
   "outputs": [],
   "source": [
    "res.fittedvalues"
   ]
  },
  {
   "cell_type": "markdown",
   "id": "49",
   "metadata": {
    "id": "U5wsV6aarwUT"
   },
   "source": [
    "コード13.3.9"
   ]
  },
  {
   "cell_type": "code",
   "execution_count": null,
   "id": "50",
   "metadata": {
    "colab": {
     "base_uri": "https://localhost:8080/",
     "height": 451
    },
    "executionInfo": {
     "elapsed": 248,
     "status": "ok",
     "timestamp": 1758070791068,
     "user": {
      "displayName": "T Haruyama",
      "userId": "09851044792665346893"
     },
     "user_tz": -540
    },
    "id": "844cdcf0-9610-462f-8cdc-7ee7a9687450",
    "outputId": "639c340f-3980-4aa3-f504-96b069e87afa"
   },
   "outputs": [],
   "source": [
    "df[\"fitted\"] = res.fittedvalues         # 予測値の列を追加\n",
    "plt.plot(\"rinc\", \"fitted\", data=df,     # 回帰直線\n",
    "          color=\"black\", label=\"予測値\")\n",
    "plt.scatter(\"rinc\", \"rcon\", data=df,    # 散布図\n",
    "            color=\"black\", label=\"データ\")\n",
    "plt.legend()\n",
    "plt.xlabel(\"所得\", size=12)\n",
    "plt.ylabel(\"消費\", size=12)\n",
    "plt.show()"
   ]
  },
  {
   "cell_type": "markdown",
   "id": "51",
   "metadata": {
    "id": "QgnGqv92t_DO"
   },
   "source": [
    "### 結果の解釈"
   ]
  },
  {
   "cell_type": "markdown",
   "id": "52",
   "metadata": {
    "id": "_wBc1eUT4mEp"
   },
   "source": [
    "## 今後の実証分析の学習のために"
   ]
  },
  {
   "cell_type": "code",
   "execution_count": null,
   "id": "53",
   "metadata": {
    "executionInfo": {
     "elapsed": 2,
     "status": "ok",
     "timestamp": 1758070791069,
     "user": {
      "displayName": "T Haruyama",
      "userId": "09851044792665346893"
     },
     "user_tz": -540
    },
    "id": "JBvC4i1v4qpA"
   },
   "outputs": [],
   "source": []
  }
 ],
 "metadata": {
  "colab": {
   "provenance": []
  },
  "kernelspec": {
   "display_name": "Python 3 (ipykernel)",
   "language": "python",
   "name": "python3"
  },
  "language_info": {
   "codemirror_mode": {
    "name": "ipython",
    "version": 3
   },
   "file_extension": ".py",
   "mimetype": "text/x-python",
   "name": "python",
   "nbconvert_exporter": "python",
   "pygments_lexer": "ipython3",
   "version": "3.11.10"
  }
 },
 "nbformat": 4,
 "nbformat_minor": 5
}
