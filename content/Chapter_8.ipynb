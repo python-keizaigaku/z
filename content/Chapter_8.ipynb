{
 "cells": [
  {
   "cell_type": "markdown",
   "id": "0",
   "metadata": {
    "id": "cf5eaa3d-397a-48f3-b144-30a1113a736e"
   },
   "source": [
    "# 第8章：データのプロット"
   ]
  },
  {
   "cell_type": "markdown",
   "id": "1",
   "metadata": {
    "id": "nNH_IpCP4RE3"
   },
   "source": [
    "## プロット用のライブラリ"
   ]
  },
  {
   "cell_type": "code",
   "execution_count": null,
   "id": "2",
   "metadata": {
    "colab": {
     "base_uri": "https://localhost:8080/"
    },
    "executionInfo": {
     "elapsed": 17588,
     "status": "ok",
     "timestamp": 1758070313828,
     "user": {
      "displayName": "T Haruyama",
      "userId": "09851044792665346893"
     },
     "user_tz": -540
    },
    "id": "e7294ce4-feda-494e-b3d7-e7daeaa8d9fb",
    "outputId": "12771d87-a0e3-49a9-91d3-1e49ffb7a2ba"
   },
   "outputs": [],
   "source": [
    "%pip install -q japanize-matplotlib py4macro\n",
    "import japanize_matplotlib\n",
    "import numpy as np\n",
    "import matplotlib.pyplot as plt\n",
    "import py4macro\n",
    "import random"
   ]
  },
  {
   "cell_type": "markdown",
   "id": "3",
   "metadata": {
    "id": "gZ9cu9bx4XtK"
   },
   "source": [
    "## ラインプロット"
   ]
  },
  {
   "cell_type": "markdown",
   "id": "4",
   "metadata": {
    "id": "7O0qgQxc4dte"
   },
   "source": [
    "### 書き方"
   ]
  },
  {
   "cell_type": "markdown",
   "id": "5",
   "metadata": {
    "id": "uJo-kOHR4mv4"
   },
   "source": [
    "コード8.2.1"
   ]
  },
  {
   "cell_type": "code",
   "execution_count": null,
   "id": "6",
   "metadata": {
    "colab": {
     "base_uri": "https://localhost:8080/",
     "height": 429
    },
    "executionInfo": {
     "elapsed": 393,
     "status": "ok",
     "timestamp": 1758070314235,
     "user": {
      "displayName": "T Haruyama",
      "userId": "09851044792665346893"
     },
     "user_tz": -540
    },
    "id": "bf5a533e-cb15-4fe0-8f13-234beaed73cd",
    "outputId": "cfc11e39-9e62-4f7c-c965-dcf0b7c0c22a"
   },
   "outputs": [],
   "source": [
    "x = [1, 2, 3]\n",
    "y = [10, 30, 20]\n",
    "\n",
    "plt.plot(x, y)\n",
    "plt.show()"
   ]
  },
  {
   "cell_type": "markdown",
   "id": "7",
   "metadata": {
    "id": "WYW155bc4xR4"
   },
   "source": [
    "### 曲線のプロット"
   ]
  },
  {
   "cell_type": "markdown",
   "id": "8",
   "metadata": {
    "id": "b6zL0dAD5JX1"
   },
   "source": [
    "コード8.2.2"
   ]
  },
  {
   "cell_type": "code",
   "execution_count": null,
   "id": "9",
   "metadata": {
    "colab": {
     "base_uri": "https://localhost:8080/",
     "height": 429
    },
    "executionInfo": {
     "elapsed": 99,
     "status": "ok",
     "timestamp": 1758070314335,
     "user": {
      "displayName": "T Haruyama",
      "userId": "09851044792665346893"
     },
     "user_tz": -540
    },
    "id": "0b5568e1-bba0-4801-a20a-bbd6efea99c3",
    "outputId": "04ce2dae-0c8c-4d8f-87cf-c2d6beb2de25"
   },
   "outputs": [],
   "source": [
    "x = py4macro.xvalues(-4, 4, 50)\n",
    "y = [i ** 2 for i in x]\n",
    "\n",
    "plt.plot(x, y)\n",
    "plt.show()"
   ]
  },
  {
   "cell_type": "markdown",
   "id": "10",
   "metadata": {
    "id": "uvTPu6dB5asW"
   },
   "source": [
    "コード8.2.3"
   ]
  },
  {
   "cell_type": "code",
   "execution_count": null,
   "id": "11",
   "metadata": {
    "colab": {
     "base_uri": "https://localhost:8080/",
     "height": 429
    },
    "executionInfo": {
     "elapsed": 224,
     "status": "ok",
     "timestamp": 1758070314560,
     "user": {
      "displayName": "T Haruyama",
      "userId": "09851044792665346893"
     },
     "user_tz": -540
    },
    "id": "e23582e3-b8af-4021-bf38-0848532ceb02",
    "outputId": "feebe00e-24d1-484b-9258-13d67372cdb0"
   },
   "outputs": [],
   "source": [
    "def normal_dist(z):\n",
    "    f = (  np.exp( -z**2 / 2 ) /\n",
    "           ( 2*np.pi )**(0.5)  )\n",
    "    return f\n",
    "\n",
    "y = [normal_dist(i) for i in x]\n",
    "\n",
    "plt.plot(x, y)\n",
    "plt.show()"
   ]
  },
  {
   "cell_type": "markdown",
   "id": "12",
   "metadata": {
    "id": "yUBEmlU25wbC"
   },
   "source": [
    "### 重ねてプロット"
   ]
  },
  {
   "cell_type": "markdown",
   "id": "13",
   "metadata": {
    "id": "kOPETMsd59YC"
   },
   "source": [
    "コード8.2.4"
   ]
  },
  {
   "cell_type": "code",
   "execution_count": null,
   "id": "14",
   "metadata": {
    "colab": {
     "base_uri": "https://localhost:8080/",
     "height": 429
    },
    "executionInfo": {
     "elapsed": 145,
     "status": "ok",
     "timestamp": 1758070314703,
     "user": {
      "displayName": "T Haruyama",
      "userId": "09851044792665346893"
     },
     "user_tz": -540
    },
    "id": "0d3fd733-a60c-4455-be32-2f081ab2ead5",
    "outputId": "d86b846d-fabd-40a7-a9c9-51a34b98f509"
   },
   "outputs": [],
   "source": [
    "y0 = [normal_dist(i) for i in x]\n",
    "y1 = [normal_dist(i-2.5) for i in x]\n",
    "\n",
    "plt.plot(x, y0)\n",
    "plt.plot(x, y1)\n",
    "plt.show()"
   ]
  },
  {
   "cell_type": "markdown",
   "id": "15",
   "metadata": {
    "id": "j9_UFvVz6FZq"
   },
   "source": [
    "コード8.2.5"
   ]
  },
  {
   "cell_type": "code",
   "execution_count": null,
   "id": "16",
   "metadata": {
    "id": "SIGrQpfX6K75"
   },
   "outputs": [],
   "source": [
    "x = [1, 2, 3]\n",
    "y0 = [10, 30, 25]\n",
    "y1 = [30, 10, 15]"
   ]
  },
  {
   "cell_type": "markdown",
   "id": "17",
   "metadata": {
    "id": "DooTqnhW6TnO"
   },
   "source": [
    "コード8.2.6"
   ]
  },
  {
   "cell_type": "code",
   "execution_count": null,
   "id": "18",
   "metadata": {
    "colab": {
     "base_uri": "https://localhost:8080/",
     "height": 429
    },
    "executionInfo": {
     "elapsed": 232,
     "status": "ok",
     "timestamp": 1758070314942,
     "user": {
      "displayName": "T Haruyama",
      "userId": "09851044792665346893"
     },
     "user_tz": -540
    },
    "id": "475168bc-8137-4e6e-910a-1ccffcba3a48",
    "outputId": "3f60a929-1a69-48cc-dad5-cc45d7083e9d"
   },
   "outputs": [],
   "source": [
    "plt.plot(x, y0,\n",
    "         linestyle=\":\",\n",
    "         linewidth=2,\n",
    "         color=\"grey\",\n",
    "         marker=\"o\",\n",
    "         markersize=7)\n",
    "plt.plot(x, y1,\n",
    "         linestyle=\"-\",\n",
    "         linewidth=2,\n",
    "         color=\"black\",\n",
    "         marker=\"^\",\n",
    "         markersize=7)\n",
    "plt.show()"
   ]
  },
  {
   "cell_type": "markdown",
   "id": "19",
   "metadata": {
    "id": "yqc_ZYJQ6gBD"
   },
   "source": [
    "### その他の「飾り付け」"
   ]
  },
  {
   "cell_type": "markdown",
   "id": "20",
   "metadata": {
    "id": "F1V3rrIt6lbT"
   },
   "source": [
    "コード8.2.7"
   ]
  },
  {
   "cell_type": "code",
   "execution_count": null,
   "id": "21",
   "metadata": {
    "colab": {
     "base_uri": "https://localhost:8080/",
     "height": 473
    },
    "executionInfo": {
     "elapsed": 190,
     "status": "ok",
     "timestamp": 1758070315133,
     "user": {
      "displayName": "T Haruyama",
      "userId": "09851044792665346893"
     },
     "user_tz": -540
    },
    "id": "01af098c-2e08-4f75-80d5-9e4e52cfd3f2",
    "outputId": "4adbf0ca-7e4c-45a9-8e7a-90af1743b5e9"
   },
   "outputs": [],
   "source": [
    "plt.plot(x, y0,\n",
    "         label=\"凡例\",\n",
    "         color=\"black\")\n",
    "plt.title(\"タイトル\", size=15)\n",
    "plt.xlabel(\"横軸\", size=11)\n",
    "plt.ylabel(\"縦軸\", size=11)\n",
    "plt.legend(fontsize=13)\n",
    "plt.grid()\n",
    "plt.show()"
   ]
  },
  {
   "cell_type": "markdown",
   "id": "22",
   "metadata": {
    "id": "OGWUXoix_a7v"
   },
   "source": [
    "コード8.2.8"
   ]
  },
  {
   "cell_type": "code",
   "execution_count": null,
   "id": "23",
   "metadata": {
    "colab": {
     "base_uri": "https://localhost:8080/",
     "height": 53
    },
    "executionInfo": {
     "elapsed": 32,
     "status": "ok",
     "timestamp": 1758070315166,
     "user": {
      "displayName": "T Haruyama",
      "userId": "09851044792665346893"
     },
     "user_tz": -540
    },
    "id": "YZ3ujobt_gqA",
    "outputId": "b8d05be0-ace0-4829-93e5-12c594952820"
   },
   "outputs": [],
   "source": [
    "plt.figure(figsize=(6.4, 4.8))"
   ]
  },
  {
   "cell_type": "markdown",
   "id": "24",
   "metadata": {
    "id": "u-JB_Zbg_nvv"
   },
   "source": [
    "## ヒストグラム"
   ]
  },
  {
   "cell_type": "markdown",
   "id": "25",
   "metadata": {
    "id": "TqTo29GM_s_s"
   },
   "source": [
    "コード8.3.1"
   ]
  },
  {
   "cell_type": "code",
   "execution_count": null,
   "id": "26",
   "metadata": {
    "colab": {
     "base_uri": "https://localhost:8080/",
     "height": 429
    },
    "executionInfo": {
     "elapsed": 204,
     "status": "ok",
     "timestamp": 1758070315365,
     "user": {
      "displayName": "T Haruyama",
      "userId": "09851044792665346893"
     },
     "user_tz": -540
    },
    "id": "15878458-56dc-45fa-aebf-f1068c65ec9d",
    "outputId": "c5984668-b009-4ec1-f216-9ae90a41a39b"
   },
   "outputs": [],
   "source": [
    "z0 = [random.gauss()\n",
    "      for _ in range(10_000)]\n",
    "\n",
    "plt.hist(z0)\n",
    "plt.show()"
   ]
  },
  {
   "cell_type": "markdown",
   "id": "27",
   "metadata": {
    "id": "UClR_JmUAbgw"
   },
   "source": [
    "コード8.3.2"
   ]
  },
  {
   "cell_type": "code",
   "execution_count": null,
   "id": "28",
   "metadata": {
    "colab": {
     "base_uri": "https://localhost:8080/",
     "height": 429
    },
    "executionInfo": {
     "elapsed": 390,
     "status": "ok",
     "timestamp": 1758070315754,
     "user": {
      "displayName": "T Haruyama",
      "userId": "09851044792665346893"
     },
     "user_tz": -540
    },
    "id": "27b416a2-81e5-4b0f-85ff-f7f3044ad997",
    "outputId": "b138e21f-fd66-4244-f996-a69f20b8117c"
   },
   "outputs": [],
   "source": [
    "plt.hist(z0,\n",
    "         bins = 20,\n",
    "         linewidth=0.5,\n",
    "         color=\"black\",\n",
    "         edgecolor=\"white\",\n",
    "         alpha=0.5,\n",
    "         label=\"zの値\",\n",
    "         density=True)\n",
    "plt.legend()\n",
    "plt.show()"
   ]
  },
  {
   "cell_type": "markdown",
   "id": "29",
   "metadata": {
    "id": "zBu-wxetAnbZ"
   },
   "source": [
    "コード8.3.3"
   ]
  },
  {
   "cell_type": "code",
   "execution_count": null,
   "id": "30",
   "metadata": {
    "colab": {
     "base_uri": "https://localhost:8080/",
     "height": 450
    },
    "executionInfo": {
     "elapsed": 205,
     "status": "ok",
     "timestamp": 1758070315960,
     "user": {
      "displayName": "T Haruyama",
      "userId": "09851044792665346893"
     },
     "user_tz": -540
    },
    "id": "8c208dc7-6a7d-442b-803a-8a00f07cef30",
    "outputId": "cd7347b9-a9a1-4ce1-cb9f-af753f549672"
   },
   "outputs": [],
   "source": [
    "z1 = [random.gauss(2, 2) for _ in range(10_000)]\n",
    "\n",
    "plt.hist(z0,\n",
    "         bins = 10,\n",
    "         color=\"black\",\n",
    "         edgecolor=\"white\",\n",
    "         alpha=0.5,\n",
    "         label=\"z0\"\n",
    "        )\n",
    "plt.hist(z1,\n",
    "         bins = 20,\n",
    "         color=\"white\",\n",
    "         edgecolor=\"black\",\n",
    "         alpha=0.5,\n",
    "         label=\"z1\")\n",
    "plt.title(\"z0とz1のヒストグラム\", size=12)\n",
    "plt.legend(fontsize=8)\n",
    "plt.show()"
   ]
  },
  {
   "cell_type": "markdown",
   "id": "31",
   "metadata": {
    "id": "Lg2_AD6gA_sp"
   },
   "source": [
    "## 散布図"
   ]
  },
  {
   "cell_type": "markdown",
   "id": "32",
   "metadata": {
    "id": "XccG94OcBCwH"
   },
   "source": [
    "コード8.4.1"
   ]
  },
  {
   "cell_type": "code",
   "execution_count": null,
   "id": "33",
   "metadata": {
    "colab": {
     "base_uri": "https://localhost:8080/",
     "height": 429
    },
    "executionInfo": {
     "elapsed": 218,
     "status": "ok",
     "timestamp": 1758070316177,
     "user": {
      "displayName": "T Haruyama",
      "userId": "09851044792665346893"
     },
     "user_tz": -540
    },
    "id": "14cce000-c4bc-42ba-90b0-c5a9b7337ee5",
    "outputId": "47dd8ec0-31c2-4ae7-d322-2b5f19125b53"
   },
   "outputs": [],
   "source": [
    "n = 20\n",
    "x2 = [random.gauss()\n",
    "      for _ in range(n)]\n",
    "u2 = [random.gauss()\n",
    "      for _ in range(n)]\n",
    "y2 = [i + 0.5*j for i, j in zip(x2, u2)]\n",
    "\n",
    "plt.scatter(x2, y2)\n",
    "plt.show()"
   ]
  },
  {
   "cell_type": "markdown",
   "id": "34",
   "metadata": {
    "id": "boAQpm56BVvL"
   },
   "source": [
    "コード8.4.2"
   ]
  },
  {
   "cell_type": "code",
   "execution_count": null,
   "id": "35",
   "metadata": {
    "colab": {
     "base_uri": "https://localhost:8080/",
     "height": 482
    },
    "executionInfo": {
     "elapsed": 284,
     "status": "ok",
     "timestamp": 1758070316466,
     "user": {
      "displayName": "T Haruyama",
      "userId": "09851044792665346893"
     },
     "user_tz": -540
    },
    "id": "892117be-bbc1-4ae3-8cf3-1012befcbc41",
    "outputId": "74e65648-5fd0-4411-f411-a651b6d0ec9f"
   },
   "outputs": [],
   "source": [
    "x3 = [random.gauss()\n",
    "      for _ in range(n)]\n",
    "u3 = [random.gauss()\n",
    "      for _ in range(n)]\n",
    "y3 = [-i + 0.5*j\n",
    "      for i, j in zip(x3, u3)]\n",
    "\n",
    "plt.scatter(x2, y2,\n",
    "            marker=\"o\",\n",
    "            s=50,\n",
    "            color=\"grey\",\n",
    "            alpha=0.8,\n",
    "            label=\"(x2,y2)\")\n",
    "plt.scatter(x3, y3,\n",
    "            marker=\"x\",\n",
    "            s=50,\n",
    "            color=\"black\",\n",
    "            label=\"(x3,y3)\")\n",
    "\n",
    "plt.title(\"散布図\", size=18)\n",
    "plt.xlabel(\"x2, x3\", size=15)\n",
    "plt.ylabel(\"y2, y3\", size=15)\n",
    "plt.legend(fontsize=10)\n",
    "plt.show()"
   ]
  },
  {
   "cell_type": "code",
   "execution_count": null,
   "id": "36",
   "metadata": {
    "id": "937f2ee2-cf2e-42f9-80f0-026cdb663c01"
   },
   "outputs": [],
   "source": []
  }
 ],
 "metadata": {
  "colab": {
   "provenance": []
  },
  "kernelspec": {
   "display_name": "Python 3",
   "name": "python3"
  },
  "language_info": {
   "name": "python"
  }
 },
 "nbformat": 4,
 "nbformat_minor": 5
}
