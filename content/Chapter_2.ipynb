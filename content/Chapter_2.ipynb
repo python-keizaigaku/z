{
 "cells": [
  {
   "cell_type": "markdown",
   "id": "0",
   "metadata": {
    "id": "c2f12e80-c05e-430c-b762-93f65856b84f"
   },
   "source": [
    "# 第2章：Pythonの基礎"
   ]
  },
  {
   "cell_type": "markdown",
   "id": "1",
   "metadata": {
    "id": "5jc53_xdtqr-",
    "jp-MarkdownHeadingCollapsed": true
   },
   "source": [
    "## 4つの基本データ型"
   ]
  },
  {
   "cell_type": "markdown",
   "id": "2",
   "metadata": {
    "id": "b984d352-f6a4-4bd2-bf4f-a75d065efc56"
   },
   "source": [
    "例2.1(a)"
   ]
  },
  {
   "cell_type": "markdown",
   "id": "3",
   "metadata": {
    "id": "6691e22b-0ec7-40b2-aa85-820d00c2addd"
   },
   "source": [
    "12"
   ]
  },
  {
   "cell_type": "markdown",
   "id": "4",
   "metadata": {
    "id": "76ed0145-3f60-4f0f-b1cb-2be0744f4747"
   },
   "source": [
    "例2.1(b)"
   ]
  },
  {
   "cell_type": "code",
   "execution_count": null,
   "id": "5",
   "metadata": {
    "colab": {
     "base_uri": "https://localhost:8080/"
    },
    "executionInfo": {
     "elapsed": 22,
     "status": "ok",
     "timestamp": 1758072163654,
     "user": {
      "displayName": "T Haruyama",
      "userId": "09851044792665346893"
     },
     "user_tz": -540
    },
    "id": "164bad9d-c4c9-4c87-9dd2-4d1cca5b1ba4",
    "outputId": "0e54aafc-a8ec-4f53-e2f9-419b08f95a69"
   },
   "outputs": [],
   "source": [
    "0"
   ]
  },
  {
   "cell_type": "markdown",
   "id": "6",
   "metadata": {
    "id": "73258bf3-0d0c-40d8-b123-20abab83d4f7"
   },
   "source": [
    "例2.1(c)"
   ]
  },
  {
   "cell_type": "code",
   "execution_count": null,
   "id": "7",
   "metadata": {
    "colab": {
     "base_uri": "https://localhost:8080/"
    },
    "executionInfo": {
     "elapsed": 92,
     "status": "ok",
     "timestamp": 1758072163747,
     "user": {
      "displayName": "T Haruyama",
      "userId": "09851044792665346893"
     },
     "user_tz": -540
    },
    "id": "49c7e9e3-14ee-4b24-8539-d67e0ade79cd",
    "outputId": "970aa70f-aaaf-4510-d120-1ded4d564bee"
   },
   "outputs": [],
   "source": [
    "-15"
   ]
  },
  {
   "cell_type": "markdown",
   "id": "8",
   "metadata": {
    "id": "adb51dcf-4012-42d4-bdcc-6792cd64344b"
   },
   "source": [
    "例2.1(d)"
   ]
  },
  {
   "cell_type": "code",
   "execution_count": null,
   "id": "9",
   "metadata": {
    "colab": {
     "base_uri": "https://localhost:8080/"
    },
    "executionInfo": {
     "elapsed": 3,
     "status": "ok",
     "timestamp": 1758072163759,
     "user": {
      "displayName": "T Haruyama",
      "userId": "09851044792665346893"
     },
     "user_tz": -540
    },
    "id": "a8baa2a9-5d07-4e88-8bd3-4cf5f73bd7de",
    "outputId": "bbbc2e21-75af-4c45-acec-070557c99232"
   },
   "outputs": [],
   "source": [
    "10000"
   ]
  },
  {
   "cell_type": "markdown",
   "id": "10",
   "metadata": {
    "id": "f8d7be7f-8f2f-4379-9614-f8f2b5a22ed7"
   },
   "source": [
    "例2.1(e)"
   ]
  },
  {
   "cell_type": "code",
   "execution_count": null,
   "id": "11",
   "metadata": {
    "colab": {
     "base_uri": "https://localhost:8080/"
    },
    "executionInfo": {
     "elapsed": 2,
     "status": "ok",
     "timestamp": 1758072163761,
     "user": {
      "displayName": "T Haruyama",
      "userId": "09851044792665346893"
     },
     "user_tz": -540
    },
    "id": "c49f2cd4-e415-4bab-a14a-7532a6e3f1ce",
    "outputId": "3ac4534c-f68a-41e4-8d48-218ac1fd667d"
   },
   "outputs": [],
   "source": [
    "10_000"
   ]
  },
  {
   "cell_type": "markdown",
   "id": "12",
   "metadata": {
    "id": "hGti-5L46SUY"
   },
   "source": [
    "コード2.1.1"
   ]
  },
  {
   "cell_type": "code",
   "execution_count": null,
   "id": "13",
   "metadata": {
    "colab": {
     "base_uri": "https://localhost:8080/"
    },
    "executionInfo": {
     "elapsed": 8,
     "status": "ok",
     "timestamp": 1758072163770,
     "user": {
      "displayName": "T Haruyama",
      "userId": "09851044792665346893"
     },
     "user_tz": -540
    },
    "id": "ZJhgxHyCt2de",
    "outputId": "47de68c6-1e3d-42ac-b129-1f21f4df1edb"
   },
   "outputs": [],
   "source": [
    "557_000_000_000_000"
   ]
  },
  {
   "cell_type": "markdown",
   "id": "14",
   "metadata": {
    "id": "N0gd8F5W6cC4"
   },
   "source": [
    "例2.2(a)"
   ]
  },
  {
   "cell_type": "code",
   "execution_count": null,
   "id": "15",
   "metadata": {
    "colab": {
     "base_uri": "https://localhost:8080/"
    },
    "executionInfo": {
     "elapsed": 2,
     "status": "ok",
     "timestamp": 1758072163773,
     "user": {
      "displayName": "T Haruyama",
      "userId": "09851044792665346893"
     },
     "user_tz": -540
    },
    "id": "GuU7Pg_U4jFa",
    "outputId": "14d42fa5-c28e-4f9d-d5a1-62ee0fbd5eaf"
   },
   "outputs": [],
   "source": [
    "3.14"
   ]
  },
  {
   "cell_type": "markdown",
   "id": "16",
   "metadata": {
    "id": "j7aNhGCg6gP4"
   },
   "source": [
    "例2.2(b)"
   ]
  },
  {
   "cell_type": "code",
   "execution_count": null,
   "id": "17",
   "metadata": {
    "colab": {
     "base_uri": "https://localhost:8080/"
    },
    "executionInfo": {
     "elapsed": 2,
     "status": "ok",
     "timestamp": 1758072163776,
     "user": {
      "displayName": "T Haruyama",
      "userId": "09851044792665346893"
     },
     "user_tz": -540
    },
    "id": "AzkRdZWc4nhx",
    "outputId": "ba9d1a30-cd35-4dd7-a826-8d343c3ab179"
   },
   "outputs": [],
   "source": [
    "314159.2"
   ]
  },
  {
   "cell_type": "markdown",
   "id": "18",
   "metadata": {
    "id": "7pGCiDNg6jQJ"
   },
   "source": [
    "例2.2(c)"
   ]
  },
  {
   "cell_type": "code",
   "execution_count": null,
   "id": "19",
   "metadata": {
    "colab": {
     "base_uri": "https://localhost:8080/"
    },
    "executionInfo": {
     "elapsed": 13,
     "status": "ok",
     "timestamp": 1758072163798,
     "user": {
      "displayName": "T Haruyama",
      "userId": "09851044792665346893"
     },
     "user_tz": -540
    },
    "id": "W0b5B2GK4rq8",
    "outputId": "4be9c7ee-b1f5-4d02-bf37-c85693f4fd10"
   },
   "outputs": [],
   "source": [
    "0.0000314"
   ]
  },
  {
   "cell_type": "markdown",
   "id": "20",
   "metadata": {
    "id": "G5XBY-gx6mrR"
   },
   "source": [
    "例2.2(d)"
   ]
  },
  {
   "cell_type": "code",
   "execution_count": null,
   "id": "21",
   "metadata": {
    "colab": {
     "base_uri": "https://localhost:8080/"
    },
    "executionInfo": {
     "elapsed": 10,
     "status": "ok",
     "timestamp": 1758072163798,
     "user": {
      "displayName": "T Haruyama",
      "userId": "09851044792665346893"
     },
     "user_tz": -540
    },
    "id": "q4c8rkkG4u4c",
    "outputId": "ddf602f6-ceb5-4e86-d62a-2005bcba2783"
   },
   "outputs": [],
   "source": [
    "0.0"
   ]
  },
  {
   "cell_type": "markdown",
   "id": "22",
   "metadata": {
    "id": "eOUZEIeH6pVN"
   },
   "source": [
    "例2.2(e)"
   ]
  },
  {
   "cell_type": "code",
   "execution_count": null,
   "id": "23",
   "metadata": {
    "colab": {
     "base_uri": "https://localhost:8080/"
    },
    "executionInfo": {
     "elapsed": 4,
     "status": "ok",
     "timestamp": 1758072163801,
     "user": {
      "displayName": "T Haruyama",
      "userId": "09851044792665346893"
     },
     "user_tz": -540
    },
    "id": "JZjkjBYc4xCH",
    "outputId": "6c3c3c62-4506-4938-8944-9ea089fe9e07"
   },
   "outputs": [],
   "source": [
    "3.141592e+05"
   ]
  },
  {
   "cell_type": "markdown",
   "id": "24",
   "metadata": {
    "id": "QFmhAoje6r1o"
   },
   "source": [
    "例2.2(f)"
   ]
  },
  {
   "cell_type": "code",
   "execution_count": null,
   "id": "25",
   "metadata": {
    "colab": {
     "base_uri": "https://localhost:8080/"
    },
    "executionInfo": {
     "elapsed": 2,
     "status": "ok",
     "timestamp": 1758072163803,
     "user": {
      "displayName": "T Haruyama",
      "userId": "09851044792665346893"
     },
     "user_tz": -540
    },
    "id": "A0LYmISE416H",
    "outputId": "8ae88675-d87b-448c-dd06-a5225e2cb58b"
   },
   "outputs": [],
   "source": [
    "3.141592e-05"
   ]
  },
  {
   "cell_type": "markdown",
   "id": "26",
   "metadata": {
    "id": "wG3tdLkt6uo4"
   },
   "source": [
    "コード2.1.2"
   ]
  },
  {
   "cell_type": "code",
   "execution_count": null,
   "id": "27",
   "metadata": {
    "colab": {
     "base_uri": "https://localhost:8080/"
    },
    "executionInfo": {
     "elapsed": 6,
     "status": "ok",
     "timestamp": 1758072163810,
     "user": {
      "displayName": "T Haruyama",
      "userId": "09851044792665346893"
     },
     "user_tz": -540
    },
    "id": "ymsHAEhpuACl",
    "outputId": "fa2d3fab-5227-4c78-9ebb-9a9a430d2ae2"
   },
   "outputs": [],
   "source": [
    "0.0000314"
   ]
  },
  {
   "cell_type": "markdown",
   "id": "28",
   "metadata": {
    "id": "__em8mz86xDf"
   },
   "source": [
    "コード2.1.3"
   ]
  },
  {
   "cell_type": "code",
   "execution_count": null,
   "id": "29",
   "metadata": {
    "colab": {
     "base_uri": "https://localhost:8080/"
    },
    "executionInfo": {
     "elapsed": 2,
     "status": "ok",
     "timestamp": 1758072163813,
     "user": {
      "displayName": "T Haruyama",
      "userId": "09851044792665346893"
     },
     "user_tz": -540
    },
    "id": "NoQ6mfmduCiE",
    "outputId": "23332f71-0884-4291-9e10-f42ca66f5f30"
   },
   "outputs": [],
   "source": [
    "557e+12"
   ]
  },
  {
   "cell_type": "markdown",
   "id": "30",
   "metadata": {
    "id": "4e8678d0-d13f-491d-978d-b69ebcd72cf8"
   },
   "source": [
    "例2.3(a)"
   ]
  },
  {
   "cell_type": "code",
   "execution_count": null,
   "id": "31",
   "metadata": {
    "colab": {
     "base_uri": "https://localhost:8080/",
     "height": 35
    },
    "executionInfo": {
     "elapsed": 24,
     "status": "ok",
     "timestamp": 1758072163838,
     "user": {
      "displayName": "T Haruyama",
      "userId": "09851044792665346893"
     },
     "user_tz": -540
    },
    "id": "310356a4-7bc4-4960-ab21-963e376f546a",
    "outputId": "479c240f-2721-48ba-a651-d30feaed5ca8"
   },
   "outputs": [],
   "source": [
    "\"Windows 11\""
   ]
  },
  {
   "cell_type": "markdown",
   "id": "32",
   "metadata": {
    "id": "99003af1-e37b-4fe2-a489-de651b6ca4e7"
   },
   "source": [
    "例2.3(b)"
   ]
  },
  {
   "cell_type": "code",
   "execution_count": null,
   "id": "33",
   "metadata": {
    "colab": {
     "base_uri": "https://localhost:8080/",
     "height": 35
    },
    "executionInfo": {
     "elapsed": 29,
     "status": "ok",
     "timestamp": 1758072163848,
     "user": {
      "displayName": "T Haruyama",
      "userId": "09851044792665346893"
     },
     "user_tz": -540
    },
    "id": "4809d584-be64-4876-af20-13ed8d15ff18",
    "outputId": "573d97a6-8111-4213-949a-9d7ec2ed9fef"
   },
   "outputs": [],
   "source": [
    "\"Pythonは楽しい！\""
   ]
  },
  {
   "cell_type": "markdown",
   "id": "34",
   "metadata": {
    "id": "70c525e2-2623-4c8f-af6d-1e51acc01524"
   },
   "source": [
    "例2.3(c)"
   ]
  },
  {
   "cell_type": "code",
   "execution_count": null,
   "id": "35",
   "metadata": {
    "colab": {
     "base_uri": "https://localhost:8080/",
     "height": 35
    },
    "executionInfo": {
     "elapsed": 15,
     "status": "ok",
     "timestamp": 1758072163849,
     "user": {
      "displayName": "T Haruyama",
      "userId": "09851044792665346893"
     },
     "user_tz": -540
    },
    "id": "d2d1051c-c274-4e18-8bf7-cb415728ade3",
    "outputId": "51242518-bb2c-43b1-ed17-e5539fd99d5a"
   },
   "outputs": [],
   "source": [
    "\"3.14\""
   ]
  },
  {
   "cell_type": "markdown",
   "id": "36",
   "metadata": {
    "id": "jdDahVGG60UR"
   },
   "source": [
    "コード2.1.4"
   ]
  },
  {
   "cell_type": "code",
   "execution_count": null,
   "id": "37",
   "metadata": {
    "colab": {
     "base_uri": "https://localhost:8080/",
     "height": 35
    },
    "executionInfo": {
     "elapsed": 12,
     "status": "ok",
     "timestamp": 1758072163849,
     "user": {
      "displayName": "T Haruyama",
      "userId": "09851044792665346893"
     },
     "user_tz": -540
    },
    "id": "LIEL4_DSuGfK",
    "outputId": "99cdc83d-ddcc-4233-87b9-61d4012db8b6"
   },
   "outputs": [],
   "source": [
    "\"He said 'GDP is 557 trillion yen!' and similed.\""
   ]
  },
  {
   "cell_type": "markdown",
   "id": "38",
   "metadata": {
    "id": "70a7f3ef-28ac-44ac-b69e-09aba7d95d8b",
    "jp-MarkdownHeadingCollapsed": true
   },
   "source": [
    "## 演算子"
   ]
  },
  {
   "cell_type": "markdown",
   "id": "39",
   "metadata": {
    "id": "6dPYeWSLuYX_"
   },
   "source": [
    "### 算術演算子"
   ]
  },
  {
   "cell_type": "markdown",
   "id": "40",
   "metadata": {
    "id": "ibf5JNNrugEe"
   },
   "source": [
    "### 比較演算子"
   ]
  },
  {
   "cell_type": "markdown",
   "id": "41",
   "metadata": {
    "id": "R3zjfbsV63xy"
   },
   "source": [
    "コード2.2.1"
   ]
  },
  {
   "cell_type": "code",
   "execution_count": null,
   "id": "42",
   "metadata": {
    "colab": {
     "base_uri": "https://localhost:8080/"
    },
    "executionInfo": {
     "elapsed": 3,
     "status": "ok",
     "timestamp": 1758072163851,
     "user": {
      "displayName": "T Haruyama",
      "userId": "09851044792665346893"
     },
     "user_tz": -540
    },
    "id": "bRBLeYLeuk8F",
    "outputId": "2659a33f-9be2-49c7-de72-8e2c908107c5"
   },
   "outputs": [],
   "source": [
    "2 == True + True + False"
   ]
  },
  {
   "cell_type": "markdown",
   "id": "43",
   "metadata": {
    "id": "B9aCutEK650P"
   },
   "source": [
    "コード2.2.2"
   ]
  },
  {
   "cell_type": "code",
   "execution_count": null,
   "id": "44",
   "metadata": {
    "colab": {
     "base_uri": "https://localhost:8080/"
    },
    "executionInfo": {
     "elapsed": 18,
     "status": "ok",
     "timestamp": 1758072163870,
     "user": {
      "displayName": "T Haruyama",
      "userId": "09851044792665346893"
     },
     "user_tz": -540
    },
    "id": "PkpKVJeAuquT",
    "outputId": "3d6d47ea-f324-4fb9-c17b-8093e9cb0cb6"
   },
   "outputs": [],
   "source": [
    "\"Python\" != \"python\""
   ]
  },
  {
   "cell_type": "markdown",
   "id": "45",
   "metadata": {
    "id": "PVdOa7pwuvk1"
   },
   "source": [
    "### ブール演算子"
   ]
  },
  {
   "cell_type": "markdown",
   "id": "46",
   "metadata": {
    "id": "2k4G13ya68Tc"
   },
   "source": [
    "コード2.2.3"
   ]
  },
  {
   "cell_type": "code",
   "execution_count": null,
   "id": "47",
   "metadata": {
    "colab": {
     "base_uri": "https://localhost:8080/"
    },
    "executionInfo": {
     "elapsed": 9,
     "status": "ok",
     "timestamp": 1758072163871,
     "user": {
      "displayName": "T Haruyama",
      "userId": "09851044792665346893"
     },
     "user_tz": -540
    },
    "id": "Nm13VfhTvDVR",
    "outputId": "502d0ef1-a45f-4a4a-a62e-106b6c983c30"
   },
   "outputs": [],
   "source": [
    "not ( 0 > 1 )"
   ]
  },
  {
   "cell_type": "markdown",
   "id": "48",
   "metadata": {
    "id": "vqBiyj6R6-Y5"
   },
   "source": [
    "コード2.2.4"
   ]
  },
  {
   "cell_type": "code",
   "execution_count": null,
   "id": "49",
   "metadata": {
    "colab": {
     "base_uri": "https://localhost:8080/"
    },
    "executionInfo": {
     "elapsed": 5,
     "status": "ok",
     "timestamp": 1758072163876,
     "user": {
      "displayName": "T Haruyama",
      "userId": "09851044792665346893"
     },
     "user_tz": -540
    },
    "id": "GnujYYLHvJBe",
    "outputId": "c814c043-1cff-44f6-ba26-d92d31fb246b"
   },
   "outputs": [],
   "source": [
    "( 1 > 0 ) and ( -1 > 0 )"
   ]
  },
  {
   "cell_type": "markdown",
   "id": "50",
   "metadata": {
    "id": "NeSRKH21vRUa"
   },
   "source": [
    "## 演算子の優先順位"
   ]
  },
  {
   "cell_type": "markdown",
   "id": "51",
   "metadata": {
    "id": "wOygzDN4xMCQ"
   },
   "source": [
    "## 変数への代入"
   ]
  },
  {
   "cell_type": "markdown",
   "id": "52",
   "metadata": {
    "id": "eb715801-2c8d-4d17-b353-64c4c056c378"
   },
   "source": [
    "### 代入演算子"
   ]
  },
  {
   "cell_type": "markdown",
   "id": "53",
   "metadata": {
    "id": "X44zQ8lV8D6d"
   },
   "source": [
    "コード2.4.1"
   ]
  },
  {
   "cell_type": "code",
   "execution_count": null,
   "id": "54",
   "metadata": {
    "colab": {
     "base_uri": "https://localhost:8080/"
    },
    "executionInfo": {
     "elapsed": 2,
     "status": "ok",
     "timestamp": 1758072163879,
     "user": {
      "displayName": "T Haruyama",
      "userId": "09851044792665346893"
     },
     "user_tz": -540
    },
    "id": "bbe1edcc-dcdf-4c94-a5bc-3a627f21e4ba",
    "outputId": "cba04550-2f60-454d-a79f-c630224290e9"
   },
   "outputs": [],
   "source": [
    "x = 10\n",
    "x + x / 2"
   ]
  },
  {
   "cell_type": "markdown",
   "id": "55",
   "metadata": {
    "id": "qgaEzzBd8JKP"
   },
   "source": [
    "コード2.4.2"
   ]
  },
  {
   "cell_type": "code",
   "execution_count": null,
   "id": "56",
   "metadata": {
    "colab": {
     "base_uri": "https://localhost:8080/"
    },
    "executionInfo": {
     "elapsed": 8,
     "status": "ok",
     "timestamp": 1758072163888,
     "user": {
      "displayName": "T Haruyama",
      "userId": "09851044792665346893"
     },
     "user_tz": -540
    },
    "id": "5WmfuINXxTaJ",
    "outputId": "ee7323a3-e3b7-4105-fe4b-67dd94c5ae4a"
   },
   "outputs": [],
   "source": [
    "x = 10\n",
    "x = x + 1\n",
    "x"
   ]
  },
  {
   "cell_type": "markdown",
   "id": "57",
   "metadata": {
    "id": "s7hzDN7zxZOg"
   },
   "source": [
    "### 複合代入演算子"
   ]
  },
  {
   "cell_type": "markdown",
   "id": "58",
   "metadata": {
    "id": "60gLwaIh8PSa"
   },
   "source": [
    "コード2.4.3"
   ]
  },
  {
   "cell_type": "code",
   "execution_count": null,
   "id": "59",
   "metadata": {
    "executionInfo": {
     "elapsed": 12,
     "status": "ok",
     "timestamp": 1758072163900,
     "user": {
      "displayName": "T Haruyama",
      "userId": "09851044792665346893"
     },
     "user_tz": -540
    },
    "id": "PgwWpF7sxe5m"
   },
   "outputs": [],
   "source": [
    "x += 1"
   ]
  },
  {
   "cell_type": "markdown",
   "id": "60",
   "metadata": {
    "id": "t9U_NkuD8YnD"
   },
   "source": [
    "表2.1"
   ]
  },
  {
   "cell_type": "code",
   "execution_count": null,
   "id": "61",
   "metadata": {
    "colab": {
     "base_uri": "https://localhost:8080/"
    },
    "executionInfo": {
     "elapsed": 36,
     "status": "ok",
     "timestamp": 1758072163967,
     "user": {
      "displayName": "T Haruyama",
      "userId": "09851044792665346893"
     },
     "user_tz": -540
    },
    "id": "8KmiF9_y8bGd",
    "outputId": "ef6b8faf-5453-41ac-80bc-1bbc5bbd8909"
   },
   "outputs": [],
   "source": [
    "x = 10\n",
    "x += 1\n",
    "x"
   ]
  },
  {
   "cell_type": "markdown",
   "id": "62",
   "metadata": {
    "id": "OQlmCvOw8hWD"
   },
   "source": [
    "表2.1"
   ]
  },
  {
   "cell_type": "code",
   "execution_count": null,
   "id": "63",
   "metadata": {
    "colab": {
     "base_uri": "https://localhost:8080/"
    },
    "executionInfo": {
     "elapsed": 52,
     "status": "ok",
     "timestamp": 1758072164038,
     "user": {
      "displayName": "T Haruyama",
      "userId": "09851044792665346893"
     },
     "user_tz": -540
    },
    "id": "zrvzidk48hWE",
    "outputId": "5e4796b6-192e-4b44-83a2-d0868dcb30e9"
   },
   "outputs": [],
   "source": [
    "x = 10\n",
    "x -= 1\n",
    "x"
   ]
  },
  {
   "cell_type": "markdown",
   "id": "64",
   "metadata": {
    "id": "fzhhoyo58lKQ"
   },
   "source": [
    "表2.1"
   ]
  },
  {
   "cell_type": "code",
   "execution_count": null,
   "id": "65",
   "metadata": {
    "colab": {
     "base_uri": "https://localhost:8080/"
    },
    "executionInfo": {
     "elapsed": 33,
     "status": "ok",
     "timestamp": 1758072164077,
     "user": {
      "displayName": "T Haruyama",
      "userId": "09851044792665346893"
     },
     "user_tz": -540
    },
    "id": "wtEc_UUy8lKR",
    "outputId": "48f19dd5-4ad7-4a51-cff8-52f6d894a3ae"
   },
   "outputs": [],
   "source": [
    "x = 10\n",
    "x *= 2\n",
    "x"
   ]
  },
  {
   "cell_type": "markdown",
   "id": "66",
   "metadata": {
    "id": "E5ClOW_U8rsK"
   },
   "source": [
    "表2.1"
   ]
  },
  {
   "cell_type": "code",
   "execution_count": null,
   "id": "67",
   "metadata": {
    "colab": {
     "base_uri": "https://localhost:8080/"
    },
    "executionInfo": {
     "elapsed": 8,
     "status": "ok",
     "timestamp": 1758072164086,
     "user": {
      "displayName": "T Haruyama",
      "userId": "09851044792665346893"
     },
     "user_tz": -540
    },
    "id": "MU8FL5Ud8rsN",
    "outputId": "494b0e0a-b0e1-46b3-f492-870a87aed565"
   },
   "outputs": [],
   "source": [
    "x = 10\n",
    "x /= 2\n",
    "x"
   ]
  },
  {
   "cell_type": "markdown",
   "id": "68",
   "metadata": {
    "id": "yfi3bMjm8vri"
   },
   "source": [
    "表2.1"
   ]
  },
  {
   "cell_type": "code",
   "execution_count": null,
   "id": "69",
   "metadata": {
    "colab": {
     "base_uri": "https://localhost:8080/"
    },
    "executionInfo": {
     "elapsed": 7,
     "status": "ok",
     "timestamp": 1758072164094,
     "user": {
      "displayName": "T Haruyama",
      "userId": "09851044792665346893"
     },
     "user_tz": -540
    },
    "id": "VSKfE38Y8vri",
    "outputId": "1b2b04c5-0965-4c88-af73-3a91785c82a8"
   },
   "outputs": [],
   "source": [
    "x = 10\n",
    "x **= 2\n",
    "x"
   ]
  },
  {
   "cell_type": "markdown",
   "id": "70",
   "metadata": {
    "id": "xyq_1l8R8yps"
   },
   "source": [
    "表2.1"
   ]
  },
  {
   "cell_type": "code",
   "execution_count": null,
   "id": "71",
   "metadata": {
    "colab": {
     "base_uri": "https://localhost:8080/"
    },
    "executionInfo": {
     "elapsed": 6,
     "status": "ok",
     "timestamp": 1758072164101,
     "user": {
      "displayName": "T Haruyama",
      "userId": "09851044792665346893"
     },
     "user_tz": -540
    },
    "id": "mdUjpXTa8ypu",
    "outputId": "68252813-d006-4a7d-9c12-4933a6724668"
   },
   "outputs": [],
   "source": [
    "x = 10\n",
    "x //= 3\n",
    "x"
   ]
  },
  {
   "cell_type": "markdown",
   "id": "72",
   "metadata": {
    "id": "lbIpHCwz81t4"
   },
   "source": [
    "表2.1"
   ]
  },
  {
   "cell_type": "code",
   "execution_count": null,
   "id": "73",
   "metadata": {
    "colab": {
     "base_uri": "https://localhost:8080/"
    },
    "executionInfo": {
     "elapsed": 3,
     "status": "ok",
     "timestamp": 1758072164104,
     "user": {
      "displayName": "T Haruyama",
      "userId": "09851044792665346893"
     },
     "user_tz": -540
    },
    "id": "m6oEcRIz81t5",
    "outputId": "2ef7d071-7502-4fb6-8523-fbbd1e55cfe7"
   },
   "outputs": [],
   "source": [
    "x = 10\n",
    "x %= 3\n",
    "x"
   ]
  },
  {
   "cell_type": "markdown",
   "id": "74",
   "metadata": {
    "id": "885ff616-19ef-4374-aecf-fc08aa4d7c67"
   },
   "source": [
    "コード2.4.4"
   ]
  },
  {
   "cell_type": "code",
   "execution_count": null,
   "id": "75",
   "metadata": {
    "colab": {
     "base_uri": "https://localhost:8080/"
    },
    "executionInfo": {
     "elapsed": 5,
     "status": "ok",
     "timestamp": 1758072164144,
     "user": {
      "displayName": "T Haruyama",
      "userId": "09851044792665346893"
     },
     "user_tz": -540
    },
    "id": "168c9a93-c194-45ba-a238-387c549f2bca",
    "outputId": "c542bd80-62b6-45d6-e291-58608cddfe71"
   },
   "outputs": [],
   "source": [
    "y = 100\n",
    "y /= 2\n",
    "y"
   ]
  },
  {
   "cell_type": "markdown",
   "id": "76",
   "metadata": {
    "id": "RE-SZ7ybxvt3"
   },
   "source": [
    "### 変数名"
   ]
  },
  {
   "cell_type": "markdown",
   "id": "77",
   "metadata": {
    "id": "5OB19vGGxwTY"
   },
   "source": [
    "## コメント"
   ]
  },
  {
   "cell_type": "markdown",
   "id": "78",
   "metadata": {
    "id": "TU9ctILP87rk"
   },
   "source": [
    "コード2.5.1"
   ]
  },
  {
   "cell_type": "code",
   "execution_count": null,
   "id": "79",
   "metadata": {
    "executionInfo": {
     "elapsed": 1,
     "status": "ok",
     "timestamp": 1758072164146,
     "user": {
      "displayName": "T Haruyama",
      "userId": "09851044792665346893"
     },
     "user_tz": -540
    },
    "id": "fpMImqblx9lO"
   },
   "outputs": [],
   "source": [
    "inflation = 0.02   # インフレ率"
   ]
  },
  {
   "cell_type": "markdown",
   "id": "80",
   "metadata": {
    "id": "UHNQM_zC9MBP"
   },
   "source": [
    "コード2.5.2"
   ]
  },
  {
   "cell_type": "code",
   "execution_count": null,
   "id": "81",
   "metadata": {
    "colab": {
     "base_uri": "https://localhost:8080/"
    },
    "executionInfo": {
     "elapsed": 8,
     "status": "ok",
     "timestamp": 1758072164154,
     "user": {
      "displayName": "T Haruyama",
      "userId": "09851044792665346893"
     },
     "user_tz": -540
    },
    "id": "Q1AdistbyCxr",
    "outputId": "9ebbe364-4c5f-48ab-fa83-8975a2256500"
   },
   "outputs": [],
   "source": [
    "x = 10\n",
    "# x += 5\n",
    "x"
   ]
  },
  {
   "cell_type": "markdown",
   "id": "82",
   "metadata": {
    "id": "972abfe9-8740-4d2b-884d-5863163f23c0"
   },
   "source": [
    "## 付録　演算子の優先順位についての解説"
   ]
  },
  {
   "cell_type": "markdown",
   "id": "83",
   "metadata": {
    "id": "6336456b-0340-402d-ab91-82d2a6dc5c56"
   },
   "source": [
    "コード2.A.1"
   ]
  },
  {
   "cell_type": "code",
   "execution_count": null,
   "id": "84",
   "metadata": {
    "colab": {
     "base_uri": "https://localhost:8080/"
    },
    "executionInfo": {
     "elapsed": 2,
     "status": "ok",
     "timestamp": 1758072164156,
     "user": {
      "displayName": "T Haruyama",
      "userId": "09851044792665346893"
     },
     "user_tz": -540
    },
    "id": "69224f49-d3d3-41ad-bc6d-e3347eb9346a",
    "outputId": "8593b90e-01dc-482b-b708-b788a530764b"
   },
   "outputs": [],
   "source": [
    "2 + 3 ** 2"
   ]
  },
  {
   "cell_type": "markdown",
   "id": "85",
   "metadata": {
    "id": "42cdd0f3-9b47-4164-9e17-c1f3d102e74d"
   },
   "source": [
    "コード2.A.2"
   ]
  },
  {
   "cell_type": "code",
   "execution_count": null,
   "id": "86",
   "metadata": {
    "colab": {
     "base_uri": "https://localhost:8080/"
    },
    "executionInfo": {
     "elapsed": 3,
     "status": "ok",
     "timestamp": 1758072164160,
     "user": {
      "displayName": "T Haruyama",
      "userId": "09851044792665346893"
     },
     "user_tz": -540
    },
    "id": "13248661-cfe3-4c1c-863d-04d3e735dcc7",
    "outputId": "43b50916-efb5-4ea3-e04d-a075b3b6fd09"
   },
   "outputs": [],
   "source": [
    "3 * 2 < 10"
   ]
  },
  {
   "cell_type": "markdown",
   "id": "87",
   "metadata": {
    "id": "c1482a15-f9f9-4eeb-b070-4cf84f1366a3"
   },
   "source": [
    "コード2.A.3"
   ]
  },
  {
   "cell_type": "code",
   "execution_count": null,
   "id": "88",
   "metadata": {
    "colab": {
     "base_uri": "https://localhost:8080/"
    },
    "executionInfo": {
     "elapsed": 2,
     "status": "ok",
     "timestamp": 1758072164163,
     "user": {
      "displayName": "T Haruyama",
      "userId": "09851044792665346893"
     },
     "user_tz": -540
    },
    "id": "9f8ed679-077b-434a-a376-51821b0d9202",
    "outputId": "e3018f60-391a-45dc-da5d-8e775864a998"
   },
   "outputs": [],
   "source": [
    "not True and False"
   ]
  },
  {
   "cell_type": "markdown",
   "id": "89",
   "metadata": {
    "id": "f24d29db-724e-49b8-b9cf-d308e4e0dbca"
   },
   "source": [
    "コード2.A.4"
   ]
  },
  {
   "cell_type": "code",
   "execution_count": null,
   "id": "90",
   "metadata": {
    "colab": {
     "base_uri": "https://localhost:8080/"
    },
    "executionInfo": {
     "elapsed": 42,
     "status": "ok",
     "timestamp": 1758072164212,
     "user": {
      "displayName": "T Haruyama",
      "userId": "09851044792665346893"
     },
     "user_tz": -540
    },
    "id": "d400edda-0ed0-49ae-ba09-16d57cebc8c5",
    "outputId": "6ff22a34-8f8b-416a-9d7e-c382f5891237"
   },
   "outputs": [],
   "source": [
    "3 == 3 or False"
   ]
  },
  {
   "cell_type": "markdown",
   "id": "91",
   "metadata": {
    "id": "55475d2e-320f-4476-98ef-af2924dc37ca"
   },
   "source": [
    "コード2.A.5"
   ]
  },
  {
   "cell_type": "code",
   "execution_count": null,
   "id": "92",
   "metadata": {
    "colab": {
     "base_uri": "https://localhost:8080/"
    },
    "executionInfo": {
     "elapsed": 6,
     "status": "ok",
     "timestamp": 1758072164219,
     "user": {
      "displayName": "T Haruyama",
      "userId": "09851044792665346893"
     },
     "user_tz": -540
    },
    "id": "f6bca04f-4c42-41ff-a601-f0ac2c66fd40",
    "outputId": "45cc0a32-a1fc-4afe-8b21-508b0378d0fc"
   },
   "outputs": [],
   "source": [
    "3 + 2 ** 2 > 5 and True"
   ]
  },
  {
   "cell_type": "markdown",
   "id": "93",
   "metadata": {
    "id": "8adcbcb1-061c-4408-b58e-f21f5b45096a"
   },
   "source": [
    "コード2.A.6"
   ]
  },
  {
   "cell_type": "code",
   "execution_count": null,
   "id": "94",
   "metadata": {
    "colab": {
     "base_uri": "https://localhost:8080/"
    },
    "executionInfo": {
     "elapsed": 7,
     "status": "ok",
     "timestamp": 1758072164227,
     "user": {
      "displayName": "T Haruyama",
      "userId": "09851044792665346893"
     },
     "user_tz": -540
    },
    "id": "2808ee39-bdd7-41cc-8590-642c7ada93b0",
    "outputId": "beca1912-651b-419d-a2ac-3aa6c12f586f"
   },
   "outputs": [],
   "source": [
    "- 3 ** 2"
   ]
  },
  {
   "cell_type": "markdown",
   "id": "95",
   "metadata": {
    "id": "532383bf-9d9b-444f-85cf-d0d990b36540"
   },
   "source": [
    "コード2.A.7"
   ]
  },
  {
   "cell_type": "code",
   "execution_count": null,
   "id": "96",
   "metadata": {
    "colab": {
     "base_uri": "https://localhost:8080/"
    },
    "executionInfo": {
     "elapsed": 5,
     "status": "ok",
     "timestamp": 1758072164233,
     "user": {
      "displayName": "T Haruyama",
      "userId": "09851044792665346893"
     },
     "user_tz": -540
    },
    "id": "03a5bba9-ac01-47a3-a00d-e34e328e16be",
    "outputId": "f4e066d0-7316-4bdd-aeb0-f7f23249d3b9"
   },
   "outputs": [],
   "source": [
    "( - 3 ) ** 2"
   ]
  },
  {
   "cell_type": "markdown",
   "id": "97",
   "metadata": {
    "id": "dd869d47-c46c-441c-8336-d0640f36eeb0"
   },
   "source": [
    "コード2.A.8"
   ]
  },
  {
   "cell_type": "code",
   "execution_count": null,
   "id": "98",
   "metadata": {
    "colab": {
     "base_uri": "https://localhost:8080/"
    },
    "executionInfo": {
     "elapsed": 46,
     "status": "ok",
     "timestamp": 1758072164281,
     "user": {
      "displayName": "T Haruyama",
      "userId": "09851044792665346893"
     },
     "user_tz": -540
    },
    "id": "7a228363-6a84-4bcd-99c0-1a65d6dc7054",
    "outputId": "78e28ada-3e07-46cd-ed4a-54438a19bd3e"
   },
   "outputs": [],
   "source": [
    "- 3 - 5"
   ]
  },
  {
   "cell_type": "markdown",
   "id": "99",
   "metadata": {
    "id": "1735b791-10cd-41f0-ba9e-d669589079d5"
   },
   "source": [
    "コード2.A.9"
   ]
  },
  {
   "cell_type": "code",
   "execution_count": null,
   "id": "100",
   "metadata": {
    "colab": {
     "base_uri": "https://localhost:8080/"
    },
    "executionInfo": {
     "elapsed": 2,
     "status": "ok",
     "timestamp": 1758072164288,
     "user": {
      "displayName": "T Haruyama",
      "userId": "09851044792665346893"
     },
     "user_tz": -540
    },
    "id": "73a7c27b-cd67-4341-b228-91330d4a575b",
    "outputId": "9dc67974-1690-433a-e82c-c6d4b1d2d457"
   },
   "outputs": [],
   "source": [
    "- ( 3 - 5 )"
   ]
  },
  {
   "cell_type": "markdown",
   "id": "101",
   "metadata": {
    "id": "82a03d13-3b90-4a15-9529-65d3299e6c42"
   },
   "source": [
    "コード2.A.10"
   ]
  },
  {
   "cell_type": "code",
   "execution_count": null,
   "id": "102",
   "metadata": {
    "colab": {
     "base_uri": "https://localhost:8080/"
    },
    "executionInfo": {
     "elapsed": 52,
     "status": "ok",
     "timestamp": 1758072164345,
     "user": {
      "displayName": "T Haruyama",
      "userId": "09851044792665346893"
     },
     "user_tz": -540
    },
    "id": "ff6a01a6-3050-4b47-b6d0-c4f5bdb72a03",
    "outputId": "23291786-3440-433e-d2f9-a26f420ae348"
   },
   "outputs": [],
   "source": [
    "2 ** 3 ** 2\n",
    "# 2 ** (3 ** 2)"
   ]
  },
  {
   "cell_type": "markdown",
   "id": "103",
   "metadata": {
    "id": "d0dbd75a-771d-4233-b428-143156cf659d"
   },
   "source": [
    "コード2.A.11"
   ]
  },
  {
   "cell_type": "code",
   "execution_count": null,
   "id": "104",
   "metadata": {
    "colab": {
     "base_uri": "https://localhost:8080/"
    },
    "executionInfo": {
     "elapsed": 56,
     "status": "ok",
     "timestamp": 1758072164402,
     "user": {
      "displayName": "T Haruyama",
      "userId": "09851044792665346893"
     },
     "user_tz": -540
    },
    "id": "b8244756-f1fa-40ff-9f63-8585caaa9d6c",
    "outputId": "e88c1a08-a8f2-4ad8-cda6-9026489fd55f"
   },
   "outputs": [],
   "source": [
    "8 / 4 * 2\n",
    "# ( 8 / 4 ) * 2"
   ]
  },
  {
   "cell_type": "markdown",
   "id": "105",
   "metadata": {
    "id": "d282605d-dc7a-4c1f-9186-d9acf65e7d93"
   },
   "source": [
    "コード2.A.12"
   ]
  },
  {
   "cell_type": "code",
   "execution_count": null,
   "id": "106",
   "metadata": {
    "colab": {
     "base_uri": "https://localhost:8080/"
    },
    "executionInfo": {
     "elapsed": 6,
     "status": "ok",
     "timestamp": 1758072164410,
     "user": {
      "displayName": "T Haruyama",
      "userId": "09851044792665346893"
     },
     "user_tz": -540
    },
    "id": "05972a7a-04b1-455d-959f-1264f361c865",
    "outputId": "93fe7a0f-475f-4847-8bcc-700ad883ec4a"
   },
   "outputs": [],
   "source": [
    "5 < 10 == True\n",
    "# (5 < 10) and (10 == True)"
   ]
  },
  {
   "cell_type": "markdown",
   "id": "107",
   "metadata": {
    "id": "3191b5d0-b778-4e63-8d9f-473ac79467cc"
   },
   "source": [
    "コード2.A.13"
   ]
  },
  {
   "cell_type": "code",
   "execution_count": null,
   "id": "108",
   "metadata": {
    "colab": {
     "base_uri": "https://localhost:8080/"
    },
    "executionInfo": {
     "elapsed": 3,
     "status": "ok",
     "timestamp": 1758072164414,
     "user": {
      "displayName": "T Haruyama",
      "userId": "09851044792665346893"
     },
     "user_tz": -540
    },
    "id": "9de648f7-71f2-4a08-b3d7-b15b48051fd8",
    "outputId": "f1ad98da-6d63-436c-8ff5-25885e1d6300"
   },
   "outputs": [],
   "source": [
    "not not False\n",
    "# not (not False)"
   ]
  },
  {
   "cell_type": "markdown",
   "id": "109",
   "metadata": {
    "id": "de9a080e-9c03-401e-a86d-4c9281452c76"
   },
   "source": [
    "コード2.A.14"
   ]
  },
  {
   "cell_type": "code",
   "execution_count": null,
   "id": "110",
   "metadata": {
    "colab": {
     "base_uri": "https://localhost:8080/"
    },
    "executionInfo": {
     "elapsed": 7,
     "status": "ok",
     "timestamp": 1758072164460,
     "user": {
      "displayName": "T Haruyama",
      "userId": "09851044792665346893"
     },
     "user_tz": -540
    },
    "id": "fadbe917-ea89-41c1-8fa4-f9f5ff498e91",
    "outputId": "d6c66364-91a2-4968-d906-43ae870429c4"
   },
   "outputs": [],
   "source": [
    "True and False and True\n",
    "# (True and False) and True"
   ]
  },
  {
   "cell_type": "code",
   "execution_count": null,
   "id": "111",
   "metadata": {
    "executionInfo": {
     "elapsed": 1,
     "status": "ok",
     "timestamp": 1758072164462,
     "user": {
      "displayName": "T Haruyama",
      "userId": "09851044792665346893"
     },
     "user_tz": -540
    },
    "id": "02832796-846e-496d-8525-9269a8c3c9f2"
   },
   "outputs": [],
   "source": []
  }
 ],
 "metadata": {
  "colab": {
   "provenance": []
  },
  "kernelspec": {
   "display_name": "Python 3 (ipykernel)",
   "language": "python",
   "name": "python3"
  },
  "language_info": {
   "codemirror_mode": {
    "name": "ipython",
    "version": 3
   },
   "file_extension": ".py",
   "mimetype": "text/x-python",
   "name": "python",
   "nbconvert_exporter": "python",
   "pygments_lexer": "ipython3",
   "version": "3.13.7"
  }
 },
 "nbformat": 4,
 "nbformat_minor": 5
}
