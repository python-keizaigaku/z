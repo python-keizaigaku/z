{
 "cells": [
  {
   "cell_type": "markdown",
   "id": "0",
   "metadata": {
    "id": "22bc9e4f-6037-4e46-93d0-524d4aea364e"
   },
   "source": [
    "# 9章：演習問題の解答"
   ]
  },
  {
   "cell_type": "code",
   "execution_count": null,
   "id": "1",
   "metadata": {
    "colab": {
     "base_uri": "https://localhost:8080/"
    },
    "executionInfo": {
     "elapsed": 13911,
     "status": "ok",
     "timestamp": 1758079144362,
     "user": {
      "displayName": "T Haruyama",
      "userId": "09851044792665346893"
     },
     "user_tz": -540
    },
    "id": "ef64641f-94b2-4870-b936-00846f957621",
    "outputId": "503c4c2a-1872-45cc-f72b-efc4e8403cbd"
   },
   "outputs": [],
   "source": [
    "%pip install -q japanize-matplotlib\n",
    "import japanize_matplotlib\n",
    "import matplotlib.pyplot as plt\n",
    "import random"
   ]
  },
  {
   "cell_type": "markdown",
   "id": "2",
   "metadata": {
    "id": "SvQ29peOdGlG"
   },
   "source": [
    "## 演習1"
   ]
  },
  {
   "cell_type": "code",
   "execution_count": null,
   "id": "3",
   "metadata": {
    "colab": {
     "base_uri": "https://localhost:8080/",
     "height": 484
    },
    "executionInfo": {
     "elapsed": 357,
     "status": "ok",
     "timestamp": 1758079144726,
     "user": {
      "displayName": "T Haruyama",
      "userId": "09851044792665346893"
     },
     "user_tz": -540
    },
    "id": "WXNaZrP7W-YD",
    "outputId": "3abf5a94-717a-4c51-f6b9-38c3c0aadb0a"
   },
   "outputs": [],
   "source": [
    "N = 1_000\n",
    "sample = range(1, N+1)\n",
    "\n",
    "random.seed(123)\n",
    "\n",
    "dice_sum = 0\n",
    "avr_lst = []\n",
    "\n",
    "for i in range(1, N+1):\n",
    "    dice = random.randint(1, 6)\n",
    "    dice_sum += dice\n",
    "    avr = dice_sum / i\n",
    "    avr_lst.append(avr)\n",
    "\n",
    "plt.plot(sample, avr_lst, linewidth=0.9)\n",
    "plt.title(\"大数の法則：サイコロ\", size=20)\n",
    "plt.xlabel(\"投げたサイコロの数\", size=15)\n",
    "plt.ylabel(\"平均\", size=15)\n",
    "plt.show()"
   ]
  },
  {
   "cell_type": "markdown",
   "id": "4",
   "metadata": {
    "id": "0cJbaarAdPH5"
   },
   "source": [
    "## 演習2"
   ]
  },
  {
   "cell_type": "code",
   "execution_count": null,
   "id": "5",
   "metadata": {
    "executionInfo": {
     "elapsed": 2,
     "status": "ok",
     "timestamp": 1758079144730,
     "user": {
      "displayName": "T Haruyama",
      "userId": "09851044792665346893"
     },
     "user_tz": -540
    },
    "id": "EHoSxvFnZlt7"
   },
   "outputs": [],
   "source": [
    "def standardized_avr(n):\n",
    "    \"\"\"\n",
    "    [引数] n：同時に投げるサイコロの数\n",
    "    [戻り値] サイコロの目の平均を標準化した値\"\"\"\n",
    "\n",
    "    dice_thrown = [random.randint(1, 6) for _ in range(n)]\n",
    "    dice_sum = sum(dice_thrown)\n",
    "    st_avr = (dice_sum/n - 3.5) / ( (35/12)/n )**0.5\n",
    "    return st_avr"
   ]
  },
  {
   "cell_type": "code",
   "execution_count": null,
   "id": "6",
   "metadata": {
    "colab": {
     "base_uri": "https://localhost:8080/",
     "height": 484
    },
    "executionInfo": {
     "elapsed": 20975,
     "status": "ok",
     "timestamp": 1758079165703,
     "user": {
      "displayName": "T Haruyama",
      "userId": "09851044792665346893"
     },
     "user_tz": -540
    },
    "id": "qyNZ83BjZYmM",
    "outputId": "c72f340f-a6e3-446b-91f6-04f09ead73f5"
   },
   "outputs": [],
   "source": [
    "random.seed(123)\n",
    "n, N = 20, 1_000_000\n",
    "st_dice_thrown = [standardized_avr(n) for _ in range(N)]\n",
    "unique = len( set(st_dice_thrown) )\n",
    "plt.hist(st_dice_thrown, bins=unique,\n",
    "         color=\"grey\",\n",
    "         edgecolor=\"white\",\n",
    "         density=True)\n",
    "plt.title(f\"n={n},   N={N}\", size=20)\n",
    "plt.xlabel(\"標準化標本平均\", size=15)\n",
    "plt.ylabel(\"相対頻度\", size=15)\n",
    "plt.show()"
   ]
  },
  {
   "cell_type": "markdown",
   "id": "7",
   "metadata": {
    "id": "98fe7b55-9352-4f59-9ebf-513046f6705a"
   },
   "source": [
    "## 演習3"
   ]
  },
  {
   "cell_type": "markdown",
   "id": "8",
   "metadata": {
    "id": "ba6b1ceb-f502-4457-a297-b90a38621c42"
   },
   "source": [
    "### (1)"
   ]
  },
  {
   "cell_type": "code",
   "execution_count": null,
   "id": "9",
   "metadata": {
    "colab": {
     "base_uri": "https://localhost:8080/"
    },
    "executionInfo": {
     "elapsed": 10,
     "status": "ok",
     "timestamp": 1758079165703,
     "user": {
      "displayName": "T Haruyama",
      "userId": "09851044792665346893"
     },
     "user_tz": -540
    },
    "id": "ab7bb3d8-fb4f-4e9d-ba4f-4e8530934c33",
    "outputId": "6c3e786c-3c4a-479a-ef7d-48b6df2adf96"
   },
   "outputs": [],
   "source": [
    "1 * 1 / 2"
   ]
  },
  {
   "cell_type": "markdown",
   "id": "10",
   "metadata": {
    "id": "7b98dca5-64f6-4394-acd2-ba2fa09cebaa"
   },
   "source": [
    "### (2)"
   ]
  },
  {
   "cell_type": "code",
   "execution_count": null,
   "id": "11",
   "metadata": {
    "colab": {
     "base_uri": "https://localhost:8080/"
    },
    "executionInfo": {
     "elapsed": 8,
     "status": "ok",
     "timestamp": 1758079165704,
     "user": {
      "displayName": "T Haruyama",
      "userId": "09851044792665346893"
     },
     "user_tz": -540
    },
    "id": "867612c3-2527-4bb1-b0d1-86a2aba8c7fa",
    "outputId": "5abf4616-1ddc-4590-f9f1-806eac28b536"
   },
   "outputs": [],
   "source": [
    "random.uniform(0, 1)"
   ]
  },
  {
   "cell_type": "markdown",
   "id": "12",
   "metadata": {
    "id": "41e16208-d876-400e-b41b-bb243325d5c5"
   },
   "source": [
    "### (3)"
   ]
  },
  {
   "cell_type": "code",
   "execution_count": null,
   "id": "13",
   "metadata": {
    "executionInfo": {
     "elapsed": 3,
     "status": "ok",
     "timestamp": 1758079165704,
     "user": {
      "displayName": "T Haruyama",
      "userId": "09851044792665346893"
     },
     "user_tz": -540
    },
    "id": "eac4910b-83bb-46ac-9337-5cd5e745d6a5"
   },
   "outputs": [],
   "source": [
    "n = 1000\n",
    "inside = 0\n",
    "inside_ratio = []\n",
    "\n",
    "for i in range(1, n+1):\n",
    "\n",
    "    x = random.uniform(0, 1)\n",
    "    y = random.uniform(0, 1)\n",
    "\n",
    "    if y <= x:\n",
    "        inside += 1\n",
    "\n",
    "    estimate = inside / i   # 正方形の面積は1なので，この割合がそのまま面積となる\n",
    "    inside_ratio.append( estimate )\n",
    "\n",
    "# inside_ratio"
   ]
  },
  {
   "cell_type": "markdown",
   "id": "14",
   "metadata": {
    "id": "4527abd3-1cd2-4b94-b1cc-6e0be144a597"
   },
   "source": [
    "### (4)\n"
   ]
  },
  {
   "cell_type": "markdown",
   "id": "15",
   "metadata": {
    "id": "5Il8wGjSLW5i"
   },
   "source": [
    "次のコードの`plt.axhline()`関数は，第一引数の値を縦軸に使い横軸と平行線をプロットします。基本的な引数はラインプロットと同じです。"
   ]
  },
  {
   "cell_type": "code",
   "execution_count": null,
   "id": "16",
   "metadata": {
    "colab": {
     "base_uri": "https://localhost:8080/",
     "height": 469
    },
    "executionInfo": {
     "elapsed": 2,
     "status": "ok",
     "timestamp": 1758079165707,
     "user": {
      "displayName": "T Haruyama",
      "userId": "09851044792665346893"
     },
     "user_tz": -540
    },
    "id": "ee7b271c-cbb8-4600-be7d-4c4a15401b18",
    "outputId": "027c36a5-58f7-47a8-ad93-16830e4a0137"
   },
   "outputs": [],
   "source": [
    "plt.plot(range(1, n+1), inside_ratio)\n",
    "plt.axhline(0.5, color=\"red\", linestyle=\"--\")\n",
    "plt.xlabel(\"試行回数\")\n",
    "plt.ylabel(\"比率\")\n",
    "plt.title(\"点が三角形Aに入る割合の推移\")\n",
    "plt.show()"
   ]
  },
  {
   "cell_type": "markdown",
   "id": "17",
   "metadata": {
    "id": "8e0e8f17-8aab-41e8-9f4d-29131f0e4a89"
   },
   "source": [
    "### (5)"
   ]
  },
  {
   "cell_type": "code",
   "execution_count": null,
   "id": "18",
   "metadata": {
    "colab": {
     "base_uri": "https://localhost:8080/",
     "height": 469
    },
    "executionInfo": {
     "elapsed": 2,
     "status": "ok",
     "timestamp": 1758079165709,
     "user": {
      "displayName": "T Haruyama",
      "userId": "09851044792665346893"
     },
     "user_tz": -540
    },
    "id": "228c1f2e-5fac-493f-8633-de7f2152f371",
    "outputId": "589a0d99-4f83-49ec-e0ef-698a9fcef948"
   },
   "outputs": [],
   "source": [
    "def estimate_triangle(n, seed=None):\n",
    "    random.seed(seed)\n",
    "    inside = 0\n",
    "    inside_ratio = []\n",
    "\n",
    "    for i in range(1, n+1):\n",
    "\n",
    "        x = random.uniform(0, 1)\n",
    "        y = random.uniform(0, 1)\n",
    "\n",
    "        if y <= x:\n",
    "            inside += 1\n",
    "\n",
    "        estimate = inside / i\n",
    "        inside_ratio.append( estimate )\n",
    "\n",
    "    plt.plot(range(1, n+1), inside_ratio)\n",
    "    plt.axhline(0.5, color=\"red\", linestyle=\"--\")  # 横線を引く\n",
    "    plt.xlabel(\"試行回数\")\n",
    "    plt.ylabel(\"割合\")\n",
    "    plt.title(\"点が三角形Aに入る割合の推移\")\n",
    "    plt.show()\n",
    "\n",
    "estimate_triangle(1000)"
   ]
  },
  {
   "cell_type": "markdown",
   "id": "19",
   "metadata": {
    "id": "8e2c01f8-879a-4cad-94ac-1c1bafe7d942"
   },
   "source": [
    "## 演習4"
   ]
  },
  {
   "cell_type": "markdown",
   "id": "20",
   "metadata": {
    "id": "aac2587d-7102-463b-96f7-cf02f87a9df6"
   },
   "source": [
    "### (1)"
   ]
  },
  {
   "cell_type": "code",
   "execution_count": null,
   "id": "21",
   "metadata": {
    "colab": {
     "base_uri": "https://localhost:8080/"
    },
    "executionInfo": {
     "elapsed": 4,
     "status": "ok",
     "timestamp": 1758079165715,
     "user": {
      "displayName": "T Haruyama",
      "userId": "09851044792665346893"
     },
     "user_tz": -540
    },
    "id": "3fe8d2ca-8d85-4564-aa96-d0c1e23788c9",
    "outputId": "8f68fcd7-d886-496b-eca8-7fe9c73d72ec"
   },
   "outputs": [],
   "source": [
    "10 * 10"
   ]
  },
  {
   "cell_type": "markdown",
   "id": "22",
   "metadata": {
    "id": "938a0989-253d-40bf-a3ad-af3f86eff924"
   },
   "source": [
    "### (2)"
   ]
  },
  {
   "cell_type": "code",
   "execution_count": null,
   "id": "23",
   "metadata": {
    "colab": {
     "base_uri": "https://localhost:8080/"
    },
    "executionInfo": {
     "elapsed": 2,
     "status": "ok",
     "timestamp": 1758079165722,
     "user": {
      "displayName": "T Haruyama",
      "userId": "09851044792665346893"
     },
     "user_tz": -540
    },
    "id": "b758a806-b2f9-49cf-8e62-36fa54583326",
    "outputId": "0f59dd68-e443-44da-d5a4-e1a70f08808e"
   },
   "outputs": [],
   "source": [
    "5 * 5 / 2"
   ]
  },
  {
   "cell_type": "markdown",
   "id": "24",
   "metadata": {
    "id": "210001ad-9421-46a6-8e75-c9ee2506245c"
   },
   "source": [
    "### (3)"
   ]
  },
  {
   "cell_type": "markdown",
   "id": "25",
   "metadata": {
    "id": "284b44f7-a51b-43f1-b3f5-3317dedae646"
   },
   "source": [
    "* $q\\leq 10 - p$\n",
    "* $q \\geq 5$"
   ]
  },
  {
   "cell_type": "markdown",
   "id": "26",
   "metadata": {
    "id": "54385c11-f825-480b-9b3a-0830de63bdd3"
   },
   "source": [
    "### (4)"
   ]
  },
  {
   "cell_type": "code",
   "execution_count": null,
   "id": "27",
   "metadata": {
    "executionInfo": {
     "elapsed": 2,
     "status": "ok",
     "timestamp": 1758079165725,
     "user": {
      "displayName": "T Haruyama",
      "userId": "09851044792665346893"
     },
     "user_tz": -540
    },
    "id": "c7d8dcc3-d0f1-4299-acfa-ba079c808055"
   },
   "outputs": [],
   "source": [
    "n = 1000\n",
    "S = 100    # 正方形Sの面積\n",
    "inside = 0\n",
    "area_A = []\n",
    "\n",
    "for i in range(1, n+1):\n",
    "\n",
    "    q = random.uniform(0, 10)\n",
    "    p = random.uniform(0, 10)\n",
    "\n",
    "    if (q <= 10-p) and (q >= 5):    # 条件を満たすか判断\n",
    "        inside += 1\n",
    "\n",
    "    estimate = S * ( inside / i )   # 消費者余剰Aの推計値\n",
    "    area_A.append( estimate )\n",
    "\n",
    "# area_A"
   ]
  },
  {
   "cell_type": "markdown",
   "id": "28",
   "metadata": {
    "id": "3175c326-74b2-43e5-a7b6-0479cc477df2"
   },
   "source": [
    "### (5)"
   ]
  },
  {
   "cell_type": "code",
   "execution_count": null,
   "id": "29",
   "metadata": {
    "colab": {
     "base_uri": "https://localhost:8080/",
     "height": 469
    },
    "executionInfo": {
     "elapsed": 3,
     "status": "ok",
     "timestamp": 1758079165727,
     "user": {
      "displayName": "T Haruyama",
      "userId": "09851044792665346893"
     },
     "user_tz": -540
    },
    "id": "37bb6aa3-83ac-49bb-9fa9-09182555dde8",
    "outputId": "24b90ff0-6ef9-4d84-b137-7ed7d877e3d1"
   },
   "outputs": [],
   "source": [
    "plt.plot(range(1, n+1), area_A)\n",
    "plt.axhline(12.5, color=\"red\", linestyle=\"--\")\n",
    "plt.xlabel(\"試行回数\")\n",
    "plt.ylabel(\"割合\")\n",
    "plt.title(\"点が三角形Aに入る割合の推移\")\n",
    "plt.show()"
   ]
  },
  {
   "cell_type": "markdown",
   "id": "30",
   "metadata": {
    "id": "8a38df13-dd6d-4eed-8a48-9028bf23e245"
   },
   "source": [
    "### (6)"
   ]
  },
  {
   "cell_type": "code",
   "execution_count": null,
   "id": "31",
   "metadata": {
    "colab": {
     "base_uri": "https://localhost:8080/",
     "height": 469
    },
    "executionInfo": {
     "elapsed": 2,
     "status": "ok",
     "timestamp": 1758079165730,
     "user": {
      "displayName": "T Haruyama",
      "userId": "09851044792665346893"
     },
     "user_tz": -540
    },
    "id": "3aa59b4d-fdb7-4b39-8492-c5c371f1116b",
    "outputId": "9427ed19-8bda-4230-bcc1-f0c50456ee29"
   },
   "outputs": [],
   "source": [
    "def estimate_cs(n, seed=None):\n",
    "    random.seed(seed)\n",
    "\n",
    "    S = 100    # 正方形Sの面積\n",
    "    inside = 0\n",
    "    area_A = []\n",
    "\n",
    "    for i in range(1, n+1):\n",
    "\n",
    "        q = random.uniform(0, 10)\n",
    "        p = random.uniform(0, 10)\n",
    "\n",
    "        if (q <= 10-p) and (q >= 5):\n",
    "            inside += 1\n",
    "\n",
    "        estimate = S * ( inside / i )   # 消費者余剰Aの推計値\n",
    "        area_A.append( estimate )\n",
    "\n",
    "    plt.plot(range(1, n+1), area_A)\n",
    "    plt.axhline(12.5, color=\"red\", linestyle=\"--\")  # 横線を引く\n",
    "    plt.xlabel(\"試行回数\")\n",
    "    plt.ylabel(\"面積Aの推計値\")\n",
    "    plt.title(\"消費者余剰Aの推計値の推移\")\n",
    "    plt.show()\n",
    "\n",
    "estimate_cs(10000)"
   ]
  },
  {
   "cell_type": "code",
   "execution_count": null,
   "id": "32",
   "metadata": {
    "executionInfo": {
     "elapsed": 1,
     "status": "ok",
     "timestamp": 1758079165732,
     "user": {
      "displayName": "T Haruyama",
      "userId": "09851044792665346893"
     },
     "user_tz": -540
    },
    "id": "6N1uIdDNaHJp"
   },
   "outputs": [],
   "source": []
  }
 ],
 "metadata": {
  "colab": {
   "provenance": []
  },
  "kernelspec": {
   "display_name": "Python 3",
   "name": "python3"
  },
  "language_info": {
   "name": "python"
  }
 },
 "nbformat": 4,
 "nbformat_minor": 5
}
