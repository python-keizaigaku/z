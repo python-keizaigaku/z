{
 "cells": [
  {
   "cell_type": "markdown",
   "id": "0",
   "metadata": {
    "id": "126a705e-8b58-4d6a-adae-8f61f9098c3c"
   },
   "source": [
    "# 7章：演習問題の解答"
   ]
  },
  {
   "cell_type": "markdown",
   "id": "1",
   "metadata": {
    "id": "94b0fd09-f639-4bc5-8cef-6f0c8213dca4"
   },
   "source": [
    "## 演習1"
   ]
  },
  {
   "cell_type": "markdown",
   "id": "2",
   "metadata": {
    "id": "86e218d8-8639-4233-830b-30d8742db2b1"
   },
   "source": [
    "### (1)"
   ]
  },
  {
   "cell_type": "code",
   "execution_count": null,
   "id": "3",
   "metadata": {
    "colab": {
     "base_uri": "https://localhost:8080/"
    },
    "executionInfo": {
     "elapsed": 8,
     "status": "ok",
     "timestamp": 1758078986069,
     "user": {
      "displayName": "T Haruyama",
      "userId": "09851044792665346893"
     },
     "user_tz": -540
    },
    "id": "b2db261d-89e1-4040-891f-767cb54c727e",
    "outputId": "d87ce6cd-b6b9-486c-e4ed-05b27f6d846c"
   },
   "outputs": [],
   "source": [
    "import numpy as np\n",
    "\n",
    "ln10 = np.log(10)\n",
    "print( np.exp( ln10 ) )"
   ]
  },
  {
   "cell_type": "markdown",
   "id": "4",
   "metadata": {
    "id": "b64f68c7-fc92-489f-a4e8-9b4e03e64961"
   },
   "source": [
    "### (2)"
   ]
  },
  {
   "cell_type": "code",
   "execution_count": null,
   "id": "5",
   "metadata": {
    "executionInfo": {
     "elapsed": 0,
     "status": "ok",
     "timestamp": 1758078986071,
     "user": {
      "displayName": "T Haruyama",
      "userId": "09851044792665346893"
     },
     "user_tz": -540
    },
    "id": "60431a30-aff3-4bd7-82d8-93f80c61644d"
   },
   "outputs": [],
   "source": [
    "from numpy import log"
   ]
  },
  {
   "cell_type": "code",
   "execution_count": null,
   "id": "6",
   "metadata": {
    "colab": {
     "base_uri": "https://localhost:8080/"
    },
    "executionInfo": {
     "elapsed": 3,
     "status": "ok",
     "timestamp": 1758078986075,
     "user": {
      "displayName": "T Haruyama",
      "userId": "09851044792665346893"
     },
     "user_tz": -540
    },
    "id": "9612de93-2086-4bef-b428-590c4f406cc5",
    "outputId": "9959ec38-85d5-40d0-f576-fa12b303903b"
   },
   "outputs": [],
   "source": [
    "log(10)"
   ]
  },
  {
   "cell_type": "code",
   "execution_count": null,
   "id": "7",
   "metadata": {
    "executionInfo": {
     "elapsed": 2,
     "status": "ok",
     "timestamp": 1758078986083,
     "user": {
      "displayName": "T Haruyama",
      "userId": "09851044792665346893"
     },
     "user_tz": -540
    },
    "id": "ab867111-2bd6-49f5-9ce7-7e9dd21bfe13"
   },
   "outputs": [],
   "source": [
    "log = \"丸太\""
   ]
  },
  {
   "cell_type": "code",
   "execution_count": null,
   "id": "8",
   "metadata": {
    "colab": {
     "base_uri": "https://localhost:8080/",
     "height": 35
    },
    "executionInfo": {
     "elapsed": 11,
     "status": "ok",
     "timestamp": 1758078986093,
     "user": {
      "displayName": "T Haruyama",
      "userId": "09851044792665346893"
     },
     "user_tz": -540
    },
    "id": "684b58e9-ecff-4630-98d4-17a7d32e4d72",
    "outputId": "84f17e9d-bbe0-4b8a-e892-becfa65694c0"
   },
   "outputs": [],
   "source": [
    "log"
   ]
  },
  {
   "cell_type": "code",
   "execution_count": null,
   "id": "9",
   "metadata": {
    "colab": {
     "base_uri": "https://localhost:8080/",
     "height": 144
    },
    "executionInfo": {
     "elapsed": 174,
     "status": "error",
     "timestamp": 1758078986268,
     "user": {
      "displayName": "T Haruyama",
      "userId": "09851044792665346893"
     },
     "user_tz": -540
    },
    "id": "caeca1a3-9cba-4123-abcf-20e6406241ae",
    "outputId": "f7376e04-fb5c-49a0-fb19-6c2d76064059"
   },
   "outputs": [],
   "source": [
    "log(10)    # logは上書きされているためエラーが発生する"
   ]
  },
  {
   "cell_type": "markdown",
   "id": "10",
   "metadata": {
    "id": "90a08946-2379-43dc-bc24-06856e26987a"
   },
   "source": [
    "## 演習2"
   ]
  },
  {
   "cell_type": "markdown",
   "id": "11",
   "metadata": {
    "id": "35cf0f11-d265-4e78-8e68-74709228f0bc"
   },
   "source": [
    "### (1)"
   ]
  },
  {
   "cell_type": "code",
   "execution_count": null,
   "id": "12",
   "metadata": {
    "executionInfo": {
     "elapsed": 9,
     "status": "ok",
     "timestamp": 1758079005742,
     "user": {
      "displayName": "T Haruyama",
      "userId": "09851044792665346893"
     },
     "user_tz": -540
    },
    "id": "133b498b-5977-4ca4-a3e2-1ba82d405130"
   },
   "outputs": [],
   "source": [
    "import random"
   ]
  },
  {
   "cell_type": "code",
   "execution_count": null,
   "id": "13",
   "metadata": {
    "colab": {
     "base_uri": "https://localhost:8080/"
    },
    "executionInfo": {
     "elapsed": 3,
     "status": "ok",
     "timestamp": 1758079005751,
     "user": {
      "displayName": "T Haruyama",
      "userId": "09851044792665346893"
     },
     "user_tz": -540
    },
    "id": "e40ef4dc-6d9f-4bd5-8982-8496ee46d13f",
    "outputId": "207580d0-b6c5-4416-bd2b-b770ac1a6c61"
   },
   "outputs": [],
   "source": [
    "[random.gauss() for _ in range(10)]"
   ]
  },
  {
   "cell_type": "code",
   "execution_count": null,
   "id": "14",
   "metadata": {
    "colab": {
     "base_uri": "https://localhost:8080/"
    },
    "executionInfo": {
     "elapsed": 5,
     "status": "ok",
     "timestamp": 1758079005779,
     "user": {
      "displayName": "T Haruyama",
      "userId": "09851044792665346893"
     },
     "user_tz": -540
    },
    "id": "bd5d4f1d-1f62-45fd-b8a0-f0e9d116371c",
    "outputId": "f0383b5d-e2dd-491b-9618-33b719a5ef52"
   },
   "outputs": [],
   "source": [
    "random.seed(123)\n",
    "[random.gauss() for _ in range(10)]"
   ]
  },
  {
   "cell_type": "code",
   "execution_count": null,
   "id": "15",
   "metadata": {
    "colab": {
     "base_uri": "https://localhost:8080/"
    },
    "executionInfo": {
     "elapsed": 4,
     "status": "ok",
     "timestamp": 1758079005781,
     "user": {
      "displayName": "T Haruyama",
      "userId": "09851044792665346893"
     },
     "user_tz": -540
    },
    "id": "b5231bed-ba10-4b42-adf4-f68ff3fbc8df",
    "outputId": "6f86c17c-d726-4de9-d495-dc08811f6151"
   },
   "outputs": [],
   "source": [
    "random.seed(12345)\n",
    "[random.gauss() for _ in range(10)]"
   ]
  },
  {
   "cell_type": "markdown",
   "id": "16",
   "metadata": {
    "id": "91b80a20-1241-47f5-8ab8-33d560227caa"
   },
   "source": [
    "### (2)"
   ]
  },
  {
   "cell_type": "code",
   "execution_count": null,
   "id": "17",
   "metadata": {
    "colab": {
     "base_uri": "https://localhost:8080/"
    },
    "executionInfo": {
     "elapsed": 29,
     "status": "ok",
     "timestamp": 1758079005810,
     "user": {
      "displayName": "T Haruyama",
      "userId": "09851044792665346893"
     },
     "user_tz": -540
    },
    "id": "ed8f7113-de20-43d1-8dc5-04491ad108f2",
    "outputId": "df23d485-9b1a-4aec-c099-13c21836a953"
   },
   "outputs": [],
   "source": [
    "# シードを使わない場合と同じになります。\n",
    "\n",
    "random.seed(None)\n",
    "[random.gauss() for _ in range(10)]"
   ]
  },
  {
   "cell_type": "markdown",
   "id": "18",
   "metadata": {
    "id": "1a03d5f5-99da-4088-b441-b138e7b74f7a"
   },
   "source": [
    "### (3)"
   ]
  },
  {
   "cell_type": "code",
   "execution_count": null,
   "id": "19",
   "metadata": {
    "colab": {
     "base_uri": "https://localhost:8080/"
    },
    "executionInfo": {
     "elapsed": 14,
     "status": "ok",
     "timestamp": 1758079005815,
     "user": {
      "displayName": "T Haruyama",
      "userId": "09851044792665346893"
     },
     "user_tz": -540
    },
    "id": "cb3e36cd-f1fb-493c-84ec-bb383e863f7d",
    "outputId": "d3e2f6d3-d535-452e-ed12-53ad37b858bf"
   },
   "outputs": [],
   "source": [
    "random.seed(123)\n",
    "\n",
    "def generate_rv(n):\n",
    "\n",
    "    rv = [random.gauss() for _ in range(n)]\n",
    "    return rv\n",
    "\n",
    "generate_rv(5)\n",
    "\n",
    "# 関数から関数の外にある.seed(123)にアクセスしており，この場合，何回実行してもランダム変数は同じになります。"
   ]
  },
  {
   "cell_type": "markdown",
   "id": "20",
   "metadata": {
    "id": "d26e449f-52de-4772-87b2-d668bcf281db"
   },
   "source": [
    "### (4)"
   ]
  },
  {
   "cell_type": "code",
   "execution_count": null,
   "id": "21",
   "metadata": {
    "executionInfo": {
     "elapsed": 9,
     "status": "ok",
     "timestamp": 1758079005816,
     "user": {
      "displayName": "T Haruyama",
      "userId": "09851044792665346893"
     },
     "user_tz": -540
    },
    "id": "9a6c87ed-1943-448e-bd6f-22225bfefa1c"
   },
   "outputs": [],
   "source": [
    "def calculate_mean(n, seed=None):\n",
    "\n",
    "    random.seed(seed)\n",
    "    rv = [random.gauss() for _ in range(n)]\n",
    "    avr = sum(rv) / n\n",
    "    return avr"
   ]
  },
  {
   "cell_type": "code",
   "execution_count": null,
   "id": "22",
   "metadata": {
    "colab": {
     "base_uri": "https://localhost:8080/"
    },
    "executionInfo": {
     "elapsed": 7,
     "status": "ok",
     "timestamp": 1758079005824,
     "user": {
      "displayName": "T Haruyama",
      "userId": "09851044792665346893"
     },
     "user_tz": -540
    },
    "id": "9315d676-ccd5-4c29-8772-31b51d17fbbc",
    "outputId": "4d5cb2f0-d449-48ee-da47-dda5409cdd2d"
   },
   "outputs": [],
   "source": [
    "# 毎回異なる結果となります。\n",
    "calculate_mean(100)"
   ]
  },
  {
   "cell_type": "code",
   "execution_count": null,
   "id": "23",
   "metadata": {
    "colab": {
     "base_uri": "https://localhost:8080/"
    },
    "executionInfo": {
     "elapsed": 1,
     "status": "ok",
     "timestamp": 1758079005826,
     "user": {
      "displayName": "T Haruyama",
      "userId": "09851044792665346893"
     },
     "user_tz": -540
    },
    "id": "43299dd6-402e-4288-96b5-017a5c683c96",
    "outputId": "90ee261f-7c47-456c-b2e0-356805da82af"
   },
   "outputs": [],
   "source": [
    "# 何回実行しても同じ値となります。\n",
    "calculate_mean(100, 123)"
   ]
  },
  {
   "cell_type": "code",
   "execution_count": null,
   "id": "24",
   "metadata": {
    "colab": {
     "base_uri": "https://localhost:8080/"
    },
    "executionInfo": {
     "elapsed": 15,
     "status": "ok",
     "timestamp": 1758079005858,
     "user": {
      "displayName": "T Haruyama",
      "userId": "09851044792665346893"
     },
     "user_tz": -540
    },
    "id": "82287935-e30b-4be7-a859-d49d67c83448",
    "outputId": "7ebf4d72-8499-4482-a17d-b632355a53e4"
   },
   "outputs": [],
   "source": [
    "# 何回実行しても同じ値となります。\n",
    "calculate_mean(100, 555)"
   ]
  },
  {
   "cell_type": "markdown",
   "id": "25",
   "metadata": {
    "id": "fea3fa3f-c010-4ff8-8599-1a86c9fdcfd9"
   },
   "source": [
    "### (5)"
   ]
  },
  {
   "cell_type": "code",
   "execution_count": null,
   "id": "26",
   "metadata": {
    "colab": {
     "base_uri": "https://localhost:8080/"
    },
    "executionInfo": {
     "elapsed": 13,
     "status": "ok",
     "timestamp": 1758079005861,
     "user": {
      "displayName": "T Haruyama",
      "userId": "09851044792665346893"
     },
     "user_tz": -540
    },
    "id": "b1b2ebaf-cad6-4959-bad8-5c7f81d3a18e",
    "outputId": "9acfd06c-3ad0-4c89-fcd6-87d9139225db"
   },
   "outputs": [],
   "source": [
    "for _ in range(5):\n",
    "    random.seed(123)\n",
    "    print( random.gauss() )"
   ]
  },
  {
   "cell_type": "code",
   "execution_count": null,
   "id": "27",
   "metadata": {
    "colab": {
     "base_uri": "https://localhost:8080/"
    },
    "executionInfo": {
     "elapsed": 11,
     "status": "ok",
     "timestamp": 1758079005861,
     "user": {
      "displayName": "T Haruyama",
      "userId": "09851044792665346893"
     },
     "user_tz": -540
    },
    "id": "rs0hKU3u4K79",
    "outputId": "3fbda887-7fb7-4032-dbf8-fa43fdf650c7"
   },
   "outputs": [],
   "source": [
    "random.seed(123)\n",
    "\n",
    "for _ in range(5):\n",
    "    print( random.gauss() )"
   ]
  },
  {
   "cell_type": "markdown",
   "id": "28",
   "metadata": {
    "id": "11b57787-e1dd-4ce4-8585-ce8f3a5101fc"
   },
   "source": [
    "`for`ループは処理部分（インデントされた箇所）を毎回実行するため，上のコードでは各ループで毎回`random.seed(123)`実行することにより，同じ値（下のコードの実行結果の最初の値）が表示されています。一方，下のコードでは，`random.seed(123)`は一度しか実行されておらず，そのシードに基づいて順次値が生成されています。"
   ]
  },
  {
   "cell_type": "markdown",
   "id": "29",
   "metadata": {
    "id": "a4260821-44da-4485-85a8-303f3dbe94ed"
   },
   "source": [
    "## 演習3"
   ]
  },
  {
   "cell_type": "markdown",
   "id": "30",
   "metadata": {
    "id": "31811792-2db1-44f2-a9fa-69c80e7d644c"
   },
   "source": [
    "### (1)"
   ]
  },
  {
   "cell_type": "markdown",
   "id": "31",
   "metadata": {
    "id": "0093bbb6-10dc-42ee-8c69-a1f2b075bb2f"
   },
   "source": [
    "`py4macro`モジュールをColabにインストールし，インポートしなさい。"
   ]
  },
  {
   "cell_type": "code",
   "execution_count": null,
   "id": "32",
   "metadata": {
    "colab": {
     "base_uri": "https://localhost:8080/"
    },
    "executionInfo": {
     "elapsed": 10786,
     "status": "ok",
     "timestamp": 1758079016643,
     "user": {
      "displayName": "T Haruyama",
      "userId": "09851044792665346893"
     },
     "user_tz": -540
    },
    "id": "e2537796-9fc0-4ac5-a3a2-d4a4ecab9552",
    "outputId": "dfb1a94a-d068-4ef4-8c7e-8cdc08a5c4db"
   },
   "outputs": [],
   "source": [
    "%pip install -q py4macro\n",
    "import py4macro"
   ]
  },
  {
   "cell_type": "markdown",
   "id": "33",
   "metadata": {
    "id": "bde9e5e3-c86e-4897-aa8f-9fc1518b817a"
   },
   "source": [
    "### (2)"
   ]
  },
  {
   "cell_type": "code",
   "execution_count": null,
   "id": "34",
   "metadata": {
    "colab": {
     "base_uri": "https://localhost:8080/"
    },
    "executionInfo": {
     "elapsed": 2,
     "status": "ok",
     "timestamp": 1758079016646,
     "user": {
      "displayName": "T Haruyama",
      "userId": "09851044792665346893"
     },
     "user_tz": -540
    },
    "id": "ef7306c6-a46e-4b14-9fa8-5d3ddbc5f099",
    "outputId": "3713b963-589f-4531-c5d8-c8114ae3656f"
   },
   "outputs": [],
   "source": [
    "py4macro.xvalues(0, 1, 11)"
   ]
  },
  {
   "cell_type": "markdown",
   "id": "35",
   "metadata": {
    "id": "2e7861c6-e8b6-4fd0-a4df-41a679f3d5c8"
   },
   "source": [
    "### (3)"
   ]
  },
  {
   "cell_type": "code",
   "execution_count": null,
   "id": "36",
   "metadata": {
    "colab": {
     "base_uri": "https://localhost:8080/"
    },
    "executionInfo": {
     "elapsed": 3,
     "status": "ok",
     "timestamp": 1758079016650,
     "user": {
      "displayName": "T Haruyama",
      "userId": "09851044792665346893"
     },
     "user_tz": -540
    },
    "id": "b0c83487-b1c8-4ac9-9836-300bd2a0f437",
    "outputId": "efc9ef6b-cbf7-4c47-a2ac-5c6afae1bc5b"
   },
   "outputs": [],
   "source": [
    "py4macro.see([])"
   ]
  },
  {
   "cell_type": "code",
   "execution_count": null,
   "id": "37",
   "metadata": {
    "colab": {
     "base_uri": "https://localhost:8080/"
    },
    "executionInfo": {
     "elapsed": 9,
     "status": "ok",
     "timestamp": 1758079016659,
     "user": {
      "displayName": "T Haruyama",
      "userId": "09851044792665346893"
     },
     "user_tz": -540
    },
    "id": "0878efca-674f-4c43-bce2-c571f46e36ed",
    "outputId": "4d40fc9c-7ff9-44f0-bb70-094ddc6e4828"
   },
   "outputs": [],
   "source": [
    "py4macro.see([1, 2, \"2\"])"
   ]
  },
  {
   "cell_type": "markdown",
   "id": "38",
   "metadata": {
    "id": "cab53ba2-61bf-4d09-9c5d-3f6e0c95cee0"
   },
   "source": [
    "### (4)"
   ]
  },
  {
   "cell_type": "code",
   "execution_count": null,
   "id": "39",
   "metadata": {
    "colab": {
     "base_uri": "https://localhost:8080/"
    },
    "executionInfo": {
     "elapsed": 2,
     "status": "ok",
     "timestamp": 1758079016662,
     "user": {
      "displayName": "T Haruyama",
      "userId": "09851044792665346893"
     },
     "user_tz": -540
    },
    "id": "36fad67e-7204-440d-8242-27cd5ec8736d",
    "outputId": "2ac23a40-8eee-4cbf-89ff-7c4c9b0e57d6"
   },
   "outputs": [],
   "source": [
    "py4macro.see({})"
   ]
  },
  {
   "cell_type": "code",
   "execution_count": null,
   "id": "40",
   "metadata": {
    "colab": {
     "base_uri": "https://localhost:8080/"
    },
    "executionInfo": {
     "elapsed": 2,
     "status": "ok",
     "timestamp": 1758079016665,
     "user": {
      "displayName": "T Haruyama",
      "userId": "09851044792665346893"
     },
     "user_tz": -540
    },
    "id": "e2e3ecf4-400b-4486-9947-56d6c83625bf",
    "outputId": "f777e8bb-4fff-4af5-a369-ce3c002fbd68"
   },
   "outputs": [],
   "source": [
    "py4macro.see({\"GDP\":557})"
   ]
  },
  {
   "cell_type": "code",
   "execution_count": null,
   "id": "41",
   "metadata": {
    "executionInfo": {
     "elapsed": 1,
     "status": "ok",
     "timestamp": 1758079016667,
     "user": {
      "displayName": "T Haruyama",
      "userId": "09851044792665346893"
     },
     "user_tz": -540
    },
    "id": "49271e5e-6d3d-4b0d-a1a9-459c53f4e422"
   },
   "outputs": [],
   "source": []
  }
 ],
 "metadata": {
  "colab": {
   "provenance": []
  },
  "kernelspec": {
   "display_name": "Python 3",
   "name": "python3"
  },
  "language_info": {
   "name": "python"
  }
 },
 "nbformat": 4,
 "nbformat_minor": 5
}
