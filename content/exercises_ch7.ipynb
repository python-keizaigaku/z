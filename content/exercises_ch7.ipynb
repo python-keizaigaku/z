{
 "cells": [
  {
   "cell_type": "markdown",
   "id": "126a705e-8b58-4d6a-adae-8f61f9098c3c",
   "metadata": {
    "id": "126a705e-8b58-4d6a-adae-8f61f9098c3c"
   },
   "source": [
    "# 7章：演習問題の解答"
   ]
  },
  {
   "cell_type": "markdown",
   "id": "94b0fd09-f639-4bc5-8cef-6f0c8213dca4",
   "metadata": {
    "id": "94b0fd09-f639-4bc5-8cef-6f0c8213dca4"
   },
   "source": [
    "## 演習1"
   ]
  },
  {
   "cell_type": "markdown",
   "id": "86e218d8-8639-4233-830b-30d8742db2b1",
   "metadata": {
    "id": "86e218d8-8639-4233-830b-30d8742db2b1"
   },
   "source": [
    "### (1)"
   ]
  },
  {
   "cell_type": "code",
   "execution_count": 2,
   "id": "b2db261d-89e1-4040-891f-767cb54c727e",
   "metadata": {
    "colab": {
     "base_uri": "https://localhost:8080/"
    },
    "executionInfo": {
     "elapsed": 58,
     "status": "ok",
     "timestamp": 1751098711538,
     "user": {
      "displayName": "T Haruyama",
      "userId": "09851044792665346893"
     },
     "user_tz": -540
    },
    "id": "b2db261d-89e1-4040-891f-767cb54c727e",
    "outputId": "61b952f2-ec55-47b9-8705-29e6c2f05fe9"
   },
   "outputs": [
    {
     "name": "stdout",
     "output_type": "stream",
     "text": [
      "10.000000000000002\n"
     ]
    }
   ],
   "source": [
    "import numpy as np\n",
    "\n",
    "ln10 = np.log(10)\n",
    "print( np.exp( ln10 ) )"
   ]
  },
  {
   "cell_type": "markdown",
   "id": "b64f68c7-fc92-489f-a4e8-9b4e03e64961",
   "metadata": {
    "id": "b64f68c7-fc92-489f-a4e8-9b4e03e64961"
   },
   "source": [
    "### (2)"
   ]
  },
  {
   "cell_type": "code",
   "execution_count": 3,
   "id": "60431a30-aff3-4bd7-82d8-93f80c61644d",
   "metadata": {
    "executionInfo": {
     "elapsed": 2,
     "status": "ok",
     "timestamp": 1751098711539,
     "user": {
      "displayName": "T Haruyama",
      "userId": "09851044792665346893"
     },
     "user_tz": -540
    },
    "id": "60431a30-aff3-4bd7-82d8-93f80c61644d"
   },
   "outputs": [],
   "source": [
    "from numpy import log"
   ]
  },
  {
   "cell_type": "code",
   "execution_count": 4,
   "id": "9612de93-2086-4bef-b428-590c4f406cc5",
   "metadata": {
    "colab": {
     "base_uri": "https://localhost:8080/"
    },
    "executionInfo": {
     "elapsed": 14,
     "status": "ok",
     "timestamp": 1751098711560,
     "user": {
      "displayName": "T Haruyama",
      "userId": "09851044792665346893"
     },
     "user_tz": -540
    },
    "id": "9612de93-2086-4bef-b428-590c4f406cc5",
    "outputId": "cd7f7c1a-b5a3-4708-9216-c6d78d0a7d70"
   },
   "outputs": [
    {
     "data": {
      "text/plain": [
       "np.float64(2.302585092994046)"
      ]
     },
     "execution_count": 4,
     "metadata": {},
     "output_type": "execute_result"
    }
   ],
   "source": [
    "log(10)"
   ]
  },
  {
   "cell_type": "code",
   "execution_count": 5,
   "id": "ab867111-2bd6-49f5-9ce7-7e9dd21bfe13",
   "metadata": {
    "executionInfo": {
     "elapsed": 8,
     "status": "ok",
     "timestamp": 1751098711573,
     "user": {
      "displayName": "T Haruyama",
      "userId": "09851044792665346893"
     },
     "user_tz": -540
    },
    "id": "ab867111-2bd6-49f5-9ce7-7e9dd21bfe13"
   },
   "outputs": [],
   "source": [
    "log = \"丸太\""
   ]
  },
  {
   "cell_type": "code",
   "execution_count": 6,
   "id": "684b58e9-ecff-4630-98d4-17a7d32e4d72",
   "metadata": {
    "colab": {
     "base_uri": "https://localhost:8080/",
     "height": 35
    },
    "executionInfo": {
     "elapsed": 24,
     "status": "ok",
     "timestamp": 1751098711602,
     "user": {
      "displayName": "T Haruyama",
      "userId": "09851044792665346893"
     },
     "user_tz": -540
    },
    "id": "684b58e9-ecff-4630-98d4-17a7d32e4d72",
    "outputId": "51cc114b-5920-448e-d816-47a582424c0e"
   },
   "outputs": [
    {
     "data": {
      "application/vnd.google.colaboratory.intrinsic+json": {
       "type": "string"
      },
      "text/plain": [
       "'丸太'"
      ]
     },
     "execution_count": 6,
     "metadata": {},
     "output_type": "execute_result"
    }
   ],
   "source": [
    "log"
   ]
  },
  {
   "cell_type": "code",
   "execution_count": 7,
   "id": "caeca1a3-9cba-4123-abcf-20e6406241ae",
   "metadata": {
    "colab": {
     "base_uri": "https://localhost:8080/",
     "height": 141
    },
    "executionInfo": {
     "elapsed": 309,
     "status": "error",
     "timestamp": 1751098711919,
     "user": {
      "displayName": "T Haruyama",
      "userId": "09851044792665346893"
     },
     "user_tz": -540
    },
    "id": "caeca1a3-9cba-4123-abcf-20e6406241ae",
    "outputId": "5951ae0e-bb74-45dc-b942-a75ea36fb6ea"
   },
   "outputs": [
    {
     "ename": "TypeError",
     "evalue": "'str' object is not callable",
     "output_type": "error",
     "traceback": [
      "\u001b[0;31m---------------------------------------------------------------------------\u001b[0m",
      "\u001b[0;31mTypeError\u001b[0m                                 Traceback (most recent call last)",
      "\u001b[0;32m/tmp/ipython-input-7-3669419434.py\u001b[0m in \u001b[0;36m<cell line: 0>\u001b[0;34m()\u001b[0m\n\u001b[0;32m----> 1\u001b[0;31m \u001b[0mlog\u001b[0m\u001b[0;34m(\u001b[0m\u001b[0;36m10\u001b[0m\u001b[0;34m)\u001b[0m    \u001b[0;31m# logは上書きされているためエラーが発生する\u001b[0m\u001b[0;34m\u001b[0m\u001b[0;34m\u001b[0m\u001b[0m\n\u001b[0m",
      "\u001b[0;31mTypeError\u001b[0m: 'str' object is not callable"
     ]
    }
   ],
   "source": [
    "log(10)    # logは上書きされているためエラーが発生する"
   ]
  },
  {
   "cell_type": "markdown",
   "id": "90a08946-2379-43dc-bc24-06856e26987a",
   "metadata": {
    "id": "90a08946-2379-43dc-bc24-06856e26987a"
   },
   "source": [
    "## 演習2"
   ]
  },
  {
   "cell_type": "markdown",
   "id": "35cf0f11-d265-4e78-8e68-74709228f0bc",
   "metadata": {
    "id": "35cf0f11-d265-4e78-8e68-74709228f0bc"
   },
   "source": [
    "### (1)"
   ]
  },
  {
   "cell_type": "code",
   "execution_count": 1,
   "id": "133b498b-5977-4ca4-a3e2-1ba82d405130",
   "metadata": {
    "executionInfo": {
     "elapsed": 44,
     "status": "ok",
     "timestamp": 1751098738927,
     "user": {
      "displayName": "T Haruyama",
      "userId": "09851044792665346893"
     },
     "user_tz": -540
    },
    "id": "133b498b-5977-4ca4-a3e2-1ba82d405130"
   },
   "outputs": [],
   "source": [
    "import random"
   ]
  },
  {
   "cell_type": "code",
   "execution_count": 3,
   "id": "e40ef4dc-6d9f-4bd5-8982-8496ee46d13f",
   "metadata": {},
   "outputs": [
    {
     "data": {
      "text/plain": [
       "[-0.4695527782004237,\n",
       " 0.7693114267115433,\n",
       " 0.0017570501659745208,\n",
       " 0.057799773307379655,\n",
       " -0.39436312062498746,\n",
       " 0.16691584164080195,\n",
       " -0.3112729156586487,\n",
       " -0.21905701571997066,\n",
       " -0.43604564104936716,\n",
       " 0.9997222683992198]"
      ]
     },
     "execution_count": 3,
     "metadata": {},
     "output_type": "execute_result"
    }
   ],
   "source": [
    "[random.gauss() for _ in range(10)]"
   ]
  },
  {
   "cell_type": "code",
   "execution_count": 5,
   "id": "bd5d4f1d-1f62-45fd-b8a0-f0e9d116371c",
   "metadata": {
    "executionInfo": {
     "elapsed": 30,
     "status": "aborted",
     "timestamp": 1751098711948,
     "user": {
      "displayName": "T Haruyama",
      "userId": "09851044792665346893"
     },
     "user_tz": -540
    },
    "id": "bd5d4f1d-1f62-45fd-b8a0-f0e9d116371c"
   },
   "outputs": [
    {
     "data": {
      "text/plain": [
       "[0.40422843322466656,\n",
       " 0.13801139264830412,\n",
       " -0.3985847224936054,\n",
       " 0.26274798902660246,\n",
       " 0.226886548661369,\n",
       " -0.16224564195664654,\n",
       " -0.8754772966538265,\n",
       " -0.20264676964479633,\n",
       " 0.3529214268998316,\n",
       " -0.47259875675165125]"
      ]
     },
     "execution_count": 5,
     "metadata": {},
     "output_type": "execute_result"
    }
   ],
   "source": [
    "random.seed(123)\n",
    "[random.gauss() for _ in range(10)]"
   ]
  },
  {
   "cell_type": "code",
   "execution_count": 7,
   "id": "b5231bed-ba10-4b42-adf4-f68ff3fbc8df",
   "metadata": {},
   "outputs": [
    {
     "data": {
      "text/plain": [
       "[-0.12380079558885389,\n",
       " 0.07152496347566478,\n",
       " 0.3833691943171596,\n",
       " -0.7499970608869415,\n",
       " -0.44435447264871114,\n",
       " 0.48275462413630715,\n",
       " -0.5435588777371022,\n",
       " -0.2393181812690247,\n",
       " 0.7566436839123634,\n",
       " 0.7497049383189063]"
      ]
     },
     "execution_count": 7,
     "metadata": {},
     "output_type": "execute_result"
    }
   ],
   "source": [
    "random.seed(12345)\n",
    "[random.gauss() for _ in range(10)]"
   ]
  },
  {
   "cell_type": "markdown",
   "id": "91b80a20-1241-47f5-8ab8-33d560227caa",
   "metadata": {
    "id": "91b80a20-1241-47f5-8ab8-33d560227caa"
   },
   "source": [
    "### (2)"
   ]
  },
  {
   "cell_type": "code",
   "execution_count": 11,
   "id": "ed8f7113-de20-43d1-8dc5-04491ad108f2",
   "metadata": {
    "colab": {
     "base_uri": "https://localhost:8080/"
    },
    "executionInfo": {
     "elapsed": 18,
     "status": "ok",
     "timestamp": 1751098742643,
     "user": {
      "displayName": "T Haruyama",
      "userId": "09851044792665346893"
     },
     "user_tz": -540
    },
    "id": "ed8f7113-de20-43d1-8dc5-04491ad108f2",
    "outputId": "9ce695bf-5acf-4523-dcd8-a6672555b312"
   },
   "outputs": [
    {
     "data": {
      "text/plain": [
       "[-0.7474888160093199,\n",
       " 0.011837318594254125,\n",
       " -1.651725582228441,\n",
       " -1.9468296727499041,\n",
       " 0.003572138793816262,\n",
       " 0.4735244724535669,\n",
       " 1.8710164716201498,\n",
       " 0.37028127907360237,\n",
       " 2.2929293956659325,\n",
       " -0.6426427632515715]"
      ]
     },
     "execution_count": 11,
     "metadata": {},
     "output_type": "execute_result"
    }
   ],
   "source": [
    "# シードを使わない場合と同じになります。\n",
    "\n",
    "random.seed(None)\n",
    "[random.gauss() for _ in range(10)]"
   ]
  },
  {
   "cell_type": "markdown",
   "id": "1a03d5f5-99da-4088-b441-b138e7b74f7a",
   "metadata": {
    "id": "1a03d5f5-99da-4088-b441-b138e7b74f7a"
   },
   "source": [
    "### (3)"
   ]
  },
  {
   "cell_type": "code",
   "execution_count": 18,
   "id": "cb3e36cd-f1fb-493c-84ec-bb383e863f7d",
   "metadata": {
    "colab": {
     "base_uri": "https://localhost:8080/"
    },
    "executionInfo": {
     "elapsed": 21,
     "status": "ok",
     "timestamp": 1751098744681,
     "user": {
      "displayName": "T Haruyama",
      "userId": "09851044792665346893"
     },
     "user_tz": -540
    },
    "id": "cb3e36cd-f1fb-493c-84ec-bb383e863f7d",
    "outputId": "8e1b3cf9-c88c-47e6-b2f1-58c62b28da5f"
   },
   "outputs": [
    {
     "data": {
      "text/plain": [
       "[0.40422843322466656,\n",
       " 0.13801139264830412,\n",
       " -0.3985847224936054,\n",
       " 0.26274798902660246,\n",
       " 0.226886548661369]"
      ]
     },
     "execution_count": 18,
     "metadata": {},
     "output_type": "execute_result"
    }
   ],
   "source": [
    "random.seed(123)\n",
    "\n",
    "def generate_rv(n):\n",
    "\n",
    "    rv = [random.gauss() for _ in range(n)]\n",
    "    return rv\n",
    "\n",
    "generate_rv(5)\n",
    "\n",
    "# 関数から関数の外にある.seed(123)にアクセスしており，この場合，何回実行してもランダム変数は同じになります。"
   ]
  },
  {
   "cell_type": "markdown",
   "id": "d26e449f-52de-4772-87b2-d668bcf281db",
   "metadata": {
    "id": "d26e449f-52de-4772-87b2-d668bcf281db"
   },
   "source": [
    "### (4)"
   ]
  },
  {
   "cell_type": "code",
   "execution_count": 21,
   "id": "9a6c87ed-1943-448e-bd6f-22225bfefa1c",
   "metadata": {
    "colab": {
     "base_uri": "https://localhost:8080/"
    },
    "executionInfo": {
     "elapsed": 14,
     "status": "ok",
     "timestamp": 1751098746682,
     "user": {
      "displayName": "T Haruyama",
      "userId": "09851044792665346893"
     },
     "user_tz": -540
    },
    "id": "9a6c87ed-1943-448e-bd6f-22225bfefa1c",
    "outputId": "49c1f15d-fb8a-41d4-f293-c7ca9d23e46a"
   },
   "outputs": [],
   "source": [
    "def calculate_mean(n, seed=None):\n",
    "\n",
    "    random.seed(seed)\n",
    "    rv = [random.gauss() for _ in range(n)]\n",
    "    avr = sum(rv) / n\n",
    "    return avr"
   ]
  },
  {
   "cell_type": "code",
   "execution_count": 29,
   "id": "9315d676-ccd5-4c29-8772-31b51d17fbbc",
   "metadata": {},
   "outputs": [
    {
     "data": {
      "text/plain": [
       "-0.12361272040118308"
      ]
     },
     "execution_count": 29,
     "metadata": {},
     "output_type": "execute_result"
    }
   ],
   "source": [
    "# 毎回異なる結果となります。\n",
    "calculate_mean(100)"
   ]
  },
  {
   "cell_type": "code",
   "execution_count": 30,
   "id": "43299dd6-402e-4288-96b5-017a5c683c96",
   "metadata": {},
   "outputs": [
    {
     "data": {
      "text/plain": [
       "0.039398991377903966"
      ]
     },
     "execution_count": 30,
     "metadata": {},
     "output_type": "execute_result"
    }
   ],
   "source": [
    "# 何回実行しても同じ値となります。\n",
    "calculate_mean(100, 123)"
   ]
  },
  {
   "cell_type": "code",
   "execution_count": 31,
   "id": "82287935-e30b-4be7-a859-d49d67c83448",
   "metadata": {},
   "outputs": [
    {
     "data": {
      "text/plain": [
       "0.15553646675283297"
      ]
     },
     "execution_count": 31,
     "metadata": {},
     "output_type": "execute_result"
    }
   ],
   "source": [
    "# 何回実行しても同じ値となります。\n",
    "calculate_mean(100, 555)"
   ]
  },
  {
   "cell_type": "markdown",
   "id": "fea3fa3f-c010-4ff8-8599-1a86c9fdcfd9",
   "metadata": {
    "id": "fea3fa3f-c010-4ff8-8599-1a86c9fdcfd9"
   },
   "source": [
    "### (5)"
   ]
  },
  {
   "cell_type": "code",
   "execution_count": 32,
   "id": "b1b2ebaf-cad6-4959-bad8-5c7f81d3a18e",
   "metadata": {
    "colab": {
     "base_uri": "https://localhost:8080/"
    },
    "executionInfo": {
     "elapsed": 5,
     "status": "ok",
     "timestamp": 1751098749041,
     "user": {
      "displayName": "T Haruyama",
      "userId": "09851044792665346893"
     },
     "user_tz": -540
    },
    "id": "b1b2ebaf-cad6-4959-bad8-5c7f81d3a18e",
    "outputId": "4a90c19a-7995-478a-d74a-b7da473d0feb"
   },
   "outputs": [
    {
     "name": "stdout",
     "output_type": "stream",
     "text": [
      "0.40422843322466656\n",
      "0.40422843322466656\n",
      "0.40422843322466656\n",
      "0.40422843322466656\n",
      "0.40422843322466656\n"
     ]
    }
   ],
   "source": [
    "for _ in range(5):\n",
    "    random.seed(123)\n",
    "    print( random.gauss() )"
   ]
  },
  {
   "cell_type": "code",
   "execution_count": 33,
   "id": "rs0hKU3u4K79",
   "metadata": {
    "colab": {
     "base_uri": "https://localhost:8080/"
    },
    "executionInfo": {
     "elapsed": 5,
     "status": "ok",
     "timestamp": 1751098750947,
     "user": {
      "displayName": "T Haruyama",
      "userId": "09851044792665346893"
     },
     "user_tz": -540
    },
    "id": "rs0hKU3u4K79",
    "outputId": "96c39f9f-5329-4e26-9fa6-939993b3e2da"
   },
   "outputs": [
    {
     "name": "stdout",
     "output_type": "stream",
     "text": [
      "0.40422843322466656\n",
      "0.13801139264830412\n",
      "-0.3985847224936054\n",
      "0.26274798902660246\n",
      "0.226886548661369\n"
     ]
    }
   ],
   "source": [
    "random.seed(123)\n",
    "\n",
    "for _ in range(5):\n",
    "    print( random.gauss() )"
   ]
  },
  {
   "cell_type": "markdown",
   "id": "11b57787-e1dd-4ce4-8585-ce8f3a5101fc",
   "metadata": {},
   "source": [
    "`for`ループは処理部分（インデントされた箇所）を毎回実行するため，上のコードでは各ループで毎回`random.seed(123)`実行することにより，同じ値（下のコードの実行結果の最初の値）が表示されています。一方，下のコードでは，`random.seed(123)`は一度しか実行されておらず，そのシードに基づいて順次値が生成されています。"
   ]
  },
  {
   "cell_type": "markdown",
   "id": "a4260821-44da-4485-85a8-303f3dbe94ed",
   "metadata": {
    "id": "a4260821-44da-4485-85a8-303f3dbe94ed"
   },
   "source": [
    "## 演習3"
   ]
  },
  {
   "cell_type": "markdown",
   "id": "31811792-2db1-44f2-a9fa-69c80e7d644c",
   "metadata": {
    "id": "31811792-2db1-44f2-a9fa-69c80e7d644c"
   },
   "source": [
    "### (1)"
   ]
  },
  {
   "cell_type": "markdown",
   "id": "0093bbb6-10dc-42ee-8c69-a1f2b075bb2f",
   "metadata": {
    "id": "0093bbb6-10dc-42ee-8c69-a1f2b075bb2f"
   },
   "source": [
    "`py4macro`モジュールをColabにインストールし，インポートしなさい。"
   ]
  },
  {
   "cell_type": "code",
   "execution_count": 14,
   "id": "e2537796-9fc0-4ac5-a3a2-d4a4ecab9552",
   "metadata": {
    "executionInfo": {
     "elapsed": 6215,
     "status": "ok",
     "timestamp": 1751098762379,
     "user": {
      "displayName": "T Haruyama",
      "userId": "09851044792665346893"
     },
     "user_tz": -540
    },
    "id": "e2537796-9fc0-4ac5-a3a2-d4a4ecab9552"
   },
   "outputs": [],
   "source": [
    "%pip install -q py4macro\n",
    "import py4macro"
   ]
  },
  {
   "cell_type": "markdown",
   "id": "bde9e5e3-c86e-4897-aa8f-9fc1518b817a",
   "metadata": {
    "id": "bde9e5e3-c86e-4897-aa8f-9fc1518b817a"
   },
   "source": [
    "### (2)"
   ]
  },
  {
   "cell_type": "code",
   "execution_count": 15,
   "id": "ef7306c6-a46e-4b14-9fa8-5d3ddbc5f099",
   "metadata": {
    "colab": {
     "base_uri": "https://localhost:8080/"
    },
    "executionInfo": {
     "elapsed": 31,
     "status": "ok",
     "timestamp": 1751098764630,
     "user": {
      "displayName": "T Haruyama",
      "userId": "09851044792665346893"
     },
     "user_tz": -540
    },
    "id": "ef7306c6-a46e-4b14-9fa8-5d3ddbc5f099",
    "outputId": "47a2f4ba-0c4a-41f3-9167-ccd95d9477a3"
   },
   "outputs": [
    {
     "data": {
      "text/plain": [
       "[0.0, 0.1, 0.2, 0.3, 0.4, 0.5, 0.6, 0.7, 0.8, 0.9, 1.0]"
      ]
     },
     "execution_count": 15,
     "metadata": {},
     "output_type": "execute_result"
    }
   ],
   "source": [
    "py4macro.xvalues(0, 1, 11)"
   ]
  },
  {
   "cell_type": "markdown",
   "id": "2e7861c6-e8b6-4fd0-a4df-41a679f3d5c8",
   "metadata": {
    "id": "2e7861c6-e8b6-4fd0-a4df-41a679f3d5c8"
   },
   "source": [
    "### (3)"
   ]
  },
  {
   "cell_type": "code",
   "execution_count": 16,
   "id": "b0c83487-b1c8-4ac9-9836-300bd2a0f437",
   "metadata": {
    "colab": {
     "base_uri": "https://localhost:8080/"
    },
    "executionInfo": {
     "elapsed": 14,
     "status": "ok",
     "timestamp": 1751098766477,
     "user": {
      "displayName": "T Haruyama",
      "userId": "09851044792665346893"
     },
     "user_tz": -540
    },
    "id": "b0c83487-b1c8-4ac9-9836-300bd2a0f437",
    "outputId": "d2088b2b-e335-4ae2-eab2-f034dd4c98cb"
   },
   "outputs": [
    {
     "name": "stdout",
     "output_type": "stream",
     "text": [
      ".append()   .clear()    .copy()     .count()\n",
      ".extend()   .index()    .insert()   .pop()\n",
      ".remove()   .reverse()  .sort()\n"
     ]
    }
   ],
   "source": [
    "py4macro.see([])"
   ]
  },
  {
   "cell_type": "code",
   "execution_count": 17,
   "id": "0878efca-674f-4c43-bce2-c571f46e36ed",
   "metadata": {
    "colab": {
     "base_uri": "https://localhost:8080/"
    },
    "executionInfo": {
     "elapsed": 9,
     "status": "ok",
     "timestamp": 1751098768888,
     "user": {
      "displayName": "T Haruyama",
      "userId": "09851044792665346893"
     },
     "user_tz": -540
    },
    "id": "0878efca-674f-4c43-bce2-c571f46e36ed",
    "outputId": "985d46d9-3182-4b11-ad07-74daaef4f726"
   },
   "outputs": [
    {
     "name": "stdout",
     "output_type": "stream",
     "text": [
      ".append()   .clear()    .copy()     .count()\n",
      ".extend()   .index()    .insert()   .pop()\n",
      ".remove()   .reverse()  .sort()\n"
     ]
    }
   ],
   "source": [
    "py4macro.see([1, 2, \"2\"])"
   ]
  },
  {
   "cell_type": "markdown",
   "id": "cab53ba2-61bf-4d09-9c5d-3f6e0c95cee0",
   "metadata": {
    "id": "cab53ba2-61bf-4d09-9c5d-3f6e0c95cee0"
   },
   "source": [
    "### (4)"
   ]
  },
  {
   "cell_type": "code",
   "execution_count": 18,
   "id": "36fad67e-7204-440d-8242-27cd5ec8736d",
   "metadata": {
    "colab": {
     "base_uri": "https://localhost:8080/"
    },
    "executionInfo": {
     "elapsed": 15,
     "status": "ok",
     "timestamp": 1751098770817,
     "user": {
      "displayName": "T Haruyama",
      "userId": "09851044792665346893"
     },
     "user_tz": -540
    },
    "id": "36fad67e-7204-440d-8242-27cd5ec8736d",
    "outputId": "dd3b7b2c-1734-4b86-818f-2f3c0e7263e4"
   },
   "outputs": [
    {
     "name": "stdout",
     "output_type": "stream",
     "text": [
      ".clear()       .copy()        .fromkeys()    .get()\n",
      ".items()       .keys()        .pop()         .popitem()\n",
      ".setdefault()  .update()      .values()\n"
     ]
    }
   ],
   "source": [
    "py4macro.see({})"
   ]
  },
  {
   "cell_type": "code",
   "execution_count": 19,
   "id": "e2e3ecf4-400b-4486-9947-56d6c83625bf",
   "metadata": {
    "colab": {
     "base_uri": "https://localhost:8080/"
    },
    "executionInfo": {
     "elapsed": 21,
     "status": "ok",
     "timestamp": 1751098772314,
     "user": {
      "displayName": "T Haruyama",
      "userId": "09851044792665346893"
     },
     "user_tz": -540
    },
    "id": "e2e3ecf4-400b-4486-9947-56d6c83625bf",
    "outputId": "a7c9d3f9-34b9-488a-cc31-1a1005322861"
   },
   "outputs": [
    {
     "name": "stdout",
     "output_type": "stream",
     "text": [
      ".clear()       .copy()        .fromkeys()    .get()\n",
      ".items()       .keys()        .pop()         .popitem()\n",
      ".setdefault()  .update()      .values()\n"
     ]
    }
   ],
   "source": [
    "py4macro.see({\"GDP\":557})"
   ]
  },
  {
   "cell_type": "code",
   "execution_count": 19,
   "id": "49271e5e-6d3d-4b0d-a1a9-459c53f4e422",
   "metadata": {
    "executionInfo": {
     "elapsed": 3,
     "status": "ok",
     "timestamp": 1751098774312,
     "user": {
      "displayName": "T Haruyama",
      "userId": "09851044792665346893"
     },
     "user_tz": -540
    },
    "id": "49271e5e-6d3d-4b0d-a1a9-459c53f4e422"
   },
   "outputs": [],
   "source": []
  }
 ],
 "metadata":{"kernelspec":{"display_name":"Python 3","name":"python3"},"language_info":{"name":"python"},"colab":{"provenance":[]}},
 "nbformat": 4,
 "nbformat_minor": 5
}
