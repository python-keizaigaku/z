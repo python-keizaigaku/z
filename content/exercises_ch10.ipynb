{
 "cells": [
  {
   "cell_type": "markdown",
   "id": "0",
   "metadata": {
    "id": "f7adfe3f-7a6b-45b1-9dac-ce918a39896d"
   },
   "source": [
    "# 10章：演習問題の解答"
   ]
  },
  {
   "cell_type": "code",
   "execution_count": null,
   "id": "1",
   "metadata": {
    "colab": {
     "base_uri": "https://localhost:8080/"
    },
    "executionInfo": {
     "elapsed": 16050,
     "status": "ok",
     "timestamp": 1758079246495,
     "user": {
      "displayName": "T Haruyama",
      "userId": "09851044792665346893"
     },
     "user_tz": -540
    },
    "id": "be62ce4d-88f6-4b0d-b309-b29cc13b689e",
    "outputId": "66ff333a-af26-4a90-835b-d5c526c3cde4"
   },
   "outputs": [],
   "source": [
    "%pip install -q japanize-matplotlib-jlite\n",
    "import japanize_matplotlib_jlite\n",
    "import matplotlib.pyplot as plt\n",
    "import numpy as np\n",
    "import pandas as pd"
   ]
  },
  {
   "cell_type": "markdown",
   "id": "2",
   "metadata": {
    "id": "6d4c403f-ffbb-47df-8ac2-193543c15c6e",
    "jp-MarkdownHeadingCollapsed": true
   },
   "source": [
    "## 演習1"
   ]
  },
  {
   "cell_type": "markdown",
   "id": "3",
   "metadata": {
    "id": "73032733-f7bb-43ac-97ea-f5fe99fb84c2"
   },
   "source": [
    "### (1)"
   ]
  },
  {
   "cell_type": "code",
   "execution_count": null,
   "id": "4",
   "metadata": {
    "colab": {
     "base_uri": "https://localhost:8080/",
     "height": 206
    },
    "executionInfo": {
     "elapsed": 5,
     "status": "ok",
     "timestamp": 1758079246508,
     "user": {
      "displayName": "T Haruyama",
      "userId": "09851044792665346893"
     },
     "user_tz": -540
    },
    "id": "ea064e16-6cd7-4a72-a5b8-a4c440fd36e1",
    "outputId": "9c449846-2c4b-40e8-94cb-d78d4bbbcb44"
   },
   "outputs": [],
   "source": [
    "df1 = pd.read_csv(\"data3.csv\")\n",
    "df1.tail()"
   ]
  },
  {
   "cell_type": "markdown",
   "id": "5",
   "metadata": {
    "id": "59b76c59-5707-486d-b17f-897fad8e0657"
   },
   "source": [
    "### (2)"
   ]
  },
  {
   "cell_type": "code",
   "execution_count": null,
   "id": "6",
   "metadata": {
    "colab": {
     "base_uri": "https://localhost:8080/",
     "height": 226
    },
    "executionInfo": {
     "elapsed": 5,
     "status": "ok",
     "timestamp": 1758079246511,
     "user": {
      "displayName": "T Haruyama",
      "userId": "09851044792665346893"
     },
     "user_tz": -540
    },
    "id": "1ef23a34-9058-4bde-9654-ccb2629e1baf",
    "outputId": "95a7ecb6-1242-4a1b-a135-86e7aaf235b9"
   },
   "outputs": [],
   "source": [
    "cols = [\"gdp\", \"consumption\", \"investment\", \"government\", \"exports\", \"imports\"]\n",
    "\n",
    "for c in cols:\n",
    "    df1[c+\"_g\"] = 100 * df1[c].pct_change()\n",
    "\n",
    "df1.head()"
   ]
  },
  {
   "cell_type": "markdown",
   "id": "7",
   "metadata": {
    "id": "84e164f2-fb9e-40cd-93f9-59c146330dc6"
   },
   "source": [
    "### (3)"
   ]
  },
  {
   "cell_type": "code",
   "execution_count": null,
   "id": "8",
   "metadata": {
    "colab": {
     "base_uri": "https://localhost:8080/",
     "height": 429
    },
    "executionInfo": {
     "elapsed": 3,
     "status": "ok",
     "timestamp": 1758079246515,
     "user": {
      "displayName": "T Haruyama",
      "userId": "09851044792665346893"
     },
     "user_tz": -540
    },
    "id": "f70a98f5-4f92-44be-bce4-50f1f589c335",
    "outputId": "4f843673-5da4-4b95-ff16-e58d3cc01809"
   },
   "outputs": [],
   "source": [
    "for c in cols:\n",
    "    plt.plot(\"year\", c+\"_g\", data=df1)\n",
    "\n",
    "plt.legend()\n",
    "plt.show()"
   ]
  },
  {
   "cell_type": "markdown",
   "id": "9",
   "metadata": {
    "id": "de16acce-debc-4643-b0d7-37f3e40a11bc"
   },
   "source": [
    "### (4)"
   ]
  },
  {
   "cell_type": "code",
   "execution_count": null,
   "id": "10",
   "metadata": {
    "colab": {
     "base_uri": "https://localhost:8080/"
    },
    "executionInfo": {
     "elapsed": 4,
     "status": "ok",
     "timestamp": 1758079246525,
     "user": {
      "displayName": "T Haruyama",
      "userId": "09851044792665346893"
     },
     "user_tz": -540
    },
    "id": "1d8a4ffc-3c83-48c2-9039-e3239be5de1d",
    "outputId": "0a1c893a-e85e-410a-ad38-0487b63881a7"
   },
   "outputs": [],
   "source": [
    "for c in cols:\n",
    "    res = df1[c+\"_g\"].std()\n",
    "    print(f\"{c}: {res:.4f}\")"
   ]
  },
  {
   "cell_type": "markdown",
   "id": "11",
   "metadata": {
    "id": "45a27d38-e8ab-4992-9a9b-087c1b3046bc"
   },
   "source": [
    "### (5)"
   ]
  },
  {
   "cell_type": "code",
   "execution_count": null,
   "id": "12",
   "metadata": {
    "colab": {
     "base_uri": "https://localhost:8080/"
    },
    "executionInfo": {
     "elapsed": 2,
     "status": "ok",
     "timestamp": 1758079246529,
     "user": {
      "displayName": "T Haruyama",
      "userId": "09851044792665346893"
     },
     "user_tz": -540
    },
    "id": "72106779-cc88-4715-bde4-6e705423bd34",
    "outputId": "cde6591d-4b4e-46e0-8cbf-00f9acd6bb26"
   },
   "outputs": [],
   "source": [
    "for c in cols:\n",
    "    res = df1[c+\"_g\"].std() / df1[c+\"_g\"].mean()\n",
    "    print(f\"{c}: {res:.4f}\")"
   ]
  },
  {
   "cell_type": "markdown",
   "id": "13",
   "metadata": {
    "id": "fe9e4522-0b33-4324-9d28-b2a4a7fe13d8"
   },
   "source": [
    "### (6)"
   ]
  },
  {
   "cell_type": "code",
   "execution_count": null,
   "id": "14",
   "metadata": {
    "executionInfo": {
     "elapsed": 1,
     "status": "ok",
     "timestamp": 1758079246531,
     "user": {
      "displayName": "T Haruyama",
      "userId": "09851044792665346893"
     },
     "user_tz": -540
    },
    "id": "9fab1ea0-496e-4ad4-aaa8-2edaf4e3c1db"
   },
   "outputs": [],
   "source": [
    "# 投資が最も高く，消費が最も低い"
   ]
  },
  {
   "cell_type": "markdown",
   "id": "15",
   "metadata": {
    "id": "de3bdcbc-75a9-4fe4-a8fe-f68c360a3aea"
   },
   "source": [
    "## 演習2"
   ]
  },
  {
   "cell_type": "markdown",
   "id": "16",
   "metadata": {
    "id": "1e071792-9ac4-40ea-a553-0d74a9b416b1",
    "jp-MarkdownHeadingCollapsed": true
   },
   "source": [
    "### (1)"
   ]
  },
  {
   "cell_type": "code",
   "execution_count": null,
   "id": "17",
   "metadata": {
    "colab": {
     "base_uri": "https://localhost:8080/",
     "height": 206
    },
    "executionInfo": {
     "elapsed": 2,
     "status": "ok",
     "timestamp": 1758079246534,
     "user": {
      "displayName": "T Haruyama",
      "userId": "09851044792665346893"
     },
     "user_tz": -540
    },
    "id": "94c8826f-bcd6-45ba-bb60-a6f32fdebd22",
    "outputId": "9bb8d9da-88dc-4ab8-cfa6-dca63129c3a8"
   },
   "outputs": [],
   "source": [
    "df2 = pd.read_csv(\"data3.csv\")\n",
    "df2.head()"
   ]
  },
  {
   "cell_type": "markdown",
   "id": "18",
   "metadata": {
    "id": "b29411f2-a6f5-426d-8b0a-e837c1b872b2"
   },
   "source": [
    "### (2)"
   ]
  },
  {
   "cell_type": "code",
   "execution_count": null,
   "id": "19",
   "metadata": {
    "colab": {
     "base_uri": "https://localhost:8080/"
    },
    "executionInfo": {
     "elapsed": 3,
     "status": "ok",
     "timestamp": 1758079246538,
     "user": {
      "displayName": "T Haruyama",
      "userId": "09851044792665346893"
     },
     "user_tz": -540
    },
    "id": "0ce4e24a-101e-4fb4-a68a-a9ae035ffc33",
    "outputId": "d919f9dc-b526-4872-caac-116e63620329"
   },
   "outputs": [],
   "source": [
    "df2.columns"
   ]
  },
  {
   "cell_type": "code",
   "execution_count": null,
   "id": "20",
   "metadata": {
    "colab": {
     "base_uri": "https://localhost:8080/"
    },
    "executionInfo": {
     "elapsed": 10,
     "status": "ok",
     "timestamp": 1758079246549,
     "user": {
      "displayName": "T Haruyama",
      "userId": "09851044792665346893"
     },
     "user_tz": -540
    },
    "id": "45210f1b-bc54-4fd8-9529-fb70dc70169e",
    "outputId": "78d9ddc6-4e95-42da-d769-79f514a02d62"
   },
   "outputs": [],
   "source": [
    "type(df2.columns)"
   ]
  },
  {
   "cell_type": "markdown",
   "id": "21",
   "metadata": {
    "id": "1c227789-9897-447e-a202-d6c4e8122d5f"
   },
   "source": [
    "### (3)"
   ]
  },
  {
   "cell_type": "code",
   "execution_count": null,
   "id": "22",
   "metadata": {
    "colab": {
     "base_uri": "https://localhost:8080/"
    },
    "executionInfo": {
     "elapsed": 5,
     "status": "ok",
     "timestamp": 1758079246549,
     "user": {
      "displayName": "T Haruyama",
      "userId": "09851044792665346893"
     },
     "user_tz": -540
    },
    "id": "38ac32c5-bdfa-45d4-94dc-0015a1c28119",
    "outputId": "e7c781c8-c814-491f-e1ff-17eba19ffff7"
   },
   "outputs": [],
   "source": [
    "cols = df2.columns[1:]\n",
    "cols"
   ]
  },
  {
   "cell_type": "markdown",
   "id": "23",
   "metadata": {
    "id": "333e1578-48a7-4a25-b0ba-863d57eb8978"
   },
   "source": [
    "### (4)"
   ]
  },
  {
   "cell_type": "code",
   "execution_count": null,
   "id": "24",
   "metadata": {
    "colab": {
     "base_uri": "https://localhost:8080/",
     "height": 226
    },
    "executionInfo": {
     "elapsed": 2,
     "status": "ok",
     "timestamp": 1758079246549,
     "user": {
      "displayName": "T Haruyama",
      "userId": "09851044792665346893"
     },
     "user_tz": -540
    },
    "id": "227202eb-af38-4f0c-861f-8d19a644e286",
    "outputId": "e3ef440e-234d-43d8-9a97-fb86ee147185"
   },
   "outputs": [],
   "source": [
    "for c in cols:\n",
    "    df2[c+\"_g\"] = 100 * df2[c].pct_change()\n",
    "\n",
    "df2.head()"
   ]
  },
  {
   "cell_type": "markdown",
   "id": "25",
   "metadata": {
    "id": "gs9NEbeXeMLe"
   },
   "source": [
    "このようにすれば，より少ないキーストロークで同じ結果を得ることができます。"
   ]
  },
  {
   "cell_type": "markdown",
   "id": "26",
   "metadata": {
    "id": "538adb45-0178-4ca4-b1c9-b9ee825f813e"
   },
   "source": [
    "## 演習3"
   ]
  },
  {
   "cell_type": "markdown",
   "id": "27",
   "metadata": {
    "id": "ae65dd5a-9646-4815-a2e1-67697a9907ac"
   },
   "source": [
    "### (1)"
   ]
  },
  {
   "cell_type": "code",
   "execution_count": null,
   "id": "28",
   "metadata": {
    "executionInfo": {
     "elapsed": 2,
     "status": "ok",
     "timestamp": 1758079246551,
     "user": {
      "displayName": "T Haruyama",
      "userId": "09851044792665346893"
     },
     "user_tz": -540
    },
    "id": "c9c5f058-a359-430f-a6fc-a7d4ac362d84"
   },
   "outputs": [],
   "source": [
    "df3 = pd.read_csv(\"data3.csv\")\n",
    "df3[\"netx\"] = df3[\"exports\"] - df3[\"imports\"]"
   ]
  },
  {
   "cell_type": "markdown",
   "id": "29",
   "metadata": {
    "id": "cd3b089a-f3a3-45d7-ac28-baf83b4fc300"
   },
   "source": [
    "### (2)"
   ]
  },
  {
   "cell_type": "code",
   "execution_count": null,
   "id": "30",
   "metadata": {
    "colab": {
     "base_uri": "https://localhost:8080/",
     "height": 132
    },
    "executionInfo": {
     "elapsed": 2,
     "status": "ok",
     "timestamp": 1758079246553,
     "user": {
      "displayName": "T Haruyama",
      "userId": "09851044792665346893"
     },
     "user_tz": -540
    },
    "id": "ea7cf21b-c59e-4dcc-9fc8-115391f6be66",
    "outputId": "627d6bd9-7fb3-44db-ff91-28cb15976438"
   },
   "outputs": [],
   "source": [
    "cols = [\"consumption\", \"investment\", \"government\", \"netx\"]\n",
    "\n",
    "for c in cols:\n",
    "\n",
    "    df3[c+\"_diff\"] = df3[c].diff()\n",
    "\n",
    "df3.head(2)"
   ]
  },
  {
   "cell_type": "markdown",
   "id": "31",
   "metadata": {
    "id": "be1ea9c0-45ad-4ed6-af6a-20579cabae33"
   },
   "source": [
    "### (3)"
   ]
  },
  {
   "cell_type": "code",
   "execution_count": null,
   "id": "32",
   "metadata": {
    "colab": {
     "base_uri": "https://localhost:8080/",
     "height": 226
    },
    "executionInfo": {
     "elapsed": 2,
     "status": "ok",
     "timestamp": 1758079246556,
     "user": {
      "displayName": "T Haruyama",
      "userId": "09851044792665346893"
     },
     "user_tz": -540
    },
    "id": "b2a1a7f7-a14c-46ca-8bf8-11787a260f28",
    "outputId": "f8483172-6b6a-4e6d-e978-36165241dd45"
   },
   "outputs": [],
   "source": [
    "df3[\"gdp_shift\"] = df3[\"gdp\"].shift()\n",
    "df3.head()"
   ]
  },
  {
   "cell_type": "markdown",
   "id": "33",
   "metadata": {
    "id": "e6741539-053a-41d3-a0d9-b84d824a2f9c"
   },
   "source": [
    "### (4)"
   ]
  },
  {
   "cell_type": "code",
   "execution_count": null,
   "id": "34",
   "metadata": {
    "colab": {
     "base_uri": "https://localhost:8080/",
     "height": 429
    },
    "executionInfo": {
     "elapsed": 3,
     "status": "ok",
     "timestamp": 1758079246559,
     "user": {
      "displayName": "T Haruyama",
      "userId": "09851044792665346893"
     },
     "user_tz": -540
    },
    "id": "bc274dfe-dfeb-4a03-a595-62cc9dc6d89a",
    "outputId": "0b0c48c9-b885-42e0-c0a9-e9007f5325fe"
   },
   "outputs": [],
   "source": [
    "for c in cols:\n",
    "\n",
    "    # 寄与度の計算\n",
    "    df3[c+\"_kiyodo\"] = df3[c+\"_diff\"] / df3[\"gdp_shift\"]\n",
    "\n",
    "    # 寄与度のプロット\n",
    "    plt.plot(\"year\", c+\"_kiyodo\", data=df3, label=c)\n",
    "\n",
    "plt.legend()\n",
    "plt.show()"
   ]
  }
 ],
 "metadata": {
  "colab": {
   "provenance": []
  },
  "kernelspec": {
   "display_name": "Python 3",
   "name": "python3"
  },
  "language_info": {
   "name": "python"
  }
 },
 "nbformat": 4,
 "nbformat_minor": 5
}
