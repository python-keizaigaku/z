{
 "cells": [
  {
   "cell_type": "markdown",
   "id": "0",
   "metadata": {
    "id": "1f53e81c-70bf-4575-b7cb-cada4455355e"
   },
   "source": [
    "# 4章：演習問題の解答"
   ]
  },
  {
   "cell_type": "markdown",
   "id": "1",
   "metadata": {
    "id": "8110fa09-fc15-4713-946e-beac8d5fcc2d"
   },
   "source": [
    "## 演習1"
   ]
  },
  {
   "cell_type": "code",
   "execution_count": null,
   "id": "2",
   "metadata": {
    "executionInfo": {
     "elapsed": 4,
     "status": "ok",
     "timestamp": 1758078855040,
     "user": {
      "displayName": "T Haruyama",
      "userId": "09851044792665346893"
     },
     "user_tz": -540
    },
    "id": "d21bd132-08ca-40e1-9394-90ed2a165c48"
   },
   "outputs": [],
   "source": [
    "components = [298, 111, 145, 113, 110]"
   ]
  },
  {
   "cell_type": "markdown",
   "id": "3",
   "metadata": {
    "id": "3226a7e5-e5a0-43f3-82be-a5d2469de4c1"
   },
   "source": [
    "### (1)"
   ]
  },
  {
   "cell_type": "code",
   "execution_count": null,
   "id": "4",
   "metadata": {
    "colab": {
     "base_uri": "https://localhost:8080/"
    },
    "executionInfo": {
     "elapsed": 34,
     "status": "ok",
     "timestamp": 1758078855083,
     "user": {
      "displayName": "T Haruyama",
      "userId": "09851044792665346893"
     },
     "user_tz": -540
    },
    "id": "8df783df-78ab-40db-adbb-e0f463269c3e",
    "outputId": "7740baa5-6266-4983-95af-c407bd664f37"
   },
   "outputs": [],
   "source": [
    "q11 = sum(components[:-1]) - components[-1]\n",
    "q11"
   ]
  },
  {
   "cell_type": "markdown",
   "id": "5",
   "metadata": {
    "id": "5647c267-ad42-40c9-baa7-e6b534088f5e"
   },
   "source": [
    "### (2)"
   ]
  },
  {
   "cell_type": "code",
   "execution_count": null,
   "id": "6",
   "metadata": {
    "colab": {
     "base_uri": "https://localhost:8080/"
    },
    "executionInfo": {
     "elapsed": 11,
     "status": "ok",
     "timestamp": 1758078855084,
     "user": {
      "displayName": "T Haruyama",
      "userId": "09851044792665346893"
     },
     "user_tz": -540
    },
    "id": "ccee5eb1-dd70-4dea-af34-a832e4e77476",
    "outputId": "361da383-12de-4d37-c1be-88fcf26e62ec"
   },
   "outputs": [],
   "source": [
    "netx = components[-2] - components[-1]\n",
    "components = components + [netx]\n",
    "components"
   ]
  },
  {
   "cell_type": "markdown",
   "id": "7",
   "metadata": {
    "id": "9c9bc9a8-e111-4851-b8f8-d07b1d75a503"
   },
   "source": [
    "### (3)"
   ]
  },
  {
   "cell_type": "code",
   "execution_count": null,
   "id": "8",
   "metadata": {
    "colab": {
     "base_uri": "https://localhost:8080/"
    },
    "executionInfo": {
     "elapsed": 9,
     "status": "ok",
     "timestamp": 1758078855085,
     "user": {
      "displayName": "T Haruyama",
      "userId": "09851044792665346893"
     },
     "user_tz": -540
    },
    "id": "43b7a44c-4cd4-400a-b94b-9c38b4243fe5",
    "outputId": "da0640cc-1a4b-446c-e0e9-3e3734d5f3ca"
   },
   "outputs": [],
   "source": [
    "del components[-3], components[-2]\n",
    "components"
   ]
  },
  {
   "cell_type": "markdown",
   "id": "9",
   "metadata": {
    "id": "8d1bc1b2-9911-4f19-a971-5f3e1f09acbd"
   },
   "source": [
    "### (4)"
   ]
  },
  {
   "cell_type": "code",
   "execution_count": null,
   "id": "10",
   "metadata": {
    "colab": {
     "base_uri": "https://localhost:8080/"
    },
    "executionInfo": {
     "elapsed": 3,
     "status": "ok",
     "timestamp": 1758078855151,
     "user": {
      "displayName": "T Haruyama",
      "userId": "09851044792665346893"
     },
     "user_tz": -540
    },
    "id": "8a60e085-fa27-4af0-979d-4b461143c28c",
    "outputId": "d342d298-d272-44a0-b914-5f45c9d720be"
   },
   "outputs": [],
   "source": [
    "q14 = sum(components)\n",
    "q14"
   ]
  },
  {
   "cell_type": "markdown",
   "id": "11",
   "metadata": {
    "id": "uvPFts5Novif"
   },
   "source": [
    "次のように評価できます。"
   ]
  },
  {
   "cell_type": "code",
   "execution_count": null,
   "id": "12",
   "metadata": {
    "colab": {
     "base_uri": "https://localhost:8080/"
    },
    "executionInfo": {
     "elapsed": 8,
     "status": "ok",
     "timestamp": 1758078855165,
     "user": {
      "displayName": "T Haruyama",
      "userId": "09851044792665346893"
     },
     "user_tz": -540
    },
    "id": "caIcYGaZpJNB",
    "outputId": "e9114157-6de7-447e-f6aa-fe570dab3ff4"
   },
   "outputs": [],
   "source": [
    "q11 == q14"
   ]
  },
  {
   "cell_type": "markdown",
   "id": "13",
   "metadata": {
    "id": "PCKNK6byqjVA"
   },
   "source": [
    "ただ，この方法は整数型に使うのは問題ありませんが，浮動小数点型に使うのは危険です。次の例を考えましょう。"
   ]
  },
  {
   "cell_type": "code",
   "execution_count": null,
   "id": "14",
   "metadata": {
    "colab": {
     "base_uri": "https://localhost:8080/"
    },
    "executionInfo": {
     "elapsed": 6,
     "status": "ok",
     "timestamp": 1758078855172,
     "user": {
      "displayName": "T Haruyama",
      "userId": "09851044792665346893"
     },
     "user_tz": -540
    },
    "id": "Cn6AeB3wqtcw",
    "outputId": "5705209c-cd1c-4d43-811b-0a43ef410a60"
   },
   "outputs": [],
   "source": [
    "0.3 == 3 * 0.1"
   ]
  },
  {
   "cell_type": "markdown",
   "id": "15",
   "metadata": {
    "id": "YYVhl-dgqy-2"
   },
   "source": [
    "これはバグではなく，精度の問題です。浮動小数点型の場合は，7.1.2項と14章で説明するNumPyの`.isclose()`関数を使うことを推奨します。"
   ]
  },
  {
   "cell_type": "code",
   "execution_count": null,
   "id": "16",
   "metadata": {
    "colab": {
     "base_uri": "https://localhost:8080/"
    },
    "executionInfo": {
     "elapsed": 2,
     "status": "ok",
     "timestamp": 1758078855175,
     "user": {
      "displayName": "T Haruyama",
      "userId": "09851044792665346893"
     },
     "user_tz": -540
    },
    "id": "q5kEbAkdrL3G",
    "outputId": "0cc7466b-3ce9-4f0f-d63c-13f910e45903"
   },
   "outputs": [],
   "source": [
    "import numpy as np\n",
    "print( np.isclose(0.3, 3*0.1) )"
   ]
  },
  {
   "cell_type": "markdown",
   "id": "17",
   "metadata": {
    "id": "de0787c9-66b8-4cab-b966-e272c7b4e0f8"
   },
   "source": [
    "## 演習2"
   ]
  },
  {
   "cell_type": "code",
   "execution_count": null,
   "id": "18",
   "metadata": {
    "executionInfo": {
     "elapsed": 1,
     "status": "ok",
     "timestamp": 1758078855201,
     "user": {
      "displayName": "T Haruyama",
      "userId": "09851044792665346893"
     },
     "user_tz": -540
    },
    "id": "5595d187-cde3-4cee-b79c-559f7ed78521"
   },
   "outputs": [],
   "source": [
    "growth = [-4.2, 2.7, 0.9, 1.4, 0.2]"
   ]
  },
  {
   "cell_type": "markdown",
   "id": "19",
   "metadata": {
    "id": "e019da7f-8a20-4c92-84eb-c30b3828dcf1"
   },
   "source": [
    "### (1)"
   ]
  },
  {
   "cell_type": "code",
   "execution_count": null,
   "id": "20",
   "metadata": {
    "colab": {
     "base_uri": "https://localhost:8080/"
    },
    "executionInfo": {
     "elapsed": 3,
     "status": "ok",
     "timestamp": 1758078855205,
     "user": {
      "displayName": "T Haruyama",
      "userId": "09851044792665346893"
     },
     "user_tz": -540
    },
    "id": "682c35cb-aafa-4637-94bb-e6ca1417b408",
    "outputId": "bf6072a7-64eb-4ad5-801b-d5915fc66166"
   },
   "outputs": [],
   "source": [
    "max(growth) - min(growth)"
   ]
  },
  {
   "cell_type": "markdown",
   "id": "21",
   "metadata": {
    "id": "e4baaa12-0c6b-49dc-97fd-4f918794b617"
   },
   "source": [
    "### (2)"
   ]
  },
  {
   "cell_type": "code",
   "execution_count": null,
   "id": "22",
   "metadata": {
    "colab": {
     "base_uri": "https://localhost:8080/"
    },
    "executionInfo": {
     "elapsed": 2,
     "status": "ok",
     "timestamp": 1758078855207,
     "user": {
      "displayName": "T Haruyama",
      "userId": "09851044792665346893"
     },
     "user_tz": -540
    },
    "id": "85795f93-5bb3-4eae-941e-1f9487550e3f",
    "outputId": "2f813713-fe7a-41fe-e3ee-be74ba1d24e7"
   },
   "outputs": [],
   "source": [
    "growth_sorted = sorted(growth)\n",
    "growth_sorted[-1] - growth_sorted[0]"
   ]
  },
  {
   "cell_type": "markdown",
   "id": "23",
   "metadata": {
    "id": "f03980d7-17d6-4c75-a184-812773ee4575"
   },
   "source": [
    "### (3)"
   ]
  },
  {
   "cell_type": "code",
   "execution_count": null,
   "id": "24",
   "metadata": {
    "colab": {
     "base_uri": "https://localhost:8080/"
    },
    "executionInfo": {
     "elapsed": 2,
     "status": "ok",
     "timestamp": 1758078855210,
     "user": {
      "displayName": "T Haruyama",
      "userId": "09851044792665346893"
     },
     "user_tz": -540
    },
    "id": "44861ad8-6885-4e46-b303-d04c3427cb71",
    "outputId": "b0839967-a794-4e14-d825-d6c5fd99a940"
   },
   "outputs": [],
   "source": [
    "avr = sum(growth) / len(growth)\n",
    "print(f\"平均は{avr}です。\")"
   ]
  },
  {
   "cell_type": "markdown",
   "id": "25",
   "metadata": {
    "id": "93d702a5-9f90-43d7-bd0d-9e83573c706a"
   },
   "source": [
    "## 演習3"
   ]
  },
  {
   "cell_type": "markdown",
   "id": "26",
   "metadata": {
    "id": "e3158753-44ee-401a-98c7-a3f5b000612b"
   },
   "source": [
    "### (1)"
   ]
  },
  {
   "cell_type": "code",
   "execution_count": null,
   "id": "27",
   "metadata": {
    "colab": {
     "base_uri": "https://localhost:8080/"
    },
    "executionInfo": {
     "elapsed": 3,
     "status": "ok",
     "timestamp": 1758078855213,
     "user": {
      "displayName": "T Haruyama",
      "userId": "09851044792665346893"
     },
     "user_tz": -540
    },
    "id": "95afe61a-7b66-46ab-8973-c3666dc47385",
    "outputId": "1418ce56-effe-42df-d32b-cea2fddf5a90"
   },
   "outputs": [],
   "source": [
    "list( range(2015, 2026) )"
   ]
  },
  {
   "cell_type": "markdown",
   "id": "28",
   "metadata": {
    "id": "df581778-8bc7-4ca2-bb75-24725ca772f8"
   },
   "source": [
    "### (2)"
   ]
  },
  {
   "cell_type": "code",
   "execution_count": null,
   "id": "29",
   "metadata": {
    "colab": {
     "base_uri": "https://localhost:8080/"
    },
    "executionInfo": {
     "elapsed": 2,
     "status": "ok",
     "timestamp": 1758078855215,
     "user": {
      "displayName": "T Haruyama",
      "userId": "09851044792665346893"
     },
     "user_tz": -540
    },
    "id": "3ed1f21d-194a-4842-83cf-96ddb98a0165",
    "outputId": "c25bc079-dea5-4d70-e2c7-318d59952a95"
   },
   "outputs": [],
   "source": [
    "tuple( range(2010, 2026, 2) )"
   ]
  },
  {
   "cell_type": "markdown",
   "id": "30",
   "metadata": {
    "id": "09b3dde1-912e-4500-872a-fd152df6598e"
   },
   "source": [
    "### (3)"
   ]
  },
  {
   "cell_type": "code",
   "execution_count": null,
   "id": "31",
   "metadata": {
    "colab": {
     "base_uri": "https://localhost:8080/"
    },
    "executionInfo": {
     "elapsed": 14,
     "status": "ok",
     "timestamp": 1758078855230,
     "user": {
      "displayName": "T Haruyama",
      "userId": "09851044792665346893"
     },
     "user_tz": -540
    },
    "id": "20d3c68c-b36c-4904-b870-48dff329e492",
    "outputId": "82dacbf2-b753-440c-f3fa-a3e0738be104"
   },
   "outputs": [],
   "source": [
    "list( range(1900, 2026, 10) )"
   ]
  },
  {
   "cell_type": "markdown",
   "id": "32",
   "metadata": {
    "id": "b5bbf348-39b1-4872-a180-048cd06bfe94"
   },
   "source": [
    "## 演習4"
   ]
  },
  {
   "cell_type": "markdown",
   "id": "33",
   "metadata": {
    "id": "fd8c9b92-8b07-4faf-8909-a33f85bdef29"
   },
   "source": [
    "### (1)"
   ]
  },
  {
   "cell_type": "code",
   "execution_count": null,
   "id": "34",
   "metadata": {
    "executionInfo": {
     "elapsed": 7,
     "status": "ok",
     "timestamp": 1758078855231,
     "user": {
      "displayName": "T Haruyama",
      "userId": "09851044792665346893"
     },
     "user_tz": -540
    },
    "id": "10d67d79-42ab-4b3d-a234-5474258ada95"
   },
   "outputs": [],
   "source": [
    "def disposable_income(income, tax):\n",
    "    return income - tax"
   ]
  },
  {
   "cell_type": "markdown",
   "id": "35",
   "metadata": {
    "id": "2637bb64-a67a-42a6-9344-68632fc0c3cb"
   },
   "source": [
    "### (2)"
   ]
  },
  {
   "cell_type": "code",
   "execution_count": null,
   "id": "36",
   "metadata": {
    "executionInfo": {
     "elapsed": 7,
     "status": "ok",
     "timestamp": 1758078855232,
     "user": {
      "displayName": "T Haruyama",
      "userId": "09851044792665346893"
     },
     "user_tz": -540
    },
    "id": "94cfb8b1-85ce-44dd-a4da-5f21131b6c6c"
   },
   "outputs": [],
   "source": [
    "def disposable_income(income, tax):\n",
    "    \"\"\"可処分所得を計算する。\n",
    "    引数：\n",
    "        income: 所得\n",
    "        tax: 所得税額\n",
    "    戻り値：\n",
    "        可処分所得\"\"\"\n",
    "    return income - tax"
   ]
  },
  {
   "cell_type": "markdown",
   "id": "37",
   "metadata": {
    "id": "d06cd2a0-de80-4f81-94b9-58ca42dc6e7b"
   },
   "source": [
    "### (3)"
   ]
  },
  {
   "cell_type": "code",
   "execution_count": null,
   "id": "38",
   "metadata": {
    "colab": {
     "base_uri": "https://localhost:8080/"
    },
    "executionInfo": {
     "elapsed": 6,
     "status": "ok",
     "timestamp": 1758078855232,
     "user": {
      "displayName": "T Haruyama",
      "userId": "09851044792665346893"
     },
     "user_tz": -540
    },
    "id": "bcac4a80-a825-4702-bc8d-07a9885d1298",
    "outputId": "fdcd93a9-0b40-4db3-97a0-6a6ab660428b"
   },
   "outputs": [],
   "source": [
    "result = disposable_income(600, 130)\n",
    "print(f\"可処分所得は{result}万円\")"
   ]
  },
  {
   "cell_type": "markdown",
   "id": "39",
   "metadata": {
    "id": "da0bbe4c-a6bd-48ac-ab11-da5910fbd9aa"
   },
   "source": [
    "### (4)"
   ]
  },
  {
   "cell_type": "code",
   "execution_count": null,
   "id": "40",
   "metadata": {
    "colab": {
     "base_uri": "https://localhost:8080/"
    },
    "executionInfo": {
     "elapsed": 4,
     "status": "ok",
     "timestamp": 1758078855232,
     "user": {
      "displayName": "T Haruyama",
      "userId": "09851044792665346893"
     },
     "user_tz": -540
    },
    "id": "86e83396-c240-4ec3-871f-05173b3eff59",
    "outputId": "0c857e2b-4a66-41e2-b9d5-a245085f0c84"
   },
   "outputs": [],
   "source": [
    "help(disposable_income)"
   ]
  },
  {
   "cell_type": "markdown",
   "id": "41",
   "metadata": {
    "id": "4b95c2b8-62ff-485a-b8af-8d8c660925f1"
   },
   "source": [
    "## 演習5"
   ]
  },
  {
   "cell_type": "markdown",
   "id": "42",
   "metadata": {
    "id": "95790969-df4b-4b97-95b7-38e8ac397d53"
   },
   "source": [
    "### (1)"
   ]
  },
  {
   "cell_type": "code",
   "execution_count": null,
   "id": "43",
   "metadata": {
    "executionInfo": {
     "elapsed": 51,
     "status": "ok",
     "timestamp": 1758078855282,
     "user": {
      "displayName": "T Haruyama",
      "userId": "09851044792665346893"
     },
     "user_tz": -540
    },
    "id": "9048eb75-461a-4d53-b58c-4e07136e8db4"
   },
   "outputs": [],
   "source": [
    "def present_value(future_value, rate=0.03, years=10):\n",
    "    pv = future_value / ( 1+rate )**years\n",
    "    return pv"
   ]
  },
  {
   "cell_type": "markdown",
   "id": "44",
   "metadata": {
    "id": "e6b107f3-0179-4a5e-af39-c56ba56a0132"
   },
   "source": [
    "### (2)"
   ]
  },
  {
   "cell_type": "code",
   "execution_count": null,
   "id": "45",
   "metadata": {
    "colab": {
     "base_uri": "https://localhost:8080/"
    },
    "executionInfo": {
     "elapsed": 3,
     "status": "ok",
     "timestamp": 1758078855283,
     "user": {
      "displayName": "T Haruyama",
      "userId": "09851044792665346893"
     },
     "user_tz": -540
    },
    "id": "f2759853-de1b-4640-aaa0-b7ab1bfd531c",
    "outputId": "2f23c730-f8f2-427b-fd85-b90eba8fcd58"
   },
   "outputs": [],
   "source": [
    "result = present_value(100_000_000)\n",
    "print(f\"10年後の1億円の現在価値は{result:,.0f}円です。\")\n",
    "\n",
    "# :の後のコンマ（,）は３桁ごとにカンマを入れることを指定します。\n",
    "# {}の中の最後にあるfは固定小数点数での表示を指定しています。fを削除して実行すると浮動小数点数で表示されます。"
   ]
  },
  {
   "cell_type": "markdown",
   "id": "46",
   "metadata": {
    "id": "b34f0c43-24ce-4d15-9816-fc35bba26e86"
   },
   "source": [
    "### (3)"
   ]
  },
  {
   "cell_type": "code",
   "execution_count": null,
   "id": "47",
   "metadata": {
    "colab": {
     "base_uri": "https://localhost:8080/"
    },
    "executionInfo": {
     "elapsed": 5,
     "status": "ok",
     "timestamp": 1758078855289,
     "user": {
      "displayName": "T Haruyama",
      "userId": "09851044792665346893"
     },
     "user_tz": -540
    },
    "id": "20dd93f0-7eec-4cd7-9d62-bb456f938e9c",
    "outputId": "f734586f-8af0-48ff-b748-981c1291f2b5"
   },
   "outputs": [],
   "source": [
    "def future_value(x, r=0.03, t=10):\n",
    "    result = x * (1+r) ** t\n",
    "    return result\n",
    "\n",
    "future_value(result)"
   ]
  },
  {
   "cell_type": "code",
   "execution_count": null,
   "id": "48",
   "metadata": {
    "executionInfo": {
     "elapsed": 1,
     "status": "ok",
     "timestamp": 1758078855291,
     "user": {
      "displayName": "T Haruyama",
      "userId": "09851044792665346893"
     },
     "user_tz": -540
    },
    "id": "UFfNB2HkugXl"
   },
   "outputs": [],
   "source": []
  }
 ],
 "metadata": {
  "colab": {
   "provenance": []
  },
  "kernelspec": {
   "display_name": "Python 3",
   "name": "python3"
  },
  "language_info": {
   "name": "python"
  }
 },
 "nbformat": 4,
 "nbformat_minor": 5
}
