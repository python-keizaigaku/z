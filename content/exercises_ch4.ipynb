{
 "cells": [
  {
   "cell_type": "markdown",
   "id": "1f53e81c-70bf-4575-b7cb-cada4455355e",
   "metadata": {
    "id": "1f53e81c-70bf-4575-b7cb-cada4455355e"
   },
   "source": [
    "# 4章：演習問題の解答"
   ]
  },
  {
   "cell_type": "markdown",
   "id": "8110fa09-fc15-4713-946e-beac8d5fcc2d",
   "metadata": {
    "id": "8110fa09-fc15-4713-946e-beac8d5fcc2d"
   },
   "source": [
    "## 演習1"
   ]
  },
  {
   "cell_type": "code",
   "execution_count": 1,
   "id": "d21bd132-08ca-40e1-9394-90ed2a165c48",
   "metadata": {
    "executionInfo": {
     "elapsed": 10,
     "status": "ok",
     "timestamp": 1751098481112,
     "user": {
      "displayName": "T Haruyama",
      "userId": "09851044792665346893"
     },
     "user_tz": -540
    },
    "id": "d21bd132-08ca-40e1-9394-90ed2a165c48"
   },
   "outputs": [],
   "source": [
    "components = [298, 111, 145, 113, 110]"
   ]
  },
  {
   "cell_type": "markdown",
   "id": "3226a7e5-e5a0-43f3-82be-a5d2469de4c1",
   "metadata": {
    "id": "3226a7e5-e5a0-43f3-82be-a5d2469de4c1"
   },
   "source": [
    "### (1)"
   ]
  },
  {
   "cell_type": "code",
   "execution_count": 2,
   "id": "8df783df-78ab-40db-adbb-e0f463269c3e",
   "metadata": {
    "colab": {
     "base_uri": "https://localhost:8080/"
    },
    "executionInfo": {
     "elapsed": 4,
     "status": "ok",
     "timestamp": 1751098481199,
     "user": {
      "displayName": "T Haruyama",
      "userId": "09851044792665346893"
     },
     "user_tz": -540
    },
    "id": "8df783df-78ab-40db-adbb-e0f463269c3e",
    "outputId": "838b7caa-77e4-4a43-c2d7-83b378ea13ad"
   },
   "outputs": [
    {
     "data": {
      "text/plain": [
       "557"
      ]
     },
     "execution_count": 2,
     "metadata": {},
     "output_type": "execute_result"
    }
   ],
   "source": [
    "q11 = sum(components[:-1]) - components[-1]\n",
    "q11"
   ]
  },
  {
   "cell_type": "markdown",
   "id": "5647c267-ad42-40c9-baa7-e6b534088f5e",
   "metadata": {
    "id": "5647c267-ad42-40c9-baa7-e6b534088f5e"
   },
   "source": [
    "### (2)"
   ]
  },
  {
   "cell_type": "code",
   "execution_count": 3,
   "id": "ccee5eb1-dd70-4dea-af34-a832e4e77476",
   "metadata": {
    "colab": {
     "base_uri": "https://localhost:8080/"
    },
    "executionInfo": {
     "elapsed": 2,
     "status": "ok",
     "timestamp": 1751098481202,
     "user": {
      "displayName": "T Haruyama",
      "userId": "09851044792665346893"
     },
     "user_tz": -540
    },
    "id": "ccee5eb1-dd70-4dea-af34-a832e4e77476",
    "outputId": "69f529cd-0d1b-4dd4-b34e-d693ac9b26e4"
   },
   "outputs": [
    {
     "data": {
      "text/plain": [
       "[298, 111, 145, 113, 110, 3]"
      ]
     },
     "execution_count": 3,
     "metadata": {},
     "output_type": "execute_result"
    }
   ],
   "source": [
    "netx = components[-2] - components[-1]\n",
    "components = components + [netx]\n",
    "components"
   ]
  },
  {
   "cell_type": "markdown",
   "id": "9c9bc9a8-e111-4851-b8f8-d07b1d75a503",
   "metadata": {
    "id": "9c9bc9a8-e111-4851-b8f8-d07b1d75a503"
   },
   "source": [
    "### (3)"
   ]
  },
  {
   "cell_type": "code",
   "execution_count": 4,
   "id": "43b7a44c-4cd4-400a-b94b-9c38b4243fe5",
   "metadata": {
    "colab": {
     "base_uri": "https://localhost:8080/"
    },
    "executionInfo": {
     "elapsed": 2,
     "status": "ok",
     "timestamp": 1751098481218,
     "user": {
      "displayName": "T Haruyama",
      "userId": "09851044792665346893"
     },
     "user_tz": -540
    },
    "id": "43b7a44c-4cd4-400a-b94b-9c38b4243fe5",
    "outputId": "3feaa2bb-593a-438e-b92b-beee1eba28db"
   },
   "outputs": [
    {
     "data": {
      "text/plain": [
       "[298, 111, 145, 3]"
      ]
     },
     "execution_count": 4,
     "metadata": {},
     "output_type": "execute_result"
    }
   ],
   "source": [
    "del components[-3], components[-2]\n",
    "components"
   ]
  },
  {
   "cell_type": "markdown",
   "id": "8d1bc1b2-9911-4f19-a971-5f3e1f09acbd",
   "metadata": {
    "id": "8d1bc1b2-9911-4f19-a971-5f3e1f09acbd"
   },
   "source": [
    "### (4)"
   ]
  },
  {
   "cell_type": "code",
   "execution_count": 5,
   "id": "8a60e085-fa27-4af0-979d-4b461143c28c",
   "metadata": {
    "colab": {
     "base_uri": "https://localhost:8080/"
    },
    "executionInfo": {
     "elapsed": 15,
     "status": "ok",
     "timestamp": 1751098481234,
     "user": {
      "displayName": "T Haruyama",
      "userId": "09851044792665346893"
     },
     "user_tz": -540
    },
    "id": "8a60e085-fa27-4af0-979d-4b461143c28c",
    "outputId": "83262b85-aa5d-44cb-cc1f-46954c90b0e3"
   },
   "outputs": [
    {
     "data": {
      "text/plain": [
       "557"
      ]
     },
     "execution_count": 5,
     "metadata": {},
     "output_type": "execute_result"
    }
   ],
   "source": [
    "q14 = sum(components)\n",
    "q14"
   ]
  },
  {
   "cell_type": "markdown",
   "id": "uvPFts5Novif",
   "metadata": {
    "id": "uvPFts5Novif"
   },
   "source": [
    "次のように評価できます。"
   ]
  },
  {
   "cell_type": "code",
   "execution_count": 6,
   "id": "caIcYGaZpJNB",
   "metadata": {
    "colab": {
     "base_uri": "https://localhost:8080/"
    },
    "executionInfo": {
     "elapsed": 8,
     "status": "ok",
     "timestamp": 1751098481248,
     "user": {
      "displayName": "T Haruyama",
      "userId": "09851044792665346893"
     },
     "user_tz": -540
    },
    "id": "caIcYGaZpJNB",
    "outputId": "a47bf5e9-90f7-4fd8-9991-6eba56432dbd"
   },
   "outputs": [
    {
     "data": {
      "text/plain": [
       "True"
      ]
     },
     "execution_count": 6,
     "metadata": {},
     "output_type": "execute_result"
    }
   ],
   "source": [
    "q11 == q14"
   ]
  },
  {
   "cell_type": "markdown",
   "id": "PCKNK6byqjVA",
   "metadata": {
    "id": "PCKNK6byqjVA"
   },
   "source": [
    "ただ，この方法は整数型に使うのは問題ありませんが，浮動小数点型に使うのは危険です。次の例を考えましょう。"
   ]
  },
  {
   "cell_type": "code",
   "execution_count": 7,
   "id": "Cn6AeB3wqtcw",
   "metadata": {
    "colab": {
     "base_uri": "https://localhost:8080/"
    },
    "executionInfo": {
     "elapsed": 17,
     "status": "ok",
     "timestamp": 1751098481267,
     "user": {
      "displayName": "T Haruyama",
      "userId": "09851044792665346893"
     },
     "user_tz": -540
    },
    "id": "Cn6AeB3wqtcw",
    "outputId": "b28cbe75-4337-4f98-d944-010c73993ab4"
   },
   "outputs": [
    {
     "data": {
      "text/plain": [
       "False"
      ]
     },
     "execution_count": 7,
     "metadata": {},
     "output_type": "execute_result"
    }
   ],
   "source": [
    "0.3 == 3 * 0.1"
   ]
  },
  {
   "cell_type": "markdown",
   "id": "YYVhl-dgqy-2",
   "metadata": {
    "id": "YYVhl-dgqy-2"
   },
   "source": [
    "これはバグではなく，精度の問題です。浮動小数点型の場合は，7.1.2項と14章で説明するNumPyの`.isclose()`関数を使うことを推奨します。"
   ]
  },
  {
   "cell_type": "code",
   "execution_count": 8,
   "id": "q5kEbAkdrL3G",
   "metadata": {
    "colab": {
     "base_uri": "https://localhost:8080/"
    },
    "executionInfo": {
     "elapsed": 13,
     "status": "ok",
     "timestamp": 1751098481281,
     "user": {
      "displayName": "T Haruyama",
      "userId": "09851044792665346893"
     },
     "user_tz": -540
    },
    "id": "q5kEbAkdrL3G",
    "outputId": "c6f22e3f-03ff-4c39-90ca-e67ab331bd80"
   },
   "outputs": [
    {
     "name": "stdout",
     "output_type": "stream",
     "text": [
      "True\n"
     ]
    }
   ],
   "source": [
    "import numpy as np\n",
    "print( np.isclose(0.3, 3*0.1) )"
   ]
  },
  {
   "cell_type": "markdown",
   "id": "de0787c9-66b8-4cab-b966-e272c7b4e0f8",
   "metadata": {
    "id": "de0787c9-66b8-4cab-b966-e272c7b4e0f8"
   },
   "source": [
    "## 演習2"
   ]
  },
  {
   "cell_type": "code",
   "execution_count": 9,
   "id": "5595d187-cde3-4cee-b79c-559f7ed78521",
   "metadata": {
    "executionInfo": {
     "elapsed": 41,
     "status": "ok",
     "timestamp": 1751098481323,
     "user": {
      "displayName": "T Haruyama",
      "userId": "09851044792665346893"
     },
     "user_tz": -540
    },
    "id": "5595d187-cde3-4cee-b79c-559f7ed78521"
   },
   "outputs": [],
   "source": [
    "growth = [-4.2, 2.7, 0.9, 1.4, 0.2]"
   ]
  },
  {
   "cell_type": "markdown",
   "id": "e019da7f-8a20-4c92-84eb-c30b3828dcf1",
   "metadata": {
    "id": "e019da7f-8a20-4c92-84eb-c30b3828dcf1"
   },
   "source": [
    "### (1)"
   ]
  },
  {
   "cell_type": "code",
   "execution_count": 10,
   "id": "682c35cb-aafa-4637-94bb-e6ca1417b408",
   "metadata": {
    "colab": {
     "base_uri": "https://localhost:8080/"
    },
    "executionInfo": {
     "elapsed": 4,
     "status": "ok",
     "timestamp": 1751098481328,
     "user": {
      "displayName": "T Haruyama",
      "userId": "09851044792665346893"
     },
     "user_tz": -540
    },
    "id": "682c35cb-aafa-4637-94bb-e6ca1417b408",
    "outputId": "d14a671b-53fd-4397-a08b-da2234311795"
   },
   "outputs": [
    {
     "data": {
      "text/plain": [
       "6.9"
      ]
     },
     "execution_count": 10,
     "metadata": {},
     "output_type": "execute_result"
    }
   ],
   "source": [
    "max(growth) - min(growth)"
   ]
  },
  {
   "cell_type": "markdown",
   "id": "e4baaa12-0c6b-49dc-97fd-4f918794b617",
   "metadata": {
    "id": "e4baaa12-0c6b-49dc-97fd-4f918794b617"
   },
   "source": [
    "### (2)"
   ]
  },
  {
   "cell_type": "code",
   "execution_count": 11,
   "id": "85795f93-5bb3-4eae-941e-1f9487550e3f",
   "metadata": {
    "colab": {
     "base_uri": "https://localhost:8080/"
    },
    "executionInfo": {
     "elapsed": 4,
     "status": "ok",
     "timestamp": 1751098481332,
     "user": {
      "displayName": "T Haruyama",
      "userId": "09851044792665346893"
     },
     "user_tz": -540
    },
    "id": "85795f93-5bb3-4eae-941e-1f9487550e3f",
    "outputId": "35772acb-2604-4e60-aace-a8d48ec8328c"
   },
   "outputs": [
    {
     "data": {
      "text/plain": [
       "6.9"
      ]
     },
     "execution_count": 11,
     "metadata": {},
     "output_type": "execute_result"
    }
   ],
   "source": [
    "growth_sorted = sorted(growth)\n",
    "growth_sorted[-1] - growth_sorted[0]"
   ]
  },
  {
   "cell_type": "markdown",
   "id": "f03980d7-17d6-4c75-a184-812773ee4575",
   "metadata": {
    "id": "f03980d7-17d6-4c75-a184-812773ee4575"
   },
   "source": [
    "### (3)"
   ]
  },
  {
   "cell_type": "code",
   "execution_count": 12,
   "id": "44861ad8-6885-4e46-b303-d04c3427cb71",
   "metadata": {
    "colab": {
     "base_uri": "https://localhost:8080/"
    },
    "executionInfo": {
     "elapsed": 3,
     "status": "ok",
     "timestamp": 1751098481336,
     "user": {
      "displayName": "T Haruyama",
      "userId": "09851044792665346893"
     },
     "user_tz": -540
    },
    "id": "44861ad8-6885-4e46-b303-d04c3427cb71",
    "outputId": "60c8bbfd-19c1-46b8-882a-c59f3f622ef0"
   },
   "outputs": [
    {
     "name": "stdout",
     "output_type": "stream",
     "text": [
      "平均は0.2です。\n"
     ]
    }
   ],
   "source": [
    "avr = sum(growth) / len(growth)\n",
    "print(f\"平均は{avr}です。\")"
   ]
  },
  {
   "cell_type": "markdown",
   "id": "93d702a5-9f90-43d7-bd0d-9e83573c706a",
   "metadata": {
    "id": "93d702a5-9f90-43d7-bd0d-9e83573c706a"
   },
   "source": [
    "## 演習3"
   ]
  },
  {
   "cell_type": "markdown",
   "id": "e3158753-44ee-401a-98c7-a3f5b000612b",
   "metadata": {
    "id": "e3158753-44ee-401a-98c7-a3f5b000612b"
   },
   "source": [
    "### (1)"
   ]
  },
  {
   "cell_type": "code",
   "execution_count": 13,
   "id": "95afe61a-7b66-46ab-8973-c3666dc47385",
   "metadata": {
    "colab": {
     "base_uri": "https://localhost:8080/"
    },
    "executionInfo": {
     "elapsed": 10,
     "status": "ok",
     "timestamp": 1751098481346,
     "user": {
      "displayName": "T Haruyama",
      "userId": "09851044792665346893"
     },
     "user_tz": -540
    },
    "id": "95afe61a-7b66-46ab-8973-c3666dc47385",
    "outputId": "ec5950da-c8ca-4928-8c0c-7c28aab6b9bd"
   },
   "outputs": [
    {
     "data": {
      "text/plain": [
       "[2015, 2016, 2017, 2018, 2019, 2020, 2021, 2022, 2023, 2024, 2025]"
      ]
     },
     "execution_count": 13,
     "metadata": {},
     "output_type": "execute_result"
    }
   ],
   "source": [
    "list( range(2015, 2026) )"
   ]
  },
  {
   "cell_type": "markdown",
   "id": "df581778-8bc7-4ca2-bb75-24725ca772f8",
   "metadata": {
    "id": "df581778-8bc7-4ca2-bb75-24725ca772f8"
   },
   "source": [
    "### (2)"
   ]
  },
  {
   "cell_type": "code",
   "execution_count": 14,
   "id": "3ed1f21d-194a-4842-83cf-96ddb98a0165",
   "metadata": {
    "colab": {
     "base_uri": "https://localhost:8080/"
    },
    "executionInfo": {
     "elapsed": 45,
     "status": "ok",
     "timestamp": 1751098481397,
     "user": {
      "displayName": "T Haruyama",
      "userId": "09851044792665346893"
     },
     "user_tz": -540
    },
    "id": "3ed1f21d-194a-4842-83cf-96ddb98a0165",
    "outputId": "4b7b179e-e7ae-4aa0-af24-a06d8f744d86"
   },
   "outputs": [
    {
     "data": {
      "text/plain": [
       "(2010, 2012, 2014, 2016, 2018, 2020, 2022, 2024)"
      ]
     },
     "execution_count": 14,
     "metadata": {},
     "output_type": "execute_result"
    }
   ],
   "source": [
    "tuple( range(2010, 2026, 2) )"
   ]
  },
  {
   "cell_type": "markdown",
   "id": "09b3dde1-912e-4500-872a-fd152df6598e",
   "metadata": {
    "id": "09b3dde1-912e-4500-872a-fd152df6598e"
   },
   "source": [
    "### (3)"
   ]
  },
  {
   "cell_type": "code",
   "execution_count": 15,
   "id": "20d3c68c-b36c-4904-b870-48dff329e492",
   "metadata": {
    "colab": {
     "base_uri": "https://localhost:8080/"
    },
    "executionInfo": {
     "elapsed": 28,
     "status": "ok",
     "timestamp": 1751098481432,
     "user": {
      "displayName": "T Haruyama",
      "userId": "09851044792665346893"
     },
     "user_tz": -540
    },
    "id": "20d3c68c-b36c-4904-b870-48dff329e492",
    "outputId": "6dc94ec7-5059-484a-f1a3-49c90d793bb1"
   },
   "outputs": [
    {
     "data": {
      "text/plain": [
       "[1900, 1910, 1920, 1930, 1940, 1950, 1960, 1970, 1980, 1990, 2000, 2010, 2020]"
      ]
     },
     "execution_count": 15,
     "metadata": {},
     "output_type": "execute_result"
    }
   ],
   "source": [
    "list( range(1900, 2026, 10) )"
   ]
  },
  {
   "cell_type": "markdown",
   "id": "b5bbf348-39b1-4872-a180-048cd06bfe94",
   "metadata": {
    "id": "b5bbf348-39b1-4872-a180-048cd06bfe94"
   },
   "source": [
    "## 演習4"
   ]
  },
  {
   "cell_type": "markdown",
   "id": "fd8c9b92-8b07-4faf-8909-a33f85bdef29",
   "metadata": {
    "id": "fd8c9b92-8b07-4faf-8909-a33f85bdef29"
   },
   "source": [
    "### (1)"
   ]
  },
  {
   "cell_type": "code",
   "execution_count": 16,
   "id": "10d67d79-42ab-4b3d-a234-5474258ada95",
   "metadata": {
    "executionInfo": {
     "elapsed": 1,
     "status": "ok",
     "timestamp": 1751098481434,
     "user": {
      "displayName": "T Haruyama",
      "userId": "09851044792665346893"
     },
     "user_tz": -540
    },
    "id": "10d67d79-42ab-4b3d-a234-5474258ada95"
   },
   "outputs": [],
   "source": [
    "def disposable_income(income, tax):\n",
    "    return income - tax"
   ]
  },
  {
   "cell_type": "markdown",
   "id": "2637bb64-a67a-42a6-9344-68632fc0c3cb",
   "metadata": {
    "id": "2637bb64-a67a-42a6-9344-68632fc0c3cb"
   },
   "source": [
    "### (2)"
   ]
  },
  {
   "cell_type": "code",
   "execution_count": 17,
   "id": "94cfb8b1-85ce-44dd-a4da-5f21131b6c6c",
   "metadata": {
    "executionInfo": {
     "elapsed": 1,
     "status": "ok",
     "timestamp": 1751098481482,
     "user": {
      "displayName": "T Haruyama",
      "userId": "09851044792665346893"
     },
     "user_tz": -540
    },
    "id": "94cfb8b1-85ce-44dd-a4da-5f21131b6c6c"
   },
   "outputs": [],
   "source": [
    "def disposable_income(income, tax):\n",
    "    \"\"\"可処分所得を計算する。\n",
    "    引数：\n",
    "        income: 所得\n",
    "        tax: 所得税額\n",
    "    戻り値：\n",
    "        可処分所得\"\"\"\n",
    "    return income - tax"
   ]
  },
  {
   "cell_type": "markdown",
   "id": "d06cd2a0-de80-4f81-94b9-58ca42dc6e7b",
   "metadata": {
    "id": "d06cd2a0-de80-4f81-94b9-58ca42dc6e7b"
   },
   "source": [
    "### (3)"
   ]
  },
  {
   "cell_type": "code",
   "execution_count": 18,
   "id": "bcac4a80-a825-4702-bc8d-07a9885d1298",
   "metadata": {
    "colab": {
     "base_uri": "https://localhost:8080/"
    },
    "executionInfo": {
     "elapsed": 3,
     "status": "ok",
     "timestamp": 1751098481485,
     "user": {
      "displayName": "T Haruyama",
      "userId": "09851044792665346893"
     },
     "user_tz": -540
    },
    "id": "bcac4a80-a825-4702-bc8d-07a9885d1298",
    "outputId": "1f99a1c7-bb8f-4dea-c511-24ac4603136b"
   },
   "outputs": [
    {
     "name": "stdout",
     "output_type": "stream",
     "text": [
      "可処分所得は 470 万円\n"
     ]
    }
   ],
   "source": [
    "result = disposable_income(600, 130)\n",
    "print(f\"可処分所得は{result}万円\")"
   ]
  },
  {
   "cell_type": "markdown",
   "id": "da0bbe4c-a6bd-48ac-ab11-da5910fbd9aa",
   "metadata": {
    "id": "da0bbe4c-a6bd-48ac-ab11-da5910fbd9aa"
   },
   "source": [
    "### (4)"
   ]
  },
  {
   "cell_type": "code",
   "execution_count": 19,
   "id": "86e83396-c240-4ec3-871f-05173b3eff59",
   "metadata": {
    "colab": {
     "base_uri": "https://localhost:8080/"
    },
    "executionInfo": {
     "elapsed": 2,
     "status": "ok",
     "timestamp": 1751098481488,
     "user": {
      "displayName": "T Haruyama",
      "userId": "09851044792665346893"
     },
     "user_tz": -540
    },
    "id": "86e83396-c240-4ec3-871f-05173b3eff59",
    "outputId": "8f2aa028-feb1-4b5d-8459-6f0c87f21d06"
   },
   "outputs": [
    {
     "name": "stdout",
     "output_type": "stream",
     "text": [
      "Help on function disposable_income in module __main__:\n",
      "\n",
      "disposable_income(income, tax)\n",
      "    可処分所得を計算する。\n",
      "    引数：\n",
      "        income: 所得\n",
      "        tax: 所得税額\n",
      "    戻り値：\n",
      "        可処分所得\n",
      "\n"
     ]
    }
   ],
   "source": [
    "help(disposable_income)"
   ]
  },
  {
   "cell_type": "markdown",
   "id": "4b95c2b8-62ff-485a-b8af-8d8c660925f1",
   "metadata": {
    "id": "4b95c2b8-62ff-485a-b8af-8d8c660925f1"
   },
   "source": [
    "## 演習5"
   ]
  },
  {
   "cell_type": "markdown",
   "id": "95790969-df4b-4b97-95b7-38e8ac397d53",
   "metadata": {
    "id": "95790969-df4b-4b97-95b7-38e8ac397d53"
   },
   "source": [
    "### (1)"
   ]
  },
  {
   "cell_type": "code",
   "execution_count": 1,
   "id": "9048eb75-461a-4d53-b58c-4e07136e8db4",
   "metadata": {
    "executionInfo": {
     "elapsed": 0,
     "status": "ok",
     "timestamp": 1751098481489,
     "user": {
      "displayName": "T Haruyama",
      "userId": "09851044792665346893"
     },
     "user_tz": -540
    },
    "id": "9048eb75-461a-4d53-b58c-4e07136e8db4"
   },
   "outputs": [],
   "source": [
    "def present_value(future_value, rate=0.03, years=10):\n",
    "    pv = future_value / ( 1+rate )**years\n",
    "    return pv"
   ]
  },
  {
   "cell_type": "markdown",
   "id": "e6b107f3-0179-4a5e-af39-c56ba56a0132",
   "metadata": {
    "id": "e6b107f3-0179-4a5e-af39-c56ba56a0132"
   },
   "source": [
    "### (2)"
   ]
  },
  {
   "cell_type": "code",
   "execution_count": 4,
   "id": "f2759853-de1b-4640-aaa0-b7ab1bfd531c",
   "metadata": {
    "colab": {
     "base_uri": "https://localhost:8080/"
    },
    "executionInfo": {
     "elapsed": 3,
     "status": "ok",
     "timestamp": 1751098481493,
     "user": {
      "displayName": "T Haruyama",
      "userId": "09851044792665346893"
     },
     "user_tz": -540
    },
    "id": "f2759853-de1b-4640-aaa0-b7ab1bfd531c",
    "outputId": "b60f31fc-3b2c-4104-aaba-61fcfe3ea441"
   },
   "outputs": [
    {
     "name": "stdout",
     "output_type": "stream",
     "text": [
      "10年後の1億円の現在価値は74,409,391円です。\n"
     ]
    }
   ],
   "source": [
    "result = present_value(100_000_000)\n",
    "print(f\"10年後の1億円の現在価値は{result:,.0f}円です。\")\n",
    "\n",
    "# :の後のコンマ（,）は３桁ごとにカンマを入れることを指定します。\n",
    "# {}の中の最後にあるfは固定小数点数での表示を指定しています。fを削除して実行すると浮動小数点数で表示されます。"
   ]
  },
  {
   "cell_type": "markdown",
   "id": "b34f0c43-24ce-4d15-9816-fc35bba26e86",
   "metadata": {
    "id": "b34f0c43-24ce-4d15-9816-fc35bba26e86"
   },
   "source": [
    "### (3)"
   ]
  },
  {
   "cell_type": "code",
   "execution_count": 5,
   "id": "20dd93f0-7eec-4cd7-9d62-bb456f938e9c",
   "metadata": {
    "colab": {
     "base_uri": "https://localhost:8080/"
    },
    "executionInfo": {
     "elapsed": 10,
     "status": "ok",
     "timestamp": 1751098481510,
     "user": {
      "displayName": "T Haruyama",
      "userId": "09851044792665346893"
     },
     "user_tz": -540
    },
    "id": "20dd93f0-7eec-4cd7-9d62-bb456f938e9c",
    "outputId": "54602faa-03fd-496a-c5af-a890be8349b5"
   },
   "outputs": [
    {
     "data": {
      "text/plain": [
       "100000000.0"
      ]
     },
     "execution_count": 5,
     "metadata": {},
     "output_type": "execute_result"
    }
   ],
   "source": [
    "def future_value(x, r=0.03, t=10):\n",
    "    result = x * (1+r) ** t\n",
    "    return result\n",
    "\n",
    "future_value(result)"
   ]
  },
  {
   "cell_type": "code",
   "execution_count": 22,
   "id": "UFfNB2HkugXl",
   "metadata": {
    "executionInfo": {
     "elapsed": 1,
     "status": "ok",
     "timestamp": 1751098481563,
     "user": {
      "displayName": "T Haruyama",
      "userId": "09851044792665346893"
     },
     "user_tz": -540
    },
    "id": "UFfNB2HkugXl"
   },
   "outputs": [],
   "source": []
  }
 ],
 "metadata":{"kernelspec":{"display_name":"Python 3","name":"python3"},"language_info":{"name":"python"},"colab":{"provenance":[]}},
 "nbformat": 4,
 "nbformat_minor": 5
}
