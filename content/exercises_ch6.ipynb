{
 "cells": [
  {
   "cell_type": "markdown",
   "id": "0",
   "metadata": {
    "id": "06e6b4e8-cb9a-4ab4-abee-1790b50368a7"
   },
   "source": [
    "# 6章：演習問題の解答"
   ]
  },
  {
   "cell_type": "markdown",
   "id": "1",
   "metadata": {
    "id": "274441bc-a317-4508-86da-8724834057fd"
   },
   "source": [
    "## 演習1"
   ]
  },
  {
   "cell_type": "markdown",
   "id": "2",
   "metadata": {
    "id": "f71be12f-bee2-41d5-be44-3bcd264c02b4"
   },
   "source": [
    "### (1)"
   ]
  },
  {
   "cell_type": "code",
   "execution_count": null,
   "id": "3",
   "metadata": {
    "colab": {
     "base_uri": "https://localhost:8080/"
    },
    "executionInfo": {
     "elapsed": 12,
     "status": "ok",
     "timestamp": 1758078942250,
     "user": {
      "displayName": "T Haruyama",
      "userId": "09851044792665346893"
     },
     "user_tz": -540
    },
    "id": "1ebf4051-64f5-4a40-8f69-64519126e734",
    "outputId": "d1ae2578-6022-4900-c7a0-ca042bfa4a43"
   },
   "outputs": [],
   "source": [
    "inflation = 0\n",
    "\n",
    "if inflation > 0:\n",
    "    print(\"物価水準上昇：インフレ発生\")\n",
    "\n",
    "elif inflation < 0:\n",
    "    print(\"物価水準下落：デフレ発生\")\n",
    "\n",
    "else:\n",
    "    print(\"物価水準は一定\")"
   ]
  },
  {
   "cell_type": "markdown",
   "id": "4",
   "metadata": {
    "id": "c4fe7543-8f5a-42dd-b25f-8252ad4d4922"
   },
   "source": [
    "### (2)"
   ]
  },
  {
   "cell_type": "code",
   "execution_count": null,
   "id": "5",
   "metadata": {
    "colab": {
     "base_uri": "https://localhost:8080/"
    },
    "executionInfo": {
     "elapsed": 12,
     "status": "ok",
     "timestamp": 1758078942268,
     "user": {
      "displayName": "T Haruyama",
      "userId": "09851044792665346893"
     },
     "user_tz": -540
    },
    "id": "4b837f57-5fea-46e4-9648-9be3a9e607f8",
    "outputId": "2e7a788e-cb64-4c40-eafd-1452745f90c6"
   },
   "outputs": [],
   "source": [
    "def what_happens_to_price(inflation):\n",
    "\n",
    "    if inflation > 0:\n",
    "        print(\"物価水準上昇：インフレ発生\")\n",
    "\n",
    "    elif inflation < 0:\n",
    "        print(\"物価水準下落：デフレ発生\")\n",
    "\n",
    "    else:\n",
    "        print(\"物価水準は一定\")\n",
    "\n",
    "what_happens_to_price(10)"
   ]
  },
  {
   "cell_type": "markdown",
   "id": "6",
   "metadata": {
    "id": "8aa39dce-9112-4ba1-b35b-f6685f5bd3e1"
   },
   "source": [
    "### (3)"
   ]
  },
  {
   "cell_type": "code",
   "execution_count": null,
   "id": "7",
   "metadata": {
    "colab": {
     "base_uri": "https://localhost:8080/"
    },
    "executionInfo": {
     "elapsed": 5,
     "status": "ok",
     "timestamp": 1758078942340,
     "user": {
      "displayName": "T Haruyama",
      "userId": "09851044792665346893"
     },
     "user_tz": -540
    },
    "id": "b49dfc6b-99a0-4e1a-91e7-1fa04f8e8995",
    "outputId": "9371cabc-8051-4b2b-c68c-0c348233cebd"
   },
   "outputs": [],
   "source": [
    "def what_happens_to_price(inflation):\n",
    "\n",
    "    if inflation > 0:\n",
    "        print(f\"物価水準上昇：インフレ率は{inflation}%\")\n",
    "\n",
    "    elif inflation < 0:\n",
    "        print(f\"物価水準下落：インフレ率は{inflation}%\")\n",
    "\n",
    "    else:\n",
    "        print(\"物価水準は一定\")\n",
    "\n",
    "what_happens_to_price(5.12)"
   ]
  },
  {
   "cell_type": "markdown",
   "id": "8",
   "metadata": {
    "id": "6a9d24aa-0614-4d0c-8506-eb20351ed363"
   },
   "source": [
    "## 演習2"
   ]
  },
  {
   "cell_type": "code",
   "execution_count": null,
   "id": "9",
   "metadata": {
    "executionInfo": {
     "elapsed": 2,
     "status": "ok",
     "timestamp": 1758078942343,
     "user": {
      "displayName": "T Haruyama",
      "userId": "09851044792665346893"
     },
     "user_tz": -540
    },
    "id": "95e06a98-eae9-4978-a05d-e707a59c63fb"
   },
   "outputs": [],
   "source": [
    "prices = [12, 15, 13, 18, 20]"
   ]
  },
  {
   "cell_type": "markdown",
   "id": "10",
   "metadata": {
    "id": "d3f9bda5-e9d5-426d-895a-3b7c3f481889"
   },
   "source": [
    "### (1)"
   ]
  },
  {
   "cell_type": "code",
   "execution_count": null,
   "id": "11",
   "metadata": {
    "colab": {
     "base_uri": "https://localhost:8080/"
    },
    "executionInfo": {
     "elapsed": 2,
     "status": "ok",
     "timestamp": 1758078942349,
     "user": {
      "displayName": "T Haruyama",
      "userId": "09851044792665346893"
     },
     "user_tz": -540
    },
    "id": "9465c476-e492-487b-a99d-487fdff78427",
    "outputId": "ce0c8285-9419-485d-8b58-03ce13c6bad3"
   },
   "outputs": [],
   "source": [
    "pindex = []    # 価格指数を格納するリスト\n",
    "\n",
    "for p in prices:\n",
    "\n",
    "    idx = 100 * p / 13\n",
    "    pindex.append(idx)\n",
    "\n",
    "pindex"
   ]
  },
  {
   "cell_type": "markdown",
   "id": "12",
   "metadata": {
    "id": "b2b7092c-72a8-4a7e-be68-cfaa5b45564d"
   },
   "source": [
    "### (2)"
   ]
  },
  {
   "cell_type": "markdown",
   "id": "13",
   "metadata": {
    "id": "edce2c88-aeb8-42dc-938b-254693920a0e"
   },
   "source": [
    "* `prices[:-1]`：最後の要素を除いたリスト（「前期」の`prices`の値に使う）\n",
    "* `prices[1:]`：最初の要素を除いたリスト（「今期」の`prices`の値に使う）"
   ]
  },
  {
   "cell_type": "code",
   "execution_count": null,
   "id": "14",
   "metadata": {
    "colab": {
     "base_uri": "https://localhost:8080/"
    },
    "executionInfo": {
     "elapsed": 51,
     "status": "ok",
     "timestamp": 1758078942401,
     "user": {
      "displayName": "T Haruyama",
      "userId": "09851044792665346893"
     },
     "user_tz": -540
    },
    "id": "59e35fa2-b86b-4008-9cd6-524f783dfb84",
    "outputId": "141e082a-4d61-469b-82a1-d0d6a4000ce0"
   },
   "outputs": [],
   "source": [
    "# 方法1\n",
    "\n",
    "inflation = []\n",
    "\n",
    "for p0, p1 in zip(prices[:-1], prices[1:]):\n",
    "\n",
    "    res = p1/p0-1\n",
    "    inflation.append(res)\n",
    "\n",
    "inflation"
   ]
  },
  {
   "cell_type": "markdown",
   "id": "15",
   "metadata": {
    "id": "a533e677-03f3-4c74-b791-9ae2b7d71fba"
   },
   "source": [
    "次の方法もあるが，可読性と保守性が低いのが欠点となる。方法1が推奨される。"
   ]
  },
  {
   "cell_type": "code",
   "execution_count": null,
   "id": "16",
   "metadata": {
    "colab": {
     "base_uri": "https://localhost:8080/"
    },
    "executionInfo": {
     "elapsed": 59,
     "status": "ok",
     "timestamp": 1758078942464,
     "user": {
      "displayName": "T Haruyama",
      "userId": "09851044792665346893"
     },
     "user_tz": -540
    },
    "id": "4faf0b9d-a88b-4590-ac16-22fff9bf6473",
    "outputId": "4cf8bad7-2c32-46dc-c079-054a6af02a27"
   },
   "outputs": [],
   "source": [
    "# 方法2\n",
    "\n",
    "inflation = []\n",
    "\n",
    "for i in range( len(prices)-1 ):\n",
    "\n",
    "    res = prices[i+1]/prices[i]-1\n",
    "    inflation.append(res)\n",
    "\n",
    "inflation"
   ]
  },
  {
   "cell_type": "markdown",
   "id": "17",
   "metadata": {
    "id": "f84a4f1f-f76e-4cde-bdc7-9d1514a24e1e"
   },
   "source": [
    "### (3)"
   ]
  },
  {
   "cell_type": "code",
   "execution_count": null,
   "id": "18",
   "metadata": {
    "colab": {
     "base_uri": "https://localhost:8080/"
    },
    "executionInfo": {
     "elapsed": 17,
     "status": "ok",
     "timestamp": 1758078942482,
     "user": {
      "displayName": "T Haruyama",
      "userId": "09851044792665346893"
     },
     "user_tz": -540
    },
    "id": "c90d60a1-5722-4609-a3e3-35a2bf3bf096",
    "outputId": "b7c595b7-ccd4-41b0-9048-984f3a840640"
   },
   "outputs": [],
   "source": [
    "inflation = []\n",
    "\n",
    "for p0, p1 in zip(pindex[:-1], pindex[1:]):\n",
    "\n",
    "    res = p1/p0-1\n",
    "    inflation.append(res)\n",
    "\n",
    "inflation   #  結果は同じとなる"
   ]
  },
  {
   "cell_type": "markdown",
   "id": "19",
   "metadata": {
    "id": "6858109b-dec2-4630-97ec-673eb953ea9c"
   },
   "source": [
    "## 演習3"
   ]
  },
  {
   "cell_type": "markdown",
   "id": "20",
   "metadata": {
    "id": "09d8ea32-f79c-43f0-bf11-6363b9484b21"
   },
   "source": [
    "### (1)"
   ]
  },
  {
   "cell_type": "code",
   "execution_count": null,
   "id": "21",
   "metadata": {
    "colab": {
     "base_uri": "https://localhost:8080/"
    },
    "executionInfo": {
     "elapsed": 15,
     "status": "ok",
     "timestamp": 1758078942482,
     "user": {
      "displayName": "T Haruyama",
      "userId": "09851044792665346893"
     },
     "user_tz": -540
    },
    "id": "37e12ae9-c279-46e7-83f4-8a5107b2d8e0",
    "outputId": "5cbee58c-1329-484d-81eb-c2e281a5b735"
   },
   "outputs": [],
   "source": [
    "avr = sum(prices) / len(prices)\n",
    "\n",
    "[p - avr for p in prices]"
   ]
  },
  {
   "cell_type": "markdown",
   "id": "22",
   "metadata": {
    "id": "9d30e2cf-4892-4b59-bc63-37c413016977"
   },
   "source": [
    "### (2)"
   ]
  },
  {
   "cell_type": "code",
   "execution_count": null,
   "id": "23",
   "metadata": {
    "colab": {
     "base_uri": "https://localhost:8080/"
    },
    "executionInfo": {
     "elapsed": 10,
     "status": "ok",
     "timestamp": 1758078942482,
     "user": {
      "displayName": "T Haruyama",
      "userId": "09851044792665346893"
     },
     "user_tz": -540
    },
    "id": "fcab0f6f-53d7-4031-8d8d-b9919bf3b913",
    "outputId": "759dbdaf-52d4-435c-d98a-30a9571ac85d"
   },
   "outputs": [],
   "source": [
    "p_dev_squared = [(p-avr)**2 for p in prices]\n",
    "sum( p_dev_squared )"
   ]
  },
  {
   "cell_type": "markdown",
   "id": "24",
   "metadata": {
    "id": "e177ae27-1dd8-455c-9bf9-5e685379b2a2"
   },
   "source": [
    "### (3)"
   ]
  },
  {
   "cell_type": "code",
   "execution_count": null,
   "id": "25",
   "metadata": {
    "colab": {
     "base_uri": "https://localhost:8080/"
    },
    "executionInfo": {
     "elapsed": 8,
     "status": "ok",
     "timestamp": 1758078942483,
     "user": {
      "displayName": "T Haruyama",
      "userId": "09851044792665346893"
     },
     "user_tz": -540
    },
    "id": "ca1fc2e8-1c8c-4d50-80e6-ffdb6c040bee",
    "outputId": "141c75a0-0198-412a-9729-d3dea21fb952"
   },
   "outputs": [],
   "source": [
    "var = sum( p_dev_squared ) / ( len(prices)-1 )\n",
    "var"
   ]
  },
  {
   "cell_type": "markdown",
   "id": "26",
   "metadata": {
    "id": "debd656a-66be-4acc-97f9-e071c9544d4e"
   },
   "source": [
    "### (4)"
   ]
  },
  {
   "cell_type": "code",
   "execution_count": null,
   "id": "27",
   "metadata": {
    "colab": {
     "base_uri": "https://localhost:8080/"
    },
    "executionInfo": {
     "elapsed": 11,
     "status": "ok",
     "timestamp": 1758078942492,
     "user": {
      "displayName": "T Haruyama",
      "userId": "09851044792665346893"
     },
     "user_tz": -540
    },
    "id": "74a4b9ba-b748-44b8-a702-a73568f954b8",
    "outputId": "d726bec1-0927-4430-ffb1-0267379f4291"
   },
   "outputs": [],
   "source": [
    "var**(0.5)"
   ]
  },
  {
   "cell_type": "markdown",
   "id": "28",
   "metadata": {
    "id": "7517ad09-d2da-4872-9db7-ea76f1269b38"
   },
   "source": [
    "## 演習4"
   ]
  },
  {
   "cell_type": "markdown",
   "id": "29",
   "metadata": {
    "id": "e7d6de6a-2cf0-4f6c-9a17-dc7c948c9edd"
   },
   "source": [
    "### (1)"
   ]
  },
  {
   "cell_type": "code",
   "execution_count": null,
   "id": "30",
   "metadata": {
    "colab": {
     "base_uri": "https://localhost:8080/"
    },
    "executionInfo": {
     "elapsed": 5,
     "status": "ok",
     "timestamp": 1758078942497,
     "user": {
      "displayName": "T Haruyama",
      "userId": "09851044792665346893"
     },
     "user_tz": -540
    },
    "id": "4d8883e4-1e4a-454e-b8bb-05287183abcf",
    "outputId": "395667e9-b91e-46b5-9650-67c1934d6c19"
   },
   "outputs": [],
   "source": [
    "year = 0\n",
    "ngdp = 591_345.7\n",
    "debt = 1420_415.6\n",
    "\n",
    "g = 0.02\n",
    "\n",
    "while debt/ngdp > 1:\n",
    "\n",
    "    ngdp *= (1+g)\n",
    "    year += 1\n",
    "\n",
    "year"
   ]
  },
  {
   "cell_type": "markdown",
   "id": "31",
   "metadata": {
    "id": "acb5d06c-3214-40a6-abaf-13d69f138858"
   },
   "source": [
    "### (2)"
   ]
  },
  {
   "cell_type": "code",
   "execution_count": null,
   "id": "32",
   "metadata": {
    "colab": {
     "base_uri": "https://localhost:8080/"
    },
    "executionInfo": {
     "elapsed": 15,
     "status": "ok",
     "timestamp": 1758078942513,
     "user": {
      "displayName": "T Haruyama",
      "userId": "09851044792665346893"
     },
     "user_tz": -540
    },
    "id": "b0ad3ea5-075b-44a3-a6ca-dd082ec23475",
    "outputId": "b78e31bc-60ae-4c3c-e932-d20715198cbf"
   },
   "outputs": [],
   "source": [
    "year = 0\n",
    "ngdp = 591_345.7\n",
    "debt = 1420_415.6\n",
    "\n",
    "g = 0.02\n",
    "d = 0.01\n",
    "\n",
    "while debt/ngdp > 1:\n",
    "\n",
    "    debt *= (1+d)\n",
    "    ngdp *= (1+g)\n",
    "    year += 1\n",
    "\n",
    "year"
   ]
  },
  {
   "cell_type": "markdown",
   "id": "33",
   "metadata": {
    "id": "093ec4ab-2f34-4b59-a2bf-0572c42177f8"
   },
   "source": [
    "### (3)"
   ]
  },
  {
   "cell_type": "code",
   "execution_count": null,
   "id": "34",
   "metadata": {
    "colab": {
     "base_uri": "https://localhost:8080/"
    },
    "executionInfo": {
     "elapsed": 22,
     "status": "ok",
     "timestamp": 1758078942523,
     "user": {
      "displayName": "T Haruyama",
      "userId": "09851044792665346893"
     },
     "user_tz": -540
    },
    "id": "0b7a2156-cb27-487d-a37c-aa47b238b9a0",
    "outputId": "45a0eae7-87c0-4c04-c786-a8ae19529f6f"
   },
   "outputs": [],
   "source": [
    "def years_to_achieve_target(g, d, target):\n",
    "    \"\"\"\n",
    "    g: 名目GDPの成長率（>-1）\n",
    "    d: 政府負債の増加率（>-1）\n",
    "    target: 目標政府負債対名目GDP比（％，非負）\n",
    "    \"\"\"\n",
    "\n",
    "    year = 0\n",
    "    ngdp = 591_345.7\n",
    "    debt = 1420_415.6\n",
    "\n",
    "    while debt/ngdp > target/100:\n",
    "\n",
    "        debt *= ( 1+d )\n",
    "        ngdp *= ( 1+g )\n",
    "        year += 1\n",
    "\n",
    "    return year\n",
    "\n",
    "years_to_achieve_target(0.03, 0.01, 100)"
   ]
  },
  {
   "cell_type": "markdown",
   "id": "35",
   "metadata": {
    "id": "7437cb1a-ea03-40a5-b2a4-c66857f72009"
   },
   "source": [
    "上のコードでは`g>d`をとなるように引数を設定しています。\n",
    "\n",
    "下のコードは`g<=d`の場合であり，理論的には政府負債対名目GDP比は発散するため，無限ループに入るはずです。しかし，この場合，Pythonの浮動小数点演算の限界により`25172`と表示されています。補足すると，Pythonは15～17桁の精度がありますが，非常に大きい，または，非常に小さい数の割り算などで誤差が蓄積し，演算結果が理論上の真値とズレることがあります。"
   ]
  },
  {
   "cell_type": "code",
   "execution_count": null,
   "id": "36",
   "metadata": {
    "colab": {
     "base_uri": "https://localhost:8080/"
    },
    "executionInfo": {
     "elapsed": 14,
     "status": "ok",
     "timestamp": 1758078942531,
     "user": {
      "displayName": "T Haruyama",
      "userId": "09851044792665346893"
     },
     "user_tz": -540
    },
    "id": "7b599fdc-bc1a-47d2-8533-c2f17de29330",
    "outputId": "0f22cc9f-26fb-4c50-919a-99fd573c8f0d"
   },
   "outputs": [],
   "source": [
    "years_to_achieve_target(0.02, 0.03, 100)"
   ]
  },
  {
   "cell_type": "markdown",
   "id": "37",
   "metadata": {
    "id": "8292582a-bce1-4968-a4bb-6108969d1fe6"
   },
   "source": [
    "改良版として次のコードを書くことができます。"
   ]
  },
  {
   "cell_type": "code",
   "execution_count": null,
   "id": "38",
   "metadata": {
    "executionInfo": {
     "elapsed": 33,
     "status": "ok",
     "timestamp": 1758078942565,
     "user": {
      "displayName": "T Haruyama",
      "userId": "09851044792665346893"
     },
     "user_tz": -540
    },
    "id": "5380862f-fe01-4750-95a8-36060c8ced53"
   },
   "outputs": [],
   "source": [
    "def years_to_achieve_target_revised_1(g, d, target):\n",
    "    \"\"\"\n",
    "    g: 名目GDPの成長率\n",
    "    d: 政府負債の増加率\n",
    "    target: 目標政府負債対名目GDP比（％）\n",
    "    \"\"\"\n",
    "\n",
    "    year = 0\n",
    "    ngdp = 591_345.7\n",
    "    debt = 1420_415.6\n",
    "    initial_ratio = debt / ngdp\n",
    "\n",
    "    if initial_ratio <= target/100:\n",
    "        return \"targetはすでに達成されています。\"\n",
    "\n",
    "    elif g <= d:\n",
    "        return \"targetを達成することは不可能です。\"\n",
    "\n",
    "    while debt/ngdp > target/100:\n",
    "\n",
    "        debt *= ( 1+d )\n",
    "        ngdp *= ( 1+g )\n",
    "        year += 1\n",
    "\n",
    "    return year"
   ]
  },
  {
   "cell_type": "code",
   "execution_count": null,
   "id": "39",
   "metadata": {
    "colab": {
     "base_uri": "https://localhost:8080/"
    },
    "executionInfo": {
     "elapsed": 7,
     "status": "ok",
     "timestamp": 1758078942573,
     "user": {
      "displayName": "T Haruyama",
      "userId": "09851044792665346893"
     },
     "user_tz": -540
    },
    "id": "6af70bad-cb2a-491f-b63d-5cbb347d82f6",
    "outputId": "8d2d33a1-3d6e-4888-bf57-062c12d78e68"
   },
   "outputs": [],
   "source": [
    "# g > d　の場合\n",
    "\n",
    "years_to_achieve_target_revised_1(0.03, 0.01, 100)"
   ]
  },
  {
   "cell_type": "code",
   "execution_count": null,
   "id": "40",
   "metadata": {
    "colab": {
     "base_uri": "https://localhost:8080/",
     "height": 35
    },
    "executionInfo": {
     "elapsed": 17,
     "status": "ok",
     "timestamp": 1758078942591,
     "user": {
      "displayName": "T Haruyama",
      "userId": "09851044792665346893"
     },
     "user_tz": -540
    },
    "id": "3b44bcdf-956f-4377-a582-5195df63db83",
    "outputId": "3af58b9b-6ef1-48a4-9d3f-6aebea4739af"
   },
   "outputs": [],
   "source": [
    "# g>dの場合でターゲットの比率はすでに達成されている場合\n",
    "\n",
    "years_to_achieve_target_revised_1(0.03, 0.01, 350)"
   ]
  },
  {
   "cell_type": "code",
   "execution_count": null,
   "id": "41",
   "metadata": {
    "colab": {
     "base_uri": "https://localhost:8080/",
     "height": 35
    },
    "executionInfo": {
     "elapsed": 3,
     "status": "ok",
     "timestamp": 1758078942594,
     "user": {
      "displayName": "T Haruyama",
      "userId": "09851044792665346893"
     },
     "user_tz": -540
    },
    "id": "03449522-1d5b-41e1-8cb0-8797623769bc",
    "outputId": "8bddbba6-ce90-460b-d67f-95ef8a849d19"
   },
   "outputs": [],
   "source": [
    "# g<dの場合\n",
    "\n",
    "years_to_achieve_target_revised_1(0.03, 0.05, 50)"
   ]
  },
  {
   "cell_type": "code",
   "execution_count": null,
   "id": "42",
   "metadata": {
    "executionInfo": {
     "elapsed": 0,
     "status": "ok",
     "timestamp": 1758078942595,
     "user": {
      "displayName": "T Haruyama",
      "userId": "09851044792665346893"
     },
     "user_tz": -540
    },
    "id": "cd77b1f5-e0c2-4c74-8f17-de88ce80f764"
   },
   "outputs": [],
   "source": []
  }
 ],
 "metadata": {
  "colab": {
   "provenance": []
  },
  "kernelspec": {
   "display_name": "Python 3",
   "name": "python3"
  },
  "language_info": {
   "name": "python"
  }
 },
 "nbformat": 4,
 "nbformat_minor": 5
}
