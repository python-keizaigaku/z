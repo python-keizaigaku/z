{
 "cells": [
  {
   "cell_type": "markdown",
   "id": "06e6b4e8-cb9a-4ab4-abee-1790b50368a7",
   "metadata": {
    "id": "06e6b4e8-cb9a-4ab4-abee-1790b50368a7"
   },
   "source": [
    "# 6章：演習問題の解答"
   ]
  },
  {
   "cell_type": "markdown",
   "id": "274441bc-a317-4508-86da-8724834057fd",
   "metadata": {
    "id": "274441bc-a317-4508-86da-8724834057fd"
   },
   "source": [
    "## 演習1"
   ]
  },
  {
   "cell_type": "markdown",
   "id": "f71be12f-bee2-41d5-be44-3bcd264c02b4",
   "metadata": {
    "id": "f71be12f-bee2-41d5-be44-3bcd264c02b4"
   },
   "source": [
    "### (1)"
   ]
  },
  {
   "cell_type": "code",
   "execution_count": 26,
   "id": "1ebf4051-64f5-4a40-8f69-64519126e734",
   "metadata": {
    "colab": {
     "base_uri": "https://localhost:8080/"
    },
    "executionInfo": {
     "elapsed": 27,
     "status": "ok",
     "timestamp": 1751098617644,
     "user": {
      "displayName": "T Haruyama",
      "userId": "09851044792665346893"
     },
     "user_tz": -540
    },
    "id": "1ebf4051-64f5-4a40-8f69-64519126e734",
    "outputId": "c09616f9-3c9b-4268-ea1d-ab80884c67e5"
   },
   "outputs": [
    {
     "name": "stdout",
     "output_type": "stream",
     "text": [
      "物価水準は一定\n"
     ]
    }
   ],
   "source": [
    "inflation = 0\n",
    "\n",
    "if inflation > 0:\n",
    "    print(\"物価水準上昇：インフレ発生\")\n",
    "\n",
    "elif inflation < 0:\n",
    "    print(\"物価水準下落：デフレ発生\")\n",
    "\n",
    "else:\n",
    "    print(\"物価水準は一定\")"
   ]
  },
  {
   "cell_type": "markdown",
   "id": "c4fe7543-8f5a-42dd-b25f-8252ad4d4922",
   "metadata": {
    "id": "c4fe7543-8f5a-42dd-b25f-8252ad4d4922"
   },
   "source": [
    "### (2)"
   ]
  },
  {
   "cell_type": "code",
   "execution_count": 27,
   "id": "4b837f57-5fea-46e4-9648-9be3a9e607f8",
   "metadata": {
    "colab": {
     "base_uri": "https://localhost:8080/"
    },
    "executionInfo": {
     "elapsed": 4,
     "status": "ok",
     "timestamp": 1751098617647,
     "user": {
      "displayName": "T Haruyama",
      "userId": "09851044792665346893"
     },
     "user_tz": -540
    },
    "id": "4b837f57-5fea-46e4-9648-9be3a9e607f8",
    "outputId": "109c4e9e-b42d-4cb1-c429-dc5d89063bcc"
   },
   "outputs": [
    {
     "name": "stdout",
     "output_type": "stream",
     "text": [
      "物価水準上昇：インフレ発生\n"
     ]
    }
   ],
   "source": [
    "def what_happens_to_price(inflation):\n",
    "\n",
    "    if inflation > 0:\n",
    "        print(\"物価水準上昇：インフレ発生\")\n",
    "\n",
    "    elif inflation < 0:\n",
    "        print(\"物価水準下落：デフレ発生\")\n",
    "\n",
    "    else:\n",
    "        print(\"物価水準は一定\")\n",
    "\n",
    "what_happens_to_price(10)"
   ]
  },
  {
   "cell_type": "markdown",
   "id": "8aa39dce-9112-4ba1-b35b-f6685f5bd3e1",
   "metadata": {
    "id": "8aa39dce-9112-4ba1-b35b-f6685f5bd3e1"
   },
   "source": [
    "### (3)"
   ]
  },
  {
   "cell_type": "code",
   "execution_count": 4,
   "id": "b49dfc6b-99a0-4e1a-91e7-1fa04f8e8995",
   "metadata": {
    "colab": {
     "base_uri": "https://localhost:8080/"
    },
    "executionInfo": {
     "elapsed": 32,
     "status": "ok",
     "timestamp": 1751098617680,
     "user": {
      "displayName": "T Haruyama",
      "userId": "09851044792665346893"
     },
     "user_tz": -540
    },
    "id": "b49dfc6b-99a0-4e1a-91e7-1fa04f8e8995",
    "outputId": "207b5590-3164-4413-c8d0-37705c674a35"
   },
   "outputs": [
    {
     "name": "stdout",
     "output_type": "stream",
     "text": [
      "物価水準上昇：インフレ率は5.12%\n"
     ]
    }
   ],
   "source": [
    "def what_happens_to_price(inflation):\n",
    "\n",
    "    if inflation > 0:\n",
    "        print(f\"物価水準上昇：インフレ率は{inflation}%\")\n",
    "\n",
    "    elif inflation < 0:\n",
    "        print(f\"物価水準下落：インフレ率は{inflation}%\")\n",
    "\n",
    "    else:\n",
    "        print(\"物価水準は一定\")\n",
    "\n",
    "what_happens_to_price(5.12)"
   ]
  },
  {
   "cell_type": "markdown",
   "id": "6a9d24aa-0614-4d0c-8506-eb20351ed363",
   "metadata": {
    "id": "6a9d24aa-0614-4d0c-8506-eb20351ed363"
   },
   "source": [
    "## 演習2"
   ]
  },
  {
   "cell_type": "code",
   "execution_count": 29,
   "id": "95e06a98-eae9-4978-a05d-e707a59c63fb",
   "metadata": {
    "executionInfo": {
     "elapsed": 21,
     "status": "ok",
     "timestamp": 1751098617702,
     "user": {
      "displayName": "T Haruyama",
      "userId": "09851044792665346893"
     },
     "user_tz": -540
    },
    "id": "95e06a98-eae9-4978-a05d-e707a59c63fb"
   },
   "outputs": [],
   "source": [
    "prices = [12, 15, 13, 18, 20]"
   ]
  },
  {
   "cell_type": "markdown",
   "id": "d3f9bda5-e9d5-426d-895a-3b7c3f481889",
   "metadata": {
    "id": "d3f9bda5-e9d5-426d-895a-3b7c3f481889"
   },
   "source": [
    "### (1)"
   ]
  },
  {
   "cell_type": "code",
   "execution_count": 30,
   "id": "9465c476-e492-487b-a99d-487fdff78427",
   "metadata": {
    "colab": {
     "base_uri": "https://localhost:8080/"
    },
    "executionInfo": {
     "elapsed": 19,
     "status": "ok",
     "timestamp": 1751098617703,
     "user": {
      "displayName": "T Haruyama",
      "userId": "09851044792665346893"
     },
     "user_tz": -540
    },
    "id": "9465c476-e492-487b-a99d-487fdff78427",
    "outputId": "f1ccf9a4-80be-4bae-fb67-92b50991a071"
   },
   "outputs": [
    {
     "data": {
      "text/plain": [
       "[92.3076923076923,\n",
       " 115.38461538461539,\n",
       " 100.0,\n",
       " 138.46153846153845,\n",
       " 153.84615384615384]"
      ]
     },
     "execution_count": 30,
     "metadata": {},
     "output_type": "execute_result"
    }
   ],
   "source": [
    "pindex = []    # 価格指数を格納するリスト\n",
    "\n",
    "for p in prices:\n",
    "\n",
    "    idx = 100 * p / 13\n",
    "    pindex.append(idx)\n",
    "\n",
    "pindex"
   ]
  },
  {
   "cell_type": "markdown",
   "id": "b2b7092c-72a8-4a7e-be68-cfaa5b45564d",
   "metadata": {
    "id": "b2b7092c-72a8-4a7e-be68-cfaa5b45564d"
   },
   "source": [
    "### (2)"
   ]
  },
  {
   "cell_type": "markdown",
   "id": "edce2c88-aeb8-42dc-938b-254693920a0e",
   "metadata": {},
   "source": [
    "* `prices[:-1]`：最後の要素を除いたリスト（「今期」の`prices`の値に使う）\n",
    "* `prices[1:]`：最初の要素を除いたリスト（「次期」の`prices`の値に使う）"
   ]
  },
  {
   "cell_type": "code",
   "execution_count": 31,
   "id": "59e35fa2-b86b-4008-9cd6-524f783dfb84",
   "metadata": {
    "colab": {
     "base_uri": "https://localhost:8080/"
    },
    "executionInfo": {
     "elapsed": 15,
     "status": "ok",
     "timestamp": 1751098617703,
     "user": {
      "displayName": "T Haruyama",
      "userId": "09851044792665346893"
     },
     "user_tz": -540
    },
    "id": "59e35fa2-b86b-4008-9cd6-524f783dfb84",
    "outputId": "c150791a-9add-4be5-ff8a-993f6aa6864e"
   },
   "outputs": [
    {
     "data": {
      "text/plain": [
       "[0.25, -0.1333333333333333, 0.3846153846153846, 0.11111111111111116]"
      ]
     },
     "execution_count": 31,
     "metadata": {},
     "output_type": "execute_result"
    }
   ],
   "source": [
    "# 方法1\n",
    "\n",
    "inflation = []\n",
    "\n",
    "for p0, p1 in zip(prices[:-1], prices[1:]):\n",
    "\n",
    "    res = p1/p0-1\n",
    "    inflation.append(res)\n",
    "\n",
    "inflation"
   ]
  },
  {
   "cell_type": "markdown",
   "id": "a533e677-03f3-4c74-b791-9ae2b7d71fba",
   "metadata": {
    "id": "a533e677-03f3-4c74-b791-9ae2b7d71fba"
   },
   "source": [
    "次の方法もあるが，可読性と保守性が低いのが欠点となる。方法1が推奨される。"
   ]
  },
  {
   "cell_type": "code",
   "execution_count": 32,
   "id": "4faf0b9d-a88b-4590-ac16-22fff9bf6473",
   "metadata": {
    "colab": {
     "base_uri": "https://localhost:8080/"
    },
    "executionInfo": {
     "elapsed": 7,
     "status": "ok",
     "timestamp": 1751098617703,
     "user": {
      "displayName": "T Haruyama",
      "userId": "09851044792665346893"
     },
     "user_tz": -540
    },
    "id": "4faf0b9d-a88b-4590-ac16-22fff9bf6473",
    "outputId": "bf2cce7b-aef2-4bc8-8d1d-b324fabb42af"
   },
   "outputs": [
    {
     "data": {
      "text/plain": [
       "[0.25, -0.1333333333333333, 0.3846153846153846, 0.11111111111111116]"
      ]
     },
     "execution_count": 32,
     "metadata": {},
     "output_type": "execute_result"
    }
   ],
   "source": [
    "# 方法2\n",
    "\n",
    "inflation = []\n",
    "\n",
    "for i in range( len(prices)-1 ):\n",
    "\n",
    "    res = prices[i+1]/prices[i]-1\n",
    "    inflation.append(res)\n",
    "\n",
    "inflation"
   ]
  },
  {
   "cell_type": "markdown",
   "id": "f84a4f1f-f76e-4cde-bdc7-9d1514a24e1e",
   "metadata": {
    "id": "f84a4f1f-f76e-4cde-bdc7-9d1514a24e1e"
   },
   "source": [
    "### (3)"
   ]
  },
  {
   "cell_type": "code",
   "execution_count": 33,
   "id": "c90d60a1-5722-4609-a3e3-35a2bf3bf096",
   "metadata": {
    "colab": {
     "base_uri": "https://localhost:8080/"
    },
    "executionInfo": {
     "elapsed": 32,
     "status": "ok",
     "timestamp": 1751098617736,
     "user": {
      "displayName": "T Haruyama",
      "userId": "09851044792665346893"
     },
     "user_tz": -540
    },
    "id": "c90d60a1-5722-4609-a3e3-35a2bf3bf096",
    "outputId": "c9f3899f-89f1-4def-bde5-52c47c86bee7"
   },
   "outputs": [
    {
     "data": {
      "text/plain": [
       "[0.25, -0.1333333333333333, 0.3846153846153846, 0.11111111111111116]"
      ]
     },
     "execution_count": 33,
     "metadata": {},
     "output_type": "execute_result"
    }
   ],
   "source": [
    "inflation = []\n",
    "\n",
    "for p0, p1 in zip(pindex[:-1], pindex[1:]):\n",
    "\n",
    "    res = p1/p0-1\n",
    "    inflation.append(res)\n",
    "\n",
    "inflation   #  結果は同じとなる"
   ]
  },
  {
   "cell_type": "markdown",
   "id": "6858109b-dec2-4630-97ec-673eb953ea9c",
   "metadata": {
    "id": "6858109b-dec2-4630-97ec-673eb953ea9c"
   },
   "source": [
    "## 演習3"
   ]
  },
  {
   "cell_type": "markdown",
   "id": "09d8ea32-f79c-43f0-bf11-6363b9484b21",
   "metadata": {
    "id": "09d8ea32-f79c-43f0-bf11-6363b9484b21"
   },
   "source": [
    "### (1)"
   ]
  },
  {
   "cell_type": "code",
   "execution_count": 34,
   "id": "37e12ae9-c279-46e7-83f4-8a5107b2d8e0",
   "metadata": {
    "colab": {
     "base_uri": "https://localhost:8080/"
    },
    "executionInfo": {
     "elapsed": 12,
     "status": "ok",
     "timestamp": 1751098617737,
     "user": {
      "displayName": "T Haruyama",
      "userId": "09851044792665346893"
     },
     "user_tz": -540
    },
    "id": "37e12ae9-c279-46e7-83f4-8a5107b2d8e0",
    "outputId": "96b48f84-1645-4a09-8ed6-222d7455e959"
   },
   "outputs": [
    {
     "data": {
      "text/plain": [
       "[-3.5999999999999996,\n",
       " -0.5999999999999996,\n",
       " -2.5999999999999996,\n",
       " 2.4000000000000004,\n",
       " 4.4]"
      ]
     },
     "execution_count": 34,
     "metadata": {},
     "output_type": "execute_result"
    }
   ],
   "source": [
    "avr = sum(prices) / len(prices)\n",
    "\n",
    "[p - avr for p in prices]"
   ]
  },
  {
   "cell_type": "markdown",
   "id": "9d30e2cf-4892-4b59-bc63-37c413016977",
   "metadata": {
    "id": "9d30e2cf-4892-4b59-bc63-37c413016977"
   },
   "source": [
    "### (2)"
   ]
  },
  {
   "cell_type": "code",
   "execution_count": 35,
   "id": "fcab0f6f-53d7-4031-8d8d-b9919bf3b913",
   "metadata": {
    "colab": {
     "base_uri": "https://localhost:8080/"
    },
    "executionInfo": {
     "elapsed": 9,
     "status": "ok",
     "timestamp": 1751098617737,
     "user": {
      "displayName": "T Haruyama",
      "userId": "09851044792665346893"
     },
     "user_tz": -540
    },
    "id": "fcab0f6f-53d7-4031-8d8d-b9919bf3b913",
    "outputId": "440507d9-d062-4470-db79-4a815641f836"
   },
   "outputs": [
    {
     "data": {
      "text/plain": [
       "45.2"
      ]
     },
     "execution_count": 35,
     "metadata": {},
     "output_type": "execute_result"
    }
   ],
   "source": [
    "p_dev_squared = [(p-avr)**2 for p in prices]\n",
    "sum( p_dev_squared )"
   ]
  },
  {
   "cell_type": "markdown",
   "id": "e177ae27-1dd8-455c-9bf9-5e685379b2a2",
   "metadata": {
    "id": "e177ae27-1dd8-455c-9bf9-5e685379b2a2"
   },
   "source": [
    "### (3)"
   ]
  },
  {
   "cell_type": "code",
   "execution_count": 36,
   "id": "ca1fc2e8-1c8c-4d50-80e6-ffdb6c040bee",
   "metadata": {
    "colab": {
     "base_uri": "https://localhost:8080/"
    },
    "executionInfo": {
     "elapsed": 6,
     "status": "ok",
     "timestamp": 1751098617737,
     "user": {
      "displayName": "T Haruyama",
      "userId": "09851044792665346893"
     },
     "user_tz": -540
    },
    "id": "ca1fc2e8-1c8c-4d50-80e6-ffdb6c040bee",
    "outputId": "c954a9bc-1d6c-4113-d068-ff7f9aae555a"
   },
   "outputs": [
    {
     "data": {
      "text/plain": [
       "11.3"
      ]
     },
     "execution_count": 36,
     "metadata": {},
     "output_type": "execute_result"
    }
   ],
   "source": [
    "var = sum( p_dev_squared ) / ( len(prices)-1 )\n",
    "var"
   ]
  },
  {
   "cell_type": "markdown",
   "id": "debd656a-66be-4acc-97f9-e071c9544d4e",
   "metadata": {
    "id": "debd656a-66be-4acc-97f9-e071c9544d4e"
   },
   "source": [
    "### (4)"
   ]
  },
  {
   "cell_type": "code",
   "execution_count": 37,
   "id": "74a4b9ba-b748-44b8-a702-a73568f954b8",
   "metadata": {
    "colab": {
     "base_uri": "https://localhost:8080/"
    },
    "executionInfo": {
     "elapsed": 3,
     "status": "ok",
     "timestamp": 1751098617737,
     "user": {
      "displayName": "T Haruyama",
      "userId": "09851044792665346893"
     },
     "user_tz": -540
    },
    "id": "74a4b9ba-b748-44b8-a702-a73568f954b8",
    "outputId": "fdf781ad-9eb4-494d-954b-4cd07bbb12d8"
   },
   "outputs": [
    {
     "data": {
      "text/plain": [
       "3.361547262794322"
      ]
     },
     "execution_count": 37,
     "metadata": {},
     "output_type": "execute_result"
    }
   ],
   "source": [
    "var**(0.5)"
   ]
  },
  {
   "cell_type": "markdown",
   "id": "7517ad09-d2da-4872-9db7-ea76f1269b38",
   "metadata": {
    "id": "7517ad09-d2da-4872-9db7-ea76f1269b38"
   },
   "source": [
    "## 演習4"
   ]
  },
  {
   "cell_type": "markdown",
   "id": "e7d6de6a-2cf0-4f6c-9a17-dc7c948c9edd",
   "metadata": {
    "id": "e7d6de6a-2cf0-4f6c-9a17-dc7c948c9edd"
   },
   "source": [
    "### (1)"
   ]
  },
  {
   "cell_type": "code",
   "execution_count": 5,
   "id": "4d8883e4-1e4a-454e-b8bb-05287183abcf",
   "metadata": {
    "colab": {
     "base_uri": "https://localhost:8080/"
    },
    "executionInfo": {
     "elapsed": 12,
     "status": "ok",
     "timestamp": 1751098617755,
     "user": {
      "displayName": "T Haruyama",
      "userId": "09851044792665346893"
     },
     "user_tz": -540
    },
    "id": "4d8883e4-1e4a-454e-b8bb-05287183abcf",
    "outputId": "5adeef89-72d7-4d6b-e138-2f5a4baae0f7"
   },
   "outputs": [
    {
     "data": {
      "text/plain": [
       "45"
      ]
     },
     "execution_count": 5,
     "metadata": {},
     "output_type": "execute_result"
    }
   ],
   "source": [
    "year = 0\n",
    "ngdp = 591_345.7\n",
    "debt = 1420_415.6\n",
    "\n",
    "g = 0.02\n",
    "\n",
    "while debt/ngdp > 1:\n",
    "\n",
    "    ngdp *= (1+g)\n",
    "    year += 1\n",
    "\n",
    "year"
   ]
  },
  {
   "cell_type": "markdown",
   "id": "acb5d06c-3214-40a6-abaf-13d69f138858",
   "metadata": {
    "id": "acb5d06c-3214-40a6-abaf-13d69f138858"
   },
   "source": [
    "### (2)"
   ]
  },
  {
   "cell_type": "code",
   "execution_count": 6,
   "id": "b0ad3ea5-075b-44a3-a6ca-dd082ec23475",
   "metadata": {
    "colab": {
     "base_uri": "https://localhost:8080/"
    },
    "executionInfo": {
     "elapsed": 8,
     "status": "ok",
     "timestamp": 1751098617767,
     "user": {
      "displayName": "T Haruyama",
      "userId": "09851044792665346893"
     },
     "user_tz": -540
    },
    "id": "b0ad3ea5-075b-44a3-a6ca-dd082ec23475",
    "outputId": "1cc700b9-7865-4569-fec3-0587d4b4d252"
   },
   "outputs": [
    {
     "data": {
      "text/plain": [
       "89"
      ]
     },
     "execution_count": 6,
     "metadata": {},
     "output_type": "execute_result"
    }
   ],
   "source": [
    "year = 0\n",
    "ngdp = 591_345.7\n",
    "debt = 1420_415.6\n",
    "\n",
    "g = 0.02\n",
    "d = 0.01\n",
    "\n",
    "while debt/ngdp > 1:\n",
    "\n",
    "    debt *= (1+d)\n",
    "    ngdp *= (1+g)\n",
    "    year += 1\n",
    "\n",
    "year"
   ]
  },
  {
   "cell_type": "markdown",
   "id": "093ec4ab-2f34-4b59-a2bf-0572c42177f8",
   "metadata": {
    "id": "093ec4ab-2f34-4b59-a2bf-0572c42177f8"
   },
   "source": [
    "### (3)"
   ]
  },
  {
   "cell_type": "code",
   "execution_count": 59,
   "id": "0b7a2156-cb27-487d-a37c-aa47b238b9a0",
   "metadata": {
    "colab": {
     "base_uri": "https://localhost:8080/"
    },
    "executionInfo": {
     "elapsed": 6,
     "status": "ok",
     "timestamp": 1751098617768,
     "user": {
      "displayName": "T Haruyama",
      "userId": "09851044792665346893"
     },
     "user_tz": -540
    },
    "id": "0b7a2156-cb27-487d-a37c-aa47b238b9a0",
    "outputId": "4a44ff5a-a114-4b99-a79c-5465863c668d"
   },
   "outputs": [
    {
     "data": {
      "text/plain": [
       "45"
      ]
     },
     "execution_count": 59,
     "metadata": {},
     "output_type": "execute_result"
    }
   ],
   "source": [
    "def years_to_achieve_target(g, d, target):\n",
    "    \"\"\"\n",
    "    g: 名目GDPの成長率（>-1）\n",
    "    d: 政府負債の増加率（>-1）\n",
    "    target: 目標政府負債対名目GDP比（％，非負）\n",
    "    \"\"\"\n",
    "\n",
    "    year = 0\n",
    "    ngdp = 591_345.7\n",
    "    debt = 1420_415.6\n",
    "\n",
    "    while debt/ngdp > target/100:\n",
    "\n",
    "        debt *= ( 1+d )\n",
    "        ngdp *= ( 1+g )\n",
    "        year += 1\n",
    "\n",
    "    return year\n",
    "\n",
    "years_to_achieve_target(0.03, 0.01, 100)"
   ]
  },
  {
   "cell_type": "markdown",
   "id": "7437cb1a-ea03-40a5-b2a4-c66857f72009",
   "metadata": {
    "id": "7437cb1a-ea03-40a5-b2a4-c66857f72009"
   },
   "source": [
    "上のコードでは`g>d`をとなるように引数を設定しています。\n",
    "\n",
    "下のコードは`g<=d`の場合であり，理論的には政府負債対名目GDP比は発散するため，無限ループに入るはずです。しかし，この場合，Pythonの浮動小数点演算の限界により`25172`と表示されています。補足すると，Pythonは15～17桁の精度がありますが，非常に大きい，または，非常に小さい数の割り算などで誤差が蓄積し，演算結果が理論上の真値とズレることがあります。"
   ]
  },
  {
   "cell_type": "code",
   "execution_count": 28,
   "id": "7b599fdc-bc1a-47d2-8533-c2f17de29330",
   "metadata": {
    "colab": {
     "base_uri": "https://localhost:8080/"
    },
    "executionInfo": {
     "elapsed": 3,
     "status": "ok",
     "timestamp": 1751098617768,
     "user": {
      "displayName": "T Haruyama",
      "userId": "09851044792665346893"
     },
     "user_tz": -540
    },
    "id": "7b599fdc-bc1a-47d2-8533-c2f17de29330",
    "outputId": "e232f914-964c-4299-c0a2-b1f08cfeeba6"
   },
   "outputs": [
    {
     "data": {
      "text/plain": [
       "35172"
      ]
     },
     "execution_count": 28,
     "metadata": {},
     "output_type": "execute_result"
    }
   ],
   "source": [
    "years_to_achieve_target(0.02, 0.03, 100)"
   ]
  },
  {
   "cell_type": "markdown",
   "id": "8292582a-bce1-4968-a4bb-6108969d1fe6",
   "metadata": {
    "id": "8292582a-bce1-4968-a4bb-6108969d1fe6"
   },
   "source": [
    "改良版として次のコードを書くことができます。"
   ]
  },
  {
   "cell_type": "code",
   "execution_count": 60,
   "id": "5380862f-fe01-4750-95a8-36060c8ced53",
   "metadata": {
    "executionInfo": {
     "elapsed": 8,
     "status": "ok",
     "timestamp": 1751098617776,
     "user": {
      "displayName": "T Haruyama",
      "userId": "09851044792665346893"
     },
     "user_tz": -540
    },
    "id": "5380862f-fe01-4750-95a8-36060c8ced53"
   },
   "outputs": [],
   "source": [
    "def years_to_achieve_target_revised_1(g, d, target):\n",
    "    \"\"\"\n",
    "    g: 名目GDPの成長率\n",
    "    d: 政府負債の増加率\n",
    "    target: 目標政府負債対名目GDP比（％）\n",
    "    \"\"\"\n",
    "    \n",
    "    year = 0\n",
    "    ngdp = 591_345.7\n",
    "    debt = 1420_415.6\n",
    "    initial_ratio = debt / ngdp\n",
    "\n",
    "    if initial_ratio <= target/100:\n",
    "        return \"targetはすでに達成されています。\"\n",
    "\n",
    "    elif g <= d:\n",
    "        return \"targetを達成することは不可能です。\"\n",
    "\n",
    "    while debt/ngdp > target/100:\n",
    "\n",
    "        debt *= ( 1+d )\n",
    "        ngdp *= ( 1+g )\n",
    "        year += 1\n",
    "\n",
    "    return year"
   ]
  },
  {
   "cell_type": "code",
   "execution_count": 61,
   "id": "6af70bad-cb2a-491f-b63d-5cbb347d82f6",
   "metadata": {
    "colab": {
     "base_uri": "https://localhost:8080/"
    },
    "executionInfo": {
     "elapsed": 11,
     "status": "ok",
     "timestamp": 1751098617788,
     "user": {
      "displayName": "T Haruyama",
      "userId": "09851044792665346893"
     },
     "user_tz": -540
    },
    "id": "6af70bad-cb2a-491f-b63d-5cbb347d82f6",
    "outputId": "61cf9303-1b84-4fe8-8ee7-9b5024634019"
   },
   "outputs": [
    {
     "data": {
      "text/plain": [
       "45"
      ]
     },
     "execution_count": 61,
     "metadata": {},
     "output_type": "execute_result"
    }
   ],
   "source": [
    "# g > d　の場合\n",
    "\n",
    "years_to_achieve_target_revised_1(0.03, 0.01, 100)"
   ]
  },
  {
   "cell_type": "code",
   "execution_count": 62,
   "id": "3b44bcdf-956f-4377-a582-5195df63db83",
   "metadata": {
    "colab": {
     "base_uri": "https://localhost:8080/",
     "height": 35
    },
    "executionInfo": {
     "elapsed": 3,
     "status": "ok",
     "timestamp": 1751098617790,
     "user": {
      "displayName": "T Haruyama",
      "userId": "09851044792665346893"
     },
     "user_tz": -540
    },
    "id": "3b44bcdf-956f-4377-a582-5195df63db83",
    "outputId": "11a05eaf-e786-4a6e-b7e7-4185ac5b8baf"
   },
   "outputs": [
    {
     "data": {
      "text/plain": [
       "'targetはすでに達成されています。'"
      ]
     },
     "execution_count": 62,
     "metadata": {},
     "output_type": "execute_result"
    }
   ],
   "source": [
    "# g>dの場合でターゲットの比率はすでに達成されている場合\n",
    "\n",
    "years_to_achieve_target_revised_1(0.03, 0.01, 350)"
   ]
  },
  {
   "cell_type": "code",
   "execution_count": 63,
   "id": "03449522-1d5b-41e1-8cb0-8797623769bc",
   "metadata": {
    "colab": {
     "base_uri": "https://localhost:8080/",
     "height": 35
    },
    "executionInfo": {
     "elapsed": 34,
     "status": "ok",
     "timestamp": 1751098617824,
     "user": {
      "displayName": "T Haruyama",
      "userId": "09851044792665346893"
     },
     "user_tz": -540
    },
    "id": "03449522-1d5b-41e1-8cb0-8797623769bc",
    "outputId": "1dbf32c4-8a15-46fc-f301-ce4cb8cc440f"
   },
   "outputs": [
    {
     "data": {
      "text/plain": [
       "'targetを達成することは不可能です。'"
      ]
     },
     "execution_count": 63,
     "metadata": {},
     "output_type": "execute_result"
    }
   ],
   "source": [
    "# g<dの場合\n",
    "\n",
    "years_to_achieve_target_revised_1(0.03, 0.05, 50)"
   ]
  },
  {
   "cell_type": "code",
   "execution_count": null,
   "id": "cd77b1f5-e0c2-4c74-8f17-de88ce80f764",
   "metadata": {},
   "outputs": [],
   "source": []
  }
 ],
 "metadata":{"kernelspec":{"display_name":"Python 3","name":"python3"},"language_info":{"name":"python"},"colab":{"provenance":[]}},
 "nbformat": 4,
 "nbformat_minor": 5
}
