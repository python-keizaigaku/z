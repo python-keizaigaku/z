{
 "cells": [
  {
   "cell_type": "markdown",
   "id": "0b7a35f1-7cf4-48b4-a3c8-1d1aeb5f89b3",
   "metadata": {
    "id": "0b7a35f1-7cf4-48b4-a3c8-1d1aeb5f89b3"
   },
   "source": [
    "# 第13章　回帰分析"
   ]
  },
  {
   "cell_type": "markdown",
   "id": "Pueh8FfhrizO",
   "metadata": {
    "id": "Pueh8FfhrizO"
   },
   "source": [
    "## はじめに"
   ]
  },
  {
   "cell_type": "code",
   "execution_count": 1,
   "id": "5289c6b1-06b3-4adf-9528-b012524a580e",
   "metadata": {
    "colab": {
     "base_uri": "https://localhost:8080/"
    },
    "executionInfo": {
     "elapsed": 11371,
     "status": "ok",
     "timestamp": 1751100606990,
     "user": {
      "displayName": "T Haruyama",
      "userId": "09851044792665346893"
     },
     "user_tz": -540
    },
    "id": "5289c6b1-06b3-4adf-9528-b012524a580e",
    "outputId": "ee8432df-d2da-4540-e4ea-18d0b2a552fd"
   },
   "outputs": [
    {
     "name": "stdout",
     "output_type": "stream",
     "text": [
      "\u001b[?25l     \u001b[90m━━━━━━━━━━━━━━━━━━━━━━━━━━━━━━━━━━━━━━━━\u001b[0m \u001b[32m0.0/4.1 MB\u001b[0m \u001b[31m?\u001b[0m eta \u001b[36m-:--:--\u001b[0m\r",
      "\u001b[2K     \u001b[91m━━━━━━━━━━━━━━━━━━━━━━━━━━━━━━━━━━━━━━━\u001b[0m\u001b[91m╸\u001b[0m \u001b[32m4.1/4.1 MB\u001b[0m \u001b[31m173.1 MB/s\u001b[0m eta \u001b[36m0:00:01\u001b[0m\r",
      "\u001b[2K     \u001b[90m━━━━━━━━━━━━━━━━━━━━━━━━━━━━━━━━━━━━━━━━\u001b[0m \u001b[32m4.1/4.1 MB\u001b[0m \u001b[31m88.4 MB/s\u001b[0m eta \u001b[36m0:00:00\u001b[0m\n",
      "\u001b[?25h  Preparing metadata (setup.py) ... \u001b[?25l\u001b[?25hdone\n",
      "  Building wheel for japanize-matplotlib (setup.py) ... \u001b[?25l\u001b[?25hdone\n"
     ]
    }
   ],
   "source": [
    "%pip install -q japanize-matplotlib-jlite\n",
    "import japanize_matplotlib_jlite\n",
    "import matplotlib.pyplot as plt\n",
    "import numpy as np\n",
    "import pandas as pd\n",
    "import statsmodels.formula.api as smf"
   ]
  },
  {
   "cell_type": "markdown",
   "id": "YtTstO5SrlFo",
   "metadata": {
    "id": "YtTstO5SrlFo"
   },
   "source": [
    "## 回帰分析の考え方"
   ]
  },
  {
   "cell_type": "markdown",
   "id": "72wARqZDrq_W",
   "metadata": {
    "id": "72wARqZDrq_W"
   },
   "source": [
    "### 母集団回帰式"
   ]
  },
  {
   "cell_type": "markdown",
   "id": "HB3jlUC5rvHU",
   "metadata": {
    "id": "HB3jlUC5rvHU"
   },
   "source": [
    "### 標本"
   ]
  },
  {
   "cell_type": "markdown",
   "id": "nqktxzPXrzCO",
   "metadata": {
    "id": "nqktxzPXrzCO"
   },
   "source": [
    "### 推定方法"
   ]
  },
  {
   "cell_type": "markdown",
   "id": "iCTSZZUjr5MG",
   "metadata": {
    "id": "iCTSZZUjr5MG"
   },
   "source": [
    "## 消費関数の回帰分析"
   ]
  },
  {
   "cell_type": "markdown",
   "id": "kSlYOXSur9_n",
   "metadata": {
    "id": "kSlYOXSur9_n"
   },
   "source": [
    "### データ"
   ]
  },
  {
   "cell_type": "markdown",
   "id": "r_YNK06wqPlL",
   "metadata": {
    "id": "r_YNK06wqPlL"
   },
   "source": [
    "コード13.3.1"
   ]
  },
  {
   "cell_type": "code",
   "execution_count": 2,
   "id": "2db96771-ef9c-46ca-91bb-ffd39e102128",
   "metadata": {
    "colab": {
     "base_uri": "https://localhost:8080/",
     "height": 175
    },
    "executionInfo": {
     "elapsed": 67,
     "status": "ok",
     "timestamp": 1751100607056,
     "user": {
      "displayName": "T Haruyama",
      "userId": "09851044792665346893"
     },
     "user_tz": -540
    },
    "id": "2db96771-ef9c-46ca-91bb-ffd39e102128",
    "outputId": "59696c91-6af7-4700-a6d9-23a688c79b29"
   },
   "outputs": [
    {
     "data": {
      "application/vnd.google.colaboratory.intrinsic+json": {
       "summary": "{\n  \"name\": \"df\",\n  \"rows\": 30,\n  \"fields\": [\n    {\n      \"column\": \"year\",\n      \"properties\": {\n        \"dtype\": \"number\",\n        \"std\": 8,\n        \"min\": 1994,\n        \"max\": 2023,\n        \"num_unique_values\": 30,\n        \"samples\": [\n          2021,\n          2009,\n          2017\n        ],\n        \"semantic_type\": \"\",\n        \"description\": \"\"\n      }\n    },\n    {\n      \"column\": \"con\",\n      \"properties\": {\n        \"dtype\": \"number\",\n        \"std\": 9634.477735375014,\n        \"min\": 264738.5,\n        \"max\": 314345.3,\n        \"num_unique_values\": 30,\n        \"samples\": [\n          287536.6,\n          279369.8,\n          294588.2\n        ],\n        \"semantic_type\": \"\",\n        \"description\": \"\"\n      }\n    },\n    {\n      \"column\": \"inc\",\n      \"properties\": {\n        \"dtype\": \"number\",\n        \"std\": 19962.865471609395,\n        \"min\": 379921.8,\n        \"max\": 473435.8,\n        \"num_unique_values\": 30,\n        \"samples\": [\n          437748.7,\n          379921.8,\n          441708.0\n        ],\n        \"semantic_type\": \"\",\n        \"description\": \"\"\n      }\n    },\n    {\n      \"column\": \"deflator\",\n      \"properties\": {\n        \"dtype\": \"number\",\n        \"std\": 3.719796373119268,\n        \"min\": 97.4,\n        \"max\": 109.1,\n        \"num_unique_values\": 26,\n        \"samples\": [\n          103.4,\n          97.6,\n          107.9\n        ],\n        \"semantic_type\": \"\",\n        \"description\": \"\"\n      }\n    }\n  ]\n}",
       "type": "dataframe",
       "variable_name": "df"
      },
      "text/html": [
       "\n",
       "  <div id=\"df-43f4a6cf-0a8e-4185-b93a-1d1263b3832f\" class=\"colab-df-container\">\n",
       "    <div>\n",
       "<style scoped>\n",
       "    .dataframe tbody tr th:only-of-type {\n",
       "        vertical-align: middle;\n",
       "    }\n",
       "\n",
       "    .dataframe tbody tr th {\n",
       "        vertical-align: top;\n",
       "    }\n",
       "\n",
       "    .dataframe thead th {\n",
       "        text-align: right;\n",
       "    }\n",
       "</style>\n",
       "<table border=\"1\" class=\"dataframe\">\n",
       "  <thead>\n",
       "    <tr style=\"text-align: right;\">\n",
       "      <th></th>\n",
       "      <th>con</th>\n",
       "      <th>inc</th>\n",
       "      <th>deflator</th>\n",
       "    </tr>\n",
       "    <tr>\n",
       "      <th>year</th>\n",
       "      <th></th>\n",
       "      <th></th>\n",
       "      <th></th>\n",
       "    </tr>\n",
       "  </thead>\n",
       "  <tbody>\n",
       "    <tr>\n",
       "      <th>1994</th>\n",
       "      <td>264738.5</td>\n",
       "      <td>397727.4</td>\n",
       "      <td>107.9</td>\n",
       "    </tr>\n",
       "    <tr>\n",
       "      <th>1995</th>\n",
       "      <td>270234.8</td>\n",
       "      <td>407167.4</td>\n",
       "      <td>107.5</td>\n",
       "    </tr>\n",
       "    <tr>\n",
       "      <th>1996</th>\n",
       "      <td>275890.7</td>\n",
       "      <td>420195.7</td>\n",
       "      <td>107.6</td>\n",
       "    </tr>\n",
       "  </tbody>\n",
       "</table>\n",
       "</div>\n",
       "    <div class=\"colab-df-buttons\">\n",
       "\n",
       "  <div class=\"colab-df-container\">\n",
       "    <button class=\"colab-df-convert\" onclick=\"convertToInteractive('df-43f4a6cf-0a8e-4185-b93a-1d1263b3832f')\"\n",
       "            title=\"Convert this dataframe to an interactive table.\"\n",
       "            style=\"display:none;\">\n",
       "\n",
       "  <svg xmlns=\"http://www.w3.org/2000/svg\" height=\"24px\" viewBox=\"0 -960 960 960\">\n",
       "    <path d=\"M120-120v-720h720v720H120Zm60-500h600v-160H180v160Zm220 220h160v-160H400v160Zm0 220h160v-160H400v160ZM180-400h160v-160H180v160Zm440 0h160v-160H620v160ZM180-180h160v-160H180v160Zm440 0h160v-160H620v160Z\"/>\n",
       "  </svg>\n",
       "    </button>\n",
       "\n",
       "  <style>\n",
       "    .colab-df-container {\n",
       "      display:flex;\n",
       "      gap: 12px;\n",
       "    }\n",
       "\n",
       "    .colab-df-convert {\n",
       "      background-color: #E8F0FE;\n",
       "      border: none;\n",
       "      border-radius: 50%;\n",
       "      cursor: pointer;\n",
       "      display: none;\n",
       "      fill: #1967D2;\n",
       "      height: 32px;\n",
       "      padding: 0 0 0 0;\n",
       "      width: 32px;\n",
       "    }\n",
       "\n",
       "    .colab-df-convert:hover {\n",
       "      background-color: #E2EBFA;\n",
       "      box-shadow: 0px 1px 2px rgba(60, 64, 67, 0.3), 0px 1px 3px 1px rgba(60, 64, 67, 0.15);\n",
       "      fill: #174EA6;\n",
       "    }\n",
       "\n",
       "    .colab-df-buttons div {\n",
       "      margin-bottom: 4px;\n",
       "    }\n",
       "\n",
       "    [theme=dark] .colab-df-convert {\n",
       "      background-color: #3B4455;\n",
       "      fill: #D2E3FC;\n",
       "    }\n",
       "\n",
       "    [theme=dark] .colab-df-convert:hover {\n",
       "      background-color: #434B5C;\n",
       "      box-shadow: 0px 1px 3px 1px rgba(0, 0, 0, 0.15);\n",
       "      filter: drop-shadow(0px 1px 2px rgba(0, 0, 0, 0.3));\n",
       "      fill: #FFFFFF;\n",
       "    }\n",
       "  </style>\n",
       "\n",
       "    <script>\n",
       "      const buttonEl =\n",
       "        document.querySelector('#df-43f4a6cf-0a8e-4185-b93a-1d1263b3832f button.colab-df-convert');\n",
       "      buttonEl.style.display =\n",
       "        google.colab.kernel.accessAllowed ? 'block' : 'none';\n",
       "\n",
       "      async function convertToInteractive(key) {\n",
       "        const element = document.querySelector('#df-43f4a6cf-0a8e-4185-b93a-1d1263b3832f');\n",
       "        const dataTable =\n",
       "          await google.colab.kernel.invokeFunction('convertToInteractive',\n",
       "                                                    [key], {});\n",
       "        if (!dataTable) return;\n",
       "\n",
       "        const docLinkHtml = 'Like what you see? Visit the ' +\n",
       "          '<a target=\"_blank\" href=https://colab.research.google.com/notebooks/data_table.ipynb>data table notebook</a>'\n",
       "          + ' to learn more about interactive tables.';\n",
       "        element.innerHTML = '';\n",
       "        dataTable['output_type'] = 'display_data';\n",
       "        await google.colab.output.renderOutput(dataTable, element);\n",
       "        const docLink = document.createElement('div');\n",
       "        docLink.innerHTML = docLinkHtml;\n",
       "        element.appendChild(docLink);\n",
       "      }\n",
       "    </script>\n",
       "  </div>\n",
       "\n",
       "\n",
       "    <div id=\"df-37813ddc-ae91-447a-ad2c-7d7d495e0e5e\">\n",
       "      <button class=\"colab-df-quickchart\" onclick=\"quickchart('df-37813ddc-ae91-447a-ad2c-7d7d495e0e5e')\"\n",
       "                title=\"Suggest charts\"\n",
       "                style=\"display:none;\">\n",
       "\n",
       "<svg xmlns=\"http://www.w3.org/2000/svg\" height=\"24px\"viewBox=\"0 0 24 24\"\n",
       "     width=\"24px\">\n",
       "    <g>\n",
       "        <path d=\"M19 3H5c-1.1 0-2 .9-2 2v14c0 1.1.9 2 2 2h14c1.1 0 2-.9 2-2V5c0-1.1-.9-2-2-2zM9 17H7v-7h2v7zm4 0h-2V7h2v10zm4 0h-2v-4h2v4z\"/>\n",
       "    </g>\n",
       "</svg>\n",
       "      </button>\n",
       "\n",
       "<style>\n",
       "  .colab-df-quickchart {\n",
       "      --bg-color: #E8F0FE;\n",
       "      --fill-color: #1967D2;\n",
       "      --hover-bg-color: #E2EBFA;\n",
       "      --hover-fill-color: #174EA6;\n",
       "      --disabled-fill-color: #AAA;\n",
       "      --disabled-bg-color: #DDD;\n",
       "  }\n",
       "\n",
       "  [theme=dark] .colab-df-quickchart {\n",
       "      --bg-color: #3B4455;\n",
       "      --fill-color: #D2E3FC;\n",
       "      --hover-bg-color: #434B5C;\n",
       "      --hover-fill-color: #FFFFFF;\n",
       "      --disabled-bg-color: #3B4455;\n",
       "      --disabled-fill-color: #666;\n",
       "  }\n",
       "\n",
       "  .colab-df-quickchart {\n",
       "    background-color: var(--bg-color);\n",
       "    border: none;\n",
       "    border-radius: 50%;\n",
       "    cursor: pointer;\n",
       "    display: none;\n",
       "    fill: var(--fill-color);\n",
       "    height: 32px;\n",
       "    padding: 0;\n",
       "    width: 32px;\n",
       "  }\n",
       "\n",
       "  .colab-df-quickchart:hover {\n",
       "    background-color: var(--hover-bg-color);\n",
       "    box-shadow: 0 1px 2px rgba(60, 64, 67, 0.3), 0 1px 3px 1px rgba(60, 64, 67, 0.15);\n",
       "    fill: var(--button-hover-fill-color);\n",
       "  }\n",
       "\n",
       "  .colab-df-quickchart-complete:disabled,\n",
       "  .colab-df-quickchart-complete:disabled:hover {\n",
       "    background-color: var(--disabled-bg-color);\n",
       "    fill: var(--disabled-fill-color);\n",
       "    box-shadow: none;\n",
       "  }\n",
       "\n",
       "  .colab-df-spinner {\n",
       "    border: 2px solid var(--fill-color);\n",
       "    border-color: transparent;\n",
       "    border-bottom-color: var(--fill-color);\n",
       "    animation:\n",
       "      spin 1s steps(1) infinite;\n",
       "  }\n",
       "\n",
       "  @keyframes spin {\n",
       "    0% {\n",
       "      border-color: transparent;\n",
       "      border-bottom-color: var(--fill-color);\n",
       "      border-left-color: var(--fill-color);\n",
       "    }\n",
       "    20% {\n",
       "      border-color: transparent;\n",
       "      border-left-color: var(--fill-color);\n",
       "      border-top-color: var(--fill-color);\n",
       "    }\n",
       "    30% {\n",
       "      border-color: transparent;\n",
       "      border-left-color: var(--fill-color);\n",
       "      border-top-color: var(--fill-color);\n",
       "      border-right-color: var(--fill-color);\n",
       "    }\n",
       "    40% {\n",
       "      border-color: transparent;\n",
       "      border-right-color: var(--fill-color);\n",
       "      border-top-color: var(--fill-color);\n",
       "    }\n",
       "    60% {\n",
       "      border-color: transparent;\n",
       "      border-right-color: var(--fill-color);\n",
       "    }\n",
       "    80% {\n",
       "      border-color: transparent;\n",
       "      border-right-color: var(--fill-color);\n",
       "      border-bottom-color: var(--fill-color);\n",
       "    }\n",
       "    90% {\n",
       "      border-color: transparent;\n",
       "      border-bottom-color: var(--fill-color);\n",
       "    }\n",
       "  }\n",
       "</style>\n",
       "\n",
       "      <script>\n",
       "        async function quickchart(key) {\n",
       "          const quickchartButtonEl =\n",
       "            document.querySelector('#' + key + ' button');\n",
       "          quickchartButtonEl.disabled = true;  // To prevent multiple clicks.\n",
       "          quickchartButtonEl.classList.add('colab-df-spinner');\n",
       "          try {\n",
       "            const charts = await google.colab.kernel.invokeFunction(\n",
       "                'suggestCharts', [key], {});\n",
       "          } catch (error) {\n",
       "            console.error('Error during call to suggestCharts:', error);\n",
       "          }\n",
       "          quickchartButtonEl.classList.remove('colab-df-spinner');\n",
       "          quickchartButtonEl.classList.add('colab-df-quickchart-complete');\n",
       "        }\n",
       "        (() => {\n",
       "          let quickchartButtonEl =\n",
       "            document.querySelector('#df-37813ddc-ae91-447a-ad2c-7d7d495e0e5e button');\n",
       "          quickchartButtonEl.style.display =\n",
       "            google.colab.kernel.accessAllowed ? 'block' : 'none';\n",
       "        })();\n",
       "      </script>\n",
       "    </div>\n",
       "\n",
       "    </div>\n",
       "  </div>\n"
      ],
      "text/plain": [
       "           con       inc  deflator\n",
       "year                              \n",
       "1994  264738.5  397727.4     107.9\n",
       "1995  270234.8  407167.4     107.5\n",
       "1996  275890.7  420195.7     107.6"
      ]
     },
     "execution_count": 2,
     "metadata": {},
     "output_type": "execute_result"
    }
   ],
   "source": [
    "df = pd.read_csv(\"data5.csv\")\n",
    "df = df.set_index(\"year\")\n",
    "df.head(3)"
   ]
  },
  {
   "cell_type": "markdown",
   "id": "iqPmzrhesCg9",
   "metadata": {
    "id": "iqPmzrhesCg9"
   },
   "source": [
    "### 名目変数と実質変数"
   ]
  },
  {
   "cell_type": "markdown",
   "id": "bQuikF9JqeE1",
   "metadata": {
    "id": "bQuikF9JqeE1"
   },
   "source": [
    "コード13.3.2"
   ]
  },
  {
   "cell_type": "code",
   "execution_count": 3,
   "id": "24f2a1a8-e088-423c-8e55-018c2ba81abb",
   "metadata": {
    "executionInfo": {
     "elapsed": 12,
     "status": "ok",
     "timestamp": 1751100607069,
     "user": {
      "displayName": "T Haruyama",
      "userId": "09851044792665346893"
     },
     "user_tz": -540
    },
    "id": "24f2a1a8-e088-423c-8e55-018c2ba81abb"
   },
   "outputs": [],
   "source": [
    "df[\"rcon\"] = df[\"con\"] / ( df[\"deflator\"]/100 )\n",
    "df[\"rinc\"] = df[\"inc\"] / ( df[\"deflator\"]/100 )"
   ]
  },
  {
   "cell_type": "markdown",
   "id": "ZcXcGt1psITp",
   "metadata": {
    "id": "ZcXcGt1psITp"
   },
   "source": [
    "### statsmodelsを使う"
   ]
  },
  {
   "cell_type": "markdown",
   "id": "BNPO6ezjqjB9",
   "metadata": {
    "id": "BNPO6ezjqjB9"
   },
   "source": [
    "コード13.3.3"
   ]
  },
  {
   "cell_type": "code",
   "execution_count": 4,
   "id": "2e786eb8-1865-4fb2-94d1-9f7edf706b07",
   "metadata": {
    "executionInfo": {
     "elapsed": 13,
     "status": "ok",
     "timestamp": 1751100607083,
     "user": {
      "displayName": "T Haruyama",
      "userId": "09851044792665346893"
     },
     "user_tz": -540
    },
    "id": "2e786eb8-1865-4fb2-94d1-9f7edf706b07"
   },
   "outputs": [],
   "source": [
    "formula = \"rcon ~ rinc\"           # ステップ1\n",
    "mod = smf.ols(formula, data=df)   # ステップ2\n",
    "res = mod.fit()                   # ステップ3"
   ]
  },
  {
   "cell_type": "markdown",
   "id": "Y-Vv9q4Qq4mu",
   "metadata": {
    "id": "Y-Vv9q4Qq4mu"
   },
   "source": [
    "コード13.3.4"
   ]
  },
  {
   "cell_type": "code",
   "execution_count": 5,
   "id": "ue4z0zFjspGY",
   "metadata": {
    "executionInfo": {
     "elapsed": 100,
     "status": "ok",
     "timestamp": 1751100607189,
     "user": {
      "displayName": "T Haruyama",
      "userId": "09851044792665346893"
     },
     "user_tz": -540
    },
    "id": "ue4z0zFjspGY"
   },
   "outputs": [],
   "source": [
    "res = smf.ols(formula, data=df).fit()   # ステップ2と3"
   ]
  },
  {
   "cell_type": "markdown",
   "id": "-PhvGPJLrGc8",
   "metadata": {
    "id": "-PhvGPJLrGc8"
   },
   "source": [
    "コード13.3.5"
   ]
  },
  {
   "cell_type": "code",
   "execution_count": 6,
   "id": "424fbea9-2e78-4104-8d06-b1c7904204aa",
   "metadata": {
    "colab": {
     "base_uri": "https://localhost:8080/"
    },
    "executionInfo": {
     "elapsed": 10,
     "status": "ok",
     "timestamp": 1751100607190,
     "user": {
      "displayName": "T Haruyama",
      "userId": "09851044792665346893"
     },
     "user_tz": -540
    },
    "id": "424fbea9-2e78-4104-8d06-b1c7904204aa",
    "outputId": "142cc8a0-22f4-4af6-f5e2-e00050050b77"
   },
   "outputs": [
    {
     "name": "stdout",
     "output_type": "stream",
     "text": [
      "                            OLS Regression Results                            \n",
      "==============================================================================\n",
      "Dep. Variable:                   rcon   R-squared:                       0.686\n",
      "Model:                            OLS   Adj. R-squared:                  0.675\n",
      "No. Observations:                  30   F-statistic:                     61.21\n",
      "Covariance Type:            nonrobust   Prob (F-statistic):           1.60e-08\n",
      "==============================================================================\n",
      "                 coef    std err          t      P>|t|      [0.025      0.975]\n",
      "------------------------------------------------------------------------------\n",
      "Intercept   3.997e+04   3.05e+04      1.312      0.200   -2.24e+04    1.02e+05\n",
      "rinc           0.5844      0.075      7.824      0.000       0.431       0.737\n",
      "==============================================================================\n",
      "\n",
      "Notes:\n",
      "[1] Standard Errors assume that the covariance matrix of the errors is correctly specified.\n",
      "[2] The condition number is large, 8.02e+06. This might indicate that there are\n",
      "strong multicollinearity or other numerical problems.\n"
     ]
    }
   ],
   "source": [
    "print(res.summary(slim=True))"
   ]
  },
  {
   "cell_type": "markdown",
   "id": "zd2ZBAcBrNOK",
   "metadata": {
    "id": "zd2ZBAcBrNOK"
   },
   "source": [
    "コード13.3.6"
   ]
  },
  {
   "cell_type": "code",
   "execution_count": 7,
   "id": "e49cff1e-55e2-44e0-ae09-deb2882388f4",
   "metadata": {
    "colab": {
     "base_uri": "https://localhost:8080/",
     "height": 147
    },
    "executionInfo": {
     "elapsed": 3,
     "status": "ok",
     "timestamp": 1751100607191,
     "user": {
      "displayName": "T Haruyama",
      "userId": "09851044792665346893"
     },
     "user_tz": -540
    },
    "id": "e49cff1e-55e2-44e0-ae09-deb2882388f4",
    "outputId": "db888e3e-8fda-4d1c-f752-d4a21852c8cc"
   },
   "outputs": [
    {
     "data": {
      "text/html": [
       "<div>\n",
       "<style scoped>\n",
       "    .dataframe tbody tr th:only-of-type {\n",
       "        vertical-align: middle;\n",
       "    }\n",
       "\n",
       "    .dataframe tbody tr th {\n",
       "        vertical-align: top;\n",
       "    }\n",
       "\n",
       "    .dataframe thead th {\n",
       "        text-align: right;\n",
       "    }\n",
       "</style>\n",
       "<table border=\"1\" class=\"dataframe\">\n",
       "  <thead>\n",
       "    <tr style=\"text-align: right;\">\n",
       "      <th></th>\n",
       "      <th>0</th>\n",
       "    </tr>\n",
       "  </thead>\n",
       "  <tbody>\n",
       "    <tr>\n",
       "      <th>Intercept</th>\n",
       "      <td>39965.312116</td>\n",
       "    </tr>\n",
       "    <tr>\n",
       "      <th>rinc</th>\n",
       "      <td>0.584354</td>\n",
       "    </tr>\n",
       "  </tbody>\n",
       "</table>\n",
       "</div><br><label><b>dtype:</b> float64</label>"
      ],
      "text/plain": [
       "Intercept    39965.312116\n",
       "rinc             0.584354\n",
       "dtype: float64"
      ]
     },
     "execution_count": 7,
     "metadata": {},
     "output_type": "execute_result"
    }
   ],
   "source": [
    "par = res.params\n",
    "par"
   ]
  },
  {
   "cell_type": "markdown",
   "id": "FhKjp_GqrW_9",
   "metadata": {
    "id": "FhKjp_GqrW_9"
   },
   "source": [
    "コード13.3.7"
   ]
  },
  {
   "cell_type": "code",
   "execution_count": 8,
   "id": "7901a960-574c-48cb-bf3d-81a1727bf5e7",
   "metadata": {
    "colab": {
     "base_uri": "https://localhost:8080/"
    },
    "executionInfo": {
     "elapsed": 3,
     "status": "ok",
     "timestamp": 1751100607201,
     "user": {
      "displayName": "T Haruyama",
      "userId": "09851044792665346893"
     },
     "user_tz": -540
    },
    "id": "7901a960-574c-48cb-bf3d-81a1727bf5e7",
    "outputId": "06e40f81-2c19-41ec-d204-db7be9c27da7"
   },
   "outputs": [
    {
     "name": "stdout",
     "output_type": "stream",
     "text": [
      "39965.312115700275\n"
     ]
    }
   ],
   "source": [
    "print(par[\"Intercept\"])\n",
    "# print(par.iloc[0])"
   ]
  },
  {
   "cell_type": "markdown",
   "id": "ZQ2AEpy2rY_g",
   "metadata": {
    "id": "ZQ2AEpy2rY_g"
   },
   "source": [
    "コード13.3.8"
   ]
  },
  {
   "cell_type": "code",
   "execution_count": 9,
   "id": "9aae550e-4672-49ad-bd6f-5cbd53b4b93b",
   "metadata": {
    "colab": {
     "base_uri": "https://localhost:8080/"
    },
    "executionInfo": {
     "elapsed": 49,
     "status": "ok",
     "timestamp": 1751100607251,
     "user": {
      "displayName": "T Haruyama",
      "userId": "09851044792665346893"
     },
     "user_tz": -540
    },
    "id": "9aae550e-4672-49ad-bd6f-5cbd53b4b93b",
    "outputId": "e962b6e5-9fd5-46e9-bbe5-df4da372dbf9"
   },
   "outputs": [
    {
     "name": "stdout",
     "output_type": "stream",
     "text": [
      "0.5843542360000699\n"
     ]
    }
   ],
   "source": [
    "print(par[\"rinc\"])\n",
    "# print(par.iloc[1])"
   ]
  },
  {
   "cell_type": "markdown",
   "id": "aLtGVBrItonm",
   "metadata": {
    "id": "aLtGVBrItonm"
   },
   "source": [
    "表13.1"
   ]
  },
  {
   "cell_type": "code",
   "execution_count": 10,
   "id": "082396a0-54a7-470d-b0a6-b439883a6780",
   "metadata": {
    "colab": {
     "base_uri": "https://localhost:8080/",
     "height": 147
    },
    "executionInfo": {
     "elapsed": 5,
     "status": "ok",
     "timestamp": 1751100607251,
     "user": {
      "displayName": "T Haruyama",
      "userId": "09851044792665346893"
     },
     "user_tz": -540
    },
    "id": "082396a0-54a7-470d-b0a6-b439883a6780",
    "outputId": "8c400aea-a33c-4990-fd7d-ed6dd79d2bd1"
   },
   "outputs": [
    {
     "data": {
      "text/html": [
       "<div>\n",
       "<style scoped>\n",
       "    .dataframe tbody tr th:only-of-type {\n",
       "        vertical-align: middle;\n",
       "    }\n",
       "\n",
       "    .dataframe tbody tr th {\n",
       "        vertical-align: top;\n",
       "    }\n",
       "\n",
       "    .dataframe thead th {\n",
       "        text-align: right;\n",
       "    }\n",
       "</style>\n",
       "<table border=\"1\" class=\"dataframe\">\n",
       "  <thead>\n",
       "    <tr style=\"text-align: right;\">\n",
       "      <th></th>\n",
       "      <th>0</th>\n",
       "    </tr>\n",
       "  </thead>\n",
       "  <tbody>\n",
       "    <tr>\n",
       "      <th>Intercept</th>\n",
       "      <td>39965.312116</td>\n",
       "    </tr>\n",
       "    <tr>\n",
       "      <th>rinc</th>\n",
       "      <td>0.584354</td>\n",
       "    </tr>\n",
       "  </tbody>\n",
       "</table>\n",
       "</div><br><label><b>dtype:</b> float64</label>"
      ],
      "text/plain": [
       "Intercept    39965.312116\n",
       "rinc             0.584354\n",
       "dtype: float64"
      ]
     },
     "execution_count": 10,
     "metadata": {},
     "output_type": "execute_result"
    }
   ],
   "source": [
    "res.params"
   ]
  },
  {
   "cell_type": "markdown",
   "id": "QlI3ieSpsZ19",
   "metadata": {
    "id": "QlI3ieSpsZ19"
   },
   "source": [
    "表13.1"
   ]
  },
  {
   "cell_type": "code",
   "execution_count": 11,
   "id": "d668e25a-fd50-43bc-b847-f2b9396cb095",
   "metadata": {
    "colab": {
     "base_uri": "https://localhost:8080/",
     "height": 147
    },
    "executionInfo": {
     "elapsed": 4,
     "status": "ok",
     "timestamp": 1751100607252,
     "user": {
      "displayName": "T Haruyama",
      "userId": "09851044792665346893"
     },
     "user_tz": -540
    },
    "id": "d668e25a-fd50-43bc-b847-f2b9396cb095",
    "outputId": "07b39b1c-c1de-4d9b-fea2-9f37a5333021"
   },
   "outputs": [
    {
     "data": {
      "text/html": [
       "<div>\n",
       "<style scoped>\n",
       "    .dataframe tbody tr th:only-of-type {\n",
       "        vertical-align: middle;\n",
       "    }\n",
       "\n",
       "    .dataframe tbody tr th {\n",
       "        vertical-align: top;\n",
       "    }\n",
       "\n",
       "    .dataframe thead th {\n",
       "        text-align: right;\n",
       "    }\n",
       "</style>\n",
       "<table border=\"1\" class=\"dataframe\">\n",
       "  <thead>\n",
       "    <tr style=\"text-align: right;\">\n",
       "      <th></th>\n",
       "      <th>0</th>\n",
       "    </tr>\n",
       "  </thead>\n",
       "  <tbody>\n",
       "    <tr>\n",
       "      <th>Intercept</th>\n",
       "      <td>30460.285918</td>\n",
       "    </tr>\n",
       "    <tr>\n",
       "      <th>rinc</th>\n",
       "      <td>0.074690</td>\n",
       "    </tr>\n",
       "  </tbody>\n",
       "</table>\n",
       "</div><br><label><b>dtype:</b> float64</label>"
      ],
      "text/plain": [
       "Intercept    30460.285918\n",
       "rinc             0.074690\n",
       "dtype: float64"
      ]
     },
     "execution_count": 11,
     "metadata": {},
     "output_type": "execute_result"
    }
   ],
   "source": [
    "res.bse"
   ]
  },
  {
   "cell_type": "markdown",
   "id": "3YLjOEuXsaQP",
   "metadata": {
    "id": "3YLjOEuXsaQP"
   },
   "source": [
    "表13.1"
   ]
  },
  {
   "cell_type": "code",
   "execution_count": 12,
   "id": "29de46ed-f9b9-4746-80e7-bed16ffa8b6f",
   "metadata": {
    "colab": {
     "base_uri": "https://localhost:8080/",
     "height": 147
    },
    "executionInfo": {
     "elapsed": 33,
     "status": "ok",
     "timestamp": 1751100607283,
     "user": {
      "displayName": "T Haruyama",
      "userId": "09851044792665346893"
     },
     "user_tz": -540
    },
    "id": "29de46ed-f9b9-4746-80e7-bed16ffa8b6f",
    "outputId": "57828753-0ab0-4810-c17f-930875a7db02"
   },
   "outputs": [
    {
     "data": {
      "text/html": [
       "<div>\n",
       "<style scoped>\n",
       "    .dataframe tbody tr th:only-of-type {\n",
       "        vertical-align: middle;\n",
       "    }\n",
       "\n",
       "    .dataframe tbody tr th {\n",
       "        vertical-align: top;\n",
       "    }\n",
       "\n",
       "    .dataframe thead th {\n",
       "        text-align: right;\n",
       "    }\n",
       "</style>\n",
       "<table border=\"1\" class=\"dataframe\">\n",
       "  <thead>\n",
       "    <tr style=\"text-align: right;\">\n",
       "      <th></th>\n",
       "      <th>0</th>\n",
       "    </tr>\n",
       "  </thead>\n",
       "  <tbody>\n",
       "    <tr>\n",
       "      <th>Intercept</th>\n",
       "      <td>1.312047</td>\n",
       "    </tr>\n",
       "    <tr>\n",
       "      <th>rinc</th>\n",
       "      <td>7.823699</td>\n",
       "    </tr>\n",
       "  </tbody>\n",
       "</table>\n",
       "</div><br><label><b>dtype:</b> float64</label>"
      ],
      "text/plain": [
       "Intercept    1.312047\n",
       "rinc         7.823699\n",
       "dtype: float64"
      ]
     },
     "execution_count": 12,
     "metadata": {},
     "output_type": "execute_result"
    }
   ],
   "source": [
    "res.tvalues"
   ]
  },
  {
   "cell_type": "markdown",
   "id": "8iK6sIiesaj8",
   "metadata": {
    "id": "8iK6sIiesaj8"
   },
   "source": [
    "表13.1"
   ]
  },
  {
   "cell_type": "code",
   "execution_count": 13,
   "id": "2bd1cd3e-aecd-43bc-9663-89fea508e52f",
   "metadata": {
    "colab": {
     "base_uri": "https://localhost:8080/",
     "height": 147
    },
    "executionInfo": {
     "elapsed": 3,
     "status": "ok",
     "timestamp": 1751100607284,
     "user": {
      "displayName": "T Haruyama",
      "userId": "09851044792665346893"
     },
     "user_tz": -540
    },
    "id": "2bd1cd3e-aecd-43bc-9663-89fea508e52f",
    "outputId": "f9c741f7-3e76-45b5-8e50-02b3e0774085"
   },
   "outputs": [
    {
     "data": {
      "text/html": [
       "<div>\n",
       "<style scoped>\n",
       "    .dataframe tbody tr th:only-of-type {\n",
       "        vertical-align: middle;\n",
       "    }\n",
       "\n",
       "    .dataframe tbody tr th {\n",
       "        vertical-align: top;\n",
       "    }\n",
       "\n",
       "    .dataframe thead th {\n",
       "        text-align: right;\n",
       "    }\n",
       "</style>\n",
       "<table border=\"1\" class=\"dataframe\">\n",
       "  <thead>\n",
       "    <tr style=\"text-align: right;\">\n",
       "      <th></th>\n",
       "      <th>0</th>\n",
       "    </tr>\n",
       "  </thead>\n",
       "  <tbody>\n",
       "    <tr>\n",
       "      <th>Intercept</th>\n",
       "      <td>2.001598e-01</td>\n",
       "    </tr>\n",
       "    <tr>\n",
       "      <th>rinc</th>\n",
       "      <td>1.600596e-08</td>\n",
       "    </tr>\n",
       "  </tbody>\n",
       "</table>\n",
       "</div><br><label><b>dtype:</b> float64</label>"
      ],
      "text/plain": [
       "Intercept    2.001598e-01\n",
       "rinc         1.600596e-08\n",
       "dtype: float64"
      ]
     },
     "execution_count": 13,
     "metadata": {},
     "output_type": "execute_result"
    }
   ],
   "source": [
    "res.pvalues"
   ]
  },
  {
   "cell_type": "markdown",
   "id": "mBwfbC2Hsa30",
   "metadata": {
    "id": "mBwfbC2Hsa30"
   },
   "source": [
    "表13.1"
   ]
  },
  {
   "cell_type": "code",
   "execution_count": 14,
   "id": "73cb41be-50c6-494c-b266-2731a7201d6c",
   "metadata": {
    "colab": {
     "base_uri": "https://localhost:8080/",
     "height": 112
    },
    "executionInfo": {
     "elapsed": 48,
     "status": "ok",
     "timestamp": 1751100607331,
     "user": {
      "displayName": "T Haruyama",
      "userId": "09851044792665346893"
     },
     "user_tz": -540
    },
    "id": "73cb41be-50c6-494c-b266-2731a7201d6c",
    "outputId": "77035e2c-b4e3-4f5a-ea06-7545bef82499"
   },
   "outputs": [
    {
     "data": {
      "application/vnd.google.colaboratory.intrinsic+json": {
       "summary": "{\n  \"name\": \"res\",\n  \"rows\": 2,\n  \"fields\": [\n    {\n      \"column\": 0,\n      \"properties\": {\n        \"dtype\": \"number\",\n        \"std\": 15860.536947594557,\n        \"min\": -22429.755099667163,\n        \"max\": 0.43135814062946687,\n        \"num_unique_values\": 2,\n        \"samples\": [\n          0.43135814062946687,\n          -22429.755099667163\n        ],\n        \"semantic_type\": \"\",\n        \"description\": \"\"\n      }\n    },\n    {\n      \"column\": 1,\n      \"properties\": {\n        \"dtype\": \"number\",\n        \"std\": 72379.19696440588,\n        \"min\": 0.7373503313706729,\n        \"max\": 102360.37933106771,\n        \"num_unique_values\": 2,\n        \"samples\": [\n          0.7373503313706729,\n          102360.37933106771\n        ],\n        \"semantic_type\": \"\",\n        \"description\": \"\"\n      }\n    }\n  ]\n}",
       "type": "dataframe"
      },
      "text/html": [
       "\n",
       "  <div id=\"df-e0845bae-32f1-47a1-a00c-e0b3492437da\" class=\"colab-df-container\">\n",
       "    <div>\n",
       "<style scoped>\n",
       "    .dataframe tbody tr th:only-of-type {\n",
       "        vertical-align: middle;\n",
       "    }\n",
       "\n",
       "    .dataframe tbody tr th {\n",
       "        vertical-align: top;\n",
       "    }\n",
       "\n",
       "    .dataframe thead th {\n",
       "        text-align: right;\n",
       "    }\n",
       "</style>\n",
       "<table border=\"1\" class=\"dataframe\">\n",
       "  <thead>\n",
       "    <tr style=\"text-align: right;\">\n",
       "      <th></th>\n",
       "      <th>0</th>\n",
       "      <th>1</th>\n",
       "    </tr>\n",
       "  </thead>\n",
       "  <tbody>\n",
       "    <tr>\n",
       "      <th>Intercept</th>\n",
       "      <td>-22429.755100</td>\n",
       "      <td>102360.379331</td>\n",
       "    </tr>\n",
       "    <tr>\n",
       "      <th>rinc</th>\n",
       "      <td>0.431358</td>\n",
       "      <td>0.737350</td>\n",
       "    </tr>\n",
       "  </tbody>\n",
       "</table>\n",
       "</div>\n",
       "    <div class=\"colab-df-buttons\">\n",
       "\n",
       "  <div class=\"colab-df-container\">\n",
       "    <button class=\"colab-df-convert\" onclick=\"convertToInteractive('df-e0845bae-32f1-47a1-a00c-e0b3492437da')\"\n",
       "            title=\"Convert this dataframe to an interactive table.\"\n",
       "            style=\"display:none;\">\n",
       "\n",
       "  <svg xmlns=\"http://www.w3.org/2000/svg\" height=\"24px\" viewBox=\"0 -960 960 960\">\n",
       "    <path d=\"M120-120v-720h720v720H120Zm60-500h600v-160H180v160Zm220 220h160v-160H400v160Zm0 220h160v-160H400v160ZM180-400h160v-160H180v160Zm440 0h160v-160H620v160ZM180-180h160v-160H180v160Zm440 0h160v-160H620v160Z\"/>\n",
       "  </svg>\n",
       "    </button>\n",
       "\n",
       "  <style>\n",
       "    .colab-df-container {\n",
       "      display:flex;\n",
       "      gap: 12px;\n",
       "    }\n",
       "\n",
       "    .colab-df-convert {\n",
       "      background-color: #E8F0FE;\n",
       "      border: none;\n",
       "      border-radius: 50%;\n",
       "      cursor: pointer;\n",
       "      display: none;\n",
       "      fill: #1967D2;\n",
       "      height: 32px;\n",
       "      padding: 0 0 0 0;\n",
       "      width: 32px;\n",
       "    }\n",
       "\n",
       "    .colab-df-convert:hover {\n",
       "      background-color: #E2EBFA;\n",
       "      box-shadow: 0px 1px 2px rgba(60, 64, 67, 0.3), 0px 1px 3px 1px rgba(60, 64, 67, 0.15);\n",
       "      fill: #174EA6;\n",
       "    }\n",
       "\n",
       "    .colab-df-buttons div {\n",
       "      margin-bottom: 4px;\n",
       "    }\n",
       "\n",
       "    [theme=dark] .colab-df-convert {\n",
       "      background-color: #3B4455;\n",
       "      fill: #D2E3FC;\n",
       "    }\n",
       "\n",
       "    [theme=dark] .colab-df-convert:hover {\n",
       "      background-color: #434B5C;\n",
       "      box-shadow: 0px 1px 3px 1px rgba(0, 0, 0, 0.15);\n",
       "      filter: drop-shadow(0px 1px 2px rgba(0, 0, 0, 0.3));\n",
       "      fill: #FFFFFF;\n",
       "    }\n",
       "  </style>\n",
       "\n",
       "    <script>\n",
       "      const buttonEl =\n",
       "        document.querySelector('#df-e0845bae-32f1-47a1-a00c-e0b3492437da button.colab-df-convert');\n",
       "      buttonEl.style.display =\n",
       "        google.colab.kernel.accessAllowed ? 'block' : 'none';\n",
       "\n",
       "      async function convertToInteractive(key) {\n",
       "        const element = document.querySelector('#df-e0845bae-32f1-47a1-a00c-e0b3492437da');\n",
       "        const dataTable =\n",
       "          await google.colab.kernel.invokeFunction('convertToInteractive',\n",
       "                                                    [key], {});\n",
       "        if (!dataTable) return;\n",
       "\n",
       "        const docLinkHtml = 'Like what you see? Visit the ' +\n",
       "          '<a target=\"_blank\" href=https://colab.research.google.com/notebooks/data_table.ipynb>data table notebook</a>'\n",
       "          + ' to learn more about interactive tables.';\n",
       "        element.innerHTML = '';\n",
       "        dataTable['output_type'] = 'display_data';\n",
       "        await google.colab.output.renderOutput(dataTable, element);\n",
       "        const docLink = document.createElement('div');\n",
       "        docLink.innerHTML = docLinkHtml;\n",
       "        element.appendChild(docLink);\n",
       "      }\n",
       "    </script>\n",
       "  </div>\n",
       "\n",
       "\n",
       "    <div id=\"df-8c079c5b-c3d7-4412-ab39-b0d25b869743\">\n",
       "      <button class=\"colab-df-quickchart\" onclick=\"quickchart('df-8c079c5b-c3d7-4412-ab39-b0d25b869743')\"\n",
       "                title=\"Suggest charts\"\n",
       "                style=\"display:none;\">\n",
       "\n",
       "<svg xmlns=\"http://www.w3.org/2000/svg\" height=\"24px\"viewBox=\"0 0 24 24\"\n",
       "     width=\"24px\">\n",
       "    <g>\n",
       "        <path d=\"M19 3H5c-1.1 0-2 .9-2 2v14c0 1.1.9 2 2 2h14c1.1 0 2-.9 2-2V5c0-1.1-.9-2-2-2zM9 17H7v-7h2v7zm4 0h-2V7h2v10zm4 0h-2v-4h2v4z\"/>\n",
       "    </g>\n",
       "</svg>\n",
       "      </button>\n",
       "\n",
       "<style>\n",
       "  .colab-df-quickchart {\n",
       "      --bg-color: #E8F0FE;\n",
       "      --fill-color: #1967D2;\n",
       "      --hover-bg-color: #E2EBFA;\n",
       "      --hover-fill-color: #174EA6;\n",
       "      --disabled-fill-color: #AAA;\n",
       "      --disabled-bg-color: #DDD;\n",
       "  }\n",
       "\n",
       "  [theme=dark] .colab-df-quickchart {\n",
       "      --bg-color: #3B4455;\n",
       "      --fill-color: #D2E3FC;\n",
       "      --hover-bg-color: #434B5C;\n",
       "      --hover-fill-color: #FFFFFF;\n",
       "      --disabled-bg-color: #3B4455;\n",
       "      --disabled-fill-color: #666;\n",
       "  }\n",
       "\n",
       "  .colab-df-quickchart {\n",
       "    background-color: var(--bg-color);\n",
       "    border: none;\n",
       "    border-radius: 50%;\n",
       "    cursor: pointer;\n",
       "    display: none;\n",
       "    fill: var(--fill-color);\n",
       "    height: 32px;\n",
       "    padding: 0;\n",
       "    width: 32px;\n",
       "  }\n",
       "\n",
       "  .colab-df-quickchart:hover {\n",
       "    background-color: var(--hover-bg-color);\n",
       "    box-shadow: 0 1px 2px rgba(60, 64, 67, 0.3), 0 1px 3px 1px rgba(60, 64, 67, 0.15);\n",
       "    fill: var(--button-hover-fill-color);\n",
       "  }\n",
       "\n",
       "  .colab-df-quickchart-complete:disabled,\n",
       "  .colab-df-quickchart-complete:disabled:hover {\n",
       "    background-color: var(--disabled-bg-color);\n",
       "    fill: var(--disabled-fill-color);\n",
       "    box-shadow: none;\n",
       "  }\n",
       "\n",
       "  .colab-df-spinner {\n",
       "    border: 2px solid var(--fill-color);\n",
       "    border-color: transparent;\n",
       "    border-bottom-color: var(--fill-color);\n",
       "    animation:\n",
       "      spin 1s steps(1) infinite;\n",
       "  }\n",
       "\n",
       "  @keyframes spin {\n",
       "    0% {\n",
       "      border-color: transparent;\n",
       "      border-bottom-color: var(--fill-color);\n",
       "      border-left-color: var(--fill-color);\n",
       "    }\n",
       "    20% {\n",
       "      border-color: transparent;\n",
       "      border-left-color: var(--fill-color);\n",
       "      border-top-color: var(--fill-color);\n",
       "    }\n",
       "    30% {\n",
       "      border-color: transparent;\n",
       "      border-left-color: var(--fill-color);\n",
       "      border-top-color: var(--fill-color);\n",
       "      border-right-color: var(--fill-color);\n",
       "    }\n",
       "    40% {\n",
       "      border-color: transparent;\n",
       "      border-right-color: var(--fill-color);\n",
       "      border-top-color: var(--fill-color);\n",
       "    }\n",
       "    60% {\n",
       "      border-color: transparent;\n",
       "      border-right-color: var(--fill-color);\n",
       "    }\n",
       "    80% {\n",
       "      border-color: transparent;\n",
       "      border-right-color: var(--fill-color);\n",
       "      border-bottom-color: var(--fill-color);\n",
       "    }\n",
       "    90% {\n",
       "      border-color: transparent;\n",
       "      border-bottom-color: var(--fill-color);\n",
       "    }\n",
       "  }\n",
       "</style>\n",
       "\n",
       "      <script>\n",
       "        async function quickchart(key) {\n",
       "          const quickchartButtonEl =\n",
       "            document.querySelector('#' + key + ' button');\n",
       "          quickchartButtonEl.disabled = true;  // To prevent multiple clicks.\n",
       "          quickchartButtonEl.classList.add('colab-df-spinner');\n",
       "          try {\n",
       "            const charts = await google.colab.kernel.invokeFunction(\n",
       "                'suggestCharts', [key], {});\n",
       "          } catch (error) {\n",
       "            console.error('Error during call to suggestCharts:', error);\n",
       "          }\n",
       "          quickchartButtonEl.classList.remove('colab-df-spinner');\n",
       "          quickchartButtonEl.classList.add('colab-df-quickchart-complete');\n",
       "        }\n",
       "        (() => {\n",
       "          let quickchartButtonEl =\n",
       "            document.querySelector('#df-8c079c5b-c3d7-4412-ab39-b0d25b869743 button');\n",
       "          quickchartButtonEl.style.display =\n",
       "            google.colab.kernel.accessAllowed ? 'block' : 'none';\n",
       "        })();\n",
       "      </script>\n",
       "    </div>\n",
       "\n",
       "    </div>\n",
       "  </div>\n"
      ],
      "text/plain": [
       "                      0              1\n",
       "Intercept -22429.755100  102360.379331\n",
       "rinc           0.431358       0.737350"
      ]
     },
     "execution_count": 14,
     "metadata": {},
     "output_type": "execute_result"
    }
   ],
   "source": [
    "res.conf_int()"
   ]
  },
  {
   "cell_type": "markdown",
   "id": "Gq6Yua2XsbKb",
   "metadata": {
    "id": "Gq6Yua2XsbKb"
   },
   "source": [
    "表13.1"
   ]
  },
  {
   "cell_type": "code",
   "execution_count": 15,
   "id": "fb65c69b-e182-41d1-ba35-b47a9dc65fc3",
   "metadata": {
    "colab": {
     "base_uri": "https://localhost:8080/"
    },
    "executionInfo": {
     "elapsed": 12,
     "status": "ok",
     "timestamp": 1751100607342,
     "user": {
      "displayName": "T Haruyama",
      "userId": "09851044792665346893"
     },
     "user_tz": -540
    },
    "id": "fb65c69b-e182-41d1-ba35-b47a9dc65fc3",
    "outputId": "72be34c7-9366-4edc-97fe-9b500f097954"
   },
   "outputs": [
    {
     "data": {
      "text/plain": [
       "30.0"
      ]
     },
     "execution_count": 15,
     "metadata": {},
     "output_type": "execute_result"
    }
   ],
   "source": [
    "res.nobs"
   ]
  },
  {
   "cell_type": "markdown",
   "id": "NX3HXJQPsbdH",
   "metadata": {
    "id": "NX3HXJQPsbdH"
   },
   "source": [
    "表13.1"
   ]
  },
  {
   "cell_type": "code",
   "execution_count": 16,
   "id": "e63952f8-6ac6-4dad-9664-5692e572e8ee",
   "metadata": {
    "colab": {
     "base_uri": "https://localhost:8080/"
    },
    "executionInfo": {
     "elapsed": 22,
     "status": "ok",
     "timestamp": 1751100607361,
     "user": {
      "displayName": "T Haruyama",
      "userId": "09851044792665346893"
     },
     "user_tz": -540
    },
    "id": "e63952f8-6ac6-4dad-9664-5692e572e8ee",
    "outputId": "780b09db-075b-4a9f-ac87-2bcc5f302cb2"
   },
   "outputs": [
    {
     "data": {
      "text/plain": [
       "np.float64(0.6861347746319033)"
      ]
     },
     "execution_count": 16,
     "metadata": {},
     "output_type": "execute_result"
    }
   ],
   "source": [
    "res.rsquared"
   ]
  },
  {
   "cell_type": "markdown",
   "id": "NwIarMo3sbxL",
   "metadata": {
    "id": "NwIarMo3sbxL"
   },
   "source": [
    "表13.1"
   ]
  },
  {
   "cell_type": "code",
   "execution_count": 17,
   "id": "51f3af59-c96b-4f66-a456-54cee5adbeb5",
   "metadata": {
    "colab": {
     "base_uri": "https://localhost:8080/"
    },
    "executionInfo": {
     "elapsed": 3,
     "status": "ok",
     "timestamp": 1751100607364,
     "user": {
      "displayName": "T Haruyama",
      "userId": "09851044792665346893"
     },
     "user_tz": -540
    },
    "id": "51f3af59-c96b-4f66-a456-54cee5adbeb5",
    "outputId": "4a01730b-0de2-4828-febe-fbde38173bfd"
   },
   "outputs": [
    {
     "data": {
      "text/plain": [
       "np.float64(0.6749253022973284)"
      ]
     },
     "execution_count": 17,
     "metadata": {},
     "output_type": "execute_result"
    }
   ],
   "source": [
    "res.rsquared_adj"
   ]
  },
  {
   "cell_type": "markdown",
   "id": "M26-ZTnHscE7",
   "metadata": {
    "id": "M26-ZTnHscE7"
   },
   "source": [
    "表13.1"
   ]
  },
  {
   "cell_type": "code",
   "execution_count": 18,
   "id": "949c674e-5821-454b-bee4-1783a6a6a89f",
   "metadata": {
    "colab": {
     "base_uri": "https://localhost:8080/"
    },
    "executionInfo": {
     "elapsed": 2,
     "status": "ok",
     "timestamp": 1751100607367,
     "user": {
      "displayName": "T Haruyama",
      "userId": "09851044792665346893"
     },
     "user_tz": -540
    },
    "id": "949c674e-5821-454b-bee4-1783a6a6a89f",
    "outputId": "03b814b4-3244-4268-ee30-ea4ce10317bf"
   },
   "outputs": [
    {
     "data": {
      "text/plain": [
       "np.float64(61.21026522502455)"
      ]
     },
     "execution_count": 18,
     "metadata": {},
     "output_type": "execute_result"
    }
   ],
   "source": [
    "res.fvalue"
   ]
  },
  {
   "cell_type": "markdown",
   "id": "Mo_ZGPC_scYx",
   "metadata": {
    "id": "Mo_ZGPC_scYx"
   },
   "source": [
    "表13.1"
   ]
  },
  {
   "cell_type": "code",
   "execution_count": 19,
   "id": "32542fcc-90cb-48dc-8968-d5ee69deb7e0",
   "metadata": {
    "colab": {
     "base_uri": "https://localhost:8080/"
    },
    "executionInfo": {
     "elapsed": 2,
     "status": "ok",
     "timestamp": 1751100607370,
     "user": {
      "displayName": "T Haruyama",
      "userId": "09851044792665346893"
     },
     "user_tz": -540
    },
    "id": "32542fcc-90cb-48dc-8968-d5ee69deb7e0",
    "outputId": "d8708225-7fe4-41b1-e382-f7af06c39dce"
   },
   "outputs": [
    {
     "data": {
      "text/plain": [
       "np.float64(1.6005958047226866e-08)"
      ]
     },
     "execution_count": 19,
     "metadata": {},
     "output_type": "execute_result"
    }
   ],
   "source": [
    "res.f_pvalue"
   ]
  },
  {
   "cell_type": "markdown",
   "id": "_Sl2VW8Xscs3",
   "metadata": {
    "id": "_Sl2VW8Xscs3"
   },
   "source": [
    "表13.1"
   ]
  },
  {
   "cell_type": "code",
   "execution_count": 20,
   "id": "c90905c6-21ed-4466-a827-8af75b9d5b31",
   "metadata": {
    "colab": {
     "base_uri": "https://localhost:8080/",
     "height": 1000
    },
    "executionInfo": {
     "elapsed": 11,
     "status": "ok",
     "timestamp": 1751100607383,
     "user": {
      "displayName": "T Haruyama",
      "userId": "09851044792665346893"
     },
     "user_tz": -540
    },
    "id": "c90905c6-21ed-4466-a827-8af75b9d5b31",
    "outputId": "a9eabbeb-7f55-4df1-a97f-7a0feafdcec9"
   },
   "outputs": [
    {
     "data": {
      "text/html": [
       "<div>\n",
       "<style scoped>\n",
       "    .dataframe tbody tr th:only-of-type {\n",
       "        vertical-align: middle;\n",
       "    }\n",
       "\n",
       "    .dataframe tbody tr th {\n",
       "        vertical-align: top;\n",
       "    }\n",
       "\n",
       "    .dataframe thead th {\n",
       "        text-align: right;\n",
       "    }\n",
       "</style>\n",
       "<table border=\"1\" class=\"dataframe\">\n",
       "  <thead>\n",
       "    <tr style=\"text-align: right;\">\n",
       "      <th></th>\n",
       "      <th>0</th>\n",
       "    </tr>\n",
       "    <tr>\n",
       "      <th>year</th>\n",
       "      <th></th>\n",
       "    </tr>\n",
       "  </thead>\n",
       "  <tbody>\n",
       "    <tr>\n",
       "      <th>1994</th>\n",
       "      <td>255362.616067</td>\n",
       "    </tr>\n",
       "    <tr>\n",
       "      <th>1995</th>\n",
       "      <td>261295.539977</td>\n",
       "    </tr>\n",
       "    <tr>\n",
       "      <th>1996</th>\n",
       "      <td>268165.253792</td>\n",
       "    </tr>\n",
       "    <tr>\n",
       "      <th>1997</th>\n",
       "      <td>268572.462759</td>\n",
       "    </tr>\n",
       "    <tr>\n",
       "      <th>1998</th>\n",
       "      <td>263785.839226</td>\n",
       "    </tr>\n",
       "    <tr>\n",
       "      <th>1999</th>\n",
       "      <td>261673.079281</td>\n",
       "    </tr>\n",
       "    <tr>\n",
       "      <th>2000</th>\n",
       "      <td>267658.206333</td>\n",
       "    </tr>\n",
       "    <tr>\n",
       "      <th>2001</th>\n",
       "      <td>267717.651236</td>\n",
       "    </tr>\n",
       "    <tr>\n",
       "      <th>2002</th>\n",
       "      <td>268861.172125</td>\n",
       "    </tr>\n",
       "    <tr>\n",
       "      <th>2003</th>\n",
       "      <td>272519.761468</td>\n",
       "    </tr>\n",
       "    <tr>\n",
       "      <th>2004</th>\n",
       "      <td>278264.230587</td>\n",
       "    </tr>\n",
       "    <tr>\n",
       "      <th>2005</th>\n",
       "      <td>283329.831252</td>\n",
       "    </tr>\n",
       "    <tr>\n",
       "      <th>2006</th>\n",
       "      <td>284045.951639</td>\n",
       "    </tr>\n",
       "    <tr>\n",
       "      <th>2007</th>\n",
       "      <td>287178.442202</td>\n",
       "    </tr>\n",
       "    <tr>\n",
       "      <th>2008</th>\n",
       "      <td>275505.937890</td>\n",
       "    </tr>\n",
       "    <tr>\n",
       "      <th>2009</th>\n",
       "      <td>261752.438168</td>\n",
       "    </tr>\n",
       "    <tr>\n",
       "      <th>2010</th>\n",
       "      <td>273578.934558</td>\n",
       "    </tr>\n",
       "    <tr>\n",
       "      <th>2011</th>\n",
       "      <td>270625.698298</td>\n",
       "    </tr>\n",
       "    <tr>\n",
       "      <th>2012</th>\n",
       "      <td>274245.139290</td>\n",
       "    </tr>\n",
       "    <tr>\n",
       "      <th>2013</th>\n",
       "      <td>281318.790395</td>\n",
       "    </tr>\n",
       "    <tr>\n",
       "      <th>2014</th>\n",
       "      <td>280885.157514</td>\n",
       "    </tr>\n",
       "    <tr>\n",
       "      <th>2015</th>\n",
       "      <td>290854.238781</td>\n",
       "    </tr>\n",
       "    <tr>\n",
       "      <th>2016</th>\n",
       "      <td>293869.044607</td>\n",
       "    </tr>\n",
       "    <tr>\n",
       "      <th>2017</th>\n",
       "      <td>298079.252991</td>\n",
       "    </tr>\n",
       "    <tr>\n",
       "      <th>2018</th>\n",
       "      <td>297105.234191</td>\n",
       "    </tr>\n",
       "    <tr>\n",
       "      <th>2019</th>\n",
       "      <td>296262.964540</td>\n",
       "    </tr>\n",
       "    <tr>\n",
       "      <th>2020</th>\n",
       "      <td>282179.625301</td>\n",
       "    </tr>\n",
       "    <tr>\n",
       "      <th>2021</th>\n",
       "      <td>290259.154727</td>\n",
       "    </tr>\n",
       "    <tr>\n",
       "      <th>2022</th>\n",
       "      <td>288709.342428</td>\n",
       "    </tr>\n",
       "    <tr>\n",
       "      <th>2023</th>\n",
       "      <td>295417.034372</td>\n",
       "    </tr>\n",
       "  </tbody>\n",
       "</table>\n",
       "</div><br><label><b>dtype:</b> float64</label>"
      ],
      "text/plain": [
       "year\n",
       "1994    255362.616067\n",
       "1995    261295.539977\n",
       "1996    268165.253792\n",
       "1997    268572.462759\n",
       "1998    263785.839226\n",
       "1999    261673.079281\n",
       "2000    267658.206333\n",
       "2001    267717.651236\n",
       "2002    268861.172125\n",
       "2003    272519.761468\n",
       "2004    278264.230587\n",
       "2005    283329.831252\n",
       "2006    284045.951639\n",
       "2007    287178.442202\n",
       "2008    275505.937890\n",
       "2009    261752.438168\n",
       "2010    273578.934558\n",
       "2011    270625.698298\n",
       "2012    274245.139290\n",
       "2013    281318.790395\n",
       "2014    280885.157514\n",
       "2015    290854.238781\n",
       "2016    293869.044607\n",
       "2017    298079.252991\n",
       "2018    297105.234191\n",
       "2019    296262.964540\n",
       "2020    282179.625301\n",
       "2021    290259.154727\n",
       "2022    288709.342428\n",
       "2023    295417.034372\n",
       "dtype: float64"
      ]
     },
     "execution_count": 20,
     "metadata": {},
     "output_type": "execute_result"
    }
   ],
   "source": [
    "res.fittedvalues"
   ]
  },
  {
   "cell_type": "markdown",
   "id": "U5wsV6aarwUT",
   "metadata": {
    "id": "U5wsV6aarwUT"
   },
   "source": [
    "コード13.3.9"
   ]
  },
  {
   "cell_type": "code",
   "execution_count": 21,
   "id": "844cdcf0-9610-462f-8cdc-7ee7a9687450",
   "metadata": {
    "colab": {
     "base_uri": "https://localhost:8080/",
     "height": 451
    },
    "executionInfo": {
     "elapsed": 345,
     "status": "ok",
     "timestamp": 1751100607729,
     "user": {
      "displayName": "T Haruyama",
      "userId": "09851044792665346893"
     },
     "user_tz": -540
    },
    "id": "844cdcf0-9610-462f-8cdc-7ee7a9687450",
    "outputId": "07806fa8-e2d6-4136-e356-887db1acc590"
   },
   "outputs": [
    {
     "data": {
      "image/png": "[encoded data removed]",
      "text/plain": [
       "<Figure size 640x480 with 1 Axes>"
      ]
     },
     "metadata": {},
     "output_type": "display_data"
    }
   ],
   "source": [
    "df[\"fitted\"] = res.fittedvalues         # 予測値の列を追加\n",
    "plt.plot(\"rinc\", \"fitted\", data=df,     # 回帰直線\n",
    "          color=\"black\", label=\"予測値\")\n",
    "plt.scatter(\"rinc\", \"rcon\", data=df,    # 散布図\n",
    "            color=\"black\", label=\"データ\")\n",
    "plt.legend()\n",
    "plt.xlabel(\"所得\", size=12)\n",
    "plt.ylabel(\"消費\", size=12)\n",
    "plt.show()"
   ]
  },
  {
   "cell_type": "markdown",
   "id": "QgnGqv92t_DO",
   "metadata": {
    "id": "QgnGqv92t_DO"
   },
   "source": [
    "### 結果の解釈"
   ]
  },
  {
   "cell_type": "markdown",
   "id": "_wBc1eUT4mEp",
   "metadata": {
    "id": "_wBc1eUT4mEp"
   },
   "source": [
    "## 今後の実証分析の学習のために"
   ]
  },
  {
   "cell_type": "code",
   "execution_count": 21,
   "id": "JBvC4i1v4qpA",
   "metadata": {
    "executionInfo": {
     "elapsed": 9,
     "status": "ok",
     "timestamp": 1751100607737,
     "user": {
      "displayName": "T Haruyama",
      "userId": "09851044792665346893"
     },
     "user_tz": -540
    },
    "id": "JBvC4i1v4qpA"
   },
   "outputs": [],
   "source": []
  }
 ],
 "metadata": {
  "colab": {
   "provenance": []
  },
  "kernelspec": {
   "display_name": "Python 3 (ipykernel)",
   "language": "python",
   "name": "python3"
  },
  "language_info": {
   "codemirror_mode": {
    "name": "ipython",
    "version": 3
   },
   "file_extension": ".py",
   "mimetype": "text/x-python",
   "name": "python",
   "nbconvert_exporter": "python",
   "pygments_lexer": "ipython3",
   "version": "3.13.3"
  }
 },
 "nbformat": 4,
 "nbformat_minor": 5
}
