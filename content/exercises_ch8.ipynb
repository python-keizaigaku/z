{
 "cells": [
  {
   "cell_type": "markdown",
   "id": "0",
   "metadata": {
    "id": "62e53ca7-f4da-4e20-bfff-d56b48fb7b6e"
   },
   "source": [
    "# 8章：演習問題の解答"
   ]
  },
  {
   "cell_type": "code",
   "execution_count": null,
   "id": "1",
   "metadata": {
    "colab": {
     "base_uri": "https://localhost:8080/"
    },
    "executionInfo": {
     "elapsed": 16890,
     "status": "ok",
     "timestamp": 1758079087916,
     "user": {
      "displayName": "T Haruyama",
      "userId": "09851044792665346893"
     },
     "user_tz": -540
    },
    "id": "707659ed-f099-4bcc-887a-b215ccaf9528",
    "outputId": "59a3dae0-40c9-4258-d065-024d64b3b14d"
   },
   "outputs": [],
   "source": [
    "%pip install -q japanize-matplotlib py4macro\n",
    "import japanize_matplotlib\n",
    "import matplotlib.pyplot as plt\n",
    "import py4macro\n",
    "import random"
   ]
  },
  {
   "cell_type": "markdown",
   "id": "2",
   "metadata": {
    "id": "d3a47464-b62b-45a0-b156-5525b85eb858"
   },
   "source": [
    "## 演習1"
   ]
  },
  {
   "cell_type": "markdown",
   "id": "3",
   "metadata": {
    "id": "1b74aede-6a50-4346-960e-1efae17e0d04"
   },
   "source": [
    "### (1)"
   ]
  },
  {
   "cell_type": "code",
   "execution_count": null,
   "id": "4",
   "metadata": {
    "executionInfo": {
     "elapsed": 1,
     "status": "ok",
     "timestamp": 1758079087924,
     "user": {
      "displayName": "T Haruyama",
      "userId": "09851044792665346893"
     },
     "user_tz": -540
    },
    "id": "c0500e7f-4e4b-4731-b988-fc1654416c8b"
   },
   "outputs": [],
   "source": [
    "def cobb_douglas(K, A=1, L=1, a=0.3):\n",
    "    Y = A * K**a * L**(1-a)\n",
    "    return Y"
   ]
  },
  {
   "cell_type": "markdown",
   "id": "5",
   "metadata": {
    "id": "b821f6f1-7165-48c3-a831-2b8215a61308"
   },
   "source": [
    "### (2)"
   ]
  },
  {
   "cell_type": "code",
   "execution_count": null,
   "id": "6",
   "metadata": {
    "colab": {
     "base_uri": "https://localhost:8080/",
     "height": 454
    },
    "executionInfo": {
     "elapsed": 3440,
     "status": "ok",
     "timestamp": 1758079091365,
     "user": {
      "displayName": "T Haruyama",
      "userId": "09851044792665346893"
     },
     "user_tz": -540
    },
    "id": "eb8a0dd7-7e29-4f85-9860-38c74801bd25",
    "outputId": "45e2ce40-1e34-4b00-9749-fbf986b62696"
   },
   "outputs": [],
   "source": [
    "k = py4macro.xvalues(0, 10, 1000)\n",
    "y = [cobb_douglas(i) for i in k]\n",
    "\n",
    "plt.plot(k, y)\n",
    "plt.xlabel(\"資本\", size=15)\n",
    "plt.ylabel(\"産出量\", size=15)\n",
    "plt.grid()\n",
    "plt.show()"
   ]
  },
  {
   "cell_type": "markdown",
   "id": "7",
   "metadata": {
    "id": "151bb918-55db-45e3-a6e0-c5dc42fd2f33"
   },
   "source": [
    "### (3)"
   ]
  },
  {
   "cell_type": "code",
   "execution_count": null,
   "id": "8",
   "metadata": {
    "colab": {
     "base_uri": "https://localhost:8080/",
     "height": 454
    },
    "executionInfo": {
     "elapsed": 10,
     "status": "ok",
     "timestamp": 1758079091374,
     "user": {
      "displayName": "T Haruyama",
      "userId": "09851044792665346893"
     },
     "user_tz": -540
    },
    "id": "ce2ab979-4a83-464c-a944-4a7a7f0a4904",
    "outputId": "a2f5c0ec-1d46-46b6-bc71-6465cb0a2b83"
   },
   "outputs": [],
   "source": [
    "y_A2 = [cobb_douglas(i, A=2) for i in k]\n",
    "\n",
    "plt.plot(k, y, label=\"A=1\")\n",
    "plt.plot(k, y_A2, label=\"A=2\")\n",
    "plt.xlabel(\"資本\", size=15)\n",
    "plt.ylabel(\"産出量\", size=15)\n",
    "plt.legend()\n",
    "plt.grid()\n",
    "plt.show()"
   ]
  },
  {
   "cell_type": "markdown",
   "id": "9",
   "metadata": {
    "id": "1995f7b7-aabe-4a02-880f-952212693217"
   },
   "source": [
    "### (4)"
   ]
  },
  {
   "cell_type": "code",
   "execution_count": null,
   "id": "10",
   "metadata": {
    "colab": {
     "base_uri": "https://localhost:8080/",
     "height": 454
    },
    "executionInfo": {
     "elapsed": 6,
     "status": "ok",
     "timestamp": 1758079091378,
     "user": {
      "displayName": "T Haruyama",
      "userId": "09851044792665346893"
     },
     "user_tz": -540
    },
    "id": "ab50f079-4931-4e8f-86e9-dc7f3741c12b",
    "outputId": "4a273663-e641-40ae-fd5f-73f9ecda7ef5"
   },
   "outputs": [],
   "source": [
    "y_L2 = [cobb_douglas(i, L=2) for i in k]\n",
    "\n",
    "plt.plot(k, y, label=\"L=1\")\n",
    "plt.plot(k, y_L2, label=\"L=2\")\n",
    "plt.xlabel(\"資本\", size=15)\n",
    "plt.ylabel(\"産出量\", size=15)\n",
    "plt.legend()\n",
    "plt.grid()\n",
    "plt.show()"
   ]
  },
  {
   "cell_type": "markdown",
   "id": "11",
   "metadata": {
    "id": "7dc0cff0-9970-4109-9fa6-45f704f97719"
   },
   "source": [
    "### (5)"
   ]
  },
  {
   "cell_type": "markdown",
   "id": "12",
   "metadata": {
    "id": "_d_Iq-keE_GB"
   },
   "source": [
    "次のコードの`zip()`関数の引数：\n",
    "* `k[:-1]`：最後の要素を除いたリスト（「今期」の`k`の値に使う）\n",
    "* `k[1:]`：最初の要素を除いたリスト（「次期」の`k`の値に使う）\n",
    "* `y[:-1]`：最後の要素を除いたリスト（「今期」の`y`の値に使う）\n",
    "* `y[1:]`：最初の要素を除いたリスト（「次期」の`y`の値に使う）\n",
    "\n",
    "また，`res`は差分の比率になるため，「資本`1`単位増加した場合の産出量の増加分」と解釈できます。"
   ]
  },
  {
   "cell_type": "code",
   "execution_count": null,
   "id": "13",
   "metadata": {
    "executionInfo": {
     "elapsed": 2,
     "status": "ok",
     "timestamp": 1758079091379,
     "user": {
      "displayName": "T Haruyama",
      "userId": "09851044792665346893"
     },
     "user_tz": -540
    },
    "id": "0cbc6004-344c-4bc5-814a-f5b6f3b80881"
   },
   "outputs": [],
   "source": [
    "mpk = []\n",
    "\n",
    "for k0, k1, y0, y1 in zip(k[:-1], k[1:], y[:-1], y[1:]):\n",
    "\n",
    "    k_diff = k1 - k0        # kの連続する要素の差分\n",
    "    y_diff = y1 - y0        # yの連続する要素の差分\n",
    "    res = y_diff / k_diff   # 差分の比率\n",
    "    mpk.append( res )\n",
    "\n",
    "# mpk"
   ]
  },
  {
   "cell_type": "markdown",
   "id": "14",
   "metadata": {
    "id": "b18a127f-8c52-4350-8ce7-b0c816c1d6d3"
   },
   "source": [
    "### (6)"
   ]
  },
  {
   "cell_type": "code",
   "execution_count": null,
   "id": "15",
   "metadata": {
    "colab": {
     "base_uri": "https://localhost:8080/",
     "height": 454
    },
    "executionInfo": {
     "elapsed": 6,
     "status": "ok",
     "timestamp": 1758079091386,
     "user": {
      "displayName": "T Haruyama",
      "userId": "09851044792665346893"
     },
     "user_tz": -540
    },
    "id": "cac3f282-9a62-4cb6-a034-aaf756beaf3f",
    "outputId": "7250b5b3-edfb-4748-fb64-a49f73b67923"
   },
   "outputs": [],
   "source": [
    "n = 990\n",
    "plt.plot(k[-n:], mpk[-n:])\n",
    "plt.xlabel(\"資本\", size=15)\n",
    "plt.ylabel(\"資本の限界生産力\", size=15)\n",
    "plt.grid()\n",
    "plt.show()"
   ]
  },
  {
   "cell_type": "markdown",
   "id": "16",
   "metadata": {
    "id": "93f87cce-742e-4dc0-9657-6cc4e79a246e"
   },
   "source": [
    "コブダグラス生産関数の場合，資本の限界生産性は単調的に減少します。これを資本の限界生産性の低減と呼びます。"
   ]
  },
  {
   "cell_type": "markdown",
   "id": "17",
   "metadata": {
    "id": "8609eb21-b970-4d96-be52-755779849a5d"
   },
   "source": [
    "### (7)"
   ]
  },
  {
   "cell_type": "code",
   "execution_count": null,
   "id": "18",
   "metadata": {
    "executionInfo": {
     "elapsed": 1,
     "status": "ok",
     "timestamp": 1758079091388,
     "user": {
      "displayName": "T Haruyama",
      "userId": "09851044792665346893"
     },
     "user_tz": -540
    },
    "id": "b6933fd0-341f-4c91-a2c2-05dec309f7c4"
   },
   "outputs": [],
   "source": [
    "mpk_A2 = []\n",
    "\n",
    "for k0, k1, y0, y1 in zip(k[:-1], k[1:], y_A2[:-1], y_A2[1:]):\n",
    "\n",
    "    k_diff = k1 - k0        # kの連続する要素の差分\n",
    "    y_diff = y1 - y0        # yの連続する要素の差分\n",
    "    res = y_diff / k_diff   # 差分の比率\n",
    "    mpk_A2.append( res )\n",
    "\n",
    "# mpk_A2"
   ]
  },
  {
   "cell_type": "markdown",
   "id": "19",
   "metadata": {
    "id": "d806f629-d040-4378-9f6b-fad0384056cc"
   },
   "source": [
    "### (8)"
   ]
  },
  {
   "cell_type": "code",
   "execution_count": null,
   "id": "20",
   "metadata": {
    "colab": {
     "base_uri": "https://localhost:8080/",
     "height": 454
    },
    "executionInfo": {
     "elapsed": 2,
     "status": "ok",
     "timestamp": 1758079091392,
     "user": {
      "displayName": "T Haruyama",
      "userId": "09851044792665346893"
     },
     "user_tz": -540
    },
    "id": "2b362731-28f1-4cb0-a049-61de9a10d334",
    "outputId": "8936f583-0fb2-4368-ff1d-00587551c813"
   },
   "outputs": [],
   "source": [
    "n = 990\n",
    "plt.plot(k[-n:], mpk[-n:], label=\"A=1\")\n",
    "plt.plot(k[-n:], mpk_A2[-n:], label=\"A=2\")\n",
    "plt.xlabel(\"資本\", size=15)\n",
    "plt.ylabel(\"資本の限界生産力\", size=15)\n",
    "plt.grid()\n",
    "plt.legend()\n",
    "plt.show()"
   ]
  },
  {
   "cell_type": "markdown",
   "id": "21",
   "metadata": {
    "id": "jRhjCu6MGKNm"
   },
   "source": [
    "生産性`A`が増加すると，資本の限界生産力も上昇します。"
   ]
  },
  {
   "cell_type": "markdown",
   "id": "22",
   "metadata": {
    "id": "b2bde5d3-6b4e-4085-9bbb-55f8e4e3272c"
   },
   "source": [
    "## 演習2"
   ]
  },
  {
   "cell_type": "markdown",
   "id": "23",
   "metadata": {
    "id": "a716b6df-402a-426f-8bb0-4241f1074136"
   },
   "source": [
    "### (1)"
   ]
  },
  {
   "cell_type": "code",
   "execution_count": null,
   "id": "24",
   "metadata": {
    "executionInfo": {
     "elapsed": 1,
     "status": "ok",
     "timestamp": 1758079091394,
     "user": {
      "displayName": "T Haruyama",
      "userId": "09851044792665346893"
     },
     "user_tz": -540
    },
    "id": "f9887ecb-6ac9-40e6-9c99-df4065145840"
   },
   "outputs": [],
   "source": [
    "sales = [random.gauss(50, 10) for _ in range(100)]  # 単位：億円"
   ]
  },
  {
   "cell_type": "markdown",
   "id": "25",
   "metadata": {
    "id": "5819ccbe-bb91-4eb5-9b50-87aa94cc9d0d"
   },
   "source": [
    "### (2)"
   ]
  },
  {
   "cell_type": "code",
   "execution_count": null,
   "id": "26",
   "metadata": {
    "colab": {
     "base_uri": "https://localhost:8080/",
     "height": 469
    },
    "executionInfo": {
     "elapsed": 8,
     "status": "ok",
     "timestamp": 1758079091403,
     "user": {
      "displayName": "T Haruyama",
      "userId": "09851044792665346893"
     },
     "user_tz": -540
    },
    "id": "ab5094b9-13bd-46fc-b1fc-d300e931515f",
    "outputId": "9639db83-dab8-4f22-d872-90ecc687a2a5"
   },
   "outputs": [],
   "source": [
    "plt.hist(sales, bins=10, edgecolor=\"black\")\n",
    "plt.xlabel(\"売上高（億円）\")\n",
    "plt.ylabel(\"企業数\")\n",
    "plt.title(\"企業の年間売上高分布\")\n",
    "plt.grid()\n",
    "plt.show()"
   ]
  },
  {
   "cell_type": "markdown",
   "id": "27",
   "metadata": {
    "id": "6f7a5417-faf8-49e2-b60d-e4fdf4743a25"
   },
   "source": [
    "## 演習3"
   ]
  },
  {
   "cell_type": "markdown",
   "id": "28",
   "metadata": {
    "id": "7cc1b78a-4dc7-4563-aa63-70da50643a2a"
   },
   "source": [
    "### (1)"
   ]
  },
  {
   "cell_type": "code",
   "execution_count": null,
   "id": "29",
   "metadata": {
    "executionInfo": {
     "elapsed": 1,
     "status": "ok",
     "timestamp": 1758079091404,
     "user": {
      "displayName": "T Haruyama",
      "userId": "09851044792665346893"
     },
     "user_tz": -540
    },
    "id": "26d4cc11-f771-4ab4-ae61-e7db57327cdd"
   },
   "outputs": [],
   "source": [
    "spending = [random.gauss(300, 50) for _ in range(100)]  # 単位：千円"
   ]
  },
  {
   "cell_type": "markdown",
   "id": "30",
   "metadata": {
    "id": "4f91d86d-f703-422b-b1b4-e957fca9eff6"
   },
   "source": [
    "### (2)"
   ]
  },
  {
   "cell_type": "code",
   "execution_count": null,
   "id": "31",
   "metadata": {
    "executionInfo": {
     "elapsed": 1,
     "status": "ok",
     "timestamp": 1758079091407,
     "user": {
      "displayName": "T Haruyama",
      "userId": "09851044792665346893"
     },
     "user_tz": -540
    },
    "id": "7ddd94cd-c097-4e01-96d9-661784da9fe3"
   },
   "outputs": [],
   "source": [
    "age = [random.randint(18, 70) for _ in range(100)]"
   ]
  },
  {
   "cell_type": "markdown",
   "id": "32",
   "metadata": {
    "id": "25c3935c-e72c-417a-a66a-28dbe399292b"
   },
   "source": [
    "### (3)"
   ]
  },
  {
   "cell_type": "code",
   "execution_count": null,
   "id": "33",
   "metadata": {
    "colab": {
     "base_uri": "https://localhost:8080/",
     "height": 472
    },
    "executionInfo": {
     "elapsed": 3,
     "status": "ok",
     "timestamp": 1758079091410,
     "user": {
      "displayName": "T Haruyama",
      "userId": "09851044792665346893"
     },
     "user_tz": -540
    },
    "id": "f8c1ade6-b6f9-4f81-9402-e735d2e6c130",
    "outputId": "47243eba-8cc4-4482-f3fb-97dbbe528ced"
   },
   "outputs": [],
   "source": [
    "plt.scatter(age, spending, alpha=0.7)\n",
    "plt.xlabel(\"年齢\")\n",
    "plt.ylabel(\"月間支出額（千円）\", size=15)\n",
    "plt.title(\"年齢と月間支出額の関係\", size=15)\n",
    "plt.grid()\n",
    "plt.show()"
   ]
  },
  {
   "cell_type": "code",
   "execution_count": null,
   "id": "34",
   "metadata": {
    "executionInfo": {
     "elapsed": 0,
     "status": "ok",
     "timestamp": 1758079091411,
     "user": {
      "displayName": "T Haruyama",
      "userId": "09851044792665346893"
     },
     "user_tz": -540
    },
    "id": "RNoU6L4CGz-y"
   },
   "outputs": [],
   "source": []
  }
 ],
 "metadata": {
  "colab": {
   "provenance": []
  },
  "kernelspec": {
   "display_name": "Python 3 (ipykernel)",
   "language": "python",
   "name": "python3"
  },
  "language_info": {
   "codemirror_mode": {
    "name": "ipython",
    "version": 3
   },
   "file_extension": ".py",
   "mimetype": "text/x-python",
   "name": "python",
   "nbconvert_exporter": "python",
   "pygments_lexer": "ipython3",
   "version": "3.13.7"
  }
 },
 "nbformat": 4,
 "nbformat_minor": 5
}
